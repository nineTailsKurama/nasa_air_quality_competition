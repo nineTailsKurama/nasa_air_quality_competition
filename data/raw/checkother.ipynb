{
 "cells": [
  {
   "cell_type": "code",
   "execution_count": 13,
   "id": "9254590c",
   "metadata": {},
   "outputs": [],
   "source": [
    "import glob\n",
    "files = glob.glob(\"train/misr/2018/*\")"
   ]
  },
  {
   "cell_type": "code",
   "execution_count": 12,
   "id": "2c9c8ff9",
   "metadata": {},
   "outputs": [],
   "source": [
    "from netCDF4 import Dataset\n",
    "import numpy as np"
   ]
  },
  {
   "cell_type": "code",
   "execution_count": 14,
   "id": "1132fdc3",
   "metadata": {},
   "outputs": [],
   "source": [
    "my_example_nc_file = files[0]\n",
    "fh = Dataset(my_example_nc_file, mode='r')"
   ]
  },
  {
   "cell_type": "code",
   "execution_count": 20,
   "id": "2c38aceb",
   "metadata": {},
   "outputs": [
    {
     "data": {
      "text/plain": [
       "{'4.4_KM_PRODUCTS': <class 'netCDF4._netCDF4.Group'>\n",
       " group /4.4_KM_PRODUCTS:\n",
       "     GCTP_projection_parameters: [ 6.37813700e+06 -6.69434800e-03  0.00000000e+00  9.80180138e+07\n",
       "   6.50570287e+07  0.00000000e+00  0.00000000e+00  0.00000000e+00\n",
       "   9.88800000e+01  0.00000000e+00  0.00000000e+00  0.00000000e+00\n",
       "   0.00000000e+00]\n",
       "     resolution_in_meters: 4400\n",
       "     block_size_in_lines: 32\n",
       "     block_size_in_samples: 128\n",
       "     dimensions(sizes): X_Dim(4000), Y_Dim(512), Block_Number(125), Camera_Dim(9), Mixture_Dim(74), Spectral_AOD_Scaling_Coeff_Dim(3)\n",
       "     variables(dimensions): float64 X_Dim(X_Dim), float64 Y_Dim(Y_Dim), int32 Block_Number(Block_Number), int32 Block_Start_X_Index(Block_Number), int32 Block_Start_Y_Index(Block_Number), float64 Time(X_Dim), int32 Camera_Dim(Camera_Dim), int32 Mixture_Dim(Mixture_Dim), int32 Spectral_AOD_Scaling_Coeff_Dim(Spectral_AOD_Scaling_Coeff_Dim), float32 Latitude(X_Dim, Y_Dim), float32 Longitude(X_Dim, Y_Dim), int16 Elevation(X_Dim, Y_Dim), uint16 Year(X_Dim, Y_Dim), uint16 Day_Of_Year(X_Dim, Y_Dim), uint8 Month(X_Dim, Y_Dim), uint8 Day(X_Dim, Y_Dim), uint8 Hour(X_Dim, Y_Dim), uint8 Minute(X_Dim, Y_Dim), uint8 Land_Water_Retrieval_Type(X_Dim, Y_Dim), float32 Aerosol_Optical_Depth(X_Dim, Y_Dim), float32 Aerosol_Optical_Depth_Uncertainty(X_Dim, Y_Dim), float32 Angstrom_Exponent_550_860nm(X_Dim, Y_Dim), float32 Spectral_AOD_Scaling_Coeff(X_Dim, Y_Dim, Spectral_AOD_Scaling_Coeff_Dim), float32 Absorption_Aerosol_Optical_Depth(X_Dim, Y_Dim), float32 Nonspherical_Aerosol_Optical_Depth(X_Dim, Y_Dim), float32 Small_Mode_Aerosol_Optical_Depth(X_Dim, Y_Dim), float32 Medium_Mode_Aerosol_Optical_Depth(X_Dim, Y_Dim), float32 Large_Mode_Aerosol_Optical_Depth(X_Dim, Y_Dim)\n",
       "     groups: AUXILIARY, GEOMETRY,\n",
       " 'METADATA': <class 'netCDF4._netCDF4.Group'>\n",
       " group /METADATA:\n",
       "     dimensions(sizes): \n",
       "     variables(dimensions): \n",
       "     groups: COMPONENT_PARTICLE_INFORMATION, MIXTURE_INFORMATION,\n",
       " 'HDFEOS INFORMATION': <class 'netCDF4._netCDF4.Group'>\n",
       " group /HDFEOS INFORMATION:\n",
       "     dimensions(sizes): pos(37010)\n",
       "     variables(dimensions): |S1 coremetadata(pos)\n",
       "     groups: }"
      ]
     },
     "execution_count": 20,
     "metadata": {},
     "output_type": "execute_result"
    }
   ],
   "source": [
    "fh.groups"
   ]
  },
  {
   "cell_type": "code",
   "execution_count": 23,
   "id": "44bb6fe7",
   "metadata": {},
   "outputs": [
    {
     "data": {
      "text/plain": [
       "['float64',\n",
       " 'X_Dim(X_Dim),',\n",
       " 'float64',\n",
       " 'Y_Dim(Y_Dim),',\n",
       " 'int32',\n",
       " 'Block_Number(Block_Number),',\n",
       " 'int32',\n",
       " 'Block_Start_X_Index(Block_Number),',\n",
       " 'int32',\n",
       " 'Block_Start_Y_Index(Block_Number),',\n",
       " 'float64',\n",
       " 'Time(X_Dim),',\n",
       " 'int32',\n",
       " 'Camera_Dim(Camera_Dim),',\n",
       " 'int32',\n",
       " 'Mixture_Dim(Mixture_Dim),',\n",
       " 'int32',\n",
       " 'Spectral_AOD_Scaling_Coeff_Dim(Spectral_AOD_Scaling_Coeff_Dim),',\n",
       " 'float32',\n",
       " 'Latitude(X_Dim,',\n",
       " 'Y_Dim),',\n",
       " 'float32',\n",
       " 'Longitude(X_Dim,',\n",
       " 'Y_Dim),',\n",
       " 'int16',\n",
       " 'Elevation(X_Dim,',\n",
       " 'Y_Dim),',\n",
       " 'uint16',\n",
       " 'Year(X_Dim,',\n",
       " 'Y_Dim),',\n",
       " 'uint16',\n",
       " 'Day_Of_Year(X_Dim,',\n",
       " 'Y_Dim),',\n",
       " 'uint8',\n",
       " 'Month(X_Dim,',\n",
       " 'Y_Dim),',\n",
       " 'uint8',\n",
       " 'Day(X_Dim,',\n",
       " 'Y_Dim),',\n",
       " 'uint8',\n",
       " 'Hour(X_Dim,',\n",
       " 'Y_Dim),',\n",
       " 'uint8',\n",
       " 'Minute(X_Dim,',\n",
       " 'Y_Dim),',\n",
       " 'uint8',\n",
       " 'Land_Water_Retrieval_Type(X_Dim,',\n",
       " 'Y_Dim),',\n",
       " 'float32',\n",
       " 'Aerosol_Optical_Depth(X_Dim,',\n",
       " 'Y_Dim),',\n",
       " 'float32',\n",
       " 'Aerosol_Optical_Depth_Uncertainty(X_Dim,',\n",
       " 'Y_Dim),',\n",
       " 'float32',\n",
       " 'Angstrom_Exponent_550_860nm(X_Dim,',\n",
       " 'Y_Dim),',\n",
       " 'float32',\n",
       " 'Spectral_AOD_Scaling_Coeff(X_Dim,',\n",
       " 'Y_Dim,',\n",
       " 'Spectral_AOD_Scaling_Coeff_Dim),',\n",
       " 'float32',\n",
       " 'Absorption_Aerosol_Optical_Depth(X_Dim,',\n",
       " 'Y_Dim),',\n",
       " 'float32',\n",
       " 'Nonspherical_Aerosol_Optical_Depth(X_Dim,',\n",
       " 'Y_Dim),',\n",
       " 'float32',\n",
       " 'Small_Mode_Aerosol_Optical_Depth(X_Dim,',\n",
       " 'Y_Dim),',\n",
       " 'float32',\n",
       " 'Medium_Mode_Aerosol_Optical_Depth(X_Dim,',\n",
       " 'Y_Dim),',\n",
       " 'float32',\n",
       " 'Large_Mode_Aerosol_Optical_Depth(X_Dim,',\n",
       " 'Y_Dim)']"
      ]
     },
     "execution_count": 23,
     "metadata": {},
     "output_type": "execute_result"
    }
   ],
   "source": [
    "\"float64 X_Dim(X_Dim), float64 Y_Dim(Y_Dim), int32 Block_Number(Block_Number), int32 Block_Start_X_Index(Block_Number), int32 Block_Start_Y_Index(Block_Number), float64 Time(X_Dim), int32 Camera_Dim(Camera_Dim), int32 Mixture_Dim(Mixture_Dim), int32 Spectral_AOD_Scaling_Coeff_Dim(Spectral_AOD_Scaling_Coeff_Dim), float32 Latitude(X_Dim, Y_Dim), float32 Longitude(X_Dim, Y_Dim), int16 Elevation(X_Dim, Y_Dim), uint16 Year(X_Dim, Y_Dim), uint16 Day_Of_Year(X_Dim, Y_Dim), uint8 Month(X_Dim, Y_Dim), uint8 Day(X_Dim, Y_Dim), uint8 Hour(X_Dim, Y_Dim), uint8 Minute(X_Dim, Y_Dim), uint8 Land_Water_Retrieval_Type(X_Dim, Y_Dim), float32 Aerosol_Optical_Depth(X_Dim, Y_Dim), float32 Aerosol_Optical_Depth_Uncertainty(X_Dim, Y_Dim), float32 Angstrom_Exponent_550_860nm(X_Dim, Y_Dim), float32 Spectral_AOD_Scaling_Coeff(X_Dim, Y_Dim, Spectral_AOD_Scaling_Coeff_Dim), float32 Absorption_Aerosol_Optical_Depth(X_Dim, Y_Dim), float32 Nonspherical_Aerosol_Optical_Depth(X_Dim, Y_Dim), float32 Small_Mode_Aerosol_Optical_Depth(X_Dim, Y_Dim), float32 Medium_Mode_Aerosol_Optical_Depth(X_Dim, Y_Dim), float32 Large_Mode_Aerosol_Optical_Depth(X_Dim, Y_Dim)\".split()"
   ]
  },
  {
   "cell_type": "code",
   "execution_count": null,
   "id": "ff781218",
   "metadata": {},
   "outputs": [],
   "source": []
  }
 ],
 "metadata": {
  "kernelspec": {
   "display_name": "cv",
   "language": "python",
   "name": "cv"
  },
  "language_info": {
   "codemirror_mode": {
    "name": "ipython",
    "version": 3
   },
   "file_extension": ".py",
   "mimetype": "text/x-python",
   "name": "python",
   "nbconvert_exporter": "python",
   "pygments_lexer": "ipython3",
   "version": "3.8.6"
  }
 },
 "nbformat": 4,
 "nbformat_minor": 5
}
