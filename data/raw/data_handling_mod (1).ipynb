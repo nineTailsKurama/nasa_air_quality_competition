{
 "cells": [
  {
   "cell_type": "code",
   "execution_count": 1,
   "id": "31b8c17b",
   "metadata": {},
   "outputs": [],
   "source": [
    "import pandas as pd\n",
    "from datetime import datetime\n",
    "from osgeo import gdal\n",
    "import numpy as np\n",
    "import subprocess\n",
    "import glob\n",
    "# from shapely.geometry import Polygon\n",
    "import matplotlib.pyplot as plt\n",
    "from dateutil.parser import parse\n",
    "# from tensorflow import keras \n",
    "# from tensorflow.keras.models import Sequential\n",
    "# from tensorflow.keras.layers import Dense\n",
    "# from tensorflow.keras.wrappers.scikit_learn import KerasRegressor\n",
    "# from sklearn.model_selection import cross_val_score\n",
    "from collections import Counter"
   ]
  },
  {
   "cell_type": "code",
   "execution_count": 2,
   "id": "24b43664",
   "metadata": {},
   "outputs": [],
   "source": [
    "train_labels = pd.read_csv(\"train_labels.csv\")\n",
    "grid_metadata = pd.read_csv(\"grid_metadata.csv\")\n",
    "satellite_metadata = pd.read_csv(\"pm25_satellite_metadata.csv\")\n",
    "satellite_metadata['Date'] =  pd.to_datetime(satellite_metadata['time_end'], format='%Y-%m-%d')\n",
    "test_labels = pd.read_csv(\"submission_format.csv\")"
   ]
  },
  {
   "cell_type": "code",
   "execution_count": 3,
   "id": "fc017018",
   "metadata": {},
   "outputs": [],
   "source": [
    "train_labels[\"datetime_dt\"]= pd.to_datetime(train_labels[\"datetime\"])"
   ]
  },
  {
   "cell_type": "code",
   "execution_count": 4,
   "id": "9457611d",
   "metadata": {},
   "outputs": [
    {
     "data": {
      "text/plain": [
       "grid_id\n",
       "3S31A    1047\n",
       "PG3MI    1042\n",
       "E5P9N    1040\n",
       "ZZ8JF    1038\n",
       "QJHW4    1036\n",
       "dtype: int64"
      ]
     },
     "execution_count": 4,
     "metadata": {},
     "output_type": "execute_result"
    }
   ],
   "source": [
    "train_labels.groupby(\"grid_id\").size().sort_values(ascending=False).head()"
   ]
  },
  {
   "cell_type": "raw",
   "id": "fa2c21e6",
   "metadata": {},
   "source": []
  },
  {
   "cell_type": "code",
   "execution_count": 5,
   "id": "09e0783c",
   "metadata": {},
   "outputs": [
    {
     "data": {
      "text/plain": [
       "<AxesSubplot:>"
      ]
     },
     "execution_count": 5,
     "metadata": {},
     "output_type": "execute_result"
    },
    {
     "data": {
      "image/png": "[encoded data removed]",
      "text/plain": [
       "<Figure size 432x288 with 1 Axes>"
      ]
     },
     "metadata": {
      "needs_background": "light"
     },
     "output_type": "display_data"
    }
   ],
   "source": [
    "train_labels[train_labels[\"grid_id\"]==\"PG3MI\"][\"value\"].plot()"
   ]
  },
  {
   "cell_type": "code",
   "execution_count": 6,
   "id": "06ab18ab",
   "metadata": {},
   "outputs": [
    {
     "data": {
      "text/html": [
       "<div>\n",
       "<style scoped>\n",
       "    .dataframe tbody tr th:only-of-type {\n",
       "        vertical-align: middle;\n",
       "    }\n",
       "\n",
       "    .dataframe tbody tr th {\n",
       "        vertical-align: top;\n",
       "    }\n",
       "\n",
       "    .dataframe thead th {\n",
       "        text-align: right;\n",
       "    }\n",
       "</style>\n",
       "<table border=\"1\" class=\"dataframe\">\n",
       "  <thead>\n",
       "    <tr style=\"text-align: right;\">\n",
       "      <th></th>\n",
       "      <th>datetime</th>\n",
       "      <th>grid_id</th>\n",
       "      <th>value</th>\n",
       "      <th>datetime_dt</th>\n",
       "    </tr>\n",
       "  </thead>\n",
       "  <tbody>\n",
       "    <tr>\n",
       "      <th>0</th>\n",
       "      <td>2018-02-01T08:00:00Z</td>\n",
       "      <td>3S31A</td>\n",
       "      <td>11.400000</td>\n",
       "      <td>2018-02-01 08:00:00+00:00</td>\n",
       "    </tr>\n",
       "    <tr>\n",
       "      <th>1</th>\n",
       "      <td>2018-02-01T08:00:00Z</td>\n",
       "      <td>A2FBI</td>\n",
       "      <td>17.000000</td>\n",
       "      <td>2018-02-01 08:00:00+00:00</td>\n",
       "    </tr>\n",
       "    <tr>\n",
       "      <th>2</th>\n",
       "      <td>2018-02-01T08:00:00Z</td>\n",
       "      <td>DJN0F</td>\n",
       "      <td>11.100000</td>\n",
       "      <td>2018-02-01 08:00:00+00:00</td>\n",
       "    </tr>\n",
       "    <tr>\n",
       "      <th>3</th>\n",
       "      <td>2018-02-01T08:00:00Z</td>\n",
       "      <td>E5P9N</td>\n",
       "      <td>22.100000</td>\n",
       "      <td>2018-02-01 08:00:00+00:00</td>\n",
       "    </tr>\n",
       "    <tr>\n",
       "      <th>4</th>\n",
       "      <td>2018-02-01T08:00:00Z</td>\n",
       "      <td>FRITQ</td>\n",
       "      <td>29.800000</td>\n",
       "      <td>2018-02-01 08:00:00+00:00</td>\n",
       "    </tr>\n",
       "    <tr>\n",
       "      <th>...</th>\n",
       "      <td>...</td>\n",
       "      <td>...</td>\n",
       "      <td>...</td>\n",
       "      <td>...</td>\n",
       "    </tr>\n",
       "    <tr>\n",
       "      <th>34307</th>\n",
       "      <td>2020-12-31T18:30:00Z</td>\n",
       "      <td>P8JA5</td>\n",
       "      <td>368.611111</td>\n",
       "      <td>2020-12-31 18:30:00+00:00</td>\n",
       "    </tr>\n",
       "    <tr>\n",
       "      <th>34308</th>\n",
       "      <td>2020-12-31T18:30:00Z</td>\n",
       "      <td>PW0JT</td>\n",
       "      <td>294.425000</td>\n",
       "      <td>2020-12-31 18:30:00+00:00</td>\n",
       "    </tr>\n",
       "    <tr>\n",
       "      <th>34309</th>\n",
       "      <td>2020-12-31T18:30:00Z</td>\n",
       "      <td>VXNN3</td>\n",
       "      <td>224.857143</td>\n",
       "      <td>2020-12-31 18:30:00+00:00</td>\n",
       "    </tr>\n",
       "    <tr>\n",
       "      <th>34310</th>\n",
       "      <td>2020-12-31T18:30:00Z</td>\n",
       "      <td>VYH7U</td>\n",
       "      <td>287.000000</td>\n",
       "      <td>2020-12-31 18:30:00+00:00</td>\n",
       "    </tr>\n",
       "    <tr>\n",
       "      <th>34311</th>\n",
       "      <td>2020-12-31T18:30:00Z</td>\n",
       "      <td>ZF3ZW</td>\n",
       "      <td>410.500000</td>\n",
       "      <td>2020-12-31 18:30:00+00:00</td>\n",
       "    </tr>\n",
       "  </tbody>\n",
       "</table>\n",
       "<p>34312 rows × 4 columns</p>\n",
       "</div>"
      ],
      "text/plain": [
       "                   datetime grid_id       value               datetime_dt\n",
       "0      2018-02-01T08:00:00Z   3S31A   11.400000 2018-02-01 08:00:00+00:00\n",
       "1      2018-02-01T08:00:00Z   A2FBI   17.000000 2018-02-01 08:00:00+00:00\n",
       "2      2018-02-01T08:00:00Z   DJN0F   11.100000 2018-02-01 08:00:00+00:00\n",
       "3      2018-02-01T08:00:00Z   E5P9N   22.100000 2018-02-01 08:00:00+00:00\n",
       "4      2018-02-01T08:00:00Z   FRITQ   29.800000 2018-02-01 08:00:00+00:00\n",
       "...                     ...     ...         ...                       ...\n",
       "34307  2020-12-31T18:30:00Z   P8JA5  368.611111 2020-12-31 18:30:00+00:00\n",
       "34308  2020-12-31T18:30:00Z   PW0JT  294.425000 2020-12-31 18:30:00+00:00\n",
       "34309  2020-12-31T18:30:00Z   VXNN3  224.857143 2020-12-31 18:30:00+00:00\n",
       "34310  2020-12-31T18:30:00Z   VYH7U  287.000000 2020-12-31 18:30:00+00:00\n",
       "34311  2020-12-31T18:30:00Z   ZF3ZW  410.500000 2020-12-31 18:30:00+00:00\n",
       "\n",
       "[34312 rows x 4 columns]"
      ]
     },
     "execution_count": 6,
     "metadata": {},
     "output_type": "execute_result"
    }
   ],
   "source": [
    "train_labels"
   ]
  },
  {
   "cell_type": "code",
   "execution_count": 7,
   "id": "48f17b62",
   "metadata": {},
   "outputs": [
    {
     "data": {
      "text/html": [
       "<div>\n",
       "<style scoped>\n",
       "    .dataframe tbody tr th:only-of-type {\n",
       "        vertical-align: middle;\n",
       "    }\n",
       "\n",
       "    .dataframe tbody tr th {\n",
       "        vertical-align: top;\n",
       "    }\n",
       "\n",
       "    .dataframe thead th {\n",
       "        text-align: right;\n",
       "    }\n",
       "</style>\n",
       "<table border=\"1\" class=\"dataframe\">\n",
       "  <thead>\n",
       "    <tr style=\"text-align: right;\">\n",
       "      <th></th>\n",
       "      <th>granule_id</th>\n",
       "      <th>time_start</th>\n",
       "      <th>time_end</th>\n",
       "      <th>product</th>\n",
       "      <th>location</th>\n",
       "      <th>split</th>\n",
       "      <th>us_url</th>\n",
       "      <th>eu_url</th>\n",
       "      <th>as_url</th>\n",
       "      <th>cksum</th>\n",
       "      <th>granule_size</th>\n",
       "      <th>Date</th>\n",
       "    </tr>\n",
       "  </thead>\n",
       "  <tbody>\n",
       "    <tr>\n",
       "      <th>0</th>\n",
       "      <td>20180201T191000_maiac_la_0.hdf</td>\n",
       "      <td>2018-02-01T17:25:00.000Z</td>\n",
       "      <td>2018-02-01 19:10:00+00:00</td>\n",
       "      <td>maiac</td>\n",
       "      <td>la</td>\n",
       "      <td>train</td>\n",
       "      <td>s3://drivendata-competition-airathon-public-us...</td>\n",
       "      <td>s3://drivendata-competition-airathon-public-eu...</td>\n",
       "      <td>s3://drivendata-competition-airathon-public-as...</td>\n",
       "      <td>911405771</td>\n",
       "      <td>10446736</td>\n",
       "      <td>2018-02-01 19:10:00+00:00</td>\n",
       "    </tr>\n",
       "    <tr>\n",
       "      <th>1</th>\n",
       "      <td>20180202T195000_maiac_la_0.hdf</td>\n",
       "      <td>2018-02-02T18:05:00.000Z</td>\n",
       "      <td>2018-02-02 19:50:00+00:00</td>\n",
       "      <td>maiac</td>\n",
       "      <td>la</td>\n",
       "      <td>train</td>\n",
       "      <td>s3://drivendata-competition-airathon-public-us...</td>\n",
       "      <td>s3://drivendata-competition-airathon-public-eu...</td>\n",
       "      <td>s3://drivendata-competition-airathon-public-as...</td>\n",
       "      <td>2244451908</td>\n",
       "      <td>11090180</td>\n",
       "      <td>2018-02-02 19:50:00+00:00</td>\n",
       "    </tr>\n",
       "    <tr>\n",
       "      <th>2</th>\n",
       "      <td>20180203T203000_maiac_la_0.hdf</td>\n",
       "      <td>2018-02-03T17:10:00.000Z</td>\n",
       "      <td>2018-02-03 20:30:00+00:00</td>\n",
       "      <td>maiac</td>\n",
       "      <td>la</td>\n",
       "      <td>train</td>\n",
       "      <td>s3://drivendata-competition-airathon-public-us...</td>\n",
       "      <td>s3://drivendata-competition-airathon-public-eu...</td>\n",
       "      <td>s3://drivendata-competition-airathon-public-as...</td>\n",
       "      <td>3799527997</td>\n",
       "      <td>12468482</td>\n",
       "      <td>2018-02-03 20:30:00+00:00</td>\n",
       "    </tr>\n",
       "    <tr>\n",
       "      <th>3</th>\n",
       "      <td>20180204T194000_maiac_la_0.hdf</td>\n",
       "      <td>2018-02-04T17:55:00.000Z</td>\n",
       "      <td>2018-02-04 19:40:00+00:00</td>\n",
       "      <td>maiac</td>\n",
       "      <td>la</td>\n",
       "      <td>train</td>\n",
       "      <td>s3://drivendata-competition-airathon-public-us...</td>\n",
       "      <td>s3://drivendata-competition-airathon-public-eu...</td>\n",
       "      <td>s3://drivendata-competition-airathon-public-as...</td>\n",
       "      <td>4105997844</td>\n",
       "      <td>13064424</td>\n",
       "      <td>2018-02-04 19:40:00+00:00</td>\n",
       "    </tr>\n",
       "    <tr>\n",
       "      <th>4</th>\n",
       "      <td>20180205T202000_maiac_la_0.hdf</td>\n",
       "      <td>2018-02-05T17:00:00.000Z</td>\n",
       "      <td>2018-02-05 20:20:00+00:00</td>\n",
       "      <td>maiac</td>\n",
       "      <td>la</td>\n",
       "      <td>train</td>\n",
       "      <td>s3://drivendata-competition-airathon-public-us...</td>\n",
       "      <td>s3://drivendata-competition-airathon-public-eu...</td>\n",
       "      <td>s3://drivendata-competition-airathon-public-as...</td>\n",
       "      <td>1805072340</td>\n",
       "      <td>12549313</td>\n",
       "      <td>2018-02-05 20:20:00+00:00</td>\n",
       "    </tr>\n",
       "  </tbody>\n",
       "</table>\n",
       "</div>"
      ],
      "text/plain": [
       "                       granule_id                time_start  \\\n",
       "0  20180201T191000_maiac_la_0.hdf  2018-02-01T17:25:00.000Z   \n",
       "1  20180202T195000_maiac_la_0.hdf  2018-02-02T18:05:00.000Z   \n",
       "2  20180203T203000_maiac_la_0.hdf  2018-02-03T17:10:00.000Z   \n",
       "3  20180204T194000_maiac_la_0.hdf  2018-02-04T17:55:00.000Z   \n",
       "4  20180205T202000_maiac_la_0.hdf  2018-02-05T17:00:00.000Z   \n",
       "\n",
       "                    time_end product location  split  \\\n",
       "0  2018-02-01 19:10:00+00:00   maiac       la  train   \n",
       "1  2018-02-02 19:50:00+00:00   maiac       la  train   \n",
       "2  2018-02-03 20:30:00+00:00   maiac       la  train   \n",
       "3  2018-02-04 19:40:00+00:00   maiac       la  train   \n",
       "4  2018-02-05 20:20:00+00:00   maiac       la  train   \n",
       "\n",
       "                                              us_url  \\\n",
       "0  s3://drivendata-competition-airathon-public-us...   \n",
       "1  s3://drivendata-competition-airathon-public-us...   \n",
       "2  s3://drivendata-competition-airathon-public-us...   \n",
       "3  s3://drivendata-competition-airathon-public-us...   \n",
       "4  s3://drivendata-competition-airathon-public-us...   \n",
       "\n",
       "                                              eu_url  \\\n",
       "0  s3://drivendata-competition-airathon-public-eu...   \n",
       "1  s3://drivendata-competition-airathon-public-eu...   \n",
       "2  s3://drivendata-competition-airathon-public-eu...   \n",
       "3  s3://drivendata-competition-airathon-public-eu...   \n",
       "4  s3://drivendata-competition-airathon-public-eu...   \n",
       "\n",
       "                                              as_url       cksum  \\\n",
       "0  s3://drivendata-competition-airathon-public-as...   911405771   \n",
       "1  s3://drivendata-competition-airathon-public-as...  2244451908   \n",
       "2  s3://drivendata-competition-airathon-public-as...  3799527997   \n",
       "3  s3://drivendata-competition-airathon-public-as...  4105997844   \n",
       "4  s3://drivendata-competition-airathon-public-as...  1805072340   \n",
       "\n",
       "   granule_size                      Date  \n",
       "0      10446736 2018-02-01 19:10:00+00:00  \n",
       "1      11090180 2018-02-02 19:50:00+00:00  \n",
       "2      12468482 2018-02-03 20:30:00+00:00  \n",
       "3      13064424 2018-02-04 19:40:00+00:00  \n",
       "4      12549313 2018-02-05 20:20:00+00:00  "
      ]
     },
     "execution_count": 7,
     "metadata": {},
     "output_type": "execute_result"
    }
   ],
   "source": [
    "satellite_metadata.head()"
   ]
  },
  {
   "cell_type": "code",
   "execution_count": 8,
   "id": "4ab5914f",
   "metadata": {},
   "outputs": [],
   "source": [
    "import glob\n",
    "len(glob.glob(\"train/maiac/*/*.hdf\"))\n",
    "\n",
    "\n",
    "all_files= glob.glob(\"train/maiac/*/*.hdf\")"
   ]
  },
  {
   "cell_type": "code",
   "execution_count": 9,
   "id": "f92d813a",
   "metadata": {},
   "outputs": [],
   "source": [
    "all_data = []\n",
    "def get_all_data_for_loci(ds,granule_id,parellel = False):\n",
    "    each = {}\n",
    "    metadata = ds.GetMetadata()\n",
    "    for i in range(len(ds.GetSubDatasets())):\n",
    "        raster = gdal.Open(ds.GetSubDatasets()[i][0]) #grid5km:cosSZA features only\n",
    "        each_raster = raster.GetMetadata()\n",
    "\n",
    "        long_name = each_raster[\"long_name\"]\n",
    "\n",
    "         \n",
    "        all_rasters = []\n",
    "        if(parellel):\n",
    "            listi = list(range(int(raster.GetMetadata()[\"ADDITIONALLAYERS\"])))\n",
    "            \n",
    "            N = pool.imap(partial(rast_each_info, rasteri=raster), listi)\n",
    "            \n",
    "            print(N)\n",
    "        else:\n",
    "            for j in range(int(raster.GetMetadata()[\"ADDITIONALLAYERS\"])):\n",
    "                try:\n",
    "                    band = raster.GetRasterBand(j+1)\n",
    "                    band_arr = band.ReadAsArray()\n",
    "                    all_rasters.append(band_arr.tolist())\n",
    "                except:\n",
    "                    pass\n",
    "            each[long_name] = all_rasters\n",
    "    \n",
    "    each_data_f = {'file':granule_id,'metadata':metadata,'data':each}\n",
    "    return each_data_f\n",
    "#     with open(\"../processed2/\"+granule_id +'.pickle', 'wb') as handle:\n",
    "#         pickle.dump(each_data_f, handle)\n",
    "#     with open(\"../processed2/\"+granule_id + \".json\", \"w\") as outfile:\n",
    "#         orjson.dumps(each_data_f, outfile)\n",
    "    "
   ]
  },
  {
   "cell_type": "code",
   "execution_count": 10,
   "id": "2c829311",
   "metadata": {},
   "outputs": [],
   "source": [
    "def get_all_data_for_loci_specific(ds,granule_id,parellel = False):\n",
    "    each = {}\n",
    "    s = ds.GetSubDatasets()\n",
    "    raster = gdal.Open(s[0][0]) #grid5km:cosSZA features only\n",
    "    each_raster = raster.GetMetadata()\n",
    "    long_name = each_raster[\"long_name\"]\n",
    "\n",
    "    all_rasters = []\n",
    "    if(parellel):\n",
    "        listi = list(range(int(raster.GetMetadata()[\"ADDITIONALLAYERS\"])))\n",
    "\n",
    "        N = pool.imap(partial(rast_each_info, rasteri=raster), listi)\n",
    "\n",
    "        print(N)\n",
    "    else:\n",
    "        for j in range(int(raster.GetMetadata()[\"ADDITIONALLAYERS\"])):\n",
    "            try:\n",
    "                band = raster.GetRasterBand(j+1)\n",
    "                band_arr = band.ReadAsArray()\n",
    "                all_rasters.append(band_arr)\n",
    "            except:\n",
    "                pass\n",
    "        each[long_name] = all_rasters\n",
    "        \n",
    "    raster = gdal.Open(s[1][0]) #grid5km:cosSZA features only\n",
    "    each_raster = raster.GetMetadata()\n",
    "    long_name = each_raster[\"long_name\"]\n",
    "    all_rasters2 = []\n",
    "    if(parellel):\n",
    "        listi = list(range(int(raster.GetMetadata()[\"ADDITIONALLAYERS\"])))\n",
    "\n",
    "        N = pool.imap(partial(rast_each_info, rasteri=raster), listi)\n",
    "\n",
    "        print(N)\n",
    "    else:\n",
    "        for j in range(int(raster.GetMetadata()[\"ADDITIONALLAYERS\"])):\n",
    "            try:\n",
    "                band = raster.GetRasterBand(j+1)\n",
    "                band_arr = band.ReadAsArray()\n",
    "                all_rasters2.append(band_arr)\n",
    "            except:\n",
    "                pass\n",
    "        each[long_name] = all_rasters2\n",
    "\n",
    "    each_data_f = {'file':granule_id,'data':each}\n",
    "    del ds\n",
    "    return each_data_f"
   ]
  },
  {
   "cell_type": "code",
   "execution_count": 11,
   "id": "3baa815b",
   "metadata": {
    "scrolled": true
   },
   "outputs": [],
   "source": [
    "# import pprofile\n",
    "# profiler = pprofile.Profile()\n",
    "# with profiler:\n",
    "#     fetch_subset('20180308T031500_maiac_tpe_0.hdf')\n",
    "# # Process profile content: generate a cachegrind file and send it to user.\n",
    "\n",
    "# # You can also write the result to the console:\n",
    "# profiler.print_stats()"
   ]
  },
  {
   "cell_type": "code",
   "execution_count": 12,
   "id": "9e052ec7",
   "metadata": {},
   "outputs": [],
   "source": [
    "# Opens the HDF file\n",
    "def load_data(FILEPATH):\n",
    "    ds = gdal.Open(FILEPATH)\n",
    "    return ds\n",
    "\n",
    "def format_file_path(granule_id):\n",
    "    year = granule_id[:4]\n",
    "    res = 'train/maiac/'+year+'/'+granule_id\n",
    "    return res\n",
    "\n",
    "def fetch_subset(granule_id):\n",
    "    formatted = format_file_path(granule_id)\n",
    "    ds = load_data( formatted)\n",
    "    return get_all_data_for_loci_specific(ds,granule_id)"
   ]
  },
  {
   "cell_type": "code",
   "execution_count": 13,
   "id": "05df2afd",
   "metadata": {},
   "outputs": [],
   "source": [
    "granule_id = '20180308T031500_maiac_tpe_0.hdf'\n",
    "formatted = format_file_path(granule_id)\n",
    "ds = load_data( formatted)"
   ]
  },
  {
   "cell_type": "code",
   "execution_count": 14,
   "id": "2d01f95e",
   "metadata": {},
   "outputs": [],
   "source": [
    "# import pprofile\n",
    "# profiler = pprofile.Profile()\n",
    "# with profiler:\n",
    "#     get_all_data_for_loci_specific(ds,granule_id)\n",
    "# # Process profile content: generate a cachegrind file and send it to user.\n",
    "\n",
    "# # You can also write the result to the console:\n",
    "# profiler.print_stats()"
   ]
  },
  {
   "cell_type": "code",
   "execution_count": 15,
   "id": "0820c013",
   "metadata": {},
   "outputs": [
    {
     "name": "stdout",
     "output_type": "stream",
     "text": [
      "CPU times: user 204 ms, sys: 19 ms, total: 223 ms\n",
      "Wall time: 227 ms\n"
     ]
    }
   ],
   "source": [
    "%%time\n",
    "res = fetch_subset('20180308T031500_maiac_tpe_0.hdf')"
   ]
  },
  {
   "cell_type": "code",
   "execution_count": 16,
   "id": "087377dd",
   "metadata": {},
   "outputs": [],
   "source": [
    "# dir(res[\"data\"]['AOD at 0.47 micron'][0].ReadRaster())()"
   ]
  },
  {
   "cell_type": "code",
   "execution_count": 17,
   "id": "f402bf73",
   "metadata": {},
   "outputs": [],
   "source": [
    "def get_grid_data(metadata, grid_id):\n",
    "    return metadata[metadata[\"grid_id\"] == grid_id]"
   ]
  },
  {
   "cell_type": "code",
   "execution_count": 18,
   "id": "3a285c45",
   "metadata": {},
   "outputs": [],
   "source": [
    "def fetch_satellite_meta(metadata, datetime, location, datatype, split):\n",
    "    if location == \"Delhi\":\n",
    "        location = \"dl\"\n",
    "    elif location == \"Taipei\":\n",
    "        location = \"tpe\"\n",
    "    else:\n",
    "        location = \"la\"\n",
    "    metadata = metadata[metadata['location'] == location]\n",
    "    metadata = metadata[metadata['product'] == datatype]\n",
    "    metadata = metadata[metadata['split'] == split]\n",
    "    dateobject = parse(datetime)\n",
    "    return metadata.loc[(metadata['Date'].dt.month == dateobject.month) & \n",
    "                        (metadata['Date'].dt.day == dateobject.day) &\n",
    "                        (metadata['Date'].dt.year <= dateobject.year)]"
   ]
  },
  {
   "cell_type": "code",
   "execution_count": 19,
   "id": "2b5d55d7",
   "metadata": {},
   "outputs": [],
   "source": [
    "def fetch_training_features(grid_id, datetime, split):\n",
    "    temp = get_grid_data(grid_metadata, grid_id)\n",
    "    sat_met = fetch_satellite_meta(satellite_metadata, \n",
    "                               datetime, \n",
    "                               temp.iloc[0]['location'], \n",
    "                               \"maiac\", \n",
    "                               split)\n",
    "    counter = 0\n",
    "    features = None\n",
    "    for i in range(len(sat_met)):\n",
    "        counter+=1\n",
    "        granule_id = sat_met.iloc[i]['granule_id']\n",
    "\n",
    "        subset = fetch_subset(granule_id)\n",
    "        if features is None:\n",
    "            features = subset\n",
    "        else:\n",
    "            features+=subset\n",
    "    return features/counter"
   ]
  },
  {
   "cell_type": "code",
   "execution_count": 20,
   "id": "1ace3a92",
   "metadata": {},
   "outputs": [],
   "source": [
    "def fetch_training_features(grid_id, datetime, split):\n",
    "    temp = get_grid_data(grid_metadata, grid_id)\n",
    "    sat_met = fetch_satellite_meta(satellite_metadata, \n",
    "                               datetime, \n",
    "                               temp.iloc[0]['location'], \n",
    "                               \"maiac\", \n",
    "                               split)\n",
    "    counter = 0\n",
    "    features = None\n",
    "    granule_id_loc = []\n",
    "    for i in range(len(sat_met)):\n",
    "        counter+=1\n",
    "        granule_id = sat_met.iloc[i]['granule_id']\n",
    "        granule_id_loc.append(granule_id)\n",
    "    return granule_id_loc\n",
    "        \n",
    "#         subset = fetch_subset(granule_id)\n",
    "        "
   ]
  },
  {
   "cell_type": "code",
   "execution_count": 21,
   "id": "fa9092c6",
   "metadata": {},
   "outputs": [],
   "source": [
    "from multiprocessing import Pool\n",
    "import tqdm\n",
    "\n",
    "# features = []\n",
    "split = \"train\"\n",
    "# pool = Pool(processes=16)\n"
   ]
  },
  {
   "cell_type": "code",
   "execution_count": 22,
   "id": "eaa157f0",
   "metadata": {},
   "outputs": [
    {
     "data": {
      "text/plain": [
       "[('3S31A', '2018-02-01T08:00:00Z'),\n",
       " ('A2FBI', '2018-02-01T08:00:00Z'),\n",
       " ('DJN0F', '2018-02-01T08:00:00Z'),\n",
       " ('E5P9N', '2018-02-01T08:00:00Z'),\n",
       " ('FRITQ', '2018-02-01T08:00:00Z')]"
      ]
     },
     "execution_count": 22,
     "metadata": {},
     "output_type": "execute_result"
    }
   ],
   "source": [
    "tasks = list(zip(train_labels[\"grid_id\"],train_labels[\"datetime\"]))\n",
    "tasks[:5]"
   ]
  },
  {
   "cell_type": "code",
   "execution_count": 23,
   "id": "9f479932",
   "metadata": {},
   "outputs": [
    {
     "data": {
      "text/plain": [
       "34312"
      ]
     },
     "execution_count": 23,
     "metadata": {},
     "output_type": "execute_result"
    }
   ],
   "source": [
    "len(tasks)"
   ]
  },
  {
   "cell_type": "code",
   "execution_count": 24,
   "id": "e4ba66a6",
   "metadata": {},
   "outputs": [],
   "source": [
    "def get_ds_loc(i):\n",
    "    feature = fetch_training_features(i[0], i[1], split)\n",
    "    return feature"
   ]
  },
  {
   "cell_type": "code",
   "execution_count": 25,
   "id": "2da6d3f2",
   "metadata": {},
   "outputs": [
    {
     "data": {
      "text/plain": [
       "['20180201T191000_maiac_la_0.hdf']"
      ]
     },
     "execution_count": 25,
     "metadata": {},
     "output_type": "execute_result"
    }
   ],
   "source": [
    "get_ds_loc(tasks[5])"
   ]
  },
  {
   "cell_type": "code",
   "execution_count": 26,
   "id": "3b98cc55",
   "metadata": {},
   "outputs": [
    {
     "name": "stderr",
     "output_type": "stream",
     "text": [
      "100%|██████████| 34312/34312 [00:21<00:00, 1605.58it/s]\n"
     ]
    }
   ],
   "source": [
    "from multiprocessing import get_context\n",
    "\n",
    "pool = get_context(\"fork\").Pool(8)\n",
    "# pool = Pool(processes=8)\n",
    "\n",
    "all_files_d = []\n",
    "for x in tqdm.tqdm(pool.imap_unordered(get_ds_loc, tasks), total=len(tasks)):\n",
    "    all_files_d.append(x)"
   ]
  },
  {
   "cell_type": "code",
   "execution_count": 27,
   "id": "68d37886",
   "metadata": {},
   "outputs": [
    {
     "data": {
      "text/plain": [
       "34312"
      ]
     },
     "execution_count": 27,
     "metadata": {},
     "output_type": "execute_result"
    }
   ],
   "source": [
    "len(all_files_d)"
   ]
  },
  {
   "cell_type": "code",
   "execution_count": 28,
   "id": "c8adbf2f",
   "metadata": {},
   "outputs": [
    {
     "data": {
      "text/plain": [
       "['20180201T191000_maiac_la_0.hdf']"
      ]
     },
     "execution_count": 28,
     "metadata": {},
     "output_type": "execute_result"
    }
   ],
   "source": [
    "all_files_d[0]"
   ]
  },
  {
   "cell_type": "code",
   "execution_count": 29,
   "id": "1824d360",
   "metadata": {},
   "outputs": [],
   "source": [
    "data_to_loc = {\"|\".join(i):j for i,j in zip(tasks,all_files_d)}"
   ]
  },
  {
   "cell_type": "code",
   "execution_count": 30,
   "id": "84a35a36",
   "metadata": {},
   "outputs": [],
   "source": [
    "all_files_flatten = [j for i in all_files_d for j in i ]"
   ]
  },
  {
   "cell_type": "code",
   "execution_count": 31,
   "id": "3cf562b7",
   "metadata": {},
   "outputs": [],
   "source": [
    "all_files_flatten = list(set(all_files_flatten))"
   ]
  },
  {
   "cell_type": "code",
   "execution_count": 32,
   "id": "e697679a",
   "metadata": {},
   "outputs": [
    {
     "data": {
      "text/plain": [
       "4234"
      ]
     },
     "execution_count": 32,
     "metadata": {},
     "output_type": "execute_result"
    }
   ],
   "source": [
    "len(all_files_flatten)"
   ]
  },
  {
   "cell_type": "code",
   "execution_count": 33,
   "id": "578ac7af",
   "metadata": {},
   "outputs": [],
   "source": [
    "def get_ds_loc(i):\n",
    "    feature = fetch_training_features(i[0], i[1], split)\n",
    "    print(i)\n",
    "    return feature"
   ]
  },
  {
   "cell_type": "code",
   "execution_count": 34,
   "id": "d11a0129",
   "metadata": {},
   "outputs": [
    {
     "name": "stdout",
     "output_type": "stream",
     "text": [
      "('H96P6', '2018-02-01T08:00:00Z')\n"
     ]
    },
    {
     "data": {
      "text/plain": [
       "['20180201T191000_maiac_la_0.hdf']"
      ]
     },
     "execution_count": 34,
     "metadata": {},
     "output_type": "execute_result"
    }
   ],
   "source": [
    "get_ds_loc(tasks[5])"
   ]
  },
  {
   "cell_type": "code",
   "execution_count": 35,
   "id": "0e6838e7",
   "metadata": {},
   "outputs": [
    {
     "name": "stdout",
     "output_type": "stream",
     "text": [
      "CPU times: user 176 ms, sys: 12.1 ms, total: 188 ms\n",
      "Wall time: 196 ms\n"
     ]
    }
   ],
   "source": [
    "%%time\n",
    "res = fetch_subset('20180308T031500_maiac_tpe_0.hdf')"
   ]
  },
  {
   "cell_type": "code",
   "execution_count": null,
   "id": "f3200a71",
   "metadata": {},
   "outputs": [],
   "source": []
  },
  {
   "cell_type": "code",
   "execution_count": 36,
   "id": "c2211b21",
   "metadata": {},
   "outputs": [
    {
     "data": {
      "text/plain": [
       "dict_keys(['AOD at 0.47 micron', 'AOD at 0.55 micron'])"
      ]
     },
     "execution_count": 36,
     "metadata": {},
     "output_type": "execute_result"
    }
   ],
   "source": [
    "res[\"data\"].keys()"
   ]
  },
  {
   "cell_type": "code",
   "execution_count": 37,
   "id": "09a7800d",
   "metadata": {
    "scrolled": true
   },
   "outputs": [
    {
     "name": "stderr",
     "output_type": "stream",
     "text": [
      "100%|██████████| 100/100 [00:20<00:00,  5.00it/s]\n"
     ]
    }
   ],
   "source": [
    "from multiprocessing import get_context\n",
    "p = get_context(\"fork\").Pool(8)\n",
    "all_files_d_100 = []\n",
    "for i in tqdm.tqdm(all_files_flatten[:100]):\n",
    "    x = fetch_subset(i)\n",
    "    all_files_d_100.append(x)"
   ]
  },
  {
   "cell_type": "code",
   "execution_count": null,
   "id": "e8a9d905",
   "metadata": {},
   "outputs": [],
   "source": []
  },
  {
   "cell_type": "code",
   "execution_count": 38,
   "id": "e52ef852",
   "metadata": {},
   "outputs": [],
   "source": [
    "all_files_d_100_dict= {i[\"file\"]:i[\"data\"] for i in all_files_d_100 }"
   ]
  },
  {
   "cell_type": "code",
   "execution_count": 39,
   "id": "2f15e206",
   "metadata": {},
   "outputs": [],
   "source": [
    "del all_files_d_100"
   ]
  },
  {
   "cell_type": "code",
   "execution_count": 40,
   "id": "cb086442",
   "metadata": {},
   "outputs": [
    {
     "data": {
      "text/plain": [
       "100"
      ]
     },
     "execution_count": 40,
     "metadata": {},
     "output_type": "execute_result"
    }
   ],
   "source": [
    "len(all_files_d_100_dict)"
   ]
  },
  {
   "cell_type": "code",
   "execution_count": 41,
   "id": "b094a20d",
   "metadata": {},
   "outputs": [
    {
     "data": {
      "text/plain": [
       "['20180201T191000_maiac_la_0.hdf']"
      ]
     },
     "execution_count": 41,
     "metadata": {},
     "output_type": "execute_result"
    }
   ],
   "source": [
    "data_to_loc['3S31A|2018-02-01T08:00:00Z']"
   ]
  },
  {
   "cell_type": "code",
   "execution_count": 42,
   "id": "8b2ebe79",
   "metadata": {},
   "outputs": [],
   "source": [
    "# 3S31A"
   ]
  },
  {
   "cell_type": "code",
   "execution_count": 43,
   "id": "274e74b8",
   "metadata": {},
   "outputs": [],
   "source": [
    "data_to_y = {}"
   ]
  },
  {
   "cell_type": "code",
   "execution_count": 44,
   "id": "a933a7d0",
   "metadata": {},
   "outputs": [],
   "source": [
    "# [all_files_d_100_dict[data_to_loc[i[1]+\"|\"+i[0]][0]],j]"
   ]
  },
  {
   "cell_type": "code",
   "execution_count": 45,
   "id": "993e9ba0",
   "metadata": {},
   "outputs": [
    {
     "data": {
      "text/plain": [
       "'20180710T065500_maiac_dl_0.hdf'"
      ]
     },
     "execution_count": 45,
     "metadata": {},
     "output_type": "execute_result"
    }
   ],
   "source": [
    "all_files_flatten[0]"
   ]
  },
  {
   "cell_type": "code",
   "execution_count": 46,
   "id": "97a6226f",
   "metadata": {},
   "outputs": [],
   "source": [
    "dt = []\n",
    "loc = []\n",
    "for i in train_labels.values:\n",
    "    try:\n",
    "        dt.append( [all_files_d_100_dict[data_to_loc[i[1]+\"|\"+i[0]][0]],i[2]] )\n",
    "        loc.append(i[1])\n",
    "    except:\n",
    "        pass\n"
   ]
  },
  {
   "cell_type": "code",
   "execution_count": 47,
   "id": "1bf3ba4a",
   "metadata": {},
   "outputs": [],
   "source": [
    "# loc"
   ]
  },
  {
   "cell_type": "code",
   "execution_count": 48,
   "id": "e49bace8",
   "metadata": {},
   "outputs": [],
   "source": [
    "x = []\n",
    "for each in dt:\n",
    "    x.append(np.array([i for j in each[0].values() for i in j[:3]]))"
   ]
  },
  {
   "cell_type": "code",
   "execution_count": 49,
   "id": "5cc48f85",
   "metadata": {},
   "outputs": [],
   "source": [
    "# x[0]"
   ]
  },
  {
   "cell_type": "code",
   "execution_count": 50,
   "id": "cc751a01",
   "metadata": {},
   "outputs": [],
   "source": [
    "# x = [np.array(i) for i in x]"
   ]
  },
  {
   "cell_type": "code",
   "execution_count": 51,
   "id": "02b509c4",
   "metadata": {},
   "outputs": [],
   "source": [
    "y = [ i[1] for i in dt]"
   ]
  },
  {
   "cell_type": "code",
   "execution_count": 52,
   "id": "e3ce7100",
   "metadata": {},
   "outputs": [],
   "source": [
    "from sklearn.model_selection import train_test_split"
   ]
  },
  {
   "cell_type": "code",
   "execution_count": 53,
   "id": "a65e8a98",
   "metadata": {},
   "outputs": [],
   "source": [
    "from sklearn.preprocessing import OneHotEncoder\n",
    "enc = OneHotEncoder(handle_unknown='ignore')\n",
    "x_one = enc.fit_transform(np.array(loc).reshape(-1, 1)).toarray()"
   ]
  },
  {
   "cell_type": "code",
   "execution_count": 54,
   "id": "e56660b7",
   "metadata": {},
   "outputs": [],
   "source": [
    "# for i in train_test_split(x, y,loc, test_size=0.2, random_state=1):\n",
    "#     print(i[0])"
   ]
  },
  {
   "cell_type": "code",
   "execution_count": 55,
   "id": "6b49f2fc",
   "metadata": {},
   "outputs": [],
   "source": [
    "X_train, X_test, y_train, y_test, loc_train,loc_test = train_test_split(x, y,x_one, test_size=0.2, random_state=1)\n",
    "\n",
    "X_train, X_val, y_train, y_val, loc_train, loc_val  = train_test_split(X_train, y_train,loc_train, test_size=0.25, random_state=1) "
   ]
  },
  {
   "cell_type": "code",
   "execution_count": 56,
   "id": "f3178c8c",
   "metadata": {},
   "outputs": [
    {
     "name": "stdout",
     "output_type": "stream",
     "text": [
      "1992\n"
     ]
    }
   ],
   "source": [
    "print(X_train[0].max())"
   ]
  },
  {
   "cell_type": "code",
   "execution_count": 57,
   "id": "1f12bfd5",
   "metadata": {},
   "outputs": [
    {
     "data": {
      "text/plain": [
       "4089"
      ]
     },
     "execution_count": 57,
     "metadata": {},
     "output_type": "execute_result"
    }
   ],
   "source": [
    "max([i.max() for i in x])"
   ]
  },
  {
   "cell_type": "code",
   "execution_count": 58,
   "id": "6f31948f",
   "metadata": {},
   "outputs": [],
   "source": [
    "batch_size = 8\n",
    "epochs = 20\n",
    "lr = 3e-5\n",
    "gamma = 0.7\n",
    "seed = 42"
   ]
  },
  {
   "cell_type": "code",
   "execution_count": 59,
   "id": "abb57163",
   "metadata": {},
   "outputs": [
    {
     "name": "stdout",
     "output_type": "stream",
     "text": [
      "Train Data: 538\n",
      "Validation Data: 180\n",
      "Test Data: 180\n"
     ]
    }
   ],
   "source": [
    "print(f\"Train Data: {len(X_train)}\")\n",
    "print(f\"Validation Data: {len(X_val)}\")\n",
    "print(f\"Test Data: {len(X_test)}\")"
   ]
  },
  {
   "cell_type": "code",
   "execution_count": 60,
   "id": "f7b7b9e0",
   "metadata": {},
   "outputs": [],
   "source": [
    "from __future__ import print_function\n",
    "\n",
    "import glob\n",
    "from itertools import chain\n",
    "import os\n",
    "import random\n",
    "import zipfile\n",
    "\n",
    "import matplotlib.pyplot as plt\n",
    "import numpy as np\n",
    "import pandas as pd\n",
    "import torch\n",
    "import torch.nn as nn\n",
    "import torch.nn.functional as F\n",
    "import torch.optim as optim\n",
    "from PIL import Image\n",
    "from sklearn.model_selection import train_test_split\n",
    "from torch.optim.lr_scheduler import StepLR\n",
    "from torch.utils.data import DataLoader, Dataset\n",
    "from torchvision import datasets, transforms\n",
    "from tqdm.notebook import tqdm"
   ]
  },
  {
   "cell_type": "code",
   "execution_count": 61,
   "id": "f63fa676",
   "metadata": {},
   "outputs": [],
   "source": [
    "train_transforms = transforms.Compose(\n",
    "    [\n",
    "        transforms.ToTensor(),\n",
    "    ]\n",
    ")\n",
    "\n",
    "val_transforms = transforms.Compose(\n",
    "    [\n",
    "        transforms.ToTensor(),\n",
    "    ]\n",
    ")\n",
    "\n",
    "\n",
    "test_transforms = transforms.Compose(\n",
    "    [\n",
    "        transforms.ToTensor(),\n",
    "    ]\n",
    ")\n"
   ]
  },
  {
   "cell_type": "code",
   "execution_count": 62,
   "id": "0a36e463",
   "metadata": {},
   "outputs": [],
   "source": [
    "class SatelliteDataset(Dataset):\n",
    "    def __init__(self, file_list, y_list, transform=None):\n",
    "        self.file_list = file_list\n",
    "        self.transform = transform\n",
    "        self.y_list = y_list\n",
    "\n",
    "    def __len__(self):\n",
    "        self.filelength = len(self.file_list)\n",
    "        return self.filelength\n",
    "\n",
    "    def __getitem__(self, idx):\n",
    "        img = self.file_list[idx]\n",
    "        img = np.where(img <0 , 0, img)/4089\n",
    "        img_transformed = self.transform(img)\n",
    "\n",
    "\n",
    "        label = self.y_list[idx]\n",
    "        img_transformed= img_transformed.reshape((6, 1200, 1200))\n",
    "        return img_transformed, label"
   ]
  },
  {
   "cell_type": "code",
   "execution_count": 63,
   "id": "b7e0b53b",
   "metadata": {},
   "outputs": [],
   "source": [
    "train_data = SatelliteDataset(X_train, y_train, transform=train_transforms)\n",
    "valid_data = SatelliteDataset(X_val, y_val, transform=test_transforms)\n",
    "test_data = SatelliteDataset(X_test, y_test, transform=test_transforms)"
   ]
  },
  {
   "cell_type": "code",
   "execution_count": 64,
   "id": "44ef1fa1",
   "metadata": {},
   "outputs": [],
   "source": [
    "train_loader = DataLoader(dataset = train_data, batch_size=batch_size, shuffle=True )\n",
    "valid_loader = DataLoader(dataset = valid_data, batch_size=batch_size, shuffle=True)\n",
    "test_loader = DataLoader(dataset = test_data, batch_size=batch_size, shuffle=True)\n"
   ]
  },
  {
   "cell_type": "code",
   "execution_count": 133,
   "id": "05f91d88",
   "metadata": {},
   "outputs": [],
   "source": [
    "import torch\n",
    "from torch import nn\n",
    "\n",
    "from einops import rearrange, repeat\n",
    "from einops.layers.torch import Rearrange\n",
    "\n",
    "# helpers\n",
    "\n",
    "def pair(t):\n",
    "    return t if isinstance(t, tuple) else (t, t)\n",
    "\n",
    "# classes\n",
    "\n",
    "class PreNorm(nn.Module):\n",
    "    def __init__(self, dim, fn):\n",
    "        super().__init__()\n",
    "        self.norm = nn.LayerNorm(dim)\n",
    "        self.fn = fn\n",
    "    def forward(self, x, **kwargs):\n",
    "        return self.fn(self.norm(x), **kwargs)\n",
    "\n",
    "class FeedForward(nn.Module):\n",
    "    def __init__(self, dim, hidden_dim, dropout = 0.):\n",
    "        super().__init__()\n",
    "        self.net = nn.Sequential(\n",
    "            nn.Linear(dim, hidden_dim),\n",
    "            nn.GELU(),\n",
    "            nn.Dropout(dropout),\n",
    "            nn.Linear(hidden_dim, dim),\n",
    "            nn.Dropout(dropout)\n",
    "        )\n",
    "    def forward(self, x):\n",
    "        return self.net(x)\n",
    "\n",
    "class Attention(nn.Module):\n",
    "    def __init__(self, dim, heads = 8, dim_head = 64, dropout = 0.):\n",
    "        super().__init__()\n",
    "        inner_dim = dim_head *  heads\n",
    "        project_out = not (heads == 1 and dim_head == dim)\n",
    "\n",
    "        self.heads = heads\n",
    "        self.scale = dim_head ** -0.5\n",
    "\n",
    "        self.attend = nn.Softmax(dim = -1)\n",
    "        self.to_qkv = nn.Linear(dim, inner_dim * 3, bias = False)\n",
    "\n",
    "        self.to_out = nn.Sequential(\n",
    "            nn.Linear(inner_dim, dim),\n",
    "            nn.Dropout(dropout)\n",
    "        ) if project_out else nn.Identity()\n",
    "\n",
    "    def forward(self, x):\n",
    "        qkv = self.to_qkv(x).chunk(3, dim = -1)\n",
    "        q, k, v = map(lambda t: rearrange(t, 'b n (h d) -> b h n d', h = self.heads), qkv)\n",
    "\n",
    "        dots = torch.matmul(q, k.transpose(-1, -2)) * self.scale\n",
    "\n",
    "        attn = self.attend(dots)\n",
    "\n",
    "        out = torch.matmul(attn, v)\n",
    "        out = rearrange(out, 'b h n d -> b n (h d)')\n",
    "        return self.to_out(out)\n",
    "\n",
    "class Transformer(nn.Module):\n",
    "    def __init__(self, dim, depth, heads, dim_head, mlp_dim, dropout = 0.):\n",
    "        super().__init__()\n",
    "        self.layers = nn.ModuleList([])\n",
    "        for _ in range(depth):\n",
    "            self.layers.append(nn.ModuleList([\n",
    "                PreNorm(dim, Attention(dim, heads = heads, dim_head = dim_head, dropout = dropout)),\n",
    "                PreNorm(dim, FeedForward(dim, mlp_dim, dropout = dropout))\n",
    "            ]))\n",
    "    def forward(self, x):\n",
    "        for attn, ff in self.layers:\n",
    "            x = attn(x) + x\n",
    "            x = ff(x) + x\n",
    "        return x\n",
    "\n",
    "class ViT(nn.Module):\n",
    "    def __init__(self, *, image_size, patch_size, num_classes, dim, depth, heads, mlp_dim, pool = 'cls', channels = 3, dim_head = 64, dropout = 0., emb_dropout = 0.):\n",
    "        super().__init__()\n",
    "        image_height, image_width = pair(image_size)\n",
    "        patch_height, patch_width = pair(patch_size)\n",
    "\n",
    "        assert image_height % patch_height == 0 and image_width % patch_width == 0, 'Image dimensions must be divisible by the patch size.'\n",
    "\n",
    "        num_patches = (image_height // patch_height) * (image_width // patch_width)\n",
    "        patch_dim = channels * patch_height * patch_width\n",
    "        assert pool in {'cls', 'mean'}, 'pool type must be either cls (cls token) or mean (mean pooling)'\n",
    "\n",
    "        self.to_patch_embedding = nn.Sequential(\n",
    "            Rearrange('b c (h p1) (w p2) -> b (h w) (p1 p2 c)', p1 = patch_height, p2 = patch_width),\n",
    "            nn.Linear(patch_dim, dim),\n",
    "        )\n",
    "\n",
    "        self.pos_embedding = nn.Parameter(torch.randn(1, num_patches + 1, dim))\n",
    "        self.cls_token = nn.Parameter(torch.randn(1, 1, dim))\n",
    "        self.dropout = nn.Dropout(emb_dropout)\n",
    "\n",
    "        self.transformer = Transformer(dim, depth, heads, dim_head, mlp_dim, dropout)\n",
    "\n",
    "        self.pool = pool\n",
    "        self.to_latent = nn.Identity()\n",
    "\n",
    "        self.mlp_head = nn.Sequential(\n",
    "            nn.LayerNorm(dim+54),\n",
    "            nn.Linear(dim+54, 512),\n",
    "              nn.LeakyReLU(),\n",
    "            nn.Linear(512, 256),\n",
    "              nn.LeakyReLU(),\n",
    "              nn.Linear(256, 32),\n",
    "            nn.LeakyReLU(),\n",
    "              nn.Linear(32, 16),\n",
    "            nn.LeakyReLU(),\n",
    "              nn.Linear(16, 1),\n",
    "        )\n",
    "\n",
    "    def forward(self, img,one_hot):\n",
    "\n",
    "        x = self.to_patch_embedding(img)\n",
    "        b, n, _ = x.shape\n",
    "\n",
    "        cls_tokens = repeat(self.cls_token, '() n d -> b n d', b = b)\n",
    "        x = torch.cat((cls_tokens, x), dim=1)\n",
    "        x += self.pos_embedding[:, :(n + 1)]\n",
    "        x = self.dropout(x)\n",
    "\n",
    "        x = self.transformer(x)\n",
    "\n",
    "        x = x.mean(dim = 1) if self.pool == 'mean' else x[:, 0]\n",
    "\n",
    "        x = self.to_latent(x)\n",
    "        x = torch.cat((x, one_hot), dim=1)\n",
    "        x = self.mlp_head(x)\n",
    "        return x"
   ]
  },
  {
   "cell_type": "code",
   "execution_count": 144,
   "id": "27eccbcd",
   "metadata": {},
   "outputs": [],
   "source": [
    "import torch\n",
    "# from vit_pytorch import ViT\n",
    "\n",
    "v = ViT(\n",
    "    image_size = 1200,\n",
    "    patch_size = 30,\n",
    "    num_classes = 1,\n",
    "    channels = 6,\n",
    "    dim = 1024,\n",
    "    depth = 3,\n",
    "    heads = 8,\n",
    "    mlp_dim = 1024,\n",
    "    dropout = 0.1,\n",
    "    emb_dropout = 0.1\n",
    ")\n",
    "loss_function = nn.L1Loss()\n",
    "optimizer = torch.optim.Adam(v.parameters(), lr=1e-4)\n",
    "\n"
   ]
  },
  {
   "cell_type": "code",
   "execution_count": 145,
   "id": "c6cd9728",
   "metadata": {},
   "outputs": [
    {
     "data": {
      "text/plain": [
       "torch.float32"
      ]
     },
     "execution_count": 145,
     "metadata": {},
     "output_type": "execute_result"
    }
   ],
   "source": [
    "img = torch.randn(8, 6, 1200, 1200).float()\n",
    "img.dtype"
   ]
  },
  {
   "cell_type": "code",
   "execution_count": 136,
   "id": "02e3972d",
   "metadata": {},
   "outputs": [],
   "source": [
    "one_hot_example = torch.from_numpy(loc_train[0:8].reshape(8,-1)).float()"
   ]
  },
  {
   "cell_type": "code",
   "execution_count": 137,
   "id": "3503caad",
   "metadata": {},
   "outputs": [
    {
     "data": {
      "text/plain": [
       "torch.float32"
      ]
     },
     "execution_count": 137,
     "metadata": {},
     "output_type": "execute_result"
    }
   ],
   "source": [
    "one_hot_example.dtype"
   ]
  },
  {
   "cell_type": "code",
   "execution_count": 162,
   "id": "6d8ef5f6",
   "metadata": {},
   "outputs": [
    {
     "name": "stdout",
     "output_type": "stream",
     "text": [
      "CPU times: user 18 s, sys: 3.04 s, total: 21.1 s\n",
      "Wall time: 16.9 s\n"
     ]
    }
   ],
   "source": [
    "%%time\n",
    "preds = v(img,one_hot_example) # (1, 1000)"
   ]
  },
  {
   "cell_type": "code",
   "execution_count": 163,
   "id": "9dfcb75c",
   "metadata": {},
   "outputs": [],
   "source": [
    "y_train = np.array(y_train)"
   ]
  },
  {
   "cell_type": "code",
   "execution_count": 164,
   "id": "497156a3",
   "metadata": {},
   "outputs": [],
   "source": [
    "y_train_p = torch.from_numpy(y_train[:8].reshape(8,-1))"
   ]
  },
  {
   "cell_type": "code",
   "execution_count": 165,
   "id": "02e1e422",
   "metadata": {},
   "outputs": [
    {
     "data": {
      "text/plain": [
       "tensor(21.9037, dtype=torch.float64, grad_fn=<L1LossBackward0>)"
      ]
     },
     "execution_count": 165,
     "metadata": {},
     "output_type": "execute_result"
    }
   ],
   "source": [
    "loss = loss_function(y_train_p, preds)\n",
    "loss"
   ]
  },
  {
   "cell_type": "code",
   "execution_count": 158,
   "id": "b2e32c36",
   "metadata": {},
   "outputs": [],
   "source": [
    "optimizer.zero_grad()"
   ]
  },
  {
   "cell_type": "code",
   "execution_count": 159,
   "id": "39c2e398",
   "metadata": {},
   "outputs": [],
   "source": [
    "loss.backward()"
   ]
  },
  {
   "cell_type": "code",
   "execution_count": 160,
   "id": "72bc6f11",
   "metadata": {},
   "outputs": [],
   "source": [
    "optimizer.step()"
   ]
  },
  {
   "cell_type": "code",
   "execution_count": 161,
   "id": "c66b03b2",
   "metadata": {},
   "outputs": [
    {
     "data": {
      "text/plain": [
       "tensor(22.0396, dtype=torch.float64, grad_fn=<L1LossBackward0>)"
      ]
     },
     "execution_count": 161,
     "metadata": {},
     "output_type": "execute_result"
    }
   ],
   "source": [
    "loss"
   ]
  },
  {
   "cell_type": "code",
   "execution_count": null,
   "id": "2ba290e0",
   "metadata": {},
   "outputs": [],
   "source": [
    "acc = (preds.argmax(dim=1) == label).float().mean()"
   ]
  },
  {
   "cell_type": "code",
   "execution_count": 166,
   "id": "52a36244",
   "metadata": {},
   "outputs": [
    {
     "data": {
      "text/plain": [
       "tensor([[-0.0370],\n",
       "        [-0.0320],\n",
       "        [-0.0303],\n",
       "        [-0.0327],\n",
       "        [-0.0226],\n",
       "        [-0.0271],\n",
       "        [-0.0314],\n",
       "        [-0.0308]], grad_fn=<AddmmBackward0>)"
      ]
     },
     "execution_count": 166,
     "metadata": {},
     "output_type": "execute_result"
    }
   ],
   "source": [
    "preds"
   ]
  },
  {
   "cell_type": "code",
   "execution_count": null,
   "id": "57abc925",
   "metadata": {},
   "outputs": [],
   "source": [
    "y_train_p"
   ]
  },
  {
   "cell_type": "code",
   "execution_count": null,
   "id": "4e562dad",
   "metadata": {},
   "outputs": [],
   "source": []
  },
  {
   "cell_type": "code",
   "execution_count": null,
   "id": "e6dcd072",
   "metadata": {},
   "outputs": [],
   "source": []
  },
  {
   "cell_type": "code",
   "execution_count": null,
   "id": "9b06bf70",
   "metadata": {},
   "outputs": [],
   "source": []
  },
  {
   "cell_type": "code",
   "execution_count": null,
   "id": "4513c746",
   "metadata": {},
   "outputs": [],
   "source": []
  },
  {
   "cell_type": "code",
   "execution_count": null,
   "id": "a1122dd7",
   "metadata": {},
   "outputs": [],
   "source": []
  },
  {
   "cell_type": "code",
   "execution_count": null,
   "id": "d43b3fdf",
   "metadata": {},
   "outputs": [],
   "source": []
  },
  {
   "cell_type": "code",
   "execution_count": null,
   "id": "c6c8a515",
   "metadata": {},
   "outputs": [],
   "source": []
  },
  {
   "cell_type": "code",
   "execution_count": null,
   "id": "4d5389d8",
   "metadata": {},
   "outputs": [],
   "source": []
  },
  {
   "cell_type": "code",
   "execution_count": null,
   "id": "50462179",
   "metadata": {},
   "outputs": [],
   "source": []
  },
  {
   "cell_type": "code",
   "execution_count": 65,
   "id": "d90da423",
   "metadata": {},
   "outputs": [],
   "source": [
    "# train_data[0][0]"
   ]
  },
  {
   "cell_type": "code",
   "execution_count": 319,
   "id": "ae25aae4",
   "metadata": {},
   "outputs": [],
   "source": [
    "\n",
    "import torch\n",
    "from torch import nn, einsum\n",
    "import torch.nn.functional as F\n",
    "\n",
    "from einops import rearrange, repeat\n",
    "from einops.layers.torch import Rearrange\n",
    "\n",
    "class Residual(nn.Module):\n",
    "    def __init__(self, fn):\n",
    "        super().__init__()\n",
    "        self.fn = fn\n",
    "    def forward(self, x, **kwargs):\n",
    "        return self.fn(x, **kwargs) + x\n",
    "\n",
    "class PreNorm(nn.Module):\n",
    "    def __init__(self, dim, fn):\n",
    "        super().__init__()\n",
    "        self.norm = nn.LayerNorm(dim)\n",
    "        self.fn = fn\n",
    "    def forward(self, x, **kwargs):\n",
    "        return self.fn(self.norm(x), **kwargs)\n",
    "\n",
    "class FeedForward(nn.Module):\n",
    "    def __init__(self, dim, hidden_dim, dropout = 0.):\n",
    "        super().__init__()\n",
    "        self.net = nn.Sequential(\n",
    "            nn.Linear(dim, hidden_dim),\n",
    "            nn.GELU(),\n",
    "            nn.Dropout(dropout),\n",
    "            nn.Linear(hidden_dim, dim),\n",
    "            nn.Dropout(dropout)\n",
    "        )\n",
    "    def forward(self, x):\n",
    "        return self.net(x)\n",
    "\n",
    "class Attention(nn.Module):\n",
    "    def __init__(self, dim, heads = 8, dim_head = 64, dropout = 0.):\n",
    "        super().__init__()\n",
    "        inner_dim = dim_head *  heads\n",
    "        self.heads = heads\n",
    "        self.scale = dim_head ** -0.5\n",
    "\n",
    "        self.to_qkv = nn.Linear(dim, inner_dim * 3, bias = False)\n",
    "\n",
    "        self.reattn_weights = nn.Parameter(torch.randn(heads, heads))\n",
    "\n",
    "        self.reattn_norm = nn.Sequential(\n",
    "            Rearrange('b h i j -> b i j h'),\n",
    "            nn.LayerNorm(heads),\n",
    "            Rearrange('b i j h -> b h i j')\n",
    "        )\n",
    "\n",
    "        self.to_out = nn.Sequential(\n",
    "            nn.Linear(inner_dim, dim),\n",
    "            nn.Dropout(dropout)\n",
    "        )\n",
    "\n",
    "    def forward(self, x):\n",
    "        b, n, _, h = *x.shape, self.heads\n",
    "        qkv = self.to_qkv(x).chunk(3, dim = -1)\n",
    "        q, k, v = map(lambda t: rearrange(t, 'b n (h d) -> b h n d', h = h), qkv)\n",
    "\n",
    "        # attention\n",
    "\n",
    "        dots = einsum('b h i d, b h j d -> b h i j', q, k) * self.scale\n",
    "        attn = dots.softmax(dim=-1)\n",
    "\n",
    "        # re-attention\n",
    "\n",
    "        attn = einsum('b h i j, h g -> b g i j', attn, self.reattn_weights)\n",
    "        attn = self.reattn_norm(attn)\n",
    "\n",
    "        # aggregate and out\n",
    "\n",
    "        out = einsum('b h i j, b h j d -> b h i d', attn, v)\n",
    "        out = rearrange(out, 'b h n d -> b n (h d)')\n",
    "        out =  self.to_out(out)\n",
    "        return out\n",
    "\n",
    "class Transformer(nn.Module):\n",
    "    def __init__(self, dim, depth, heads, dim_head, mlp_dim, dropout = 0.2):\n",
    "        super().__init__()\n",
    "        self.layers = nn.ModuleList([])\n",
    "        for _ in range(depth):\n",
    "            self.layers.append(nn.ModuleList([\n",
    "                Residual(PreNorm(dim, Attention(dim, heads = heads, dim_head = dim_head, dropout = dropout))),\n",
    "                Residual(PreNorm(dim, FeedForward(dim, mlp_dim, dropout = dropout)))\n",
    "            ]))\n",
    "    def forward(self, x):\n",
    "        for attn, ff in self.layers:\n",
    "            x = attn(x)\n",
    "            x = ff(x)\n",
    "        return x"
   ]
  },
  {
   "cell_type": "code",
   "execution_count": 320,
   "id": "bb70bb32",
   "metadata": {},
   "outputs": [],
   "source": [
    "\n",
    "class DeepViT(nn.Module):\n",
    "    def __init__(self, *, image_size, patch_size, num_classes, dim, depth, heads, mlp_dim, pool = 'cls', channels = 6, dim_head = 64, dropout = 0., emb_dropout = 0.):\n",
    "        super().__init__()\n",
    "        assert image_size % patch_size == 0, 'Image dimensions must be divisible by the patch size.'\n",
    "        num_patches = (image_size // patch_size) ** 2\n",
    "        patch_dim = channels * patch_size ** 2\n",
    "        assert pool in {'cls', 'mean'}, 'pool type must be either cls (cls token) or mean (mean pooling)'\n",
    "\n",
    "        self.to_patch_embedding = nn.Sequential(\n",
    "            Rearrange('b c (h p1) (w p2) -> b (h w) (p1 p2 c)', p1 = patch_size, p2 = patch_size),\n",
    "            nn.Linear(patch_dim, dim),\n",
    "        )\n",
    "\n",
    "        self.pos_embedding = nn.Parameter(torch.randn(1, num_patches + 1, dim))\n",
    "        self.cls_token = nn.Parameter(torch.randn(1, 1, dim))\n",
    "        self.dropout = nn.Dropout(emb_dropout)\n",
    "\n",
    "        self.transformer = Transformer(dim, depth, heads, dim_head, mlp_dim, dropout)\n",
    "\n",
    "        self.pool = pool\n",
    "        self.to_latent = nn.Identity()\n",
    "\n",
    "#         self.mlp_head = nn.Sequential(\n",
    "#             nn.LayerNorm(dim),\n",
    "#             nn.Linear(dim, num_classes)\n",
    "#         )\n",
    "        self.mlp_head = nn.Sequential(\n",
    "            nn.LayerNorm(dim),\n",
    "            nn.Linear(dim, 512),\n",
    "              nn.LeakyReLU(),\n",
    "            nn.Linear(512, 256),\n",
    "              nn.LeakyReLU(),\n",
    "              nn.Linear(256, 64),\n",
    "              nn.LeakyReLU(),\n",
    "              nn.Linear(64, 32),\n",
    "            nn.LeakyReLU(),\n",
    "              nn.Linear(32, 16),\n",
    "            nn.LeakyReLU(),\n",
    "              nn.Linear(16, 1),\n",
    "        )\n",
    "    \n",
    "    def forward(self, img,one_hot):\n",
    "        x = self.to_patch_embedding(img)\n",
    "        b, n, _ = x.shape\n",
    "\n",
    "        cls_tokens = repeat(self.cls_token, '() n d -> b n d', b = b)\n",
    "        x = torch.cat((cls_tokens, x), dim=1)\n",
    "        x += self.pos_embedding[:, :(n + 1)]\n",
    "        x = self.dropout(x)\n",
    "\n",
    "        x = self.transformer(x)\n",
    "\n",
    "        x = x.mean(dim = 1) if self.pool == 'mean' else x[:, 0]\n",
    "\n",
    "        x = self.to_latent(x)\n",
    "\n",
    "\n",
    "        x = torch.cat((x, one_hot), dim=1)\n",
    "        x = self.mlp_head(x)\n",
    "#         print(x.shape)\n",
    "        return x\n",
    "    \n",
    "    "
   ]
  },
  {
   "cell_type": "code",
   "execution_count": 321,
   "id": "ed43af6a",
   "metadata": {},
   "outputs": [],
   "source": [
    "import torch"
   ]
  },
  {
   "cell_type": "code",
   "execution_count": 322,
   "id": "dcc82f8b",
   "metadata": {},
   "outputs": [
    {
     "data": {
      "text/plain": [
       "tensor([[0., 0., 0., 0., 0., 0., 0., 0., 0., 0., 0., 0., 0., 0., 0., 0., 0., 0.,\n",
       "         0., 0., 0., 0., 0., 0., 1., 0., 0., 0., 0., 0., 0., 0., 0., 0., 0., 0.,\n",
       "         0., 0., 0., 0., 0., 0., 0., 0., 0., 0., 0., 0., 0., 0., 0., 0., 0., 0.]],\n",
       "       dtype=torch.float64)"
      ]
     },
     "execution_count": 322,
     "metadata": {},
     "output_type": "execute_result"
    }
   ],
   "source": [
    "one_hot_example = torch.from_numpy(loc_train[0].reshape(1,-1))\n",
    "one_hot_example"
   ]
  },
  {
   "cell_type": "code",
   "execution_count": 323,
   "id": "bfabbb4d",
   "metadata": {},
   "outputs": [],
   "source": [
    "# torch.from_numpy(x_one[0].reshape(1,-1))"
   ]
  },
  {
   "cell_type": "code",
   "execution_count": 324,
   "id": "92d4a5e5",
   "metadata": {},
   "outputs": [],
   "source": [
    "# preds.shape"
   ]
  },
  {
   "cell_type": "code",
   "execution_count": 325,
   "id": "a4572ec2",
   "metadata": {},
   "outputs": [],
   "source": [
    "# torch.cat((preds,torch.from_numpy(x_one[0].reshape(1,-1))),dim=1)"
   ]
  },
  {
   "cell_type": "code",
   "execution_count": 326,
   "id": "b16bc437",
   "metadata": {},
   "outputs": [],
   "source": [
    "v = DeepViT(\n",
    "    image_size = 1200,\n",
    "    patch_size = 30,\n",
    "    num_classes = 1,\n",
    "    dim = 1024,\n",
    "    depth = 3,\n",
    "    heads = 8,\n",
    "    mlp_dim = 1024,\n",
    "    dropout = 0.1,\n",
    "    emb_dropout = 0.1\n",
    ")"
   ]
  },
  {
   "cell_type": "code",
   "execution_count": 327,
   "id": "b41f7bcd",
   "metadata": {},
   "outputs": [],
   "source": [
    "img = torch.randn(8, 6, 1200, 1200)"
   ]
  },
  {
   "cell_type": "code",
   "execution_count": 328,
   "id": "34e9b22c",
   "metadata": {},
   "outputs": [],
   "source": [
    "one_hot_example = torch.from_numpy(loc_train[8*i:(i+1)*8].reshape(8,-1))"
   ]
  },
  {
   "cell_type": "code",
   "execution_count": 329,
   "id": "e549a45f",
   "metadata": {},
   "outputs": [
    {
     "data": {
      "text/plain": [
       "torch.Size([8, 54])"
      ]
     },
     "execution_count": 329,
     "metadata": {},
     "output_type": "execute_result"
    }
   ],
   "source": [
    "one_hot_example.shape"
   ]
  },
  {
   "cell_type": "code",
   "execution_count": 330,
   "id": "b8cdbe00",
   "metadata": {},
   "outputs": [],
   "source": [
    "# some = train_data[0][0].reshape((1, 6, 1200, 1200))"
   ]
  },
  {
   "cell_type": "code",
   "execution_count": null,
   "id": "6acff4e2",
   "metadata": {},
   "outputs": [],
   "source": [
    "v(img.float(),one_hot_example)"
   ]
  },
  {
   "cell_type": "code",
   "execution_count": 305,
   "id": "508cb4bc",
   "metadata": {},
   "outputs": [
    {
     "data": {
      "text/plain": [
       "torch.Size([64, 54])"
      ]
     },
     "execution_count": 305,
     "metadata": {},
     "output_type": "execute_result"
    }
   ],
   "source": [
    "torch.from_numpy(loc_train[64*i:(i+1)*64].reshape(64,-1)).shape"
   ]
  },
  {
   "cell_type": "code",
   "execution_count": 295,
   "id": "2740339a",
   "metadata": {},
   "outputs": [],
   "source": [
    "loss_function = nn.L1Loss()\n",
    "optimizer = torch.optim.Adam(v.parameters(), lr=1e-4)\n"
   ]
  },
  {
   "cell_type": "code",
   "execution_count": 302,
   "id": "4f09e8e2",
   "metadata": {},
   "outputs": [
    {
     "name": "stdout",
     "output_type": "stream",
     "text": [
      "Starting epoch 1\n",
      "64\n",
      "Training process has finished.\n"
     ]
    }
   ],
   "source": [
    "for epoch in range(0, 1): # 5 epochs at maximum\n",
    "    \n",
    "    # Print epoch\n",
    "    print(f'Starting epoch {epoch+1}')\n",
    "    \n",
    "    # Set current loss value\n",
    "    current_loss = 0.0\n",
    "    \n",
    "    # Iterate over the DataLoader for training data\n",
    "    for i, data in enumerate(train_loader, 0):\n",
    "        one_hot_example = torch.from_numpy(loc_train[64*i:(i+1)*64]\n",
    "        print(len(data[0]))\n",
    "        break\n",
    "        # Get and prepare inputs\n",
    "        inputs, targets = data\n",
    "        inputs, targets = inputs.float(), targets.float()\n",
    "        targets = targets.reshape((targets.shape[0], 1))\n",
    "      \n",
    "        # Zero the gradients\n",
    "        optimizer.zero_grad()\n",
    "      \n",
    "        # Perform forward pass\n",
    "        outputs = mlp(inputs)\n",
    "      \n",
    "        # Compute loss\n",
    "        loss = loss_function(outputs, targets)\n",
    "      \n",
    "        # Perform backward pass\n",
    "        loss.backward()\n",
    "      \n",
    "        # Perform optimization\n",
    "        optimizer.step()\n",
    "        \n",
    "        # Print statistics\n",
    "        current_loss += loss.item()\n",
    "        if i % 10 == 0:\n",
    "            print('Loss after mini-batch %5d: %.3f' % (i + 1, current_loss / 500))\n",
    "            current_loss = 0.0\n",
    "\n",
    "  # Process is complete.\n",
    "print('Training process has finished.')"
   ]
  },
  {
   "cell_type": "code",
   "execution_count": null,
   "id": "308db853",
   "metadata": {},
   "outputs": [],
   "source": []
  },
  {
   "cell_type": "code",
   "execution_count": null,
   "id": "fc30e5ee",
   "metadata": {},
   "outputs": [],
   "source": []
  },
  {
   "cell_type": "code",
   "execution_count": null,
   "id": "a3371529",
   "metadata": {},
   "outputs": [],
   "source": []
  },
  {
   "cell_type": "code",
   "execution_count": 292,
   "id": "12246d38",
   "metadata": {},
   "outputs": [
    {
     "name": "stdout",
     "output_type": "stream",
     "text": [
      "CPU times: user 3.04 s, sys: 797 ms, total: 3.83 s\n",
      "Wall time: 2.75 s\n"
     ]
    }
   ],
   "source": [
    "%%time\n",
    "preds = v(some.float(),one_hot_example)"
   ]
  },
  {
   "cell_type": "code",
   "execution_count": 293,
   "id": "5bc5496d",
   "metadata": {},
   "outputs": [],
   "source": [
    "# criterion = nn.MSELoss()\n",
    "# # optimizer\n",
    "# optimizer = optim.Adam(model.parameters(), lr=lr)\n",
    "# # scheduler\n",
    "# scheduler = StepLR(optimizer, step_size=1, gamma=gamma)\n"
   ]
  },
  {
   "cell_type": "code",
   "execution_count": 294,
   "id": "8da8e63d",
   "metadata": {},
   "outputs": [
    {
     "data": {
      "text/plain": [
       "tensor([[0.2256]], grad_fn=<AddmmBackward0>)"
      ]
     },
     "execution_count": 294,
     "metadata": {},
     "output_type": "execute_result"
    }
   ],
   "source": [
    "preds"
   ]
  },
  {
   "cell_type": "code",
   "execution_count": 118,
   "id": "180185bd",
   "metadata": {},
   "outputs": [],
   "source": [
    "id_l = list(set(train_labels[\"grid_id\"]))"
   ]
  },
  {
   "cell_type": "code",
   "execution_count": 53,
   "id": "aa832171",
   "metadata": {},
   "outputs": [
    {
     "data": {
      "text/plain": [
       "array([0., 0., 1., 0., 0., 0., 0., 0., 0., 0., 0., 0., 0., 0., 0., 0., 0.,\n",
       "       0., 0., 0., 0., 0., 0., 0., 0., 0., 0., 0., 0., 0., 0., 0., 0., 0.,\n",
       "       0., 0., 0., 0., 0., 0., 0., 0., 0., 0., 0., 0., 0., 0., 0., 0., 0.,\n",
       "       0., 0., 0.])"
      ]
     },
     "execution_count": 53,
     "metadata": {},
     "output_type": "execute_result"
    }
   ],
   "source": [
    "x_one[0]"
   ]
  },
  {
   "cell_type": "code",
   "execution_count": 122,
   "id": "71cde61e",
   "metadata": {},
   "outputs": [],
   "source": [
    "# '3S31A|2018-02-01T08:00:00Z' =='3S31A|2018-02-01T08:00:00Z'"
   ]
  },
  {
   "cell_type": "code",
   "execution_count": 123,
   "id": "aa560b61",
   "metadata": {},
   "outputs": [
    {
     "data": {
      "text/html": [
       "<div>\n",
       "<style scoped>\n",
       "    .dataframe tbody tr th:only-of-type {\n",
       "        vertical-align: middle;\n",
       "    }\n",
       "\n",
       "    .dataframe tbody tr th {\n",
       "        vertical-align: top;\n",
       "    }\n",
       "\n",
       "    .dataframe thead th {\n",
       "        text-align: right;\n",
       "    }\n",
       "</style>\n",
       "<table border=\"1\" class=\"dataframe\">\n",
       "  <thead>\n",
       "    <tr style=\"text-align: right;\">\n",
       "      <th></th>\n",
       "      <th>datetime</th>\n",
       "      <th>grid_id</th>\n",
       "      <th>value</th>\n",
       "    </tr>\n",
       "  </thead>\n",
       "  <tbody>\n",
       "    <tr>\n",
       "      <th>0</th>\n",
       "      <td>2018-02-01T08:00:00Z</td>\n",
       "      <td>3S31A</td>\n",
       "      <td>11.400000</td>\n",
       "    </tr>\n",
       "    <tr>\n",
       "      <th>1</th>\n",
       "      <td>2018-02-01T08:00:00Z</td>\n",
       "      <td>A2FBI</td>\n",
       "      <td>17.000000</td>\n",
       "    </tr>\n",
       "    <tr>\n",
       "      <th>2</th>\n",
       "      <td>2018-02-01T08:00:00Z</td>\n",
       "      <td>DJN0F</td>\n",
       "      <td>11.100000</td>\n",
       "    </tr>\n",
       "    <tr>\n",
       "      <th>3</th>\n",
       "      <td>2018-02-01T08:00:00Z</td>\n",
       "      <td>E5P9N</td>\n",
       "      <td>22.100000</td>\n",
       "    </tr>\n",
       "    <tr>\n",
       "      <th>4</th>\n",
       "      <td>2018-02-01T08:00:00Z</td>\n",
       "      <td>FRITQ</td>\n",
       "      <td>29.800000</td>\n",
       "    </tr>\n",
       "    <tr>\n",
       "      <th>...</th>\n",
       "      <td>...</td>\n",
       "      <td>...</td>\n",
       "      <td>...</td>\n",
       "    </tr>\n",
       "    <tr>\n",
       "      <th>34307</th>\n",
       "      <td>2020-12-31T18:30:00Z</td>\n",
       "      <td>P8JA5</td>\n",
       "      <td>368.611111</td>\n",
       "    </tr>\n",
       "    <tr>\n",
       "      <th>34308</th>\n",
       "      <td>2020-12-31T18:30:00Z</td>\n",
       "      <td>PW0JT</td>\n",
       "      <td>294.425000</td>\n",
       "    </tr>\n",
       "    <tr>\n",
       "      <th>34309</th>\n",
       "      <td>2020-12-31T18:30:00Z</td>\n",
       "      <td>VXNN3</td>\n",
       "      <td>224.857143</td>\n",
       "    </tr>\n",
       "    <tr>\n",
       "      <th>34310</th>\n",
       "      <td>2020-12-31T18:30:00Z</td>\n",
       "      <td>VYH7U</td>\n",
       "      <td>287.000000</td>\n",
       "    </tr>\n",
       "    <tr>\n",
       "      <th>34311</th>\n",
       "      <td>2020-12-31T18:30:00Z</td>\n",
       "      <td>ZF3ZW</td>\n",
       "      <td>410.500000</td>\n",
       "    </tr>\n",
       "  </tbody>\n",
       "</table>\n",
       "<p>34312 rows × 3 columns</p>\n",
       "</div>"
      ],
      "text/plain": [
       "                   datetime grid_id       value\n",
       "0      2018-02-01T08:00:00Z   3S31A   11.400000\n",
       "1      2018-02-01T08:00:00Z   A2FBI   17.000000\n",
       "2      2018-02-01T08:00:00Z   DJN0F   11.100000\n",
       "3      2018-02-01T08:00:00Z   E5P9N   22.100000\n",
       "4      2018-02-01T08:00:00Z   FRITQ   29.800000\n",
       "...                     ...     ...         ...\n",
       "34307  2020-12-31T18:30:00Z   P8JA5  368.611111\n",
       "34308  2020-12-31T18:30:00Z   PW0JT  294.425000\n",
       "34309  2020-12-31T18:30:00Z   VXNN3  224.857143\n",
       "34310  2020-12-31T18:30:00Z   VYH7U  287.000000\n",
       "34311  2020-12-31T18:30:00Z   ZF3ZW  410.500000\n",
       "\n",
       "[34312 rows x 3 columns]"
      ]
     },
     "execution_count": 123,
     "metadata": {},
     "output_type": "execute_result"
    }
   ],
   "source": [
    "train_labels"
   ]
  },
  {
   "cell_type": "code",
   "execution_count": 51,
   "id": "225337c5",
   "metadata": {},
   "outputs": [
    {
     "data": {
      "text/plain": [
       "'3S31A|2018-02-01T08:00:00Z'"
      ]
     },
     "execution_count": 51,
     "metadata": {},
     "output_type": "execute_result"
    }
   ],
   "source": [
    "list(data_to_loc.keys())[0]"
   ]
  },
  {
   "cell_type": "code",
   "execution_count": 60,
   "id": "766dcbca",
   "metadata": {},
   "outputs": [],
   "source": [
    "a = all_files_d_100_dict['20180201T191000_maiac_la_0.hdf']['AOD at 0.47 micron']"
   ]
  },
  {
   "cell_type": "code",
   "execution_count": 52,
   "id": "521c4b61",
   "metadata": {},
   "outputs": [
    {
     "data": {
      "text/plain": [
       "['3S31A', '2018-02-01T08:00:00Z']"
      ]
     },
     "execution_count": 52,
     "metadata": {},
     "output_type": "execute_result"
    }
   ],
   "source": [
    "'3S31A|2018-02-01T08:00:00Z'.split(\"|\")"
   ]
  },
  {
   "cell_type": "code",
   "execution_count": 65,
   "id": "d8c99b4b",
   "metadata": {},
   "outputs": [
    {
     "data": {
      "text/plain": [
       "array([[0, 0, 0, ..., 0, 0, 0],\n",
       "       [0, 0, 0, ..., 0, 0, 0],\n",
       "       [0, 0, 0, ..., 0, 0, 0],\n",
       "       ...,\n",
       "       [0, 0, 0, ..., 0, 0, 0],\n",
       "       [0, 0, 0, ..., 0, 0, 0],\n",
       "       [0, 0, 0, ..., 0, 0, 0]], dtype=int16)"
      ]
     },
     "execution_count": 65,
     "metadata": {},
     "output_type": "execute_result"
    }
   ],
   "source": [
    "np.where(a[0] <0 , 0, a[0])"
   ]
  },
  {
   "cell_type": "code",
   "execution_count": 59,
   "id": "207450e4",
   "metadata": {},
   "outputs": [
    {
     "ename": "ValueError",
     "evalue": "object too deep for desired array",
     "output_type": "error",
     "traceback": [
      "\u001b[0;31m---------------------------------------------------------------------------\u001b[0m",
      "\u001b[0;31mValueError\u001b[0m                                Traceback (most recent call last)",
      "\u001b[0;32m/tmp/ipykernel_635/1244865980.py\u001b[0m in \u001b[0;36m<module>\u001b[0;34m\u001b[0m\n\u001b[0;32m----> 1\u001b[0;31m \u001b[0mnp\u001b[0m\u001b[0;34m.\u001b[0m\u001b[0mbincount\u001b[0m\u001b[0;34m(\u001b[0m\u001b[0ma\u001b[0m\u001b[0;34m)\u001b[0m\u001b[0;34m\u001b[0m\u001b[0;34m\u001b[0m\u001b[0m\n\u001b[0m",
      "\u001b[0;32m<__array_function__ internals>\u001b[0m in \u001b[0;36mbincount\u001b[0;34m(*args, **kwargs)\u001b[0m\n",
      "\u001b[0;31mValueError\u001b[0m: object too deep for desired array"
     ]
    }
   ],
   "source": [
    "np.bincount(a)"
   ]
  },
  {
   "cell_type": "code",
   "execution_count": 44,
   "id": "4159c354",
   "metadata": {},
   "outputs": [
    {
     "data": {
      "text/plain": [
       "4234"
      ]
     },
     "execution_count": 44,
     "metadata": {},
     "output_type": "execute_result"
    }
   ],
   "source": [
    "len(all_files_d_100)"
   ]
  },
  {
   "cell_type": "code",
   "execution_count": 45,
   "id": "99304a95",
   "metadata": {},
   "outputs": [],
   "source": [
    "all_47 = []\n",
    "all_55 = []\n",
    "# 'AOD at 0.55 micron'\n",
    "for i in all_files_d_100:\n",
    "    for j in i[\"data\"]['AOD at 0.47 micron']:\n",
    "        all_47.append(j)\n",
    "    for j in i[\"data\"]['AOD at 0.55 micron']:\n",
    "        all_55.append(j)\n",
    "        "
   ]
  },
  {
   "cell_type": "code",
   "execution_count": 60,
   "id": "76b9596f",
   "metadata": {},
   "outputs": [
    {
     "data": {
      "text/plain": [
       "(15268, 15268)"
      ]
     },
     "execution_count": 60,
     "metadata": {},
     "output_type": "execute_result"
    }
   ],
   "source": [
    "len(all_47),len(all_55)"
   ]
  },
  {
   "cell_type": "code",
   "execution_count": 69,
   "id": "545330ba",
   "metadata": {},
   "outputs": [
    {
     "data": {
      "text/plain": [
       "2"
      ]
     },
     "execution_count": 69,
     "metadata": {},
     "output_type": "execute_result"
    }
   ],
   "source": [
    "1+1"
   ]
  },
  {
   "cell_type": "code",
   "execution_count": 84,
   "id": "f7dab294",
   "metadata": {},
   "outputs": [
    {
     "data": {
      "text/plain": [
       "1439995"
      ]
     },
     "execution_count": 84,
     "metadata": {},
     "output_type": "execute_result"
    }
   ],
   "source": [
    "np.count_nonzero(i < 0)"
   ]
  },
  {
   "cell_type": "code",
   "execution_count": null,
   "id": "810a10fe",
   "metadata": {},
   "outputs": [],
   "source": []
  },
  {
   "cell_type": "code",
   "execution_count": 85,
   "id": "2913c149",
   "metadata": {},
   "outputs": [
    {
     "data": {
      "text/plain": [
       "1440000"
      ]
     },
     "execution_count": 85,
     "metadata": {},
     "output_type": "execute_result"
    }
   ],
   "source": [
    "1200*1200"
   ]
  },
  {
   "cell_type": "code",
   "execution_count": 70,
   "id": "bada1bdc",
   "metadata": {},
   "outputs": [
    {
     "data": {
      "text/plain": [
       "array([[-28672, -28672, -28672, ..., -28672, -28672, -28672],\n",
       "       [-28672, -28672, -28672, ..., -28672, -28672, -28672],\n",
       "       [-28672, -28672, -28672, ..., -28672, -28672, -28672],\n",
       "       ...,\n",
       "       [-28672, -28672, -28672, ..., -28672,    276,    280],\n",
       "       [-28672, -28672, -28672, ..., -28672,    252,    254],\n",
       "       [-28672, -28672, -28672, ..., -28672, -28672,    340]], dtype=int16)"
      ]
     },
     "execution_count": 70,
     "metadata": {},
     "output_type": "execute_result"
    }
   ],
   "source": [
    "i"
   ]
  },
  {
   "cell_type": "code",
   "execution_count": 88,
   "id": "f2aa5954",
   "metadata": {
    "scrolled": false
   },
   "outputs": [],
   "source": [
    "all_47_f = [ i for i in all_47 if(np.count_nonzero(i < 0) <1439995 )]\n",
    "all_55_f = [ i for i in all_55 if(np.count_nonzero(i < 0) <1439995 )]"
   ]
  },
  {
   "cell_type": "code",
   "execution_count": 112,
   "id": "d32d43d2",
   "metadata": {},
   "outputs": [],
   "source": [
    "import pickle"
   ]
  },
  {
   "cell_type": "code",
   "execution_count": 113,
   "id": "3d58c3a0",
   "metadata": {},
   "outputs": [],
   "source": [
    "with open('all_47_f','wb') as f: pickle.dump(all_47_f, f)"
   ]
  },
  {
   "cell_type": "code",
   "execution_count": 114,
   "id": "b3bc93d8",
   "metadata": {},
   "outputs": [],
   "source": [
    "with open('all_55_f','wb') as f: pickle.dump(all_55_f, f)"
   ]
  },
  {
   "cell_type": "code",
   "execution_count": 111,
   "id": "63ee5363",
   "metadata": {},
   "outputs": [
    {
     "data": {
      "text/plain": [
       "2"
      ]
     },
     "execution_count": 111,
     "metadata": {},
     "output_type": "execute_result"
    }
   ],
   "source": [
    "1+1"
   ]
  },
  {
   "cell_type": "markdown",
   "id": "976925c5",
   "metadata": {},
   "source": [
    " "
   ]
  },
  {
   "cell_type": "markdown",
   "id": "2e2cd420",
   "metadata": {},
   "source": [
    "# "
   ]
  },
  {
   "cell_type": "code",
   "execution_count": 89,
   "id": "061e577e",
   "metadata": {},
   "outputs": [
    {
     "data": {
      "text/plain": [
       "(14316, 14316)"
      ]
     },
     "execution_count": 89,
     "metadata": {},
     "output_type": "execute_result"
    }
   ],
   "source": [
    "len(all_47_f),len(all_55_f)"
   ]
  },
  {
   "cell_type": "code",
   "execution_count": 91,
   "id": "c7be5d6b",
   "metadata": {},
   "outputs": [
    {
     "name": "stdout",
     "output_type": "stream",
     "text": [
      "\u001b[0m\u001b[01;34mPyTorch-VAE\u001b[0m/         grid_metadata.csv            submission_format.csv\r\n",
      "\u001b[01;34maws\u001b[0m/                 onstart.log                  \u001b[01;34mtest\u001b[0m/\r\n",
      "bash.ipynb           onstart.sh                   \u001b[01;34mtrain\u001b[0m/\r\n",
      "data_handling.ipynb  pm25_satellite_metadata.csv  train_labels.csv\r\n"
     ]
    }
   ],
   "source": [
    "ls"
   ]
  },
  {
   "cell_type": "code",
   "execution_count": 106,
   "id": "c2425b4d",
   "metadata": {},
   "outputs": [],
   "source": [
    "import sys\n",
    "sys.path.insert(0,'./PyTorch-VAE/')"
   ]
  },
  {
   "cell_type": "code",
   "execution_count": 109,
   "id": "74d75028",
   "metadata": {},
   "outputs": [
    {
     "ename": "ModuleNotFoundError",
     "evalue": "No module named 'models'",
     "output_type": "error",
     "traceback": [
      "\u001b[0;31m---------------------------------------------------------------------------\u001b[0m",
      "\u001b[0;31mModuleNotFoundError\u001b[0m                       Traceback (most recent call last)",
      "\u001b[0;32m/tmp/ipykernel_9070/881768203.py\u001b[0m in \u001b[0;36m<module>\u001b[0;34m\u001b[0m\n\u001b[1;32m      4\u001b[0m \u001b[0;32mimport\u001b[0m \u001b[0mnumpy\u001b[0m \u001b[0;32mas\u001b[0m \u001b[0mnp\u001b[0m\u001b[0;34m\u001b[0m\u001b[0;34m\u001b[0m\u001b[0m\n\u001b[1;32m      5\u001b[0m \u001b[0;32mfrom\u001b[0m \u001b[0mpathlib\u001b[0m \u001b[0;32mimport\u001b[0m \u001b[0mPath\u001b[0m\u001b[0;34m\u001b[0m\u001b[0;34m\u001b[0m\u001b[0m\n\u001b[0;32m----> 6\u001b[0;31m \u001b[0;32mfrom\u001b[0m \u001b[0mmodels\u001b[0m \u001b[0;32mimport\u001b[0m \u001b[0;34m*\u001b[0m\u001b[0;34m\u001b[0m\u001b[0;34m\u001b[0m\u001b[0m\n\u001b[0m\u001b[1;32m      7\u001b[0m \u001b[0;32mfrom\u001b[0m \u001b[0mexperiment\u001b[0m \u001b[0;32mimport\u001b[0m \u001b[0mVAEXperiment\u001b[0m\u001b[0;34m\u001b[0m\u001b[0;34m\u001b[0m\u001b[0m\n\u001b[1;32m      8\u001b[0m \u001b[0;32mimport\u001b[0m \u001b[0mtorch\u001b[0m\u001b[0;34m.\u001b[0m\u001b[0mbackends\u001b[0m\u001b[0;34m.\u001b[0m\u001b[0mcudnn\u001b[0m \u001b[0;32mas\u001b[0m \u001b[0mcudnn\u001b[0m\u001b[0;34m\u001b[0m\u001b[0;34m\u001b[0m\u001b[0m\n",
      "\u001b[0;31mModuleNotFoundError\u001b[0m: No module named 'models'"
     ]
    }
   ],
   "source": [
    "\n",
    "import os\n",
    "import yaml\n",
    "import argparse\n",
    "import numpy as np\n",
    "from pathlib import Path\n",
    "from models import *\n",
    "from experiment import VAEXperiment\n",
    "import torch.backends.cudnn as cudnn\n",
    "from pytorch_lightning import Trainer\n",
    "from pytorch_lightning.loggers import TensorBoardLogger\n",
    "from pytorch_lightning.utilities.seed import seed_everything\n",
    "from pytorch_lightning.callbacks import LearningRateMonitor, ModelCheckpoint\n",
    "from dataset import VAEDataset\n",
    "from pytorch_lightning.plugins import DDPPlugin\n"
   ]
  },
  {
   "cell_type": "code",
   "execution_count": null,
   "id": "7a5cbec4",
   "metadata": {},
   "outputs": [],
   "source": [
    "1+1\n",
    "    "
   ]
  },
  {
   "cell_type": "code",
   "execution_count": 61,
   "id": "82b08270",
   "metadata": {},
   "outputs": [
    {
     "data": {
      "text/plain": [
       "array([[-28672, -28672, -28672, ..., -28672, -28672,    111],\n",
       "       [-28672, -28672, -28672, ..., -28672, -28672,    101],\n",
       "       [-28672, -28672, -28672, ..., -28672,     91,     91],\n",
       "       ...,\n",
       "       [-28672, -28672, -28672, ...,     68,     66,     79],\n",
       "       [-28672, -28672, -28672, ...,     56,     55,     62],\n",
       "       [-28672, -28672, -28672, ...,     48,     48,     53]], dtype=int16)"
      ]
     },
     "execution_count": 61,
     "metadata": {},
     "output_type": "execute_result"
    }
   ],
   "source": [
    "all_47 = "
   ]
  },
  {
   "cell_type": "code",
   "execution_count": 56,
   "id": "47e9ab5c",
   "metadata": {},
   "outputs": [
    {
     "data": {
      "text/plain": [
       "{'AOD at 0.47 micron': [array([[-28672, -28672, -28672, ..., -28672, -28672,    111],\n",
       "         [-28672, -28672, -28672, ..., -28672, -28672,    101],\n",
       "         [-28672, -28672, -28672, ..., -28672,     91,     91],\n",
       "         ...,\n",
       "         [-28672, -28672, -28672, ...,     68,     66,     79],\n",
       "         [-28672, -28672, -28672, ...,     56,     55,     62],\n",
       "         [-28672, -28672, -28672, ...,     48,     48,     53]], dtype=int16),\n",
       "  array([[-28672, -28672, -28672, ..., -28672, -28672, -28672],\n",
       "         [-28672, -28672, -28672, ..., -28672, -28672, -28672],\n",
       "         [-28672, -28672, -28672, ..., -28672, -28672, -28672],\n",
       "         ...,\n",
       "         [-28672, -28672, -28672, ...,    175,    168,    173],\n",
       "         [-28672, -28672, -28672, ...,    189,    178,    173],\n",
       "         [-28672, -28672, -28672, ...,    177,    163,    154]], dtype=int16),\n",
       "  array([[-28672, -28672, -28672, ..., -28672, -28672, -28672],\n",
       "         [-28672, -28672, -28672, ..., -28672, -28672, -28672],\n",
       "         [-28672, -28672, -28672, ..., -28672, -28672, -28672],\n",
       "         ...,\n",
       "         [-28672, -28672, -28672, ..., -28672, -28672, -28672],\n",
       "         [-28672, -28672, -28672, ..., -28672, -28672, -28672],\n",
       "         [-28672, -28672, -28672, ..., -28672, -28672, -28672]], dtype=int16),\n",
       "  array([[-28672, -28672, -28672, ...,     50,     35,     38],\n",
       "         [-28672, -28672, -28672, ...,     51,     42,     41],\n",
       "         [-28672, -28672, -28672, ...,     56,     45,     45],\n",
       "         ...,\n",
       "         [-28672,    290,    261, ..., -28672, -28672, -28672],\n",
       "         [   290,    278,    250, ..., -28672, -28672, -28672],\n",
       "         [   287,    276,    243, ..., -28672, -28672, -28672]], dtype=int16)],\n",
       " 'AOD at 0.55 micron': [array([[-28672, -28672, -28672, ..., -28672, -28672,     82],\n",
       "         [-28672, -28672, -28672, ..., -28672, -28672,     75],\n",
       "         [-28672, -28672, -28672, ..., -28672,     67,     67],\n",
       "         ...,\n",
       "         [-28672, -28672, -28672, ...,     50,     49,     59],\n",
       "         [-28672, -28672, -28672, ...,     41,     41,     46],\n",
       "         [-28672, -28672, -28672, ...,     35,     35,     39]], dtype=int16),\n",
       "  array([[-28672, -28672, -28672, ..., -28672, -28672, -28672],\n",
       "         [-28672, -28672, -28672, ..., -28672, -28672, -28672],\n",
       "         [-28672, -28672, -28672, ..., -28672, -28672, -28672],\n",
       "         ...,\n",
       "         [-28672, -28672, -28672, ...,    130,    124,    128],\n",
       "         [-28672, -28672, -28672, ...,    140,    131,    128],\n",
       "         [-28672, -28672, -28672, ...,    131,    120,    114]], dtype=int16),\n",
       "  array([[-28672, -28672, -28672, ..., -28672, -28672, -28672],\n",
       "         [-28672, -28672, -28672, ..., -28672, -28672, -28672],\n",
       "         [-28672, -28672, -28672, ..., -28672, -28672, -28672],\n",
       "         ...,\n",
       "         [-28672, -28672, -28672, ..., -28672, -28672, -28672],\n",
       "         [-28672, -28672, -28672, ..., -28672, -28672, -28672],\n",
       "         [-28672, -28672, -28672, ..., -28672, -28672, -28672]], dtype=int16),\n",
       "  array([[-28672, -28672, -28672, ...,     37,     26,     28],\n",
       "         [-28672, -28672, -28672, ...,     38,     31,     30],\n",
       "         [-28672, -28672, -28672, ...,     41,     33,     34],\n",
       "         ...,\n",
       "         [-28672,    214,    193, ..., -28672, -28672, -28672],\n",
       "         [   215,    205,    185, ..., -28672, -28672, -28672],\n",
       "         [   212,    204,    180, ..., -28672, -28672, -28672]], dtype=int16)]}"
      ]
     },
     "execution_count": 56,
     "metadata": {},
     "output_type": "execute_result"
    }
   ],
   "source": [
    "all_files_d_100[0][\"data\"]#['AOD at 0.47 micron'][0].shape"
   ]
  },
  {
   "cell_type": "code",
   "execution_count": 38,
   "id": "a6005dcb",
   "metadata": {},
   "outputs": [],
   "source": [
    "import warnings\n",
    "warnings.simplefilter(\"ignore\")"
   ]
  },
  {
   "cell_type": "code",
   "execution_count": 50,
   "id": "6cda010e",
   "metadata": {},
   "outputs": [
    {
     "data": {
      "text/plain": [
       "54"
      ]
     },
     "execution_count": 50,
     "metadata": {},
     "output_type": "execute_result"
    }
   ],
   "source": [
    "len(set(train_labels[\"grid_id\"]))"
   ]
  },
  {
   "cell_type": "code",
   "execution_count": 51,
   "id": "b699284c",
   "metadata": {},
   "outputs": [
    {
     "data": {
      "text/html": [
       "<div>\n",
       "<style scoped>\n",
       "    .dataframe tbody tr th:only-of-type {\n",
       "        vertical-align: middle;\n",
       "    }\n",
       "\n",
       "    .dataframe tbody tr th {\n",
       "        vertical-align: top;\n",
       "    }\n",
       "\n",
       "    .dataframe thead th {\n",
       "        text-align: right;\n",
       "    }\n",
       "</style>\n",
       "<table border=\"1\" class=\"dataframe\">\n",
       "  <thead>\n",
       "    <tr style=\"text-align: right;\">\n",
       "      <th></th>\n",
       "      <th>granule_id</th>\n",
       "      <th>time_start</th>\n",
       "      <th>time_end</th>\n",
       "      <th>product</th>\n",
       "      <th>location</th>\n",
       "      <th>split</th>\n",
       "      <th>us_url</th>\n",
       "      <th>eu_url</th>\n",
       "      <th>as_url</th>\n",
       "      <th>cksum</th>\n",
       "      <th>granule_size</th>\n",
       "      <th>Date</th>\n",
       "    </tr>\n",
       "  </thead>\n",
       "  <tbody>\n",
       "    <tr>\n",
       "      <th>0</th>\n",
       "      <td>20180201T191000_maiac_la_0.hdf</td>\n",
       "      <td>2018-02-01T17:25:00.000Z</td>\n",
       "      <td>2018-02-01 19:10:00+00:00</td>\n",
       "      <td>maiac</td>\n",
       "      <td>la</td>\n",
       "      <td>train</td>\n",
       "      <td>s3://drivendata-competition-airathon-public-us...</td>\n",
       "      <td>s3://drivendata-competition-airathon-public-eu...</td>\n",
       "      <td>s3://drivendata-competition-airathon-public-as...</td>\n",
       "      <td>911405771</td>\n",
       "      <td>10446736</td>\n",
       "      <td>2018-02-01 19:10:00+00:00</td>\n",
       "    </tr>\n",
       "    <tr>\n",
       "      <th>1</th>\n",
       "      <td>20180202T195000_maiac_la_0.hdf</td>\n",
       "      <td>2018-02-02T18:05:00.000Z</td>\n",
       "      <td>2018-02-02 19:50:00+00:00</td>\n",
       "      <td>maiac</td>\n",
       "      <td>la</td>\n",
       "      <td>train</td>\n",
       "      <td>s3://drivendata-competition-airathon-public-us...</td>\n",
       "      <td>s3://drivendata-competition-airathon-public-eu...</td>\n",
       "      <td>s3://drivendata-competition-airathon-public-as...</td>\n",
       "      <td>2244451908</td>\n",
       "      <td>11090180</td>\n",
       "      <td>2018-02-02 19:50:00+00:00</td>\n",
       "    </tr>\n",
       "    <tr>\n",
       "      <th>2</th>\n",
       "      <td>20180203T203000_maiac_la_0.hdf</td>\n",
       "      <td>2018-02-03T17:10:00.000Z</td>\n",
       "      <td>2018-02-03 20:30:00+00:00</td>\n",
       "      <td>maiac</td>\n",
       "      <td>la</td>\n",
       "      <td>train</td>\n",
       "      <td>s3://drivendata-competition-airathon-public-us...</td>\n",
       "      <td>s3://drivendata-competition-airathon-public-eu...</td>\n",
       "      <td>s3://drivendata-competition-airathon-public-as...</td>\n",
       "      <td>3799527997</td>\n",
       "      <td>12468482</td>\n",
       "      <td>2018-02-03 20:30:00+00:00</td>\n",
       "    </tr>\n",
       "    <tr>\n",
       "      <th>3</th>\n",
       "      <td>20180204T194000_maiac_la_0.hdf</td>\n",
       "      <td>2018-02-04T17:55:00.000Z</td>\n",
       "      <td>2018-02-04 19:40:00+00:00</td>\n",
       "      <td>maiac</td>\n",
       "      <td>la</td>\n",
       "      <td>train</td>\n",
       "      <td>s3://drivendata-competition-airathon-public-us...</td>\n",
       "      <td>s3://drivendata-competition-airathon-public-eu...</td>\n",
       "      <td>s3://drivendata-competition-airathon-public-as...</td>\n",
       "      <td>4105997844</td>\n",
       "      <td>13064424</td>\n",
       "      <td>2018-02-04 19:40:00+00:00</td>\n",
       "    </tr>\n",
       "    <tr>\n",
       "      <th>4</th>\n",
       "      <td>20180205T202000_maiac_la_0.hdf</td>\n",
       "      <td>2018-02-05T17:00:00.000Z</td>\n",
       "      <td>2018-02-05 20:20:00+00:00</td>\n",
       "      <td>maiac</td>\n",
       "      <td>la</td>\n",
       "      <td>train</td>\n",
       "      <td>s3://drivendata-competition-airathon-public-us...</td>\n",
       "      <td>s3://drivendata-competition-airathon-public-eu...</td>\n",
       "      <td>s3://drivendata-competition-airathon-public-as...</td>\n",
       "      <td>1805072340</td>\n",
       "      <td>12549313</td>\n",
       "      <td>2018-02-05 20:20:00+00:00</td>\n",
       "    </tr>\n",
       "  </tbody>\n",
       "</table>\n",
       "</div>"
      ],
      "text/plain": [
       "                       granule_id                time_start  \\\n",
       "0  20180201T191000_maiac_la_0.hdf  2018-02-01T17:25:00.000Z   \n",
       "1  20180202T195000_maiac_la_0.hdf  2018-02-02T18:05:00.000Z   \n",
       "2  20180203T203000_maiac_la_0.hdf  2018-02-03T17:10:00.000Z   \n",
       "3  20180204T194000_maiac_la_0.hdf  2018-02-04T17:55:00.000Z   \n",
       "4  20180205T202000_maiac_la_0.hdf  2018-02-05T17:00:00.000Z   \n",
       "\n",
       "                    time_end product location  split  \\\n",
       "0  2018-02-01 19:10:00+00:00   maiac       la  train   \n",
       "1  2018-02-02 19:50:00+00:00   maiac       la  train   \n",
       "2  2018-02-03 20:30:00+00:00   maiac       la  train   \n",
       "3  2018-02-04 19:40:00+00:00   maiac       la  train   \n",
       "4  2018-02-05 20:20:00+00:00   maiac       la  train   \n",
       "\n",
       "                                              us_url  \\\n",
       "0  s3://drivendata-competition-airathon-public-us...   \n",
       "1  s3://drivendata-competition-airathon-public-us...   \n",
       "2  s3://drivendata-competition-airathon-public-us...   \n",
       "3  s3://drivendata-competition-airathon-public-us...   \n",
       "4  s3://drivendata-competition-airathon-public-us...   \n",
       "\n",
       "                                              eu_url  \\\n",
       "0  s3://drivendata-competition-airathon-public-eu...   \n",
       "1  s3://drivendata-competition-airathon-public-eu...   \n",
       "2  s3://drivendata-competition-airathon-public-eu...   \n",
       "3  s3://drivendata-competition-airathon-public-eu...   \n",
       "4  s3://drivendata-competition-airathon-public-eu...   \n",
       "\n",
       "                                              as_url       cksum  \\\n",
       "0  s3://drivendata-competition-airathon-public-as...   911405771   \n",
       "1  s3://drivendata-competition-airathon-public-as...  2244451908   \n",
       "2  s3://drivendata-competition-airathon-public-as...  3799527997   \n",
       "3  s3://drivendata-competition-airathon-public-as...  4105997844   \n",
       "4  s3://drivendata-competition-airathon-public-as...  1805072340   \n",
       "\n",
       "   granule_size                      Date  \n",
       "0      10446736 2018-02-01 19:10:00+00:00  \n",
       "1      11090180 2018-02-02 19:50:00+00:00  \n",
       "2      12468482 2018-02-03 20:30:00+00:00  \n",
       "3      13064424 2018-02-04 19:40:00+00:00  \n",
       "4      12549313 2018-02-05 20:20:00+00:00  "
      ]
     },
     "execution_count": 51,
     "metadata": {},
     "output_type": "execute_result"
    }
   ],
   "source": [
    "satellite_metadata.head()"
   ]
  },
  {
   "cell_type": "code",
   "execution_count": 54,
   "id": "9b97af0d",
   "metadata": {},
   "outputs": [
    {
     "data": {
      "text/plain": [
       "['20180201T191000_maiac_la_0.hdf']"
      ]
     },
     "execution_count": 54,
     "metadata": {},
     "output_type": "execute_result"
    }
   ],
   "source": [
    "data_to_loc['3S31A|2018-02-01T08:00:00Z']"
   ]
  },
  {
   "cell_type": "code",
   "execution_count": null,
   "id": "3424d97d",
   "metadata": {},
   "outputs": [],
   "source": []
  }
 ],
 "metadata": {
  "kernelspec": {
   "display_name": "cv",
   "language": "python",
   "name": "cv"
  },
  "language_info": {
   "codemirror_mode": {
    "name": "ipython",
    "version": 3
   },
   "file_extension": ".py",
   "mimetype": "text/x-python",
   "name": "python",
   "nbconvert_exporter": "python",
   "pygments_lexer": "ipython3",
   "version": "3.8.6"
  }
 },
 "nbformat": 4,
 "nbformat_minor": 5
}
