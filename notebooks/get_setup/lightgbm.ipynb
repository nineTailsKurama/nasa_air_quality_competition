{
 "cells": [
  {
   "cell_type": "code",
   "execution_count": 2,
   "id": "5b80134b",
   "metadata": {},
   "outputs": [],
   "source": [
    "# !git clone --recursive https://github.com/microsoft/LightGBM\n",
    "import pandas as pd"
   ]
  },
  {
   "cell_type": "code",
   "execution_count": null,
   "id": "f6bb9787",
   "metadata": {},
   "outputs": [],
   "source": []
  },
  {
   "cell_type": "code",
   "execution_count": null,
   "id": "d6f2110f",
   "metadata": {},
   "outputs": [],
   "source": []
  },
  {
   "cell_type": "code",
   "execution_count": null,
   "id": "2dc61d1f",
   "metadata": {},
   "outputs": [],
   "source": []
  },
  {
   "cell_type": "code",
   "execution_count": 30,
   "id": "79957a63",
   "metadata": {},
   "outputs": [],
   "source": [
    "df = pd.read_csv(\"scpppi/processed_data_l.csv\")"
   ]
  },
  {
   "cell_type": "code",
   "execution_count": 31,
   "id": "7efdb1e6",
   "metadata": {},
   "outputs": [],
   "source": [
    "df = df.drop(columns=[\"Unnamed: 0\",\"datetime\",\"granule_id\"])"
   ]
  },
  {
   "cell_type": "code",
   "execution_count": 32,
   "id": "a1d3c399",
   "metadata": {},
   "outputs": [
    {
     "data": {
      "text/plain": [
       "0        Los Angeles (SoCAB)\n",
       "1        Los Angeles (SoCAB)\n",
       "2        Los Angeles (SoCAB)\n",
       "3        Los Angeles (SoCAB)\n",
       "4        Los Angeles (SoCAB)\n",
       "                ...         \n",
       "39445                  Delhi\n",
       "39446                  Delhi\n",
       "39447                  Delhi\n",
       "39448                  Delhi\n",
       "39449                  Delhi\n",
       "Name: location, Length: 39450, dtype: object"
      ]
     },
     "execution_count": 32,
     "metadata": {},
     "output_type": "execute_result"
    }
   ],
   "source": [
    "df[\"location\"]"
   ]
  },
  {
   "cell_type": "code",
   "execution_count": 33,
   "id": "22a2441c",
   "metadata": {},
   "outputs": [],
   "source": [
    "df[\"datetime_dt\"] = pd.to_datetime(df[\"datetime_dt\"] )"
   ]
  },
  {
   "cell_type": "code",
   "execution_count": 34,
   "id": "22842377",
   "metadata": {},
   "outputs": [],
   "source": [
    "def clean_df(df):\n",
    "    df = df.drop(columns=[\"Unnamed: 0\",\"datetime\",\"granule_id\"])\n",
    "    df[\"datetime_dt\"] = pd.to_datetime(df[\"datetime_dt\"] )\n",
    "    df[\"month\"] = [i.month for i in df[\"datetime_dt\"]]\n",
    "    df[\"month\"] = df[\"month\"].astype(str).astype(\"category\")\n",
    "    one_hot = pd.get_dummies(df[\"month\"])\n",
    "    df = df.join(one_hot)\n",
    "    df = df.drop('month',axis = 1)\n",
    "    df = df.drop('date',axis = 1)\n",
    "    one_hot = pd.get_dummies(df[\"location\"])\n",
    "    df = df.join(one_hot)\n",
    "#     df = df.drop('location',axis = 1)\n",
    "    one_hot = pd.get_dummies(df[\"grid_id\"])\n",
    "    df = df.join(one_hot)\n",
    "    df = df.drop('grid_id',axis = 1)\n",
    "    return df"
   ]
  },
  {
   "cell_type": "code",
   "execution_count": 35,
   "id": "3bb6063f",
   "metadata": {},
   "outputs": [],
   "source": [
    "df[\"month\"] = [i.month for i in df[\"datetime_dt\"]]"
   ]
  },
  {
   "cell_type": "code",
   "execution_count": 36,
   "id": "61c299cb",
   "metadata": {},
   "outputs": [],
   "source": [
    "df[\"month\"] = df[\"month\"].astype(str).astype(\"category\")"
   ]
  },
  {
   "cell_type": "code",
   "execution_count": 37,
   "id": "23c5d177",
   "metadata": {},
   "outputs": [
    {
     "data": {
      "text/html": [
       "<div>\n",
       "<style scoped>\n",
       "    .dataframe tbody tr th:only-of-type {\n",
       "        vertical-align: middle;\n",
       "    }\n",
       "\n",
       "    .dataframe tbody tr th {\n",
       "        vertical-align: top;\n",
       "    }\n",
       "\n",
       "    .dataframe thead th {\n",
       "        text-align: right;\n",
       "    }\n",
       "</style>\n",
       "<table border=\"1\" class=\"dataframe\">\n",
       "  <thead>\n",
       "    <tr style=\"text-align: right;\">\n",
       "      <th></th>\n",
       "      <th>1</th>\n",
       "      <th>10</th>\n",
       "      <th>11</th>\n",
       "      <th>12</th>\n",
       "      <th>2</th>\n",
       "      <th>3</th>\n",
       "      <th>4</th>\n",
       "      <th>5</th>\n",
       "      <th>6</th>\n",
       "      <th>7</th>\n",
       "      <th>8</th>\n",
       "      <th>9</th>\n",
       "    </tr>\n",
       "  </thead>\n",
       "  <tbody>\n",
       "    <tr>\n",
       "      <th>0</th>\n",
       "      <td>0</td>\n",
       "      <td>0</td>\n",
       "      <td>0</td>\n",
       "      <td>0</td>\n",
       "      <td>1</td>\n",
       "      <td>0</td>\n",
       "      <td>0</td>\n",
       "      <td>0</td>\n",
       "      <td>0</td>\n",
       "      <td>0</td>\n",
       "      <td>0</td>\n",
       "      <td>0</td>\n",
       "    </tr>\n",
       "    <tr>\n",
       "      <th>1</th>\n",
       "      <td>0</td>\n",
       "      <td>0</td>\n",
       "      <td>0</td>\n",
       "      <td>0</td>\n",
       "      <td>1</td>\n",
       "      <td>0</td>\n",
       "      <td>0</td>\n",
       "      <td>0</td>\n",
       "      <td>0</td>\n",
       "      <td>0</td>\n",
       "      <td>0</td>\n",
       "      <td>0</td>\n",
       "    </tr>\n",
       "    <tr>\n",
       "      <th>2</th>\n",
       "      <td>0</td>\n",
       "      <td>0</td>\n",
       "      <td>0</td>\n",
       "      <td>0</td>\n",
       "      <td>1</td>\n",
       "      <td>0</td>\n",
       "      <td>0</td>\n",
       "      <td>0</td>\n",
       "      <td>0</td>\n",
       "      <td>0</td>\n",
       "      <td>0</td>\n",
       "      <td>0</td>\n",
       "    </tr>\n",
       "    <tr>\n",
       "      <th>3</th>\n",
       "      <td>0</td>\n",
       "      <td>0</td>\n",
       "      <td>0</td>\n",
       "      <td>0</td>\n",
       "      <td>1</td>\n",
       "      <td>0</td>\n",
       "      <td>0</td>\n",
       "      <td>0</td>\n",
       "      <td>0</td>\n",
       "      <td>0</td>\n",
       "      <td>0</td>\n",
       "      <td>0</td>\n",
       "    </tr>\n",
       "    <tr>\n",
       "      <th>4</th>\n",
       "      <td>0</td>\n",
       "      <td>0</td>\n",
       "      <td>0</td>\n",
       "      <td>0</td>\n",
       "      <td>1</td>\n",
       "      <td>0</td>\n",
       "      <td>0</td>\n",
       "      <td>0</td>\n",
       "      <td>0</td>\n",
       "      <td>0</td>\n",
       "      <td>0</td>\n",
       "      <td>0</td>\n",
       "    </tr>\n",
       "    <tr>\n",
       "      <th>...</th>\n",
       "      <td>...</td>\n",
       "      <td>...</td>\n",
       "      <td>...</td>\n",
       "      <td>...</td>\n",
       "      <td>...</td>\n",
       "      <td>...</td>\n",
       "      <td>...</td>\n",
       "      <td>...</td>\n",
       "      <td>...</td>\n",
       "      <td>...</td>\n",
       "      <td>...</td>\n",
       "      <td>...</td>\n",
       "    </tr>\n",
       "    <tr>\n",
       "      <th>39445</th>\n",
       "      <td>0</td>\n",
       "      <td>0</td>\n",
       "      <td>0</td>\n",
       "      <td>0</td>\n",
       "      <td>0</td>\n",
       "      <td>0</td>\n",
       "      <td>1</td>\n",
       "      <td>0</td>\n",
       "      <td>0</td>\n",
       "      <td>0</td>\n",
       "      <td>0</td>\n",
       "      <td>0</td>\n",
       "    </tr>\n",
       "    <tr>\n",
       "      <th>39446</th>\n",
       "      <td>0</td>\n",
       "      <td>0</td>\n",
       "      <td>0</td>\n",
       "      <td>0</td>\n",
       "      <td>0</td>\n",
       "      <td>0</td>\n",
       "      <td>1</td>\n",
       "      <td>0</td>\n",
       "      <td>0</td>\n",
       "      <td>0</td>\n",
       "      <td>0</td>\n",
       "      <td>0</td>\n",
       "    </tr>\n",
       "    <tr>\n",
       "      <th>39447</th>\n",
       "      <td>0</td>\n",
       "      <td>0</td>\n",
       "      <td>0</td>\n",
       "      <td>0</td>\n",
       "      <td>0</td>\n",
       "      <td>0</td>\n",
       "      <td>1</td>\n",
       "      <td>0</td>\n",
       "      <td>0</td>\n",
       "      <td>0</td>\n",
       "      <td>0</td>\n",
       "      <td>0</td>\n",
       "    </tr>\n",
       "    <tr>\n",
       "      <th>39448</th>\n",
       "      <td>0</td>\n",
       "      <td>0</td>\n",
       "      <td>0</td>\n",
       "      <td>0</td>\n",
       "      <td>0</td>\n",
       "      <td>0</td>\n",
       "      <td>1</td>\n",
       "      <td>0</td>\n",
       "      <td>0</td>\n",
       "      <td>0</td>\n",
       "      <td>0</td>\n",
       "      <td>0</td>\n",
       "    </tr>\n",
       "    <tr>\n",
       "      <th>39449</th>\n",
       "      <td>1</td>\n",
       "      <td>0</td>\n",
       "      <td>0</td>\n",
       "      <td>0</td>\n",
       "      <td>0</td>\n",
       "      <td>0</td>\n",
       "      <td>0</td>\n",
       "      <td>0</td>\n",
       "      <td>0</td>\n",
       "      <td>0</td>\n",
       "      <td>0</td>\n",
       "      <td>0</td>\n",
       "    </tr>\n",
       "  </tbody>\n",
       "</table>\n",
       "<p>39450 rows × 12 columns</p>\n",
       "</div>"
      ],
      "text/plain": [
       "       1  10  11  12  2  3  4  5  6  7  8  9\n",
       "0      0   0   0   0  1  0  0  0  0  0  0  0\n",
       "1      0   0   0   0  1  0  0  0  0  0  0  0\n",
       "2      0   0   0   0  1  0  0  0  0  0  0  0\n",
       "3      0   0   0   0  1  0  0  0  0  0  0  0\n",
       "4      0   0   0   0  1  0  0  0  0  0  0  0\n",
       "...   ..  ..  ..  .. .. .. .. .. .. .. .. ..\n",
       "39445  0   0   0   0  0  0  1  0  0  0  0  0\n",
       "39446  0   0   0   0  0  0  1  0  0  0  0  0\n",
       "39447  0   0   0   0  0  0  1  0  0  0  0  0\n",
       "39448  0   0   0   0  0  0  1  0  0  0  0  0\n",
       "39449  1   0   0   0  0  0  0  0  0  0  0  0\n",
       "\n",
       "[39450 rows x 12 columns]"
      ]
     },
     "execution_count": 37,
     "metadata": {},
     "output_type": "execute_result"
    }
   ],
   "source": [
    "one_hot = pd.get_dummies(df[\"month\"])\n",
    "one_hot"
   ]
  },
  {
   "cell_type": "code",
   "execution_count": 38,
   "id": "8a364844",
   "metadata": {},
   "outputs": [],
   "source": [
    "df = df.join(one_hot)"
   ]
  },
  {
   "cell_type": "code",
   "execution_count": null,
   "id": "6326a6da",
   "metadata": {},
   "outputs": [],
   "source": []
  },
  {
   "cell_type": "code",
   "execution_count": 39,
   "id": "eb2adbd4",
   "metadata": {},
   "outputs": [],
   "source": [
    "df = df.drop('month',axis = 1)"
   ]
  },
  {
   "cell_type": "code",
   "execution_count": 40,
   "id": "86701e9f",
   "metadata": {},
   "outputs": [],
   "source": [
    "df = df.drop('date',axis = 1)"
   ]
  },
  {
   "cell_type": "code",
   "execution_count": 41,
   "id": "7b6b5732",
   "metadata": {},
   "outputs": [],
   "source": [
    "one_hot = pd.get_dummies(df[\"location\"])\n",
    "df = df.join(one_hot)"
   ]
  },
  {
   "cell_type": "code",
   "execution_count": 42,
   "id": "979f9f48",
   "metadata": {},
   "outputs": [],
   "source": [
    "# df"
   ]
  },
  {
   "cell_type": "code",
   "execution_count": 43,
   "id": "b32cfde7",
   "metadata": {},
   "outputs": [],
   "source": [
    "# df = df.drop('location',axis = 1)"
   ]
  },
  {
   "cell_type": "code",
   "execution_count": 44,
   "id": "42d937df",
   "metadata": {},
   "outputs": [
    {
     "data": {
      "text/html": [
       "<div>\n",
       "<style scoped>\n",
       "    .dataframe tbody tr th:only-of-type {\n",
       "        vertical-align: middle;\n",
       "    }\n",
       "\n",
       "    .dataframe tbody tr th {\n",
       "        vertical-align: top;\n",
       "    }\n",
       "\n",
       "    .dataframe thead th {\n",
       "        text-align: right;\n",
       "    }\n",
       "</style>\n",
       "<table border=\"1\" class=\"dataframe\">\n",
       "  <thead>\n",
       "    <tr style=\"text-align: right;\">\n",
       "      <th></th>\n",
       "      <th>grid_id</th>\n",
       "      <th>value</th>\n",
       "      <th>datetime_dt</th>\n",
       "      <th>location</th>\n",
       "      <th>AOD at 0.47 micron_0</th>\n",
       "      <th>AOD at 0.47 micron_1</th>\n",
       "      <th>AOD at 0.47 micron_2</th>\n",
       "      <th>AOD at 0.47 micron_3</th>\n",
       "      <th>AOD at 0.47 micron_4</th>\n",
       "      <th>AOD at 0.47 micron_5</th>\n",
       "      <th>...</th>\n",
       "      <th>3</th>\n",
       "      <th>4</th>\n",
       "      <th>5</th>\n",
       "      <th>6</th>\n",
       "      <th>7</th>\n",
       "      <th>8</th>\n",
       "      <th>9</th>\n",
       "      <th>Delhi</th>\n",
       "      <th>Los Angeles (SoCAB)</th>\n",
       "      <th>Taipei</th>\n",
       "    </tr>\n",
       "  </thead>\n",
       "  <tbody>\n",
       "    <tr>\n",
       "      <th>0</th>\n",
       "      <td>3S31A</td>\n",
       "      <td>11.400000</td>\n",
       "      <td>2018-02-01 08:00:00+00:00</td>\n",
       "      <td>Los Angeles (SoCAB)</td>\n",
       "      <td>-0.563344</td>\n",
       "      <td>0.109907</td>\n",
       "      <td>-0.103034</td>\n",
       "      <td>0.234161</td>\n",
       "      <td>-0.041027</td>\n",
       "      <td>0.229606</td>\n",
       "      <td>...</td>\n",
       "      <td>0</td>\n",
       "      <td>0</td>\n",
       "      <td>0</td>\n",
       "      <td>0</td>\n",
       "      <td>0</td>\n",
       "      <td>0</td>\n",
       "      <td>0</td>\n",
       "      <td>0</td>\n",
       "      <td>1</td>\n",
       "      <td>0</td>\n",
       "    </tr>\n",
       "    <tr>\n",
       "      <th>1</th>\n",
       "      <td>A2FBI</td>\n",
       "      <td>17.000000</td>\n",
       "      <td>2018-02-01 08:00:00+00:00</td>\n",
       "      <td>Los Angeles (SoCAB)</td>\n",
       "      <td>-0.563344</td>\n",
       "      <td>0.109907</td>\n",
       "      <td>-0.103034</td>\n",
       "      <td>0.234161</td>\n",
       "      <td>-0.041027</td>\n",
       "      <td>0.229606</td>\n",
       "      <td>...</td>\n",
       "      <td>0</td>\n",
       "      <td>0</td>\n",
       "      <td>0</td>\n",
       "      <td>0</td>\n",
       "      <td>0</td>\n",
       "      <td>0</td>\n",
       "      <td>0</td>\n",
       "      <td>0</td>\n",
       "      <td>1</td>\n",
       "      <td>0</td>\n",
       "    </tr>\n",
       "    <tr>\n",
       "      <th>2</th>\n",
       "      <td>DJN0F</td>\n",
       "      <td>11.100000</td>\n",
       "      <td>2018-02-01 08:00:00+00:00</td>\n",
       "      <td>Los Angeles (SoCAB)</td>\n",
       "      <td>-0.563344</td>\n",
       "      <td>0.109907</td>\n",
       "      <td>-0.103034</td>\n",
       "      <td>0.234161</td>\n",
       "      <td>-0.041027</td>\n",
       "      <td>0.229606</td>\n",
       "      <td>...</td>\n",
       "      <td>0</td>\n",
       "      <td>0</td>\n",
       "      <td>0</td>\n",
       "      <td>0</td>\n",
       "      <td>0</td>\n",
       "      <td>0</td>\n",
       "      <td>0</td>\n",
       "      <td>0</td>\n",
       "      <td>1</td>\n",
       "      <td>0</td>\n",
       "    </tr>\n",
       "    <tr>\n",
       "      <th>3</th>\n",
       "      <td>E5P9N</td>\n",
       "      <td>22.100000</td>\n",
       "      <td>2018-02-01 08:00:00+00:00</td>\n",
       "      <td>Los Angeles (SoCAB)</td>\n",
       "      <td>-0.563344</td>\n",
       "      <td>0.109907</td>\n",
       "      <td>-0.103034</td>\n",
       "      <td>0.234161</td>\n",
       "      <td>-0.041027</td>\n",
       "      <td>0.229606</td>\n",
       "      <td>...</td>\n",
       "      <td>0</td>\n",
       "      <td>0</td>\n",
       "      <td>0</td>\n",
       "      <td>0</td>\n",
       "      <td>0</td>\n",
       "      <td>0</td>\n",
       "      <td>0</td>\n",
       "      <td>0</td>\n",
       "      <td>1</td>\n",
       "      <td>0</td>\n",
       "    </tr>\n",
       "    <tr>\n",
       "      <th>4</th>\n",
       "      <td>FRITQ</td>\n",
       "      <td>29.800000</td>\n",
       "      <td>2018-02-01 08:00:00+00:00</td>\n",
       "      <td>Los Angeles (SoCAB)</td>\n",
       "      <td>-0.563344</td>\n",
       "      <td>0.109907</td>\n",
       "      <td>-0.103034</td>\n",
       "      <td>0.234161</td>\n",
       "      <td>-0.041027</td>\n",
       "      <td>0.229606</td>\n",
       "      <td>...</td>\n",
       "      <td>0</td>\n",
       "      <td>0</td>\n",
       "      <td>0</td>\n",
       "      <td>0</td>\n",
       "      <td>0</td>\n",
       "      <td>0</td>\n",
       "      <td>0</td>\n",
       "      <td>0</td>\n",
       "      <td>1</td>\n",
       "      <td>0</td>\n",
       "    </tr>\n",
       "    <tr>\n",
       "      <th>...</th>\n",
       "      <td>...</td>\n",
       "      <td>...</td>\n",
       "      <td>...</td>\n",
       "      <td>...</td>\n",
       "      <td>...</td>\n",
       "      <td>...</td>\n",
       "      <td>...</td>\n",
       "      <td>...</td>\n",
       "      <td>...</td>\n",
       "      <td>...</td>\n",
       "      <td>...</td>\n",
       "      <td>...</td>\n",
       "      <td>...</td>\n",
       "      <td>...</td>\n",
       "      <td>...</td>\n",
       "      <td>...</td>\n",
       "      <td>...</td>\n",
       "      <td>...</td>\n",
       "      <td>...</td>\n",
       "      <td>...</td>\n",
       "      <td>...</td>\n",
       "    </tr>\n",
       "    <tr>\n",
       "      <th>39445</th>\n",
       "      <td>GVQXS</td>\n",
       "      <td>99.512500</td>\n",
       "      <td>2018-04-17 18:30:00+00:00</td>\n",
       "      <td>Delhi</td>\n",
       "      <td>-0.558915</td>\n",
       "      <td>0.114815</td>\n",
       "      <td>-0.115747</td>\n",
       "      <td>0.257394</td>\n",
       "      <td>-0.049393</td>\n",
       "      <td>0.243800</td>\n",
       "      <td>...</td>\n",
       "      <td>0</td>\n",
       "      <td>1</td>\n",
       "      <td>0</td>\n",
       "      <td>0</td>\n",
       "      <td>0</td>\n",
       "      <td>0</td>\n",
       "      <td>0</td>\n",
       "      <td>1</td>\n",
       "      <td>0</td>\n",
       "      <td>0</td>\n",
       "    </tr>\n",
       "    <tr>\n",
       "      <th>39446</th>\n",
       "      <td>GVQXS</td>\n",
       "      <td>101.068421</td>\n",
       "      <td>2018-04-18 18:30:00+00:00</td>\n",
       "      <td>Delhi</td>\n",
       "      <td>-0.559187</td>\n",
       "      <td>0.114805</td>\n",
       "      <td>-0.115720</td>\n",
       "      <td>0.257316</td>\n",
       "      <td>-0.049393</td>\n",
       "      <td>0.243815</td>\n",
       "      <td>...</td>\n",
       "      <td>0</td>\n",
       "      <td>1</td>\n",
       "      <td>0</td>\n",
       "      <td>0</td>\n",
       "      <td>0</td>\n",
       "      <td>0</td>\n",
       "      <td>0</td>\n",
       "      <td>1</td>\n",
       "      <td>0</td>\n",
       "      <td>0</td>\n",
       "    </tr>\n",
       "    <tr>\n",
       "      <th>39447</th>\n",
       "      <td>GVQXS</td>\n",
       "      <td>157.216667</td>\n",
       "      <td>2018-04-19 18:30:00+00:00</td>\n",
       "      <td>Delhi</td>\n",
       "      <td>-0.559288</td>\n",
       "      <td>0.114813</td>\n",
       "      <td>-0.115717</td>\n",
       "      <td>0.257326</td>\n",
       "      <td>-0.049380</td>\n",
       "      <td>0.243832</td>\n",
       "      <td>...</td>\n",
       "      <td>0</td>\n",
       "      <td>1</td>\n",
       "      <td>0</td>\n",
       "      <td>0</td>\n",
       "      <td>0</td>\n",
       "      <td>0</td>\n",
       "      <td>0</td>\n",
       "      <td>1</td>\n",
       "      <td>0</td>\n",
       "      <td>0</td>\n",
       "    </tr>\n",
       "    <tr>\n",
       "      <th>39448</th>\n",
       "      <td>GVQXS</td>\n",
       "      <td>149.870833</td>\n",
       "      <td>2018-04-25 18:30:00+00:00</td>\n",
       "      <td>Delhi</td>\n",
       "      <td>-0.559169</td>\n",
       "      <td>0.114806</td>\n",
       "      <td>-0.115722</td>\n",
       "      <td>0.257317</td>\n",
       "      <td>-0.049391</td>\n",
       "      <td>0.243812</td>\n",
       "      <td>...</td>\n",
       "      <td>0</td>\n",
       "      <td>1</td>\n",
       "      <td>0</td>\n",
       "      <td>0</td>\n",
       "      <td>0</td>\n",
       "      <td>0</td>\n",
       "      <td>0</td>\n",
       "      <td>1</td>\n",
       "      <td>0</td>\n",
       "      <td>0</td>\n",
       "    </tr>\n",
       "    <tr>\n",
       "      <th>39449</th>\n",
       "      <td>6EIL6</td>\n",
       "      <td>133.960000</td>\n",
       "      <td>2019-01-17 18:30:00+00:00</td>\n",
       "      <td>Delhi</td>\n",
       "      <td>-0.555606</td>\n",
       "      <td>0.114724</td>\n",
       "      <td>-0.116126</td>\n",
       "      <td>0.257139</td>\n",
       "      <td>-0.049551</td>\n",
       "      <td>0.243193</td>\n",
       "      <td>...</td>\n",
       "      <td>0</td>\n",
       "      <td>0</td>\n",
       "      <td>0</td>\n",
       "      <td>0</td>\n",
       "      <td>0</td>\n",
       "      <td>0</td>\n",
       "      <td>0</td>\n",
       "      <td>1</td>\n",
       "      <td>0</td>\n",
       "      <td>0</td>\n",
       "    </tr>\n",
       "  </tbody>\n",
       "</table>\n",
       "<p>39450 rows × 2067 columns</p>\n",
       "</div>"
      ],
      "text/plain": [
       "      grid_id       value               datetime_dt             location  \\\n",
       "0       3S31A   11.400000 2018-02-01 08:00:00+00:00  Los Angeles (SoCAB)   \n",
       "1       A2FBI   17.000000 2018-02-01 08:00:00+00:00  Los Angeles (SoCAB)   \n",
       "2       DJN0F   11.100000 2018-02-01 08:00:00+00:00  Los Angeles (SoCAB)   \n",
       "3       E5P9N   22.100000 2018-02-01 08:00:00+00:00  Los Angeles (SoCAB)   \n",
       "4       FRITQ   29.800000 2018-02-01 08:00:00+00:00  Los Angeles (SoCAB)   \n",
       "...       ...         ...                       ...                  ...   \n",
       "39445   GVQXS   99.512500 2018-04-17 18:30:00+00:00                Delhi   \n",
       "39446   GVQXS  101.068421 2018-04-18 18:30:00+00:00                Delhi   \n",
       "39447   GVQXS  157.216667 2018-04-19 18:30:00+00:00                Delhi   \n",
       "39448   GVQXS  149.870833 2018-04-25 18:30:00+00:00                Delhi   \n",
       "39449   6EIL6  133.960000 2019-01-17 18:30:00+00:00                Delhi   \n",
       "\n",
       "       AOD at 0.47 micron_0  AOD at 0.47 micron_1  AOD at 0.47 micron_2  \\\n",
       "0                 -0.563344              0.109907             -0.103034   \n",
       "1                 -0.563344              0.109907             -0.103034   \n",
       "2                 -0.563344              0.109907             -0.103034   \n",
       "3                 -0.563344              0.109907             -0.103034   \n",
       "4                 -0.563344              0.109907             -0.103034   \n",
       "...                     ...                   ...                   ...   \n",
       "39445             -0.558915              0.114815             -0.115747   \n",
       "39446             -0.559187              0.114805             -0.115720   \n",
       "39447             -0.559288              0.114813             -0.115717   \n",
       "39448             -0.559169              0.114806             -0.115722   \n",
       "39449             -0.555606              0.114724             -0.116126   \n",
       "\n",
       "       AOD at 0.47 micron_3  AOD at 0.47 micron_4  AOD at 0.47 micron_5  ...  \\\n",
       "0                  0.234161             -0.041027              0.229606  ...   \n",
       "1                  0.234161             -0.041027              0.229606  ...   \n",
       "2                  0.234161             -0.041027              0.229606  ...   \n",
       "3                  0.234161             -0.041027              0.229606  ...   \n",
       "4                  0.234161             -0.041027              0.229606  ...   \n",
       "...                     ...                   ...                   ...  ...   \n",
       "39445              0.257394             -0.049393              0.243800  ...   \n",
       "39446              0.257316             -0.049393              0.243815  ...   \n",
       "39447              0.257326             -0.049380              0.243832  ...   \n",
       "39448              0.257317             -0.049391              0.243812  ...   \n",
       "39449              0.257139             -0.049551              0.243193  ...   \n",
       "\n",
       "       3  4  5  6  7  8  9  Delhi  Los Angeles (SoCAB)  Taipei  \n",
       "0      0  0  0  0  0  0  0      0                    1       0  \n",
       "1      0  0  0  0  0  0  0      0                    1       0  \n",
       "2      0  0  0  0  0  0  0      0                    1       0  \n",
       "3      0  0  0  0  0  0  0      0                    1       0  \n",
       "4      0  0  0  0  0  0  0      0                    1       0  \n",
       "...   .. .. .. .. .. .. ..    ...                  ...     ...  \n",
       "39445  0  1  0  0  0  0  0      1                    0       0  \n",
       "39446  0  1  0  0  0  0  0      1                    0       0  \n",
       "39447  0  1  0  0  0  0  0      1                    0       0  \n",
       "39448  0  1  0  0  0  0  0      1                    0       0  \n",
       "39449  0  0  0  0  0  0  0      1                    0       0  \n",
       "\n",
       "[39450 rows x 2067 columns]"
      ]
     },
     "execution_count": 44,
     "metadata": {},
     "output_type": "execute_result"
    }
   ],
   "source": [
    "df"
   ]
  },
  {
   "cell_type": "code",
   "execution_count": 45,
   "id": "63b9109e",
   "metadata": {},
   "outputs": [],
   "source": [
    "one_hot = pd.get_dummies(df[\"grid_id\"])\n",
    "df = df.join(one_hot)"
   ]
  },
  {
   "cell_type": "code",
   "execution_count": 46,
   "id": "cb2d943b",
   "metadata": {},
   "outputs": [],
   "source": [
    "df = df.drop('grid_id',axis = 1)"
   ]
  },
  {
   "cell_type": "code",
   "execution_count": 47,
   "id": "698ffea0",
   "metadata": {},
   "outputs": [
    {
     "data": {
      "text/html": [
       "<div>\n",
       "<style scoped>\n",
       "    .dataframe tbody tr th:only-of-type {\n",
       "        vertical-align: middle;\n",
       "    }\n",
       "\n",
       "    .dataframe tbody tr th {\n",
       "        vertical-align: top;\n",
       "    }\n",
       "\n",
       "    .dataframe thead th {\n",
       "        text-align: right;\n",
       "    }\n",
       "</style>\n",
       "<table border=\"1\" class=\"dataframe\">\n",
       "  <thead>\n",
       "    <tr style=\"text-align: right;\">\n",
       "      <th></th>\n",
       "      <th>value</th>\n",
       "      <th>datetime_dt</th>\n",
       "      <th>location</th>\n",
       "      <th>AOD at 0.47 micron_0</th>\n",
       "      <th>AOD at 0.47 micron_1</th>\n",
       "      <th>AOD at 0.47 micron_2</th>\n",
       "      <th>AOD at 0.47 micron_3</th>\n",
       "      <th>AOD at 0.47 micron_4</th>\n",
       "      <th>AOD at 0.47 micron_5</th>\n",
       "      <th>AOD at 0.47 micron_6</th>\n",
       "      <th>...</th>\n",
       "      <th>VYH7U</th>\n",
       "      <th>WT52R</th>\n",
       "      <th>WZNCR</th>\n",
       "      <th>X5DKW</th>\n",
       "      <th>XJF9O</th>\n",
       "      <th>XNLVD</th>\n",
       "      <th>YHOPV</th>\n",
       "      <th>ZF3ZW</th>\n",
       "      <th>ZP1FZ</th>\n",
       "      <th>ZZ8JF</th>\n",
       "    </tr>\n",
       "  </thead>\n",
       "  <tbody>\n",
       "    <tr>\n",
       "      <th>0</th>\n",
       "      <td>11.4</td>\n",
       "      <td>2018-02-01 08:00:00+00:00</td>\n",
       "      <td>Los Angeles (SoCAB)</td>\n",
       "      <td>-0.563344</td>\n",
       "      <td>0.109907</td>\n",
       "      <td>-0.103034</td>\n",
       "      <td>0.234161</td>\n",
       "      <td>-0.041027</td>\n",
       "      <td>0.229606</td>\n",
       "      <td>-0.581547</td>\n",
       "      <td>...</td>\n",
       "      <td>0</td>\n",
       "      <td>0</td>\n",
       "      <td>0</td>\n",
       "      <td>0</td>\n",
       "      <td>0</td>\n",
       "      <td>0</td>\n",
       "      <td>0</td>\n",
       "      <td>0</td>\n",
       "      <td>0</td>\n",
       "      <td>0</td>\n",
       "    </tr>\n",
       "    <tr>\n",
       "      <th>1</th>\n",
       "      <td>17.0</td>\n",
       "      <td>2018-02-01 08:00:00+00:00</td>\n",
       "      <td>Los Angeles (SoCAB)</td>\n",
       "      <td>-0.563344</td>\n",
       "      <td>0.109907</td>\n",
       "      <td>-0.103034</td>\n",
       "      <td>0.234161</td>\n",
       "      <td>-0.041027</td>\n",
       "      <td>0.229606</td>\n",
       "      <td>-0.581547</td>\n",
       "      <td>...</td>\n",
       "      <td>0</td>\n",
       "      <td>0</td>\n",
       "      <td>0</td>\n",
       "      <td>0</td>\n",
       "      <td>0</td>\n",
       "      <td>0</td>\n",
       "      <td>0</td>\n",
       "      <td>0</td>\n",
       "      <td>0</td>\n",
       "      <td>0</td>\n",
       "    </tr>\n",
       "    <tr>\n",
       "      <th>2</th>\n",
       "      <td>11.1</td>\n",
       "      <td>2018-02-01 08:00:00+00:00</td>\n",
       "      <td>Los Angeles (SoCAB)</td>\n",
       "      <td>-0.563344</td>\n",
       "      <td>0.109907</td>\n",
       "      <td>-0.103034</td>\n",
       "      <td>0.234161</td>\n",
       "      <td>-0.041027</td>\n",
       "      <td>0.229606</td>\n",
       "      <td>-0.581547</td>\n",
       "      <td>...</td>\n",
       "      <td>0</td>\n",
       "      <td>0</td>\n",
       "      <td>0</td>\n",
       "      <td>0</td>\n",
       "      <td>0</td>\n",
       "      <td>0</td>\n",
       "      <td>0</td>\n",
       "      <td>0</td>\n",
       "      <td>0</td>\n",
       "      <td>0</td>\n",
       "    </tr>\n",
       "    <tr>\n",
       "      <th>3</th>\n",
       "      <td>22.1</td>\n",
       "      <td>2018-02-01 08:00:00+00:00</td>\n",
       "      <td>Los Angeles (SoCAB)</td>\n",
       "      <td>-0.563344</td>\n",
       "      <td>0.109907</td>\n",
       "      <td>-0.103034</td>\n",
       "      <td>0.234161</td>\n",
       "      <td>-0.041027</td>\n",
       "      <td>0.229606</td>\n",
       "      <td>-0.581547</td>\n",
       "      <td>...</td>\n",
       "      <td>0</td>\n",
       "      <td>0</td>\n",
       "      <td>0</td>\n",
       "      <td>0</td>\n",
       "      <td>0</td>\n",
       "      <td>0</td>\n",
       "      <td>0</td>\n",
       "      <td>0</td>\n",
       "      <td>0</td>\n",
       "      <td>0</td>\n",
       "    </tr>\n",
       "    <tr>\n",
       "      <th>4</th>\n",
       "      <td>29.8</td>\n",
       "      <td>2018-02-01 08:00:00+00:00</td>\n",
       "      <td>Los Angeles (SoCAB)</td>\n",
       "      <td>-0.563344</td>\n",
       "      <td>0.109907</td>\n",
       "      <td>-0.103034</td>\n",
       "      <td>0.234161</td>\n",
       "      <td>-0.041027</td>\n",
       "      <td>0.229606</td>\n",
       "      <td>-0.581547</td>\n",
       "      <td>...</td>\n",
       "      <td>0</td>\n",
       "      <td>0</td>\n",
       "      <td>0</td>\n",
       "      <td>0</td>\n",
       "      <td>0</td>\n",
       "      <td>0</td>\n",
       "      <td>0</td>\n",
       "      <td>0</td>\n",
       "      <td>0</td>\n",
       "      <td>0</td>\n",
       "    </tr>\n",
       "  </tbody>\n",
       "</table>\n",
       "<p>5 rows × 2120 columns</p>\n",
       "</div>"
      ],
      "text/plain": [
       "   value               datetime_dt             location  AOD at 0.47 micron_0  \\\n",
       "0   11.4 2018-02-01 08:00:00+00:00  Los Angeles (SoCAB)             -0.563344   \n",
       "1   17.0 2018-02-01 08:00:00+00:00  Los Angeles (SoCAB)             -0.563344   \n",
       "2   11.1 2018-02-01 08:00:00+00:00  Los Angeles (SoCAB)             -0.563344   \n",
       "3   22.1 2018-02-01 08:00:00+00:00  Los Angeles (SoCAB)             -0.563344   \n",
       "4   29.8 2018-02-01 08:00:00+00:00  Los Angeles (SoCAB)             -0.563344   \n",
       "\n",
       "   AOD at 0.47 micron_1  AOD at 0.47 micron_2  AOD at 0.47 micron_3  \\\n",
       "0              0.109907             -0.103034              0.234161   \n",
       "1              0.109907             -0.103034              0.234161   \n",
       "2              0.109907             -0.103034              0.234161   \n",
       "3              0.109907             -0.103034              0.234161   \n",
       "4              0.109907             -0.103034              0.234161   \n",
       "\n",
       "   AOD at 0.47 micron_4  AOD at 0.47 micron_5  AOD at 0.47 micron_6  ...  \\\n",
       "0             -0.041027              0.229606             -0.581547  ...   \n",
       "1             -0.041027              0.229606             -0.581547  ...   \n",
       "2             -0.041027              0.229606             -0.581547  ...   \n",
       "3             -0.041027              0.229606             -0.581547  ...   \n",
       "4             -0.041027              0.229606             -0.581547  ...   \n",
       "\n",
       "   VYH7U  WT52R  WZNCR  X5DKW  XJF9O  XNLVD  YHOPV  ZF3ZW  ZP1FZ  ZZ8JF  \n",
       "0      0      0      0      0      0      0      0      0      0      0  \n",
       "1      0      0      0      0      0      0      0      0      0      0  \n",
       "2      0      0      0      0      0      0      0      0      0      0  \n",
       "3      0      0      0      0      0      0      0      0      0      0  \n",
       "4      0      0      0      0      0      0      0      0      0      0  \n",
       "\n",
       "[5 rows x 2120 columns]"
      ]
     },
     "execution_count": 47,
     "metadata": {},
     "output_type": "execute_result"
    }
   ],
   "source": [
    "df.head()"
   ]
  },
  {
   "cell_type": "code",
   "execution_count": 48,
   "id": "d41b86e8",
   "metadata": {},
   "outputs": [],
   "source": [
    "# df = df[df[\"location\"]==\"Delhi\"]\n",
    "df = df.drop('location',axis = 1)"
   ]
  },
  {
   "cell_type": "code",
   "execution_count": 49,
   "id": "86e888b2",
   "metadata": {},
   "outputs": [
    {
     "data": {
      "text/html": [
       "<div>\n",
       "<style scoped>\n",
       "    .dataframe tbody tr th:only-of-type {\n",
       "        vertical-align: middle;\n",
       "    }\n",
       "\n",
       "    .dataframe tbody tr th {\n",
       "        vertical-align: top;\n",
       "    }\n",
       "\n",
       "    .dataframe thead th {\n",
       "        text-align: right;\n",
       "    }\n",
       "</style>\n",
       "<table border=\"1\" class=\"dataframe\">\n",
       "  <thead>\n",
       "    <tr style=\"text-align: right;\">\n",
       "      <th></th>\n",
       "      <th>value</th>\n",
       "      <th>datetime_dt</th>\n",
       "      <th>AOD at 0.47 micron_0</th>\n",
       "      <th>AOD at 0.47 micron_1</th>\n",
       "      <th>AOD at 0.47 micron_2</th>\n",
       "      <th>AOD at 0.47 micron_3</th>\n",
       "      <th>AOD at 0.47 micron_4</th>\n",
       "      <th>AOD at 0.47 micron_5</th>\n",
       "      <th>AOD at 0.47 micron_6</th>\n",
       "      <th>AOD at 0.47 micron_7</th>\n",
       "      <th>...</th>\n",
       "      <th>VYH7U</th>\n",
       "      <th>WT52R</th>\n",
       "      <th>WZNCR</th>\n",
       "      <th>X5DKW</th>\n",
       "      <th>XJF9O</th>\n",
       "      <th>XNLVD</th>\n",
       "      <th>YHOPV</th>\n",
       "      <th>ZF3ZW</th>\n",
       "      <th>ZP1FZ</th>\n",
       "      <th>ZZ8JF</th>\n",
       "    </tr>\n",
       "  </thead>\n",
       "  <tbody>\n",
       "    <tr>\n",
       "      <th>0</th>\n",
       "      <td>11.400000</td>\n",
       "      <td>2018-02-01 08:00:00+00:00</td>\n",
       "      <td>-0.563344</td>\n",
       "      <td>0.109907</td>\n",
       "      <td>-0.103034</td>\n",
       "      <td>0.234161</td>\n",
       "      <td>-0.041027</td>\n",
       "      <td>0.229606</td>\n",
       "      <td>-0.581547</td>\n",
       "      <td>-0.097234</td>\n",
       "      <td>...</td>\n",
       "      <td>0</td>\n",
       "      <td>0</td>\n",
       "      <td>0</td>\n",
       "      <td>0</td>\n",
       "      <td>0</td>\n",
       "      <td>0</td>\n",
       "      <td>0</td>\n",
       "      <td>0</td>\n",
       "      <td>0</td>\n",
       "      <td>0</td>\n",
       "    </tr>\n",
       "    <tr>\n",
       "      <th>1</th>\n",
       "      <td>17.000000</td>\n",
       "      <td>2018-02-01 08:00:00+00:00</td>\n",
       "      <td>-0.563344</td>\n",
       "      <td>0.109907</td>\n",
       "      <td>-0.103034</td>\n",
       "      <td>0.234161</td>\n",
       "      <td>-0.041027</td>\n",
       "      <td>0.229606</td>\n",
       "      <td>-0.581547</td>\n",
       "      <td>-0.097234</td>\n",
       "      <td>...</td>\n",
       "      <td>0</td>\n",
       "      <td>0</td>\n",
       "      <td>0</td>\n",
       "      <td>0</td>\n",
       "      <td>0</td>\n",
       "      <td>0</td>\n",
       "      <td>0</td>\n",
       "      <td>0</td>\n",
       "      <td>0</td>\n",
       "      <td>0</td>\n",
       "    </tr>\n",
       "    <tr>\n",
       "      <th>2</th>\n",
       "      <td>11.100000</td>\n",
       "      <td>2018-02-01 08:00:00+00:00</td>\n",
       "      <td>-0.563344</td>\n",
       "      <td>0.109907</td>\n",
       "      <td>-0.103034</td>\n",
       "      <td>0.234161</td>\n",
       "      <td>-0.041027</td>\n",
       "      <td>0.229606</td>\n",
       "      <td>-0.581547</td>\n",
       "      <td>-0.097234</td>\n",
       "      <td>...</td>\n",
       "      <td>0</td>\n",
       "      <td>0</td>\n",
       "      <td>0</td>\n",
       "      <td>0</td>\n",
       "      <td>0</td>\n",
       "      <td>0</td>\n",
       "      <td>0</td>\n",
       "      <td>0</td>\n",
       "      <td>0</td>\n",
       "      <td>0</td>\n",
       "    </tr>\n",
       "    <tr>\n",
       "      <th>3</th>\n",
       "      <td>22.100000</td>\n",
       "      <td>2018-02-01 08:00:00+00:00</td>\n",
       "      <td>-0.563344</td>\n",
       "      <td>0.109907</td>\n",
       "      <td>-0.103034</td>\n",
       "      <td>0.234161</td>\n",
       "      <td>-0.041027</td>\n",
       "      <td>0.229606</td>\n",
       "      <td>-0.581547</td>\n",
       "      <td>-0.097234</td>\n",
       "      <td>...</td>\n",
       "      <td>0</td>\n",
       "      <td>0</td>\n",
       "      <td>0</td>\n",
       "      <td>0</td>\n",
       "      <td>0</td>\n",
       "      <td>0</td>\n",
       "      <td>0</td>\n",
       "      <td>0</td>\n",
       "      <td>0</td>\n",
       "      <td>0</td>\n",
       "    </tr>\n",
       "    <tr>\n",
       "      <th>4</th>\n",
       "      <td>29.800000</td>\n",
       "      <td>2018-02-01 08:00:00+00:00</td>\n",
       "      <td>-0.563344</td>\n",
       "      <td>0.109907</td>\n",
       "      <td>-0.103034</td>\n",
       "      <td>0.234161</td>\n",
       "      <td>-0.041027</td>\n",
       "      <td>0.229606</td>\n",
       "      <td>-0.581547</td>\n",
       "      <td>-0.097234</td>\n",
       "      <td>...</td>\n",
       "      <td>0</td>\n",
       "      <td>0</td>\n",
       "      <td>0</td>\n",
       "      <td>0</td>\n",
       "      <td>0</td>\n",
       "      <td>0</td>\n",
       "      <td>0</td>\n",
       "      <td>0</td>\n",
       "      <td>0</td>\n",
       "      <td>0</td>\n",
       "    </tr>\n",
       "    <tr>\n",
       "      <th>...</th>\n",
       "      <td>...</td>\n",
       "      <td>...</td>\n",
       "      <td>...</td>\n",
       "      <td>...</td>\n",
       "      <td>...</td>\n",
       "      <td>...</td>\n",
       "      <td>...</td>\n",
       "      <td>...</td>\n",
       "      <td>...</td>\n",
       "      <td>...</td>\n",
       "      <td>...</td>\n",
       "      <td>...</td>\n",
       "      <td>...</td>\n",
       "      <td>...</td>\n",
       "      <td>...</td>\n",
       "      <td>...</td>\n",
       "      <td>...</td>\n",
       "      <td>...</td>\n",
       "      <td>...</td>\n",
       "      <td>...</td>\n",
       "      <td>...</td>\n",
       "    </tr>\n",
       "    <tr>\n",
       "      <th>39445</th>\n",
       "      <td>99.512500</td>\n",
       "      <td>2018-04-17 18:30:00+00:00</td>\n",
       "      <td>-0.558915</td>\n",
       "      <td>0.114815</td>\n",
       "      <td>-0.115747</td>\n",
       "      <td>0.257394</td>\n",
       "      <td>-0.049393</td>\n",
       "      <td>0.243800</td>\n",
       "      <td>-0.591163</td>\n",
       "      <td>-0.107679</td>\n",
       "      <td>...</td>\n",
       "      <td>0</td>\n",
       "      <td>0</td>\n",
       "      <td>0</td>\n",
       "      <td>0</td>\n",
       "      <td>0</td>\n",
       "      <td>0</td>\n",
       "      <td>0</td>\n",
       "      <td>0</td>\n",
       "      <td>0</td>\n",
       "      <td>0</td>\n",
       "    </tr>\n",
       "    <tr>\n",
       "      <th>39446</th>\n",
       "      <td>101.068421</td>\n",
       "      <td>2018-04-18 18:30:00+00:00</td>\n",
       "      <td>-0.559187</td>\n",
       "      <td>0.114805</td>\n",
       "      <td>-0.115720</td>\n",
       "      <td>0.257316</td>\n",
       "      <td>-0.049393</td>\n",
       "      <td>0.243815</td>\n",
       "      <td>-0.591383</td>\n",
       "      <td>-0.107631</td>\n",
       "      <td>...</td>\n",
       "      <td>0</td>\n",
       "      <td>0</td>\n",
       "      <td>0</td>\n",
       "      <td>0</td>\n",
       "      <td>0</td>\n",
       "      <td>0</td>\n",
       "      <td>0</td>\n",
       "      <td>0</td>\n",
       "      <td>0</td>\n",
       "      <td>0</td>\n",
       "    </tr>\n",
       "    <tr>\n",
       "      <th>39447</th>\n",
       "      <td>157.216667</td>\n",
       "      <td>2018-04-19 18:30:00+00:00</td>\n",
       "      <td>-0.559288</td>\n",
       "      <td>0.114813</td>\n",
       "      <td>-0.115717</td>\n",
       "      <td>0.257326</td>\n",
       "      <td>-0.049380</td>\n",
       "      <td>0.243832</td>\n",
       "      <td>-0.591478</td>\n",
       "      <td>-0.107641</td>\n",
       "      <td>...</td>\n",
       "      <td>0</td>\n",
       "      <td>0</td>\n",
       "      <td>0</td>\n",
       "      <td>0</td>\n",
       "      <td>0</td>\n",
       "      <td>0</td>\n",
       "      <td>0</td>\n",
       "      <td>0</td>\n",
       "      <td>0</td>\n",
       "      <td>0</td>\n",
       "    </tr>\n",
       "    <tr>\n",
       "      <th>39448</th>\n",
       "      <td>149.870833</td>\n",
       "      <td>2018-04-25 18:30:00+00:00</td>\n",
       "      <td>-0.559169</td>\n",
       "      <td>0.114806</td>\n",
       "      <td>-0.115722</td>\n",
       "      <td>0.257317</td>\n",
       "      <td>-0.049391</td>\n",
       "      <td>0.243812</td>\n",
       "      <td>-0.591365</td>\n",
       "      <td>-0.107633</td>\n",
       "      <td>...</td>\n",
       "      <td>0</td>\n",
       "      <td>0</td>\n",
       "      <td>0</td>\n",
       "      <td>0</td>\n",
       "      <td>0</td>\n",
       "      <td>0</td>\n",
       "      <td>0</td>\n",
       "      <td>0</td>\n",
       "      <td>0</td>\n",
       "      <td>0</td>\n",
       "    </tr>\n",
       "    <tr>\n",
       "      <th>39449</th>\n",
       "      <td>133.960000</td>\n",
       "      <td>2019-01-17 18:30:00+00:00</td>\n",
       "      <td>-0.555606</td>\n",
       "      <td>0.114724</td>\n",
       "      <td>-0.116126</td>\n",
       "      <td>0.257139</td>\n",
       "      <td>-0.049551</td>\n",
       "      <td>0.243193</td>\n",
       "      <td>-0.587944</td>\n",
       "      <td>-0.107578</td>\n",
       "      <td>...</td>\n",
       "      <td>0</td>\n",
       "      <td>0</td>\n",
       "      <td>0</td>\n",
       "      <td>0</td>\n",
       "      <td>0</td>\n",
       "      <td>0</td>\n",
       "      <td>0</td>\n",
       "      <td>0</td>\n",
       "      <td>0</td>\n",
       "      <td>0</td>\n",
       "    </tr>\n",
       "  </tbody>\n",
       "</table>\n",
       "<p>39450 rows × 2119 columns</p>\n",
       "</div>"
      ],
      "text/plain": [
       "            value               datetime_dt  AOD at 0.47 micron_0  \\\n",
       "0       11.400000 2018-02-01 08:00:00+00:00             -0.563344   \n",
       "1       17.000000 2018-02-01 08:00:00+00:00             -0.563344   \n",
       "2       11.100000 2018-02-01 08:00:00+00:00             -0.563344   \n",
       "3       22.100000 2018-02-01 08:00:00+00:00             -0.563344   \n",
       "4       29.800000 2018-02-01 08:00:00+00:00             -0.563344   \n",
       "...           ...                       ...                   ...   \n",
       "39445   99.512500 2018-04-17 18:30:00+00:00             -0.558915   \n",
       "39446  101.068421 2018-04-18 18:30:00+00:00             -0.559187   \n",
       "39447  157.216667 2018-04-19 18:30:00+00:00             -0.559288   \n",
       "39448  149.870833 2018-04-25 18:30:00+00:00             -0.559169   \n",
       "39449  133.960000 2019-01-17 18:30:00+00:00             -0.555606   \n",
       "\n",
       "       AOD at 0.47 micron_1  AOD at 0.47 micron_2  AOD at 0.47 micron_3  \\\n",
       "0                  0.109907             -0.103034              0.234161   \n",
       "1                  0.109907             -0.103034              0.234161   \n",
       "2                  0.109907             -0.103034              0.234161   \n",
       "3                  0.109907             -0.103034              0.234161   \n",
       "4                  0.109907             -0.103034              0.234161   \n",
       "...                     ...                   ...                   ...   \n",
       "39445              0.114815             -0.115747              0.257394   \n",
       "39446              0.114805             -0.115720              0.257316   \n",
       "39447              0.114813             -0.115717              0.257326   \n",
       "39448              0.114806             -0.115722              0.257317   \n",
       "39449              0.114724             -0.116126              0.257139   \n",
       "\n",
       "       AOD at 0.47 micron_4  AOD at 0.47 micron_5  AOD at 0.47 micron_6  \\\n",
       "0                 -0.041027              0.229606             -0.581547   \n",
       "1                 -0.041027              0.229606             -0.581547   \n",
       "2                 -0.041027              0.229606             -0.581547   \n",
       "3                 -0.041027              0.229606             -0.581547   \n",
       "4                 -0.041027              0.229606             -0.581547   \n",
       "...                     ...                   ...                   ...   \n",
       "39445             -0.049393              0.243800             -0.591163   \n",
       "39446             -0.049393              0.243815             -0.591383   \n",
       "39447             -0.049380              0.243832             -0.591478   \n",
       "39448             -0.049391              0.243812             -0.591365   \n",
       "39449             -0.049551              0.243193             -0.587944   \n",
       "\n",
       "       AOD at 0.47 micron_7  ...  VYH7U  WT52R  WZNCR  X5DKW  XJF9O  XNLVD  \\\n",
       "0                 -0.097234  ...      0      0      0      0      0      0   \n",
       "1                 -0.097234  ...      0      0      0      0      0      0   \n",
       "2                 -0.097234  ...      0      0      0      0      0      0   \n",
       "3                 -0.097234  ...      0      0      0      0      0      0   \n",
       "4                 -0.097234  ...      0      0      0      0      0      0   \n",
       "...                     ...  ...    ...    ...    ...    ...    ...    ...   \n",
       "39445             -0.107679  ...      0      0      0      0      0      0   \n",
       "39446             -0.107631  ...      0      0      0      0      0      0   \n",
       "39447             -0.107641  ...      0      0      0      0      0      0   \n",
       "39448             -0.107633  ...      0      0      0      0      0      0   \n",
       "39449             -0.107578  ...      0      0      0      0      0      0   \n",
       "\n",
       "       YHOPV  ZF3ZW  ZP1FZ  ZZ8JF  \n",
       "0          0      0      0      0  \n",
       "1          0      0      0      0  \n",
       "2          0      0      0      0  \n",
       "3          0      0      0      0  \n",
       "4          0      0      0      0  \n",
       "...      ...    ...    ...    ...  \n",
       "39445      0      0      0      0  \n",
       "39446      0      0      0      0  \n",
       "39447      0      0      0      0  \n",
       "39448      0      0      0      0  \n",
       "39449      0      0      0      0  \n",
       "\n",
       "[39450 rows x 2119 columns]"
      ]
     },
     "execution_count": 49,
     "metadata": {},
     "output_type": "execute_result"
    }
   ],
   "source": [
    "df"
   ]
  },
  {
   "cell_type": "code",
   "execution_count": 50,
   "id": "c30832e9",
   "metadata": {},
   "outputs": [],
   "source": [
    "X = df[df.columns[2:]].values"
   ]
  },
  {
   "cell_type": "code",
   "execution_count": 51,
   "id": "c461e324",
   "metadata": {},
   "outputs": [],
   "source": [
    "y = df[\"value\"].values"
   ]
  },
  {
   "cell_type": "code",
   "execution_count": 52,
   "id": "8c3869bc",
   "metadata": {},
   "outputs": [
    {
     "data": {
      "text/plain": [
       "(39450, 2117)"
      ]
     },
     "execution_count": 52,
     "metadata": {},
     "output_type": "execute_result"
    }
   ],
   "source": [
    "X.shape"
   ]
  },
  {
   "cell_type": "code",
   "execution_count": 53,
   "id": "769dcc1d",
   "metadata": {},
   "outputs": [],
   "source": [
    "import torch\n",
    "import torch.optim as optim\n",
    "import torch.nn as nn\n",
    "from torch.utils.data import Dataset, TensorDataset, DataLoader\n",
    "import pytorch_lightning as pl\n",
    "from pytorch_lightning import Trainer\n",
    "# from pytorch_lightning.profiler import Profiler, AdvancedProfiler"
   ]
  },
  {
   "cell_type": "code",
   "execution_count": 54,
   "id": "4f1875af",
   "metadata": {},
   "outputs": [],
   "source": [
    "l_rate = 0.3\n",
    "mse_loss = nn.MSELoss(reduction = 'mean')"
   ]
  },
  {
   "cell_type": "code",
   "execution_count": null,
   "id": "261cc721",
   "metadata": {},
   "outputs": [],
   "source": []
  },
  {
   "cell_type": "code",
   "execution_count": 55,
   "id": "7b8ccea1",
   "metadata": {},
   "outputs": [],
   "source": [
    "class RegressionDataset(Dataset):\n",
    "    \n",
    "    def __init__(self, X_data, y_data):\n",
    "        self.X_data = X_data\n",
    "        self.y_data = y_data\n",
    "        \n",
    "    def __getitem__(self, index):\n",
    "        return self.X_data[index], self.y_data[index]\n",
    "        \n",
    "    def __len__ (self):\n",
    "        return len(self.X_data)"
   ]
  },
  {
   "cell_type": "code",
   "execution_count": 56,
   "id": "eeb9e24a",
   "metadata": {},
   "outputs": [],
   "source": [
    "from sklearn.model_selection import train_test_split"
   ]
  },
  {
   "cell_type": "code",
   "execution_count": 64,
   "id": "f428c495",
   "metadata": {},
   "outputs": [],
   "source": [
    "X_train, X_test, y_train, y_test  = train_test_split(X, y, test_size=0.1, random_state=1)\n",
    "\n",
    "X_train, X_val, y_train, y_val   = train_test_split(X_train, y_train, test_size=0.15, random_state=1) # 0.25 x 0.8 = 0.2"
   ]
  },
  {
   "cell_type": "code",
   "execution_count": 60,
   "id": "6998c5d6",
   "metadata": {},
   "outputs": [
    {
     "data": {
      "text/plain": [
       "(39450, 2117)"
      ]
     },
     "execution_count": 60,
     "metadata": {},
     "output_type": "execute_result"
    }
   ],
   "source": [
    "X.shape"
   ]
  },
  {
   "cell_type": "code",
   "execution_count": 58,
   "id": "b81d32ab",
   "metadata": {},
   "outputs": [],
   "source": [
    "import lightgbm as lgb"
   ]
  },
  {
   "cell_type": "code",
   "execution_count": 238,
   "id": "5cbd6b76",
   "metadata": {},
   "outputs": [],
   "source": [
    "params = {\n",
    "        \"objective\": \"regression\",\n",
    "        \"metric\": \"rmse\",\n",
    "        \"num_leaves\": 50,\n",
    "        \"learning_rate\": 0.05,\n",
    "        \"bagging_fraction\": 0.7,\n",
    "        \"feature_fraction\": 0.7,\n",
    "        \"bagging_frequency\": 5,\n",
    "        \"bagging_seed\": 2018,\n",
    "        \"verbosity\": -1\n",
    "    }\n"
   ]
  },
  {
   "cell_type": "code",
   "execution_count": 239,
   "id": "d5ecad7e",
   "metadata": {},
   "outputs": [],
   "source": [
    "lgtrain = lgb.Dataset(X_train, label=y_train)\n",
    "lgval = lgb.Dataset(X_val, label=y_val)"
   ]
  },
  {
   "cell_type": "code",
   "execution_count": 240,
   "id": "f53c7349",
   "metadata": {},
   "outputs": [
    {
     "name": "stdout",
     "output_type": "stream",
     "text": [
      "Training until validation scores don't improve for 100 rounds\n",
      "[20]\tvalid_0's rmse: 38.8107\n",
      "[40]\tvalid_0's rmse: 29.817\n",
      "[60]\tvalid_0's rmse: 27.3049\n",
      "[80]\tvalid_0's rmse: 26.2804\n",
      "[100]\tvalid_0's rmse: 25.8553\n",
      "[120]\tvalid_0's rmse: 25.5383\n",
      "[140]\tvalid_0's rmse: 25.3639\n",
      "[160]\tvalid_0's rmse: 25.271\n",
      "[180]\tvalid_0's rmse: 25.1774\n",
      "[200]\tvalid_0's rmse: 25.1394\n",
      "[220]\tvalid_0's rmse: 25.0521\n",
      "[240]\tvalid_0's rmse: 25.0215\n",
      "[260]\tvalid_0's rmse: 25.0051\n",
      "[280]\tvalid_0's rmse: 24.9948\n",
      "[300]\tvalid_0's rmse: 25.0064\n",
      "[320]\tvalid_0's rmse: 24.9859\n",
      "[340]\tvalid_0's rmse: 24.9718\n",
      "[360]\tvalid_0's rmse: 25.01\n",
      "[380]\tvalid_0's rmse: 25.0539\n",
      "[400]\tvalid_0's rmse: 25.0726\n",
      "Early stopping, best iteration is:\n",
      "[312]\tvalid_0's rmse: 24.9529\n"
     ]
    }
   ],
   "source": [
    "evals_result = {}\n",
    "model = lgb.train(params, lgtrain, 10000, valid_sets=[lgval], early_stopping_rounds=100, verbose_eval=20,  evals_result=evals_result)"
   ]
  },
  {
   "cell_type": "code",
   "execution_count": null,
   "id": "2e04e2d6",
   "metadata": {},
   "outputs": [],
   "source": [
    "pred_test_y = model.predict(X_test, num_iteration=model.best_iteration)"
   ]
  },
  {
   "cell_type": "code",
   "execution_count": 241,
   "id": "97c21041",
   "metadata": {},
   "outputs": [
    {
     "name": "stdout",
     "output_type": "stream",
     "text": [
      "Mean Squared Error : 408.39641444188425\n",
      "R^2 : 0.929622396026478\n"
     ]
    }
   ],
   "source": [
    "mse = mean_squared_error(y_test, pred_test_y)\n",
    "r_square = r2_score(y_test, pred_test_y)\n",
    "print(\"Mean Squared Error :\",mse)\n",
    "print(\"R^2 :\",r_square)"
   ]
  },
  {
   "cell_type": "code",
   "execution_count": 218,
   "id": "19d5ae4b",
   "metadata": {},
   "outputs": [],
   "source": [
    "# Mean Squared Error : 413.5129395125129\n",
    "# R^2 : 0.9287406821758963"
   ]
  },
  {
   "cell_type": "code",
   "execution_count": 242,
   "id": "0ce10fc4",
   "metadata": {},
   "outputs": [
    {
     "data": {
      "text/plain": [
       "(15999, 2117)"
      ]
     },
     "execution_count": 242,
     "metadata": {},
     "output_type": "execute_result"
    }
   ],
   "source": [
    "X_t.shape"
   ]
  },
  {
   "cell_type": "code",
   "execution_count": null,
   "id": "21071fc6",
   "metadata": {},
   "outputs": [],
   "source": [
    "Mean Squared Error : 408.39641444188425\n",
    "R^2 : 0.929622396026478"
   ]
  },
  {
   "cell_type": "code",
   "execution_count": 243,
   "id": "8b8ade76",
   "metadata": {},
   "outputs": [],
   "source": [
    "y_p = model.predict(X_t, num_iteration=model.best_iteration)"
   ]
  },
  {
   "cell_type": "code",
   "execution_count": 244,
   "id": "fdf7a955",
   "metadata": {},
   "outputs": [
    {
     "data": {
      "text/plain": [
       "(15999,)"
      ]
     },
     "execution_count": 244,
     "metadata": {},
     "output_type": "execute_result"
    }
   ],
   "source": [
    "y_p.shape"
   ]
  },
  {
   "cell_type": "code",
   "execution_count": 180,
   "id": "157d5fbf",
   "metadata": {},
   "outputs": [],
   "source": [
    "from sklearn.preprocessing import MinMaxScaler"
   ]
  },
  {
   "cell_type": "code",
   "execution_count": 181,
   "id": "dd6fb0bd",
   "metadata": {},
   "outputs": [],
   "source": [
    "# scaler = MinMaxScaler()\n",
    "# X_train = scaler.fit_transform(X_train)\n",
    "# X_val = scaler.transform(X_val)\n",
    "# X_test = scaler.transform(X_test)\n",
    "# X_train, y_train = np.array(X_train), np.array(y_train)\n",
    "# X_val, y_val = np.array(X_val), np.array(y_val)\n",
    "# X_test, y_test = np.array(X_test), np.array(y_test)\n"
   ]
  },
  {
   "cell_type": "code",
   "execution_count": 182,
   "id": "17a99de0",
   "metadata": {},
   "outputs": [],
   "source": [
    "train_dataset = RegressionDataset(torch.from_numpy(X_train).float(), torch.from_numpy(y_train).float())\n",
    "val_dataset = RegressionDataset(torch.from_numpy(X_val).float(), torch.from_numpy(y_val).float())\n",
    "test_dataset = RegressionDataset(torch.from_numpy(X_test).float(), torch.from_numpy(y_test).float())"
   ]
  },
  {
   "cell_type": "code",
   "execution_count": 183,
   "id": "a0f3f830",
   "metadata": {},
   "outputs": [],
   "source": [
    "EPOCHS = 150\n",
    "BATCH_SIZE = 64\n",
    "LEARNING_RATE = 0.001\n",
    "NUM_FEATURES = X.shape[1]"
   ]
  },
  {
   "cell_type": "code",
   "execution_count": 184,
   "id": "23aba4f4",
   "metadata": {},
   "outputs": [],
   "source": [
    "train_loader = DataLoader(dataset=train_dataset, batch_size=BATCH_SIZE, shuffle=True)\n",
    "val_loader = DataLoader(dataset=val_dataset, batch_size=1)\n",
    "test_loader = DataLoader(dataset=test_dataset, batch_size=1)"
   ]
  },
  {
   "cell_type": "code",
   "execution_count": 185,
   "id": "3952d5e1",
   "metadata": {},
   "outputs": [
    {
     "data": {
      "text/plain": [
       "2117"
      ]
     },
     "execution_count": 185,
     "metadata": {},
     "output_type": "execute_result"
    }
   ],
   "source": [
    "NUM_FEATURES"
   ]
  },
  {
   "cell_type": "code",
   "execution_count": 186,
   "id": "006f6e34",
   "metadata": {},
   "outputs": [
    {
     "data": {
      "text/plain": [
       "device(type='cuda', index=0)"
      ]
     },
     "execution_count": 186,
     "metadata": {},
     "output_type": "execute_result"
    }
   ],
   "source": [
    "device = torch.device(\"cuda:0\" if torch.cuda.is_available() else \"cpu\")\n",
    "device"
   ]
  },
  {
   "cell_type": "code",
   "execution_count": 187,
   "id": "1c2c5990",
   "metadata": {},
   "outputs": [
    {
     "data": {
      "text/plain": [
       "Regression(\n",
       "  (fc1): Linear(in_features=2117, out_features=1024, bias=True)\n",
       "  (fc2): Linear(in_features=1024, out_features=512, bias=True)\n",
       "  (fc3): Linear(in_features=512, out_features=256, bias=True)\n",
       "  (fc4): Linear(in_features=256, out_features=128, bias=True)\n",
       "  (fc5): Linear(in_features=128, out_features=64, bias=True)\n",
       "  (f): Linear(in_features=64, out_features=1, bias=True)\n",
       "  (activation): LeakyReLU(negative_slope=0.01)\n",
       ")"
      ]
     },
     "execution_count": 187,
     "metadata": {},
     "output_type": "execute_result"
    }
   ],
   "source": [
    "model = Regression(NUM_FEATURES)\n",
    "model.to(device)\n"
   ]
  },
  {
   "cell_type": "code",
   "execution_count": 188,
   "id": "f0182b60",
   "metadata": {},
   "outputs": [],
   "source": [
    "criterion = nn.MSELoss()\n",
    "optimizer = optim.Adam(model.parameters(), lr=LEARNING_RATE)"
   ]
  },
  {
   "cell_type": "code",
   "execution_count": 189,
   "id": "b1f36530",
   "metadata": {},
   "outputs": [],
   "source": [
    "loss_stats = {\n",
    "    'train': [],\n",
    "    \"val\": []\n",
    "}"
   ]
  },
  {
   "cell_type": "code",
   "execution_count": 190,
   "id": "f21836d5",
   "metadata": {},
   "outputs": [],
   "source": [
    "from tqdm import tqdm"
   ]
  },
  {
   "cell_type": "code",
   "execution_count": 191,
   "id": "cbdbb9b0",
   "metadata": {
    "scrolled": false
   },
   "outputs": [
    {
     "name": "stdout",
     "output_type": "stream",
     "text": [
      "Begin training.\n"
     ]
    },
    {
     "name": "stderr",
     "output_type": "stream",
     "text": [
      "  1% 1/150 [00:01<04:16,  1.72s/it]"
     ]
    },
    {
     "name": "stdout",
     "output_type": "stream",
     "text": [
      "Epoch 001: | Train Loss: 7227.42985 | Val Loss: 5575.61266\n"
     ]
    },
    {
     "name": "stderr",
     "output_type": "stream",
     "text": [
      "\r",
      "  1% 2/150 [00:03<04:17,  1.74s/it]"
     ]
    },
    {
     "name": "stdout",
     "output_type": "stream",
     "text": [
      "Epoch 002: | Train Loss: 4890.54074 | Val Loss: 5327.98538\n"
     ]
    },
    {
     "name": "stderr",
     "output_type": "stream",
     "text": [
      "\r",
      "  2% 3/150 [00:05<04:16,  1.75s/it]"
     ]
    },
    {
     "name": "stdout",
     "output_type": "stream",
     "text": [
      "Epoch 003: | Train Loss: 4033.72736 | Val Loss: 3658.65653\n"
     ]
    },
    {
     "name": "stderr",
     "output_type": "stream",
     "text": [
      "\r",
      "  3% 4/150 [00:06<04:13,  1.74s/it]"
     ]
    },
    {
     "name": "stdout",
     "output_type": "stream",
     "text": [
      "Epoch 004: | Train Loss: 4025.90931 | Val Loss: 4579.70763\n"
     ]
    },
    {
     "name": "stderr",
     "output_type": "stream",
     "text": [
      "\r",
      "  3% 5/150 [00:08<04:08,  1.72s/it]"
     ]
    },
    {
     "name": "stdout",
     "output_type": "stream",
     "text": [
      "Epoch 005: | Train Loss: 3903.03074 | Val Loss: 3498.95450\n"
     ]
    },
    {
     "name": "stderr",
     "output_type": "stream",
     "text": [
      "\r",
      "  4% 6/150 [00:10<04:04,  1.70s/it]"
     ]
    },
    {
     "name": "stdout",
     "output_type": "stream",
     "text": [
      "Epoch 006: | Train Loss: 3694.50510 | Val Loss: 3736.07714\n"
     ]
    },
    {
     "name": "stderr",
     "output_type": "stream",
     "text": [
      "\r",
      "  5% 7/150 [00:11<04:01,  1.69s/it]"
     ]
    },
    {
     "name": "stdout",
     "output_type": "stream",
     "text": [
      "Epoch 007: | Train Loss: 3633.50824 | Val Loss: 4028.13607\n"
     ]
    },
    {
     "name": "stderr",
     "output_type": "stream",
     "text": [
      "\r",
      "  5% 8/150 [00:13<03:59,  1.68s/it]"
     ]
    },
    {
     "name": "stdout",
     "output_type": "stream",
     "text": [
      "Epoch 008: | Train Loss: 3385.44046 | Val Loss: 3323.87411\n"
     ]
    },
    {
     "name": "stderr",
     "output_type": "stream",
     "text": [
      "\r",
      "  6% 9/150 [00:15<03:59,  1.70s/it]"
     ]
    },
    {
     "name": "stdout",
     "output_type": "stream",
     "text": [
      "Epoch 009: | Train Loss: 3470.66108 | Val Loss: 3249.53427\n"
     ]
    },
    {
     "name": "stderr",
     "output_type": "stream",
     "text": [
      "\r",
      "  7% 10/150 [00:17<03:56,  1.69s/it]"
     ]
    },
    {
     "name": "stdout",
     "output_type": "stream",
     "text": [
      "Epoch 010: | Train Loss: 3350.11014 | Val Loss: 3039.30879\n"
     ]
    },
    {
     "name": "stderr",
     "output_type": "stream",
     "text": [
      "\r",
      "  7% 11/150 [00:18<03:53,  1.68s/it]"
     ]
    },
    {
     "name": "stdout",
     "output_type": "stream",
     "text": [
      "Epoch 011: | Train Loss: 3410.06369 | Val Loss: 3128.10050\n"
     ]
    },
    {
     "name": "stderr",
     "output_type": "stream",
     "text": [
      "\r",
      "  8% 12/150 [00:20<03:54,  1.70s/it]"
     ]
    },
    {
     "name": "stdout",
     "output_type": "stream",
     "text": [
      "Epoch 012: | Train Loss: 3227.42320 | Val Loss: 3025.55300\n"
     ]
    },
    {
     "name": "stderr",
     "output_type": "stream",
     "text": [
      "\r",
      "  9% 13/150 [00:22<03:53,  1.70s/it]"
     ]
    },
    {
     "name": "stdout",
     "output_type": "stream",
     "text": [
      "Epoch 013: | Train Loss: 3158.31962 | Val Loss: 3288.78748\n"
     ]
    },
    {
     "name": "stderr",
     "output_type": "stream",
     "text": [
      "\r",
      "  9% 14/150 [00:23<03:52,  1.71s/it]"
     ]
    },
    {
     "name": "stdout",
     "output_type": "stream",
     "text": [
      "Epoch 014: | Train Loss: 3118.41430 | Val Loss: 3709.44889\n"
     ]
    },
    {
     "name": "stderr",
     "output_type": "stream",
     "text": [
      "\r",
      " 10% 15/150 [00:25<03:51,  1.71s/it]"
     ]
    },
    {
     "name": "stdout",
     "output_type": "stream",
     "text": [
      "Epoch 015: | Train Loss: 3125.84665 | Val Loss: 3218.62651\n"
     ]
    },
    {
     "name": "stderr",
     "output_type": "stream",
     "text": [
      "\r",
      " 11% 16/150 [00:27<03:50,  1.72s/it]"
     ]
    },
    {
     "name": "stdout",
     "output_type": "stream",
     "text": [
      "Epoch 016: | Train Loss: 3041.38789 | Val Loss: 2650.90270\n"
     ]
    },
    {
     "name": "stderr",
     "output_type": "stream",
     "text": [
      "\r",
      " 11% 17/150 [00:29<03:48,  1.71s/it]"
     ]
    },
    {
     "name": "stdout",
     "output_type": "stream",
     "text": [
      "Epoch 017: | Train Loss: 2826.87113 | Val Loss: 3494.42522\n"
     ]
    },
    {
     "name": "stderr",
     "output_type": "stream",
     "text": [
      "\r",
      " 12% 18/150 [00:30<03:46,  1.72s/it]"
     ]
    },
    {
     "name": "stdout",
     "output_type": "stream",
     "text": [
      "Epoch 018: | Train Loss: 2889.17157 | Val Loss: 2652.06107\n"
     ]
    },
    {
     "name": "stderr",
     "output_type": "stream",
     "text": [
      "\r",
      " 13% 19/150 [00:32<03:44,  1.71s/it]"
     ]
    },
    {
     "name": "stdout",
     "output_type": "stream",
     "text": [
      "Epoch 019: | Train Loss: 2762.04765 | Val Loss: 2987.39746\n"
     ]
    },
    {
     "name": "stderr",
     "output_type": "stream",
     "text": [
      "\r",
      " 13% 20/150 [00:34<03:42,  1.71s/it]"
     ]
    },
    {
     "name": "stdout",
     "output_type": "stream",
     "text": [
      "Epoch 020: | Train Loss: 2723.82236 | Val Loss: 2521.79207\n"
     ]
    },
    {
     "name": "stderr",
     "output_type": "stream",
     "text": [
      "\r",
      " 14% 21/150 [00:35<03:40,  1.71s/it]"
     ]
    },
    {
     "name": "stdout",
     "output_type": "stream",
     "text": [
      "Epoch 021: | Train Loss: 2534.27428 | Val Loss: 2971.02495\n"
     ]
    },
    {
     "name": "stderr",
     "output_type": "stream",
     "text": [
      "\r",
      " 15% 22/150 [00:37<03:39,  1.72s/it]"
     ]
    },
    {
     "name": "stdout",
     "output_type": "stream",
     "text": [
      "Epoch 022: | Train Loss: 2623.47710 | Val Loss: 2496.10849\n"
     ]
    },
    {
     "name": "stderr",
     "output_type": "stream",
     "text": [
      "\r",
      " 15% 23/150 [00:39<03:38,  1.72s/it]"
     ]
    },
    {
     "name": "stdout",
     "output_type": "stream",
     "text": [
      "Epoch 023: | Train Loss: 2490.46367 | Val Loss: 2433.12481\n"
     ]
    },
    {
     "name": "stderr",
     "output_type": "stream",
     "text": [
      "\r",
      " 16% 24/150 [00:41<03:37,  1.72s/it]"
     ]
    },
    {
     "name": "stdout",
     "output_type": "stream",
     "text": [
      "Epoch 024: | Train Loss: 2487.21178 | Val Loss: 2607.53523\n"
     ]
    },
    {
     "name": "stderr",
     "output_type": "stream",
     "text": [
      "\r",
      " 17% 25/150 [00:42<03:34,  1.71s/it]"
     ]
    },
    {
     "name": "stdout",
     "output_type": "stream",
     "text": [
      "Epoch 025: | Train Loss: 2561.33041 | Val Loss: 2303.70700\n"
     ]
    },
    {
     "name": "stderr",
     "output_type": "stream",
     "text": [
      "\r",
      " 17% 26/150 [00:44<03:32,  1.71s/it]"
     ]
    },
    {
     "name": "stdout",
     "output_type": "stream",
     "text": [
      "Epoch 026: | Train Loss: 2393.92008 | Val Loss: 2042.71392\n"
     ]
    },
    {
     "name": "stderr",
     "output_type": "stream",
     "text": [
      "\r",
      " 18% 27/150 [00:46<03:30,  1.71s/it]"
     ]
    },
    {
     "name": "stdout",
     "output_type": "stream",
     "text": [
      "Epoch 027: | Train Loss: 2370.83188 | Val Loss: 2075.67780\n"
     ]
    },
    {
     "name": "stderr",
     "output_type": "stream",
     "text": [
      "\r",
      " 19% 28/150 [00:47<03:30,  1.73s/it]"
     ]
    },
    {
     "name": "stdout",
     "output_type": "stream",
     "text": [
      "Epoch 028: | Train Loss: 2432.35971 | Val Loss: 2255.46447\n"
     ]
    },
    {
     "name": "stderr",
     "output_type": "stream",
     "text": [
      "\r",
      " 19% 29/150 [00:49<03:31,  1.75s/it]"
     ]
    },
    {
     "name": "stdout",
     "output_type": "stream",
     "text": [
      "Epoch 029: | Train Loss: 2267.34974 | Val Loss: 2855.33674\n"
     ]
    },
    {
     "name": "stderr",
     "output_type": "stream",
     "text": [
      "\r",
      " 20% 30/150 [00:51<03:29,  1.74s/it]"
     ]
    },
    {
     "name": "stdout",
     "output_type": "stream",
     "text": [
      "Epoch 030: | Train Loss: 2288.47584 | Val Loss: 2102.63607\n"
     ]
    },
    {
     "name": "stderr",
     "output_type": "stream",
     "text": [
      "\r",
      " 21% 31/150 [00:53<03:25,  1.73s/it]"
     ]
    },
    {
     "name": "stdout",
     "output_type": "stream",
     "text": [
      "Epoch 031: | Train Loss: 2146.87891 | Val Loss: 2098.86953\n"
     ]
    },
    {
     "name": "stderr",
     "output_type": "stream",
     "text": [
      "\r",
      " 21% 32/150 [00:54<03:24,  1.73s/it]"
     ]
    },
    {
     "name": "stdout",
     "output_type": "stream",
     "text": [
      "Epoch 032: | Train Loss: 2159.44278 | Val Loss: 1974.41382\n"
     ]
    },
    {
     "name": "stderr",
     "output_type": "stream",
     "text": [
      "\r",
      " 22% 33/150 [00:56<03:21,  1.72s/it]"
     ]
    },
    {
     "name": "stdout",
     "output_type": "stream",
     "text": [
      "Epoch 033: | Train Loss: 2289.58941 | Val Loss: 2067.98882\n"
     ]
    },
    {
     "name": "stderr",
     "output_type": "stream",
     "text": [
      "\r",
      " 23% 34/150 [00:58<03:19,  1.72s/it]"
     ]
    },
    {
     "name": "stdout",
     "output_type": "stream",
     "text": [
      "Epoch 034: | Train Loss: 2092.29618 | Val Loss: 2253.52509\n"
     ]
    },
    {
     "name": "stderr",
     "output_type": "stream",
     "text": [
      "\r",
      " 23% 35/150 [01:00<03:16,  1.71s/it]"
     ]
    },
    {
     "name": "stdout",
     "output_type": "stream",
     "text": [
      "Epoch 035: | Train Loss: 2128.67318 | Val Loss: 2127.07213\n"
     ]
    },
    {
     "name": "stderr",
     "output_type": "stream",
     "text": [
      "\r",
      " 24% 36/150 [01:01<03:15,  1.72s/it]"
     ]
    },
    {
     "name": "stdout",
     "output_type": "stream",
     "text": [
      "Epoch 036: | Train Loss: 2014.89207 | Val Loss: 1784.56718\n"
     ]
    },
    {
     "name": "stderr",
     "output_type": "stream",
     "text": [
      "\r",
      " 25% 37/150 [01:03<03:13,  1.71s/it]"
     ]
    },
    {
     "name": "stdout",
     "output_type": "stream",
     "text": [
      "Epoch 037: | Train Loss: 2064.90235 | Val Loss: 1920.35839\n"
     ]
    },
    {
     "name": "stderr",
     "output_type": "stream",
     "text": [
      "\r",
      " 25% 38/150 [01:05<03:11,  1.71s/it]"
     ]
    },
    {
     "name": "stdout",
     "output_type": "stream",
     "text": [
      "Epoch 038: | Train Loss: 1945.40535 | Val Loss: 1815.00875\n"
     ]
    },
    {
     "name": "stderr",
     "output_type": "stream",
     "text": [
      "\r",
      " 26% 39/150 [01:06<03:08,  1.70s/it]"
     ]
    },
    {
     "name": "stdout",
     "output_type": "stream",
     "text": [
      "Epoch 039: | Train Loss: 1971.28608 | Val Loss: 1731.01009\n"
     ]
    },
    {
     "name": "stderr",
     "output_type": "stream",
     "text": [
      "\r",
      " 27% 40/150 [01:08<03:06,  1.70s/it]"
     ]
    },
    {
     "name": "stdout",
     "output_type": "stream",
     "text": [
      "Epoch 040: | Train Loss: 2101.39517 | Val Loss: 1915.11279\n"
     ]
    },
    {
     "name": "stderr",
     "output_type": "stream",
     "text": [
      "\r",
      " 27% 41/150 [01:10<03:03,  1.69s/it]"
     ]
    },
    {
     "name": "stdout",
     "output_type": "stream",
     "text": [
      "Epoch 041: | Train Loss: 1926.64416 | Val Loss: 1747.16414\n"
     ]
    },
    {
     "name": "stderr",
     "output_type": "stream",
     "text": [
      "\r",
      " 28% 42/150 [01:11<03:02,  1.69s/it]"
     ]
    },
    {
     "name": "stdout",
     "output_type": "stream",
     "text": [
      "Epoch 042: | Train Loss: 1873.10753 | Val Loss: 1785.02128\n"
     ]
    },
    {
     "name": "stderr",
     "output_type": "stream",
     "text": [
      "\r",
      " 29% 43/150 [01:13<03:00,  1.68s/it]"
     ]
    },
    {
     "name": "stdout",
     "output_type": "stream",
     "text": [
      "Epoch 043: | Train Loss: 1885.64952 | Val Loss: 2197.65049\n"
     ]
    },
    {
     "name": "stderr",
     "output_type": "stream",
     "text": [
      "\r",
      " 29% 44/150 [01:15<02:58,  1.69s/it]"
     ]
    },
    {
     "name": "stdout",
     "output_type": "stream",
     "text": [
      "Epoch 044: | Train Loss: 1801.45290 | Val Loss: 2208.32568\n"
     ]
    },
    {
     "name": "stderr",
     "output_type": "stream",
     "text": [
      "\r",
      " 30% 45/150 [01:16<02:55,  1.68s/it]"
     ]
    },
    {
     "name": "stdout",
     "output_type": "stream",
     "text": [
      "Epoch 045: | Train Loss: 1839.99275 | Val Loss: 1899.06810\n"
     ]
    },
    {
     "name": "stderr",
     "output_type": "stream",
     "text": [
      "\r",
      " 31% 46/150 [01:18<02:54,  1.68s/it]"
     ]
    },
    {
     "name": "stdout",
     "output_type": "stream",
     "text": [
      "Epoch 046: | Train Loss: 1889.82008 | Val Loss: 1708.49337\n"
     ]
    },
    {
     "name": "stderr",
     "output_type": "stream",
     "text": [
      "\r",
      " 31% 47/150 [01:20<02:52,  1.68s/it]"
     ]
    },
    {
     "name": "stdout",
     "output_type": "stream",
     "text": [
      "Epoch 047: | Train Loss: 1814.30088 | Val Loss: 1592.00915\n"
     ]
    },
    {
     "name": "stderr",
     "output_type": "stream",
     "text": [
      "\r",
      " 32% 48/150 [01:21<02:50,  1.67s/it]"
     ]
    },
    {
     "name": "stdout",
     "output_type": "stream",
     "text": [
      "Epoch 048: | Train Loss: 1785.72398 | Val Loss: 1500.18348\n"
     ]
    },
    {
     "name": "stderr",
     "output_type": "stream",
     "text": [
      "\r",
      " 33% 49/150 [01:23<02:43,  1.62s/it]"
     ]
    },
    {
     "name": "stdout",
     "output_type": "stream",
     "text": [
      "Epoch 049: | Train Loss: 1790.72585 | Val Loss: 1663.24038\n"
     ]
    },
    {
     "name": "stderr",
     "output_type": "stream",
     "text": [
      "\r",
      " 33% 50/150 [01:25<02:44,  1.65s/it]"
     ]
    },
    {
     "name": "stdout",
     "output_type": "stream",
     "text": [
      "Epoch 050: | Train Loss: 1710.42240 | Val Loss: 1489.19080\n"
     ]
    },
    {
     "name": "stderr",
     "output_type": "stream",
     "text": [
      "\r",
      " 34% 51/150 [01:26<02:45,  1.67s/it]"
     ]
    },
    {
     "name": "stdout",
     "output_type": "stream",
     "text": [
      "Epoch 051: | Train Loss: 1880.16403 | Val Loss: 1947.90418\n"
     ]
    },
    {
     "name": "stderr",
     "output_type": "stream",
     "text": [
      "\r",
      " 35% 52/150 [01:28<02:45,  1.69s/it]"
     ]
    },
    {
     "name": "stdout",
     "output_type": "stream",
     "text": [
      "Epoch 052: | Train Loss: 1720.17219 | Val Loss: 1587.47753\n"
     ]
    },
    {
     "name": "stderr",
     "output_type": "stream",
     "text": [
      "\r",
      " 35% 53/150 [01:30<02:44,  1.70s/it]"
     ]
    },
    {
     "name": "stdout",
     "output_type": "stream",
     "text": [
      "Epoch 053: | Train Loss: 1612.28001 | Val Loss: 1689.93643\n"
     ]
    },
    {
     "name": "stderr",
     "output_type": "stream",
     "text": [
      "\r",
      " 36% 54/150 [01:32<02:43,  1.71s/it]"
     ]
    },
    {
     "name": "stdout",
     "output_type": "stream",
     "text": [
      "Epoch 054: | Train Loss: 1632.68551 | Val Loss: 1579.64995\n"
     ]
    },
    {
     "name": "stderr",
     "output_type": "stream",
     "text": [
      "\r",
      " 37% 55/150 [01:33<02:42,  1.71s/it]"
     ]
    },
    {
     "name": "stdout",
     "output_type": "stream",
     "text": [
      "Epoch 055: | Train Loss: 1641.37660 | Val Loss: 2997.92040\n"
     ]
    },
    {
     "name": "stderr",
     "output_type": "stream",
     "text": [
      "\r",
      " 37% 56/150 [01:35<02:41,  1.71s/it]"
     ]
    },
    {
     "name": "stdout",
     "output_type": "stream",
     "text": [
      "Epoch 056: | Train Loss: 1713.75889 | Val Loss: 1597.69281\n"
     ]
    },
    {
     "name": "stderr",
     "output_type": "stream",
     "text": [
      "\r",
      " 38% 57/150 [01:37<02:39,  1.71s/it]"
     ]
    },
    {
     "name": "stdout",
     "output_type": "stream",
     "text": [
      "Epoch 057: | Train Loss: 1606.85717 | Val Loss: 1524.05356\n"
     ]
    },
    {
     "name": "stderr",
     "output_type": "stream",
     "text": [
      "\r",
      " 39% 58/150 [01:38<02:37,  1.71s/it]"
     ]
    },
    {
     "name": "stdout",
     "output_type": "stream",
     "text": [
      "Epoch 058: | Train Loss: 1504.72207 | Val Loss: 1475.96244\n"
     ]
    },
    {
     "name": "stderr",
     "output_type": "stream",
     "text": [
      "\r",
      " 39% 59/150 [01:40<02:36,  1.72s/it]"
     ]
    },
    {
     "name": "stdout",
     "output_type": "stream",
     "text": [
      "Epoch 059: | Train Loss: 1639.42012 | Val Loss: 1651.47431\n"
     ]
    },
    {
     "name": "stderr",
     "output_type": "stream",
     "text": [
      "\r",
      " 40% 60/150 [01:42<02:35,  1.73s/it]"
     ]
    },
    {
     "name": "stdout",
     "output_type": "stream",
     "text": [
      "Epoch 060: | Train Loss: 1659.88649 | Val Loss: 1610.31273\n"
     ]
    },
    {
     "name": "stderr",
     "output_type": "stream",
     "text": [
      "\r",
      " 41% 61/150 [01:44<02:34,  1.73s/it]"
     ]
    },
    {
     "name": "stdout",
     "output_type": "stream",
     "text": [
      "Epoch 061: | Train Loss: 1593.32307 | Val Loss: 1687.08159\n"
     ]
    },
    {
     "name": "stderr",
     "output_type": "stream",
     "text": [
      "\r",
      " 41% 62/150 [01:45<02:32,  1.73s/it]"
     ]
    },
    {
     "name": "stdout",
     "output_type": "stream",
     "text": [
      "Epoch 062: | Train Loss: 1614.96247 | Val Loss: 1967.59211\n"
     ]
    },
    {
     "name": "stderr",
     "output_type": "stream",
     "text": [
      "\r",
      " 42% 63/150 [01:47<02:31,  1.74s/it]"
     ]
    },
    {
     "name": "stdout",
     "output_type": "stream",
     "text": [
      "Epoch 063: | Train Loss: 1579.12272 | Val Loss: 1648.94067\n"
     ]
    },
    {
     "name": "stderr",
     "output_type": "stream",
     "text": [
      "\r",
      " 43% 64/150 [01:49<02:29,  1.74s/it]"
     ]
    },
    {
     "name": "stdout",
     "output_type": "stream",
     "text": [
      "Epoch 064: | Train Loss: 1476.03007 | Val Loss: 1403.61885\n"
     ]
    },
    {
     "name": "stderr",
     "output_type": "stream",
     "text": [
      "\r",
      " 43% 65/150 [01:51<02:27,  1.74s/it]"
     ]
    },
    {
     "name": "stdout",
     "output_type": "stream",
     "text": [
      "Epoch 065: | Train Loss: 1542.92550 | Val Loss: 1603.64263\n"
     ]
    },
    {
     "name": "stderr",
     "output_type": "stream",
     "text": [
      "\r",
      " 44% 66/150 [01:52<02:25,  1.74s/it]"
     ]
    },
    {
     "name": "stdout",
     "output_type": "stream",
     "text": [
      "Epoch 066: | Train Loss: 1510.30041 | Val Loss: 1491.43234\n"
     ]
    },
    {
     "name": "stderr",
     "output_type": "stream",
     "text": [
      "\r",
      " 45% 67/150 [01:54<02:23,  1.73s/it]"
     ]
    },
    {
     "name": "stdout",
     "output_type": "stream",
     "text": [
      "Epoch 067: | Train Loss: 1523.19067 | Val Loss: 1406.08824\n"
     ]
    },
    {
     "name": "stderr",
     "output_type": "stream",
     "text": [
      "\r",
      " 45% 68/150 [01:56<02:22,  1.73s/it]"
     ]
    },
    {
     "name": "stdout",
     "output_type": "stream",
     "text": [
      "Epoch 068: | Train Loss: 1442.23204 | Val Loss: 1497.91026\n"
     ]
    },
    {
     "name": "stderr",
     "output_type": "stream",
     "text": [
      "\r",
      " 46% 69/150 [01:57<02:20,  1.73s/it]"
     ]
    },
    {
     "name": "stdout",
     "output_type": "stream",
     "text": [
      "Epoch 069: | Train Loss: 1411.93520 | Val Loss: 1612.67170\n"
     ]
    },
    {
     "name": "stderr",
     "output_type": "stream",
     "text": [
      "\r",
      " 47% 70/150 [01:59<02:18,  1.73s/it]"
     ]
    },
    {
     "name": "stdout",
     "output_type": "stream",
     "text": [
      "Epoch 070: | Train Loss: 1524.27299 | Val Loss: 1371.55618\n"
     ]
    },
    {
     "name": "stderr",
     "output_type": "stream",
     "text": [
      "\r",
      " 47% 71/150 [02:01<02:16,  1.73s/it]"
     ]
    },
    {
     "name": "stdout",
     "output_type": "stream",
     "text": [
      "Epoch 071: | Train Loss: 1415.85651 | Val Loss: 1406.53797\n"
     ]
    },
    {
     "name": "stderr",
     "output_type": "stream",
     "text": [
      "\r",
      " 48% 72/150 [02:03<02:14,  1.73s/it]"
     ]
    },
    {
     "name": "stdout",
     "output_type": "stream",
     "text": [
      "Epoch 072: | Train Loss: 1414.09448 | Val Loss: 1321.63250\n"
     ]
    },
    {
     "name": "stderr",
     "output_type": "stream",
     "text": [
      "\r",
      " 49% 73/150 [02:04<02:12,  1.73s/it]"
     ]
    },
    {
     "name": "stdout",
     "output_type": "stream",
     "text": [
      "Epoch 073: | Train Loss: 1389.73770 | Val Loss: 1398.05833\n"
     ]
    },
    {
     "name": "stderr",
     "output_type": "stream",
     "text": [
      "\r",
      " 49% 74/150 [02:06<02:11,  1.73s/it]"
     ]
    },
    {
     "name": "stdout",
     "output_type": "stream",
     "text": [
      "Epoch 074: | Train Loss: 1483.77908 | Val Loss: 1447.57728\n"
     ]
    },
    {
     "name": "stderr",
     "output_type": "stream",
     "text": [
      "\r",
      " 50% 75/150 [02:08<02:09,  1.73s/it]"
     ]
    },
    {
     "name": "stdout",
     "output_type": "stream",
     "text": [
      "Epoch 075: | Train Loss: 1376.97019 | Val Loss: 1642.18251\n"
     ]
    },
    {
     "name": "stderr",
     "output_type": "stream",
     "text": [
      "\r",
      " 51% 76/150 [02:10<02:07,  1.72s/it]"
     ]
    },
    {
     "name": "stdout",
     "output_type": "stream",
     "text": [
      "Epoch 076: | Train Loss: 1401.14749 | Val Loss: 1357.35004\n"
     ]
    },
    {
     "name": "stderr",
     "output_type": "stream",
     "text": [
      "\r",
      " 51% 77/150 [02:11<02:05,  1.73s/it]"
     ]
    },
    {
     "name": "stdout",
     "output_type": "stream",
     "text": [
      "Epoch 077: | Train Loss: 1369.52773 | Val Loss: 1681.34702\n"
     ]
    },
    {
     "name": "stderr",
     "output_type": "stream",
     "text": [
      "\r",
      " 52% 78/150 [02:13<02:03,  1.72s/it]"
     ]
    },
    {
     "name": "stdout",
     "output_type": "stream",
     "text": [
      "Epoch 078: | Train Loss: 1482.63198 | Val Loss: 1446.85582\n"
     ]
    },
    {
     "name": "stderr",
     "output_type": "stream",
     "text": [
      "\r",
      " 53% 79/150 [02:15<02:02,  1.73s/it]"
     ]
    },
    {
     "name": "stdout",
     "output_type": "stream",
     "text": [
      "Epoch 079: | Train Loss: 1383.17760 | Val Loss: 1936.83943\n"
     ]
    },
    {
     "name": "stderr",
     "output_type": "stream",
     "text": [
      "\r",
      " 53% 80/150 [02:16<02:00,  1.72s/it]"
     ]
    },
    {
     "name": "stdout",
     "output_type": "stream",
     "text": [
      "Epoch 080: | Train Loss: 1300.06398 | Val Loss: 1485.51905\n"
     ]
    },
    {
     "name": "stderr",
     "output_type": "stream",
     "text": [
      "\r",
      " 54% 81/150 [02:18<01:58,  1.72s/it]"
     ]
    },
    {
     "name": "stdout",
     "output_type": "stream",
     "text": [
      "Epoch 081: | Train Loss: 1351.18262 | Val Loss: 1248.22207\n"
     ]
    },
    {
     "name": "stderr",
     "output_type": "stream",
     "text": [
      "\r",
      " 55% 82/150 [02:20<01:57,  1.73s/it]"
     ]
    },
    {
     "name": "stdout",
     "output_type": "stream",
     "text": [
      "Epoch 082: | Train Loss: 1347.31509 | Val Loss: 1505.10455\n"
     ]
    },
    {
     "name": "stderr",
     "output_type": "stream",
     "text": [
      "\r",
      " 55% 83/150 [02:22<01:55,  1.73s/it]"
     ]
    },
    {
     "name": "stdout",
     "output_type": "stream",
     "text": [
      "Epoch 083: | Train Loss: 1314.28650 | Val Loss: 1333.24738\n"
     ]
    },
    {
     "name": "stderr",
     "output_type": "stream",
     "text": [
      "\r",
      " 56% 84/150 [02:23<01:53,  1.72s/it]"
     ]
    },
    {
     "name": "stdout",
     "output_type": "stream",
     "text": [
      "Epoch 084: | Train Loss: 1308.51052 | Val Loss: 1373.62263\n"
     ]
    },
    {
     "name": "stderr",
     "output_type": "stream",
     "text": [
      "\r",
      " 57% 85/150 [02:25<01:50,  1.70s/it]"
     ]
    },
    {
     "name": "stdout",
     "output_type": "stream",
     "text": [
      "Epoch 085: | Train Loss: 1305.70523 | Val Loss: 1361.91432\n"
     ]
    },
    {
     "name": "stderr",
     "output_type": "stream",
     "text": [
      "\r",
      " 57% 86/150 [02:27<01:48,  1.70s/it]"
     ]
    },
    {
     "name": "stdout",
     "output_type": "stream",
     "text": [
      "Epoch 086: | Train Loss: 1259.30184 | Val Loss: 1524.39335\n"
     ]
    },
    {
     "name": "stderr",
     "output_type": "stream",
     "text": [
      "\r",
      " 58% 87/150 [02:28<01:47,  1.70s/it]"
     ]
    },
    {
     "name": "stdout",
     "output_type": "stream",
     "text": [
      "Epoch 087: | Train Loss: 1340.55674 | Val Loss: 1521.85600\n"
     ]
    },
    {
     "name": "stderr",
     "output_type": "stream",
     "text": [
      "\r",
      " 59% 88/150 [02:30<01:45,  1.70s/it]"
     ]
    },
    {
     "name": "stdout",
     "output_type": "stream",
     "text": [
      "Epoch 088: | Train Loss: 1314.37700 | Val Loss: 2431.46099\n"
     ]
    },
    {
     "name": "stderr",
     "output_type": "stream",
     "text": [
      "\r",
      " 59% 89/150 [02:32<01:43,  1.70s/it]"
     ]
    },
    {
     "name": "stdout",
     "output_type": "stream",
     "text": [
      "Epoch 089: | Train Loss: 1307.59582 | Val Loss: 1557.88557\n"
     ]
    },
    {
     "name": "stderr",
     "output_type": "stream",
     "text": [
      "\r",
      " 60% 90/150 [02:34<01:42,  1.71s/it]"
     ]
    },
    {
     "name": "stdout",
     "output_type": "stream",
     "text": [
      "Epoch 090: | Train Loss: 1327.86433 | Val Loss: 1379.00441\n"
     ]
    },
    {
     "name": "stderr",
     "output_type": "stream",
     "text": [
      "\r",
      " 61% 91/150 [02:35<01:40,  1.71s/it]"
     ]
    },
    {
     "name": "stdout",
     "output_type": "stream",
     "text": [
      "Epoch 091: | Train Loss: 1205.45289 | Val Loss: 1729.66971\n"
     ]
    },
    {
     "name": "stderr",
     "output_type": "stream",
     "text": [
      "\r",
      " 61% 92/150 [02:37<01:39,  1.71s/it]"
     ]
    },
    {
     "name": "stdout",
     "output_type": "stream",
     "text": [
      "Epoch 092: | Train Loss: 1228.35711 | Val Loss: 1431.91046\n"
     ]
    },
    {
     "name": "stderr",
     "output_type": "stream",
     "text": [
      "\r",
      " 62% 93/150 [02:39<01:37,  1.72s/it]"
     ]
    },
    {
     "name": "stdout",
     "output_type": "stream",
     "text": [
      "Epoch 093: | Train Loss: 1207.93090 | Val Loss: 1456.79442\n"
     ]
    },
    {
     "name": "stderr",
     "output_type": "stream",
     "text": [
      "\r",
      " 63% 94/150 [02:40<01:36,  1.72s/it]"
     ]
    },
    {
     "name": "stdout",
     "output_type": "stream",
     "text": [
      "Epoch 094: | Train Loss: 1239.40918 | Val Loss: 1266.83372\n"
     ]
    },
    {
     "name": "stderr",
     "output_type": "stream",
     "text": [
      "\r",
      " 63% 95/150 [02:42<01:34,  1.72s/it]"
     ]
    },
    {
     "name": "stdout",
     "output_type": "stream",
     "text": [
      "Epoch 095: | Train Loss: 1278.33154 | Val Loss: 1405.38175\n"
     ]
    },
    {
     "name": "stderr",
     "output_type": "stream",
     "text": [
      "\r",
      " 64% 96/150 [02:44<01:32,  1.72s/it]"
     ]
    },
    {
     "name": "stdout",
     "output_type": "stream",
     "text": [
      "Epoch 096: | Train Loss: 1231.41957 | Val Loss: 1454.22784\n"
     ]
    },
    {
     "name": "stderr",
     "output_type": "stream",
     "text": [
      "\r",
      " 65% 97/150 [02:46<01:31,  1.72s/it]"
     ]
    },
    {
     "name": "stdout",
     "output_type": "stream",
     "text": [
      "Epoch 097: | Train Loss: 1247.74532 | Val Loss: 1258.50507\n"
     ]
    },
    {
     "name": "stderr",
     "output_type": "stream",
     "text": [
      "\r",
      " 65% 98/150 [02:47<01:29,  1.71s/it]"
     ]
    },
    {
     "name": "stdout",
     "output_type": "stream",
     "text": [
      "Epoch 098: | Train Loss: 1172.88240 | Val Loss: 1333.06215\n"
     ]
    },
    {
     "name": "stderr",
     "output_type": "stream",
     "text": [
      "\r",
      " 66% 99/150 [02:49<01:27,  1.71s/it]"
     ]
    },
    {
     "name": "stdout",
     "output_type": "stream",
     "text": [
      "Epoch 099: | Train Loss: 1262.98969 | Val Loss: 1452.95547\n"
     ]
    },
    {
     "name": "stderr",
     "output_type": "stream",
     "text": [
      "\r",
      " 67% 100/150 [02:51<01:23,  1.67s/it]"
     ]
    },
    {
     "name": "stdout",
     "output_type": "stream",
     "text": [
      "Epoch 100: | Train Loss: 1175.21380 | Val Loss: 1280.97695\n"
     ]
    },
    {
     "name": "stderr",
     "output_type": "stream",
     "text": [
      "\r",
      " 67% 101/150 [02:52<01:22,  1.68s/it]"
     ]
    },
    {
     "name": "stdout",
     "output_type": "stream",
     "text": [
      "Epoch 101: | Train Loss: 1131.54872 | Val Loss: 1388.56638\n"
     ]
    },
    {
     "name": "stderr",
     "output_type": "stream",
     "text": [
      "\r",
      " 68% 102/150 [02:54<01:21,  1.69s/it]"
     ]
    },
    {
     "name": "stdout",
     "output_type": "stream",
     "text": [
      "Epoch 102: | Train Loss: 1232.98813 | Val Loss: 1410.26838\n"
     ]
    },
    {
     "name": "stderr",
     "output_type": "stream",
     "text": [
      "\r",
      " 69% 103/150 [02:56<01:19,  1.70s/it]"
     ]
    },
    {
     "name": "stdout",
     "output_type": "stream",
     "text": [
      "Epoch 103: | Train Loss: 1171.04392 | Val Loss: 1392.23862\n"
     ]
    },
    {
     "name": "stderr",
     "output_type": "stream",
     "text": [
      "\r",
      " 69% 104/150 [02:57<01:16,  1.66s/it]"
     ]
    },
    {
     "name": "stdout",
     "output_type": "stream",
     "text": [
      "Epoch 104: | Train Loss: 1117.59096 | Val Loss: 1530.40919\n"
     ]
    },
    {
     "name": "stderr",
     "output_type": "stream",
     "text": [
      "\r",
      " 70% 105/150 [02:59<01:16,  1.70s/it]"
     ]
    },
    {
     "name": "stdout",
     "output_type": "stream",
     "text": [
      "Epoch 105: | Train Loss: 1211.14790 | Val Loss: 1298.26027\n"
     ]
    },
    {
     "name": "stderr",
     "output_type": "stream",
     "text": [
      "\r",
      " 71% 106/150 [03:01<01:14,  1.70s/it]"
     ]
    },
    {
     "name": "stdout",
     "output_type": "stream",
     "text": [
      "Epoch 106: | Train Loss: 1161.01978 | Val Loss: 1792.45336\n"
     ]
    },
    {
     "name": "stderr",
     "output_type": "stream",
     "text": [
      "\r",
      " 71% 107/150 [03:02<01:13,  1.71s/it]"
     ]
    },
    {
     "name": "stdout",
     "output_type": "stream",
     "text": [
      "Epoch 107: | Train Loss: 1259.27871 | Val Loss: 1212.73886\n"
     ]
    },
    {
     "name": "stderr",
     "output_type": "stream",
     "text": [
      "\r",
      " 72% 108/150 [03:04<01:12,  1.72s/it]"
     ]
    },
    {
     "name": "stdout",
     "output_type": "stream",
     "text": [
      "Epoch 108: | Train Loss: 1137.61488 | Val Loss: 1184.74792\n"
     ]
    },
    {
     "name": "stderr",
     "output_type": "stream",
     "text": [
      "\r",
      " 73% 109/150 [03:06<01:10,  1.71s/it]"
     ]
    },
    {
     "name": "stdout",
     "output_type": "stream",
     "text": [
      "Epoch 109: | Train Loss: 1169.07785 | Val Loss: 1381.46128\n"
     ]
    },
    {
     "name": "stderr",
     "output_type": "stream",
     "text": [
      "\r",
      " 73% 110/150 [03:08<01:08,  1.72s/it]"
     ]
    },
    {
     "name": "stdout",
     "output_type": "stream",
     "text": [
      "Epoch 110: | Train Loss: 1118.77868 | Val Loss: 1259.65646\n"
     ]
    },
    {
     "name": "stderr",
     "output_type": "stream",
     "text": [
      "\r",
      " 74% 111/150 [03:09<01:06,  1.71s/it]"
     ]
    },
    {
     "name": "stdout",
     "output_type": "stream",
     "text": [
      "Epoch 111: | Train Loss: 1082.28391 | Val Loss: 1289.86932\n"
     ]
    },
    {
     "name": "stderr",
     "output_type": "stream",
     "text": [
      "\r",
      " 75% 112/150 [03:11<01:04,  1.71s/it]"
     ]
    },
    {
     "name": "stdout",
     "output_type": "stream",
     "text": [
      "Epoch 112: | Train Loss: 1171.08608 | Val Loss: 1297.99337\n"
     ]
    },
    {
     "name": "stderr",
     "output_type": "stream",
     "text": [
      "\r",
      " 75% 113/150 [03:13<01:03,  1.71s/it]"
     ]
    },
    {
     "name": "stdout",
     "output_type": "stream",
     "text": [
      "Epoch 113: | Train Loss: 1149.37028 | Val Loss: 1207.73458\n"
     ]
    },
    {
     "name": "stderr",
     "output_type": "stream",
     "text": [
      "\r",
      " 76% 114/150 [03:14<01:01,  1.71s/it]"
     ]
    },
    {
     "name": "stdout",
     "output_type": "stream",
     "text": [
      "Epoch 114: | Train Loss: 1074.11078 | Val Loss: 1307.03900\n"
     ]
    },
    {
     "name": "stderr",
     "output_type": "stream",
     "text": [
      "\r",
      " 77% 115/150 [03:16<00:59,  1.71s/it]"
     ]
    },
    {
     "name": "stdout",
     "output_type": "stream",
     "text": [
      "Epoch 115: | Train Loss: 1086.72497 | Val Loss: 1358.39569\n"
     ]
    },
    {
     "name": "stderr",
     "output_type": "stream",
     "text": [
      "\r",
      " 77% 116/150 [03:18<00:58,  1.71s/it]"
     ]
    },
    {
     "name": "stdout",
     "output_type": "stream",
     "text": [
      "Epoch 116: | Train Loss: 1175.95306 | Val Loss: 1930.41063\n"
     ]
    },
    {
     "name": "stderr",
     "output_type": "stream",
     "text": [
      "\r",
      " 78% 117/150 [03:20<00:56,  1.71s/it]"
     ]
    },
    {
     "name": "stdout",
     "output_type": "stream",
     "text": [
      "Epoch 117: | Train Loss: 1142.74687 | Val Loss: 1206.01504\n"
     ]
    },
    {
     "name": "stderr",
     "output_type": "stream",
     "text": [
      "\r",
      " 79% 118/150 [03:21<00:54,  1.71s/it]"
     ]
    },
    {
     "name": "stdout",
     "output_type": "stream",
     "text": [
      "Epoch 118: | Train Loss: 985.70754 | Val Loss: 1271.04233\n"
     ]
    },
    {
     "name": "stderr",
     "output_type": "stream",
     "text": [
      "\r",
      " 79% 119/150 [03:23<00:53,  1.71s/it]"
     ]
    },
    {
     "name": "stdout",
     "output_type": "stream",
     "text": [
      "Epoch 119: | Train Loss: 1093.29077 | Val Loss: 1537.81003\n"
     ]
    },
    {
     "name": "stderr",
     "output_type": "stream",
     "text": [
      "\r",
      " 80% 120/150 [03:25<00:51,  1.71s/it]"
     ]
    },
    {
     "name": "stdout",
     "output_type": "stream",
     "text": [
      "Epoch 120: | Train Loss: 1154.85226 | Val Loss: 1859.65232\n"
     ]
    },
    {
     "name": "stderr",
     "output_type": "stream",
     "text": [
      "\r",
      " 81% 121/150 [03:26<00:49,  1.71s/it]"
     ]
    },
    {
     "name": "stdout",
     "output_type": "stream",
     "text": [
      "Epoch 121: | Train Loss: 1208.87172 | Val Loss: 1378.10087\n"
     ]
    },
    {
     "name": "stderr",
     "output_type": "stream",
     "text": [
      "\r",
      " 81% 122/150 [03:28<00:47,  1.71s/it]"
     ]
    },
    {
     "name": "stdout",
     "output_type": "stream",
     "text": [
      "Epoch 122: | Train Loss: 1071.68715 | Val Loss: 1331.13879\n"
     ]
    },
    {
     "name": "stderr",
     "output_type": "stream",
     "text": [
      "\r",
      " 82% 123/150 [03:30<00:46,  1.71s/it]"
     ]
    },
    {
     "name": "stdout",
     "output_type": "stream",
     "text": [
      "Epoch 123: | Train Loss: 1050.45804 | Val Loss: 1907.73481\n"
     ]
    },
    {
     "name": "stderr",
     "output_type": "stream",
     "text": [
      "\r",
      " 83% 124/150 [03:32<00:44,  1.71s/it]"
     ]
    },
    {
     "name": "stdout",
     "output_type": "stream",
     "text": [
      "Epoch 124: | Train Loss: 1083.15605 | Val Loss: 1199.16871\n"
     ]
    },
    {
     "name": "stderr",
     "output_type": "stream",
     "text": [
      "\r",
      " 83% 125/150 [03:33<00:42,  1.71s/it]"
     ]
    },
    {
     "name": "stdout",
     "output_type": "stream",
     "text": [
      "Epoch 125: | Train Loss: 940.67883 | Val Loss: 1368.24530\n"
     ]
    },
    {
     "name": "stderr",
     "output_type": "stream",
     "text": [
      "\r",
      " 84% 126/150 [03:35<00:41,  1.71s/it]"
     ]
    },
    {
     "name": "stdout",
     "output_type": "stream",
     "text": [
      "Epoch 126: | Train Loss: 1006.52707 | Val Loss: 1325.24520\n"
     ]
    },
    {
     "name": "stderr",
     "output_type": "stream",
     "text": [
      "\r",
      " 85% 127/150 [03:37<00:39,  1.71s/it]"
     ]
    },
    {
     "name": "stdout",
     "output_type": "stream",
     "text": [
      "Epoch 127: | Train Loss: 1325.54357 | Val Loss: 1463.91158\n"
     ]
    },
    {
     "name": "stderr",
     "output_type": "stream",
     "text": [
      "\r",
      " 85% 128/150 [03:38<00:37,  1.71s/it]"
     ]
    },
    {
     "name": "stdout",
     "output_type": "stream",
     "text": [
      "Epoch 128: | Train Loss: 1283.37222 | Val Loss: 1281.68410\n"
     ]
    },
    {
     "name": "stderr",
     "output_type": "stream",
     "text": [
      "\r",
      " 86% 129/150 [03:40<00:35,  1.71s/it]"
     ]
    },
    {
     "name": "stdout",
     "output_type": "stream",
     "text": [
      "Epoch 129: | Train Loss: 991.96832 | Val Loss: 1308.53004\n"
     ]
    },
    {
     "name": "stderr",
     "output_type": "stream",
     "text": [
      "\r",
      " 87% 130/150 [03:42<00:34,  1.71s/it]"
     ]
    },
    {
     "name": "stdout",
     "output_type": "stream",
     "text": [
      "Epoch 130: | Train Loss: 898.33538 | Val Loss: 1160.25364\n"
     ]
    },
    {
     "name": "stderr",
     "output_type": "stream",
     "text": [
      "\r",
      " 87% 131/150 [03:43<00:32,  1.71s/it]"
     ]
    },
    {
     "name": "stdout",
     "output_type": "stream",
     "text": [
      "Epoch 131: | Train Loss: 1029.74475 | Val Loss: 1346.36967\n"
     ]
    },
    {
     "name": "stderr",
     "output_type": "stream",
     "text": [
      "\r",
      " 88% 132/150 [03:45<00:30,  1.71s/it]"
     ]
    },
    {
     "name": "stdout",
     "output_type": "stream",
     "text": [
      "Epoch 132: | Train Loss: 1336.85700 | Val Loss: 1257.05421\n"
     ]
    },
    {
     "name": "stderr",
     "output_type": "stream",
     "text": [
      "\r",
      " 89% 133/150 [03:47<00:29,  1.71s/it]"
     ]
    },
    {
     "name": "stdout",
     "output_type": "stream",
     "text": [
      "Epoch 133: | Train Loss: 1175.27422 | Val Loss: 1413.89675\n"
     ]
    },
    {
     "name": "stderr",
     "output_type": "stream",
     "text": [
      "\r",
      " 89% 134/150 [03:49<00:27,  1.71s/it]"
     ]
    },
    {
     "name": "stdout",
     "output_type": "stream",
     "text": [
      "Epoch 134: | Train Loss: 1006.32683 | Val Loss: 1575.45629\n"
     ]
    },
    {
     "name": "stderr",
     "output_type": "stream",
     "text": [
      "\r",
      " 90% 135/150 [03:50<00:25,  1.71s/it]"
     ]
    },
    {
     "name": "stdout",
     "output_type": "stream",
     "text": [
      "Epoch 135: | Train Loss: 897.06277 | Val Loss: 1405.45574\n"
     ]
    },
    {
     "name": "stderr",
     "output_type": "stream",
     "text": [
      "\r",
      " 91% 136/150 [03:52<00:23,  1.71s/it]"
     ]
    },
    {
     "name": "stdout",
     "output_type": "stream",
     "text": [
      "Epoch 136: | Train Loss: 1025.80621 | Val Loss: 1409.93304\n"
     ]
    },
    {
     "name": "stderr",
     "output_type": "stream",
     "text": [
      "\r",
      " 91% 137/150 [03:54<00:22,  1.71s/it]"
     ]
    },
    {
     "name": "stdout",
     "output_type": "stream",
     "text": [
      "Epoch 137: | Train Loss: 1265.68323 | Val Loss: 1604.19225\n"
     ]
    },
    {
     "name": "stderr",
     "output_type": "stream",
     "text": [
      "\r",
      " 92% 138/150 [03:55<00:20,  1.71s/it]"
     ]
    },
    {
     "name": "stdout",
     "output_type": "stream",
     "text": [
      "Epoch 138: | Train Loss: 1193.32979 | Val Loss: 1144.49693\n"
     ]
    },
    {
     "name": "stderr",
     "output_type": "stream",
     "text": [
      "\r",
      " 93% 139/150 [03:57<00:18,  1.71s/it]"
     ]
    },
    {
     "name": "stdout",
     "output_type": "stream",
     "text": [
      "Epoch 139: | Train Loss: 1029.19094 | Val Loss: 1407.32735\n"
     ]
    },
    {
     "name": "stderr",
     "output_type": "stream",
     "text": [
      "\r",
      " 93% 140/150 [03:59<00:17,  1.72s/it]"
     ]
    },
    {
     "name": "stdout",
     "output_type": "stream",
     "text": [
      "Epoch 140: | Train Loss: 925.01874 | Val Loss: 1424.71880\n"
     ]
    },
    {
     "name": "stderr",
     "output_type": "stream",
     "text": [
      "\r",
      " 94% 141/150 [04:01<00:15,  1.71s/it]"
     ]
    },
    {
     "name": "stdout",
     "output_type": "stream",
     "text": [
      "Epoch 141: | Train Loss: 1034.91097 | Val Loss: 1162.28806\n"
     ]
    },
    {
     "name": "stderr",
     "output_type": "stream",
     "text": [
      "\r",
      " 95% 142/150 [04:02<00:13,  1.71s/it]"
     ]
    },
    {
     "name": "stdout",
     "output_type": "stream",
     "text": [
      "Epoch 142: | Train Loss: 1098.58609 | Val Loss: 1816.74697\n"
     ]
    },
    {
     "name": "stderr",
     "output_type": "stream",
     "text": [
      "\r",
      " 95% 143/150 [04:04<00:11,  1.71s/it]"
     ]
    },
    {
     "name": "stdout",
     "output_type": "stream",
     "text": [
      "Epoch 143: | Train Loss: 862.08654 | Val Loss: 1310.14845\n"
     ]
    },
    {
     "name": "stderr",
     "output_type": "stream",
     "text": [
      "\r",
      " 96% 144/150 [04:06<00:10,  1.71s/it]"
     ]
    },
    {
     "name": "stdout",
     "output_type": "stream",
     "text": [
      "Epoch 144: | Train Loss: 833.59282 | Val Loss: 1302.77440\n"
     ]
    },
    {
     "name": "stderr",
     "output_type": "stream",
     "text": [
      "\r",
      " 97% 145/150 [04:07<00:08,  1.71s/it]"
     ]
    },
    {
     "name": "stdout",
     "output_type": "stream",
     "text": [
      "Epoch 145: | Train Loss: 997.41261 | Val Loss: 1251.06335\n"
     ]
    },
    {
     "name": "stderr",
     "output_type": "stream",
     "text": [
      "\r",
      " 97% 146/150 [04:09<00:06,  1.72s/it]"
     ]
    },
    {
     "name": "stdout",
     "output_type": "stream",
     "text": [
      "Epoch 146: | Train Loss: 812.68040 | Val Loss: 1554.31437\n"
     ]
    },
    {
     "name": "stderr",
     "output_type": "stream",
     "text": [
      "\r",
      " 98% 147/150 [04:11<00:05,  1.71s/it]"
     ]
    },
    {
     "name": "stdout",
     "output_type": "stream",
     "text": [
      "Epoch 147: | Train Loss: 797.56213 | Val Loss: 1633.21470\n"
     ]
    },
    {
     "name": "stderr",
     "output_type": "stream",
     "text": [
      "\r",
      " 99% 148/150 [04:13<00:03,  1.71s/it]"
     ]
    },
    {
     "name": "stdout",
     "output_type": "stream",
     "text": [
      "Epoch 148: | Train Loss: 1139.89904 | Val Loss: 1227.20897\n"
     ]
    },
    {
     "name": "stderr",
     "output_type": "stream",
     "text": [
      "\r",
      " 99% 149/150 [04:14<00:01,  1.71s/it]"
     ]
    },
    {
     "name": "stdout",
     "output_type": "stream",
     "text": [
      "Epoch 149: | Train Loss: 1023.03424 | Val Loss: 1379.51175\n"
     ]
    },
    {
     "name": "stderr",
     "output_type": "stream",
     "text": [
      "100% 150/150 [04:16<00:00,  1.71s/it]"
     ]
    },
    {
     "name": "stdout",
     "output_type": "stream",
     "text": [
      "Epoch 150: | Train Loss: 1360.47821 | Val Loss: 1315.25268\n"
     ]
    },
    {
     "name": "stderr",
     "output_type": "stream",
     "text": [
      "\n"
     ]
    }
   ],
   "source": [
    "print(\"Begin training.\")\n",
    "for e in tqdm(range(1, EPOCHS+1)):\n",
    "    \n",
    "    # TRAINING\n",
    "    train_epoch_loss = 0\n",
    "    model.train()\n",
    "    for X_train_batch, y_train_batch in train_loader:\n",
    "        X_train_batch, y_train_batch = X_train_batch.to(device), y_train_batch.to(device)\n",
    "        optimizer.zero_grad()\n",
    "        \n",
    "        y_train_pred = model(X_train_batch)\n",
    "        \n",
    "        train_loss = criterion(y_train_pred, y_train_batch.unsqueeze(1))\n",
    "        \n",
    "        train_loss.backward()\n",
    "        optimizer.step()\n",
    "        \n",
    "        train_epoch_loss += train_loss.item()\n",
    "        \n",
    "        \n",
    "    # VALIDATION    \n",
    "    with torch.no_grad():\n",
    "        \n",
    "        val_epoch_loss = 0\n",
    "        \n",
    "        model.eval()\n",
    "        for X_val_batch, y_val_batch in val_loader:\n",
    "            X_val_batch, y_val_batch = X_val_batch.to(device), y_val_batch.to(device)\n",
    "            \n",
    "            y_val_pred = model(X_val_batch)\n",
    "                        \n",
    "            val_loss = criterion(y_val_pred, y_val_batch.unsqueeze(1))\n",
    "            \n",
    "            val_epoch_loss += val_loss.item()\n",
    "    loss_stats['train'].append(train_epoch_loss/len(train_loader))\n",
    "    loss_stats['val'].append(val_epoch_loss/len(val_loader))                              \n",
    "    \n",
    "    print(f'Epoch {e+0:03}: | Train Loss: {train_epoch_loss/len(train_loader):.5f} | Val Loss: {val_epoch_loss/len(val_loader):.5f}')"
   ]
  },
  {
   "cell_type": "code",
   "execution_count": 192,
   "id": "e9fda88a",
   "metadata": {},
   "outputs": [
    {
     "data": {
      "text/plain": [
       "2"
      ]
     },
     "execution_count": 192,
     "metadata": {},
     "output_type": "execute_result"
    }
   ],
   "source": [
    "1+1"
   ]
  },
  {
   "cell_type": "code",
   "execution_count": 193,
   "id": "44127dc1",
   "metadata": {},
   "outputs": [],
   "source": [
    "y_pred_list = []\n",
    "with torch.no_grad():\n",
    "    model.eval()\n",
    "    for X_batch, _ in test_loader:\n",
    "        X_batch = X_batch.to(device)\n",
    "        y_test_pred = model(X_batch)\n",
    "        y_pred_list.append(y_test_pred.cpu().numpy())\n",
    "y_pred_list = [a.squeeze().tolist() for a in y_pred_list]"
   ]
  },
  {
   "cell_type": "code",
   "execution_count": 245,
   "id": "339753b5",
   "metadata": {},
   "outputs": [],
   "source": [
    "from sklearn.metrics import mean_squared_error\n",
    "from sklearn.metrics import r2_score"
   ]
  },
  {
   "cell_type": "code",
   "execution_count": 246,
   "id": "7fa060c2",
   "metadata": {},
   "outputs": [
    {
     "ename": "NameError",
     "evalue": "name 'y_pred_list' is not defined",
     "output_type": "error",
     "traceback": [
      "\u001b[0;31m---------------------------------------------------------------------------\u001b[0m",
      "\u001b[0;31mNameError\u001b[0m                                 Traceback (most recent call last)",
      "Input \u001b[0;32mIn [246]\u001b[0m, in \u001b[0;36m<cell line: 1>\u001b[0;34m()\u001b[0m\n\u001b[0;32m----> 1\u001b[0m mse \u001b[38;5;241m=\u001b[39m mean_squared_error(y_test, \u001b[43my_pred_list\u001b[49m)\n\u001b[1;32m      2\u001b[0m r_square \u001b[38;5;241m=\u001b[39m r2_score(y_test, y_pred_list)\n\u001b[1;32m      3\u001b[0m \u001b[38;5;28mprint\u001b[39m(\u001b[38;5;124m\"\u001b[39m\u001b[38;5;124mMean Squared Error :\u001b[39m\u001b[38;5;124m\"\u001b[39m,mse)\n",
      "\u001b[0;31mNameError\u001b[0m: name 'y_pred_list' is not defined"
     ]
    }
   ],
   "source": [
    "mse = mean_squared_error(y_test, y_pred_list)\n",
    "r_square = r2_score(y_test, y_pred_list)\n",
    "print(\"Mean Squared Error :\",mse)\n",
    "print(\"R^2 :\",r_square)"
   ]
  },
  {
   "cell_type": "code",
   "execution_count": null,
   "id": "27dbb65f",
   "metadata": {},
   "outputs": [],
   "source": []
  },
  {
   "cell_type": "code",
   "execution_count": null,
   "id": "b7930e04",
   "metadata": {},
   "outputs": [],
   "source": [
    "# Mean Squared Error : 907.6883032426905\n",
    "# R^2 : 0.8434949212954438\n",
    "\n",
    "# Mean Squared Error : 604.0072439588212\n",
    "# R^2 : 0.8958560984908686"
   ]
  },
  {
   "cell_type": "code",
   "execution_count": 101,
   "id": "35fd7a19",
   "metadata": {},
   "outputs": [],
   "source": [
    "import numpy as np"
   ]
  },
  {
   "cell_type": "code",
   "execution_count": null,
   "id": "dd8e1642",
   "metadata": {},
   "outputs": [],
   "source": [
    "train_dataset = RegressionDataset(torch.from_numpy(X_train).float(), torch.from_numpy(y_train).float())"
   ]
  },
  {
   "cell_type": "code",
   "execution_count": 129,
   "id": "f20adad6",
   "metadata": {},
   "outputs": [],
   "source": [
    "df_testi['7F1D1'] = np.zeros(len(df_testi))\n",
    "df_testi['WZNCR'] = np.zeros(len(df_testi))"
   ]
  },
  {
   "cell_type": "code",
   "execution_count": 120,
   "id": "03de68dc",
   "metadata": {},
   "outputs": [],
   "source": [
    "df_testi = df_testi[df.columns]"
   ]
  },
  {
   "cell_type": "code",
   "execution_count": 121,
   "id": "5b665465",
   "metadata": {},
   "outputs": [
    {
     "data": {
      "text/html": [
       "<div>\n",
       "<style scoped>\n",
       "    .dataframe tbody tr th:only-of-type {\n",
       "        vertical-align: middle;\n",
       "    }\n",
       "\n",
       "    .dataframe tbody tr th {\n",
       "        vertical-align: top;\n",
       "    }\n",
       "\n",
       "    .dataframe thead th {\n",
       "        text-align: right;\n",
       "    }\n",
       "</style>\n",
       "<table border=\"1\" class=\"dataframe\">\n",
       "  <thead>\n",
       "    <tr style=\"text-align: right;\">\n",
       "      <th></th>\n",
       "      <th>Unnamed: 0</th>\n",
       "      <th>datetime</th>\n",
       "      <th>grid_id</th>\n",
       "      <th>value</th>\n",
       "      <th>datetime_dt</th>\n",
       "      <th>location</th>\n",
       "      <th>date</th>\n",
       "      <th>granule_id</th>\n",
       "      <th>AOD at 0.47 micron_0</th>\n",
       "      <th>AOD at 0.47 micron_1</th>\n",
       "      <th>...</th>\n",
       "      <th>cosine of Solar Zenith Angle_246</th>\n",
       "      <th>cosine of Solar Zenith Angle_247</th>\n",
       "      <th>cosine of Solar Zenith Angle_248</th>\n",
       "      <th>cosine of Solar Zenith Angle_249</th>\n",
       "      <th>cosine of Solar Zenith Angle_250</th>\n",
       "      <th>cosine of Solar Zenith Angle_251</th>\n",
       "      <th>cosine of Solar Zenith Angle_252</th>\n",
       "      <th>cosine of Solar Zenith Angle_253</th>\n",
       "      <th>cosine of Solar Zenith Angle_254</th>\n",
       "      <th>cosine of Solar Zenith Angle_255</th>\n",
       "    </tr>\n",
       "  </thead>\n",
       "  <tbody>\n",
       "    <tr>\n",
       "      <th>0</th>\n",
       "      <td>0</td>\n",
       "      <td>2017-01-07T16:00:00Z</td>\n",
       "      <td>1X116</td>\n",
       "      <td>0.0</td>\n",
       "      <td>2017-01-07 16:00:00+00:00</td>\n",
       "      <td>Taipei</td>\n",
       "      <td>2017-01-07</td>\n",
       "      <td>20170107T032000_maiac_tpe_0.hdf</td>\n",
       "      <td>-0.552611</td>\n",
       "      <td>0.114593</td>\n",
       "      <td>...</td>\n",
       "      <td>0.514868</td>\n",
       "      <td>0.139191</td>\n",
       "      <td>0.183938</td>\n",
       "      <td>-1.667788</td>\n",
       "      <td>-0.356834</td>\n",
       "      <td>2.620512</td>\n",
       "      <td>0.295454</td>\n",
       "      <td>-0.233992</td>\n",
       "      <td>0.197363</td>\n",
       "      <td>0.768304</td>\n",
       "    </tr>\n",
       "    <tr>\n",
       "      <th>1</th>\n",
       "      <td>1</td>\n",
       "      <td>2017-01-07T16:00:00Z</td>\n",
       "      <td>9Q6TA</td>\n",
       "      <td>0.0</td>\n",
       "      <td>2017-01-07 16:00:00+00:00</td>\n",
       "      <td>Taipei</td>\n",
       "      <td>2017-01-07</td>\n",
       "      <td>20170107T032000_maiac_tpe_0.hdf</td>\n",
       "      <td>-0.552611</td>\n",
       "      <td>0.114593</td>\n",
       "      <td>...</td>\n",
       "      <td>0.514868</td>\n",
       "      <td>0.139191</td>\n",
       "      <td>0.183938</td>\n",
       "      <td>-1.667788</td>\n",
       "      <td>-0.356834</td>\n",
       "      <td>2.620512</td>\n",
       "      <td>0.295454</td>\n",
       "      <td>-0.233992</td>\n",
       "      <td>0.197363</td>\n",
       "      <td>0.768304</td>\n",
       "    </tr>\n",
       "    <tr>\n",
       "      <th>2</th>\n",
       "      <td>2</td>\n",
       "      <td>2017-01-07T16:00:00Z</td>\n",
       "      <td>KW43U</td>\n",
       "      <td>0.0</td>\n",
       "      <td>2017-01-07 16:00:00+00:00</td>\n",
       "      <td>Taipei</td>\n",
       "      <td>2017-01-07</td>\n",
       "      <td>20170107T032000_maiac_tpe_0.hdf</td>\n",
       "      <td>-0.552611</td>\n",
       "      <td>0.114593</td>\n",
       "      <td>...</td>\n",
       "      <td>0.514868</td>\n",
       "      <td>0.139191</td>\n",
       "      <td>0.183938</td>\n",
       "      <td>-1.667788</td>\n",
       "      <td>-0.356834</td>\n",
       "      <td>2.620512</td>\n",
       "      <td>0.295454</td>\n",
       "      <td>-0.233992</td>\n",
       "      <td>0.197363</td>\n",
       "      <td>0.768304</td>\n",
       "    </tr>\n",
       "    <tr>\n",
       "      <th>3</th>\n",
       "      <td>3</td>\n",
       "      <td>2017-01-07T16:00:00Z</td>\n",
       "      <td>VR4WG</td>\n",
       "      <td>0.0</td>\n",
       "      <td>2017-01-07 16:00:00+00:00</td>\n",
       "      <td>Taipei</td>\n",
       "      <td>2017-01-07</td>\n",
       "      <td>20170107T032000_maiac_tpe_0.hdf</td>\n",
       "      <td>-0.552611</td>\n",
       "      <td>0.114593</td>\n",
       "      <td>...</td>\n",
       "      <td>0.514868</td>\n",
       "      <td>0.139191</td>\n",
       "      <td>0.183938</td>\n",
       "      <td>-1.667788</td>\n",
       "      <td>-0.356834</td>\n",
       "      <td>2.620512</td>\n",
       "      <td>0.295454</td>\n",
       "      <td>-0.233992</td>\n",
       "      <td>0.197363</td>\n",
       "      <td>0.768304</td>\n",
       "    </tr>\n",
       "    <tr>\n",
       "      <th>4</th>\n",
       "      <td>4</td>\n",
       "      <td>2017-01-07T16:00:00Z</td>\n",
       "      <td>XJF9O</td>\n",
       "      <td>0.0</td>\n",
       "      <td>2017-01-07 16:00:00+00:00</td>\n",
       "      <td>Taipei</td>\n",
       "      <td>2017-01-07</td>\n",
       "      <td>20170107T032000_maiac_tpe_0.hdf</td>\n",
       "      <td>-0.552611</td>\n",
       "      <td>0.114593</td>\n",
       "      <td>...</td>\n",
       "      <td>0.514868</td>\n",
       "      <td>0.139191</td>\n",
       "      <td>0.183938</td>\n",
       "      <td>-1.667788</td>\n",
       "      <td>-0.356834</td>\n",
       "      <td>2.620512</td>\n",
       "      <td>0.295454</td>\n",
       "      <td>-0.233992</td>\n",
       "      <td>0.197363</td>\n",
       "      <td>0.768304</td>\n",
       "    </tr>\n",
       "    <tr>\n",
       "      <th>...</th>\n",
       "      <td>...</td>\n",
       "      <td>...</td>\n",
       "      <td>...</td>\n",
       "      <td>...</td>\n",
       "      <td>...</td>\n",
       "      <td>...</td>\n",
       "      <td>...</td>\n",
       "      <td>...</td>\n",
       "      <td>...</td>\n",
       "      <td>...</td>\n",
       "      <td>...</td>\n",
       "      <td>...</td>\n",
       "      <td>...</td>\n",
       "      <td>...</td>\n",
       "      <td>...</td>\n",
       "      <td>...</td>\n",
       "      <td>...</td>\n",
       "      <td>...</td>\n",
       "      <td>...</td>\n",
       "      <td>...</td>\n",
       "      <td>...</td>\n",
       "    </tr>\n",
       "    <tr>\n",
       "      <th>15994</th>\n",
       "      <td>15994</td>\n",
       "      <td>2021-06-05T18:30:00Z</td>\n",
       "      <td>YHOPV</td>\n",
       "      <td>0.0</td>\n",
       "      <td>2021-06-05 18:30:00+00:00</td>\n",
       "      <td>Delhi</td>\n",
       "      <td>2021-06-05</td>\n",
       "      <td>20210605T071000_maiac_dl_0.hdf</td>\n",
       "      <td>-0.561104</td>\n",
       "      <td>0.114857</td>\n",
       "      <td>...</td>\n",
       "      <td>0.282401</td>\n",
       "      <td>0.094115</td>\n",
       "      <td>0.101234</td>\n",
       "      <td>-0.598972</td>\n",
       "      <td>-0.056394</td>\n",
       "      <td>-0.085390</td>\n",
       "      <td>0.155456</td>\n",
       "      <td>0.061431</td>\n",
       "      <td>0.139627</td>\n",
       "      <td>0.156484</td>\n",
       "    </tr>\n",
       "    <tr>\n",
       "      <th>15995</th>\n",
       "      <td>15995</td>\n",
       "      <td>2021-06-05T18:30:00Z</td>\n",
       "      <td>ZF3ZW</td>\n",
       "      <td>0.0</td>\n",
       "      <td>2021-06-05 18:30:00+00:00</td>\n",
       "      <td>Delhi</td>\n",
       "      <td>2021-06-05</td>\n",
       "      <td>20210605T071000_maiac_dl_0.hdf</td>\n",
       "      <td>-0.561104</td>\n",
       "      <td>0.114857</td>\n",
       "      <td>...</td>\n",
       "      <td>0.282401</td>\n",
       "      <td>0.094115</td>\n",
       "      <td>0.101234</td>\n",
       "      <td>-0.598972</td>\n",
       "      <td>-0.056394</td>\n",
       "      <td>-0.085390</td>\n",
       "      <td>0.155456</td>\n",
       "      <td>0.061431</td>\n",
       "      <td>0.139627</td>\n",
       "      <td>0.156484</td>\n",
       "    </tr>\n",
       "    <tr>\n",
       "      <th>15996</th>\n",
       "      <td>15996</td>\n",
       "      <td>2021-06-05T18:30:00Z</td>\n",
       "      <td>GVQXS</td>\n",
       "      <td>0.0</td>\n",
       "      <td>2021-06-05 18:30:00+00:00</td>\n",
       "      <td>Delhi</td>\n",
       "      <td>2021-06-05</td>\n",
       "      <td>20210605T071000_maiac_dl_0.hdf</td>\n",
       "      <td>-0.561104</td>\n",
       "      <td>0.114857</td>\n",
       "      <td>...</td>\n",
       "      <td>0.282401</td>\n",
       "      <td>0.094115</td>\n",
       "      <td>0.101234</td>\n",
       "      <td>-0.598972</td>\n",
       "      <td>-0.056394</td>\n",
       "      <td>-0.085390</td>\n",
       "      <td>0.155456</td>\n",
       "      <td>0.061431</td>\n",
       "      <td>0.139627</td>\n",
       "      <td>0.156484</td>\n",
       "    </tr>\n",
       "    <tr>\n",
       "      <th>15997</th>\n",
       "      <td>15997</td>\n",
       "      <td>2021-06-17T18:30:00Z</td>\n",
       "      <td>A7UCQ</td>\n",
       "      <td>0.0</td>\n",
       "      <td>2021-06-17 18:30:00+00:00</td>\n",
       "      <td>Delhi</td>\n",
       "      <td>2021-06-17</td>\n",
       "      <td>20210617T060000_maiac_dl_0.hdf</td>\n",
       "      <td>-0.556475</td>\n",
       "      <td>0.114697</td>\n",
       "      <td>...</td>\n",
       "      <td>0.364079</td>\n",
       "      <td>0.141253</td>\n",
       "      <td>0.068522</td>\n",
       "      <td>-1.220975</td>\n",
       "      <td>-0.168101</td>\n",
       "      <td>1.756613</td>\n",
       "      <td>0.158490</td>\n",
       "      <td>0.021657</td>\n",
       "      <td>0.110188</td>\n",
       "      <td>0.200711</td>\n",
       "    </tr>\n",
       "    <tr>\n",
       "      <th>15998</th>\n",
       "      <td>15998</td>\n",
       "      <td>2021-04-11T18:30:00Z</td>\n",
       "      <td>GJLB2</td>\n",
       "      <td>0.0</td>\n",
       "      <td>2021-04-11 18:30:00+00:00</td>\n",
       "      <td>Delhi</td>\n",
       "      <td>2021-04-11</td>\n",
       "      <td>20210411T070500_maiac_dl_0.hdf</td>\n",
       "      <td>-0.556702</td>\n",
       "      <td>0.114758</td>\n",
       "      <td>...</td>\n",
       "      <td>0.559139</td>\n",
       "      <td>0.184912</td>\n",
       "      <td>0.162346</td>\n",
       "      <td>-2.739183</td>\n",
       "      <td>-0.605774</td>\n",
       "      <td>3.593384</td>\n",
       "      <td>0.308225</td>\n",
       "      <td>-0.423955</td>\n",
       "      <td>0.171615</td>\n",
       "      <td>1.109442</td>\n",
       "    </tr>\n",
       "  </tbody>\n",
       "</table>\n",
       "<p>15999 rows × 2056 columns</p>\n",
       "</div>"
      ],
      "text/plain": [
       "       Unnamed: 0              datetime grid_id  value  \\\n",
       "0               0  2017-01-07T16:00:00Z   1X116    0.0   \n",
       "1               1  2017-01-07T16:00:00Z   9Q6TA    0.0   \n",
       "2               2  2017-01-07T16:00:00Z   KW43U    0.0   \n",
       "3               3  2017-01-07T16:00:00Z   VR4WG    0.0   \n",
       "4               4  2017-01-07T16:00:00Z   XJF9O    0.0   \n",
       "...           ...                   ...     ...    ...   \n",
       "15994       15994  2021-06-05T18:30:00Z   YHOPV    0.0   \n",
       "15995       15995  2021-06-05T18:30:00Z   ZF3ZW    0.0   \n",
       "15996       15996  2021-06-05T18:30:00Z   GVQXS    0.0   \n",
       "15997       15997  2021-06-17T18:30:00Z   A7UCQ    0.0   \n",
       "15998       15998  2021-04-11T18:30:00Z   GJLB2    0.0   \n",
       "\n",
       "                     datetime_dt location        date  \\\n",
       "0      2017-01-07 16:00:00+00:00   Taipei  2017-01-07   \n",
       "1      2017-01-07 16:00:00+00:00   Taipei  2017-01-07   \n",
       "2      2017-01-07 16:00:00+00:00   Taipei  2017-01-07   \n",
       "3      2017-01-07 16:00:00+00:00   Taipei  2017-01-07   \n",
       "4      2017-01-07 16:00:00+00:00   Taipei  2017-01-07   \n",
       "...                          ...      ...         ...   \n",
       "15994  2021-06-05 18:30:00+00:00    Delhi  2021-06-05   \n",
       "15995  2021-06-05 18:30:00+00:00    Delhi  2021-06-05   \n",
       "15996  2021-06-05 18:30:00+00:00    Delhi  2021-06-05   \n",
       "15997  2021-06-17 18:30:00+00:00    Delhi  2021-06-17   \n",
       "15998  2021-04-11 18:30:00+00:00    Delhi  2021-04-11   \n",
       "\n",
       "                            granule_id  AOD at 0.47 micron_0  \\\n",
       "0      20170107T032000_maiac_tpe_0.hdf             -0.552611   \n",
       "1      20170107T032000_maiac_tpe_0.hdf             -0.552611   \n",
       "2      20170107T032000_maiac_tpe_0.hdf             -0.552611   \n",
       "3      20170107T032000_maiac_tpe_0.hdf             -0.552611   \n",
       "4      20170107T032000_maiac_tpe_0.hdf             -0.552611   \n",
       "...                                ...                   ...   \n",
       "15994   20210605T071000_maiac_dl_0.hdf             -0.561104   \n",
       "15995   20210605T071000_maiac_dl_0.hdf             -0.561104   \n",
       "15996   20210605T071000_maiac_dl_0.hdf             -0.561104   \n",
       "15997   20210617T060000_maiac_dl_0.hdf             -0.556475   \n",
       "15998   20210411T070500_maiac_dl_0.hdf             -0.556702   \n",
       "\n",
       "       AOD at 0.47 micron_1  ...  cosine of Solar Zenith Angle_246  \\\n",
       "0                  0.114593  ...                          0.514868   \n",
       "1                  0.114593  ...                          0.514868   \n",
       "2                  0.114593  ...                          0.514868   \n",
       "3                  0.114593  ...                          0.514868   \n",
       "4                  0.114593  ...                          0.514868   \n",
       "...                     ...  ...                               ...   \n",
       "15994              0.114857  ...                          0.282401   \n",
       "15995              0.114857  ...                          0.282401   \n",
       "15996              0.114857  ...                          0.282401   \n",
       "15997              0.114697  ...                          0.364079   \n",
       "15998              0.114758  ...                          0.559139   \n",
       "\n",
       "       cosine of Solar Zenith Angle_247  cosine of Solar Zenith Angle_248  \\\n",
       "0                              0.139191                          0.183938   \n",
       "1                              0.139191                          0.183938   \n",
       "2                              0.139191                          0.183938   \n",
       "3                              0.139191                          0.183938   \n",
       "4                              0.139191                          0.183938   \n",
       "...                                 ...                               ...   \n",
       "15994                          0.094115                          0.101234   \n",
       "15995                          0.094115                          0.101234   \n",
       "15996                          0.094115                          0.101234   \n",
       "15997                          0.141253                          0.068522   \n",
       "15998                          0.184912                          0.162346   \n",
       "\n",
       "       cosine of Solar Zenith Angle_249  cosine of Solar Zenith Angle_250  \\\n",
       "0                             -1.667788                         -0.356834   \n",
       "1                             -1.667788                         -0.356834   \n",
       "2                             -1.667788                         -0.356834   \n",
       "3                             -1.667788                         -0.356834   \n",
       "4                             -1.667788                         -0.356834   \n",
       "...                                 ...                               ...   \n",
       "15994                         -0.598972                         -0.056394   \n",
       "15995                         -0.598972                         -0.056394   \n",
       "15996                         -0.598972                         -0.056394   \n",
       "15997                         -1.220975                         -0.168101   \n",
       "15998                         -2.739183                         -0.605774   \n",
       "\n",
       "       cosine of Solar Zenith Angle_251  cosine of Solar Zenith Angle_252  \\\n",
       "0                              2.620512                          0.295454   \n",
       "1                              2.620512                          0.295454   \n",
       "2                              2.620512                          0.295454   \n",
       "3                              2.620512                          0.295454   \n",
       "4                              2.620512                          0.295454   \n",
       "...                                 ...                               ...   \n",
       "15994                         -0.085390                          0.155456   \n",
       "15995                         -0.085390                          0.155456   \n",
       "15996                         -0.085390                          0.155456   \n",
       "15997                          1.756613                          0.158490   \n",
       "15998                          3.593384                          0.308225   \n",
       "\n",
       "       cosine of Solar Zenith Angle_253  cosine of Solar Zenith Angle_254  \\\n",
       "0                             -0.233992                          0.197363   \n",
       "1                             -0.233992                          0.197363   \n",
       "2                             -0.233992                          0.197363   \n",
       "3                             -0.233992                          0.197363   \n",
       "4                             -0.233992                          0.197363   \n",
       "...                                 ...                               ...   \n",
       "15994                          0.061431                          0.139627   \n",
       "15995                          0.061431                          0.139627   \n",
       "15996                          0.061431                          0.139627   \n",
       "15997                          0.021657                          0.110188   \n",
       "15998                         -0.423955                          0.171615   \n",
       "\n",
       "       cosine of Solar Zenith Angle_255  \n",
       "0                              0.768304  \n",
       "1                              0.768304  \n",
       "2                              0.768304  \n",
       "3                              0.768304  \n",
       "4                              0.768304  \n",
       "...                                 ...  \n",
       "15994                          0.156484  \n",
       "15995                          0.156484  \n",
       "15996                          0.156484  \n",
       "15997                          0.200711  \n",
       "15998                          1.109442  \n",
       "\n",
       "[15999 rows x 2056 columns]"
      ]
     },
     "execution_count": 121,
     "metadata": {},
     "output_type": "execute_result"
    }
   ],
   "source": [
    "df_test.drop_duplicates()"
   ]
  },
  {
   "cell_type": "code",
   "execution_count": 122,
   "id": "ab971ec7",
   "metadata": {},
   "outputs": [],
   "source": [
    "df_testi = clean_df(df_test)"
   ]
  },
  {
   "cell_type": "code",
   "execution_count": 123,
   "id": "049fd751",
   "metadata": {},
   "outputs": [],
   "source": [
    "# df_testi = df_testi[df_testi[\"location\"]==\"Delhi\"]"
   ]
  },
  {
   "cell_type": "code",
   "execution_count": 124,
   "id": "810ff56d",
   "metadata": {},
   "outputs": [
    {
     "data": {
      "text/html": [
       "<div>\n",
       "<style scoped>\n",
       "    .dataframe tbody tr th:only-of-type {\n",
       "        vertical-align: middle;\n",
       "    }\n",
       "\n",
       "    .dataframe tbody tr th {\n",
       "        vertical-align: top;\n",
       "    }\n",
       "\n",
       "    .dataframe thead th {\n",
       "        text-align: right;\n",
       "    }\n",
       "</style>\n",
       "<table border=\"1\" class=\"dataframe\">\n",
       "  <thead>\n",
       "    <tr style=\"text-align: right;\">\n",
       "      <th></th>\n",
       "      <th>value</th>\n",
       "      <th>datetime_dt</th>\n",
       "      <th>location</th>\n",
       "      <th>AOD at 0.47 micron_0</th>\n",
       "      <th>AOD at 0.47 micron_1</th>\n",
       "      <th>AOD at 0.47 micron_2</th>\n",
       "      <th>AOD at 0.47 micron_3</th>\n",
       "      <th>AOD at 0.47 micron_4</th>\n",
       "      <th>AOD at 0.47 micron_5</th>\n",
       "      <th>AOD at 0.47 micron_6</th>\n",
       "      <th>...</th>\n",
       "      <th>VXNN3</th>\n",
       "      <th>VYH7U</th>\n",
       "      <th>WT52R</th>\n",
       "      <th>X5DKW</th>\n",
       "      <th>XJF9O</th>\n",
       "      <th>XNLVD</th>\n",
       "      <th>YHOPV</th>\n",
       "      <th>ZF3ZW</th>\n",
       "      <th>ZP1FZ</th>\n",
       "      <th>ZZ8JF</th>\n",
       "    </tr>\n",
       "  </thead>\n",
       "  <tbody>\n",
       "    <tr>\n",
       "      <th>0</th>\n",
       "      <td>0.0</td>\n",
       "      <td>2017-01-07 16:00:00+00:00</td>\n",
       "      <td>Taipei</td>\n",
       "      <td>-0.552611</td>\n",
       "      <td>0.114593</td>\n",
       "      <td>-0.116292</td>\n",
       "      <td>0.256839</td>\n",
       "      <td>-0.049796</td>\n",
       "      <td>0.242716</td>\n",
       "      <td>-0.585104</td>\n",
       "      <td>...</td>\n",
       "      <td>0</td>\n",
       "      <td>0</td>\n",
       "      <td>0</td>\n",
       "      <td>0</td>\n",
       "      <td>0</td>\n",
       "      <td>0</td>\n",
       "      <td>0</td>\n",
       "      <td>0</td>\n",
       "      <td>0</td>\n",
       "      <td>0</td>\n",
       "    </tr>\n",
       "    <tr>\n",
       "      <th>1</th>\n",
       "      <td>0.0</td>\n",
       "      <td>2017-01-07 16:00:00+00:00</td>\n",
       "      <td>Taipei</td>\n",
       "      <td>-0.552611</td>\n",
       "      <td>0.114593</td>\n",
       "      <td>-0.116292</td>\n",
       "      <td>0.256839</td>\n",
       "      <td>-0.049796</td>\n",
       "      <td>0.242716</td>\n",
       "      <td>-0.585104</td>\n",
       "      <td>...</td>\n",
       "      <td>0</td>\n",
       "      <td>0</td>\n",
       "      <td>0</td>\n",
       "      <td>0</td>\n",
       "      <td>0</td>\n",
       "      <td>0</td>\n",
       "      <td>0</td>\n",
       "      <td>0</td>\n",
       "      <td>0</td>\n",
       "      <td>0</td>\n",
       "    </tr>\n",
       "    <tr>\n",
       "      <th>2</th>\n",
       "      <td>0.0</td>\n",
       "      <td>2017-01-07 16:00:00+00:00</td>\n",
       "      <td>Taipei</td>\n",
       "      <td>-0.552611</td>\n",
       "      <td>0.114593</td>\n",
       "      <td>-0.116292</td>\n",
       "      <td>0.256839</td>\n",
       "      <td>-0.049796</td>\n",
       "      <td>0.242716</td>\n",
       "      <td>-0.585104</td>\n",
       "      <td>...</td>\n",
       "      <td>0</td>\n",
       "      <td>0</td>\n",
       "      <td>0</td>\n",
       "      <td>0</td>\n",
       "      <td>0</td>\n",
       "      <td>0</td>\n",
       "      <td>0</td>\n",
       "      <td>0</td>\n",
       "      <td>0</td>\n",
       "      <td>0</td>\n",
       "    </tr>\n",
       "    <tr>\n",
       "      <th>3</th>\n",
       "      <td>0.0</td>\n",
       "      <td>2017-01-07 16:00:00+00:00</td>\n",
       "      <td>Taipei</td>\n",
       "      <td>-0.552611</td>\n",
       "      <td>0.114593</td>\n",
       "      <td>-0.116292</td>\n",
       "      <td>0.256839</td>\n",
       "      <td>-0.049796</td>\n",
       "      <td>0.242716</td>\n",
       "      <td>-0.585104</td>\n",
       "      <td>...</td>\n",
       "      <td>0</td>\n",
       "      <td>0</td>\n",
       "      <td>0</td>\n",
       "      <td>0</td>\n",
       "      <td>0</td>\n",
       "      <td>0</td>\n",
       "      <td>0</td>\n",
       "      <td>0</td>\n",
       "      <td>0</td>\n",
       "      <td>0</td>\n",
       "    </tr>\n",
       "    <tr>\n",
       "      <th>4</th>\n",
       "      <td>0.0</td>\n",
       "      <td>2017-01-07 16:00:00+00:00</td>\n",
       "      <td>Taipei</td>\n",
       "      <td>-0.552611</td>\n",
       "      <td>0.114593</td>\n",
       "      <td>-0.116292</td>\n",
       "      <td>0.256839</td>\n",
       "      <td>-0.049796</td>\n",
       "      <td>0.242716</td>\n",
       "      <td>-0.585104</td>\n",
       "      <td>...</td>\n",
       "      <td>0</td>\n",
       "      <td>0</td>\n",
       "      <td>0</td>\n",
       "      <td>0</td>\n",
       "      <td>1</td>\n",
       "      <td>0</td>\n",
       "      <td>0</td>\n",
       "      <td>0</td>\n",
       "      <td>0</td>\n",
       "      <td>0</td>\n",
       "    </tr>\n",
       "    <tr>\n",
       "      <th>...</th>\n",
       "      <td>...</td>\n",
       "      <td>...</td>\n",
       "      <td>...</td>\n",
       "      <td>...</td>\n",
       "      <td>...</td>\n",
       "      <td>...</td>\n",
       "      <td>...</td>\n",
       "      <td>...</td>\n",
       "      <td>...</td>\n",
       "      <td>...</td>\n",
       "      <td>...</td>\n",
       "      <td>...</td>\n",
       "      <td>...</td>\n",
       "      <td>...</td>\n",
       "      <td>...</td>\n",
       "      <td>...</td>\n",
       "      <td>...</td>\n",
       "      <td>...</td>\n",
       "      <td>...</td>\n",
       "      <td>...</td>\n",
       "      <td>...</td>\n",
       "    </tr>\n",
       "    <tr>\n",
       "      <th>15994</th>\n",
       "      <td>0.0</td>\n",
       "      <td>2021-06-05 18:30:00+00:00</td>\n",
       "      <td>Delhi</td>\n",
       "      <td>-0.561104</td>\n",
       "      <td>0.114857</td>\n",
       "      <td>-0.115555</td>\n",
       "      <td>0.257440</td>\n",
       "      <td>-0.049277</td>\n",
       "      <td>0.244174</td>\n",
       "      <td>-0.593226</td>\n",
       "      <td>...</td>\n",
       "      <td>0</td>\n",
       "      <td>0</td>\n",
       "      <td>0</td>\n",
       "      <td>0</td>\n",
       "      <td>0</td>\n",
       "      <td>0</td>\n",
       "      <td>1</td>\n",
       "      <td>0</td>\n",
       "      <td>0</td>\n",
       "      <td>0</td>\n",
       "    </tr>\n",
       "    <tr>\n",
       "      <th>15995</th>\n",
       "      <td>0.0</td>\n",
       "      <td>2021-06-05 18:30:00+00:00</td>\n",
       "      <td>Delhi</td>\n",
       "      <td>-0.561104</td>\n",
       "      <td>0.114857</td>\n",
       "      <td>-0.115555</td>\n",
       "      <td>0.257440</td>\n",
       "      <td>-0.049277</td>\n",
       "      <td>0.244174</td>\n",
       "      <td>-0.593226</td>\n",
       "      <td>...</td>\n",
       "      <td>0</td>\n",
       "      <td>0</td>\n",
       "      <td>0</td>\n",
       "      <td>0</td>\n",
       "      <td>0</td>\n",
       "      <td>0</td>\n",
       "      <td>0</td>\n",
       "      <td>1</td>\n",
       "      <td>0</td>\n",
       "      <td>0</td>\n",
       "    </tr>\n",
       "    <tr>\n",
       "      <th>15996</th>\n",
       "      <td>0.0</td>\n",
       "      <td>2021-06-05 18:30:00+00:00</td>\n",
       "      <td>Delhi</td>\n",
       "      <td>-0.561104</td>\n",
       "      <td>0.114857</td>\n",
       "      <td>-0.115555</td>\n",
       "      <td>0.257440</td>\n",
       "      <td>-0.049277</td>\n",
       "      <td>0.244174</td>\n",
       "      <td>-0.593226</td>\n",
       "      <td>...</td>\n",
       "      <td>0</td>\n",
       "      <td>0</td>\n",
       "      <td>0</td>\n",
       "      <td>0</td>\n",
       "      <td>0</td>\n",
       "      <td>0</td>\n",
       "      <td>0</td>\n",
       "      <td>0</td>\n",
       "      <td>0</td>\n",
       "      <td>0</td>\n",
       "    </tr>\n",
       "    <tr>\n",
       "      <th>15997</th>\n",
       "      <td>0.0</td>\n",
       "      <td>2021-06-17 18:30:00+00:00</td>\n",
       "      <td>Delhi</td>\n",
       "      <td>-0.556475</td>\n",
       "      <td>0.114697</td>\n",
       "      <td>-0.116058</td>\n",
       "      <td>0.256996</td>\n",
       "      <td>-0.049477</td>\n",
       "      <td>0.243355</td>\n",
       "      <td>-0.588765</td>\n",
       "      <td>...</td>\n",
       "      <td>0</td>\n",
       "      <td>0</td>\n",
       "      <td>0</td>\n",
       "      <td>0</td>\n",
       "      <td>0</td>\n",
       "      <td>0</td>\n",
       "      <td>0</td>\n",
       "      <td>0</td>\n",
       "      <td>0</td>\n",
       "      <td>0</td>\n",
       "    </tr>\n",
       "    <tr>\n",
       "      <th>15998</th>\n",
       "      <td>0.0</td>\n",
       "      <td>2021-04-11 18:30:00+00:00</td>\n",
       "      <td>Delhi</td>\n",
       "      <td>-0.556702</td>\n",
       "      <td>0.114758</td>\n",
       "      <td>-0.116034</td>\n",
       "      <td>0.257136</td>\n",
       "      <td>-0.049515</td>\n",
       "      <td>0.243378</td>\n",
       "      <td>-0.589021</td>\n",
       "      <td>...</td>\n",
       "      <td>0</td>\n",
       "      <td>0</td>\n",
       "      <td>0</td>\n",
       "      <td>0</td>\n",
       "      <td>0</td>\n",
       "      <td>0</td>\n",
       "      <td>0</td>\n",
       "      <td>0</td>\n",
       "      <td>0</td>\n",
       "      <td>0</td>\n",
       "    </tr>\n",
       "  </tbody>\n",
       "</table>\n",
       "<p>15999 rows × 2118 columns</p>\n",
       "</div>"
      ],
      "text/plain": [
       "       value               datetime_dt location  AOD at 0.47 micron_0  \\\n",
       "0        0.0 2017-01-07 16:00:00+00:00   Taipei             -0.552611   \n",
       "1        0.0 2017-01-07 16:00:00+00:00   Taipei             -0.552611   \n",
       "2        0.0 2017-01-07 16:00:00+00:00   Taipei             -0.552611   \n",
       "3        0.0 2017-01-07 16:00:00+00:00   Taipei             -0.552611   \n",
       "4        0.0 2017-01-07 16:00:00+00:00   Taipei             -0.552611   \n",
       "...      ...                       ...      ...                   ...   \n",
       "15994    0.0 2021-06-05 18:30:00+00:00    Delhi             -0.561104   \n",
       "15995    0.0 2021-06-05 18:30:00+00:00    Delhi             -0.561104   \n",
       "15996    0.0 2021-06-05 18:30:00+00:00    Delhi             -0.561104   \n",
       "15997    0.0 2021-06-17 18:30:00+00:00    Delhi             -0.556475   \n",
       "15998    0.0 2021-04-11 18:30:00+00:00    Delhi             -0.556702   \n",
       "\n",
       "       AOD at 0.47 micron_1  AOD at 0.47 micron_2  AOD at 0.47 micron_3  \\\n",
       "0                  0.114593             -0.116292              0.256839   \n",
       "1                  0.114593             -0.116292              0.256839   \n",
       "2                  0.114593             -0.116292              0.256839   \n",
       "3                  0.114593             -0.116292              0.256839   \n",
       "4                  0.114593             -0.116292              0.256839   \n",
       "...                     ...                   ...                   ...   \n",
       "15994              0.114857             -0.115555              0.257440   \n",
       "15995              0.114857             -0.115555              0.257440   \n",
       "15996              0.114857             -0.115555              0.257440   \n",
       "15997              0.114697             -0.116058              0.256996   \n",
       "15998              0.114758             -0.116034              0.257136   \n",
       "\n",
       "       AOD at 0.47 micron_4  AOD at 0.47 micron_5  AOD at 0.47 micron_6  ...  \\\n",
       "0                 -0.049796              0.242716             -0.585104  ...   \n",
       "1                 -0.049796              0.242716             -0.585104  ...   \n",
       "2                 -0.049796              0.242716             -0.585104  ...   \n",
       "3                 -0.049796              0.242716             -0.585104  ...   \n",
       "4                 -0.049796              0.242716             -0.585104  ...   \n",
       "...                     ...                   ...                   ...  ...   \n",
       "15994             -0.049277              0.244174             -0.593226  ...   \n",
       "15995             -0.049277              0.244174             -0.593226  ...   \n",
       "15996             -0.049277              0.244174             -0.593226  ...   \n",
       "15997             -0.049477              0.243355             -0.588765  ...   \n",
       "15998             -0.049515              0.243378             -0.589021  ...   \n",
       "\n",
       "       VXNN3  VYH7U  WT52R  X5DKW  XJF9O  XNLVD  YHOPV  ZF3ZW  ZP1FZ  ZZ8JF  \n",
       "0          0      0      0      0      0      0      0      0      0      0  \n",
       "1          0      0      0      0      0      0      0      0      0      0  \n",
       "2          0      0      0      0      0      0      0      0      0      0  \n",
       "3          0      0      0      0      0      0      0      0      0      0  \n",
       "4          0      0      0      0      1      0      0      0      0      0  \n",
       "...      ...    ...    ...    ...    ...    ...    ...    ...    ...    ...  \n",
       "15994      0      0      0      0      0      0      1      0      0      0  \n",
       "15995      0      0      0      0      0      0      0      1      0      0  \n",
       "15996      0      0      0      0      0      0      0      0      0      0  \n",
       "15997      0      0      0      0      0      0      0      0      0      0  \n",
       "15998      0      0      0      0      0      0      0      0      0      0  \n",
       "\n",
       "[15999 rows x 2118 columns]"
      ]
     },
     "execution_count": 124,
     "metadata": {},
     "output_type": "execute_result"
    }
   ],
   "source": [
    "df_testi"
   ]
  },
  {
   "cell_type": "code",
   "execution_count": 125,
   "id": "e3db99f1",
   "metadata": {},
   "outputs": [],
   "source": [
    "df_testi = df_testi.drop(columns = [\"location\"])"
   ]
  },
  {
   "cell_type": "code",
   "execution_count": 130,
   "id": "cb6fa388",
   "metadata": {},
   "outputs": [
    {
     "data": {
      "text/html": [
       "<div>\n",
       "<style scoped>\n",
       "    .dataframe tbody tr th:only-of-type {\n",
       "        vertical-align: middle;\n",
       "    }\n",
       "\n",
       "    .dataframe tbody tr th {\n",
       "        vertical-align: top;\n",
       "    }\n",
       "\n",
       "    .dataframe thead th {\n",
       "        text-align: right;\n",
       "    }\n",
       "</style>\n",
       "<table border=\"1\" class=\"dataframe\">\n",
       "  <thead>\n",
       "    <tr style=\"text-align: right;\">\n",
       "      <th></th>\n",
       "      <th>value</th>\n",
       "      <th>datetime_dt</th>\n",
       "      <th>AOD at 0.47 micron_0</th>\n",
       "      <th>AOD at 0.47 micron_1</th>\n",
       "      <th>AOD at 0.47 micron_2</th>\n",
       "      <th>AOD at 0.47 micron_3</th>\n",
       "      <th>AOD at 0.47 micron_4</th>\n",
       "      <th>AOD at 0.47 micron_5</th>\n",
       "      <th>AOD at 0.47 micron_6</th>\n",
       "      <th>AOD at 0.47 micron_7</th>\n",
       "      <th>...</th>\n",
       "      <th>WT52R</th>\n",
       "      <th>X5DKW</th>\n",
       "      <th>XJF9O</th>\n",
       "      <th>XNLVD</th>\n",
       "      <th>YHOPV</th>\n",
       "      <th>ZF3ZW</th>\n",
       "      <th>ZP1FZ</th>\n",
       "      <th>ZZ8JF</th>\n",
       "      <th>7F1D1</th>\n",
       "      <th>WZNCR</th>\n",
       "    </tr>\n",
       "  </thead>\n",
       "  <tbody>\n",
       "    <tr>\n",
       "      <th>0</th>\n",
       "      <td>0.0</td>\n",
       "      <td>2017-01-07 16:00:00+00:00</td>\n",
       "      <td>-0.552611</td>\n",
       "      <td>0.114593</td>\n",
       "      <td>-0.116292</td>\n",
       "      <td>0.256839</td>\n",
       "      <td>-0.049796</td>\n",
       "      <td>0.242716</td>\n",
       "      <td>-0.585104</td>\n",
       "      <td>-0.107607</td>\n",
       "      <td>...</td>\n",
       "      <td>0</td>\n",
       "      <td>0</td>\n",
       "      <td>0</td>\n",
       "      <td>0</td>\n",
       "      <td>0</td>\n",
       "      <td>0</td>\n",
       "      <td>0</td>\n",
       "      <td>0</td>\n",
       "      <td>0.0</td>\n",
       "      <td>0.0</td>\n",
       "    </tr>\n",
       "    <tr>\n",
       "      <th>1</th>\n",
       "      <td>0.0</td>\n",
       "      <td>2017-01-07 16:00:00+00:00</td>\n",
       "      <td>-0.552611</td>\n",
       "      <td>0.114593</td>\n",
       "      <td>-0.116292</td>\n",
       "      <td>0.256839</td>\n",
       "      <td>-0.049796</td>\n",
       "      <td>0.242716</td>\n",
       "      <td>-0.585104</td>\n",
       "      <td>-0.107607</td>\n",
       "      <td>...</td>\n",
       "      <td>0</td>\n",
       "      <td>0</td>\n",
       "      <td>0</td>\n",
       "      <td>0</td>\n",
       "      <td>0</td>\n",
       "      <td>0</td>\n",
       "      <td>0</td>\n",
       "      <td>0</td>\n",
       "      <td>0.0</td>\n",
       "      <td>0.0</td>\n",
       "    </tr>\n",
       "    <tr>\n",
       "      <th>2</th>\n",
       "      <td>0.0</td>\n",
       "      <td>2017-01-07 16:00:00+00:00</td>\n",
       "      <td>-0.552611</td>\n",
       "      <td>0.114593</td>\n",
       "      <td>-0.116292</td>\n",
       "      <td>0.256839</td>\n",
       "      <td>-0.049796</td>\n",
       "      <td>0.242716</td>\n",
       "      <td>-0.585104</td>\n",
       "      <td>-0.107607</td>\n",
       "      <td>...</td>\n",
       "      <td>0</td>\n",
       "      <td>0</td>\n",
       "      <td>0</td>\n",
       "      <td>0</td>\n",
       "      <td>0</td>\n",
       "      <td>0</td>\n",
       "      <td>0</td>\n",
       "      <td>0</td>\n",
       "      <td>0.0</td>\n",
       "      <td>0.0</td>\n",
       "    </tr>\n",
       "    <tr>\n",
       "      <th>3</th>\n",
       "      <td>0.0</td>\n",
       "      <td>2017-01-07 16:00:00+00:00</td>\n",
       "      <td>-0.552611</td>\n",
       "      <td>0.114593</td>\n",
       "      <td>-0.116292</td>\n",
       "      <td>0.256839</td>\n",
       "      <td>-0.049796</td>\n",
       "      <td>0.242716</td>\n",
       "      <td>-0.585104</td>\n",
       "      <td>-0.107607</td>\n",
       "      <td>...</td>\n",
       "      <td>0</td>\n",
       "      <td>0</td>\n",
       "      <td>0</td>\n",
       "      <td>0</td>\n",
       "      <td>0</td>\n",
       "      <td>0</td>\n",
       "      <td>0</td>\n",
       "      <td>0</td>\n",
       "      <td>0.0</td>\n",
       "      <td>0.0</td>\n",
       "    </tr>\n",
       "    <tr>\n",
       "      <th>4</th>\n",
       "      <td>0.0</td>\n",
       "      <td>2017-01-07 16:00:00+00:00</td>\n",
       "      <td>-0.552611</td>\n",
       "      <td>0.114593</td>\n",
       "      <td>-0.116292</td>\n",
       "      <td>0.256839</td>\n",
       "      <td>-0.049796</td>\n",
       "      <td>0.242716</td>\n",
       "      <td>-0.585104</td>\n",
       "      <td>-0.107607</td>\n",
       "      <td>...</td>\n",
       "      <td>0</td>\n",
       "      <td>0</td>\n",
       "      <td>1</td>\n",
       "      <td>0</td>\n",
       "      <td>0</td>\n",
       "      <td>0</td>\n",
       "      <td>0</td>\n",
       "      <td>0</td>\n",
       "      <td>0.0</td>\n",
       "      <td>0.0</td>\n",
       "    </tr>\n",
       "    <tr>\n",
       "      <th>...</th>\n",
       "      <td>...</td>\n",
       "      <td>...</td>\n",
       "      <td>...</td>\n",
       "      <td>...</td>\n",
       "      <td>...</td>\n",
       "      <td>...</td>\n",
       "      <td>...</td>\n",
       "      <td>...</td>\n",
       "      <td>...</td>\n",
       "      <td>...</td>\n",
       "      <td>...</td>\n",
       "      <td>...</td>\n",
       "      <td>...</td>\n",
       "      <td>...</td>\n",
       "      <td>...</td>\n",
       "      <td>...</td>\n",
       "      <td>...</td>\n",
       "      <td>...</td>\n",
       "      <td>...</td>\n",
       "      <td>...</td>\n",
       "      <td>...</td>\n",
       "    </tr>\n",
       "    <tr>\n",
       "      <th>15994</th>\n",
       "      <td>0.0</td>\n",
       "      <td>2021-06-05 18:30:00+00:00</td>\n",
       "      <td>-0.561104</td>\n",
       "      <td>0.114857</td>\n",
       "      <td>-0.115555</td>\n",
       "      <td>0.257440</td>\n",
       "      <td>-0.049277</td>\n",
       "      <td>0.244174</td>\n",
       "      <td>-0.593226</td>\n",
       "      <td>-0.107686</td>\n",
       "      <td>...</td>\n",
       "      <td>0</td>\n",
       "      <td>0</td>\n",
       "      <td>0</td>\n",
       "      <td>0</td>\n",
       "      <td>1</td>\n",
       "      <td>0</td>\n",
       "      <td>0</td>\n",
       "      <td>0</td>\n",
       "      <td>0.0</td>\n",
       "      <td>0.0</td>\n",
       "    </tr>\n",
       "    <tr>\n",
       "      <th>15995</th>\n",
       "      <td>0.0</td>\n",
       "      <td>2021-06-05 18:30:00+00:00</td>\n",
       "      <td>-0.561104</td>\n",
       "      <td>0.114857</td>\n",
       "      <td>-0.115555</td>\n",
       "      <td>0.257440</td>\n",
       "      <td>-0.049277</td>\n",
       "      <td>0.244174</td>\n",
       "      <td>-0.593226</td>\n",
       "      <td>-0.107686</td>\n",
       "      <td>...</td>\n",
       "      <td>0</td>\n",
       "      <td>0</td>\n",
       "      <td>0</td>\n",
       "      <td>0</td>\n",
       "      <td>0</td>\n",
       "      <td>1</td>\n",
       "      <td>0</td>\n",
       "      <td>0</td>\n",
       "      <td>0.0</td>\n",
       "      <td>0.0</td>\n",
       "    </tr>\n",
       "    <tr>\n",
       "      <th>15996</th>\n",
       "      <td>0.0</td>\n",
       "      <td>2021-06-05 18:30:00+00:00</td>\n",
       "      <td>-0.561104</td>\n",
       "      <td>0.114857</td>\n",
       "      <td>-0.115555</td>\n",
       "      <td>0.257440</td>\n",
       "      <td>-0.049277</td>\n",
       "      <td>0.244174</td>\n",
       "      <td>-0.593226</td>\n",
       "      <td>-0.107686</td>\n",
       "      <td>...</td>\n",
       "      <td>0</td>\n",
       "      <td>0</td>\n",
       "      <td>0</td>\n",
       "      <td>0</td>\n",
       "      <td>0</td>\n",
       "      <td>0</td>\n",
       "      <td>0</td>\n",
       "      <td>0</td>\n",
       "      <td>0.0</td>\n",
       "      <td>0.0</td>\n",
       "    </tr>\n",
       "    <tr>\n",
       "      <th>15997</th>\n",
       "      <td>0.0</td>\n",
       "      <td>2021-06-17 18:30:00+00:00</td>\n",
       "      <td>-0.556475</td>\n",
       "      <td>0.114697</td>\n",
       "      <td>-0.116058</td>\n",
       "      <td>0.256996</td>\n",
       "      <td>-0.049477</td>\n",
       "      <td>0.243355</td>\n",
       "      <td>-0.588765</td>\n",
       "      <td>-0.107504</td>\n",
       "      <td>...</td>\n",
       "      <td>0</td>\n",
       "      <td>0</td>\n",
       "      <td>0</td>\n",
       "      <td>0</td>\n",
       "      <td>0</td>\n",
       "      <td>0</td>\n",
       "      <td>0</td>\n",
       "      <td>0</td>\n",
       "      <td>0.0</td>\n",
       "      <td>0.0</td>\n",
       "    </tr>\n",
       "    <tr>\n",
       "      <th>15998</th>\n",
       "      <td>0.0</td>\n",
       "      <td>2021-04-11 18:30:00+00:00</td>\n",
       "      <td>-0.556702</td>\n",
       "      <td>0.114758</td>\n",
       "      <td>-0.116034</td>\n",
       "      <td>0.257136</td>\n",
       "      <td>-0.049515</td>\n",
       "      <td>0.243378</td>\n",
       "      <td>-0.589021</td>\n",
       "      <td>-0.107595</td>\n",
       "      <td>...</td>\n",
       "      <td>0</td>\n",
       "      <td>0</td>\n",
       "      <td>0</td>\n",
       "      <td>0</td>\n",
       "      <td>0</td>\n",
       "      <td>0</td>\n",
       "      <td>0</td>\n",
       "      <td>0</td>\n",
       "      <td>0.0</td>\n",
       "      <td>0.0</td>\n",
       "    </tr>\n",
       "  </tbody>\n",
       "</table>\n",
       "<p>15999 rows × 2119 columns</p>\n",
       "</div>"
      ],
      "text/plain": [
       "       value               datetime_dt  AOD at 0.47 micron_0  \\\n",
       "0        0.0 2017-01-07 16:00:00+00:00             -0.552611   \n",
       "1        0.0 2017-01-07 16:00:00+00:00             -0.552611   \n",
       "2        0.0 2017-01-07 16:00:00+00:00             -0.552611   \n",
       "3        0.0 2017-01-07 16:00:00+00:00             -0.552611   \n",
       "4        0.0 2017-01-07 16:00:00+00:00             -0.552611   \n",
       "...      ...                       ...                   ...   \n",
       "15994    0.0 2021-06-05 18:30:00+00:00             -0.561104   \n",
       "15995    0.0 2021-06-05 18:30:00+00:00             -0.561104   \n",
       "15996    0.0 2021-06-05 18:30:00+00:00             -0.561104   \n",
       "15997    0.0 2021-06-17 18:30:00+00:00             -0.556475   \n",
       "15998    0.0 2021-04-11 18:30:00+00:00             -0.556702   \n",
       "\n",
       "       AOD at 0.47 micron_1  AOD at 0.47 micron_2  AOD at 0.47 micron_3  \\\n",
       "0                  0.114593             -0.116292              0.256839   \n",
       "1                  0.114593             -0.116292              0.256839   \n",
       "2                  0.114593             -0.116292              0.256839   \n",
       "3                  0.114593             -0.116292              0.256839   \n",
       "4                  0.114593             -0.116292              0.256839   \n",
       "...                     ...                   ...                   ...   \n",
       "15994              0.114857             -0.115555              0.257440   \n",
       "15995              0.114857             -0.115555              0.257440   \n",
       "15996              0.114857             -0.115555              0.257440   \n",
       "15997              0.114697             -0.116058              0.256996   \n",
       "15998              0.114758             -0.116034              0.257136   \n",
       "\n",
       "       AOD at 0.47 micron_4  AOD at 0.47 micron_5  AOD at 0.47 micron_6  \\\n",
       "0                 -0.049796              0.242716             -0.585104   \n",
       "1                 -0.049796              0.242716             -0.585104   \n",
       "2                 -0.049796              0.242716             -0.585104   \n",
       "3                 -0.049796              0.242716             -0.585104   \n",
       "4                 -0.049796              0.242716             -0.585104   \n",
       "...                     ...                   ...                   ...   \n",
       "15994             -0.049277              0.244174             -0.593226   \n",
       "15995             -0.049277              0.244174             -0.593226   \n",
       "15996             -0.049277              0.244174             -0.593226   \n",
       "15997             -0.049477              0.243355             -0.588765   \n",
       "15998             -0.049515              0.243378             -0.589021   \n",
       "\n",
       "       AOD at 0.47 micron_7  ...  WT52R  X5DKW  XJF9O  XNLVD  YHOPV  ZF3ZW  \\\n",
       "0                 -0.107607  ...      0      0      0      0      0      0   \n",
       "1                 -0.107607  ...      0      0      0      0      0      0   \n",
       "2                 -0.107607  ...      0      0      0      0      0      0   \n",
       "3                 -0.107607  ...      0      0      0      0      0      0   \n",
       "4                 -0.107607  ...      0      0      1      0      0      0   \n",
       "...                     ...  ...    ...    ...    ...    ...    ...    ...   \n",
       "15994             -0.107686  ...      0      0      0      0      1      0   \n",
       "15995             -0.107686  ...      0      0      0      0      0      1   \n",
       "15996             -0.107686  ...      0      0      0      0      0      0   \n",
       "15997             -0.107504  ...      0      0      0      0      0      0   \n",
       "15998             -0.107595  ...      0      0      0      0      0      0   \n",
       "\n",
       "       ZP1FZ  ZZ8JF  7F1D1  WZNCR  \n",
       "0          0      0    0.0    0.0  \n",
       "1          0      0    0.0    0.0  \n",
       "2          0      0    0.0    0.0  \n",
       "3          0      0    0.0    0.0  \n",
       "4          0      0    0.0    0.0  \n",
       "...      ...    ...    ...    ...  \n",
       "15994      0      0    0.0    0.0  \n",
       "15995      0      0    0.0    0.0  \n",
       "15996      0      0    0.0    0.0  \n",
       "15997      0      0    0.0    0.0  \n",
       "15998      0      0    0.0    0.0  \n",
       "\n",
       "[15999 rows x 2119 columns]"
      ]
     },
     "execution_count": 130,
     "metadata": {},
     "output_type": "execute_result"
    }
   ],
   "source": [
    "df_testi"
   ]
  },
  {
   "cell_type": "code",
   "execution_count": 131,
   "id": "338c4d4f",
   "metadata": {},
   "outputs": [],
   "source": [
    "X_t = df_testi[df_testi.columns[2:]].values"
   ]
  },
  {
   "cell_type": "code",
   "execution_count": 132,
   "id": "6ed3d50c",
   "metadata": {},
   "outputs": [
    {
     "data": {
      "text/plain": [
       "(15999, 2117)"
      ]
     },
     "execution_count": 132,
     "metadata": {},
     "output_type": "execute_result"
    }
   ],
   "source": [
    "X_t.shape"
   ]
  },
  {
   "cell_type": "code",
   "execution_count": 133,
   "id": "c76c9562",
   "metadata": {},
   "outputs": [],
   "source": [
    "y_t = df_testi[\"value\"].values\n",
    "# df_testi"
   ]
  },
  {
   "cell_type": "code",
   "execution_count": 115,
   "id": "5e2ceb6b",
   "metadata": {},
   "outputs": [],
   "source": [
    "import numpy as np"
   ]
  },
  {
   "cell_type": "code",
   "execution_count": 116,
   "id": "3540984a",
   "metadata": {},
   "outputs": [
    {
     "name": "stderr",
     "output_type": "stream",
     "text": [
      "/tmp/ipykernel_14326/1273815802.py:1: DeprecationWarning: `np.float` is a deprecated alias for the builtin `float`. To silence this warning, use `float` by itself. Doing this will not modify any behavior and is safe. If you specifically wanted the numpy scalar type, use `np.float64` here.\n",
      "Deprecated in NumPy 1.20; for more details and guidance: https://numpy.org/devdocs/release/1.20.0-notes.html#deprecations\n",
      "  test_inderence_dataset = RegressionDataset(torch.from_numpy(X_t.astype(np.float)).float(), torch.from_numpy(y_t.astype(np.float)).float())\n"
     ]
    }
   ],
   "source": [
    "test_inderence_dataset = RegressionDataset(torch.from_numpy(X_t.astype(np.float)).float(), torch.from_numpy(y_t.astype(np.float)).float())"
   ]
  },
  {
   "cell_type": "code",
   "execution_count": 262,
   "id": "f95ff0f3",
   "metadata": {},
   "outputs": [],
   "source": [
    "test_inference_loader = DataLoader(dataset=test_inderence_dataset, batch_size=1,shuffle=False)"
   ]
  },
  {
   "cell_type": "code",
   "execution_count": 263,
   "id": "15c93394",
   "metadata": {},
   "outputs": [],
   "source": [
    "y_pred_list = []\n",
    "with torch.no_grad():\n",
    "    model.eval()\n",
    "    for X_batch, _ in test_inderence_dataset:\n",
    "        X_batch = X_batch.to(device)\n",
    "        y_test_pred = model(X_batch)\n",
    "        y_pred_list.append(y_test_pred.cpu().numpy())\n",
    "y_pred_list = [a.squeeze().tolist() for a in y_pred_list]"
   ]
  },
  {
   "cell_type": "code",
   "execution_count": 140,
   "id": "bdb6d73c",
   "metadata": {},
   "outputs": [],
   "source": [
    "columns_zip = df_testi[df_testi.columns[2:]].columns[-54:]"
   ]
  },
  {
   "cell_type": "code",
   "execution_count": 141,
   "id": "5c01b1c7",
   "metadata": {},
   "outputs": [
    {
     "data": {
      "text/plain": [
       "0.0"
      ]
     },
     "execution_count": 141,
     "metadata": {},
     "output_type": "execute_result"
    }
   ],
   "source": [
    "df_testi[\"value\"].max()"
   ]
  },
  {
   "cell_type": "code",
   "execution_count": 142,
   "id": "d03e0444",
   "metadata": {},
   "outputs": [
    {
     "data": {
      "text/plain": [
       "Index(['1X116', '1Z2W7', '3S31A', '6EIL6', '7334C', '78V83', '8KNI6', '90BZ1',\n",
       "       '90S79', '9Q6TA', 'A2FBI', 'A7UCQ', 'AZJ0Z', 'C7PGV', 'CPR0W', 'D72OT',\n",
       "       'D7S1G', 'DHO4M', 'DJN0F', 'E2AUK', 'E5P9N', 'FRITQ', 'GAC6R', 'GJLB2',\n",
       "       'GVQXS', 'H96P6', 'HANW9', 'HM74A', 'IUMEZ', 'KW43U', 'KZ9W9', 'NE7BV',\n",
       "       'P8JA5', 'PG3MI', 'PJNW1', 'PW0JT', 'QJHW4', 'S77YN', 'SZLMT', 'UC74Z',\n",
       "       'VBLD0', 'VR4WG', 'VXNN3', 'VYH7U', 'WT52R', 'X5DKW', 'XJF9O', 'XNLVD',\n",
       "       'YHOPV', 'ZF3ZW', 'ZP1FZ', 'ZZ8JF', '7F1D1', 'WZNCR'],\n",
       "      dtype='object')"
      ]
     },
     "execution_count": 142,
     "metadata": {},
     "output_type": "execute_result"
    }
   ],
   "source": [
    "columns_zip"
   ]
  },
  {
   "cell_type": "code",
   "execution_count": 247,
   "id": "cc18fc91",
   "metadata": {},
   "outputs": [
    {
     "data": {
      "text/plain": [
       "array([ 18.8997449 ,  19.58872187,  22.05317046, ...,  60.05914122,\n",
       "        84.0963302 , 117.53627595])"
      ]
     },
     "execution_count": 247,
     "metadata": {},
     "output_type": "execute_result"
    }
   ],
   "source": [
    "# len(y_pred_list)\n",
    "y_p"
   ]
  },
  {
   "cell_type": "code",
   "execution_count": 248,
   "id": "b14e2bd5",
   "metadata": {},
   "outputs": [
    {
     "data": {
      "text/plain": [
       "0         14.831286\n",
       "1         15.798055\n",
       "2         19.757606\n",
       "3         15.314253\n",
       "4         29.575542\n",
       "            ...    \n",
       "15994     52.772180\n",
       "15995     53.001055\n",
       "15996     45.802449\n",
       "15997     64.966403\n",
       "15998    124.686529\n",
       "Name: value, Length: 15999, dtype: float64"
      ]
     },
     "execution_count": 248,
     "metadata": {},
     "output_type": "execute_result"
    }
   ],
   "source": [
    "df_testi[\"value\"]"
   ]
  },
  {
   "cell_type": "code",
   "execution_count": 249,
   "id": "b03955e2",
   "metadata": {},
   "outputs": [],
   "source": [
    "df_testi[\"value\"]=y_p"
   ]
  },
  {
   "cell_type": "code",
   "execution_count": 250,
   "id": "c738d38d",
   "metadata": {},
   "outputs": [],
   "source": [
    "df_test[\"value\"]=y_p"
   ]
  },
  {
   "cell_type": "code",
   "execution_count": 251,
   "id": "465188e2",
   "metadata": {},
   "outputs": [
    {
     "data": {
      "text/plain": [
       "0         18.899745\n",
       "1         19.588722\n",
       "2         22.053170\n",
       "3         19.761412\n",
       "4         40.245199\n",
       "            ...    \n",
       "15994     72.074300\n",
       "15995     72.059072\n",
       "15996     60.059141\n",
       "15997     84.096330\n",
       "15998    117.536276\n",
       "Name: value, Length: 15999, dtype: float64"
      ]
     },
     "execution_count": 251,
     "metadata": {},
     "output_type": "execute_result"
    }
   ],
   "source": [
    "df_test[\"value\"]"
   ]
  },
  {
   "cell_type": "code",
   "execution_count": 252,
   "id": "92b80d3b",
   "metadata": {},
   "outputs": [
    {
     "data": {
      "text/html": [
       "<div>\n",
       "<style scoped>\n",
       "    .dataframe tbody tr th:only-of-type {\n",
       "        vertical-align: middle;\n",
       "    }\n",
       "\n",
       "    .dataframe tbody tr th {\n",
       "        vertical-align: top;\n",
       "    }\n",
       "\n",
       "    .dataframe thead th {\n",
       "        text-align: right;\n",
       "    }\n",
       "</style>\n",
       "<table border=\"1\" class=\"dataframe\">\n",
       "  <thead>\n",
       "    <tr style=\"text-align: right;\">\n",
       "      <th></th>\n",
       "      <th>datetime</th>\n",
       "      <th>grid_id</th>\n",
       "      <th>value</th>\n",
       "    </tr>\n",
       "  </thead>\n",
       "  <tbody>\n",
       "    <tr>\n",
       "      <th>0</th>\n",
       "      <td>2017-01-07T16:00:00Z</td>\n",
       "      <td>1X116</td>\n",
       "      <td>0.0</td>\n",
       "    </tr>\n",
       "    <tr>\n",
       "      <th>1</th>\n",
       "      <td>2017-01-07T16:00:00Z</td>\n",
       "      <td>9Q6TA</td>\n",
       "      <td>0.0</td>\n",
       "    </tr>\n",
       "    <tr>\n",
       "      <th>2</th>\n",
       "      <td>2017-01-07T16:00:00Z</td>\n",
       "      <td>KW43U</td>\n",
       "      <td>0.0</td>\n",
       "    </tr>\n",
       "    <tr>\n",
       "      <th>3</th>\n",
       "      <td>2017-01-07T16:00:00Z</td>\n",
       "      <td>VR4WG</td>\n",
       "      <td>0.0</td>\n",
       "    </tr>\n",
       "    <tr>\n",
       "      <th>4</th>\n",
       "      <td>2017-01-07T16:00:00Z</td>\n",
       "      <td>XJF9O</td>\n",
       "      <td>0.0</td>\n",
       "    </tr>\n",
       "    <tr>\n",
       "      <th>...</th>\n",
       "      <td>...</td>\n",
       "      <td>...</td>\n",
       "      <td>...</td>\n",
       "    </tr>\n",
       "    <tr>\n",
       "      <th>13499</th>\n",
       "      <td>2021-08-24T08:00:00Z</td>\n",
       "      <td>QJHW4</td>\n",
       "      <td>0.0</td>\n",
       "    </tr>\n",
       "    <tr>\n",
       "      <th>13500</th>\n",
       "      <td>2021-08-24T08:00:00Z</td>\n",
       "      <td>VBLD0</td>\n",
       "      <td>0.0</td>\n",
       "    </tr>\n",
       "    <tr>\n",
       "      <th>13501</th>\n",
       "      <td>2021-08-24T08:00:00Z</td>\n",
       "      <td>WT52R</td>\n",
       "      <td>0.0</td>\n",
       "    </tr>\n",
       "    <tr>\n",
       "      <th>13502</th>\n",
       "      <td>2021-08-24T08:00:00Z</td>\n",
       "      <td>ZP1FZ</td>\n",
       "      <td>0.0</td>\n",
       "    </tr>\n",
       "    <tr>\n",
       "      <th>13503</th>\n",
       "      <td>2021-08-24T08:00:00Z</td>\n",
       "      <td>ZZ8JF</td>\n",
       "      <td>0.0</td>\n",
       "    </tr>\n",
       "  </tbody>\n",
       "</table>\n",
       "<p>13504 rows × 3 columns</p>\n",
       "</div>"
      ],
      "text/plain": [
       "                   datetime grid_id  value\n",
       "0      2017-01-07T16:00:00Z   1X116    0.0\n",
       "1      2017-01-07T16:00:00Z   9Q6TA    0.0\n",
       "2      2017-01-07T16:00:00Z   KW43U    0.0\n",
       "3      2017-01-07T16:00:00Z   VR4WG    0.0\n",
       "4      2017-01-07T16:00:00Z   XJF9O    0.0\n",
       "...                     ...     ...    ...\n",
       "13499  2021-08-24T08:00:00Z   QJHW4    0.0\n",
       "13500  2021-08-24T08:00:00Z   VBLD0    0.0\n",
       "13501  2021-08-24T08:00:00Z   WT52R    0.0\n",
       "13502  2021-08-24T08:00:00Z   ZP1FZ    0.0\n",
       "13503  2021-08-24T08:00:00Z   ZZ8JF    0.0\n",
       "\n",
       "[13504 rows x 3 columns]"
      ]
     },
     "execution_count": 252,
     "metadata": {},
     "output_type": "execute_result"
    }
   ],
   "source": [
    "test_labels = pd.read_csv(\"submission_format.csv\")\n",
    "# test_labels[\"datetime\"] = pd.to_datetime(test_labels[\"datetime\"])\n",
    "test_labels"
   ]
  },
  {
   "cell_type": "code",
   "execution_count": 253,
   "id": "fdf80705",
   "metadata": {},
   "outputs": [
    {
     "data": {
      "text/plain": [
       "'2017-01-07T16:00:00Z'"
      ]
     },
     "execution_count": 253,
     "metadata": {},
     "output_type": "execute_result"
    }
   ],
   "source": [
    "test_labels[\"datetime\"][0]"
   ]
  },
  {
   "cell_type": "code",
   "execution_count": 254,
   "id": "7c45484f",
   "metadata": {},
   "outputs": [
    {
     "data": {
      "text/html": [
       "<div>\n",
       "<style scoped>\n",
       "    .dataframe tbody tr th:only-of-type {\n",
       "        vertical-align: middle;\n",
       "    }\n",
       "\n",
       "    .dataframe tbody tr th {\n",
       "        vertical-align: top;\n",
       "    }\n",
       "\n",
       "    .dataframe thead th {\n",
       "        text-align: right;\n",
       "    }\n",
       "</style>\n",
       "<table border=\"1\" class=\"dataframe\">\n",
       "  <thead>\n",
       "    <tr style=\"text-align: right;\">\n",
       "      <th></th>\n",
       "      <th>Unnamed: 0</th>\n",
       "      <th>datetime</th>\n",
       "      <th>grid_id</th>\n",
       "      <th>value</th>\n",
       "      <th>datetime_dt</th>\n",
       "      <th>location</th>\n",
       "      <th>date</th>\n",
       "      <th>granule_id</th>\n",
       "      <th>AOD at 0.47 micron_0</th>\n",
       "      <th>AOD at 0.47 micron_1</th>\n",
       "      <th>...</th>\n",
       "      <th>cosine of Solar Zenith Angle_246</th>\n",
       "      <th>cosine of Solar Zenith Angle_247</th>\n",
       "      <th>cosine of Solar Zenith Angle_248</th>\n",
       "      <th>cosine of Solar Zenith Angle_249</th>\n",
       "      <th>cosine of Solar Zenith Angle_250</th>\n",
       "      <th>cosine of Solar Zenith Angle_251</th>\n",
       "      <th>cosine of Solar Zenith Angle_252</th>\n",
       "      <th>cosine of Solar Zenith Angle_253</th>\n",
       "      <th>cosine of Solar Zenith Angle_254</th>\n",
       "      <th>cosine of Solar Zenith Angle_255</th>\n",
       "    </tr>\n",
       "  </thead>\n",
       "  <tbody>\n",
       "    <tr>\n",
       "      <th>0</th>\n",
       "      <td>0</td>\n",
       "      <td>2017-01-07T16:00:00Z</td>\n",
       "      <td>1X116</td>\n",
       "      <td>18.899745</td>\n",
       "      <td>2017-01-07 16:00:00+00:00</td>\n",
       "      <td>Taipei</td>\n",
       "      <td>2017-01-07</td>\n",
       "      <td>20170107T032000_maiac_tpe_0.hdf</td>\n",
       "      <td>-0.552611</td>\n",
       "      <td>0.114593</td>\n",
       "      <td>...</td>\n",
       "      <td>0.514868</td>\n",
       "      <td>0.139191</td>\n",
       "      <td>0.183938</td>\n",
       "      <td>-1.667788</td>\n",
       "      <td>-0.356834</td>\n",
       "      <td>2.620512</td>\n",
       "      <td>0.295454</td>\n",
       "      <td>-0.233992</td>\n",
       "      <td>0.197363</td>\n",
       "      <td>0.768304</td>\n",
       "    </tr>\n",
       "    <tr>\n",
       "      <th>1</th>\n",
       "      <td>1</td>\n",
       "      <td>2017-01-07T16:00:00Z</td>\n",
       "      <td>9Q6TA</td>\n",
       "      <td>19.588722</td>\n",
       "      <td>2017-01-07 16:00:00+00:00</td>\n",
       "      <td>Taipei</td>\n",
       "      <td>2017-01-07</td>\n",
       "      <td>20170107T032000_maiac_tpe_0.hdf</td>\n",
       "      <td>-0.552611</td>\n",
       "      <td>0.114593</td>\n",
       "      <td>...</td>\n",
       "      <td>0.514868</td>\n",
       "      <td>0.139191</td>\n",
       "      <td>0.183938</td>\n",
       "      <td>-1.667788</td>\n",
       "      <td>-0.356834</td>\n",
       "      <td>2.620512</td>\n",
       "      <td>0.295454</td>\n",
       "      <td>-0.233992</td>\n",
       "      <td>0.197363</td>\n",
       "      <td>0.768304</td>\n",
       "    </tr>\n",
       "    <tr>\n",
       "      <th>2</th>\n",
       "      <td>2</td>\n",
       "      <td>2017-01-07T16:00:00Z</td>\n",
       "      <td>KW43U</td>\n",
       "      <td>22.053170</td>\n",
       "      <td>2017-01-07 16:00:00+00:00</td>\n",
       "      <td>Taipei</td>\n",
       "      <td>2017-01-07</td>\n",
       "      <td>20170107T032000_maiac_tpe_0.hdf</td>\n",
       "      <td>-0.552611</td>\n",
       "      <td>0.114593</td>\n",
       "      <td>...</td>\n",
       "      <td>0.514868</td>\n",
       "      <td>0.139191</td>\n",
       "      <td>0.183938</td>\n",
       "      <td>-1.667788</td>\n",
       "      <td>-0.356834</td>\n",
       "      <td>2.620512</td>\n",
       "      <td>0.295454</td>\n",
       "      <td>-0.233992</td>\n",
       "      <td>0.197363</td>\n",
       "      <td>0.768304</td>\n",
       "    </tr>\n",
       "    <tr>\n",
       "      <th>3</th>\n",
       "      <td>3</td>\n",
       "      <td>2017-01-07T16:00:00Z</td>\n",
       "      <td>VR4WG</td>\n",
       "      <td>19.761412</td>\n",
       "      <td>2017-01-07 16:00:00+00:00</td>\n",
       "      <td>Taipei</td>\n",
       "      <td>2017-01-07</td>\n",
       "      <td>20170107T032000_maiac_tpe_0.hdf</td>\n",
       "      <td>-0.552611</td>\n",
       "      <td>0.114593</td>\n",
       "      <td>...</td>\n",
       "      <td>0.514868</td>\n",
       "      <td>0.139191</td>\n",
       "      <td>0.183938</td>\n",
       "      <td>-1.667788</td>\n",
       "      <td>-0.356834</td>\n",
       "      <td>2.620512</td>\n",
       "      <td>0.295454</td>\n",
       "      <td>-0.233992</td>\n",
       "      <td>0.197363</td>\n",
       "      <td>0.768304</td>\n",
       "    </tr>\n",
       "    <tr>\n",
       "      <th>4</th>\n",
       "      <td>4</td>\n",
       "      <td>2017-01-07T16:00:00Z</td>\n",
       "      <td>XJF9O</td>\n",
       "      <td>40.245199</td>\n",
       "      <td>2017-01-07 16:00:00+00:00</td>\n",
       "      <td>Taipei</td>\n",
       "      <td>2017-01-07</td>\n",
       "      <td>20170107T032000_maiac_tpe_0.hdf</td>\n",
       "      <td>-0.552611</td>\n",
       "      <td>0.114593</td>\n",
       "      <td>...</td>\n",
       "      <td>0.514868</td>\n",
       "      <td>0.139191</td>\n",
       "      <td>0.183938</td>\n",
       "      <td>-1.667788</td>\n",
       "      <td>-0.356834</td>\n",
       "      <td>2.620512</td>\n",
       "      <td>0.295454</td>\n",
       "      <td>-0.233992</td>\n",
       "      <td>0.197363</td>\n",
       "      <td>0.768304</td>\n",
       "    </tr>\n",
       "    <tr>\n",
       "      <th>...</th>\n",
       "      <td>...</td>\n",
       "      <td>...</td>\n",
       "      <td>...</td>\n",
       "      <td>...</td>\n",
       "      <td>...</td>\n",
       "      <td>...</td>\n",
       "      <td>...</td>\n",
       "      <td>...</td>\n",
       "      <td>...</td>\n",
       "      <td>...</td>\n",
       "      <td>...</td>\n",
       "      <td>...</td>\n",
       "      <td>...</td>\n",
       "      <td>...</td>\n",
       "      <td>...</td>\n",
       "      <td>...</td>\n",
       "      <td>...</td>\n",
       "      <td>...</td>\n",
       "      <td>...</td>\n",
       "      <td>...</td>\n",
       "      <td>...</td>\n",
       "    </tr>\n",
       "    <tr>\n",
       "      <th>15994</th>\n",
       "      <td>15994</td>\n",
       "      <td>2021-06-05T18:30:00Z</td>\n",
       "      <td>YHOPV</td>\n",
       "      <td>72.074300</td>\n",
       "      <td>2021-06-05 18:30:00+00:00</td>\n",
       "      <td>Delhi</td>\n",
       "      <td>2021-06-05</td>\n",
       "      <td>20210605T071000_maiac_dl_0.hdf</td>\n",
       "      <td>-0.561104</td>\n",
       "      <td>0.114857</td>\n",
       "      <td>...</td>\n",
       "      <td>0.282401</td>\n",
       "      <td>0.094115</td>\n",
       "      <td>0.101234</td>\n",
       "      <td>-0.598972</td>\n",
       "      <td>-0.056394</td>\n",
       "      <td>-0.085390</td>\n",
       "      <td>0.155456</td>\n",
       "      <td>0.061431</td>\n",
       "      <td>0.139627</td>\n",
       "      <td>0.156484</td>\n",
       "    </tr>\n",
       "    <tr>\n",
       "      <th>15995</th>\n",
       "      <td>15995</td>\n",
       "      <td>2021-06-05T18:30:00Z</td>\n",
       "      <td>ZF3ZW</td>\n",
       "      <td>72.059072</td>\n",
       "      <td>2021-06-05 18:30:00+00:00</td>\n",
       "      <td>Delhi</td>\n",
       "      <td>2021-06-05</td>\n",
       "      <td>20210605T071000_maiac_dl_0.hdf</td>\n",
       "      <td>-0.561104</td>\n",
       "      <td>0.114857</td>\n",
       "      <td>...</td>\n",
       "      <td>0.282401</td>\n",
       "      <td>0.094115</td>\n",
       "      <td>0.101234</td>\n",
       "      <td>-0.598972</td>\n",
       "      <td>-0.056394</td>\n",
       "      <td>-0.085390</td>\n",
       "      <td>0.155456</td>\n",
       "      <td>0.061431</td>\n",
       "      <td>0.139627</td>\n",
       "      <td>0.156484</td>\n",
       "    </tr>\n",
       "    <tr>\n",
       "      <th>15996</th>\n",
       "      <td>15996</td>\n",
       "      <td>2021-06-05T18:30:00Z</td>\n",
       "      <td>GVQXS</td>\n",
       "      <td>60.059141</td>\n",
       "      <td>2021-06-05 18:30:00+00:00</td>\n",
       "      <td>Delhi</td>\n",
       "      <td>2021-06-05</td>\n",
       "      <td>20210605T071000_maiac_dl_0.hdf</td>\n",
       "      <td>-0.561104</td>\n",
       "      <td>0.114857</td>\n",
       "      <td>...</td>\n",
       "      <td>0.282401</td>\n",
       "      <td>0.094115</td>\n",
       "      <td>0.101234</td>\n",
       "      <td>-0.598972</td>\n",
       "      <td>-0.056394</td>\n",
       "      <td>-0.085390</td>\n",
       "      <td>0.155456</td>\n",
       "      <td>0.061431</td>\n",
       "      <td>0.139627</td>\n",
       "      <td>0.156484</td>\n",
       "    </tr>\n",
       "    <tr>\n",
       "      <th>15997</th>\n",
       "      <td>15997</td>\n",
       "      <td>2021-06-17T18:30:00Z</td>\n",
       "      <td>A7UCQ</td>\n",
       "      <td>84.096330</td>\n",
       "      <td>2021-06-17 18:30:00+00:00</td>\n",
       "      <td>Delhi</td>\n",
       "      <td>2021-06-17</td>\n",
       "      <td>20210617T060000_maiac_dl_0.hdf</td>\n",
       "      <td>-0.556475</td>\n",
       "      <td>0.114697</td>\n",
       "      <td>...</td>\n",
       "      <td>0.364079</td>\n",
       "      <td>0.141253</td>\n",
       "      <td>0.068522</td>\n",
       "      <td>-1.220975</td>\n",
       "      <td>-0.168101</td>\n",
       "      <td>1.756613</td>\n",
       "      <td>0.158490</td>\n",
       "      <td>0.021657</td>\n",
       "      <td>0.110188</td>\n",
       "      <td>0.200711</td>\n",
       "    </tr>\n",
       "    <tr>\n",
       "      <th>15998</th>\n",
       "      <td>15998</td>\n",
       "      <td>2021-04-11T18:30:00Z</td>\n",
       "      <td>GJLB2</td>\n",
       "      <td>117.536276</td>\n",
       "      <td>2021-04-11 18:30:00+00:00</td>\n",
       "      <td>Delhi</td>\n",
       "      <td>2021-04-11</td>\n",
       "      <td>20210411T070500_maiac_dl_0.hdf</td>\n",
       "      <td>-0.556702</td>\n",
       "      <td>0.114758</td>\n",
       "      <td>...</td>\n",
       "      <td>0.559139</td>\n",
       "      <td>0.184912</td>\n",
       "      <td>0.162346</td>\n",
       "      <td>-2.739183</td>\n",
       "      <td>-0.605774</td>\n",
       "      <td>3.593384</td>\n",
       "      <td>0.308225</td>\n",
       "      <td>-0.423955</td>\n",
       "      <td>0.171615</td>\n",
       "      <td>1.109442</td>\n",
       "    </tr>\n",
       "  </tbody>\n",
       "</table>\n",
       "<p>15999 rows × 2056 columns</p>\n",
       "</div>"
      ],
      "text/plain": [
       "       Unnamed: 0              datetime grid_id       value  \\\n",
       "0               0  2017-01-07T16:00:00Z   1X116   18.899745   \n",
       "1               1  2017-01-07T16:00:00Z   9Q6TA   19.588722   \n",
       "2               2  2017-01-07T16:00:00Z   KW43U   22.053170   \n",
       "3               3  2017-01-07T16:00:00Z   VR4WG   19.761412   \n",
       "4               4  2017-01-07T16:00:00Z   XJF9O   40.245199   \n",
       "...           ...                   ...     ...         ...   \n",
       "15994       15994  2021-06-05T18:30:00Z   YHOPV   72.074300   \n",
       "15995       15995  2021-06-05T18:30:00Z   ZF3ZW   72.059072   \n",
       "15996       15996  2021-06-05T18:30:00Z   GVQXS   60.059141   \n",
       "15997       15997  2021-06-17T18:30:00Z   A7UCQ   84.096330   \n",
       "15998       15998  2021-04-11T18:30:00Z   GJLB2  117.536276   \n",
       "\n",
       "                     datetime_dt location        date  \\\n",
       "0      2017-01-07 16:00:00+00:00   Taipei  2017-01-07   \n",
       "1      2017-01-07 16:00:00+00:00   Taipei  2017-01-07   \n",
       "2      2017-01-07 16:00:00+00:00   Taipei  2017-01-07   \n",
       "3      2017-01-07 16:00:00+00:00   Taipei  2017-01-07   \n",
       "4      2017-01-07 16:00:00+00:00   Taipei  2017-01-07   \n",
       "...                          ...      ...         ...   \n",
       "15994  2021-06-05 18:30:00+00:00    Delhi  2021-06-05   \n",
       "15995  2021-06-05 18:30:00+00:00    Delhi  2021-06-05   \n",
       "15996  2021-06-05 18:30:00+00:00    Delhi  2021-06-05   \n",
       "15997  2021-06-17 18:30:00+00:00    Delhi  2021-06-17   \n",
       "15998  2021-04-11 18:30:00+00:00    Delhi  2021-04-11   \n",
       "\n",
       "                            granule_id  AOD at 0.47 micron_0  \\\n",
       "0      20170107T032000_maiac_tpe_0.hdf             -0.552611   \n",
       "1      20170107T032000_maiac_tpe_0.hdf             -0.552611   \n",
       "2      20170107T032000_maiac_tpe_0.hdf             -0.552611   \n",
       "3      20170107T032000_maiac_tpe_0.hdf             -0.552611   \n",
       "4      20170107T032000_maiac_tpe_0.hdf             -0.552611   \n",
       "...                                ...                   ...   \n",
       "15994   20210605T071000_maiac_dl_0.hdf             -0.561104   \n",
       "15995   20210605T071000_maiac_dl_0.hdf             -0.561104   \n",
       "15996   20210605T071000_maiac_dl_0.hdf             -0.561104   \n",
       "15997   20210617T060000_maiac_dl_0.hdf             -0.556475   \n",
       "15998   20210411T070500_maiac_dl_0.hdf             -0.556702   \n",
       "\n",
       "       AOD at 0.47 micron_1  ...  cosine of Solar Zenith Angle_246  \\\n",
       "0                  0.114593  ...                          0.514868   \n",
       "1                  0.114593  ...                          0.514868   \n",
       "2                  0.114593  ...                          0.514868   \n",
       "3                  0.114593  ...                          0.514868   \n",
       "4                  0.114593  ...                          0.514868   \n",
       "...                     ...  ...                               ...   \n",
       "15994              0.114857  ...                          0.282401   \n",
       "15995              0.114857  ...                          0.282401   \n",
       "15996              0.114857  ...                          0.282401   \n",
       "15997              0.114697  ...                          0.364079   \n",
       "15998              0.114758  ...                          0.559139   \n",
       "\n",
       "       cosine of Solar Zenith Angle_247  cosine of Solar Zenith Angle_248  \\\n",
       "0                              0.139191                          0.183938   \n",
       "1                              0.139191                          0.183938   \n",
       "2                              0.139191                          0.183938   \n",
       "3                              0.139191                          0.183938   \n",
       "4                              0.139191                          0.183938   \n",
       "...                                 ...                               ...   \n",
       "15994                          0.094115                          0.101234   \n",
       "15995                          0.094115                          0.101234   \n",
       "15996                          0.094115                          0.101234   \n",
       "15997                          0.141253                          0.068522   \n",
       "15998                          0.184912                          0.162346   \n",
       "\n",
       "       cosine of Solar Zenith Angle_249  cosine of Solar Zenith Angle_250  \\\n",
       "0                             -1.667788                         -0.356834   \n",
       "1                             -1.667788                         -0.356834   \n",
       "2                             -1.667788                         -0.356834   \n",
       "3                             -1.667788                         -0.356834   \n",
       "4                             -1.667788                         -0.356834   \n",
       "...                                 ...                               ...   \n",
       "15994                         -0.598972                         -0.056394   \n",
       "15995                         -0.598972                         -0.056394   \n",
       "15996                         -0.598972                         -0.056394   \n",
       "15997                         -1.220975                         -0.168101   \n",
       "15998                         -2.739183                         -0.605774   \n",
       "\n",
       "       cosine of Solar Zenith Angle_251  cosine of Solar Zenith Angle_252  \\\n",
       "0                              2.620512                          0.295454   \n",
       "1                              2.620512                          0.295454   \n",
       "2                              2.620512                          0.295454   \n",
       "3                              2.620512                          0.295454   \n",
       "4                              2.620512                          0.295454   \n",
       "...                                 ...                               ...   \n",
       "15994                         -0.085390                          0.155456   \n",
       "15995                         -0.085390                          0.155456   \n",
       "15996                         -0.085390                          0.155456   \n",
       "15997                          1.756613                          0.158490   \n",
       "15998                          3.593384                          0.308225   \n",
       "\n",
       "       cosine of Solar Zenith Angle_253  cosine of Solar Zenith Angle_254  \\\n",
       "0                             -0.233992                          0.197363   \n",
       "1                             -0.233992                          0.197363   \n",
       "2                             -0.233992                          0.197363   \n",
       "3                             -0.233992                          0.197363   \n",
       "4                             -0.233992                          0.197363   \n",
       "...                                 ...                               ...   \n",
       "15994                          0.061431                          0.139627   \n",
       "15995                          0.061431                          0.139627   \n",
       "15996                          0.061431                          0.139627   \n",
       "15997                          0.021657                          0.110188   \n",
       "15998                         -0.423955                          0.171615   \n",
       "\n",
       "       cosine of Solar Zenith Angle_255  \n",
       "0                              0.768304  \n",
       "1                              0.768304  \n",
       "2                              0.768304  \n",
       "3                              0.768304  \n",
       "4                              0.768304  \n",
       "...                                 ...  \n",
       "15994                          0.156484  \n",
       "15995                          0.156484  \n",
       "15996                          0.156484  \n",
       "15997                          0.200711  \n",
       "15998                          1.109442  \n",
       "\n",
       "[15999 rows x 2056 columns]"
      ]
     },
     "execution_count": 254,
     "metadata": {},
     "output_type": "execute_result"
    }
   ],
   "source": [
    "df_final = df_test#[df_test[\"location\"]==\"Delhi\"]\n",
    "df_final"
   ]
  },
  {
   "cell_type": "code",
   "execution_count": 255,
   "id": "e8a91444",
   "metadata": {},
   "outputs": [],
   "source": [
    "filtered = df_final[['grid_id','value','datetime']]"
   ]
  },
  {
   "cell_type": "code",
   "execution_count": 256,
   "id": "ab857e61",
   "metadata": {},
   "outputs": [],
   "source": [
    "# filtered.columns = ['grid_id','value','datetime']"
   ]
  },
  {
   "cell_type": "code",
   "execution_count": 257,
   "id": "f84ed56f",
   "metadata": {},
   "outputs": [],
   "source": [
    "df_f = test_labels.merge(filtered,on=['grid_id','datetime'],how=\"left\")"
   ]
  },
  {
   "cell_type": "code",
   "execution_count": 258,
   "id": "c82d9497",
   "metadata": {},
   "outputs": [
    {
     "data": {
      "text/html": [
       "<div>\n",
       "<style scoped>\n",
       "    .dataframe tbody tr th:only-of-type {\n",
       "        vertical-align: middle;\n",
       "    }\n",
       "\n",
       "    .dataframe tbody tr th {\n",
       "        vertical-align: top;\n",
       "    }\n",
       "\n",
       "    .dataframe thead th {\n",
       "        text-align: right;\n",
       "    }\n",
       "</style>\n",
       "<table border=\"1\" class=\"dataframe\">\n",
       "  <thead>\n",
       "    <tr style=\"text-align: right;\">\n",
       "      <th></th>\n",
       "      <th>datetime</th>\n",
       "      <th>grid_id</th>\n",
       "      <th>value_x</th>\n",
       "      <th>value_y</th>\n",
       "    </tr>\n",
       "  </thead>\n",
       "  <tbody>\n",
       "    <tr>\n",
       "      <th>0</th>\n",
       "      <td>2017-01-07T16:00:00Z</td>\n",
       "      <td>1X116</td>\n",
       "      <td>0.0</td>\n",
       "      <td>18.899745</td>\n",
       "    </tr>\n",
       "    <tr>\n",
       "      <th>1</th>\n",
       "      <td>2017-01-07T16:00:00Z</td>\n",
       "      <td>1X116</td>\n",
       "      <td>0.0</td>\n",
       "      <td>18.367874</td>\n",
       "    </tr>\n",
       "    <tr>\n",
       "      <th>2</th>\n",
       "      <td>2017-01-07T16:00:00Z</td>\n",
       "      <td>9Q6TA</td>\n",
       "      <td>0.0</td>\n",
       "      <td>19.588722</td>\n",
       "    </tr>\n",
       "    <tr>\n",
       "      <th>3</th>\n",
       "      <td>2017-01-07T16:00:00Z</td>\n",
       "      <td>9Q6TA</td>\n",
       "      <td>0.0</td>\n",
       "      <td>18.483819</td>\n",
       "    </tr>\n",
       "    <tr>\n",
       "      <th>4</th>\n",
       "      <td>2017-01-07T16:00:00Z</td>\n",
       "      <td>KW43U</td>\n",
       "      <td>0.0</td>\n",
       "      <td>22.053170</td>\n",
       "    </tr>\n",
       "    <tr>\n",
       "      <th>...</th>\n",
       "      <td>...</td>\n",
       "      <td>...</td>\n",
       "      <td>...</td>\n",
       "      <td>...</td>\n",
       "    </tr>\n",
       "    <tr>\n",
       "      <th>16006</th>\n",
       "      <td>2021-08-24T08:00:00Z</td>\n",
       "      <td>QJHW4</td>\n",
       "      <td>0.0</td>\n",
       "      <td>NaN</td>\n",
       "    </tr>\n",
       "    <tr>\n",
       "      <th>16007</th>\n",
       "      <td>2021-08-24T08:00:00Z</td>\n",
       "      <td>VBLD0</td>\n",
       "      <td>0.0</td>\n",
       "      <td>NaN</td>\n",
       "    </tr>\n",
       "    <tr>\n",
       "      <th>16008</th>\n",
       "      <td>2021-08-24T08:00:00Z</td>\n",
       "      <td>WT52R</td>\n",
       "      <td>0.0</td>\n",
       "      <td>NaN</td>\n",
       "    </tr>\n",
       "    <tr>\n",
       "      <th>16009</th>\n",
       "      <td>2021-08-24T08:00:00Z</td>\n",
       "      <td>ZP1FZ</td>\n",
       "      <td>0.0</td>\n",
       "      <td>NaN</td>\n",
       "    </tr>\n",
       "    <tr>\n",
       "      <th>16010</th>\n",
       "      <td>2021-08-24T08:00:00Z</td>\n",
       "      <td>ZZ8JF</td>\n",
       "      <td>0.0</td>\n",
       "      <td>NaN</td>\n",
       "    </tr>\n",
       "  </tbody>\n",
       "</table>\n",
       "<p>16011 rows × 4 columns</p>\n",
       "</div>"
      ],
      "text/plain": [
       "                   datetime grid_id  value_x    value_y\n",
       "0      2017-01-07T16:00:00Z   1X116      0.0  18.899745\n",
       "1      2017-01-07T16:00:00Z   1X116      0.0  18.367874\n",
       "2      2017-01-07T16:00:00Z   9Q6TA      0.0  19.588722\n",
       "3      2017-01-07T16:00:00Z   9Q6TA      0.0  18.483819\n",
       "4      2017-01-07T16:00:00Z   KW43U      0.0  22.053170\n",
       "...                     ...     ...      ...        ...\n",
       "16006  2021-08-24T08:00:00Z   QJHW4      0.0        NaN\n",
       "16007  2021-08-24T08:00:00Z   VBLD0      0.0        NaN\n",
       "16008  2021-08-24T08:00:00Z   WT52R      0.0        NaN\n",
       "16009  2021-08-24T08:00:00Z   ZP1FZ      0.0        NaN\n",
       "16010  2021-08-24T08:00:00Z   ZZ8JF      0.0        NaN\n",
       "\n",
       "[16011 rows x 4 columns]"
      ]
     },
     "execution_count": 258,
     "metadata": {},
     "output_type": "execute_result"
    }
   ],
   "source": [
    "df_f"
   ]
  },
  {
   "cell_type": "code",
   "execution_count": 259,
   "id": "b15ac044",
   "metadata": {},
   "outputs": [],
   "source": [
    "dates = list(test_labels[\"datetime\"])"
   ]
  },
  {
   "cell_type": "code",
   "execution_count": 260,
   "id": "aaddad71",
   "metadata": {},
   "outputs": [],
   "source": [
    "vals = pd.read_csv(\"scpppi/dumbSameMonthAverage.csv\")"
   ]
  },
  {
   "cell_type": "code",
   "execution_count": 261,
   "id": "5fee9a4f",
   "metadata": {},
   "outputs": [
    {
     "name": "stderr",
     "output_type": "stream",
     "text": [
      "/tmp/ipykernel_14326/1685610734.py:1: FutureWarning: Dropping invalid columns in DataFrameGroupBy.mean is deprecated. In a future version, a TypeError will be raised. Before calling .mean, select only columns which should be valid for the function.\n",
      "  filtered = filtered.groupby([\"datetime\",\"value\"]).mean().reset_index()\n"
     ]
    }
   ],
   "source": [
    "filtered = filtered.groupby([\"datetime\",\"value\"]).mean().reset_index()"
   ]
  },
  {
   "cell_type": "code",
   "execution_count": 262,
   "id": "d3b3bf36",
   "metadata": {},
   "outputs": [],
   "source": [
    "finals = vals.merge(df_f,on=['grid_id','datetime'],how=\"left\")"
   ]
  },
  {
   "cell_type": "code",
   "execution_count": 263,
   "id": "df38ac33",
   "metadata": {},
   "outputs": [
    {
     "data": {
      "text/html": [
       "<div>\n",
       "<style scoped>\n",
       "    .dataframe tbody tr th:only-of-type {\n",
       "        vertical-align: middle;\n",
       "    }\n",
       "\n",
       "    .dataframe tbody tr th {\n",
       "        vertical-align: top;\n",
       "    }\n",
       "\n",
       "    .dataframe thead th {\n",
       "        text-align: right;\n",
       "    }\n",
       "</style>\n",
       "<table border=\"1\" class=\"dataframe\">\n",
       "  <thead>\n",
       "    <tr style=\"text-align: right;\">\n",
       "      <th></th>\n",
       "      <th>datetime</th>\n",
       "      <th>grid_id</th>\n",
       "      <th>value</th>\n",
       "      <th>value_x</th>\n",
       "      <th>value_y</th>\n",
       "    </tr>\n",
       "  </thead>\n",
       "  <tbody>\n",
       "    <tr>\n",
       "      <th>15999</th>\n",
       "      <td>2021-08-24T08:00:00Z</td>\n",
       "      <td>3S31A</td>\n",
       "      <td>16.035408</td>\n",
       "      <td>0.0</td>\n",
       "      <td>NaN</td>\n",
       "    </tr>\n",
       "    <tr>\n",
       "      <th>16000</th>\n",
       "      <td>2021-08-24T08:00:00Z</td>\n",
       "      <td>A2FBI</td>\n",
       "      <td>16.088587</td>\n",
       "      <td>0.0</td>\n",
       "      <td>NaN</td>\n",
       "    </tr>\n",
       "    <tr>\n",
       "      <th>16001</th>\n",
       "      <td>2021-08-24T08:00:00Z</td>\n",
       "      <td>DHO4M</td>\n",
       "      <td>17.496875</td>\n",
       "      <td>0.0</td>\n",
       "      <td>NaN</td>\n",
       "    </tr>\n",
       "    <tr>\n",
       "      <th>16002</th>\n",
       "      <td>2021-08-24T08:00:00Z</td>\n",
       "      <td>DJN0F</td>\n",
       "      <td>22.894687</td>\n",
       "      <td>0.0</td>\n",
       "      <td>NaN</td>\n",
       "    </tr>\n",
       "    <tr>\n",
       "      <th>16003</th>\n",
       "      <td>2021-08-24T08:00:00Z</td>\n",
       "      <td>E5P9N</td>\n",
       "      <td>18.097591</td>\n",
       "      <td>0.0</td>\n",
       "      <td>NaN</td>\n",
       "    </tr>\n",
       "    <tr>\n",
       "      <th>16004</th>\n",
       "      <td>2021-08-24T08:00:00Z</td>\n",
       "      <td>H96P6</td>\n",
       "      <td>20.032373</td>\n",
       "      <td>0.0</td>\n",
       "      <td>NaN</td>\n",
       "    </tr>\n",
       "    <tr>\n",
       "      <th>16005</th>\n",
       "      <td>2021-08-24T08:00:00Z</td>\n",
       "      <td>PG3MI</td>\n",
       "      <td>21.695886</td>\n",
       "      <td>0.0</td>\n",
       "      <td>NaN</td>\n",
       "    </tr>\n",
       "    <tr>\n",
       "      <th>16006</th>\n",
       "      <td>2021-08-24T08:00:00Z</td>\n",
       "      <td>QJHW4</td>\n",
       "      <td>15.800317</td>\n",
       "      <td>0.0</td>\n",
       "      <td>NaN</td>\n",
       "    </tr>\n",
       "    <tr>\n",
       "      <th>16007</th>\n",
       "      <td>2021-08-24T08:00:00Z</td>\n",
       "      <td>VBLD0</td>\n",
       "      <td>10.834375</td>\n",
       "      <td>0.0</td>\n",
       "      <td>NaN</td>\n",
       "    </tr>\n",
       "    <tr>\n",
       "      <th>16008</th>\n",
       "      <td>2021-08-24T08:00:00Z</td>\n",
       "      <td>WT52R</td>\n",
       "      <td>15.986975</td>\n",
       "      <td>0.0</td>\n",
       "      <td>NaN</td>\n",
       "    </tr>\n",
       "    <tr>\n",
       "      <th>16009</th>\n",
       "      <td>2021-08-24T08:00:00Z</td>\n",
       "      <td>ZP1FZ</td>\n",
       "      <td>19.875870</td>\n",
       "      <td>0.0</td>\n",
       "      <td>NaN</td>\n",
       "    </tr>\n",
       "    <tr>\n",
       "      <th>16010</th>\n",
       "      <td>2021-08-24T08:00:00Z</td>\n",
       "      <td>ZZ8JF</td>\n",
       "      <td>12.873864</td>\n",
       "      <td>0.0</td>\n",
       "      <td>NaN</td>\n",
       "    </tr>\n",
       "  </tbody>\n",
       "</table>\n",
       "</div>"
      ],
      "text/plain": [
       "                   datetime grid_id      value  value_x  value_y\n",
       "15999  2021-08-24T08:00:00Z   3S31A  16.035408      0.0      NaN\n",
       "16000  2021-08-24T08:00:00Z   A2FBI  16.088587      0.0      NaN\n",
       "16001  2021-08-24T08:00:00Z   DHO4M  17.496875      0.0      NaN\n",
       "16002  2021-08-24T08:00:00Z   DJN0F  22.894687      0.0      NaN\n",
       "16003  2021-08-24T08:00:00Z   E5P9N  18.097591      0.0      NaN\n",
       "16004  2021-08-24T08:00:00Z   H96P6  20.032373      0.0      NaN\n",
       "16005  2021-08-24T08:00:00Z   PG3MI  21.695886      0.0      NaN\n",
       "16006  2021-08-24T08:00:00Z   QJHW4  15.800317      0.0      NaN\n",
       "16007  2021-08-24T08:00:00Z   VBLD0  10.834375      0.0      NaN\n",
       "16008  2021-08-24T08:00:00Z   WT52R  15.986975      0.0      NaN\n",
       "16009  2021-08-24T08:00:00Z   ZP1FZ  19.875870      0.0      NaN\n",
       "16010  2021-08-24T08:00:00Z   ZZ8JF  12.873864      0.0      NaN"
      ]
     },
     "execution_count": 263,
     "metadata": {},
     "output_type": "execute_result"
    }
   ],
   "source": [
    "finals[finals[\"value_y\"].isna()]"
   ]
  },
  {
   "cell_type": "code",
   "execution_count": 297,
   "id": "2bdce531",
   "metadata": {},
   "outputs": [],
   "source": [
    "resi = []\n",
    "for i in finals[[\"value\",\"value_y\"]].values:\n",
    "    if(i[1]!=i[1]):\n",
    "        resi.append(i[0])\n",
    "    elif(i[1]<=0):\n",
    "        resi.append(i[0])\n",
    "    elif(i[0]>1.5*i[1]):\n",
    "        resi.append(1.2/3 *i[0] + 2/3*i[1]  )\n",
    "    else:\n",
    "        resi.append(1/3 *i[0] + 2/3*i[1]  )"
   ]
  },
  {
   "cell_type": "code",
   "execution_count": 298,
   "id": "e5e6e4c5",
   "metadata": {},
   "outputs": [
    {
     "data": {
      "text/plain": [
       "(999.99, 468.4940574519118)"
      ]
     },
     "execution_count": 298,
     "metadata": {},
     "output_type": "execute_result"
    }
   ],
   "source": [
    "max(finals[\"value\"]),max(resi)"
   ]
  },
  {
   "cell_type": "code",
   "execution_count": 299,
   "id": "abd8dc29",
   "metadata": {},
   "outputs": [
    {
     "data": {
      "text/plain": [
       "16011"
      ]
     },
     "execution_count": 299,
     "metadata": {},
     "output_type": "execute_result"
    }
   ],
   "source": [
    "len(resi)"
   ]
  },
  {
   "cell_type": "code",
   "execution_count": 300,
   "id": "2f6cf788",
   "metadata": {},
   "outputs": [],
   "source": [
    "finals[\"value3\"] = resi"
   ]
  },
  {
   "cell_type": "code",
   "execution_count": 301,
   "id": "40995347",
   "metadata": {},
   "outputs": [],
   "source": [
    "grdi =finals[[\"datetime\",\"grid_id\",\"value3\"]]\n",
    "grdi.columns = vals.columns"
   ]
  },
  {
   "cell_type": "code",
   "execution_count": 302,
   "id": "f3470ec8",
   "metadata": {},
   "outputs": [
    {
     "data": {
      "text/html": [
       "<div>\n",
       "<style scoped>\n",
       "    .dataframe tbody tr th:only-of-type {\n",
       "        vertical-align: middle;\n",
       "    }\n",
       "\n",
       "    .dataframe tbody tr th {\n",
       "        vertical-align: top;\n",
       "    }\n",
       "\n",
       "    .dataframe thead th {\n",
       "        text-align: right;\n",
       "    }\n",
       "</style>\n",
       "<table border=\"1\" class=\"dataframe\">\n",
       "  <thead>\n",
       "    <tr style=\"text-align: right;\">\n",
       "      <th></th>\n",
       "      <th>value</th>\n",
       "    </tr>\n",
       "  </thead>\n",
       "  <tbody>\n",
       "    <tr>\n",
       "      <th>count</th>\n",
       "      <td>16011.000000</td>\n",
       "    </tr>\n",
       "    <tr>\n",
       "      <th>mean</th>\n",
       "      <td>50.658402</td>\n",
       "    </tr>\n",
       "    <tr>\n",
       "      <th>std</th>\n",
       "      <td>56.560639</td>\n",
       "    </tr>\n",
       "    <tr>\n",
       "      <th>min</th>\n",
       "      <td>1.469940</td>\n",
       "    </tr>\n",
       "    <tr>\n",
       "      <th>25%</th>\n",
       "      <td>16.371755</td>\n",
       "    </tr>\n",
       "    <tr>\n",
       "      <th>50%</th>\n",
       "      <td>24.212222</td>\n",
       "    </tr>\n",
       "    <tr>\n",
       "      <th>75%</th>\n",
       "      <td>61.003702</td>\n",
       "    </tr>\n",
       "    <tr>\n",
       "      <th>max</th>\n",
       "      <td>468.494057</td>\n",
       "    </tr>\n",
       "  </tbody>\n",
       "</table>\n",
       "</div>"
      ],
      "text/plain": [
       "              value\n",
       "count  16011.000000\n",
       "mean      50.658402\n",
       "std       56.560639\n",
       "min        1.469940\n",
       "25%       16.371755\n",
       "50%       24.212222\n",
       "75%       61.003702\n",
       "max      468.494057"
      ]
     },
     "execution_count": 302,
     "metadata": {},
     "output_type": "execute_result"
    }
   ],
   "source": [
    "grdi.describe()"
   ]
  },
  {
   "cell_type": "code",
   "execution_count": 303,
   "id": "bd2b48e4",
   "metadata": {},
   "outputs": [],
   "source": [
    "grdi = grdi.groupby(['datetime','grid_id']).mean().reset_index()"
   ]
  },
  {
   "cell_type": "code",
   "execution_count": 304,
   "id": "b4e45c08",
   "metadata": {},
   "outputs": [],
   "source": [
    "grdi.to_csv(\"hardwork_lgb_pure_t.csv\",index=False)"
   ]
  },
  {
   "cell_type": "code",
   "execution_count": null,
   "id": "20d6ec5b",
   "metadata": {},
   "outputs": [],
   "source": []
  },
  {
   "cell_type": "code",
   "execution_count": null,
   "id": "86b8e9dd",
   "metadata": {},
   "outputs": [],
   "source": []
  },
  {
   "cell_type": "code",
   "execution_count": 462,
   "id": "664551e6",
   "metadata": {},
   "outputs": [],
   "source": [
    "df_f = df_f.groupby([\"datetime\",\"grid_id\"]).mean().reset_index()"
   ]
  },
  {
   "cell_type": "code",
   "execution_count": 463,
   "id": "878a1266",
   "metadata": {},
   "outputs": [],
   "source": [
    "# final = df_f[df_f[\"datetime\"].isin(dates)]"
   ]
  },
  {
   "cell_type": "code",
   "execution_count": 474,
   "id": "91cfddcd",
   "metadata": {},
   "outputs": [
    {
     "data": {
      "text/html": [
       "<div>\n",
       "<style scoped>\n",
       "    .dataframe tbody tr th:only-of-type {\n",
       "        vertical-align: middle;\n",
       "    }\n",
       "\n",
       "    .dataframe tbody tr th {\n",
       "        vertical-align: top;\n",
       "    }\n",
       "\n",
       "    .dataframe thead th {\n",
       "        text-align: right;\n",
       "    }\n",
       "</style>\n",
       "<table border=\"1\" class=\"dataframe\">\n",
       "  <thead>\n",
       "    <tr style=\"text-align: right;\">\n",
       "      <th></th>\n",
       "      <th>datetime</th>\n",
       "      <th>grid_id</th>\n",
       "      <th>value_x</th>\n",
       "      <th>value_y</th>\n",
       "    </tr>\n",
       "  </thead>\n",
       "  <tbody>\n",
       "    <tr>\n",
       "      <th>0</th>\n",
       "      <td>2017-01-07T16:00:00Z</td>\n",
       "      <td>1X116</td>\n",
       "      <td>0.0</td>\n",
       "      <td>15.883646</td>\n",
       "    </tr>\n",
       "    <tr>\n",
       "      <th>1</th>\n",
       "      <td>2017-01-07T16:00:00Z</td>\n",
       "      <td>9Q6TA</td>\n",
       "      <td>0.0</td>\n",
       "      <td>16.128211</td>\n",
       "    </tr>\n",
       "    <tr>\n",
       "      <th>2</th>\n",
       "      <td>2017-01-07T16:00:00Z</td>\n",
       "      <td>KW43U</td>\n",
       "      <td>0.0</td>\n",
       "      <td>16.841695</td>\n",
       "    </tr>\n",
       "    <tr>\n",
       "      <th>3</th>\n",
       "      <td>2017-01-07T16:00:00Z</td>\n",
       "      <td>VR4WG</td>\n",
       "      <td>0.0</td>\n",
       "      <td>18.448220</td>\n",
       "    </tr>\n",
       "    <tr>\n",
       "      <th>4</th>\n",
       "      <td>2017-01-07T16:00:00Z</td>\n",
       "      <td>XJF9O</td>\n",
       "      <td>0.0</td>\n",
       "      <td>15.212121</td>\n",
       "    </tr>\n",
       "    <tr>\n",
       "      <th>...</th>\n",
       "      <td>...</td>\n",
       "      <td>...</td>\n",
       "      <td>...</td>\n",
       "      <td>...</td>\n",
       "    </tr>\n",
       "    <tr>\n",
       "      <th>13499</th>\n",
       "      <td>2021-08-24T08:00:00Z</td>\n",
       "      <td>QJHW4</td>\n",
       "      <td>0.0</td>\n",
       "      <td>NaN</td>\n",
       "    </tr>\n",
       "    <tr>\n",
       "      <th>13500</th>\n",
       "      <td>2021-08-24T08:00:00Z</td>\n",
       "      <td>VBLD0</td>\n",
       "      <td>0.0</td>\n",
       "      <td>NaN</td>\n",
       "    </tr>\n",
       "    <tr>\n",
       "      <th>13501</th>\n",
       "      <td>2021-08-24T08:00:00Z</td>\n",
       "      <td>WT52R</td>\n",
       "      <td>0.0</td>\n",
       "      <td>NaN</td>\n",
       "    </tr>\n",
       "    <tr>\n",
       "      <th>13502</th>\n",
       "      <td>2021-08-24T08:00:00Z</td>\n",
       "      <td>ZP1FZ</td>\n",
       "      <td>0.0</td>\n",
       "      <td>NaN</td>\n",
       "    </tr>\n",
       "    <tr>\n",
       "      <th>13503</th>\n",
       "      <td>2021-08-24T08:00:00Z</td>\n",
       "      <td>ZZ8JF</td>\n",
       "      <td>0.0</td>\n",
       "      <td>NaN</td>\n",
       "    </tr>\n",
       "  </tbody>\n",
       "</table>\n",
       "<p>13504 rows × 4 columns</p>\n",
       "</div>"
      ],
      "text/plain": [
       "                   datetime grid_id  value_x    value_y\n",
       "0      2017-01-07T16:00:00Z   1X116      0.0  15.883646\n",
       "1      2017-01-07T16:00:00Z   9Q6TA      0.0  16.128211\n",
       "2      2017-01-07T16:00:00Z   KW43U      0.0  16.841695\n",
       "3      2017-01-07T16:00:00Z   VR4WG      0.0  18.448220\n",
       "4      2017-01-07T16:00:00Z   XJF9O      0.0  15.212121\n",
       "...                     ...     ...      ...        ...\n",
       "13499  2021-08-24T08:00:00Z   QJHW4      0.0        NaN\n",
       "13500  2021-08-24T08:00:00Z   VBLD0      0.0        NaN\n",
       "13501  2021-08-24T08:00:00Z   WT52R      0.0        NaN\n",
       "13502  2021-08-24T08:00:00Z   ZP1FZ      0.0        NaN\n",
       "13503  2021-08-24T08:00:00Z   ZZ8JF      0.0        NaN\n",
       "\n",
       "[13504 rows x 4 columns]"
      ]
     },
     "execution_count": 474,
     "metadata": {},
     "output_type": "execute_result"
    }
   ],
   "source": [
    "final.groupby([\"datetime\",\"grid_id\"]).mean().reset_index()"
   ]
  },
  {
   "cell_type": "code",
   "execution_count": 465,
   "id": "7143dbba",
   "metadata": {},
   "outputs": [
    {
     "data": {
      "text/html": [
       "<div>\n",
       "<style scoped>\n",
       "    .dataframe tbody tr th:only-of-type {\n",
       "        vertical-align: middle;\n",
       "    }\n",
       "\n",
       "    .dataframe tbody tr th {\n",
       "        vertical-align: top;\n",
       "    }\n",
       "\n",
       "    .dataframe thead th {\n",
       "        text-align: right;\n",
       "    }\n",
       "</style>\n",
       "<table border=\"1\" class=\"dataframe\">\n",
       "  <thead>\n",
       "    <tr style=\"text-align: right;\">\n",
       "      <th></th>\n",
       "      <th>datetime</th>\n",
       "      <th>grid_id</th>\n",
       "      <th>value</th>\n",
       "    </tr>\n",
       "  </thead>\n",
       "  <tbody>\n",
       "    <tr>\n",
       "      <th>0</th>\n",
       "      <td>2017-01-07T16:00:00Z</td>\n",
       "      <td>1X116</td>\n",
       "      <td>0.0</td>\n",
       "    </tr>\n",
       "    <tr>\n",
       "      <th>1</th>\n",
       "      <td>2017-01-07T16:00:00Z</td>\n",
       "      <td>9Q6TA</td>\n",
       "      <td>0.0</td>\n",
       "    </tr>\n",
       "    <tr>\n",
       "      <th>2</th>\n",
       "      <td>2017-01-07T16:00:00Z</td>\n",
       "      <td>KW43U</td>\n",
       "      <td>0.0</td>\n",
       "    </tr>\n",
       "    <tr>\n",
       "      <th>3</th>\n",
       "      <td>2017-01-07T16:00:00Z</td>\n",
       "      <td>VR4WG</td>\n",
       "      <td>0.0</td>\n",
       "    </tr>\n",
       "    <tr>\n",
       "      <th>4</th>\n",
       "      <td>2017-01-07T16:00:00Z</td>\n",
       "      <td>XJF9O</td>\n",
       "      <td>0.0</td>\n",
       "    </tr>\n",
       "    <tr>\n",
       "      <th>...</th>\n",
       "      <td>...</td>\n",
       "      <td>...</td>\n",
       "      <td>...</td>\n",
       "    </tr>\n",
       "    <tr>\n",
       "      <th>13499</th>\n",
       "      <td>2021-08-24T08:00:00Z</td>\n",
       "      <td>QJHW4</td>\n",
       "      <td>0.0</td>\n",
       "    </tr>\n",
       "    <tr>\n",
       "      <th>13500</th>\n",
       "      <td>2021-08-24T08:00:00Z</td>\n",
       "      <td>VBLD0</td>\n",
       "      <td>0.0</td>\n",
       "    </tr>\n",
       "    <tr>\n",
       "      <th>13501</th>\n",
       "      <td>2021-08-24T08:00:00Z</td>\n",
       "      <td>WT52R</td>\n",
       "      <td>0.0</td>\n",
       "    </tr>\n",
       "    <tr>\n",
       "      <th>13502</th>\n",
       "      <td>2021-08-24T08:00:00Z</td>\n",
       "      <td>ZP1FZ</td>\n",
       "      <td>0.0</td>\n",
       "    </tr>\n",
       "    <tr>\n",
       "      <th>13503</th>\n",
       "      <td>2021-08-24T08:00:00Z</td>\n",
       "      <td>ZZ8JF</td>\n",
       "      <td>0.0</td>\n",
       "    </tr>\n",
       "  </tbody>\n",
       "</table>\n",
       "<p>13504 rows × 3 columns</p>\n",
       "</div>"
      ],
      "text/plain": [
       "                   datetime grid_id  value\n",
       "0      2017-01-07T16:00:00Z   1X116    0.0\n",
       "1      2017-01-07T16:00:00Z   9Q6TA    0.0\n",
       "2      2017-01-07T16:00:00Z   KW43U    0.0\n",
       "3      2017-01-07T16:00:00Z   VR4WG    0.0\n",
       "4      2017-01-07T16:00:00Z   XJF9O    0.0\n",
       "...                     ...     ...    ...\n",
       "13499  2021-08-24T08:00:00Z   QJHW4    0.0\n",
       "13500  2021-08-24T08:00:00Z   VBLD0    0.0\n",
       "13501  2021-08-24T08:00:00Z   WT52R    0.0\n",
       "13502  2021-08-24T08:00:00Z   ZP1FZ    0.0\n",
       "13503  2021-08-24T08:00:00Z   ZZ8JF    0.0\n",
       "\n",
       "[13504 rows x 3 columns]"
      ]
     },
     "execution_count": 465,
     "metadata": {},
     "output_type": "execute_result"
    }
   ],
   "source": [
    "test_labels.groupby([\"datetime\",\"grid_id\"]).mean().reset_index()"
   ]
  },
  {
   "cell_type": "code",
   "execution_count": 287,
   "id": "597c52a0",
   "metadata": {},
   "outputs": [],
   "source": [
    "filtered[\"datetime_dt\"]= pd.to_datetime(filtered[\"datetime_dt\"])"
   ]
  },
  {
   "cell_type": "code",
   "execution_count": 289,
   "id": "faa36368",
   "metadata": {},
   "outputs": [
    {
     "data": {
      "text/html": [
       "<div>\n",
       "<style scoped>\n",
       "    .dataframe tbody tr th:only-of-type {\n",
       "        vertical-align: middle;\n",
       "    }\n",
       "\n",
       "    .dataframe tbody tr th {\n",
       "        vertical-align: top;\n",
       "    }\n",
       "\n",
       "    .dataframe thead th {\n",
       "        text-align: right;\n",
       "    }\n",
       "</style>\n",
       "<table border=\"1\" class=\"dataframe\">\n",
       "  <thead>\n",
       "    <tr style=\"text-align: right;\">\n",
       "      <th></th>\n",
       "      <th>datetime_dt</th>\n",
       "      <th>value</th>\n",
       "    </tr>\n",
       "  </thead>\n",
       "  <tbody>\n",
       "    <tr>\n",
       "      <th>0</th>\n",
       "      <td>2017-09-11 18:30:00+00:00</td>\n",
       "      <td>27.127584</td>\n",
       "    </tr>\n",
       "    <tr>\n",
       "      <th>1</th>\n",
       "      <td>2017-09-11 18:30:00+00:00</td>\n",
       "      <td>30.793737</td>\n",
       "    </tr>\n",
       "    <tr>\n",
       "      <th>2</th>\n",
       "      <td>2017-09-11 18:30:00+00:00</td>\n",
       "      <td>31.781155</td>\n",
       "    </tr>\n",
       "    <tr>\n",
       "      <th>3</th>\n",
       "      <td>2017-09-12 18:30:00+00:00</td>\n",
       "      <td>47.110882</td>\n",
       "    </tr>\n",
       "    <tr>\n",
       "      <th>4</th>\n",
       "      <td>2017-09-13 18:30:00+00:00</td>\n",
       "      <td>27.875738</td>\n",
       "    </tr>\n",
       "    <tr>\n",
       "      <th>...</th>\n",
       "      <td>...</td>\n",
       "      <td>...</td>\n",
       "    </tr>\n",
       "    <tr>\n",
       "      <th>4639</th>\n",
       "      <td>2021-07-24 18:30:00+00:00</td>\n",
       "      <td>16.941996</td>\n",
       "    </tr>\n",
       "    <tr>\n",
       "      <th>4638</th>\n",
       "      <td>2021-07-24 18:30:00+00:00</td>\n",
       "      <td>14.971571</td>\n",
       "    </tr>\n",
       "    <tr>\n",
       "      <th>4662</th>\n",
       "      <td>2021-07-24 18:30:00+00:00</td>\n",
       "      <td>32.055069</td>\n",
       "    </tr>\n",
       "    <tr>\n",
       "      <th>4649</th>\n",
       "      <td>2021-07-24 18:30:00+00:00</td>\n",
       "      <td>23.991646</td>\n",
       "    </tr>\n",
       "    <tr>\n",
       "      <th>4663</th>\n",
       "      <td>2021-07-24 18:30:00+00:00</td>\n",
       "      <td>52.160786</td>\n",
       "    </tr>\n",
       "  </tbody>\n",
       "</table>\n",
       "<p>4664 rows × 2 columns</p>\n",
       "</div>"
      ],
      "text/plain": [
       "                   datetime_dt      value\n",
       "0    2017-09-11 18:30:00+00:00  27.127584\n",
       "1    2017-09-11 18:30:00+00:00  30.793737\n",
       "2    2017-09-11 18:30:00+00:00  31.781155\n",
       "3    2017-09-12 18:30:00+00:00  47.110882\n",
       "4    2017-09-13 18:30:00+00:00  27.875738\n",
       "...                        ...        ...\n",
       "4639 2021-07-24 18:30:00+00:00  16.941996\n",
       "4638 2021-07-24 18:30:00+00:00  14.971571\n",
       "4662 2021-07-24 18:30:00+00:00  32.055069\n",
       "4649 2021-07-24 18:30:00+00:00  23.991646\n",
       "4663 2021-07-24 18:30:00+00:00  52.160786\n",
       "\n",
       "[4664 rows x 2 columns]"
      ]
     },
     "execution_count": 289,
     "metadata": {},
     "output_type": "execute_result"
    }
   ],
   "source": [
    "filtered.sort_values(\"datetime_dt\")#.reset_index()[\"value\"].plot()"
   ]
  },
  {
   "cell_type": "code",
   "execution_count": 399,
   "id": "7d78a43a",
   "metadata": {},
   "outputs": [],
   "source": [
    "# y_pred_list"
   ]
  },
  {
   "cell_type": "code",
   "execution_count": 241,
   "id": "3ad8a433",
   "metadata": {},
   "outputs": [
    {
     "data": {
      "text/plain": [
       "2117"
      ]
     },
     "execution_count": 241,
     "metadata": {},
     "output_type": "execute_result"
    }
   ],
   "source": [
    "NUM_FEATURES"
   ]
  },
  {
   "cell_type": "code",
   "execution_count": 56,
   "id": "0acedbfe",
   "metadata": {},
   "outputs": [],
   "source": [
    "class Regression(pl.LightningModule):\n",
    "    \n",
    "    def __init__(self,NUM_FEATURES):\n",
    "        super(Regression, self).__init__()\n",
    "        self.fc1 = nn.Linear(NUM_FEATURES, 1024)\n",
    "        self.fc2 = nn.Linear(1024, 512)\n",
    "        self.fc3 = nn.Linear(512, 256)\n",
    "        self.fc4 = nn.Linear(256, 128)\n",
    "        self.fc5 = nn.Linear(128, 64)\n",
    "        self.f = nn.Linear(64, 1)\n",
    "        self.activation = nn.LeakyReLU()\n",
    "    \n",
    "\n",
    "    def forward(self, x):\n",
    "        x = self.activation(self.fc1(x))\n",
    "        x = self.activation(self.fc2(x))\n",
    "        x = self.activation(self.fc3(x))\n",
    "        x = self.activation(self.fc4(x))\n",
    "        x = self.activation(self.fc5(x))\n",
    "        x = self.f(x)\n",
    "        return x"
   ]
  },
  {
   "cell_type": "code",
   "execution_count": null,
   "id": "70b2d24f",
   "metadata": {},
   "outputs": [],
   "source": []
  },
  {
   "cell_type": "code",
   "execution_count": null,
   "id": "dba6714f",
   "metadata": {},
   "outputs": [],
   "source": []
  },
  {
   "cell_type": "code",
   "execution_count": null,
   "id": "4a32a9c9",
   "metadata": {},
   "outputs": [],
   "source": []
  },
  {
   "cell_type": "code",
   "execution_count": null,
   "id": "81fcfaa9",
   "metadata": {},
   "outputs": [],
   "source": []
  },
  {
   "cell_type": "code",
   "execution_count": null,
   "id": "de7e636b",
   "metadata": {},
   "outputs": [],
   "source": []
  },
  {
   "cell_type": "code",
   "execution_count": 75,
   "id": "9ac983bc",
   "metadata": {},
   "outputs": [
    {
     "data": {
      "text/plain": [
       "torch.Size([2117])"
      ]
     },
     "execution_count": 75,
     "metadata": {},
     "output_type": "execute_result"
    }
   ],
   "source": [
    "torch.tensor(X[0]).shape"
   ]
  },
  {
   "cell_type": "code",
   "execution_count": 81,
   "id": "ba36e161",
   "metadata": {},
   "outputs": [],
   "source": [
    "n_samples = 5"
   ]
  },
  {
   "cell_type": "code",
   "execution_count": 514,
   "id": "c9814204",
   "metadata": {},
   "outputs": [
    {
     "data": {
      "text/plain": [
       "(39450, 2117)"
      ]
     },
     "execution_count": 514,
     "metadata": {},
     "output_type": "execute_result"
    }
   ],
   "source": [
    "X.shape"
   ]
  },
  {
   "cell_type": "code",
   "execution_count": 517,
   "id": "4e90411a",
   "metadata": {},
   "outputs": [],
   "source": [
    "class SentimentNet(nn.Module):\n",
    "    def __init__(self, output_size=1, embedding_dim=128, hidden_dim=8, n_layers=8, drop_prob=0.5):\n",
    "        super(SentimentNet, self).__init__()\n",
    "        self.output_size = output_size\n",
    "        self.n_layers = n_layers\n",
    "        self.hidden_dim = hidden_dim\n",
    "        \n",
    "       \n",
    "        self.lstm = nn.LSTM(39450, hidden_dim, n_layers, dropout=drop_prob, batch_first=True)\n",
    "        self.dropout = nn.Dropout(drop_prob)\n",
    "        self.fc = nn.Linear(hidden_dim, output_size)\n",
    "        self.sigmoid = nn.Sigmoid()\n",
    "        \n",
    "    def forward(self, x, hidden):\n",
    "        batch_size = x.size(0)\n",
    "        x = x.long()\n",
    "        embeds = x\n",
    "        lstm_out, hidden = self.lstm(embeds, hidden)\n",
    "        lstm_out = lstm_out.contiguous().view(-1, self.hidden_dim)\n",
    "        \n",
    "        out = self.dropout(lstm_out)\n",
    "        out = self.fc(out)\n",
    "        out = self.sigmoid(out)\n",
    "        \n",
    "        out = out.view(batch_size, -1)\n",
    "        out = out[:,-1]\n",
    "        return out, hidden\n",
    "    \n",
    "    def init_hidden(self, batch_size):\n",
    "        weight = next(self.parameters()).data\n",
    "        hidden = (weight.new(self.n_layers, batch_size, self.hidden_dim).zero_().to(device),\n",
    "                      weight.new(self.n_layers, batch_size, self.hidden_dim).zero_().to(device))\n",
    "        return hidden"
   ]
  },
  {
   "cell_type": "code",
   "execution_count": 518,
   "id": "7d55799c",
   "metadata": {},
   "outputs": [],
   "source": [
    "model = SentimentNet()"
   ]
  },
  {
   "cell_type": "code",
   "execution_count": 520,
   "id": "95146634",
   "metadata": {},
   "outputs": [
    {
     "ename": "TypeError",
     "evalue": "init_hidden() missing 1 required positional argument: 'batch_size'",
     "output_type": "error",
     "traceback": [
      "\u001b[0;31m---------------------------------------------------------------------------\u001b[0m",
      "\u001b[0;31mTypeError\u001b[0m                                 Traceback (most recent call last)",
      "Input \u001b[0;32mIn [520]\u001b[0m, in \u001b[0;36m<cell line: 1>\u001b[0;34m()\u001b[0m\n\u001b[0;32m----> 1\u001b[0m \u001b[43mmodel\u001b[49m\u001b[38;5;241;43m.\u001b[39;49m\u001b[43minit_hidden\u001b[49m\u001b[43m(\u001b[49m\u001b[43m)\u001b[49m\n",
      "\u001b[0;31mTypeError\u001b[0m: init_hidden() missing 1 required positional argument: 'batch_size'"
     ]
    }
   ],
   "source": [
    "model.init_hidden()"
   ]
  },
  {
   "cell_type": "code",
   "execution_count": 519,
   "id": "404edf1d",
   "metadata": {},
   "outputs": [
    {
     "data": {
      "text/plain": [
       "array([[-0.56334394,  0.10990731, -0.10303362, ...,  0.        ,\n",
       "         0.        ,  0.        ],\n",
       "       [-0.56334394,  0.10990731, -0.10303362, ...,  0.        ,\n",
       "         0.        ,  0.        ],\n",
       "       [-0.56334394,  0.10990731, -0.10303362, ...,  0.        ,\n",
       "         0.        ,  0.        ],\n",
       "       ...,\n",
       "       [-0.5592876 ,  0.11481263, -0.1157174 , ...,  0.        ,\n",
       "         0.        ,  0.        ],\n",
       "       [-0.5591694 ,  0.11480556, -0.11572182, ...,  0.        ,\n",
       "         0.        ,  0.        ],\n",
       "       [-0.5556056 ,  0.11472411, -0.11612588, ...,  0.        ,\n",
       "         0.        ,  0.        ]])"
      ]
     },
     "execution_count": 519,
     "metadata": {},
     "output_type": "execute_result"
    }
   ],
   "source": [
    "X"
   ]
  },
  {
   "cell_type": "code",
   "execution_count": 83,
   "id": "536ee997",
   "metadata": {},
   "outputs": [],
   "source": [
    "import torch.optim as optim\n",
    "model = LSTM()\n",
    "criterion = nn.MSELoss()\n",
    "optimiser = optim.Adam(model.parameters(), lr=0.08)"
   ]
  },
  {
   "cell_type": "code",
   "execution_count": 84,
   "id": "984af086",
   "metadata": {},
   "outputs": [
    {
     "data": {
      "text/plain": [
       "(torch.Size([5, 2117]), (39450,))"
      ]
     },
     "execution_count": 84,
     "metadata": {},
     "output_type": "execute_result"
    }
   ],
   "source": [
    "torch.tensor(X[:5]).shape,y.shape"
   ]
  },
  {
   "cell_type": "code",
   "execution_count": 85,
   "id": "dcb67549",
   "metadata": {},
   "outputs": [
    {
     "ename": "NameError",
     "evalue": "name 'input_t' is not defined",
     "output_type": "error",
     "traceback": [
      "\u001b[0;31m---------------------------------------------------------------------------\u001b[0m",
      "\u001b[0;31mNameError\u001b[0m                                 Traceback (most recent call last)",
      "Input \u001b[0;32mIn [85]\u001b[0m, in \u001b[0;36m<cell line: 1>\u001b[0;34m()\u001b[0m\n\u001b[0;32m----> 1\u001b[0m \u001b[43mmodel\u001b[49m\u001b[43m(\u001b[49m\u001b[43mtorch\u001b[49m\u001b[38;5;241;43m.\u001b[39;49m\u001b[43mtensor\u001b[49m\u001b[43m(\u001b[49m\u001b[43mX\u001b[49m\u001b[43m[\u001b[49m\u001b[43m:\u001b[49m\u001b[38;5;241;43m5\u001b[39;49m\u001b[43m]\u001b[49m\u001b[43m)\u001b[49m\u001b[43m,\u001b[49m\u001b[43my\u001b[49m\u001b[43m[\u001b[49m\u001b[43m:\u001b[49m\u001b[38;5;241;43m5\u001b[39;49m\u001b[43m]\u001b[49m\u001b[43m)\u001b[49m\n",
      "File \u001b[0;32m/opt/conda/lib/python3.8/site-packages/torch/nn/modules/module.py:1110\u001b[0m, in \u001b[0;36mModule._call_impl\u001b[0;34m(self, *input, **kwargs)\u001b[0m\n\u001b[1;32m   1106\u001b[0m \u001b[38;5;66;03m# If we don't have any hooks, we want to skip the rest of the logic in\u001b[39;00m\n\u001b[1;32m   1107\u001b[0m \u001b[38;5;66;03m# this function, and just call forward.\u001b[39;00m\n\u001b[1;32m   1108\u001b[0m \u001b[38;5;28;01mif\u001b[39;00m \u001b[38;5;129;01mnot\u001b[39;00m (\u001b[38;5;28mself\u001b[39m\u001b[38;5;241m.\u001b[39m_backward_hooks \u001b[38;5;129;01mor\u001b[39;00m \u001b[38;5;28mself\u001b[39m\u001b[38;5;241m.\u001b[39m_forward_hooks \u001b[38;5;129;01mor\u001b[39;00m \u001b[38;5;28mself\u001b[39m\u001b[38;5;241m.\u001b[39m_forward_pre_hooks \u001b[38;5;129;01mor\u001b[39;00m _global_backward_hooks\n\u001b[1;32m   1109\u001b[0m         \u001b[38;5;129;01mor\u001b[39;00m _global_forward_hooks \u001b[38;5;129;01mor\u001b[39;00m _global_forward_pre_hooks):\n\u001b[0;32m-> 1110\u001b[0m     \u001b[38;5;28;01mreturn\u001b[39;00m \u001b[43mforward_call\u001b[49m\u001b[43m(\u001b[49m\u001b[38;5;241;43m*\u001b[39;49m\u001b[38;5;28;43minput\u001b[39;49m\u001b[43m,\u001b[49m\u001b[43m \u001b[49m\u001b[38;5;241;43m*\u001b[39;49m\u001b[38;5;241;43m*\u001b[39;49m\u001b[43mkwargs\u001b[49m\u001b[43m)\u001b[49m\n\u001b[1;32m   1111\u001b[0m \u001b[38;5;66;03m# Do not call functions when jit is used\u001b[39;00m\n\u001b[1;32m   1112\u001b[0m full_backward_hooks, non_full_backward_hooks \u001b[38;5;241m=\u001b[39m [], []\n",
      "Input \u001b[0;32mIn [82]\u001b[0m, in \u001b[0;36mLSTM.forward\u001b[0;34m(self, y, future_preds)\u001b[0m\n\u001b[1;32m     17\u001b[0m c_t2 \u001b[38;5;241m=\u001b[39m torch\u001b[38;5;241m.\u001b[39mzeros(n_samples, \u001b[38;5;28mself\u001b[39m\u001b[38;5;241m.\u001b[39mhidden_layers, dtype\u001b[38;5;241m=\u001b[39mtorch\u001b[38;5;241m.\u001b[39mfloat32)\n\u001b[1;32m     19\u001b[0m \u001b[38;5;28;01mfor\u001b[39;00m time_step \u001b[38;5;129;01min\u001b[39;00m y\u001b[38;5;241m.\u001b[39msplit(\u001b[38;5;241m1\u001b[39m, dim\u001b[38;5;241m=\u001b[39m\u001b[38;5;241m1\u001b[39m):\n\u001b[1;32m     20\u001b[0m     \u001b[38;5;66;03m# N, 1\u001b[39;00m\n\u001b[0;32m---> 21\u001b[0m     h_t, c_t \u001b[38;5;241m=\u001b[39m \u001b[38;5;28mself\u001b[39m\u001b[38;5;241m.\u001b[39mlstm1(\u001b[43minput_t\u001b[49m, (h_t, c_t)) \u001b[38;5;66;03m# initial hidden and cell states\u001b[39;00m\n\u001b[1;32m     22\u001b[0m     h_t2, c_t2 \u001b[38;5;241m=\u001b[39m \u001b[38;5;28mself\u001b[39m\u001b[38;5;241m.\u001b[39mlstm2(h_t, (h_t2, c_t2)) \u001b[38;5;66;03m# new hidden and cell states\u001b[39;00m\n\u001b[1;32m     23\u001b[0m     output \u001b[38;5;241m=\u001b[39m \u001b[38;5;28mself\u001b[39m\u001b[38;5;241m.\u001b[39mlinear(h_t2) \u001b[38;5;66;03m# output from the last FC layer\u001b[39;00m\n",
      "\u001b[0;31mNameError\u001b[0m: name 'input_t' is not defined"
     ]
    }
   ],
   "source": [
    "model(torch.tensor(X[:5]),y[:5])"
   ]
  },
  {
   "cell_type": "code",
   "execution_count": 48,
   "id": "228d6bcc",
   "metadata": {},
   "outputs": [],
   "source": [
    "def training_loop(n_epochs, model, optimiser, loss_fn, \n",
    "                  train_input, train_target, test_input, test_target):\n",
    "    for i in range(n_epochs):\n",
    "        def closure():\n",
    "            optimiser.zero_grad()\n",
    "            out = model(train_input)\n",
    "            loss = loss_fn(out, train_target)\n",
    "            loss.backward()\n",
    "            return loss\n",
    "        optimiser.step(closure)\n",
    "        with torch.no_grad():\n",
    "            future = 1000\n",
    "            pred = model(test_input, future=future)\n",
    "            # use all pred samples, but only go to 999\n",
    "            loss = loss_fn(pred[:, :-future], test_target)\n",
    "            y = pred.detach().numpy()\n",
    "        # print the loss\n",
    "        out = model(train_input)\n",
    "        loss_print = loss_fn(out, train_target)\n",
    "        print(\"Step: {}, Loss: {}\".format(i, loss_print))"
   ]
  },
  {
   "cell_type": "code",
   "execution_count": null,
   "id": "ff3eed01",
   "metadata": {},
   "outputs": [],
   "source": []
  },
  {
   "cell_type": "code",
   "execution_count": 50,
   "id": "7fa4ca2c",
   "metadata": {},
   "outputs": [],
   "source": [
    "train_prop = 0.95\n",
    "train_samples = round(N * train_prop) \n",
    "test_samples = N - train_samples"
   ]
  },
  {
   "cell_type": "code",
   "execution_count": 51,
   "id": "a140cd57",
   "metadata": {},
   "outputs": [],
   "source": [
    "train_input = torch.from_numpy(y[test_samples:, :-1]) # (train_samples, L-1)\n",
    "train_target = torch.from_numpy(y[test_samples:, 1:]) # (train_samples, L-1)\n",
    "test_input = torch.from_numpy(y[:test_samples, :-1]) # (train_samples, L-1)\n",
    "test_target = torch.from_numpy(y[:test_samples, 1:]) # (train_samples, L-1)"
   ]
  },
  {
   "cell_type": "code",
   "execution_count": 53,
   "id": "6f039235",
   "metadata": {},
   "outputs": [],
   "source": [
    "N = 100 # number of theoretical series of games\n",
    "L = 11 # number of games in each series\n",
    "x = np.empty((N,L), np.float32) # instantiate empty array\n",
    "x[:] = np.arange(L)\n",
    "y = (1.6*x + 4).astype(np.float32)\n",
    "\n",
    "# add some noise\n",
    "for i in range(len(y)):\n",
    "    y[i] += np.random.normal(10, 1)"
   ]
  },
  {
   "cell_type": "code",
   "execution_count": 55,
   "id": "c5ab8e79",
   "metadata": {},
   "outputs": [
    {
     "ename": "NameError",
     "evalue": "name 'n_samples' is not defined",
     "output_type": "error",
     "traceback": [
      "\u001b[0;31m---------------------------------------------------------------------------\u001b[0m",
      "\u001b[0;31mNameError\u001b[0m                                 Traceback (most recent call last)",
      "Input \u001b[0;32mIn [55]\u001b[0m, in \u001b[0;36m<cell line: 1>\u001b[0;34m()\u001b[0m\n\u001b[0;32m----> 1\u001b[0m \u001b[43mtraining_loop\u001b[49m\u001b[43m(\u001b[49m\u001b[43mn_epochs\u001b[49m\u001b[43m \u001b[49m\u001b[38;5;241;43m=\u001b[39;49m\u001b[43m \u001b[49m\u001b[38;5;241;43m10\u001b[39;49m\u001b[43m,\u001b[49m\n\u001b[1;32m      2\u001b[0m \u001b[43m              \u001b[49m\u001b[43mmodel\u001b[49m\u001b[43m \u001b[49m\u001b[38;5;241;43m=\u001b[39;49m\u001b[43m \u001b[49m\u001b[43mmodel\u001b[49m\u001b[43m,\u001b[49m\n\u001b[1;32m      3\u001b[0m \u001b[43m              \u001b[49m\u001b[43moptimiser\u001b[49m\u001b[43m \u001b[49m\u001b[38;5;241;43m=\u001b[39;49m\u001b[43m \u001b[49m\u001b[43moptimiser\u001b[49m\u001b[43m,\u001b[49m\n\u001b[1;32m      4\u001b[0m \u001b[43m              \u001b[49m\u001b[43mloss_fn\u001b[49m\u001b[43m \u001b[49m\u001b[38;5;241;43m=\u001b[39;49m\u001b[43m \u001b[49m\u001b[43mcriterion\u001b[49m\u001b[43m,\u001b[49m\n\u001b[1;32m      5\u001b[0m \u001b[43m              \u001b[49m\u001b[43mtrain_input\u001b[49m\u001b[43m \u001b[49m\u001b[38;5;241;43m=\u001b[39;49m\u001b[43m \u001b[49m\u001b[43mtrain_input\u001b[49m\u001b[43m,\u001b[49m\n\u001b[1;32m      6\u001b[0m \u001b[43m              \u001b[49m\u001b[43mtrain_target\u001b[49m\u001b[43m \u001b[49m\u001b[38;5;241;43m=\u001b[39;49m\u001b[43m \u001b[49m\u001b[43mtrain_target\u001b[49m\u001b[43m,\u001b[49m\n\u001b[1;32m      7\u001b[0m \u001b[43m              \u001b[49m\u001b[43mtest_input\u001b[49m\u001b[43m \u001b[49m\u001b[38;5;241;43m=\u001b[39;49m\u001b[43m \u001b[49m\u001b[43mtest_input\u001b[49m\u001b[43m,\u001b[49m\n\u001b[1;32m      8\u001b[0m \u001b[43m              \u001b[49m\u001b[43mtest_target\u001b[49m\u001b[43m \u001b[49m\u001b[38;5;241;43m=\u001b[39;49m\u001b[43m \u001b[49m\u001b[43mtest_target\u001b[49m\u001b[43m)\u001b[49m\n",
      "Input \u001b[0;32mIn [48]\u001b[0m, in \u001b[0;36mtraining_loop\u001b[0;34m(n_epochs, model, optimiser, loss_fn, train_input, train_target, test_input, test_target)\u001b[0m\n\u001b[1;32m      8\u001b[0m     loss\u001b[38;5;241m.\u001b[39mbackward()\n\u001b[1;32m      9\u001b[0m     \u001b[38;5;28;01mreturn\u001b[39;00m loss\n\u001b[0;32m---> 10\u001b[0m \u001b[43moptimiser\u001b[49m\u001b[38;5;241;43m.\u001b[39;49m\u001b[43mstep\u001b[49m\u001b[43m(\u001b[49m\u001b[43mclosure\u001b[49m\u001b[43m)\u001b[49m\n\u001b[1;32m     11\u001b[0m \u001b[38;5;28;01mwith\u001b[39;00m torch\u001b[38;5;241m.\u001b[39mno_grad():\n\u001b[1;32m     12\u001b[0m     future \u001b[38;5;241m=\u001b[39m \u001b[38;5;241m1000\u001b[39m\n",
      "File \u001b[0;32m/opt/conda/lib/python3.8/site-packages/torch/optim/optimizer.py:88\u001b[0m, in \u001b[0;36mOptimizer._hook_for_profile.<locals>.profile_hook_step.<locals>.wrapper\u001b[0;34m(*args, **kwargs)\u001b[0m\n\u001b[1;32m     86\u001b[0m profile_name \u001b[38;5;241m=\u001b[39m \u001b[38;5;124m\"\u001b[39m\u001b[38;5;124mOptimizer.step#\u001b[39m\u001b[38;5;132;01m{}\u001b[39;00m\u001b[38;5;124m.step\u001b[39m\u001b[38;5;124m\"\u001b[39m\u001b[38;5;241m.\u001b[39mformat(obj\u001b[38;5;241m.\u001b[39m\u001b[38;5;18m__class__\u001b[39m\u001b[38;5;241m.\u001b[39m\u001b[38;5;18m__name__\u001b[39m)\n\u001b[1;32m     87\u001b[0m \u001b[38;5;28;01mwith\u001b[39;00m torch\u001b[38;5;241m.\u001b[39mautograd\u001b[38;5;241m.\u001b[39mprofiler\u001b[38;5;241m.\u001b[39mrecord_function(profile_name):\n\u001b[0;32m---> 88\u001b[0m     \u001b[38;5;28;01mreturn\u001b[39;00m \u001b[43mfunc\u001b[49m\u001b[43m(\u001b[49m\u001b[38;5;241;43m*\u001b[39;49m\u001b[43margs\u001b[49m\u001b[43m,\u001b[49m\u001b[43m \u001b[49m\u001b[38;5;241;43m*\u001b[39;49m\u001b[38;5;241;43m*\u001b[39;49m\u001b[43mkwargs\u001b[49m\u001b[43m)\u001b[49m\n",
      "File \u001b[0;32m/opt/conda/lib/python3.8/site-packages/torch/autograd/grad_mode.py:27\u001b[0m, in \u001b[0;36m_DecoratorContextManager.__call__.<locals>.decorate_context\u001b[0;34m(*args, **kwargs)\u001b[0m\n\u001b[1;32m     24\u001b[0m \u001b[38;5;129m@functools\u001b[39m\u001b[38;5;241m.\u001b[39mwraps(func)\n\u001b[1;32m     25\u001b[0m \u001b[38;5;28;01mdef\u001b[39;00m \u001b[38;5;21mdecorate_context\u001b[39m(\u001b[38;5;241m*\u001b[39margs, \u001b[38;5;241m*\u001b[39m\u001b[38;5;241m*\u001b[39mkwargs):\n\u001b[1;32m     26\u001b[0m     \u001b[38;5;28;01mwith\u001b[39;00m \u001b[38;5;28mself\u001b[39m\u001b[38;5;241m.\u001b[39mclone():\n\u001b[0;32m---> 27\u001b[0m         \u001b[38;5;28;01mreturn\u001b[39;00m \u001b[43mfunc\u001b[49m\u001b[43m(\u001b[49m\u001b[38;5;241;43m*\u001b[39;49m\u001b[43margs\u001b[49m\u001b[43m,\u001b[49m\u001b[43m \u001b[49m\u001b[38;5;241;43m*\u001b[39;49m\u001b[38;5;241;43m*\u001b[39;49m\u001b[43mkwargs\u001b[49m\u001b[43m)\u001b[49m\n",
      "File \u001b[0;32m/opt/conda/lib/python3.8/site-packages/torch/optim/adam.py:100\u001b[0m, in \u001b[0;36mAdam.step\u001b[0;34m(self, closure)\u001b[0m\n\u001b[1;32m     98\u001b[0m \u001b[38;5;28;01mif\u001b[39;00m closure \u001b[38;5;129;01mis\u001b[39;00m \u001b[38;5;129;01mnot\u001b[39;00m \u001b[38;5;28;01mNone\u001b[39;00m:\n\u001b[1;32m     99\u001b[0m     \u001b[38;5;28;01mwith\u001b[39;00m torch\u001b[38;5;241m.\u001b[39menable_grad():\n\u001b[0;32m--> 100\u001b[0m         loss \u001b[38;5;241m=\u001b[39m \u001b[43mclosure\u001b[49m\u001b[43m(\u001b[49m\u001b[43m)\u001b[49m\n\u001b[1;32m    102\u001b[0m \u001b[38;5;28;01mfor\u001b[39;00m group \u001b[38;5;129;01min\u001b[39;00m \u001b[38;5;28mself\u001b[39m\u001b[38;5;241m.\u001b[39mparam_groups:\n\u001b[1;32m    103\u001b[0m     params_with_grad \u001b[38;5;241m=\u001b[39m []\n",
      "Input \u001b[0;32mIn [48]\u001b[0m, in \u001b[0;36mtraining_loop.<locals>.closure\u001b[0;34m()\u001b[0m\n\u001b[1;32m      4\u001b[0m \u001b[38;5;28;01mdef\u001b[39;00m \u001b[38;5;21mclosure\u001b[39m():\n\u001b[1;32m      5\u001b[0m     optimiser\u001b[38;5;241m.\u001b[39mzero_grad()\n\u001b[0;32m----> 6\u001b[0m     out \u001b[38;5;241m=\u001b[39m \u001b[43mmodel\u001b[49m\u001b[43m(\u001b[49m\u001b[43mtrain_input\u001b[49m\u001b[43m)\u001b[49m\n\u001b[1;32m      7\u001b[0m     loss \u001b[38;5;241m=\u001b[39m loss_fn(out, train_target)\n\u001b[1;32m      8\u001b[0m     loss\u001b[38;5;241m.\u001b[39mbackward()\n",
      "File \u001b[0;32m/opt/conda/lib/python3.8/site-packages/torch/nn/modules/module.py:1110\u001b[0m, in \u001b[0;36mModule._call_impl\u001b[0;34m(self, *input, **kwargs)\u001b[0m\n\u001b[1;32m   1106\u001b[0m \u001b[38;5;66;03m# If we don't have any hooks, we want to skip the rest of the logic in\u001b[39;00m\n\u001b[1;32m   1107\u001b[0m \u001b[38;5;66;03m# this function, and just call forward.\u001b[39;00m\n\u001b[1;32m   1108\u001b[0m \u001b[38;5;28;01mif\u001b[39;00m \u001b[38;5;129;01mnot\u001b[39;00m (\u001b[38;5;28mself\u001b[39m\u001b[38;5;241m.\u001b[39m_backward_hooks \u001b[38;5;129;01mor\u001b[39;00m \u001b[38;5;28mself\u001b[39m\u001b[38;5;241m.\u001b[39m_forward_hooks \u001b[38;5;129;01mor\u001b[39;00m \u001b[38;5;28mself\u001b[39m\u001b[38;5;241m.\u001b[39m_forward_pre_hooks \u001b[38;5;129;01mor\u001b[39;00m _global_backward_hooks\n\u001b[1;32m   1109\u001b[0m         \u001b[38;5;129;01mor\u001b[39;00m _global_forward_hooks \u001b[38;5;129;01mor\u001b[39;00m _global_forward_pre_hooks):\n\u001b[0;32m-> 1110\u001b[0m     \u001b[38;5;28;01mreturn\u001b[39;00m \u001b[43mforward_call\u001b[49m\u001b[43m(\u001b[49m\u001b[38;5;241;43m*\u001b[39;49m\u001b[38;5;28;43minput\u001b[39;49m\u001b[43m,\u001b[49m\u001b[43m \u001b[49m\u001b[38;5;241;43m*\u001b[39;49m\u001b[38;5;241;43m*\u001b[39;49m\u001b[43mkwargs\u001b[49m\u001b[43m)\u001b[49m\n\u001b[1;32m   1111\u001b[0m \u001b[38;5;66;03m# Do not call functions when jit is used\u001b[39;00m\n\u001b[1;32m   1112\u001b[0m full_backward_hooks, non_full_backward_hooks \u001b[38;5;241m=\u001b[39m [], []\n",
      "Input \u001b[0;32mIn [36]\u001b[0m, in \u001b[0;36mLSTM.forward\u001b[0;34m(self, y, future_preds)\u001b[0m\n\u001b[1;32m     12\u001b[0m \u001b[38;5;28;01mdef\u001b[39;00m \u001b[38;5;21mforward\u001b[39m(\u001b[38;5;28mself\u001b[39m, y, future_preds\u001b[38;5;241m=\u001b[39m\u001b[38;5;241m0\u001b[39m):\n\u001b[1;32m     13\u001b[0m     outputs, num_samples \u001b[38;5;241m=\u001b[39m [], y\u001b[38;5;241m.\u001b[39msize(\u001b[38;5;241m0\u001b[39m)\n\u001b[0;32m---> 14\u001b[0m     h_t \u001b[38;5;241m=\u001b[39m torch\u001b[38;5;241m.\u001b[39mzeros(\u001b[43mn_samples\u001b[49m, \u001b[38;5;28mself\u001b[39m\u001b[38;5;241m.\u001b[39mhidden_layers, dtype\u001b[38;5;241m=\u001b[39mtorch\u001b[38;5;241m.\u001b[39mfloat32)\n\u001b[1;32m     15\u001b[0m     c_t \u001b[38;5;241m=\u001b[39m torch\u001b[38;5;241m.\u001b[39mzeros(n_samples, \u001b[38;5;28mself\u001b[39m\u001b[38;5;241m.\u001b[39mhidden_layers, dtype\u001b[38;5;241m=\u001b[39mtorch\u001b[38;5;241m.\u001b[39mfloat32)\n\u001b[1;32m     16\u001b[0m     h_t2 \u001b[38;5;241m=\u001b[39m torch\u001b[38;5;241m.\u001b[39mzeros(n_samples, \u001b[38;5;28mself\u001b[39m\u001b[38;5;241m.\u001b[39mhidden_layers, dtype\u001b[38;5;241m=\u001b[39mtorch\u001b[38;5;241m.\u001b[39mfloat32)\n",
      "\u001b[0;31mNameError\u001b[0m: name 'n_samples' is not defined"
     ]
    }
   ],
   "source": [
    "training_loop(n_epochs = 10,\n",
    "              model = model,\n",
    "              optimiser = optimiser,\n",
    "              loss_fn = criterion,\n",
    "              L = L,\n",
    "              train_input = train_input,\n",
    "              train_target = train_target,\n",
    "              test_input = test_input,\n",
    "              test_target = test_target)"
   ]
  },
  {
   "cell_type": "code",
   "execution_count": null,
   "id": "8b1cadc1",
   "metadata": {},
   "outputs": [],
   "source": []
  },
  {
   "cell_type": "code",
   "execution_count": null,
   "id": "94f17cf4",
   "metadata": {},
   "outputs": [],
   "source": []
  },
  {
   "cell_type": "code",
   "execution_count": null,
   "id": "e6e04e1f",
   "metadata": {},
   "outputs": [],
   "source": []
  },
  {
   "cell_type": "code",
   "execution_count": 8,
   "id": "e5b6cfe8",
   "metadata": {},
   "outputs": [],
   "source": [
    "df_values = df[df.columns[8:]].values"
   ]
  },
  {
   "cell_type": "code",
   "execution_count": 9,
   "id": "c817fe77",
   "metadata": {},
   "outputs": [
    {
     "data": {
      "text/plain": [
       "(39450, 2046)"
      ]
     },
     "execution_count": 9,
     "metadata": {},
     "output_type": "execute_result"
    }
   ],
   "source": [
    "df_values.shape"
   ]
  },
  {
   "cell_type": "code",
   "execution_count": 10,
   "id": "4b4847da",
   "metadata": {},
   "outputs": [],
   "source": [
    "vectors=df_values\n",
    "target = df_values[0]"
   ]
  },
  {
   "cell_type": "code",
   "execution_count": 198,
   "id": "3308c354",
   "metadata": {},
   "outputs": [
    {
     "name": "stdout",
     "output_type": "stream",
     "text": [
      " \u001b[0m\u001b[01;34maws\u001b[0m/\r\n",
      " compressed\r\n",
      " compressed.tar.gz\r\n",
      " \u001b[01;34mdarts_logs\u001b[0m/\r\n",
      "'forecasting (2).ipynb'\r\n",
      " \u001b[01;32mgdrive\u001b[0m*\r\n",
      " gdrive_2.1.1_linux_386.tar.gz\r\n",
      " get_models.ipynb\r\n",
      " handled-Copy1.ipynb\r\n",
      " handled-Copy2.ipynb\r\n",
      " handled.ipynb\r\n",
      " just_forcasting.ipynb\r\n",
      " just_forcastingprophet.ipynb\r\n",
      " \u001b[01;34mlightning_logs\u001b[0m/\r\n",
      " \u001b[01;34mlogs\u001b[0m/\r\n",
      " lr_find_temp_model_6e5341ca-3c58-4906-86fe-1d134648bc5d.ckpt\r\n",
      " model_result.ipynb\r\n",
      " nas.ipynb\r\n",
      " \u001b[01;34mnvtop\u001b[0m/\r\n",
      " onstart.log\r\n",
      " onstart.sh\r\n",
      " pm25_satellite_metadata.csv\r\n",
      " pytorchforecasting.ipynb\r\n",
      " pytorchforecastingtransformer.ipynb\r\n",
      " \u001b[01;34mscpppi\u001b[0m/\r\n",
      " submission_format.csv\r\n",
      " \u001b[01;34mtest\u001b[0m/\r\n",
      " testing_VAE.ipynb\r\n",
      "'timeseries-Copy1 (1).ipynb'\r\n",
      " timeseries-Copy1.ipynb\r\n",
      " timeseries.ipynb\r\n",
      "'timeseries_final (1).ipynb'\r\n",
      " timeseries_final.ipynb\r\n",
      " \u001b[01;34mtrain\u001b[0m/\r\n",
      " train_labels.csv\r\n",
      " zeroshot.ipynb\r\n"
     ]
    }
   ],
   "source": [
    "ls"
   ]
  },
  {
   "cell_type": "code",
   "execution_count": 93,
   "id": "d8a81028",
   "metadata": {},
   "outputs": [],
   "source": [
    "df_test = pd.read_csv(\"scpppi/processed_data_test.csv\")"
   ]
  },
  {
   "cell_type": "code",
   "execution_count": 72,
   "id": "efe361ae",
   "metadata": {},
   "outputs": [],
   "source": [
    "df_test= df_test.drop(columns=[\"Unnamed: 0\",\"datetime\",\"granule_id\"])"
   ]
  },
  {
   "cell_type": "code",
   "execution_count": 73,
   "id": "51c2398a",
   "metadata": {},
   "outputs": [
    {
     "data": {
      "text/html": [
       "<div>\n",
       "<style scoped>\n",
       "    .dataframe tbody tr th:only-of-type {\n",
       "        vertical-align: middle;\n",
       "    }\n",
       "\n",
       "    .dataframe tbody tr th {\n",
       "        vertical-align: top;\n",
       "    }\n",
       "\n",
       "    .dataframe thead th {\n",
       "        text-align: right;\n",
       "    }\n",
       "</style>\n",
       "<table border=\"1\" class=\"dataframe\">\n",
       "  <thead>\n",
       "    <tr style=\"text-align: right;\">\n",
       "      <th></th>\n",
       "      <th>grid_id</th>\n",
       "      <th>value</th>\n",
       "      <th>datetime_dt</th>\n",
       "      <th>location</th>\n",
       "      <th>date</th>\n",
       "      <th>AOD at 0.47 micron_0</th>\n",
       "      <th>AOD at 0.47 micron_1</th>\n",
       "      <th>AOD at 0.47 micron_2</th>\n",
       "      <th>AOD at 0.47 micron_3</th>\n",
       "      <th>AOD at 0.47 micron_4</th>\n",
       "      <th>...</th>\n",
       "      <th>cosine of Solar Zenith Angle_246</th>\n",
       "      <th>cosine of Solar Zenith Angle_247</th>\n",
       "      <th>cosine of Solar Zenith Angle_248</th>\n",
       "      <th>cosine of Solar Zenith Angle_249</th>\n",
       "      <th>cosine of Solar Zenith Angle_250</th>\n",
       "      <th>cosine of Solar Zenith Angle_251</th>\n",
       "      <th>cosine of Solar Zenith Angle_252</th>\n",
       "      <th>cosine of Solar Zenith Angle_253</th>\n",
       "      <th>cosine of Solar Zenith Angle_254</th>\n",
       "      <th>cosine of Solar Zenith Angle_255</th>\n",
       "    </tr>\n",
       "  </thead>\n",
       "  <tbody>\n",
       "    <tr>\n",
       "      <th>0</th>\n",
       "      <td>1X116</td>\n",
       "      <td>0.0</td>\n",
       "      <td>2017-01-07 16:00:00+00:00</td>\n",
       "      <td>Taipei</td>\n",
       "      <td>2017-01-07</td>\n",
       "      <td>-0.552611</td>\n",
       "      <td>0.114593</td>\n",
       "      <td>-0.116292</td>\n",
       "      <td>0.256839</td>\n",
       "      <td>-0.049796</td>\n",
       "      <td>...</td>\n",
       "      <td>0.514868</td>\n",
       "      <td>0.139191</td>\n",
       "      <td>0.183938</td>\n",
       "      <td>-1.667788</td>\n",
       "      <td>-0.356834</td>\n",
       "      <td>2.620512</td>\n",
       "      <td>0.295454</td>\n",
       "      <td>-0.233992</td>\n",
       "      <td>0.197363</td>\n",
       "      <td>0.768304</td>\n",
       "    </tr>\n",
       "    <tr>\n",
       "      <th>1</th>\n",
       "      <td>9Q6TA</td>\n",
       "      <td>0.0</td>\n",
       "      <td>2017-01-07 16:00:00+00:00</td>\n",
       "      <td>Taipei</td>\n",
       "      <td>2017-01-07</td>\n",
       "      <td>-0.552611</td>\n",
       "      <td>0.114593</td>\n",
       "      <td>-0.116292</td>\n",
       "      <td>0.256839</td>\n",
       "      <td>-0.049796</td>\n",
       "      <td>...</td>\n",
       "      <td>0.514868</td>\n",
       "      <td>0.139191</td>\n",
       "      <td>0.183938</td>\n",
       "      <td>-1.667788</td>\n",
       "      <td>-0.356834</td>\n",
       "      <td>2.620512</td>\n",
       "      <td>0.295454</td>\n",
       "      <td>-0.233992</td>\n",
       "      <td>0.197363</td>\n",
       "      <td>0.768304</td>\n",
       "    </tr>\n",
       "    <tr>\n",
       "      <th>2</th>\n",
       "      <td>KW43U</td>\n",
       "      <td>0.0</td>\n",
       "      <td>2017-01-07 16:00:00+00:00</td>\n",
       "      <td>Taipei</td>\n",
       "      <td>2017-01-07</td>\n",
       "      <td>-0.552611</td>\n",
       "      <td>0.114593</td>\n",
       "      <td>-0.116292</td>\n",
       "      <td>0.256839</td>\n",
       "      <td>-0.049796</td>\n",
       "      <td>...</td>\n",
       "      <td>0.514868</td>\n",
       "      <td>0.139191</td>\n",
       "      <td>0.183938</td>\n",
       "      <td>-1.667788</td>\n",
       "      <td>-0.356834</td>\n",
       "      <td>2.620512</td>\n",
       "      <td>0.295454</td>\n",
       "      <td>-0.233992</td>\n",
       "      <td>0.197363</td>\n",
       "      <td>0.768304</td>\n",
       "    </tr>\n",
       "    <tr>\n",
       "      <th>3</th>\n",
       "      <td>VR4WG</td>\n",
       "      <td>0.0</td>\n",
       "      <td>2017-01-07 16:00:00+00:00</td>\n",
       "      <td>Taipei</td>\n",
       "      <td>2017-01-07</td>\n",
       "      <td>-0.552611</td>\n",
       "      <td>0.114593</td>\n",
       "      <td>-0.116292</td>\n",
       "      <td>0.256839</td>\n",
       "      <td>-0.049796</td>\n",
       "      <td>...</td>\n",
       "      <td>0.514868</td>\n",
       "      <td>0.139191</td>\n",
       "      <td>0.183938</td>\n",
       "      <td>-1.667788</td>\n",
       "      <td>-0.356834</td>\n",
       "      <td>2.620512</td>\n",
       "      <td>0.295454</td>\n",
       "      <td>-0.233992</td>\n",
       "      <td>0.197363</td>\n",
       "      <td>0.768304</td>\n",
       "    </tr>\n",
       "    <tr>\n",
       "      <th>4</th>\n",
       "      <td>XJF9O</td>\n",
       "      <td>0.0</td>\n",
       "      <td>2017-01-07 16:00:00+00:00</td>\n",
       "      <td>Taipei</td>\n",
       "      <td>2017-01-07</td>\n",
       "      <td>-0.552611</td>\n",
       "      <td>0.114593</td>\n",
       "      <td>-0.116292</td>\n",
       "      <td>0.256839</td>\n",
       "      <td>-0.049796</td>\n",
       "      <td>...</td>\n",
       "      <td>0.514868</td>\n",
       "      <td>0.139191</td>\n",
       "      <td>0.183938</td>\n",
       "      <td>-1.667788</td>\n",
       "      <td>-0.356834</td>\n",
       "      <td>2.620512</td>\n",
       "      <td>0.295454</td>\n",
       "      <td>-0.233992</td>\n",
       "      <td>0.197363</td>\n",
       "      <td>0.768304</td>\n",
       "    </tr>\n",
       "  </tbody>\n",
       "</table>\n",
       "<p>5 rows × 2053 columns</p>\n",
       "</div>"
      ],
      "text/plain": [
       "  grid_id  value                datetime_dt location        date  \\\n",
       "0   1X116    0.0  2017-01-07 16:00:00+00:00   Taipei  2017-01-07   \n",
       "1   9Q6TA    0.0  2017-01-07 16:00:00+00:00   Taipei  2017-01-07   \n",
       "2   KW43U    0.0  2017-01-07 16:00:00+00:00   Taipei  2017-01-07   \n",
       "3   VR4WG    0.0  2017-01-07 16:00:00+00:00   Taipei  2017-01-07   \n",
       "4   XJF9O    0.0  2017-01-07 16:00:00+00:00   Taipei  2017-01-07   \n",
       "\n",
       "   AOD at 0.47 micron_0  AOD at 0.47 micron_1  AOD at 0.47 micron_2  \\\n",
       "0             -0.552611              0.114593             -0.116292   \n",
       "1             -0.552611              0.114593             -0.116292   \n",
       "2             -0.552611              0.114593             -0.116292   \n",
       "3             -0.552611              0.114593             -0.116292   \n",
       "4             -0.552611              0.114593             -0.116292   \n",
       "\n",
       "   AOD at 0.47 micron_3  AOD at 0.47 micron_4  ...  \\\n",
       "0              0.256839             -0.049796  ...   \n",
       "1              0.256839             -0.049796  ...   \n",
       "2              0.256839             -0.049796  ...   \n",
       "3              0.256839             -0.049796  ...   \n",
       "4              0.256839             -0.049796  ...   \n",
       "\n",
       "   cosine of Solar Zenith Angle_246  cosine of Solar Zenith Angle_247  \\\n",
       "0                          0.514868                          0.139191   \n",
       "1                          0.514868                          0.139191   \n",
       "2                          0.514868                          0.139191   \n",
       "3                          0.514868                          0.139191   \n",
       "4                          0.514868                          0.139191   \n",
       "\n",
       "   cosine of Solar Zenith Angle_248  cosine of Solar Zenith Angle_249  \\\n",
       "0                          0.183938                         -1.667788   \n",
       "1                          0.183938                         -1.667788   \n",
       "2                          0.183938                         -1.667788   \n",
       "3                          0.183938                         -1.667788   \n",
       "4                          0.183938                         -1.667788   \n",
       "\n",
       "   cosine of Solar Zenith Angle_250  cosine of Solar Zenith Angle_251  \\\n",
       "0                         -0.356834                          2.620512   \n",
       "1                         -0.356834                          2.620512   \n",
       "2                         -0.356834                          2.620512   \n",
       "3                         -0.356834                          2.620512   \n",
       "4                         -0.356834                          2.620512   \n",
       "\n",
       "   cosine of Solar Zenith Angle_252  cosine of Solar Zenith Angle_253  \\\n",
       "0                          0.295454                         -0.233992   \n",
       "1                          0.295454                         -0.233992   \n",
       "2                          0.295454                         -0.233992   \n",
       "3                          0.295454                         -0.233992   \n",
       "4                          0.295454                         -0.233992   \n",
       "\n",
       "   cosine of Solar Zenith Angle_254  cosine of Solar Zenith Angle_255  \n",
       "0                          0.197363                          0.768304  \n",
       "1                          0.197363                          0.768304  \n",
       "2                          0.197363                          0.768304  \n",
       "3                          0.197363                          0.768304  \n",
       "4                          0.197363                          0.768304  \n",
       "\n",
       "[5 rows x 2053 columns]"
      ]
     },
     "execution_count": 73,
     "metadata": {},
     "output_type": "execute_result"
    }
   ],
   "source": [
    "df_test.head()"
   ]
  },
  {
   "cell_type": "code",
   "execution_count": null,
   "id": "45469d50",
   "metadata": {},
   "outputs": [],
   "source": []
  },
  {
   "cell_type": "code",
   "execution_count": null,
   "id": "3d979080",
   "metadata": {},
   "outputs": [],
   "source": []
  },
  {
   "cell_type": "code",
   "execution_count": 15,
   "id": "73e5a373",
   "metadata": {},
   "outputs": [],
   "source": [
    "# import torch\n",
    "# print(torch.rand(1, device=\"cuda\"))"
   ]
  },
  {
   "cell_type": "code",
   "execution_count": null,
   "id": "dbcca109",
   "metadata": {},
   "outputs": [],
   "source": [
    "class LSTM(nn.Module):\n",
    "    def __init__(self, hidden_layers=64):\n",
    "        super(LSTM, self).__init__()\n",
    "        self.hidden_layers = hidden_layers\n",
    "        # lstm1, lstm2, linear are all layers in the network\n",
    "        self.lstm1 = nn.LSTMCell(1, self.hidden_layers)\n",
    "        self.lstm2 = nn.LSTMCell(self.hidden_layers, self.hidden_layers)\n",
    "        self.linear = nn.Linear(self.hidden_layers, 1)\n",
    "        \n",
    "    def forward(self, y, future_preds=0):\n",
    "        outputs, num_samples = [], y.size(0)\n",
    "        h_t = torch.zeros(n_samples, self.hidden_layers, dtype=torch.float32)\n",
    "        c_t = torch.zeros(n_samples, self.hidden_layers, dtype=torch.float32)\n",
    "        h_t2 = torch.zeros(n_samples, self.hidden_layers, dtype=torch.float32)\n",
    "        c_t2 = torch.zeros(n_samples, self.hidden_layers, dtype=torch.float32)\n",
    "        \n",
    "        for time_step in y.split(1, dim=1):\n",
    "            # N, 1\n",
    "            h_t, c_t = self.lstm1(input_t, (h_t, c_t)) # initial hidden and cell states\n",
    "            h_t2, c_t2 = self.lstm2(h_t, (h_t2, c_t2)) # new hidden and cell states\n",
    "            output = self.linear(h_t2) # output from the last FC layer\n",
    "            outputs.append(output)\n",
    "            \n",
    "        for i in range(future_preds):\n",
    "            # this only generates future predictions if we pass in future_preds>0\n",
    "            # mirrors the code above, using last output/prediction as input\n",
    "            h_t, c_t = self.lstm1(output, (h_t, c_t))\n",
    "            h_t2, c_t2 = self.lstm2(h_t, (h_t2, c_t2))\n",
    "            output = self.linear(h_t2)\n",
    "            outputs.append(output)\n",
    "        # transform list to tensor    \n",
    "        outputs = torch.cat(outputs, dim=1)\n",
    "        return outputs"
   ]
  }
 ],
 "metadata": {
  "kernelspec": {
   "display_name": "Python 3 (ipykernel)",
   "language": "python",
   "name": "python3"
  },
  "language_info": {
   "codemirror_mode": {
    "name": "ipython",
    "version": 3
   },
   "file_extension": ".py",
   "mimetype": "text/x-python",
   "name": "python",
   "nbconvert_exporter": "python",
   "pygments_lexer": "ipython3",
   "version": "3.8.12"
  }
 },
 "nbformat": 4,
 "nbformat_minor": 5
}
