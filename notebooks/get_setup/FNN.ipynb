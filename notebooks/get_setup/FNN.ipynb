{
 "cells": [
  {
   "cell_type": "code",
   "execution_count": 65,
   "id": "0fb7a1af",
   "metadata": {},
   "outputs": [],
   "source": [
    "import pandas as pd\n"
   ]
  },
  {
   "cell_type": "code",
   "execution_count": 66,
   "id": "07db2539",
   "metadata": {},
   "outputs": [],
   "source": [
    "df = pd.read_csv(\"scpppi/processed_data_l.csv\")"
   ]
  },
  {
   "cell_type": "code",
   "execution_count": 67,
   "id": "043d922f",
   "metadata": {},
   "outputs": [],
   "source": [
    "df = df.drop(columns=[\"Unnamed: 0\",\"datetime\",\"granule_id\"])"
   ]
  },
  {
   "cell_type": "code",
   "execution_count": 68,
   "id": "482d624e",
   "metadata": {},
   "outputs": [
    {
     "data": {
      "text/plain": [
       "0        Los Angeles (SoCAB)\n",
       "1        Los Angeles (SoCAB)\n",
       "2        Los Angeles (SoCAB)\n",
       "3        Los Angeles (SoCAB)\n",
       "4        Los Angeles (SoCAB)\n",
       "                ...         \n",
       "39445                  Delhi\n",
       "39446                  Delhi\n",
       "39447                  Delhi\n",
       "39448                  Delhi\n",
       "39449                  Delhi\n",
       "Name: location, Length: 39450, dtype: object"
      ]
     },
     "execution_count": 68,
     "metadata": {},
     "output_type": "execute_result"
    }
   ],
   "source": [
    "df[\"location\"]"
   ]
  },
  {
   "cell_type": "code",
   "execution_count": 69,
   "id": "17f76b6a",
   "metadata": {},
   "outputs": [],
   "source": [
    "df[\"datetime_dt\"] = pd.to_datetime(df[\"datetime_dt\"] )"
   ]
  },
  {
   "cell_type": "code",
   "execution_count": 70,
   "id": "f9d18c01",
   "metadata": {},
   "outputs": [],
   "source": [
    "def clean_df(df):\n",
    "    df = df.drop(columns=[\"Unnamed: 0\",\"datetime\",\"granule_id\"])\n",
    "    df[\"datetime_dt\"] = pd.to_datetime(df[\"datetime_dt\"] )\n",
    "    df[\"month\"] = [i.month for i in df[\"datetime_dt\"]]\n",
    "    df[\"month\"] = df[\"month\"].astype(str).astype(\"category\")\n",
    "    one_hot = pd.get_dummies(df[\"month\"])\n",
    "    df = df.join(one_hot)\n",
    "    df = df.drop('month',axis = 1)\n",
    "    df = df.drop('date',axis = 1)\n",
    "    one_hot = pd.get_dummies(df[\"location\"])\n",
    "    df = df.join(one_hot)\n",
    "    df = df.drop('location',axis = 1)\n",
    "    one_hot = pd.get_dummies(df[\"grid_id\"])\n",
    "    df = df.join(one_hot)\n",
    "    df = df.drop('grid_id',axis = 1)\n",
    "    return df"
   ]
  },
  {
   "cell_type": "code",
   "execution_count": 71,
   "id": "5880a454",
   "metadata": {},
   "outputs": [],
   "source": [
    "df[\"month\"] = [i.month for i in df[\"datetime_dt\"]]"
   ]
  },
  {
   "cell_type": "code",
   "execution_count": 72,
   "id": "196b6c6b",
   "metadata": {},
   "outputs": [],
   "source": [
    "df[\"month\"] = df[\"month\"].astype(str).astype(\"category\")"
   ]
  },
  {
   "cell_type": "code",
   "execution_count": 73,
   "id": "ce9b6e71",
   "metadata": {},
   "outputs": [
    {
     "data": {
      "text/html": [
       "<div>\n",
       "<style scoped>\n",
       "    .dataframe tbody tr th:only-of-type {\n",
       "        vertical-align: middle;\n",
       "    }\n",
       "\n",
       "    .dataframe tbody tr th {\n",
       "        vertical-align: top;\n",
       "    }\n",
       "\n",
       "    .dataframe thead th {\n",
       "        text-align: right;\n",
       "    }\n",
       "</style>\n",
       "<table border=\"1\" class=\"dataframe\">\n",
       "  <thead>\n",
       "    <tr style=\"text-align: right;\">\n",
       "      <th></th>\n",
       "      <th>1</th>\n",
       "      <th>10</th>\n",
       "      <th>11</th>\n",
       "      <th>12</th>\n",
       "      <th>2</th>\n",
       "      <th>3</th>\n",
       "      <th>4</th>\n",
       "      <th>5</th>\n",
       "      <th>6</th>\n",
       "      <th>7</th>\n",
       "      <th>8</th>\n",
       "      <th>9</th>\n",
       "    </tr>\n",
       "  </thead>\n",
       "  <tbody>\n",
       "    <tr>\n",
       "      <th>0</th>\n",
       "      <td>0</td>\n",
       "      <td>0</td>\n",
       "      <td>0</td>\n",
       "      <td>0</td>\n",
       "      <td>1</td>\n",
       "      <td>0</td>\n",
       "      <td>0</td>\n",
       "      <td>0</td>\n",
       "      <td>0</td>\n",
       "      <td>0</td>\n",
       "      <td>0</td>\n",
       "      <td>0</td>\n",
       "    </tr>\n",
       "    <tr>\n",
       "      <th>1</th>\n",
       "      <td>0</td>\n",
       "      <td>0</td>\n",
       "      <td>0</td>\n",
       "      <td>0</td>\n",
       "      <td>1</td>\n",
       "      <td>0</td>\n",
       "      <td>0</td>\n",
       "      <td>0</td>\n",
       "      <td>0</td>\n",
       "      <td>0</td>\n",
       "      <td>0</td>\n",
       "      <td>0</td>\n",
       "    </tr>\n",
       "    <tr>\n",
       "      <th>2</th>\n",
       "      <td>0</td>\n",
       "      <td>0</td>\n",
       "      <td>0</td>\n",
       "      <td>0</td>\n",
       "      <td>1</td>\n",
       "      <td>0</td>\n",
       "      <td>0</td>\n",
       "      <td>0</td>\n",
       "      <td>0</td>\n",
       "      <td>0</td>\n",
       "      <td>0</td>\n",
       "      <td>0</td>\n",
       "    </tr>\n",
       "    <tr>\n",
       "      <th>3</th>\n",
       "      <td>0</td>\n",
       "      <td>0</td>\n",
       "      <td>0</td>\n",
       "      <td>0</td>\n",
       "      <td>1</td>\n",
       "      <td>0</td>\n",
       "      <td>0</td>\n",
       "      <td>0</td>\n",
       "      <td>0</td>\n",
       "      <td>0</td>\n",
       "      <td>0</td>\n",
       "      <td>0</td>\n",
       "    </tr>\n",
       "    <tr>\n",
       "      <th>4</th>\n",
       "      <td>0</td>\n",
       "      <td>0</td>\n",
       "      <td>0</td>\n",
       "      <td>0</td>\n",
       "      <td>1</td>\n",
       "      <td>0</td>\n",
       "      <td>0</td>\n",
       "      <td>0</td>\n",
       "      <td>0</td>\n",
       "      <td>0</td>\n",
       "      <td>0</td>\n",
       "      <td>0</td>\n",
       "    </tr>\n",
       "    <tr>\n",
       "      <th>...</th>\n",
       "      <td>...</td>\n",
       "      <td>...</td>\n",
       "      <td>...</td>\n",
       "      <td>...</td>\n",
       "      <td>...</td>\n",
       "      <td>...</td>\n",
       "      <td>...</td>\n",
       "      <td>...</td>\n",
       "      <td>...</td>\n",
       "      <td>...</td>\n",
       "      <td>...</td>\n",
       "      <td>...</td>\n",
       "    </tr>\n",
       "    <tr>\n",
       "      <th>39445</th>\n",
       "      <td>0</td>\n",
       "      <td>0</td>\n",
       "      <td>0</td>\n",
       "      <td>0</td>\n",
       "      <td>0</td>\n",
       "      <td>0</td>\n",
       "      <td>1</td>\n",
       "      <td>0</td>\n",
       "      <td>0</td>\n",
       "      <td>0</td>\n",
       "      <td>0</td>\n",
       "      <td>0</td>\n",
       "    </tr>\n",
       "    <tr>\n",
       "      <th>39446</th>\n",
       "      <td>0</td>\n",
       "      <td>0</td>\n",
       "      <td>0</td>\n",
       "      <td>0</td>\n",
       "      <td>0</td>\n",
       "      <td>0</td>\n",
       "      <td>1</td>\n",
       "      <td>0</td>\n",
       "      <td>0</td>\n",
       "      <td>0</td>\n",
       "      <td>0</td>\n",
       "      <td>0</td>\n",
       "    </tr>\n",
       "    <tr>\n",
       "      <th>39447</th>\n",
       "      <td>0</td>\n",
       "      <td>0</td>\n",
       "      <td>0</td>\n",
       "      <td>0</td>\n",
       "      <td>0</td>\n",
       "      <td>0</td>\n",
       "      <td>1</td>\n",
       "      <td>0</td>\n",
       "      <td>0</td>\n",
       "      <td>0</td>\n",
       "      <td>0</td>\n",
       "      <td>0</td>\n",
       "    </tr>\n",
       "    <tr>\n",
       "      <th>39448</th>\n",
       "      <td>0</td>\n",
       "      <td>0</td>\n",
       "      <td>0</td>\n",
       "      <td>0</td>\n",
       "      <td>0</td>\n",
       "      <td>0</td>\n",
       "      <td>1</td>\n",
       "      <td>0</td>\n",
       "      <td>0</td>\n",
       "      <td>0</td>\n",
       "      <td>0</td>\n",
       "      <td>0</td>\n",
       "    </tr>\n",
       "    <tr>\n",
       "      <th>39449</th>\n",
       "      <td>1</td>\n",
       "      <td>0</td>\n",
       "      <td>0</td>\n",
       "      <td>0</td>\n",
       "      <td>0</td>\n",
       "      <td>0</td>\n",
       "      <td>0</td>\n",
       "      <td>0</td>\n",
       "      <td>0</td>\n",
       "      <td>0</td>\n",
       "      <td>0</td>\n",
       "      <td>0</td>\n",
       "    </tr>\n",
       "  </tbody>\n",
       "</table>\n",
       "<p>39450 rows × 12 columns</p>\n",
       "</div>"
      ],
      "text/plain": [
       "       1  10  11  12  2  3  4  5  6  7  8  9\n",
       "0      0   0   0   0  1  0  0  0  0  0  0  0\n",
       "1      0   0   0   0  1  0  0  0  0  0  0  0\n",
       "2      0   0   0   0  1  0  0  0  0  0  0  0\n",
       "3      0   0   0   0  1  0  0  0  0  0  0  0\n",
       "4      0   0   0   0  1  0  0  0  0  0  0  0\n",
       "...   ..  ..  ..  .. .. .. .. .. .. .. .. ..\n",
       "39445  0   0   0   0  0  0  1  0  0  0  0  0\n",
       "39446  0   0   0   0  0  0  1  0  0  0  0  0\n",
       "39447  0   0   0   0  0  0  1  0  0  0  0  0\n",
       "39448  0   0   0   0  0  0  1  0  0  0  0  0\n",
       "39449  1   0   0   0  0  0  0  0  0  0  0  0\n",
       "\n",
       "[39450 rows x 12 columns]"
      ]
     },
     "execution_count": 73,
     "metadata": {},
     "output_type": "execute_result"
    }
   ],
   "source": [
    "one_hot = pd.get_dummies(df[\"month\"])\n",
    "one_hot"
   ]
  },
  {
   "cell_type": "code",
   "execution_count": 74,
   "id": "0c58b6b1",
   "metadata": {},
   "outputs": [],
   "source": [
    "df = df.join(one_hot)"
   ]
  },
  {
   "cell_type": "code",
   "execution_count": 75,
   "id": "c10782dd",
   "metadata": {},
   "outputs": [],
   "source": [
    "df = df.drop('month',axis = 1)"
   ]
  },
  {
   "cell_type": "code",
   "execution_count": 76,
   "id": "6d75e9e6",
   "metadata": {},
   "outputs": [],
   "source": [
    "df = df.drop('date',axis = 1)"
   ]
  },
  {
   "cell_type": "code",
   "execution_count": 77,
   "id": "7601219e",
   "metadata": {},
   "outputs": [],
   "source": [
    "one_hot = pd.get_dummies(df[\"location\"])\n",
    "df = df.join(one_hot)"
   ]
  },
  {
   "cell_type": "code",
   "execution_count": 78,
   "id": "c4d59660",
   "metadata": {},
   "outputs": [],
   "source": [
    "df = df.drop('location',axis = 1)"
   ]
  },
  {
   "cell_type": "code",
   "execution_count": 79,
   "id": "6811bbf7",
   "metadata": {},
   "outputs": [],
   "source": [
    "one_hot = pd.get_dummies(df[\"grid_id\"])\n",
    "df = df.join(one_hot)"
   ]
  },
  {
   "cell_type": "code",
   "execution_count": 80,
   "id": "488400fd",
   "metadata": {},
   "outputs": [],
   "source": [
    "df = df.drop('grid_id',axis = 1)"
   ]
  },
  {
   "cell_type": "code",
   "execution_count": 81,
   "id": "960b8972",
   "metadata": {},
   "outputs": [
    {
     "data": {
      "text/html": [
       "<div>\n",
       "<style scoped>\n",
       "    .dataframe tbody tr th:only-of-type {\n",
       "        vertical-align: middle;\n",
       "    }\n",
       "\n",
       "    .dataframe tbody tr th {\n",
       "        vertical-align: top;\n",
       "    }\n",
       "\n",
       "    .dataframe thead th {\n",
       "        text-align: right;\n",
       "    }\n",
       "</style>\n",
       "<table border=\"1\" class=\"dataframe\">\n",
       "  <thead>\n",
       "    <tr style=\"text-align: right;\">\n",
       "      <th></th>\n",
       "      <th>value</th>\n",
       "      <th>datetime_dt</th>\n",
       "      <th>AOD at 0.47 micron_0</th>\n",
       "      <th>AOD at 0.47 micron_1</th>\n",
       "      <th>AOD at 0.47 micron_2</th>\n",
       "      <th>AOD at 0.47 micron_3</th>\n",
       "      <th>AOD at 0.47 micron_4</th>\n",
       "      <th>AOD at 0.47 micron_5</th>\n",
       "      <th>AOD at 0.47 micron_6</th>\n",
       "      <th>AOD at 0.47 micron_7</th>\n",
       "      <th>...</th>\n",
       "      <th>VYH7U</th>\n",
       "      <th>WT52R</th>\n",
       "      <th>WZNCR</th>\n",
       "      <th>X5DKW</th>\n",
       "      <th>XJF9O</th>\n",
       "      <th>XNLVD</th>\n",
       "      <th>YHOPV</th>\n",
       "      <th>ZF3ZW</th>\n",
       "      <th>ZP1FZ</th>\n",
       "      <th>ZZ8JF</th>\n",
       "    </tr>\n",
       "  </thead>\n",
       "  <tbody>\n",
       "    <tr>\n",
       "      <th>0</th>\n",
       "      <td>11.4</td>\n",
       "      <td>2018-02-01 08:00:00+00:00</td>\n",
       "      <td>-0.563344</td>\n",
       "      <td>0.109907</td>\n",
       "      <td>-0.103034</td>\n",
       "      <td>0.234161</td>\n",
       "      <td>-0.041027</td>\n",
       "      <td>0.229606</td>\n",
       "      <td>-0.581547</td>\n",
       "      <td>-0.097234</td>\n",
       "      <td>...</td>\n",
       "      <td>0</td>\n",
       "      <td>0</td>\n",
       "      <td>0</td>\n",
       "      <td>0</td>\n",
       "      <td>0</td>\n",
       "      <td>0</td>\n",
       "      <td>0</td>\n",
       "      <td>0</td>\n",
       "      <td>0</td>\n",
       "      <td>0</td>\n",
       "    </tr>\n",
       "    <tr>\n",
       "      <th>1</th>\n",
       "      <td>17.0</td>\n",
       "      <td>2018-02-01 08:00:00+00:00</td>\n",
       "      <td>-0.563344</td>\n",
       "      <td>0.109907</td>\n",
       "      <td>-0.103034</td>\n",
       "      <td>0.234161</td>\n",
       "      <td>-0.041027</td>\n",
       "      <td>0.229606</td>\n",
       "      <td>-0.581547</td>\n",
       "      <td>-0.097234</td>\n",
       "      <td>...</td>\n",
       "      <td>0</td>\n",
       "      <td>0</td>\n",
       "      <td>0</td>\n",
       "      <td>0</td>\n",
       "      <td>0</td>\n",
       "      <td>0</td>\n",
       "      <td>0</td>\n",
       "      <td>0</td>\n",
       "      <td>0</td>\n",
       "      <td>0</td>\n",
       "    </tr>\n",
       "    <tr>\n",
       "      <th>2</th>\n",
       "      <td>11.1</td>\n",
       "      <td>2018-02-01 08:00:00+00:00</td>\n",
       "      <td>-0.563344</td>\n",
       "      <td>0.109907</td>\n",
       "      <td>-0.103034</td>\n",
       "      <td>0.234161</td>\n",
       "      <td>-0.041027</td>\n",
       "      <td>0.229606</td>\n",
       "      <td>-0.581547</td>\n",
       "      <td>-0.097234</td>\n",
       "      <td>...</td>\n",
       "      <td>0</td>\n",
       "      <td>0</td>\n",
       "      <td>0</td>\n",
       "      <td>0</td>\n",
       "      <td>0</td>\n",
       "      <td>0</td>\n",
       "      <td>0</td>\n",
       "      <td>0</td>\n",
       "      <td>0</td>\n",
       "      <td>0</td>\n",
       "    </tr>\n",
       "    <tr>\n",
       "      <th>3</th>\n",
       "      <td>22.1</td>\n",
       "      <td>2018-02-01 08:00:00+00:00</td>\n",
       "      <td>-0.563344</td>\n",
       "      <td>0.109907</td>\n",
       "      <td>-0.103034</td>\n",
       "      <td>0.234161</td>\n",
       "      <td>-0.041027</td>\n",
       "      <td>0.229606</td>\n",
       "      <td>-0.581547</td>\n",
       "      <td>-0.097234</td>\n",
       "      <td>...</td>\n",
       "      <td>0</td>\n",
       "      <td>0</td>\n",
       "      <td>0</td>\n",
       "      <td>0</td>\n",
       "      <td>0</td>\n",
       "      <td>0</td>\n",
       "      <td>0</td>\n",
       "      <td>0</td>\n",
       "      <td>0</td>\n",
       "      <td>0</td>\n",
       "    </tr>\n",
       "    <tr>\n",
       "      <th>4</th>\n",
       "      <td>29.8</td>\n",
       "      <td>2018-02-01 08:00:00+00:00</td>\n",
       "      <td>-0.563344</td>\n",
       "      <td>0.109907</td>\n",
       "      <td>-0.103034</td>\n",
       "      <td>0.234161</td>\n",
       "      <td>-0.041027</td>\n",
       "      <td>0.229606</td>\n",
       "      <td>-0.581547</td>\n",
       "      <td>-0.097234</td>\n",
       "      <td>...</td>\n",
       "      <td>0</td>\n",
       "      <td>0</td>\n",
       "      <td>0</td>\n",
       "      <td>0</td>\n",
       "      <td>0</td>\n",
       "      <td>0</td>\n",
       "      <td>0</td>\n",
       "      <td>0</td>\n",
       "      <td>0</td>\n",
       "      <td>0</td>\n",
       "    </tr>\n",
       "  </tbody>\n",
       "</table>\n",
       "<p>5 rows × 2119 columns</p>\n",
       "</div>"
      ],
      "text/plain": [
       "   value               datetime_dt  AOD at 0.47 micron_0  \\\n",
       "0   11.4 2018-02-01 08:00:00+00:00             -0.563344   \n",
       "1   17.0 2018-02-01 08:00:00+00:00             -0.563344   \n",
       "2   11.1 2018-02-01 08:00:00+00:00             -0.563344   \n",
       "3   22.1 2018-02-01 08:00:00+00:00             -0.563344   \n",
       "4   29.8 2018-02-01 08:00:00+00:00             -0.563344   \n",
       "\n",
       "   AOD at 0.47 micron_1  AOD at 0.47 micron_2  AOD at 0.47 micron_3  \\\n",
       "0              0.109907             -0.103034              0.234161   \n",
       "1              0.109907             -0.103034              0.234161   \n",
       "2              0.109907             -0.103034              0.234161   \n",
       "3              0.109907             -0.103034              0.234161   \n",
       "4              0.109907             -0.103034              0.234161   \n",
       "\n",
       "   AOD at 0.47 micron_4  AOD at 0.47 micron_5  AOD at 0.47 micron_6  \\\n",
       "0             -0.041027              0.229606             -0.581547   \n",
       "1             -0.041027              0.229606             -0.581547   \n",
       "2             -0.041027              0.229606             -0.581547   \n",
       "3             -0.041027              0.229606             -0.581547   \n",
       "4             -0.041027              0.229606             -0.581547   \n",
       "\n",
       "   AOD at 0.47 micron_7  ...  VYH7U  WT52R  WZNCR  X5DKW  XJF9O  XNLVD  YHOPV  \\\n",
       "0             -0.097234  ...      0      0      0      0      0      0      0   \n",
       "1             -0.097234  ...      0      0      0      0      0      0      0   \n",
       "2             -0.097234  ...      0      0      0      0      0      0      0   \n",
       "3             -0.097234  ...      0      0      0      0      0      0      0   \n",
       "4             -0.097234  ...      0      0      0      0      0      0      0   \n",
       "\n",
       "   ZF3ZW  ZP1FZ  ZZ8JF  \n",
       "0      0      0      0  \n",
       "1      0      0      0  \n",
       "2      0      0      0  \n",
       "3      0      0      0  \n",
       "4      0      0      0  \n",
       "\n",
       "[5 rows x 2119 columns]"
      ]
     },
     "execution_count": 81,
     "metadata": {},
     "output_type": "execute_result"
    }
   ],
   "source": [
    "df.head()"
   ]
  },
  {
   "cell_type": "code",
   "execution_count": 88,
   "id": "bc854f78",
   "metadata": {},
   "outputs": [
    {
     "data": {
      "text/html": [
       "<div>\n",
       "<style scoped>\n",
       "    .dataframe tbody tr th:only-of-type {\n",
       "        vertical-align: middle;\n",
       "    }\n",
       "\n",
       "    .dataframe tbody tr th {\n",
       "        vertical-align: top;\n",
       "    }\n",
       "\n",
       "    .dataframe thead th {\n",
       "        text-align: right;\n",
       "    }\n",
       "</style>\n",
       "<table border=\"1\" class=\"dataframe\">\n",
       "  <thead>\n",
       "    <tr style=\"text-align: right;\">\n",
       "      <th></th>\n",
       "      <th>value</th>\n",
       "      <th>datetime_dt</th>\n",
       "      <th>AOD at 0.47 micron_0</th>\n",
       "      <th>AOD at 0.47 micron_1</th>\n",
       "      <th>AOD at 0.47 micron_2</th>\n",
       "      <th>AOD at 0.47 micron_3</th>\n",
       "      <th>AOD at 0.47 micron_4</th>\n",
       "      <th>AOD at 0.47 micron_5</th>\n",
       "      <th>AOD at 0.47 micron_6</th>\n",
       "      <th>AOD at 0.47 micron_7</th>\n",
       "      <th>...</th>\n",
       "      <th>VYH7U</th>\n",
       "      <th>WT52R</th>\n",
       "      <th>WZNCR</th>\n",
       "      <th>X5DKW</th>\n",
       "      <th>XJF9O</th>\n",
       "      <th>XNLVD</th>\n",
       "      <th>YHOPV</th>\n",
       "      <th>ZF3ZW</th>\n",
       "      <th>ZP1FZ</th>\n",
       "      <th>ZZ8JF</th>\n",
       "    </tr>\n",
       "  </thead>\n",
       "  <tbody>\n",
       "    <tr>\n",
       "      <th>0</th>\n",
       "      <td>11.400000</td>\n",
       "      <td>2018-02-01 08:00:00+00:00</td>\n",
       "      <td>-0.563344</td>\n",
       "      <td>0.109907</td>\n",
       "      <td>-0.103034</td>\n",
       "      <td>0.234161</td>\n",
       "      <td>-0.041027</td>\n",
       "      <td>0.229606</td>\n",
       "      <td>-0.581547</td>\n",
       "      <td>-0.097234</td>\n",
       "      <td>...</td>\n",
       "      <td>0</td>\n",
       "      <td>0</td>\n",
       "      <td>0</td>\n",
       "      <td>0</td>\n",
       "      <td>0</td>\n",
       "      <td>0</td>\n",
       "      <td>0</td>\n",
       "      <td>0</td>\n",
       "      <td>0</td>\n",
       "      <td>0</td>\n",
       "    </tr>\n",
       "    <tr>\n",
       "      <th>1</th>\n",
       "      <td>17.000000</td>\n",
       "      <td>2018-02-01 08:00:00+00:00</td>\n",
       "      <td>-0.563344</td>\n",
       "      <td>0.109907</td>\n",
       "      <td>-0.103034</td>\n",
       "      <td>0.234161</td>\n",
       "      <td>-0.041027</td>\n",
       "      <td>0.229606</td>\n",
       "      <td>-0.581547</td>\n",
       "      <td>-0.097234</td>\n",
       "      <td>...</td>\n",
       "      <td>0</td>\n",
       "      <td>0</td>\n",
       "      <td>0</td>\n",
       "      <td>0</td>\n",
       "      <td>0</td>\n",
       "      <td>0</td>\n",
       "      <td>0</td>\n",
       "      <td>0</td>\n",
       "      <td>0</td>\n",
       "      <td>0</td>\n",
       "    </tr>\n",
       "    <tr>\n",
       "      <th>2</th>\n",
       "      <td>11.100000</td>\n",
       "      <td>2018-02-01 08:00:00+00:00</td>\n",
       "      <td>-0.563344</td>\n",
       "      <td>0.109907</td>\n",
       "      <td>-0.103034</td>\n",
       "      <td>0.234161</td>\n",
       "      <td>-0.041027</td>\n",
       "      <td>0.229606</td>\n",
       "      <td>-0.581547</td>\n",
       "      <td>-0.097234</td>\n",
       "      <td>...</td>\n",
       "      <td>0</td>\n",
       "      <td>0</td>\n",
       "      <td>0</td>\n",
       "      <td>0</td>\n",
       "      <td>0</td>\n",
       "      <td>0</td>\n",
       "      <td>0</td>\n",
       "      <td>0</td>\n",
       "      <td>0</td>\n",
       "      <td>0</td>\n",
       "    </tr>\n",
       "    <tr>\n",
       "      <th>3</th>\n",
       "      <td>22.100000</td>\n",
       "      <td>2018-02-01 08:00:00+00:00</td>\n",
       "      <td>-0.563344</td>\n",
       "      <td>0.109907</td>\n",
       "      <td>-0.103034</td>\n",
       "      <td>0.234161</td>\n",
       "      <td>-0.041027</td>\n",
       "      <td>0.229606</td>\n",
       "      <td>-0.581547</td>\n",
       "      <td>-0.097234</td>\n",
       "      <td>...</td>\n",
       "      <td>0</td>\n",
       "      <td>0</td>\n",
       "      <td>0</td>\n",
       "      <td>0</td>\n",
       "      <td>0</td>\n",
       "      <td>0</td>\n",
       "      <td>0</td>\n",
       "      <td>0</td>\n",
       "      <td>0</td>\n",
       "      <td>0</td>\n",
       "    </tr>\n",
       "    <tr>\n",
       "      <th>4</th>\n",
       "      <td>29.800000</td>\n",
       "      <td>2018-02-01 08:00:00+00:00</td>\n",
       "      <td>-0.563344</td>\n",
       "      <td>0.109907</td>\n",
       "      <td>-0.103034</td>\n",
       "      <td>0.234161</td>\n",
       "      <td>-0.041027</td>\n",
       "      <td>0.229606</td>\n",
       "      <td>-0.581547</td>\n",
       "      <td>-0.097234</td>\n",
       "      <td>...</td>\n",
       "      <td>0</td>\n",
       "      <td>0</td>\n",
       "      <td>0</td>\n",
       "      <td>0</td>\n",
       "      <td>0</td>\n",
       "      <td>0</td>\n",
       "      <td>0</td>\n",
       "      <td>0</td>\n",
       "      <td>0</td>\n",
       "      <td>0</td>\n",
       "    </tr>\n",
       "    <tr>\n",
       "      <th>...</th>\n",
       "      <td>...</td>\n",
       "      <td>...</td>\n",
       "      <td>...</td>\n",
       "      <td>...</td>\n",
       "      <td>...</td>\n",
       "      <td>...</td>\n",
       "      <td>...</td>\n",
       "      <td>...</td>\n",
       "      <td>...</td>\n",
       "      <td>...</td>\n",
       "      <td>...</td>\n",
       "      <td>...</td>\n",
       "      <td>...</td>\n",
       "      <td>...</td>\n",
       "      <td>...</td>\n",
       "      <td>...</td>\n",
       "      <td>...</td>\n",
       "      <td>...</td>\n",
       "      <td>...</td>\n",
       "      <td>...</td>\n",
       "      <td>...</td>\n",
       "    </tr>\n",
       "    <tr>\n",
       "      <th>39445</th>\n",
       "      <td>99.512500</td>\n",
       "      <td>2018-04-17 18:30:00+00:00</td>\n",
       "      <td>-0.558915</td>\n",
       "      <td>0.114815</td>\n",
       "      <td>-0.115747</td>\n",
       "      <td>0.257394</td>\n",
       "      <td>-0.049393</td>\n",
       "      <td>0.243800</td>\n",
       "      <td>-0.591163</td>\n",
       "      <td>-0.107679</td>\n",
       "      <td>...</td>\n",
       "      <td>0</td>\n",
       "      <td>0</td>\n",
       "      <td>0</td>\n",
       "      <td>0</td>\n",
       "      <td>0</td>\n",
       "      <td>0</td>\n",
       "      <td>0</td>\n",
       "      <td>0</td>\n",
       "      <td>0</td>\n",
       "      <td>0</td>\n",
       "    </tr>\n",
       "    <tr>\n",
       "      <th>39446</th>\n",
       "      <td>101.068421</td>\n",
       "      <td>2018-04-18 18:30:00+00:00</td>\n",
       "      <td>-0.559187</td>\n",
       "      <td>0.114805</td>\n",
       "      <td>-0.115720</td>\n",
       "      <td>0.257316</td>\n",
       "      <td>-0.049393</td>\n",
       "      <td>0.243815</td>\n",
       "      <td>-0.591383</td>\n",
       "      <td>-0.107631</td>\n",
       "      <td>...</td>\n",
       "      <td>0</td>\n",
       "      <td>0</td>\n",
       "      <td>0</td>\n",
       "      <td>0</td>\n",
       "      <td>0</td>\n",
       "      <td>0</td>\n",
       "      <td>0</td>\n",
       "      <td>0</td>\n",
       "      <td>0</td>\n",
       "      <td>0</td>\n",
       "    </tr>\n",
       "    <tr>\n",
       "      <th>39447</th>\n",
       "      <td>157.216667</td>\n",
       "      <td>2018-04-19 18:30:00+00:00</td>\n",
       "      <td>-0.559288</td>\n",
       "      <td>0.114813</td>\n",
       "      <td>-0.115717</td>\n",
       "      <td>0.257326</td>\n",
       "      <td>-0.049380</td>\n",
       "      <td>0.243832</td>\n",
       "      <td>-0.591478</td>\n",
       "      <td>-0.107641</td>\n",
       "      <td>...</td>\n",
       "      <td>0</td>\n",
       "      <td>0</td>\n",
       "      <td>0</td>\n",
       "      <td>0</td>\n",
       "      <td>0</td>\n",
       "      <td>0</td>\n",
       "      <td>0</td>\n",
       "      <td>0</td>\n",
       "      <td>0</td>\n",
       "      <td>0</td>\n",
       "    </tr>\n",
       "    <tr>\n",
       "      <th>39448</th>\n",
       "      <td>149.870833</td>\n",
       "      <td>2018-04-25 18:30:00+00:00</td>\n",
       "      <td>-0.559169</td>\n",
       "      <td>0.114806</td>\n",
       "      <td>-0.115722</td>\n",
       "      <td>0.257317</td>\n",
       "      <td>-0.049391</td>\n",
       "      <td>0.243812</td>\n",
       "      <td>-0.591365</td>\n",
       "      <td>-0.107633</td>\n",
       "      <td>...</td>\n",
       "      <td>0</td>\n",
       "      <td>0</td>\n",
       "      <td>0</td>\n",
       "      <td>0</td>\n",
       "      <td>0</td>\n",
       "      <td>0</td>\n",
       "      <td>0</td>\n",
       "      <td>0</td>\n",
       "      <td>0</td>\n",
       "      <td>0</td>\n",
       "    </tr>\n",
       "    <tr>\n",
       "      <th>39449</th>\n",
       "      <td>133.960000</td>\n",
       "      <td>2019-01-17 18:30:00+00:00</td>\n",
       "      <td>-0.555606</td>\n",
       "      <td>0.114724</td>\n",
       "      <td>-0.116126</td>\n",
       "      <td>0.257139</td>\n",
       "      <td>-0.049551</td>\n",
       "      <td>0.243193</td>\n",
       "      <td>-0.587944</td>\n",
       "      <td>-0.107578</td>\n",
       "      <td>...</td>\n",
       "      <td>0</td>\n",
       "      <td>0</td>\n",
       "      <td>0</td>\n",
       "      <td>0</td>\n",
       "      <td>0</td>\n",
       "      <td>0</td>\n",
       "      <td>0</td>\n",
       "      <td>0</td>\n",
       "      <td>0</td>\n",
       "      <td>0</td>\n",
       "    </tr>\n",
       "  </tbody>\n",
       "</table>\n",
       "<p>39450 rows × 2119 columns</p>\n",
       "</div>"
      ],
      "text/plain": [
       "            value               datetime_dt  AOD at 0.47 micron_0  \\\n",
       "0       11.400000 2018-02-01 08:00:00+00:00             -0.563344   \n",
       "1       17.000000 2018-02-01 08:00:00+00:00             -0.563344   \n",
       "2       11.100000 2018-02-01 08:00:00+00:00             -0.563344   \n",
       "3       22.100000 2018-02-01 08:00:00+00:00             -0.563344   \n",
       "4       29.800000 2018-02-01 08:00:00+00:00             -0.563344   \n",
       "...           ...                       ...                   ...   \n",
       "39445   99.512500 2018-04-17 18:30:00+00:00             -0.558915   \n",
       "39446  101.068421 2018-04-18 18:30:00+00:00             -0.559187   \n",
       "39447  157.216667 2018-04-19 18:30:00+00:00             -0.559288   \n",
       "39448  149.870833 2018-04-25 18:30:00+00:00             -0.559169   \n",
       "39449  133.960000 2019-01-17 18:30:00+00:00             -0.555606   \n",
       "\n",
       "       AOD at 0.47 micron_1  AOD at 0.47 micron_2  AOD at 0.47 micron_3  \\\n",
       "0                  0.109907             -0.103034              0.234161   \n",
       "1                  0.109907             -0.103034              0.234161   \n",
       "2                  0.109907             -0.103034              0.234161   \n",
       "3                  0.109907             -0.103034              0.234161   \n",
       "4                  0.109907             -0.103034              0.234161   \n",
       "...                     ...                   ...                   ...   \n",
       "39445              0.114815             -0.115747              0.257394   \n",
       "39446              0.114805             -0.115720              0.257316   \n",
       "39447              0.114813             -0.115717              0.257326   \n",
       "39448              0.114806             -0.115722              0.257317   \n",
       "39449              0.114724             -0.116126              0.257139   \n",
       "\n",
       "       AOD at 0.47 micron_4  AOD at 0.47 micron_5  AOD at 0.47 micron_6  \\\n",
       "0                 -0.041027              0.229606             -0.581547   \n",
       "1                 -0.041027              0.229606             -0.581547   \n",
       "2                 -0.041027              0.229606             -0.581547   \n",
       "3                 -0.041027              0.229606             -0.581547   \n",
       "4                 -0.041027              0.229606             -0.581547   \n",
       "...                     ...                   ...                   ...   \n",
       "39445             -0.049393              0.243800             -0.591163   \n",
       "39446             -0.049393              0.243815             -0.591383   \n",
       "39447             -0.049380              0.243832             -0.591478   \n",
       "39448             -0.049391              0.243812             -0.591365   \n",
       "39449             -0.049551              0.243193             -0.587944   \n",
       "\n",
       "       AOD at 0.47 micron_7  ...  VYH7U  WT52R  WZNCR  X5DKW  XJF9O  XNLVD  \\\n",
       "0                 -0.097234  ...      0      0      0      0      0      0   \n",
       "1                 -0.097234  ...      0      0      0      0      0      0   \n",
       "2                 -0.097234  ...      0      0      0      0      0      0   \n",
       "3                 -0.097234  ...      0      0      0      0      0      0   \n",
       "4                 -0.097234  ...      0      0      0      0      0      0   \n",
       "...                     ...  ...    ...    ...    ...    ...    ...    ...   \n",
       "39445             -0.107679  ...      0      0      0      0      0      0   \n",
       "39446             -0.107631  ...      0      0      0      0      0      0   \n",
       "39447             -0.107641  ...      0      0      0      0      0      0   \n",
       "39448             -0.107633  ...      0      0      0      0      0      0   \n",
       "39449             -0.107578  ...      0      0      0      0      0      0   \n",
       "\n",
       "       YHOPV  ZF3ZW  ZP1FZ  ZZ8JF  \n",
       "0          0      0      0      0  \n",
       "1          0      0      0      0  \n",
       "2          0      0      0      0  \n",
       "3          0      0      0      0  \n",
       "4          0      0      0      0  \n",
       "...      ...    ...    ...    ...  \n",
       "39445      0      0      0      0  \n",
       "39446      0      0      0      0  \n",
       "39447      0      0      0      0  \n",
       "39448      0      0      0      0  \n",
       "39449      0      0      0      0  \n",
       "\n",
       "[39450 rows x 2119 columns]"
      ]
     },
     "execution_count": 88,
     "metadata": {},
     "output_type": "execute_result"
    }
   ],
   "source": [
    "df"
   ]
  },
  {
   "cell_type": "code",
   "execution_count": 82,
   "id": "ab08904e",
   "metadata": {},
   "outputs": [],
   "source": [
    "X = df[df.columns[2:]].values"
   ]
  },
  {
   "cell_type": "code",
   "execution_count": 83,
   "id": "64dafcff",
   "metadata": {},
   "outputs": [],
   "source": [
    "y = df[\"value\"].values"
   ]
  },
  {
   "cell_type": "code",
   "execution_count": 84,
   "id": "c0e2fcdd",
   "metadata": {},
   "outputs": [
    {
     "data": {
      "text/plain": [
       "(39450, 2117)"
      ]
     },
     "execution_count": 84,
     "metadata": {},
     "output_type": "execute_result"
    }
   ],
   "source": [
    "X.shape"
   ]
  },
  {
   "cell_type": "code",
   "execution_count": 85,
   "id": "c6519b4f",
   "metadata": {},
   "outputs": [],
   "source": [
    "import torch\n",
    "import torch.optim as optim\n",
    "import torch.nn as nn\n",
    "from torch.utils.data import Dataset, TensorDataset, DataLoader\n",
    "import pytorch_lightning as pl\n",
    "from pytorch_lightning import Trainer\n",
    "# from pytorch_lightning.profiler import Profiler, AdvancedProfiler"
   ]
  },
  {
   "cell_type": "code",
   "execution_count": 86,
   "id": "5e308194",
   "metadata": {},
   "outputs": [],
   "source": [
    "l_rate = 0.3\n",
    "mse_loss = nn.MSELoss(reduction = 'mean')"
   ]
  },
  {
   "cell_type": "code",
   "execution_count": null,
   "id": "9f1d1b17",
   "metadata": {},
   "outputs": [],
   "source": []
  },
  {
   "cell_type": "code",
   "execution_count": 87,
   "id": "661ba3fe",
   "metadata": {},
   "outputs": [],
   "source": [
    "class RegressionDataset(Dataset):\n",
    "    \n",
    "    def __init__(self, X_data, y_data):\n",
    "        self.X_data = X_data\n",
    "        self.y_data = y_data\n",
    "        \n",
    "    def __getitem__(self, index):\n",
    "        return self.X_data[index], self.y_data[index]\n",
    "        \n",
    "    def __len__ (self):\n",
    "        return len(self.X_data)"
   ]
  },
  {
   "cell_type": "code",
   "execution_count": 46,
   "id": "b96936a1",
   "metadata": {},
   "outputs": [],
   "source": [
    "from sklearn.model_selection import train_test_split"
   ]
  },
  {
   "cell_type": "code",
   "execution_count": 47,
   "id": "4fcd8ee0",
   "metadata": {},
   "outputs": [],
   "source": [
    "X_train, X_test, y_train, y_test  = train_test_split(X, y, test_size=0.2, random_state=1)\n",
    "\n",
    "X_train, X_val, y_train, y_val   = train_test_split(X_train, y_train, test_size=0.25, random_state=1) # 0.25 x 0.8 = 0.2"
   ]
  },
  {
   "cell_type": "code",
   "execution_count": 48,
   "id": "9852b62d",
   "metadata": {},
   "outputs": [],
   "source": [
    "from sklearn.preprocessing import MinMaxScaler"
   ]
  },
  {
   "cell_type": "code",
   "execution_count": 49,
   "id": "ede22a3f",
   "metadata": {},
   "outputs": [],
   "source": [
    "# scaler = MinMaxScaler()\n",
    "# X_train = scaler.fit_transform(X_train)\n",
    "# X_val = scaler.transform(X_val)\n",
    "# X_test = scaler.transform(X_test)\n",
    "# X_train, y_train = np.array(X_train), np.array(y_train)\n",
    "# X_val, y_val = np.array(X_val), np.array(y_val)\n",
    "# X_test, y_test = np.array(X_test), np.array(y_test)\n"
   ]
  },
  {
   "cell_type": "code",
   "execution_count": 50,
   "id": "dcdc962e",
   "metadata": {},
   "outputs": [],
   "source": [
    "train_dataset = RegressionDataset(torch.from_numpy(X_train).float(), torch.from_numpy(y_train).float())\n",
    "val_dataset = RegressionDataset(torch.from_numpy(X_val).float(), torch.from_numpy(y_val).float())\n",
    "test_dataset = RegressionDataset(torch.from_numpy(X_test).float(), torch.from_numpy(y_test).float())"
   ]
  },
  {
   "cell_type": "code",
   "execution_count": 51,
   "id": "f33a7626",
   "metadata": {},
   "outputs": [],
   "source": [
    "EPOCHS = 150\n",
    "BATCH_SIZE = 64\n",
    "LEARNING_RATE = 0.001\n",
    "NUM_FEATURES = X.shape[1]"
   ]
  },
  {
   "cell_type": "code",
   "execution_count": 52,
   "id": "be5a53d4",
   "metadata": {},
   "outputs": [],
   "source": [
    "train_loader = DataLoader(dataset=train_dataset, batch_size=BATCH_SIZE, shuffle=True)\n",
    "val_loader = DataLoader(dataset=val_dataset, batch_size=1)\n",
    "test_loader = DataLoader(dataset=test_dataset, batch_size=1)"
   ]
  },
  {
   "cell_type": "code",
   "execution_count": 53,
   "id": "bc2e4d28",
   "metadata": {},
   "outputs": [
    {
     "data": {
      "text/plain": [
       "2117"
      ]
     },
     "execution_count": 53,
     "metadata": {},
     "output_type": "execute_result"
    }
   ],
   "source": [
    "NUM_FEATURES"
   ]
  },
  {
   "cell_type": "code",
   "execution_count": 54,
   "id": "c78190d9",
   "metadata": {},
   "outputs": [
    {
     "data": {
      "text/plain": [
       "device(type='cuda', index=0)"
      ]
     },
     "execution_count": 54,
     "metadata": {},
     "output_type": "execute_result"
    }
   ],
   "source": [
    "device = torch.device(\"cuda:0\" if torch.cuda.is_available() else \"cpu\")\n",
    "device"
   ]
  },
  {
   "cell_type": "code",
   "execution_count": 57,
   "id": "915dfa19",
   "metadata": {},
   "outputs": [
    {
     "data": {
      "text/plain": [
       "Regression(\n",
       "  (fc1): Linear(in_features=2117, out_features=1024, bias=True)\n",
       "  (fc2): Linear(in_features=1024, out_features=512, bias=True)\n",
       "  (fc3): Linear(in_features=512, out_features=256, bias=True)\n",
       "  (fc4): Linear(in_features=256, out_features=128, bias=True)\n",
       "  (fc5): Linear(in_features=128, out_features=64, bias=True)\n",
       "  (f): Linear(in_features=64, out_features=1, bias=True)\n",
       "  (activation): LeakyReLU(negative_slope=0.01)\n",
       ")"
      ]
     },
     "execution_count": 57,
     "metadata": {},
     "output_type": "execute_result"
    }
   ],
   "source": [
    "model = Regression(NUM_FEATURES)\n",
    "model.to(device)"
   ]
  },
  {
   "cell_type": "code",
   "execution_count": 58,
   "id": "6d551de6",
   "metadata": {},
   "outputs": [],
   "source": [
    "criterion = nn.L1Loss()\n",
    "optimizer = optim.Adam(model.parameters(), lr=LEARNING_RATE)"
   ]
  },
  {
   "cell_type": "code",
   "execution_count": 59,
   "id": "f474d832",
   "metadata": {},
   "outputs": [],
   "source": [
    "loss_stats = {\n",
    "    'train': [],\n",
    "    \"val\": []\n",
    "}"
   ]
  },
  {
   "cell_type": "code",
   "execution_count": 60,
   "id": "4778401b",
   "metadata": {},
   "outputs": [],
   "source": [
    "from tqdm import tqdm"
   ]
  },
  {
   "cell_type": "code",
   "execution_count": 61,
   "id": "2566628c",
   "metadata": {
    "scrolled": false
   },
   "outputs": [
    {
     "name": "stdout",
     "output_type": "stream",
     "text": [
      "Begin training.\n"
     ]
    },
    {
     "name": "stderr",
     "output_type": "stream",
     "text": [
      "  1% 1/150 [00:05<12:38,  5.09s/it]"
     ]
    },
    {
     "name": "stdout",
     "output_type": "stream",
     "text": [
      "Epoch 001: | Train Loss: 29.97923 | Val Loss: 29.08948\n"
     ]
    },
    {
     "name": "stderr",
     "output_type": "stream",
     "text": [
      "\r",
      "  1% 2/150 [00:09<11:53,  4.82s/it]"
     ]
    },
    {
     "name": "stdout",
     "output_type": "stream",
     "text": [
      "Epoch 002: | Train Loss: 23.40025 | Val Loss: 19.73352\n"
     ]
    },
    {
     "name": "stderr",
     "output_type": "stream",
     "text": [
      "\r",
      "  2% 3/150 [00:14<11:30,  4.70s/it]"
     ]
    },
    {
     "name": "stdout",
     "output_type": "stream",
     "text": [
      "Epoch 003: | Train Loss: 21.16406 | Val Loss: 24.17988\n"
     ]
    },
    {
     "name": "stderr",
     "output_type": "stream",
     "text": [
      "\r",
      "  3% 4/150 [00:18<11:15,  4.62s/it]"
     ]
    },
    {
     "name": "stdout",
     "output_type": "stream",
     "text": [
      "Epoch 004: | Train Loss: 21.13134 | Val Loss: 21.03787\n"
     ]
    },
    {
     "name": "stderr",
     "output_type": "stream",
     "text": [
      "\r",
      "  3% 5/150 [00:23<11:00,  4.55s/it]"
     ]
    },
    {
     "name": "stdout",
     "output_type": "stream",
     "text": [
      "Epoch 005: | Train Loss: 20.62301 | Val Loss: 20.87435\n"
     ]
    },
    {
     "name": "stderr",
     "output_type": "stream",
     "text": [
      "\r",
      "  4% 6/150 [00:27<10:54,  4.54s/it]"
     ]
    },
    {
     "name": "stdout",
     "output_type": "stream",
     "text": [
      "Epoch 006: | Train Loss: 20.11694 | Val Loss: 21.76469\n"
     ]
    },
    {
     "name": "stderr",
     "output_type": "stream",
     "text": [
      "\r",
      "  5% 7/150 [00:32<10:48,  4.54s/it]"
     ]
    },
    {
     "name": "stdout",
     "output_type": "stream",
     "text": [
      "Epoch 007: | Train Loss: 19.96622 | Val Loss: 19.28591\n"
     ]
    },
    {
     "name": "stderr",
     "output_type": "stream",
     "text": [
      "\r",
      "  5% 8/150 [00:36<10:39,  4.50s/it]"
     ]
    },
    {
     "name": "stdout",
     "output_type": "stream",
     "text": [
      "Epoch 008: | Train Loss: 19.52784 | Val Loss: 18.56416\n"
     ]
    },
    {
     "name": "stderr",
     "output_type": "stream",
     "text": [
      "\r",
      "  6% 9/150 [00:40<10:22,  4.41s/it]"
     ]
    },
    {
     "name": "stdout",
     "output_type": "stream",
     "text": [
      "Epoch 009: | Train Loss: 19.62227 | Val Loss: 18.48141\n"
     ]
    },
    {
     "name": "stderr",
     "output_type": "stream",
     "text": [
      "\r",
      "  7% 10/150 [00:45<10:21,  4.44s/it]"
     ]
    },
    {
     "name": "stdout",
     "output_type": "stream",
     "text": [
      "Epoch 010: | Train Loss: 18.75291 | Val Loss: 17.93741\n"
     ]
    },
    {
     "name": "stderr",
     "output_type": "stream",
     "text": [
      "\r",
      "  7% 11/150 [00:49<10:18,  4.45s/it]"
     ]
    },
    {
     "name": "stdout",
     "output_type": "stream",
     "text": [
      "Epoch 011: | Train Loss: 19.00972 | Val Loss: 20.98157\n"
     ]
    },
    {
     "name": "stderr",
     "output_type": "stream",
     "text": [
      "\r",
      "  8% 12/150 [00:54<10:16,  4.47s/it]"
     ]
    },
    {
     "name": "stdout",
     "output_type": "stream",
     "text": [
      "Epoch 012: | Train Loss: 18.74650 | Val Loss: 18.18029\n"
     ]
    },
    {
     "name": "stderr",
     "output_type": "stream",
     "text": [
      "\r",
      "  9% 13/150 [00:58<10:13,  4.47s/it]"
     ]
    },
    {
     "name": "stdout",
     "output_type": "stream",
     "text": [
      "Epoch 013: | Train Loss: 18.30520 | Val Loss: 18.08126\n"
     ]
    },
    {
     "name": "stderr",
     "output_type": "stream",
     "text": [
      "\r",
      "  9% 14/150 [01:03<10:07,  4.47s/it]"
     ]
    },
    {
     "name": "stdout",
     "output_type": "stream",
     "text": [
      "Epoch 014: | Train Loss: 18.65833 | Val Loss: 17.11281\n"
     ]
    },
    {
     "name": "stderr",
     "output_type": "stream",
     "text": [
      "\r",
      " 10% 15/150 [01:07<10:04,  4.48s/it]"
     ]
    },
    {
     "name": "stdout",
     "output_type": "stream",
     "text": [
      "Epoch 015: | Train Loss: 18.17034 | Val Loss: 17.07327\n"
     ]
    },
    {
     "name": "stderr",
     "output_type": "stream",
     "text": [
      "\r",
      " 11% 16/150 [01:12<10:01,  4.49s/it]"
     ]
    },
    {
     "name": "stdout",
     "output_type": "stream",
     "text": [
      "Epoch 016: | Train Loss: 17.37812 | Val Loss: 16.98938\n"
     ]
    },
    {
     "name": "stderr",
     "output_type": "stream",
     "text": [
      "\r",
      " 11% 17/150 [01:16<09:58,  4.50s/it]"
     ]
    },
    {
     "name": "stdout",
     "output_type": "stream",
     "text": [
      "Epoch 017: | Train Loss: 18.03360 | Val Loss: 16.80006\n"
     ]
    },
    {
     "name": "stderr",
     "output_type": "stream",
     "text": [
      "\r",
      " 12% 18/150 [01:21<09:57,  4.52s/it]"
     ]
    },
    {
     "name": "stdout",
     "output_type": "stream",
     "text": [
      "Epoch 018: | Train Loss: 17.32727 | Val Loss: 17.24172\n"
     ]
    },
    {
     "name": "stderr",
     "output_type": "stream",
     "text": [
      "\r",
      " 13% 19/150 [01:25<09:53,  4.53s/it]"
     ]
    },
    {
     "name": "stdout",
     "output_type": "stream",
     "text": [
      "Epoch 019: | Train Loss: 17.22586 | Val Loss: 18.56899\n"
     ]
    },
    {
     "name": "stderr",
     "output_type": "stream",
     "text": [
      "\r",
      " 13% 20/150 [01:30<09:44,  4.50s/it]"
     ]
    },
    {
     "name": "stdout",
     "output_type": "stream",
     "text": [
      "Epoch 020: | Train Loss: 16.71318 | Val Loss: 17.00245\n"
     ]
    },
    {
     "name": "stderr",
     "output_type": "stream",
     "text": [
      "\r",
      " 14% 21/150 [01:34<09:36,  4.47s/it]"
     ]
    },
    {
     "name": "stdout",
     "output_type": "stream",
     "text": [
      "Epoch 021: | Train Loss: 16.96314 | Val Loss: 15.78919\n"
     ]
    },
    {
     "name": "stderr",
     "output_type": "stream",
     "text": [
      "\r",
      " 15% 22/150 [01:39<09:30,  4.46s/it]"
     ]
    },
    {
     "name": "stdout",
     "output_type": "stream",
     "text": [
      "Epoch 022: | Train Loss: 16.40839 | Val Loss: 15.55481\n"
     ]
    },
    {
     "name": "stderr",
     "output_type": "stream",
     "text": [
      "\r",
      " 15% 23/150 [01:43<09:26,  4.46s/it]"
     ]
    },
    {
     "name": "stdout",
     "output_type": "stream",
     "text": [
      "Epoch 023: | Train Loss: 16.34332 | Val Loss: 15.40578\n"
     ]
    },
    {
     "name": "stderr",
     "output_type": "stream",
     "text": [
      "\r",
      " 16% 24/150 [01:48<09:22,  4.47s/it]"
     ]
    },
    {
     "name": "stdout",
     "output_type": "stream",
     "text": [
      "Epoch 024: | Train Loss: 16.23222 | Val Loss: 16.10066\n"
     ]
    },
    {
     "name": "stderr",
     "output_type": "stream",
     "text": [
      "\r",
      " 17% 25/150 [01:52<09:19,  4.48s/it]"
     ]
    },
    {
     "name": "stdout",
     "output_type": "stream",
     "text": [
      "Epoch 025: | Train Loss: 16.04987 | Val Loss: 16.72383\n"
     ]
    },
    {
     "name": "stderr",
     "output_type": "stream",
     "text": [
      "\r",
      " 17% 26/150 [01:57<09:15,  4.48s/it]"
     ]
    },
    {
     "name": "stdout",
     "output_type": "stream",
     "text": [
      "Epoch 026: | Train Loss: 15.89860 | Val Loss: 15.32388\n"
     ]
    },
    {
     "name": "stderr",
     "output_type": "stream",
     "text": [
      "\r",
      " 18% 27/150 [02:01<09:11,  4.49s/it]"
     ]
    },
    {
     "name": "stdout",
     "output_type": "stream",
     "text": [
      "Epoch 027: | Train Loss: 15.63659 | Val Loss: 16.23913\n"
     ]
    },
    {
     "name": "stderr",
     "output_type": "stream",
     "text": [
      "\r",
      " 19% 28/150 [02:06<09:07,  4.49s/it]"
     ]
    },
    {
     "name": "stdout",
     "output_type": "stream",
     "text": [
      "Epoch 028: | Train Loss: 15.54004 | Val Loss: 15.55573\n"
     ]
    },
    {
     "name": "stderr",
     "output_type": "stream",
     "text": [
      "\r",
      " 19% 29/150 [02:10<09:04,  4.50s/it]"
     ]
    },
    {
     "name": "stdout",
     "output_type": "stream",
     "text": [
      "Epoch 029: | Train Loss: 15.61685 | Val Loss: 15.88218\n"
     ]
    },
    {
     "name": "stderr",
     "output_type": "stream",
     "text": [
      "\r",
      " 20% 30/150 [02:15<08:59,  4.49s/it]"
     ]
    },
    {
     "name": "stdout",
     "output_type": "stream",
     "text": [
      "Epoch 030: | Train Loss: 15.34560 | Val Loss: 15.00842\n"
     ]
    },
    {
     "name": "stderr",
     "output_type": "stream",
     "text": [
      "\r",
      " 21% 31/150 [02:19<08:53,  4.48s/it]"
     ]
    },
    {
     "name": "stdout",
     "output_type": "stream",
     "text": [
      "Epoch 031: | Train Loss: 14.94254 | Val Loss: 14.24865\n"
     ]
    },
    {
     "name": "stderr",
     "output_type": "stream",
     "text": [
      "\r",
      " 21% 32/150 [02:24<08:49,  4.48s/it]"
     ]
    },
    {
     "name": "stdout",
     "output_type": "stream",
     "text": [
      "Epoch 032: | Train Loss: 14.91992 | Val Loss: 14.92815\n"
     ]
    },
    {
     "name": "stderr",
     "output_type": "stream",
     "text": [
      "\r",
      " 22% 33/150 [02:28<08:44,  4.48s/it]"
     ]
    },
    {
     "name": "stdout",
     "output_type": "stream",
     "text": [
      "Epoch 033: | Train Loss: 15.11424 | Val Loss: 14.21727\n"
     ]
    },
    {
     "name": "stderr",
     "output_type": "stream",
     "text": [
      "\r",
      " 23% 34/150 [02:33<08:39,  4.48s/it]"
     ]
    },
    {
     "name": "stdout",
     "output_type": "stream",
     "text": [
      "Epoch 034: | Train Loss: 14.51164 | Val Loss: 17.13564\n"
     ]
    },
    {
     "name": "stderr",
     "output_type": "stream",
     "text": [
      "\r",
      " 23% 35/150 [02:37<08:35,  4.48s/it]"
     ]
    },
    {
     "name": "stdout",
     "output_type": "stream",
     "text": [
      "Epoch 035: | Train Loss: 14.91024 | Val Loss: 15.80181\n"
     ]
    },
    {
     "name": "stderr",
     "output_type": "stream",
     "text": [
      "\r",
      " 24% 36/150 [02:42<08:31,  4.49s/it]"
     ]
    },
    {
     "name": "stdout",
     "output_type": "stream",
     "text": [
      "Epoch 036: | Train Loss: 14.45445 | Val Loss: 13.76332\n"
     ]
    },
    {
     "name": "stderr",
     "output_type": "stream",
     "text": [
      "\r",
      " 25% 37/150 [02:46<08:27,  4.49s/it]"
     ]
    },
    {
     "name": "stdout",
     "output_type": "stream",
     "text": [
      "Epoch 037: | Train Loss: 14.27081 | Val Loss: 14.69377\n"
     ]
    },
    {
     "name": "stderr",
     "output_type": "stream",
     "text": [
      "\r",
      " 25% 38/150 [02:51<08:23,  4.50s/it]"
     ]
    },
    {
     "name": "stdout",
     "output_type": "stream",
     "text": [
      "Epoch 038: | Train Loss: 14.32321 | Val Loss: 13.45631\n"
     ]
    },
    {
     "name": "stderr",
     "output_type": "stream",
     "text": [
      "\r",
      " 26% 39/150 [02:55<08:18,  4.49s/it]"
     ]
    },
    {
     "name": "stdout",
     "output_type": "stream",
     "text": [
      "Epoch 039: | Train Loss: 14.08493 | Val Loss: 14.42651\n"
     ]
    },
    {
     "name": "stderr",
     "output_type": "stream",
     "text": [
      "\r",
      " 27% 40/150 [03:00<08:13,  4.49s/it]"
     ]
    },
    {
     "name": "stdout",
     "output_type": "stream",
     "text": [
      "Epoch 040: | Train Loss: 14.07114 | Val Loss: 13.95089\n"
     ]
    },
    {
     "name": "stderr",
     "output_type": "stream",
     "text": [
      "\r",
      " 27% 41/150 [03:04<08:08,  4.48s/it]"
     ]
    },
    {
     "name": "stdout",
     "output_type": "stream",
     "text": [
      "Epoch 041: | Train Loss: 13.85389 | Val Loss: 13.96399\n"
     ]
    },
    {
     "name": "stderr",
     "output_type": "stream",
     "text": [
      "\r",
      " 28% 42/150 [03:08<08:04,  4.48s/it]"
     ]
    },
    {
     "name": "stdout",
     "output_type": "stream",
     "text": [
      "Epoch 042: | Train Loss: 13.59132 | Val Loss: 17.34770\n"
     ]
    },
    {
     "name": "stderr",
     "output_type": "stream",
     "text": [
      "\r",
      " 29% 43/150 [03:13<07:59,  4.48s/it]"
     ]
    },
    {
     "name": "stdout",
     "output_type": "stream",
     "text": [
      "Epoch 043: | Train Loss: 13.34123 | Val Loss: 14.61558\n"
     ]
    },
    {
     "name": "stderr",
     "output_type": "stream",
     "text": [
      "\r",
      " 29% 44/150 [03:17<07:55,  4.49s/it]"
     ]
    },
    {
     "name": "stdout",
     "output_type": "stream",
     "text": [
      "Epoch 044: | Train Loss: 13.49810 | Val Loss: 13.80201\n"
     ]
    },
    {
     "name": "stderr",
     "output_type": "stream",
     "text": [
      "\r",
      " 30% 45/150 [03:22<07:48,  4.47s/it]"
     ]
    },
    {
     "name": "stdout",
     "output_type": "stream",
     "text": [
      "Epoch 045: | Train Loss: 13.47176 | Val Loss: 13.19108\n"
     ]
    },
    {
     "name": "stderr",
     "output_type": "stream",
     "text": [
      "\r",
      " 31% 46/150 [03:26<07:42,  4.44s/it]"
     ]
    },
    {
     "name": "stdout",
     "output_type": "stream",
     "text": [
      "Epoch 046: | Train Loss: 13.38355 | Val Loss: 18.57901\n"
     ]
    },
    {
     "name": "stderr",
     "output_type": "stream",
     "text": [
      "\r",
      " 31% 47/150 [03:31<07:39,  4.46s/it]"
     ]
    },
    {
     "name": "stdout",
     "output_type": "stream",
     "text": [
      "Epoch 047: | Train Loss: 13.25577 | Val Loss: 14.48380\n"
     ]
    },
    {
     "name": "stderr",
     "output_type": "stream",
     "text": [
      "\r",
      " 32% 48/150 [03:35<07:35,  4.47s/it]"
     ]
    },
    {
     "name": "stdout",
     "output_type": "stream",
     "text": [
      "Epoch 048: | Train Loss: 13.34718 | Val Loss: 13.27292\n"
     ]
    },
    {
     "name": "stderr",
     "output_type": "stream",
     "text": [
      "\r",
      " 33% 49/150 [03:40<07:29,  4.45s/it]"
     ]
    },
    {
     "name": "stdout",
     "output_type": "stream",
     "text": [
      "Epoch 049: | Train Loss: 13.08842 | Val Loss: 13.91190\n"
     ]
    },
    {
     "name": "stderr",
     "output_type": "stream",
     "text": [
      "\r",
      " 33% 50/150 [03:44<07:25,  4.45s/it]"
     ]
    },
    {
     "name": "stdout",
     "output_type": "stream",
     "text": [
      "Epoch 050: | Train Loss: 12.73304 | Val Loss: 13.44010\n"
     ]
    },
    {
     "name": "stderr",
     "output_type": "stream",
     "text": [
      "\r",
      " 34% 51/150 [03:49<07:22,  4.47s/it]"
     ]
    },
    {
     "name": "stdout",
     "output_type": "stream",
     "text": [
      "Epoch 051: | Train Loss: 12.90439 | Val Loss: 12.52606\n"
     ]
    },
    {
     "name": "stderr",
     "output_type": "stream",
     "text": [
      "\r",
      " 35% 52/150 [03:53<07:20,  4.49s/it]"
     ]
    },
    {
     "name": "stdout",
     "output_type": "stream",
     "text": [
      "Epoch 052: | Train Loss: 12.62774 | Val Loss: 13.19968\n"
     ]
    },
    {
     "name": "stderr",
     "output_type": "stream",
     "text": [
      "\r",
      " 35% 53/150 [03:58<07:12,  4.46s/it]"
     ]
    },
    {
     "name": "stdout",
     "output_type": "stream",
     "text": [
      "Epoch 053: | Train Loss: 12.88329 | Val Loss: 12.95786\n"
     ]
    },
    {
     "name": "stderr",
     "output_type": "stream",
     "text": [
      "\r",
      " 36% 54/150 [04:02<07:09,  4.47s/it]"
     ]
    },
    {
     "name": "stdout",
     "output_type": "stream",
     "text": [
      "Epoch 054: | Train Loss: 12.61290 | Val Loss: 14.35107\n"
     ]
    },
    {
     "name": "stderr",
     "output_type": "stream",
     "text": [
      "\r",
      " 37% 55/150 [04:07<07:05,  4.48s/it]"
     ]
    },
    {
     "name": "stdout",
     "output_type": "stream",
     "text": [
      "Epoch 055: | Train Loss: 12.41666 | Val Loss: 13.39060\n"
     ]
    },
    {
     "name": "stderr",
     "output_type": "stream",
     "text": [
      "\r",
      " 37% 56/150 [04:11<07:00,  4.47s/it]"
     ]
    },
    {
     "name": "stdout",
     "output_type": "stream",
     "text": [
      "Epoch 056: | Train Loss: 12.27741 | Val Loss: 13.76102\n"
     ]
    },
    {
     "name": "stderr",
     "output_type": "stream",
     "text": [
      "\r",
      " 38% 57/150 [04:15<06:53,  4.45s/it]"
     ]
    },
    {
     "name": "stdout",
     "output_type": "stream",
     "text": [
      "Epoch 057: | Train Loss: 12.38774 | Val Loss: 13.35450\n"
     ]
    },
    {
     "name": "stderr",
     "output_type": "stream",
     "text": [
      "\r",
      " 39% 58/150 [04:20<06:48,  4.44s/it]"
     ]
    },
    {
     "name": "stdout",
     "output_type": "stream",
     "text": [
      "Epoch 058: | Train Loss: 12.08900 | Val Loss: 13.72602\n"
     ]
    },
    {
     "name": "stderr",
     "output_type": "stream",
     "text": [
      "\r",
      " 39% 59/150 [04:24<06:45,  4.45s/it]"
     ]
    },
    {
     "name": "stdout",
     "output_type": "stream",
     "text": [
      "Epoch 059: | Train Loss: 12.09540 | Val Loss: 12.19605\n"
     ]
    },
    {
     "name": "stderr",
     "output_type": "stream",
     "text": [
      "\r",
      " 40% 60/150 [04:29<06:39,  4.44s/it]"
     ]
    },
    {
     "name": "stdout",
     "output_type": "stream",
     "text": [
      "Epoch 060: | Train Loss: 12.00809 | Val Loss: 13.71930\n"
     ]
    },
    {
     "name": "stderr",
     "output_type": "stream",
     "text": [
      "\r",
      " 41% 61/150 [04:33<06:36,  4.46s/it]"
     ]
    },
    {
     "name": "stdout",
     "output_type": "stream",
     "text": [
      "Epoch 061: | Train Loss: 12.27658 | Val Loss: 13.48561\n"
     ]
    },
    {
     "name": "stderr",
     "output_type": "stream",
     "text": [
      "\r",
      " 41% 62/150 [04:38<06:33,  4.47s/it]"
     ]
    },
    {
     "name": "stdout",
     "output_type": "stream",
     "text": [
      "Epoch 062: | Train Loss: 11.82139 | Val Loss: 12.64440\n"
     ]
    },
    {
     "name": "stderr",
     "output_type": "stream",
     "text": [
      "\r",
      " 42% 63/150 [04:42<06:28,  4.47s/it]"
     ]
    },
    {
     "name": "stdout",
     "output_type": "stream",
     "text": [
      "Epoch 063: | Train Loss: 11.87189 | Val Loss: 12.16668\n"
     ]
    },
    {
     "name": "stderr",
     "output_type": "stream",
     "text": [
      "\r",
      " 43% 64/150 [04:47<06:24,  4.47s/it]"
     ]
    },
    {
     "name": "stdout",
     "output_type": "stream",
     "text": [
      "Epoch 064: | Train Loss: 11.69714 | Val Loss: 14.00669\n"
     ]
    },
    {
     "name": "stderr",
     "output_type": "stream",
     "text": [
      "\r",
      " 43% 65/150 [04:51<06:20,  4.47s/it]"
     ]
    },
    {
     "name": "stdout",
     "output_type": "stream",
     "text": [
      "Epoch 065: | Train Loss: 11.65541 | Val Loss: 12.19291\n"
     ]
    },
    {
     "name": "stderr",
     "output_type": "stream",
     "text": [
      "\r",
      " 44% 66/150 [04:56<06:15,  4.47s/it]"
     ]
    },
    {
     "name": "stdout",
     "output_type": "stream",
     "text": [
      "Epoch 066: | Train Loss: 11.66326 | Val Loss: 12.79019\n"
     ]
    },
    {
     "name": "stderr",
     "output_type": "stream",
     "text": [
      "\r",
      " 45% 67/150 [05:00<06:11,  4.47s/it]"
     ]
    },
    {
     "name": "stdout",
     "output_type": "stream",
     "text": [
      "Epoch 067: | Train Loss: 11.62911 | Val Loss: 12.06381\n"
     ]
    },
    {
     "name": "stderr",
     "output_type": "stream",
     "text": [
      "\r",
      " 45% 68/150 [05:05<06:07,  4.49s/it]"
     ]
    },
    {
     "name": "stdout",
     "output_type": "stream",
     "text": [
      "Epoch 068: | Train Loss: 11.35788 | Val Loss: 11.37045\n"
     ]
    },
    {
     "name": "stderr",
     "output_type": "stream",
     "text": [
      "\r",
      " 46% 69/150 [05:09<06:03,  4.49s/it]"
     ]
    },
    {
     "name": "stdout",
     "output_type": "stream",
     "text": [
      "Epoch 069: | Train Loss: 11.31773 | Val Loss: 12.54821\n"
     ]
    },
    {
     "name": "stderr",
     "output_type": "stream",
     "text": [
      "\r",
      " 47% 70/150 [05:14<05:59,  4.49s/it]"
     ]
    },
    {
     "name": "stdout",
     "output_type": "stream",
     "text": [
      "Epoch 070: | Train Loss: 11.36615 | Val Loss: 11.79772\n"
     ]
    },
    {
     "name": "stderr",
     "output_type": "stream",
     "text": [
      "\r",
      " 47% 71/150 [05:18<05:53,  4.48s/it]"
     ]
    },
    {
     "name": "stdout",
     "output_type": "stream",
     "text": [
      "Epoch 071: | Train Loss: 11.20356 | Val Loss: 11.21417\n"
     ]
    },
    {
     "name": "stderr",
     "output_type": "stream",
     "text": [
      "\r",
      " 48% 72/150 [05:23<05:50,  4.50s/it]"
     ]
    },
    {
     "name": "stdout",
     "output_type": "stream",
     "text": [
      "Epoch 072: | Train Loss: 11.26844 | Val Loss: 11.55735\n"
     ]
    },
    {
     "name": "stderr",
     "output_type": "stream",
     "text": [
      "\r",
      " 49% 73/150 [05:27<05:43,  4.45s/it]"
     ]
    },
    {
     "name": "stdout",
     "output_type": "stream",
     "text": [
      "Epoch 073: | Train Loss: 11.20842 | Val Loss: 11.46580\n"
     ]
    },
    {
     "name": "stderr",
     "output_type": "stream",
     "text": [
      "\r",
      " 49% 74/150 [05:31<05:38,  4.46s/it]"
     ]
    },
    {
     "name": "stdout",
     "output_type": "stream",
     "text": [
      "Epoch 074: | Train Loss: 11.10377 | Val Loss: 11.15965\n"
     ]
    },
    {
     "name": "stderr",
     "output_type": "stream",
     "text": [
      "\r",
      " 50% 75/150 [05:36<05:34,  4.46s/it]"
     ]
    },
    {
     "name": "stdout",
     "output_type": "stream",
     "text": [
      "Epoch 075: | Train Loss: 11.00813 | Val Loss: 11.20308\n"
     ]
    },
    {
     "name": "stderr",
     "output_type": "stream",
     "text": [
      "\r",
      " 51% 76/150 [05:40<05:31,  4.48s/it]"
     ]
    },
    {
     "name": "stdout",
     "output_type": "stream",
     "text": [
      "Epoch 076: | Train Loss: 11.16797 | Val Loss: 11.65211\n"
     ]
    },
    {
     "name": "stderr",
     "output_type": "stream",
     "text": [
      "\r",
      " 51% 77/150 [05:45<05:24,  4.45s/it]"
     ]
    },
    {
     "name": "stdout",
     "output_type": "stream",
     "text": [
      "Epoch 077: | Train Loss: 10.95881 | Val Loss: 11.68633\n"
     ]
    },
    {
     "name": "stderr",
     "output_type": "stream",
     "text": [
      "\r",
      " 52% 78/150 [05:49<05:21,  4.47s/it]"
     ]
    },
    {
     "name": "stdout",
     "output_type": "stream",
     "text": [
      "Epoch 078: | Train Loss: 10.88820 | Val Loss: 11.99067\n"
     ]
    },
    {
     "name": "stderr",
     "output_type": "stream",
     "text": [
      "\r",
      " 53% 79/150 [05:54<05:17,  4.48s/it]"
     ]
    },
    {
     "name": "stdout",
     "output_type": "stream",
     "text": [
      "Epoch 079: | Train Loss: 10.84448 | Val Loss: 11.47951\n"
     ]
    },
    {
     "name": "stderr",
     "output_type": "stream",
     "text": [
      "\r",
      " 53% 80/150 [05:58<05:13,  4.47s/it]"
     ]
    },
    {
     "name": "stdout",
     "output_type": "stream",
     "text": [
      "Epoch 080: | Train Loss: 10.64969 | Val Loss: 11.35238\n"
     ]
    },
    {
     "name": "stderr",
     "output_type": "stream",
     "text": [
      "\r",
      " 54% 81/150 [06:03<05:07,  4.45s/it]"
     ]
    },
    {
     "name": "stdout",
     "output_type": "stream",
     "text": [
      "Epoch 081: | Train Loss: 10.80858 | Val Loss: 11.45232\n"
     ]
    },
    {
     "name": "stderr",
     "output_type": "stream",
     "text": [
      "\r",
      " 55% 82/150 [06:07<05:03,  4.46s/it]"
     ]
    },
    {
     "name": "stdout",
     "output_type": "stream",
     "text": [
      "Epoch 082: | Train Loss: 10.48325 | Val Loss: 11.56569\n"
     ]
    },
    {
     "name": "stderr",
     "output_type": "stream",
     "text": [
      "\r",
      " 55% 83/150 [06:12<04:58,  4.46s/it]"
     ]
    },
    {
     "name": "stdout",
     "output_type": "stream",
     "text": [
      "Epoch 083: | Train Loss: 10.64073 | Val Loss: 11.43889\n"
     ]
    },
    {
     "name": "stderr",
     "output_type": "stream",
     "text": [
      "\r",
      " 56% 84/150 [06:16<04:55,  4.48s/it]"
     ]
    },
    {
     "name": "stdout",
     "output_type": "stream",
     "text": [
      "Epoch 084: | Train Loss: 10.74416 | Val Loss: 11.07476\n"
     ]
    },
    {
     "name": "stderr",
     "output_type": "stream",
     "text": [
      "\r",
      " 57% 85/150 [06:21<04:51,  4.49s/it]"
     ]
    },
    {
     "name": "stdout",
     "output_type": "stream",
     "text": [
      "Epoch 085: | Train Loss: 10.69619 | Val Loss: 11.44737\n"
     ]
    },
    {
     "name": "stderr",
     "output_type": "stream",
     "text": [
      "\r",
      " 57% 86/150 [06:25<04:47,  4.49s/it]"
     ]
    },
    {
     "name": "stdout",
     "output_type": "stream",
     "text": [
      "Epoch 086: | Train Loss: 10.53253 | Val Loss: 10.93752\n"
     ]
    },
    {
     "name": "stderr",
     "output_type": "stream",
     "text": [
      "\r",
      " 58% 87/150 [06:30<04:42,  4.49s/it]"
     ]
    },
    {
     "name": "stdout",
     "output_type": "stream",
     "text": [
      "Epoch 087: | Train Loss: 10.48714 | Val Loss: 12.18268\n"
     ]
    },
    {
     "name": "stderr",
     "output_type": "stream",
     "text": [
      "\r",
      " 59% 88/150 [06:34<04:35,  4.45s/it]"
     ]
    },
    {
     "name": "stdout",
     "output_type": "stream",
     "text": [
      "Epoch 088: | Train Loss: 10.37889 | Val Loss: 11.50918\n"
     ]
    },
    {
     "name": "stderr",
     "output_type": "stream",
     "text": [
      "\r",
      " 59% 89/150 [06:38<04:31,  4.45s/it]"
     ]
    },
    {
     "name": "stdout",
     "output_type": "stream",
     "text": [
      "Epoch 089: | Train Loss: 10.25820 | Val Loss: 10.66071\n"
     ]
    },
    {
     "name": "stderr",
     "output_type": "stream",
     "text": [
      "\r",
      " 60% 90/150 [06:43<04:27,  4.46s/it]"
     ]
    },
    {
     "name": "stdout",
     "output_type": "stream",
     "text": [
      "Epoch 090: | Train Loss: 10.36119 | Val Loss: 10.92912\n"
     ]
    },
    {
     "name": "stderr",
     "output_type": "stream",
     "text": [
      "\r",
      " 61% 91/150 [06:47<04:23,  4.46s/it]"
     ]
    },
    {
     "name": "stdout",
     "output_type": "stream",
     "text": [
      "Epoch 091: | Train Loss: 10.06066 | Val Loss: 10.66298\n"
     ]
    },
    {
     "name": "stderr",
     "output_type": "stream",
     "text": [
      "\r",
      " 61% 92/150 [06:52<04:19,  4.48s/it]"
     ]
    },
    {
     "name": "stdout",
     "output_type": "stream",
     "text": [
      "Epoch 092: | Train Loss: 10.14129 | Val Loss: 10.57656\n"
     ]
    },
    {
     "name": "stderr",
     "output_type": "stream",
     "text": [
      "\r",
      " 62% 93/150 [06:56<04:15,  4.48s/it]"
     ]
    },
    {
     "name": "stdout",
     "output_type": "stream",
     "text": [
      "Epoch 093: | Train Loss: 10.22147 | Val Loss: 10.71473\n"
     ]
    },
    {
     "name": "stderr",
     "output_type": "stream",
     "text": [
      "\r",
      " 63% 94/150 [07:01<04:11,  4.49s/it]"
     ]
    },
    {
     "name": "stdout",
     "output_type": "stream",
     "text": [
      "Epoch 094: | Train Loss: 10.19485 | Val Loss: 10.68780\n"
     ]
    },
    {
     "name": "stderr",
     "output_type": "stream",
     "text": [
      "\r",
      " 63% 95/150 [07:05<04:06,  4.48s/it]"
     ]
    },
    {
     "name": "stdout",
     "output_type": "stream",
     "text": [
      "Epoch 095: | Train Loss: 9.91966 | Val Loss: 10.67958\n"
     ]
    },
    {
     "name": "stderr",
     "output_type": "stream",
     "text": [
      "\r",
      " 64% 96/150 [07:10<04:01,  4.48s/it]"
     ]
    },
    {
     "name": "stdout",
     "output_type": "stream",
     "text": [
      "Epoch 096: | Train Loss: 10.06859 | Val Loss: 10.67547\n"
     ]
    },
    {
     "name": "stderr",
     "output_type": "stream",
     "text": [
      "\r",
      " 65% 97/150 [07:14<03:55,  4.45s/it]"
     ]
    },
    {
     "name": "stdout",
     "output_type": "stream",
     "text": [
      "Epoch 097: | Train Loss: 10.06555 | Val Loss: 11.01781\n"
     ]
    },
    {
     "name": "stderr",
     "output_type": "stream",
     "text": [
      "\r",
      " 65% 98/150 [07:19<03:51,  4.46s/it]"
     ]
    },
    {
     "name": "stdout",
     "output_type": "stream",
     "text": [
      "Epoch 098: | Train Loss: 9.96593 | Val Loss: 11.59207\n"
     ]
    },
    {
     "name": "stderr",
     "output_type": "stream",
     "text": [
      "\r",
      " 66% 99/150 [07:23<03:48,  4.47s/it]"
     ]
    },
    {
     "name": "stdout",
     "output_type": "stream",
     "text": [
      "Epoch 099: | Train Loss: 9.96749 | Val Loss: 11.10612\n"
     ]
    },
    {
     "name": "stderr",
     "output_type": "stream",
     "text": [
      "\r",
      " 67% 100/150 [07:28<03:43,  4.47s/it]"
     ]
    },
    {
     "name": "stdout",
     "output_type": "stream",
     "text": [
      "Epoch 100: | Train Loss: 10.05673 | Val Loss: 10.71034\n"
     ]
    },
    {
     "name": "stderr",
     "output_type": "stream",
     "text": [
      "\r",
      " 67% 101/150 [07:32<03:39,  4.47s/it]"
     ]
    },
    {
     "name": "stdout",
     "output_type": "stream",
     "text": [
      "Epoch 101: | Train Loss: 9.90549 | Val Loss: 10.36336\n"
     ]
    },
    {
     "name": "stderr",
     "output_type": "stream",
     "text": [
      "\r",
      " 68% 102/150 [07:37<03:34,  4.48s/it]"
     ]
    },
    {
     "name": "stdout",
     "output_type": "stream",
     "text": [
      "Epoch 102: | Train Loss: 9.85102 | Val Loss: 11.36326\n"
     ]
    },
    {
     "name": "stderr",
     "output_type": "stream",
     "text": [
      "\r",
      " 69% 103/150 [07:41<03:30,  4.48s/it]"
     ]
    },
    {
     "name": "stdout",
     "output_type": "stream",
     "text": [
      "Epoch 103: | Train Loss: 9.75167 | Val Loss: 10.49545\n"
     ]
    },
    {
     "name": "stderr",
     "output_type": "stream",
     "text": [
      "\r",
      " 69% 104/150 [07:46<03:25,  4.48s/it]"
     ]
    },
    {
     "name": "stdout",
     "output_type": "stream",
     "text": [
      "Epoch 104: | Train Loss: 9.73751 | Val Loss: 10.42115\n"
     ]
    },
    {
     "name": "stderr",
     "output_type": "stream",
     "text": [
      "\r",
      " 70% 105/150 [07:50<03:21,  4.47s/it]"
     ]
    },
    {
     "name": "stdout",
     "output_type": "stream",
     "text": [
      "Epoch 105: | Train Loss: 9.83196 | Val Loss: 11.59533\n"
     ]
    },
    {
     "name": "stderr",
     "output_type": "stream",
     "text": [
      "\r",
      " 71% 106/150 [07:54<03:16,  4.47s/it]"
     ]
    },
    {
     "name": "stdout",
     "output_type": "stream",
     "text": [
      "Epoch 106: | Train Loss: 9.71546 | Val Loss: 10.60035\n"
     ]
    },
    {
     "name": "stderr",
     "output_type": "stream",
     "text": [
      "\r",
      " 71% 107/150 [07:59<03:12,  4.48s/it]"
     ]
    },
    {
     "name": "stdout",
     "output_type": "stream",
     "text": [
      "Epoch 107: | Train Loss: 9.66995 | Val Loss: 10.77619\n"
     ]
    },
    {
     "name": "stderr",
     "output_type": "stream",
     "text": [
      "\r",
      " 72% 108/150 [08:03<03:08,  4.49s/it]"
     ]
    },
    {
     "name": "stdout",
     "output_type": "stream",
     "text": [
      "Epoch 108: | Train Loss: 9.61414 | Val Loss: 11.59088\n"
     ]
    },
    {
     "name": "stderr",
     "output_type": "stream",
     "text": [
      "\r",
      " 73% 109/150 [08:08<03:03,  4.49s/it]"
     ]
    },
    {
     "name": "stdout",
     "output_type": "stream",
     "text": [
      "Epoch 109: | Train Loss: 9.60305 | Val Loss: 10.62585\n"
     ]
    },
    {
     "name": "stderr",
     "output_type": "stream",
     "text": [
      "\r",
      " 73% 110/150 [08:12<02:59,  4.49s/it]"
     ]
    },
    {
     "name": "stdout",
     "output_type": "stream",
     "text": [
      "Epoch 110: | Train Loss: 9.58221 | Val Loss: 11.13315\n"
     ]
    },
    {
     "name": "stderr",
     "output_type": "stream",
     "text": [
      "\r",
      " 74% 111/150 [08:17<02:55,  4.50s/it]"
     ]
    },
    {
     "name": "stdout",
     "output_type": "stream",
     "text": [
      "Epoch 111: | Train Loss: 9.44683 | Val Loss: 11.18498\n"
     ]
    },
    {
     "name": "stderr",
     "output_type": "stream",
     "text": [
      "\r",
      " 75% 112/150 [08:21<02:50,  4.48s/it]"
     ]
    },
    {
     "name": "stdout",
     "output_type": "stream",
     "text": [
      "Epoch 112: | Train Loss: 9.55582 | Val Loss: 10.45469\n"
     ]
    },
    {
     "name": "stderr",
     "output_type": "stream",
     "text": [
      "\r",
      " 75% 113/150 [08:26<02:45,  4.48s/it]"
     ]
    },
    {
     "name": "stdout",
     "output_type": "stream",
     "text": [
      "Epoch 113: | Train Loss: 9.45432 | Val Loss: 10.92306\n"
     ]
    },
    {
     "name": "stderr",
     "output_type": "stream",
     "text": [
      "\r",
      " 76% 114/150 [08:30<02:40,  4.45s/it]"
     ]
    },
    {
     "name": "stdout",
     "output_type": "stream",
     "text": [
      "Epoch 114: | Train Loss: 9.54091 | Val Loss: 10.30829\n"
     ]
    },
    {
     "name": "stderr",
     "output_type": "stream",
     "text": [
      "\r",
      " 77% 115/150 [08:35<02:35,  4.45s/it]"
     ]
    },
    {
     "name": "stdout",
     "output_type": "stream",
     "text": [
      "Epoch 115: | Train Loss: 9.47573 | Val Loss: 11.15087\n"
     ]
    },
    {
     "name": "stderr",
     "output_type": "stream",
     "text": [
      "\r",
      " 77% 116/150 [08:39<02:31,  4.47s/it]"
     ]
    },
    {
     "name": "stdout",
     "output_type": "stream",
     "text": [
      "Epoch 116: | Train Loss: 9.40623 | Val Loss: 10.72807\n"
     ]
    },
    {
     "name": "stderr",
     "output_type": "stream",
     "text": [
      "\r",
      " 78% 117/150 [08:44<02:27,  4.48s/it]"
     ]
    },
    {
     "name": "stdout",
     "output_type": "stream",
     "text": [
      "Epoch 117: | Train Loss: 9.39480 | Val Loss: 12.18643\n"
     ]
    },
    {
     "name": "stderr",
     "output_type": "stream",
     "text": [
      "\r",
      " 79% 118/150 [08:48<02:23,  4.47s/it]"
     ]
    },
    {
     "name": "stdout",
     "output_type": "stream",
     "text": [
      "Epoch 118: | Train Loss: 9.44271 | Val Loss: 10.30960\n"
     ]
    },
    {
     "name": "stderr",
     "output_type": "stream",
     "text": [
      "\r",
      " 79% 119/150 [08:53<02:18,  4.47s/it]"
     ]
    },
    {
     "name": "stdout",
     "output_type": "stream",
     "text": [
      "Epoch 119: | Train Loss: 9.24916 | Val Loss: 10.25062\n"
     ]
    },
    {
     "name": "stderr",
     "output_type": "stream",
     "text": [
      "\r",
      " 80% 120/150 [08:57<02:14,  4.47s/it]"
     ]
    },
    {
     "name": "stdout",
     "output_type": "stream",
     "text": [
      "Epoch 120: | Train Loss: 9.47870 | Val Loss: 10.35640\n"
     ]
    },
    {
     "name": "stderr",
     "output_type": "stream",
     "text": [
      "\r",
      " 81% 121/150 [09:02<02:09,  4.47s/it]"
     ]
    },
    {
     "name": "stdout",
     "output_type": "stream",
     "text": [
      "Epoch 121: | Train Loss: 9.52205 | Val Loss: 10.89015\n"
     ]
    },
    {
     "name": "stderr",
     "output_type": "stream",
     "text": [
      "\r",
      " 81% 122/150 [09:06<02:05,  4.47s/it]"
     ]
    },
    {
     "name": "stdout",
     "output_type": "stream",
     "text": [
      "Epoch 122: | Train Loss: 9.20497 | Val Loss: 10.43096\n"
     ]
    },
    {
     "name": "stderr",
     "output_type": "stream",
     "text": [
      "\r",
      " 82% 123/150 [09:11<02:01,  4.48s/it]"
     ]
    },
    {
     "name": "stdout",
     "output_type": "stream",
     "text": [
      "Epoch 123: | Train Loss: 9.10280 | Val Loss: 10.48274\n"
     ]
    },
    {
     "name": "stderr",
     "output_type": "stream",
     "text": [
      "\r",
      " 83% 124/150 [09:15<01:56,  4.49s/it]"
     ]
    },
    {
     "name": "stdout",
     "output_type": "stream",
     "text": [
      "Epoch 124: | Train Loss: 9.20067 | Val Loss: 10.24789\n"
     ]
    },
    {
     "name": "stderr",
     "output_type": "stream",
     "text": [
      "\r",
      " 83% 125/150 [09:20<01:52,  4.50s/it]"
     ]
    },
    {
     "name": "stdout",
     "output_type": "stream",
     "text": [
      "Epoch 125: | Train Loss: 9.21757 | Val Loss: 10.05653\n"
     ]
    },
    {
     "name": "stderr",
     "output_type": "stream",
     "text": [
      "\r",
      " 84% 126/150 [09:24<01:47,  4.48s/it]"
     ]
    },
    {
     "name": "stdout",
     "output_type": "stream",
     "text": [
      "Epoch 126: | Train Loss: 9.01018 | Val Loss: 10.29089\n"
     ]
    },
    {
     "name": "stderr",
     "output_type": "stream",
     "text": [
      "\r",
      " 85% 127/150 [09:29<01:43,  4.50s/it]"
     ]
    },
    {
     "name": "stdout",
     "output_type": "stream",
     "text": [
      "Epoch 127: | Train Loss: 8.93766 | Val Loss: 11.07728\n"
     ]
    },
    {
     "name": "stderr",
     "output_type": "stream",
     "text": [
      "\r",
      " 85% 128/150 [09:33<01:39,  4.52s/it]"
     ]
    },
    {
     "name": "stdout",
     "output_type": "stream",
     "text": [
      "Epoch 128: | Train Loss: 9.04597 | Val Loss: 10.23017\n"
     ]
    },
    {
     "name": "stderr",
     "output_type": "stream",
     "text": [
      "\r",
      " 86% 129/150 [09:38<01:35,  4.53s/it]"
     ]
    },
    {
     "name": "stdout",
     "output_type": "stream",
     "text": [
      "Epoch 129: | Train Loss: 8.88991 | Val Loss: 9.90004\n"
     ]
    },
    {
     "name": "stderr",
     "output_type": "stream",
     "text": [
      "\r",
      " 87% 130/150 [09:42<01:30,  4.53s/it]"
     ]
    },
    {
     "name": "stdout",
     "output_type": "stream",
     "text": [
      "Epoch 130: | Train Loss: 8.89037 | Val Loss: 10.39071\n"
     ]
    },
    {
     "name": "stderr",
     "output_type": "stream",
     "text": [
      "\r",
      " 87% 131/150 [09:47<01:25,  4.52s/it]"
     ]
    },
    {
     "name": "stdout",
     "output_type": "stream",
     "text": [
      "Epoch 131: | Train Loss: 8.96774 | Val Loss: 10.05779\n"
     ]
    },
    {
     "name": "stderr",
     "output_type": "stream",
     "text": [
      "\r",
      " 88% 132/150 [09:51<01:21,  4.51s/it]"
     ]
    },
    {
     "name": "stdout",
     "output_type": "stream",
     "text": [
      "Epoch 132: | Train Loss: 8.81972 | Val Loss: 10.49999\n"
     ]
    },
    {
     "name": "stderr",
     "output_type": "stream",
     "text": [
      "\r",
      " 89% 133/150 [09:56<01:16,  4.51s/it]"
     ]
    },
    {
     "name": "stdout",
     "output_type": "stream",
     "text": [
      "Epoch 133: | Train Loss: 8.86784 | Val Loss: 10.13081\n"
     ]
    },
    {
     "name": "stderr",
     "output_type": "stream",
     "text": [
      "\r",
      " 89% 134/150 [10:00<01:12,  4.51s/it]"
     ]
    },
    {
     "name": "stdout",
     "output_type": "stream",
     "text": [
      "Epoch 134: | Train Loss: 8.74642 | Val Loss: 10.29751\n"
     ]
    },
    {
     "name": "stderr",
     "output_type": "stream",
     "text": [
      "\r",
      " 90% 135/150 [10:05<01:07,  4.52s/it]"
     ]
    },
    {
     "name": "stdout",
     "output_type": "stream",
     "text": [
      "Epoch 135: | Train Loss: 9.07196 | Val Loss: 9.99850\n"
     ]
    },
    {
     "name": "stderr",
     "output_type": "stream",
     "text": [
      "\r",
      " 91% 136/150 [10:09<01:03,  4.51s/it]"
     ]
    },
    {
     "name": "stdout",
     "output_type": "stream",
     "text": [
      "Epoch 136: | Train Loss: 8.88400 | Val Loss: 10.53667\n"
     ]
    },
    {
     "name": "stderr",
     "output_type": "stream",
     "text": [
      "\r",
      " 91% 137/150 [10:14<00:58,  4.50s/it]"
     ]
    },
    {
     "name": "stdout",
     "output_type": "stream",
     "text": [
      "Epoch 137: | Train Loss: 8.92009 | Val Loss: 9.96108\n"
     ]
    },
    {
     "name": "stderr",
     "output_type": "stream",
     "text": [
      "\r",
      " 92% 138/150 [10:18<00:54,  4.51s/it]"
     ]
    },
    {
     "name": "stdout",
     "output_type": "stream",
     "text": [
      "Epoch 138: | Train Loss: 8.93164 | Val Loss: 11.01496\n"
     ]
    },
    {
     "name": "stderr",
     "output_type": "stream",
     "text": [
      "\r",
      " 93% 139/150 [10:23<00:49,  4.51s/it]"
     ]
    },
    {
     "name": "stdout",
     "output_type": "stream",
     "text": [
      "Epoch 139: | Train Loss: 8.68673 | Val Loss: 10.25818\n"
     ]
    },
    {
     "name": "stderr",
     "output_type": "stream",
     "text": [
      "\r",
      " 93% 140/150 [10:27<00:45,  4.51s/it]"
     ]
    },
    {
     "name": "stdout",
     "output_type": "stream",
     "text": [
      "Epoch 140: | Train Loss: 8.80242 | Val Loss: 10.27800\n"
     ]
    },
    {
     "name": "stderr",
     "output_type": "stream",
     "text": [
      "\r",
      " 94% 141/150 [10:32<00:40,  4.50s/it]"
     ]
    },
    {
     "name": "stdout",
     "output_type": "stream",
     "text": [
      "Epoch 141: | Train Loss: 8.74954 | Val Loss: 9.84346\n"
     ]
    },
    {
     "name": "stderr",
     "output_type": "stream",
     "text": [
      "\r",
      " 95% 142/150 [10:36<00:35,  4.50s/it]"
     ]
    },
    {
     "name": "stdout",
     "output_type": "stream",
     "text": [
      "Epoch 142: | Train Loss: 8.68064 | Val Loss: 9.96944\n"
     ]
    },
    {
     "name": "stderr",
     "output_type": "stream",
     "text": [
      "\r",
      " 95% 143/150 [10:41<00:31,  4.49s/it]"
     ]
    },
    {
     "name": "stdout",
     "output_type": "stream",
     "text": [
      "Epoch 143: | Train Loss: 8.62737 | Val Loss: 11.02659\n"
     ]
    },
    {
     "name": "stderr",
     "output_type": "stream",
     "text": [
      "\r",
      " 96% 144/150 [10:45<00:26,  4.45s/it]"
     ]
    },
    {
     "name": "stdout",
     "output_type": "stream",
     "text": [
      "Epoch 144: | Train Loss: 8.61537 | Val Loss: 10.26027\n"
     ]
    },
    {
     "name": "stderr",
     "output_type": "stream",
     "text": [
      "\r",
      " 97% 145/150 [10:50<00:22,  4.45s/it]"
     ]
    },
    {
     "name": "stdout",
     "output_type": "stream",
     "text": [
      "Epoch 145: | Train Loss: 8.62878 | Val Loss: 10.30720\n"
     ]
    },
    {
     "name": "stderr",
     "output_type": "stream",
     "text": [
      "\r",
      " 97% 146/150 [10:54<00:17,  4.47s/it]"
     ]
    },
    {
     "name": "stdout",
     "output_type": "stream",
     "text": [
      "Epoch 146: | Train Loss: 8.54088 | Val Loss: 10.27191\n"
     ]
    },
    {
     "name": "stderr",
     "output_type": "stream",
     "text": [
      "\r",
      " 98% 147/150 [10:59<00:13,  4.47s/it]"
     ]
    },
    {
     "name": "stdout",
     "output_type": "stream",
     "text": [
      "Epoch 147: | Train Loss: 8.65221 | Val Loss: 10.47051\n"
     ]
    },
    {
     "name": "stderr",
     "output_type": "stream",
     "text": [
      "\r",
      " 99% 148/150 [11:03<00:08,  4.48s/it]"
     ]
    },
    {
     "name": "stdout",
     "output_type": "stream",
     "text": [
      "Epoch 148: | Train Loss: 8.54962 | Val Loss: 9.84411\n"
     ]
    },
    {
     "name": "stderr",
     "output_type": "stream",
     "text": [
      "\r",
      " 99% 149/150 [11:08<00:04,  4.48s/it]"
     ]
    },
    {
     "name": "stdout",
     "output_type": "stream",
     "text": [
      "Epoch 149: | Train Loss: 8.25707 | Val Loss: 10.09149\n"
     ]
    },
    {
     "name": "stderr",
     "output_type": "stream",
     "text": [
      "100% 150/150 [11:12<00:00,  4.48s/it]"
     ]
    },
    {
     "name": "stdout",
     "output_type": "stream",
     "text": [
      "Epoch 150: | Train Loss: 8.63646 | Val Loss: 10.15121\n"
     ]
    },
    {
     "name": "stderr",
     "output_type": "stream",
     "text": [
      "\n"
     ]
    }
   ],
   "source": [
    "print(\"Begin training.\")\n",
    "for e in tqdm(range(1, EPOCHS+1)):\n",
    "    \n",
    "    # TRAINING\n",
    "    train_epoch_loss = 0\n",
    "    model.train()\n",
    "    for X_train_batch, y_train_batch in train_loader:\n",
    "        X_train_batch, y_train_batch = X_train_batch.to(device), y_train_batch.to(device)\n",
    "        optimizer.zero_grad()\n",
    "        \n",
    "        y_train_pred = model(X_train_batch)\n",
    "        \n",
    "        train_loss = criterion(y_train_pred, y_train_batch.unsqueeze(1))\n",
    "        \n",
    "        train_loss.backward()\n",
    "        optimizer.step()\n",
    "        \n",
    "        train_epoch_loss += train_loss.item()\n",
    "        \n",
    "        \n",
    "    # VALIDATION    \n",
    "    with torch.no_grad():\n",
    "        \n",
    "        val_epoch_loss = 0\n",
    "        \n",
    "        model.eval()\n",
    "        for X_val_batch, y_val_batch in val_loader:\n",
    "            X_val_batch, y_val_batch = X_val_batch.to(device), y_val_batch.to(device)\n",
    "            \n",
    "            y_val_pred = model(X_val_batch)\n",
    "                        \n",
    "            val_loss = criterion(y_val_pred, y_val_batch.unsqueeze(1))\n",
    "            \n",
    "            val_epoch_loss += val_loss.item()\n",
    "    loss_stats['train'].append(train_epoch_loss/len(train_loader))\n",
    "    loss_stats['val'].append(val_epoch_loss/len(val_loader))                              \n",
    "    \n",
    "    print(f'Epoch {e+0:03}: | Train Loss: {train_epoch_loss/len(train_loader):.5f} | Val Loss: {val_epoch_loss/len(val_loader):.5f}')"
   ]
  },
  {
   "cell_type": "code",
   "execution_count": 510,
   "id": "3611689e",
   "metadata": {},
   "outputs": [
    {
     "data": {
      "text/plain": [
       "2"
      ]
     },
     "execution_count": 510,
     "metadata": {},
     "output_type": "execute_result"
    }
   ],
   "source": [
    "1+1"
   ]
  },
  {
   "cell_type": "code",
   "execution_count": 62,
   "id": "9f7eda38",
   "metadata": {},
   "outputs": [],
   "source": [
    "y_pred_list = []\n",
    "with torch.no_grad():\n",
    "    model.eval()\n",
    "    for X_batch, _ in test_loader:\n",
    "        X_batch = X_batch.to(device)\n",
    "        y_test_pred = model(X_batch)\n",
    "        y_pred_list.append(y_test_pred.cpu().numpy())\n",
    "y_pred_list = [a.squeeze().tolist() for a in y_pred_list]"
   ]
  },
  {
   "cell_type": "code",
   "execution_count": 63,
   "id": "f0e10940",
   "metadata": {},
   "outputs": [],
   "source": [
    "from sklearn.metrics import mean_squared_error\n",
    "from sklearn.metrics import r2_score"
   ]
  },
  {
   "cell_type": "code",
   "execution_count": 64,
   "id": "9151ffa0",
   "metadata": {},
   "outputs": [
    {
     "name": "stdout",
     "output_type": "stream",
     "text": [
      "Mean Squared Error : 744.4494604277419\n",
      "R^2 : 0.8716408254027521\n"
     ]
    }
   ],
   "source": [
    "mse = mean_squared_error(y_test, y_pred_list)\n",
    "r_square = r2_score(y_test, y_pred_list)\n",
    "print(\"Mean Squared Error :\",mse)\n",
    "print(\"R^2 :\",r_square)"
   ]
  },
  {
   "cell_type": "code",
   "execution_count": null,
   "id": "f00c7403",
   "metadata": {},
   "outputs": [],
   "source": []
  },
  {
   "cell_type": "code",
   "execution_count": null,
   "id": "914f4ebd",
   "metadata": {},
   "outputs": [],
   "source": [
    "# Mean Squared Error : 907.6883032426905\n",
    "# R^2 : 0.8434949212954438\n",
    "\n",
    "# Mean Squared Error : 604.0072439588212\n",
    "# R^2 : 0.8958560984908686"
   ]
  },
  {
   "cell_type": "code",
   "execution_count": null,
   "id": "b9c8d211",
   "metadata": {},
   "outputs": [],
   "source": []
  },
  {
   "cell_type": "code",
   "execution_count": null,
   "id": "598acdbb",
   "metadata": {},
   "outputs": [],
   "source": [
    "train_dataset = RegressionDataset(torch.from_numpy(X_train).float(), torch.from_numpy(y_train).float())"
   ]
  },
  {
   "cell_type": "code",
   "execution_count": 248,
   "id": "ceeb5b41",
   "metadata": {},
   "outputs": [],
   "source": [
    "df_testi['7F1D1'] = np.zeros(len(df_testi))\n",
    "df_testi['WZNCR'] = np.zeros(len(df_testi))"
   ]
  },
  {
   "cell_type": "code",
   "execution_count": 250,
   "id": "5ff6eb7b",
   "metadata": {},
   "outputs": [],
   "source": [
    "df_testi = df_testi[df.columns]"
   ]
  },
  {
   "cell_type": "code",
   "execution_count": 336,
   "id": "27304267",
   "metadata": {},
   "outputs": [
    {
     "data": {
      "text/html": [
       "<div>\n",
       "<style scoped>\n",
       "    .dataframe tbody tr th:only-of-type {\n",
       "        vertical-align: middle;\n",
       "    }\n",
       "\n",
       "    .dataframe tbody tr th {\n",
       "        vertical-align: top;\n",
       "    }\n",
       "\n",
       "    .dataframe thead th {\n",
       "        text-align: right;\n",
       "    }\n",
       "</style>\n",
       "<table border=\"1\" class=\"dataframe\">\n",
       "  <thead>\n",
       "    <tr style=\"text-align: right;\">\n",
       "      <th></th>\n",
       "      <th>Unnamed: 0</th>\n",
       "      <th>datetime</th>\n",
       "      <th>grid_id</th>\n",
       "      <th>value</th>\n",
       "      <th>datetime_dt</th>\n",
       "      <th>location</th>\n",
       "      <th>date</th>\n",
       "      <th>granule_id</th>\n",
       "      <th>AOD at 0.47 micron_0</th>\n",
       "      <th>AOD at 0.47 micron_1</th>\n",
       "      <th>...</th>\n",
       "      <th>cosine of Solar Zenith Angle_246</th>\n",
       "      <th>cosine of Solar Zenith Angle_247</th>\n",
       "      <th>cosine of Solar Zenith Angle_248</th>\n",
       "      <th>cosine of Solar Zenith Angle_249</th>\n",
       "      <th>cosine of Solar Zenith Angle_250</th>\n",
       "      <th>cosine of Solar Zenith Angle_251</th>\n",
       "      <th>cosine of Solar Zenith Angle_252</th>\n",
       "      <th>cosine of Solar Zenith Angle_253</th>\n",
       "      <th>cosine of Solar Zenith Angle_254</th>\n",
       "      <th>cosine of Solar Zenith Angle_255</th>\n",
       "    </tr>\n",
       "  </thead>\n",
       "  <tbody>\n",
       "    <tr>\n",
       "      <th>0</th>\n",
       "      <td>0</td>\n",
       "      <td>2017-01-07T16:00:00Z</td>\n",
       "      <td>1X116</td>\n",
       "      <td>8.420161</td>\n",
       "      <td>2017-01-07 16:00:00+00:00</td>\n",
       "      <td>Taipei</td>\n",
       "      <td>2017-01-07</td>\n",
       "      <td>20170107T032000_maiac_tpe_0.hdf</td>\n",
       "      <td>-0.552611</td>\n",
       "      <td>0.114593</td>\n",
       "      <td>...</td>\n",
       "      <td>0.514868</td>\n",
       "      <td>0.139191</td>\n",
       "      <td>0.183938</td>\n",
       "      <td>-1.667788</td>\n",
       "      <td>-0.356834</td>\n",
       "      <td>2.620512</td>\n",
       "      <td>0.295454</td>\n",
       "      <td>-0.233992</td>\n",
       "      <td>0.197363</td>\n",
       "      <td>0.768304</td>\n",
       "    </tr>\n",
       "    <tr>\n",
       "      <th>1</th>\n",
       "      <td>1</td>\n",
       "      <td>2017-01-07T16:00:00Z</td>\n",
       "      <td>9Q6TA</td>\n",
       "      <td>9.205665</td>\n",
       "      <td>2017-01-07 16:00:00+00:00</td>\n",
       "      <td>Taipei</td>\n",
       "      <td>2017-01-07</td>\n",
       "      <td>20170107T032000_maiac_tpe_0.hdf</td>\n",
       "      <td>-0.552611</td>\n",
       "      <td>0.114593</td>\n",
       "      <td>...</td>\n",
       "      <td>0.514868</td>\n",
       "      <td>0.139191</td>\n",
       "      <td>0.183938</td>\n",
       "      <td>-1.667788</td>\n",
       "      <td>-0.356834</td>\n",
       "      <td>2.620512</td>\n",
       "      <td>0.295454</td>\n",
       "      <td>-0.233992</td>\n",
       "      <td>0.197363</td>\n",
       "      <td>0.768304</td>\n",
       "    </tr>\n",
       "    <tr>\n",
       "      <th>2</th>\n",
       "      <td>2</td>\n",
       "      <td>2017-01-07T16:00:00Z</td>\n",
       "      <td>KW43U</td>\n",
       "      <td>10.190537</td>\n",
       "      <td>2017-01-07 16:00:00+00:00</td>\n",
       "      <td>Taipei</td>\n",
       "      <td>2017-01-07</td>\n",
       "      <td>20170107T032000_maiac_tpe_0.hdf</td>\n",
       "      <td>-0.552611</td>\n",
       "      <td>0.114593</td>\n",
       "      <td>...</td>\n",
       "      <td>0.514868</td>\n",
       "      <td>0.139191</td>\n",
       "      <td>0.183938</td>\n",
       "      <td>-1.667788</td>\n",
       "      <td>-0.356834</td>\n",
       "      <td>2.620512</td>\n",
       "      <td>0.295454</td>\n",
       "      <td>-0.233992</td>\n",
       "      <td>0.197363</td>\n",
       "      <td>0.768304</td>\n",
       "    </tr>\n",
       "    <tr>\n",
       "      <th>3</th>\n",
       "      <td>3</td>\n",
       "      <td>2017-01-07T16:00:00Z</td>\n",
       "      <td>VR4WG</td>\n",
       "      <td>13.024861</td>\n",
       "      <td>2017-01-07 16:00:00+00:00</td>\n",
       "      <td>Taipei</td>\n",
       "      <td>2017-01-07</td>\n",
       "      <td>20170107T032000_maiac_tpe_0.hdf</td>\n",
       "      <td>-0.552611</td>\n",
       "      <td>0.114593</td>\n",
       "      <td>...</td>\n",
       "      <td>0.514868</td>\n",
       "      <td>0.139191</td>\n",
       "      <td>0.183938</td>\n",
       "      <td>-1.667788</td>\n",
       "      <td>-0.356834</td>\n",
       "      <td>2.620512</td>\n",
       "      <td>0.295454</td>\n",
       "      <td>-0.233992</td>\n",
       "      <td>0.197363</td>\n",
       "      <td>0.768304</td>\n",
       "    </tr>\n",
       "    <tr>\n",
       "      <th>4</th>\n",
       "      <td>4</td>\n",
       "      <td>2017-01-07T16:00:00Z</td>\n",
       "      <td>XJF9O</td>\n",
       "      <td>8.132245</td>\n",
       "      <td>2017-01-07 16:00:00+00:00</td>\n",
       "      <td>Taipei</td>\n",
       "      <td>2017-01-07</td>\n",
       "      <td>20170107T032000_maiac_tpe_0.hdf</td>\n",
       "      <td>-0.552611</td>\n",
       "      <td>0.114593</td>\n",
       "      <td>...</td>\n",
       "      <td>0.514868</td>\n",
       "      <td>0.139191</td>\n",
       "      <td>0.183938</td>\n",
       "      <td>-1.667788</td>\n",
       "      <td>-0.356834</td>\n",
       "      <td>2.620512</td>\n",
       "      <td>0.295454</td>\n",
       "      <td>-0.233992</td>\n",
       "      <td>0.197363</td>\n",
       "      <td>0.768304</td>\n",
       "    </tr>\n",
       "    <tr>\n",
       "      <th>...</th>\n",
       "      <td>...</td>\n",
       "      <td>...</td>\n",
       "      <td>...</td>\n",
       "      <td>...</td>\n",
       "      <td>...</td>\n",
       "      <td>...</td>\n",
       "      <td>...</td>\n",
       "      <td>...</td>\n",
       "      <td>...</td>\n",
       "      <td>...</td>\n",
       "      <td>...</td>\n",
       "      <td>...</td>\n",
       "      <td>...</td>\n",
       "      <td>...</td>\n",
       "      <td>...</td>\n",
       "      <td>...</td>\n",
       "      <td>...</td>\n",
       "      <td>...</td>\n",
       "      <td>...</td>\n",
       "      <td>...</td>\n",
       "      <td>...</td>\n",
       "    </tr>\n",
       "    <tr>\n",
       "      <th>15994</th>\n",
       "      <td>15994</td>\n",
       "      <td>2021-06-05T18:30:00Z</td>\n",
       "      <td>YHOPV</td>\n",
       "      <td>39.464722</td>\n",
       "      <td>2021-06-05 18:30:00+00:00</td>\n",
       "      <td>Delhi</td>\n",
       "      <td>2021-06-05</td>\n",
       "      <td>20210605T071000_maiac_dl_0.hdf</td>\n",
       "      <td>-0.561104</td>\n",
       "      <td>0.114857</td>\n",
       "      <td>...</td>\n",
       "      <td>0.282401</td>\n",
       "      <td>0.094115</td>\n",
       "      <td>0.101234</td>\n",
       "      <td>-0.598972</td>\n",
       "      <td>-0.056394</td>\n",
       "      <td>-0.085390</td>\n",
       "      <td>0.155456</td>\n",
       "      <td>0.061431</td>\n",
       "      <td>0.139627</td>\n",
       "      <td>0.156484</td>\n",
       "    </tr>\n",
       "    <tr>\n",
       "      <th>15995</th>\n",
       "      <td>15995</td>\n",
       "      <td>2021-06-05T18:30:00Z</td>\n",
       "      <td>ZF3ZW</td>\n",
       "      <td>53.499786</td>\n",
       "      <td>2021-06-05 18:30:00+00:00</td>\n",
       "      <td>Delhi</td>\n",
       "      <td>2021-06-05</td>\n",
       "      <td>20210605T071000_maiac_dl_0.hdf</td>\n",
       "      <td>-0.561104</td>\n",
       "      <td>0.114857</td>\n",
       "      <td>...</td>\n",
       "      <td>0.282401</td>\n",
       "      <td>0.094115</td>\n",
       "      <td>0.101234</td>\n",
       "      <td>-0.598972</td>\n",
       "      <td>-0.056394</td>\n",
       "      <td>-0.085390</td>\n",
       "      <td>0.155456</td>\n",
       "      <td>0.061431</td>\n",
       "      <td>0.139627</td>\n",
       "      <td>0.156484</td>\n",
       "    </tr>\n",
       "    <tr>\n",
       "      <th>15996</th>\n",
       "      <td>15996</td>\n",
       "      <td>2021-06-05T18:30:00Z</td>\n",
       "      <td>GVQXS</td>\n",
       "      <td>42.492672</td>\n",
       "      <td>2021-06-05 18:30:00+00:00</td>\n",
       "      <td>Delhi</td>\n",
       "      <td>2021-06-05</td>\n",
       "      <td>20210605T071000_maiac_dl_0.hdf</td>\n",
       "      <td>-0.561104</td>\n",
       "      <td>0.114857</td>\n",
       "      <td>...</td>\n",
       "      <td>0.282401</td>\n",
       "      <td>0.094115</td>\n",
       "      <td>0.101234</td>\n",
       "      <td>-0.598972</td>\n",
       "      <td>-0.056394</td>\n",
       "      <td>-0.085390</td>\n",
       "      <td>0.155456</td>\n",
       "      <td>0.061431</td>\n",
       "      <td>0.139627</td>\n",
       "      <td>0.156484</td>\n",
       "    </tr>\n",
       "    <tr>\n",
       "      <th>15997</th>\n",
       "      <td>15997</td>\n",
       "      <td>2021-06-17T18:30:00Z</td>\n",
       "      <td>A7UCQ</td>\n",
       "      <td>50.507221</td>\n",
       "      <td>2021-06-17 18:30:00+00:00</td>\n",
       "      <td>Delhi</td>\n",
       "      <td>2021-06-17</td>\n",
       "      <td>20210617T060000_maiac_dl_0.hdf</td>\n",
       "      <td>-0.556475</td>\n",
       "      <td>0.114697</td>\n",
       "      <td>...</td>\n",
       "      <td>0.364079</td>\n",
       "      <td>0.141253</td>\n",
       "      <td>0.068522</td>\n",
       "      <td>-1.220975</td>\n",
       "      <td>-0.168101</td>\n",
       "      <td>1.756613</td>\n",
       "      <td>0.158490</td>\n",
       "      <td>0.021657</td>\n",
       "      <td>0.110188</td>\n",
       "      <td>0.200711</td>\n",
       "    </tr>\n",
       "    <tr>\n",
       "      <th>15998</th>\n",
       "      <td>15998</td>\n",
       "      <td>2021-04-11T18:30:00Z</td>\n",
       "      <td>GJLB2</td>\n",
       "      <td>49.723572</td>\n",
       "      <td>2021-04-11 18:30:00+00:00</td>\n",
       "      <td>Delhi</td>\n",
       "      <td>2021-04-11</td>\n",
       "      <td>20210411T070500_maiac_dl_0.hdf</td>\n",
       "      <td>-0.556702</td>\n",
       "      <td>0.114758</td>\n",
       "      <td>...</td>\n",
       "      <td>0.559139</td>\n",
       "      <td>0.184912</td>\n",
       "      <td>0.162346</td>\n",
       "      <td>-2.739183</td>\n",
       "      <td>-0.605774</td>\n",
       "      <td>3.593384</td>\n",
       "      <td>0.308225</td>\n",
       "      <td>-0.423955</td>\n",
       "      <td>0.171615</td>\n",
       "      <td>1.109442</td>\n",
       "    </tr>\n",
       "  </tbody>\n",
       "</table>\n",
       "<p>15999 rows × 2056 columns</p>\n",
       "</div>"
      ],
      "text/plain": [
       "       Unnamed: 0              datetime grid_id      value  \\\n",
       "0               0  2017-01-07T16:00:00Z   1X116   8.420161   \n",
       "1               1  2017-01-07T16:00:00Z   9Q6TA   9.205665   \n",
       "2               2  2017-01-07T16:00:00Z   KW43U  10.190537   \n",
       "3               3  2017-01-07T16:00:00Z   VR4WG  13.024861   \n",
       "4               4  2017-01-07T16:00:00Z   XJF9O   8.132245   \n",
       "...           ...                   ...     ...        ...   \n",
       "15994       15994  2021-06-05T18:30:00Z   YHOPV  39.464722   \n",
       "15995       15995  2021-06-05T18:30:00Z   ZF3ZW  53.499786   \n",
       "15996       15996  2021-06-05T18:30:00Z   GVQXS  42.492672   \n",
       "15997       15997  2021-06-17T18:30:00Z   A7UCQ  50.507221   \n",
       "15998       15998  2021-04-11T18:30:00Z   GJLB2  49.723572   \n",
       "\n",
       "                     datetime_dt location        date  \\\n",
       "0      2017-01-07 16:00:00+00:00   Taipei  2017-01-07   \n",
       "1      2017-01-07 16:00:00+00:00   Taipei  2017-01-07   \n",
       "2      2017-01-07 16:00:00+00:00   Taipei  2017-01-07   \n",
       "3      2017-01-07 16:00:00+00:00   Taipei  2017-01-07   \n",
       "4      2017-01-07 16:00:00+00:00   Taipei  2017-01-07   \n",
       "...                          ...      ...         ...   \n",
       "15994  2021-06-05 18:30:00+00:00    Delhi  2021-06-05   \n",
       "15995  2021-06-05 18:30:00+00:00    Delhi  2021-06-05   \n",
       "15996  2021-06-05 18:30:00+00:00    Delhi  2021-06-05   \n",
       "15997  2021-06-17 18:30:00+00:00    Delhi  2021-06-17   \n",
       "15998  2021-04-11 18:30:00+00:00    Delhi  2021-04-11   \n",
       "\n",
       "                            granule_id  AOD at 0.47 micron_0  \\\n",
       "0      20170107T032000_maiac_tpe_0.hdf             -0.552611   \n",
       "1      20170107T032000_maiac_tpe_0.hdf             -0.552611   \n",
       "2      20170107T032000_maiac_tpe_0.hdf             -0.552611   \n",
       "3      20170107T032000_maiac_tpe_0.hdf             -0.552611   \n",
       "4      20170107T032000_maiac_tpe_0.hdf             -0.552611   \n",
       "...                                ...                   ...   \n",
       "15994   20210605T071000_maiac_dl_0.hdf             -0.561104   \n",
       "15995   20210605T071000_maiac_dl_0.hdf             -0.561104   \n",
       "15996   20210605T071000_maiac_dl_0.hdf             -0.561104   \n",
       "15997   20210617T060000_maiac_dl_0.hdf             -0.556475   \n",
       "15998   20210411T070500_maiac_dl_0.hdf             -0.556702   \n",
       "\n",
       "       AOD at 0.47 micron_1  ...  cosine of Solar Zenith Angle_246  \\\n",
       "0                  0.114593  ...                          0.514868   \n",
       "1                  0.114593  ...                          0.514868   \n",
       "2                  0.114593  ...                          0.514868   \n",
       "3                  0.114593  ...                          0.514868   \n",
       "4                  0.114593  ...                          0.514868   \n",
       "...                     ...  ...                               ...   \n",
       "15994              0.114857  ...                          0.282401   \n",
       "15995              0.114857  ...                          0.282401   \n",
       "15996              0.114857  ...                          0.282401   \n",
       "15997              0.114697  ...                          0.364079   \n",
       "15998              0.114758  ...                          0.559139   \n",
       "\n",
       "       cosine of Solar Zenith Angle_247  cosine of Solar Zenith Angle_248  \\\n",
       "0                              0.139191                          0.183938   \n",
       "1                              0.139191                          0.183938   \n",
       "2                              0.139191                          0.183938   \n",
       "3                              0.139191                          0.183938   \n",
       "4                              0.139191                          0.183938   \n",
       "...                                 ...                               ...   \n",
       "15994                          0.094115                          0.101234   \n",
       "15995                          0.094115                          0.101234   \n",
       "15996                          0.094115                          0.101234   \n",
       "15997                          0.141253                          0.068522   \n",
       "15998                          0.184912                          0.162346   \n",
       "\n",
       "       cosine of Solar Zenith Angle_249  cosine of Solar Zenith Angle_250  \\\n",
       "0                             -1.667788                         -0.356834   \n",
       "1                             -1.667788                         -0.356834   \n",
       "2                             -1.667788                         -0.356834   \n",
       "3                             -1.667788                         -0.356834   \n",
       "4                             -1.667788                         -0.356834   \n",
       "...                                 ...                               ...   \n",
       "15994                         -0.598972                         -0.056394   \n",
       "15995                         -0.598972                         -0.056394   \n",
       "15996                         -0.598972                         -0.056394   \n",
       "15997                         -1.220975                         -0.168101   \n",
       "15998                         -2.739183                         -0.605774   \n",
       "\n",
       "       cosine of Solar Zenith Angle_251  cosine of Solar Zenith Angle_252  \\\n",
       "0                              2.620512                          0.295454   \n",
       "1                              2.620512                          0.295454   \n",
       "2                              2.620512                          0.295454   \n",
       "3                              2.620512                          0.295454   \n",
       "4                              2.620512                          0.295454   \n",
       "...                                 ...                               ...   \n",
       "15994                         -0.085390                          0.155456   \n",
       "15995                         -0.085390                          0.155456   \n",
       "15996                         -0.085390                          0.155456   \n",
       "15997                          1.756613                          0.158490   \n",
       "15998                          3.593384                          0.308225   \n",
       "\n",
       "       cosine of Solar Zenith Angle_253  cosine of Solar Zenith Angle_254  \\\n",
       "0                             -0.233992                          0.197363   \n",
       "1                             -0.233992                          0.197363   \n",
       "2                             -0.233992                          0.197363   \n",
       "3                             -0.233992                          0.197363   \n",
       "4                             -0.233992                          0.197363   \n",
       "...                                 ...                               ...   \n",
       "15994                          0.061431                          0.139627   \n",
       "15995                          0.061431                          0.139627   \n",
       "15996                          0.061431                          0.139627   \n",
       "15997                          0.021657                          0.110188   \n",
       "15998                         -0.423955                          0.171615   \n",
       "\n",
       "       cosine of Solar Zenith Angle_255  \n",
       "0                              0.768304  \n",
       "1                              0.768304  \n",
       "2                              0.768304  \n",
       "3                              0.768304  \n",
       "4                              0.768304  \n",
       "...                                 ...  \n",
       "15994                          0.156484  \n",
       "15995                          0.156484  \n",
       "15996                          0.156484  \n",
       "15997                          0.200711  \n",
       "15998                          1.109442  \n",
       "\n",
       "[15999 rows x 2056 columns]"
      ]
     },
     "execution_count": 336,
     "metadata": {},
     "output_type": "execute_result"
    }
   ],
   "source": [
    "df_test.drop_duplicates()"
   ]
  },
  {
   "cell_type": "code",
   "execution_count": 241,
   "id": "d2083f5c",
   "metadata": {},
   "outputs": [],
   "source": [
    "df_testi = clean_df(df_test)"
   ]
  },
  {
   "cell_type": "code",
   "execution_count": 305,
   "id": "9a9cb10e",
   "metadata": {},
   "outputs": [
    {
     "data": {
      "text/plain": [
       "(4664, 2117)"
      ]
     },
     "execution_count": 305,
     "metadata": {},
     "output_type": "execute_result"
    }
   ],
   "source": [
    "X_t.shape"
   ]
  },
  {
   "cell_type": "code",
   "execution_count": 304,
   "id": "c410dbb4",
   "metadata": {},
   "outputs": [],
   "source": [
    "X_t = df_testi[df_testi.columns[2:]].values"
   ]
  },
  {
   "cell_type": "code",
   "execution_count": 303,
   "id": "25938b02",
   "metadata": {},
   "outputs": [
    {
     "data": {
      "text/html": [
       "<div>\n",
       "<style scoped>\n",
       "    .dataframe tbody tr th:only-of-type {\n",
       "        vertical-align: middle;\n",
       "    }\n",
       "\n",
       "    .dataframe tbody tr th {\n",
       "        vertical-align: top;\n",
       "    }\n",
       "\n",
       "    .dataframe thead th {\n",
       "        text-align: right;\n",
       "    }\n",
       "</style>\n",
       "<table border=\"1\" class=\"dataframe\">\n",
       "  <thead>\n",
       "    <tr style=\"text-align: right;\">\n",
       "      <th></th>\n",
       "      <th>value</th>\n",
       "      <th>datetime_dt</th>\n",
       "      <th>AOD at 0.47 micron_0</th>\n",
       "      <th>AOD at 0.47 micron_1</th>\n",
       "      <th>AOD at 0.47 micron_2</th>\n",
       "      <th>AOD at 0.47 micron_3</th>\n",
       "      <th>AOD at 0.47 micron_4</th>\n",
       "      <th>AOD at 0.47 micron_5</th>\n",
       "      <th>AOD at 0.47 micron_6</th>\n",
       "      <th>AOD at 0.47 micron_7</th>\n",
       "      <th>...</th>\n",
       "      <th>WT52R</th>\n",
       "      <th>X5DKW</th>\n",
       "      <th>XJF9O</th>\n",
       "      <th>XNLVD</th>\n",
       "      <th>YHOPV</th>\n",
       "      <th>ZF3ZW</th>\n",
       "      <th>ZP1FZ</th>\n",
       "      <th>ZZ8JF</th>\n",
       "      <th>7F1D1</th>\n",
       "      <th>WZNCR</th>\n",
       "    </tr>\n",
       "  </thead>\n",
       "  <tbody>\n",
       "    <tr>\n",
       "      <th>11335</th>\n",
       "      <td>35.648685</td>\n",
       "      <td>2017-09-11 18:30:00+00:00</td>\n",
       "      <td>-0.559531</td>\n",
       "      <td>0.114779</td>\n",
       "      <td>-0.115476</td>\n",
       "      <td>0.257547</td>\n",
       "      <td>-0.049371</td>\n",
       "      <td>0.243913</td>\n",
       "      <td>-0.591729</td>\n",
       "      <td>-0.107678</td>\n",
       "      <td>...</td>\n",
       "      <td>0</td>\n",
       "      <td>0</td>\n",
       "      <td>0</td>\n",
       "      <td>0</td>\n",
       "      <td>0</td>\n",
       "      <td>0</td>\n",
       "      <td>0</td>\n",
       "      <td>0</td>\n",
       "      <td>0.0</td>\n",
       "      <td>0.0</td>\n",
       "    </tr>\n",
       "    <tr>\n",
       "      <th>11336</th>\n",
       "      <td>38.556229</td>\n",
       "      <td>2017-09-11 18:30:00+00:00</td>\n",
       "      <td>-0.559531</td>\n",
       "      <td>0.114779</td>\n",
       "      <td>-0.115476</td>\n",
       "      <td>0.257547</td>\n",
       "      <td>-0.049371</td>\n",
       "      <td>0.243913</td>\n",
       "      <td>-0.591729</td>\n",
       "      <td>-0.107678</td>\n",
       "      <td>...</td>\n",
       "      <td>0</td>\n",
       "      <td>0</td>\n",
       "      <td>0</td>\n",
       "      <td>0</td>\n",
       "      <td>0</td>\n",
       "      <td>0</td>\n",
       "      <td>0</td>\n",
       "      <td>0</td>\n",
       "      <td>0.0</td>\n",
       "      <td>0.0</td>\n",
       "    </tr>\n",
       "    <tr>\n",
       "      <th>11337</th>\n",
       "      <td>38.311573</td>\n",
       "      <td>2017-09-11 18:30:00+00:00</td>\n",
       "      <td>-0.559531</td>\n",
       "      <td>0.114779</td>\n",
       "      <td>-0.115476</td>\n",
       "      <td>0.257547</td>\n",
       "      <td>-0.049371</td>\n",
       "      <td>0.243913</td>\n",
       "      <td>-0.591729</td>\n",
       "      <td>-0.107678</td>\n",
       "      <td>...</td>\n",
       "      <td>0</td>\n",
       "      <td>0</td>\n",
       "      <td>0</td>\n",
       "      <td>0</td>\n",
       "      <td>0</td>\n",
       "      <td>0</td>\n",
       "      <td>0</td>\n",
       "      <td>0</td>\n",
       "      <td>0.0</td>\n",
       "      <td>0.0</td>\n",
       "    </tr>\n",
       "    <tr>\n",
       "      <th>11338</th>\n",
       "      <td>74.344765</td>\n",
       "      <td>2017-09-13 18:30:00+00:00</td>\n",
       "      <td>-0.554744</td>\n",
       "      <td>0.114666</td>\n",
       "      <td>-0.116321</td>\n",
       "      <td>0.256905</td>\n",
       "      <td>-0.049576</td>\n",
       "      <td>0.243066</td>\n",
       "      <td>-0.587184</td>\n",
       "      <td>-0.107508</td>\n",
       "      <td>...</td>\n",
       "      <td>0</td>\n",
       "      <td>0</td>\n",
       "      <td>0</td>\n",
       "      <td>0</td>\n",
       "      <td>0</td>\n",
       "      <td>0</td>\n",
       "      <td>0</td>\n",
       "      <td>0</td>\n",
       "      <td>0.0</td>\n",
       "      <td>0.0</td>\n",
       "    </tr>\n",
       "    <tr>\n",
       "      <th>11339</th>\n",
       "      <td>89.514030</td>\n",
       "      <td>2017-09-13 18:30:00+00:00</td>\n",
       "      <td>-0.554744</td>\n",
       "      <td>0.114666</td>\n",
       "      <td>-0.116321</td>\n",
       "      <td>0.256905</td>\n",
       "      <td>-0.049576</td>\n",
       "      <td>0.243066</td>\n",
       "      <td>-0.587184</td>\n",
       "      <td>-0.107508</td>\n",
       "      <td>...</td>\n",
       "      <td>0</td>\n",
       "      <td>0</td>\n",
       "      <td>0</td>\n",
       "      <td>0</td>\n",
       "      <td>0</td>\n",
       "      <td>0</td>\n",
       "      <td>0</td>\n",
       "      <td>0</td>\n",
       "      <td>0.0</td>\n",
       "      <td>0.0</td>\n",
       "    </tr>\n",
       "    <tr>\n",
       "      <th>...</th>\n",
       "      <td>...</td>\n",
       "      <td>...</td>\n",
       "      <td>...</td>\n",
       "      <td>...</td>\n",
       "      <td>...</td>\n",
       "      <td>...</td>\n",
       "      <td>...</td>\n",
       "      <td>...</td>\n",
       "      <td>...</td>\n",
       "      <td>...</td>\n",
       "      <td>...</td>\n",
       "      <td>...</td>\n",
       "      <td>...</td>\n",
       "      <td>...</td>\n",
       "      <td>...</td>\n",
       "      <td>...</td>\n",
       "      <td>...</td>\n",
       "      <td>...</td>\n",
       "      <td>...</td>\n",
       "      <td>...</td>\n",
       "      <td>...</td>\n",
       "    </tr>\n",
       "    <tr>\n",
       "      <th>15994</th>\n",
       "      <td>54.280643</td>\n",
       "      <td>2021-06-05 18:30:00+00:00</td>\n",
       "      <td>-0.561104</td>\n",
       "      <td>0.114857</td>\n",
       "      <td>-0.115555</td>\n",
       "      <td>0.257440</td>\n",
       "      <td>-0.049277</td>\n",
       "      <td>0.244174</td>\n",
       "      <td>-0.593226</td>\n",
       "      <td>-0.107686</td>\n",
       "      <td>...</td>\n",
       "      <td>0</td>\n",
       "      <td>0</td>\n",
       "      <td>0</td>\n",
       "      <td>0</td>\n",
       "      <td>1</td>\n",
       "      <td>0</td>\n",
       "      <td>0</td>\n",
       "      <td>0</td>\n",
       "      <td>0.0</td>\n",
       "      <td>0.0</td>\n",
       "    </tr>\n",
       "    <tr>\n",
       "      <th>15995</th>\n",
       "      <td>54.390671</td>\n",
       "      <td>2021-06-05 18:30:00+00:00</td>\n",
       "      <td>-0.561104</td>\n",
       "      <td>0.114857</td>\n",
       "      <td>-0.115555</td>\n",
       "      <td>0.257440</td>\n",
       "      <td>-0.049277</td>\n",
       "      <td>0.244174</td>\n",
       "      <td>-0.593226</td>\n",
       "      <td>-0.107686</td>\n",
       "      <td>...</td>\n",
       "      <td>0</td>\n",
       "      <td>0</td>\n",
       "      <td>0</td>\n",
       "      <td>0</td>\n",
       "      <td>0</td>\n",
       "      <td>1</td>\n",
       "      <td>0</td>\n",
       "      <td>0</td>\n",
       "      <td>0.0</td>\n",
       "      <td>0.0</td>\n",
       "    </tr>\n",
       "    <tr>\n",
       "      <th>15996</th>\n",
       "      <td>46.778610</td>\n",
       "      <td>2021-06-05 18:30:00+00:00</td>\n",
       "      <td>-0.561104</td>\n",
       "      <td>0.114857</td>\n",
       "      <td>-0.115555</td>\n",
       "      <td>0.257440</td>\n",
       "      <td>-0.049277</td>\n",
       "      <td>0.244174</td>\n",
       "      <td>-0.593226</td>\n",
       "      <td>-0.107686</td>\n",
       "      <td>...</td>\n",
       "      <td>0</td>\n",
       "      <td>0</td>\n",
       "      <td>0</td>\n",
       "      <td>0</td>\n",
       "      <td>0</td>\n",
       "      <td>0</td>\n",
       "      <td>0</td>\n",
       "      <td>0</td>\n",
       "      <td>0.0</td>\n",
       "      <td>0.0</td>\n",
       "    </tr>\n",
       "    <tr>\n",
       "      <th>15997</th>\n",
       "      <td>55.733818</td>\n",
       "      <td>2021-06-17 18:30:00+00:00</td>\n",
       "      <td>-0.556475</td>\n",
       "      <td>0.114697</td>\n",
       "      <td>-0.116058</td>\n",
       "      <td>0.256996</td>\n",
       "      <td>-0.049477</td>\n",
       "      <td>0.243355</td>\n",
       "      <td>-0.588765</td>\n",
       "      <td>-0.107504</td>\n",
       "      <td>...</td>\n",
       "      <td>0</td>\n",
       "      <td>0</td>\n",
       "      <td>0</td>\n",
       "      <td>0</td>\n",
       "      <td>0</td>\n",
       "      <td>0</td>\n",
       "      <td>0</td>\n",
       "      <td>0</td>\n",
       "      <td>0.0</td>\n",
       "      <td>0.0</td>\n",
       "    </tr>\n",
       "    <tr>\n",
       "      <th>15998</th>\n",
       "      <td>75.723808</td>\n",
       "      <td>2021-04-11 18:30:00+00:00</td>\n",
       "      <td>-0.556702</td>\n",
       "      <td>0.114758</td>\n",
       "      <td>-0.116034</td>\n",
       "      <td>0.257136</td>\n",
       "      <td>-0.049515</td>\n",
       "      <td>0.243378</td>\n",
       "      <td>-0.589021</td>\n",
       "      <td>-0.107595</td>\n",
       "      <td>...</td>\n",
       "      <td>0</td>\n",
       "      <td>0</td>\n",
       "      <td>0</td>\n",
       "      <td>0</td>\n",
       "      <td>0</td>\n",
       "      <td>0</td>\n",
       "      <td>0</td>\n",
       "      <td>0</td>\n",
       "      <td>0.0</td>\n",
       "      <td>0.0</td>\n",
       "    </tr>\n",
       "  </tbody>\n",
       "</table>\n",
       "<p>4664 rows × 2119 columns</p>\n",
       "</div>"
      ],
      "text/plain": [
       "           value               datetime_dt  AOD at 0.47 micron_0  \\\n",
       "11335  35.648685 2017-09-11 18:30:00+00:00             -0.559531   \n",
       "11336  38.556229 2017-09-11 18:30:00+00:00             -0.559531   \n",
       "11337  38.311573 2017-09-11 18:30:00+00:00             -0.559531   \n",
       "11338  74.344765 2017-09-13 18:30:00+00:00             -0.554744   \n",
       "11339  89.514030 2017-09-13 18:30:00+00:00             -0.554744   \n",
       "...          ...                       ...                   ...   \n",
       "15994  54.280643 2021-06-05 18:30:00+00:00             -0.561104   \n",
       "15995  54.390671 2021-06-05 18:30:00+00:00             -0.561104   \n",
       "15996  46.778610 2021-06-05 18:30:00+00:00             -0.561104   \n",
       "15997  55.733818 2021-06-17 18:30:00+00:00             -0.556475   \n",
       "15998  75.723808 2021-04-11 18:30:00+00:00             -0.556702   \n",
       "\n",
       "       AOD at 0.47 micron_1  AOD at 0.47 micron_2  AOD at 0.47 micron_3  \\\n",
       "11335              0.114779             -0.115476              0.257547   \n",
       "11336              0.114779             -0.115476              0.257547   \n",
       "11337              0.114779             -0.115476              0.257547   \n",
       "11338              0.114666             -0.116321              0.256905   \n",
       "11339              0.114666             -0.116321              0.256905   \n",
       "...                     ...                   ...                   ...   \n",
       "15994              0.114857             -0.115555              0.257440   \n",
       "15995              0.114857             -0.115555              0.257440   \n",
       "15996              0.114857             -0.115555              0.257440   \n",
       "15997              0.114697             -0.116058              0.256996   \n",
       "15998              0.114758             -0.116034              0.257136   \n",
       "\n",
       "       AOD at 0.47 micron_4  AOD at 0.47 micron_5  AOD at 0.47 micron_6  \\\n",
       "11335             -0.049371              0.243913             -0.591729   \n",
       "11336             -0.049371              0.243913             -0.591729   \n",
       "11337             -0.049371              0.243913             -0.591729   \n",
       "11338             -0.049576              0.243066             -0.587184   \n",
       "11339             -0.049576              0.243066             -0.587184   \n",
       "...                     ...                   ...                   ...   \n",
       "15994             -0.049277              0.244174             -0.593226   \n",
       "15995             -0.049277              0.244174             -0.593226   \n",
       "15996             -0.049277              0.244174             -0.593226   \n",
       "15997             -0.049477              0.243355             -0.588765   \n",
       "15998             -0.049515              0.243378             -0.589021   \n",
       "\n",
       "       AOD at 0.47 micron_7  ...  WT52R  X5DKW  XJF9O  XNLVD  YHOPV  ZF3ZW  \\\n",
       "11335             -0.107678  ...      0      0      0      0      0      0   \n",
       "11336             -0.107678  ...      0      0      0      0      0      0   \n",
       "11337             -0.107678  ...      0      0      0      0      0      0   \n",
       "11338             -0.107508  ...      0      0      0      0      0      0   \n",
       "11339             -0.107508  ...      0      0      0      0      0      0   \n",
       "...                     ...  ...    ...    ...    ...    ...    ...    ...   \n",
       "15994             -0.107686  ...      0      0      0      0      1      0   \n",
       "15995             -0.107686  ...      0      0      0      0      0      1   \n",
       "15996             -0.107686  ...      0      0      0      0      0      0   \n",
       "15997             -0.107504  ...      0      0      0      0      0      0   \n",
       "15998             -0.107595  ...      0      0      0      0      0      0   \n",
       "\n",
       "       ZP1FZ  ZZ8JF  7F1D1  WZNCR  \n",
       "11335      0      0    0.0    0.0  \n",
       "11336      0      0    0.0    0.0  \n",
       "11337      0      0    0.0    0.0  \n",
       "11338      0      0    0.0    0.0  \n",
       "11339      0      0    0.0    0.0  \n",
       "...      ...    ...    ...    ...  \n",
       "15994      0      0    0.0    0.0  \n",
       "15995      0      0    0.0    0.0  \n",
       "15996      0      0    0.0    0.0  \n",
       "15997      0      0    0.0    0.0  \n",
       "15998      0      0    0.0    0.0  \n",
       "\n",
       "[4664 rows x 2119 columns]"
      ]
     },
     "execution_count": 303,
     "metadata": {},
     "output_type": "execute_result"
    }
   ],
   "source": [
    "y_t = df_testi[\"value\"].values\n",
    "df_testi"
   ]
  },
  {
   "cell_type": "code",
   "execution_count": 257,
   "id": "b0727240",
   "metadata": {},
   "outputs": [],
   "source": [
    "test_inderence_dataset = RegressionDataset(torch.from_numpy(X_t).float(), torch.from_numpy(y_t).float())"
   ]
  },
  {
   "cell_type": "code",
   "execution_count": 263,
   "id": "81c1214f",
   "metadata": {},
   "outputs": [],
   "source": [
    "test_inference_loader = DataLoader(dataset=test_inderence_dataset, batch_size=1,shuffle=False)"
   ]
  },
  {
   "cell_type": "code",
   "execution_count": 264,
   "id": "222210e5",
   "metadata": {},
   "outputs": [],
   "source": [
    "y_pred_list = []\n",
    "with torch.no_grad():\n",
    "    model.eval()\n",
    "    for X_batch, _ in test_inderence_dataset:\n",
    "        X_batch = X_batch.to(device)\n",
    "        y_test_pred = model(X_batch)\n",
    "        y_pred_list.append(y_test_pred.cpu().numpy())\n",
    "y_pred_list = [a.squeeze().tolist() for a in y_pred_list]"
   ]
  },
  {
   "cell_type": "code",
   "execution_count": null,
   "id": "a1fbde96",
   "metadata": {},
   "outputs": [],
   "source": []
  },
  {
   "cell_type": "code",
   "execution_count": 267,
   "id": "b5d8f570",
   "metadata": {},
   "outputs": [
    {
     "data": {
      "text/plain": [
       "15999"
      ]
     },
     "execution_count": 267,
     "metadata": {},
     "output_type": "execute_result"
    }
   ],
   "source": [
    "len(y_pred_list)"
   ]
  },
  {
   "cell_type": "code",
   "execution_count": 419,
   "id": "6c4bc602",
   "metadata": {},
   "outputs": [],
   "source": [
    "df_test[\"value\"]=y_pred_list"
   ]
  },
  {
   "cell_type": "code",
   "execution_count": 420,
   "id": "abfcc866",
   "metadata": {},
   "outputs": [
    {
     "data": {
      "text/html": [
       "<div>\n",
       "<style scoped>\n",
       "    .dataframe tbody tr th:only-of-type {\n",
       "        vertical-align: middle;\n",
       "    }\n",
       "\n",
       "    .dataframe tbody tr th {\n",
       "        vertical-align: top;\n",
       "    }\n",
       "\n",
       "    .dataframe thead th {\n",
       "        text-align: right;\n",
       "    }\n",
       "</style>\n",
       "<table border=\"1\" class=\"dataframe\">\n",
       "  <thead>\n",
       "    <tr style=\"text-align: right;\">\n",
       "      <th></th>\n",
       "      <th>datetime</th>\n",
       "      <th>grid_id</th>\n",
       "      <th>value</th>\n",
       "    </tr>\n",
       "  </thead>\n",
       "  <tbody>\n",
       "    <tr>\n",
       "      <th>0</th>\n",
       "      <td>2017-01-07T16:00:00Z</td>\n",
       "      <td>1X116</td>\n",
       "      <td>0.0</td>\n",
       "    </tr>\n",
       "    <tr>\n",
       "      <th>1</th>\n",
       "      <td>2017-01-07T16:00:00Z</td>\n",
       "      <td>9Q6TA</td>\n",
       "      <td>0.0</td>\n",
       "    </tr>\n",
       "    <tr>\n",
       "      <th>2</th>\n",
       "      <td>2017-01-07T16:00:00Z</td>\n",
       "      <td>KW43U</td>\n",
       "      <td>0.0</td>\n",
       "    </tr>\n",
       "    <tr>\n",
       "      <th>3</th>\n",
       "      <td>2017-01-07T16:00:00Z</td>\n",
       "      <td>VR4WG</td>\n",
       "      <td>0.0</td>\n",
       "    </tr>\n",
       "    <tr>\n",
       "      <th>4</th>\n",
       "      <td>2017-01-07T16:00:00Z</td>\n",
       "      <td>XJF9O</td>\n",
       "      <td>0.0</td>\n",
       "    </tr>\n",
       "    <tr>\n",
       "      <th>...</th>\n",
       "      <td>...</td>\n",
       "      <td>...</td>\n",
       "      <td>...</td>\n",
       "    </tr>\n",
       "    <tr>\n",
       "      <th>13499</th>\n",
       "      <td>2021-08-24T08:00:00Z</td>\n",
       "      <td>QJHW4</td>\n",
       "      <td>0.0</td>\n",
       "    </tr>\n",
       "    <tr>\n",
       "      <th>13500</th>\n",
       "      <td>2021-08-24T08:00:00Z</td>\n",
       "      <td>VBLD0</td>\n",
       "      <td>0.0</td>\n",
       "    </tr>\n",
       "    <tr>\n",
       "      <th>13501</th>\n",
       "      <td>2021-08-24T08:00:00Z</td>\n",
       "      <td>WT52R</td>\n",
       "      <td>0.0</td>\n",
       "    </tr>\n",
       "    <tr>\n",
       "      <th>13502</th>\n",
       "      <td>2021-08-24T08:00:00Z</td>\n",
       "      <td>ZP1FZ</td>\n",
       "      <td>0.0</td>\n",
       "    </tr>\n",
       "    <tr>\n",
       "      <th>13503</th>\n",
       "      <td>2021-08-24T08:00:00Z</td>\n",
       "      <td>ZZ8JF</td>\n",
       "      <td>0.0</td>\n",
       "    </tr>\n",
       "  </tbody>\n",
       "</table>\n",
       "<p>13504 rows × 3 columns</p>\n",
       "</div>"
      ],
      "text/plain": [
       "                   datetime grid_id  value\n",
       "0      2017-01-07T16:00:00Z   1X116    0.0\n",
       "1      2017-01-07T16:00:00Z   9Q6TA    0.0\n",
       "2      2017-01-07T16:00:00Z   KW43U    0.0\n",
       "3      2017-01-07T16:00:00Z   VR4WG    0.0\n",
       "4      2017-01-07T16:00:00Z   XJF9O    0.0\n",
       "...                     ...     ...    ...\n",
       "13499  2021-08-24T08:00:00Z   QJHW4    0.0\n",
       "13500  2021-08-24T08:00:00Z   VBLD0    0.0\n",
       "13501  2021-08-24T08:00:00Z   WT52R    0.0\n",
       "13502  2021-08-24T08:00:00Z   ZP1FZ    0.0\n",
       "13503  2021-08-24T08:00:00Z   ZZ8JF    0.0\n",
       "\n",
       "[13504 rows x 3 columns]"
      ]
     },
     "execution_count": 420,
     "metadata": {},
     "output_type": "execute_result"
    }
   ],
   "source": [
    "test_labels = pd.read_csv(\"submission_format.csv\")\n",
    "# test_labels[\"datetime\"] = pd.to_datetime(test_labels[\"datetime\"])\n",
    "test_labels"
   ]
  },
  {
   "cell_type": "code",
   "execution_count": 470,
   "id": "5996d7dd",
   "metadata": {},
   "outputs": [
    {
     "data": {
      "text/plain": [
       "'2017-01-07T16:00:00Z'"
      ]
     },
     "execution_count": 470,
     "metadata": {},
     "output_type": "execute_result"
    }
   ],
   "source": [
    "test_labels[\"datetime\"][0]"
   ]
  },
  {
   "cell_type": "code",
   "execution_count": 471,
   "id": "c971d7a5",
   "metadata": {},
   "outputs": [],
   "source": [
    "df_final = df_test#[df_test[\"location\"]==\"Delhi\"]"
   ]
  },
  {
   "cell_type": "code",
   "execution_count": 472,
   "id": "1053250a",
   "metadata": {},
   "outputs": [],
   "source": [
    "filtered =df_final[['grid_id','value','datetime']]"
   ]
  },
  {
   "cell_type": "code",
   "execution_count": 473,
   "id": "b28df63d",
   "metadata": {},
   "outputs": [],
   "source": [
    "# filtered.columns = ['grid_id','value','datetime']"
   ]
  },
  {
   "cell_type": "code",
   "execution_count": 468,
   "id": "dde01467",
   "metadata": {},
   "outputs": [
    {
     "ename": "KeyError",
     "evalue": "'grid_id'",
     "output_type": "error",
     "traceback": [
      "\u001b[0;31m---------------------------------------------------------------------------\u001b[0m",
      "\u001b[0;31mKeyError\u001b[0m                                  Traceback (most recent call last)",
      "Input \u001b[0;32mIn [468]\u001b[0m, in \u001b[0;36m<cell line: 1>\u001b[0;34m()\u001b[0m\n\u001b[0;32m----> 1\u001b[0m df_f \u001b[38;5;241m=\u001b[39m \u001b[43mtest_labels\u001b[49m\u001b[38;5;241;43m.\u001b[39;49m\u001b[43mmerge\u001b[49m\u001b[43m(\u001b[49m\u001b[43mfiltered\u001b[49m\u001b[43m,\u001b[49m\u001b[43mon\u001b[49m\u001b[38;5;241;43m=\u001b[39;49m\u001b[43m[\u001b[49m\u001b[38;5;124;43m'\u001b[39;49m\u001b[38;5;124;43mgrid_id\u001b[39;49m\u001b[38;5;124;43m'\u001b[39;49m\u001b[43m,\u001b[49m\u001b[38;5;124;43m'\u001b[39;49m\u001b[38;5;124;43mdatetime\u001b[39;49m\u001b[38;5;124;43m'\u001b[39;49m\u001b[43m]\u001b[49m\u001b[43m,\u001b[49m\u001b[43mhow\u001b[49m\u001b[38;5;241;43m=\u001b[39;49m\u001b[38;5;124;43m\"\u001b[39;49m\u001b[38;5;124;43mleft\u001b[39;49m\u001b[38;5;124;43m\"\u001b[39;49m\u001b[43m)\u001b[49m\n",
      "File \u001b[0;32m/opt/conda/lib/python3.8/site-packages/pandas/core/frame.py:9339\u001b[0m, in \u001b[0;36mDataFrame.merge\u001b[0;34m(self, right, how, on, left_on, right_on, left_index, right_index, sort, suffixes, copy, indicator, validate)\u001b[0m\n\u001b[1;32m   9320\u001b[0m \u001b[38;5;129m@Substitution\u001b[39m(\u001b[38;5;124m\"\u001b[39m\u001b[38;5;124m\"\u001b[39m)\n\u001b[1;32m   9321\u001b[0m \u001b[38;5;129m@Appender\u001b[39m(_merge_doc, indents\u001b[38;5;241m=\u001b[39m\u001b[38;5;241m2\u001b[39m)\n\u001b[1;32m   9322\u001b[0m \u001b[38;5;28;01mdef\u001b[39;00m \u001b[38;5;21mmerge\u001b[39m(\n\u001b[0;32m   (...)\u001b[0m\n\u001b[1;32m   9335\u001b[0m     validate: \u001b[38;5;28mstr\u001b[39m \u001b[38;5;241m|\u001b[39m \u001b[38;5;28;01mNone\u001b[39;00m \u001b[38;5;241m=\u001b[39m \u001b[38;5;28;01mNone\u001b[39;00m,\n\u001b[1;32m   9336\u001b[0m ) \u001b[38;5;241m-\u001b[39m\u001b[38;5;241m>\u001b[39m DataFrame:\n\u001b[1;32m   9337\u001b[0m     \u001b[38;5;28;01mfrom\u001b[39;00m \u001b[38;5;21;01mpandas\u001b[39;00m\u001b[38;5;21;01m.\u001b[39;00m\u001b[38;5;21;01mcore\u001b[39;00m\u001b[38;5;21;01m.\u001b[39;00m\u001b[38;5;21;01mreshape\u001b[39;00m\u001b[38;5;21;01m.\u001b[39;00m\u001b[38;5;21;01mmerge\u001b[39;00m \u001b[38;5;28;01mimport\u001b[39;00m merge\n\u001b[0;32m-> 9339\u001b[0m     \u001b[38;5;28;01mreturn\u001b[39;00m \u001b[43mmerge\u001b[49m\u001b[43m(\u001b[49m\n\u001b[1;32m   9340\u001b[0m \u001b[43m        \u001b[49m\u001b[38;5;28;43mself\u001b[39;49m\u001b[43m,\u001b[49m\n\u001b[1;32m   9341\u001b[0m \u001b[43m        \u001b[49m\u001b[43mright\u001b[49m\u001b[43m,\u001b[49m\n\u001b[1;32m   9342\u001b[0m \u001b[43m        \u001b[49m\u001b[43mhow\u001b[49m\u001b[38;5;241;43m=\u001b[39;49m\u001b[43mhow\u001b[49m\u001b[43m,\u001b[49m\n\u001b[1;32m   9343\u001b[0m \u001b[43m        \u001b[49m\u001b[43mon\u001b[49m\u001b[38;5;241;43m=\u001b[39;49m\u001b[43mon\u001b[49m\u001b[43m,\u001b[49m\n\u001b[1;32m   9344\u001b[0m \u001b[43m        \u001b[49m\u001b[43mleft_on\u001b[49m\u001b[38;5;241;43m=\u001b[39;49m\u001b[43mleft_on\u001b[49m\u001b[43m,\u001b[49m\n\u001b[1;32m   9345\u001b[0m \u001b[43m        \u001b[49m\u001b[43mright_on\u001b[49m\u001b[38;5;241;43m=\u001b[39;49m\u001b[43mright_on\u001b[49m\u001b[43m,\u001b[49m\n\u001b[1;32m   9346\u001b[0m \u001b[43m        \u001b[49m\u001b[43mleft_index\u001b[49m\u001b[38;5;241;43m=\u001b[39;49m\u001b[43mleft_index\u001b[49m\u001b[43m,\u001b[49m\n\u001b[1;32m   9347\u001b[0m \u001b[43m        \u001b[49m\u001b[43mright_index\u001b[49m\u001b[38;5;241;43m=\u001b[39;49m\u001b[43mright_index\u001b[49m\u001b[43m,\u001b[49m\n\u001b[1;32m   9348\u001b[0m \u001b[43m        \u001b[49m\u001b[43msort\u001b[49m\u001b[38;5;241;43m=\u001b[39;49m\u001b[43msort\u001b[49m\u001b[43m,\u001b[49m\n\u001b[1;32m   9349\u001b[0m \u001b[43m        \u001b[49m\u001b[43msuffixes\u001b[49m\u001b[38;5;241;43m=\u001b[39;49m\u001b[43msuffixes\u001b[49m\u001b[43m,\u001b[49m\n\u001b[1;32m   9350\u001b[0m \u001b[43m        \u001b[49m\u001b[43mcopy\u001b[49m\u001b[38;5;241;43m=\u001b[39;49m\u001b[43mcopy\u001b[49m\u001b[43m,\u001b[49m\n\u001b[1;32m   9351\u001b[0m \u001b[43m        \u001b[49m\u001b[43mindicator\u001b[49m\u001b[38;5;241;43m=\u001b[39;49m\u001b[43mindicator\u001b[49m\u001b[43m,\u001b[49m\n\u001b[1;32m   9352\u001b[0m \u001b[43m        \u001b[49m\u001b[43mvalidate\u001b[49m\u001b[38;5;241;43m=\u001b[39;49m\u001b[43mvalidate\u001b[49m\u001b[43m,\u001b[49m\n\u001b[1;32m   9353\u001b[0m \u001b[43m    \u001b[49m\u001b[43m)\u001b[49m\n",
      "File \u001b[0;32m/opt/conda/lib/python3.8/site-packages/pandas/core/reshape/merge.py:107\u001b[0m, in \u001b[0;36mmerge\u001b[0;34m(left, right, how, on, left_on, right_on, left_index, right_index, sort, suffixes, copy, indicator, validate)\u001b[0m\n\u001b[1;32m     90\u001b[0m \u001b[38;5;129m@Substitution\u001b[39m(\u001b[38;5;124m\"\u001b[39m\u001b[38;5;130;01m\\n\u001b[39;00m\u001b[38;5;124mleft : DataFrame or named Series\u001b[39m\u001b[38;5;124m\"\u001b[39m)\n\u001b[1;32m     91\u001b[0m \u001b[38;5;129m@Appender\u001b[39m(_merge_doc, indents\u001b[38;5;241m=\u001b[39m\u001b[38;5;241m0\u001b[39m)\n\u001b[1;32m     92\u001b[0m \u001b[38;5;28;01mdef\u001b[39;00m \u001b[38;5;21mmerge\u001b[39m(\n\u001b[0;32m   (...)\u001b[0m\n\u001b[1;32m    105\u001b[0m     validate: \u001b[38;5;28mstr\u001b[39m \u001b[38;5;241m|\u001b[39m \u001b[38;5;28;01mNone\u001b[39;00m \u001b[38;5;241m=\u001b[39m \u001b[38;5;28;01mNone\u001b[39;00m,\n\u001b[1;32m    106\u001b[0m ) \u001b[38;5;241m-\u001b[39m\u001b[38;5;241m>\u001b[39m DataFrame:\n\u001b[0;32m--> 107\u001b[0m     op \u001b[38;5;241m=\u001b[39m \u001b[43m_MergeOperation\u001b[49m\u001b[43m(\u001b[49m\n\u001b[1;32m    108\u001b[0m \u001b[43m        \u001b[49m\u001b[43mleft\u001b[49m\u001b[43m,\u001b[49m\n\u001b[1;32m    109\u001b[0m \u001b[43m        \u001b[49m\u001b[43mright\u001b[49m\u001b[43m,\u001b[49m\n\u001b[1;32m    110\u001b[0m \u001b[43m        \u001b[49m\u001b[43mhow\u001b[49m\u001b[38;5;241;43m=\u001b[39;49m\u001b[43mhow\u001b[49m\u001b[43m,\u001b[49m\n\u001b[1;32m    111\u001b[0m \u001b[43m        \u001b[49m\u001b[43mon\u001b[49m\u001b[38;5;241;43m=\u001b[39;49m\u001b[43mon\u001b[49m\u001b[43m,\u001b[49m\n\u001b[1;32m    112\u001b[0m \u001b[43m        \u001b[49m\u001b[43mleft_on\u001b[49m\u001b[38;5;241;43m=\u001b[39;49m\u001b[43mleft_on\u001b[49m\u001b[43m,\u001b[49m\n\u001b[1;32m    113\u001b[0m \u001b[43m        \u001b[49m\u001b[43mright_on\u001b[49m\u001b[38;5;241;43m=\u001b[39;49m\u001b[43mright_on\u001b[49m\u001b[43m,\u001b[49m\n\u001b[1;32m    114\u001b[0m \u001b[43m        \u001b[49m\u001b[43mleft_index\u001b[49m\u001b[38;5;241;43m=\u001b[39;49m\u001b[43mleft_index\u001b[49m\u001b[43m,\u001b[49m\n\u001b[1;32m    115\u001b[0m \u001b[43m        \u001b[49m\u001b[43mright_index\u001b[49m\u001b[38;5;241;43m=\u001b[39;49m\u001b[43mright_index\u001b[49m\u001b[43m,\u001b[49m\n\u001b[1;32m    116\u001b[0m \u001b[43m        \u001b[49m\u001b[43msort\u001b[49m\u001b[38;5;241;43m=\u001b[39;49m\u001b[43msort\u001b[49m\u001b[43m,\u001b[49m\n\u001b[1;32m    117\u001b[0m \u001b[43m        \u001b[49m\u001b[43msuffixes\u001b[49m\u001b[38;5;241;43m=\u001b[39;49m\u001b[43msuffixes\u001b[49m\u001b[43m,\u001b[49m\n\u001b[1;32m    118\u001b[0m \u001b[43m        \u001b[49m\u001b[43mcopy\u001b[49m\u001b[38;5;241;43m=\u001b[39;49m\u001b[43mcopy\u001b[49m\u001b[43m,\u001b[49m\n\u001b[1;32m    119\u001b[0m \u001b[43m        \u001b[49m\u001b[43mindicator\u001b[49m\u001b[38;5;241;43m=\u001b[39;49m\u001b[43mindicator\u001b[49m\u001b[43m,\u001b[49m\n\u001b[1;32m    120\u001b[0m \u001b[43m        \u001b[49m\u001b[43mvalidate\u001b[49m\u001b[38;5;241;43m=\u001b[39;49m\u001b[43mvalidate\u001b[49m\u001b[43m,\u001b[49m\n\u001b[1;32m    121\u001b[0m \u001b[43m    \u001b[49m\u001b[43m)\u001b[49m\n\u001b[1;32m    122\u001b[0m     \u001b[38;5;28;01mreturn\u001b[39;00m op\u001b[38;5;241m.\u001b[39mget_result()\n",
      "File \u001b[0;32m/opt/conda/lib/python3.8/site-packages/pandas/core/reshape/merge.py:700\u001b[0m, in \u001b[0;36m_MergeOperation.__init__\u001b[0;34m(self, left, right, how, on, left_on, right_on, axis, left_index, right_index, sort, suffixes, copy, indicator, validate)\u001b[0m\n\u001b[1;32m    693\u001b[0m \u001b[38;5;28mself\u001b[39m\u001b[38;5;241m.\u001b[39m_cross \u001b[38;5;241m=\u001b[39m cross_col\n\u001b[1;32m    695\u001b[0m \u001b[38;5;66;03m# note this function has side effects\u001b[39;00m\n\u001b[1;32m    696\u001b[0m (\n\u001b[1;32m    697\u001b[0m     \u001b[38;5;28mself\u001b[39m\u001b[38;5;241m.\u001b[39mleft_join_keys,\n\u001b[1;32m    698\u001b[0m     \u001b[38;5;28mself\u001b[39m\u001b[38;5;241m.\u001b[39mright_join_keys,\n\u001b[1;32m    699\u001b[0m     \u001b[38;5;28mself\u001b[39m\u001b[38;5;241m.\u001b[39mjoin_names,\n\u001b[0;32m--> 700\u001b[0m ) \u001b[38;5;241m=\u001b[39m \u001b[38;5;28;43mself\u001b[39;49m\u001b[38;5;241;43m.\u001b[39;49m\u001b[43m_get_merge_keys\u001b[49m\u001b[43m(\u001b[49m\u001b[43m)\u001b[49m\n\u001b[1;32m    702\u001b[0m \u001b[38;5;66;03m# validate the merge keys dtypes. We may need to coerce\u001b[39;00m\n\u001b[1;32m    703\u001b[0m \u001b[38;5;66;03m# to avoid incompatible dtypes\u001b[39;00m\n\u001b[1;32m    704\u001b[0m \u001b[38;5;28mself\u001b[39m\u001b[38;5;241m.\u001b[39m_maybe_coerce_merge_keys()\n",
      "File \u001b[0;32m/opt/conda/lib/python3.8/site-packages/pandas/core/reshape/merge.py:1097\u001b[0m, in \u001b[0;36m_MergeOperation._get_merge_keys\u001b[0;34m(self)\u001b[0m\n\u001b[1;32m   1095\u001b[0m \u001b[38;5;28;01mif\u001b[39;00m \u001b[38;5;129;01mnot\u001b[39;00m is_rkey(rk):\n\u001b[1;32m   1096\u001b[0m     \u001b[38;5;28;01mif\u001b[39;00m rk \u001b[38;5;129;01mis\u001b[39;00m \u001b[38;5;129;01mnot\u001b[39;00m \u001b[38;5;28;01mNone\u001b[39;00m:\n\u001b[0;32m-> 1097\u001b[0m         right_keys\u001b[38;5;241m.\u001b[39mappend(\u001b[43mright\u001b[49m\u001b[38;5;241;43m.\u001b[39;49m\u001b[43m_get_label_or_level_values\u001b[49m\u001b[43m(\u001b[49m\u001b[43mrk\u001b[49m\u001b[43m)\u001b[49m)\n\u001b[1;32m   1098\u001b[0m     \u001b[38;5;28;01melse\u001b[39;00m:\n\u001b[1;32m   1099\u001b[0m         \u001b[38;5;66;03m# work-around for merge_asof(right_index=True)\u001b[39;00m\n\u001b[1;32m   1100\u001b[0m         right_keys\u001b[38;5;241m.\u001b[39mappend(right\u001b[38;5;241m.\u001b[39mindex)\n",
      "File \u001b[0;32m/opt/conda/lib/python3.8/site-packages/pandas/core/generic.py:1848\u001b[0m, in \u001b[0;36mNDFrame._get_label_or_level_values\u001b[0;34m(self, key, axis)\u001b[0m\n\u001b[1;32m   1846\u001b[0m     values \u001b[38;5;241m=\u001b[39m \u001b[38;5;28mself\u001b[39m\u001b[38;5;241m.\u001b[39maxes[axis]\u001b[38;5;241m.\u001b[39mget_level_values(key)\u001b[38;5;241m.\u001b[39m_values\n\u001b[1;32m   1847\u001b[0m \u001b[38;5;28;01melse\u001b[39;00m:\n\u001b[0;32m-> 1848\u001b[0m     \u001b[38;5;28;01mraise\u001b[39;00m \u001b[38;5;167;01mKeyError\u001b[39;00m(key)\n\u001b[1;32m   1850\u001b[0m \u001b[38;5;66;03m# Check for duplicates\u001b[39;00m\n\u001b[1;32m   1851\u001b[0m \u001b[38;5;28;01mif\u001b[39;00m values\u001b[38;5;241m.\u001b[39mndim \u001b[38;5;241m>\u001b[39m \u001b[38;5;241m1\u001b[39m:\n",
      "\u001b[0;31mKeyError\u001b[0m: 'grid_id'"
     ]
    }
   ],
   "source": [
    "df_f = test_labels.merge(filtered,on=['grid_id','datetime'],how=\"left\")"
   ]
  },
  {
   "cell_type": "code",
   "execution_count": 469,
   "id": "5cdaa310",
   "metadata": {},
   "outputs": [
    {
     "data": {
      "text/html": [
       "<div>\n",
       "<style scoped>\n",
       "    .dataframe tbody tr th:only-of-type {\n",
       "        vertical-align: middle;\n",
       "    }\n",
       "\n",
       "    .dataframe tbody tr th {\n",
       "        vertical-align: top;\n",
       "    }\n",
       "\n",
       "    .dataframe thead th {\n",
       "        text-align: right;\n",
       "    }\n",
       "</style>\n",
       "<table border=\"1\" class=\"dataframe\">\n",
       "  <thead>\n",
       "    <tr style=\"text-align: right;\">\n",
       "      <th></th>\n",
       "      <th>datetime</th>\n",
       "      <th>grid_id</th>\n",
       "      <th>value_x</th>\n",
       "      <th>value_y</th>\n",
       "    </tr>\n",
       "  </thead>\n",
       "  <tbody>\n",
       "    <tr>\n",
       "      <th>0</th>\n",
       "      <td>2017-01-07T16:00:00Z</td>\n",
       "      <td>1X116</td>\n",
       "      <td>0.0</td>\n",
       "      <td>15.883646</td>\n",
       "    </tr>\n",
       "    <tr>\n",
       "      <th>1</th>\n",
       "      <td>2017-01-07T16:00:00Z</td>\n",
       "      <td>9Q6TA</td>\n",
       "      <td>0.0</td>\n",
       "      <td>16.128211</td>\n",
       "    </tr>\n",
       "    <tr>\n",
       "      <th>2</th>\n",
       "      <td>2017-01-07T16:00:00Z</td>\n",
       "      <td>KW43U</td>\n",
       "      <td>0.0</td>\n",
       "      <td>16.841695</td>\n",
       "    </tr>\n",
       "    <tr>\n",
       "      <th>3</th>\n",
       "      <td>2017-01-07T16:00:00Z</td>\n",
       "      <td>VR4WG</td>\n",
       "      <td>0.0</td>\n",
       "      <td>18.448220</td>\n",
       "    </tr>\n",
       "    <tr>\n",
       "      <th>4</th>\n",
       "      <td>2017-01-07T16:00:00Z</td>\n",
       "      <td>XJF9O</td>\n",
       "      <td>0.0</td>\n",
       "      <td>15.212121</td>\n",
       "    </tr>\n",
       "    <tr>\n",
       "      <th>...</th>\n",
       "      <td>...</td>\n",
       "      <td>...</td>\n",
       "      <td>...</td>\n",
       "      <td>...</td>\n",
       "    </tr>\n",
       "    <tr>\n",
       "      <th>13499</th>\n",
       "      <td>2021-08-24T08:00:00Z</td>\n",
       "      <td>QJHW4</td>\n",
       "      <td>0.0</td>\n",
       "      <td>NaN</td>\n",
       "    </tr>\n",
       "    <tr>\n",
       "      <th>13500</th>\n",
       "      <td>2021-08-24T08:00:00Z</td>\n",
       "      <td>VBLD0</td>\n",
       "      <td>0.0</td>\n",
       "      <td>NaN</td>\n",
       "    </tr>\n",
       "    <tr>\n",
       "      <th>13501</th>\n",
       "      <td>2021-08-24T08:00:00Z</td>\n",
       "      <td>WT52R</td>\n",
       "      <td>0.0</td>\n",
       "      <td>NaN</td>\n",
       "    </tr>\n",
       "    <tr>\n",
       "      <th>13502</th>\n",
       "      <td>2021-08-24T08:00:00Z</td>\n",
       "      <td>ZP1FZ</td>\n",
       "      <td>0.0</td>\n",
       "      <td>NaN</td>\n",
       "    </tr>\n",
       "    <tr>\n",
       "      <th>13503</th>\n",
       "      <td>2021-08-24T08:00:00Z</td>\n",
       "      <td>ZZ8JF</td>\n",
       "      <td>0.0</td>\n",
       "      <td>NaN</td>\n",
       "    </tr>\n",
       "  </tbody>\n",
       "</table>\n",
       "<p>13504 rows × 4 columns</p>\n",
       "</div>"
      ],
      "text/plain": [
       "                   datetime grid_id  value_x    value_y\n",
       "0      2017-01-07T16:00:00Z   1X116      0.0  15.883646\n",
       "1      2017-01-07T16:00:00Z   9Q6TA      0.0  16.128211\n",
       "2      2017-01-07T16:00:00Z   KW43U      0.0  16.841695\n",
       "3      2017-01-07T16:00:00Z   VR4WG      0.0  18.448220\n",
       "4      2017-01-07T16:00:00Z   XJF9O      0.0  15.212121\n",
       "...                     ...     ...      ...        ...\n",
       "13499  2021-08-24T08:00:00Z   QJHW4      0.0        NaN\n",
       "13500  2021-08-24T08:00:00Z   VBLD0      0.0        NaN\n",
       "13501  2021-08-24T08:00:00Z   WT52R      0.0        NaN\n",
       "13502  2021-08-24T08:00:00Z   ZP1FZ      0.0        NaN\n",
       "13503  2021-08-24T08:00:00Z   ZZ8JF      0.0        NaN\n",
       "\n",
       "[13504 rows x 4 columns]"
      ]
     },
     "execution_count": 469,
     "metadata": {},
     "output_type": "execute_result"
    }
   ],
   "source": [
    "df_f"
   ]
  },
  {
   "cell_type": "code",
   "execution_count": 427,
   "id": "3175e86e",
   "metadata": {},
   "outputs": [],
   "source": [
    "dates = list(test_labels[\"datetime\"])"
   ]
  },
  {
   "cell_type": "code",
   "execution_count": 428,
   "id": "84407e87",
   "metadata": {},
   "outputs": [],
   "source": [
    "vals = pd.read_csv(\"dumbSameMonthAverage.csv\")"
   ]
  },
  {
   "cell_type": "code",
   "execution_count": 480,
   "id": "3324e762",
   "metadata": {},
   "outputs": [],
   "source": [
    "filtered = filtered.groupby([\"datetime\",\"value\"]).mean().reset_index()"
   ]
  },
  {
   "cell_type": "code",
   "execution_count": 481,
   "id": "68305687",
   "metadata": {},
   "outputs": [],
   "source": [
    "finals = vals.merge(df_f,on=['grid_id','datetime'],how=\"left\")"
   ]
  },
  {
   "cell_type": "code",
   "execution_count": 482,
   "id": "d72afe7b",
   "metadata": {},
   "outputs": [
    {
     "data": {
      "text/html": [
       "<div>\n",
       "<style scoped>\n",
       "    .dataframe tbody tr th:only-of-type {\n",
       "        vertical-align: middle;\n",
       "    }\n",
       "\n",
       "    .dataframe tbody tr th {\n",
       "        vertical-align: top;\n",
       "    }\n",
       "\n",
       "    .dataframe thead th {\n",
       "        text-align: right;\n",
       "    }\n",
       "</style>\n",
       "<table border=\"1\" class=\"dataframe\">\n",
       "  <thead>\n",
       "    <tr style=\"text-align: right;\">\n",
       "      <th></th>\n",
       "      <th>datetime</th>\n",
       "      <th>grid_id</th>\n",
       "      <th>value</th>\n",
       "      <th>value_x</th>\n",
       "      <th>value_y</th>\n",
       "    </tr>\n",
       "  </thead>\n",
       "  <tbody>\n",
       "    <tr>\n",
       "      <th>0</th>\n",
       "      <td>2017-01-07T16:00:00Z</td>\n",
       "      <td>1X116</td>\n",
       "      <td>12.719368</td>\n",
       "      <td>0.0</td>\n",
       "      <td>15.883646</td>\n",
       "    </tr>\n",
       "    <tr>\n",
       "      <th>1</th>\n",
       "      <td>2017-01-07T16:00:00Z</td>\n",
       "      <td>9Q6TA</td>\n",
       "      <td>14.291667</td>\n",
       "      <td>0.0</td>\n",
       "      <td>16.128211</td>\n",
       "    </tr>\n",
       "    <tr>\n",
       "      <th>2</th>\n",
       "      <td>2017-01-07T16:00:00Z</td>\n",
       "      <td>KW43U</td>\n",
       "      <td>12.565217</td>\n",
       "      <td>0.0</td>\n",
       "      <td>16.841695</td>\n",
       "    </tr>\n",
       "    <tr>\n",
       "      <th>3</th>\n",
       "      <td>2017-01-07T16:00:00Z</td>\n",
       "      <td>VR4WG</td>\n",
       "      <td>15.853261</td>\n",
       "      <td>0.0</td>\n",
       "      <td>18.448220</td>\n",
       "    </tr>\n",
       "    <tr>\n",
       "      <th>4</th>\n",
       "      <td>2017-01-07T16:00:00Z</td>\n",
       "      <td>XJF9O</td>\n",
       "      <td>14.264302</td>\n",
       "      <td>0.0</td>\n",
       "      <td>15.212121</td>\n",
       "    </tr>\n",
       "    <tr>\n",
       "      <th>...</th>\n",
       "      <td>...</td>\n",
       "      <td>...</td>\n",
       "      <td>...</td>\n",
       "      <td>...</td>\n",
       "      <td>...</td>\n",
       "    </tr>\n",
       "    <tr>\n",
       "      <th>13499</th>\n",
       "      <td>2021-08-24T08:00:00Z</td>\n",
       "      <td>QJHW4</td>\n",
       "      <td>15.800317</td>\n",
       "      <td>0.0</td>\n",
       "      <td>NaN</td>\n",
       "    </tr>\n",
       "    <tr>\n",
       "      <th>13500</th>\n",
       "      <td>2021-08-24T08:00:00Z</td>\n",
       "      <td>VBLD0</td>\n",
       "      <td>10.834375</td>\n",
       "      <td>0.0</td>\n",
       "      <td>NaN</td>\n",
       "    </tr>\n",
       "    <tr>\n",
       "      <th>13501</th>\n",
       "      <td>2021-08-24T08:00:00Z</td>\n",
       "      <td>WT52R</td>\n",
       "      <td>15.986975</td>\n",
       "      <td>0.0</td>\n",
       "      <td>NaN</td>\n",
       "    </tr>\n",
       "    <tr>\n",
       "      <th>13502</th>\n",
       "      <td>2021-08-24T08:00:00Z</td>\n",
       "      <td>ZP1FZ</td>\n",
       "      <td>19.875870</td>\n",
       "      <td>0.0</td>\n",
       "      <td>NaN</td>\n",
       "    </tr>\n",
       "    <tr>\n",
       "      <th>13503</th>\n",
       "      <td>2021-08-24T08:00:00Z</td>\n",
       "      <td>ZZ8JF</td>\n",
       "      <td>12.873864</td>\n",
       "      <td>0.0</td>\n",
       "      <td>NaN</td>\n",
       "    </tr>\n",
       "  </tbody>\n",
       "</table>\n",
       "<p>13504 rows × 5 columns</p>\n",
       "</div>"
      ],
      "text/plain": [
       "                   datetime grid_id      value  value_x    value_y\n",
       "0      2017-01-07T16:00:00Z   1X116  12.719368      0.0  15.883646\n",
       "1      2017-01-07T16:00:00Z   9Q6TA  14.291667      0.0  16.128211\n",
       "2      2017-01-07T16:00:00Z   KW43U  12.565217      0.0  16.841695\n",
       "3      2017-01-07T16:00:00Z   VR4WG  15.853261      0.0  18.448220\n",
       "4      2017-01-07T16:00:00Z   XJF9O  14.264302      0.0  15.212121\n",
       "...                     ...     ...        ...      ...        ...\n",
       "13499  2021-08-24T08:00:00Z   QJHW4  15.800317      0.0        NaN\n",
       "13500  2021-08-24T08:00:00Z   VBLD0  10.834375      0.0        NaN\n",
       "13501  2021-08-24T08:00:00Z   WT52R  15.986975      0.0        NaN\n",
       "13502  2021-08-24T08:00:00Z   ZP1FZ  19.875870      0.0        NaN\n",
       "13503  2021-08-24T08:00:00Z   ZZ8JF  12.873864      0.0        NaN\n",
       "\n",
       "[13504 rows x 5 columns]"
      ]
     },
     "execution_count": 482,
     "metadata": {},
     "output_type": "execute_result"
    }
   ],
   "source": [
    "finals"
   ]
  },
  {
   "cell_type": "code",
   "execution_count": 500,
   "id": "4e22f5c8",
   "metadata": {},
   "outputs": [],
   "source": [
    "resi = []\n",
    "for i in finals[[\"value\",\"value_y\"]].values:\n",
    "    if(i[1]!=i[1]):\n",
    "        resi.append(i[0])\n",
    "    else:\n",
    "        resi.append(8/12 *i[0] + 5/12*i[1]  )"
   ]
  },
  {
   "cell_type": "code",
   "execution_count": 501,
   "id": "59f9b016",
   "metadata": {},
   "outputs": [
    {
     "data": {
      "text/plain": [
       "(999.99, 728.5081307164241)"
      ]
     },
     "execution_count": 501,
     "metadata": {},
     "output_type": "execute_result"
    }
   ],
   "source": [
    "max(finals[\"value\"]),max(resi)"
   ]
  },
  {
   "cell_type": "code",
   "execution_count": 494,
   "id": "74a124e8",
   "metadata": {},
   "outputs": [
    {
     "data": {
      "text/plain": [
       "13504"
      ]
     },
     "execution_count": 494,
     "metadata": {},
     "output_type": "execute_result"
    }
   ],
   "source": [
    "len(resi)"
   ]
  },
  {
   "cell_type": "code",
   "execution_count": 495,
   "id": "1350d6be",
   "metadata": {},
   "outputs": [],
   "source": [
    "finals[\"value3\"] = resi"
   ]
  },
  {
   "cell_type": "code",
   "execution_count": 496,
   "id": "d99bb907",
   "metadata": {},
   "outputs": [],
   "source": [
    "grdi =finals[[\"datetime\",\"grid_id\",\"value3\"]]\n",
    "grdi.columns = vals.columns"
   ]
  },
  {
   "cell_type": "code",
   "execution_count": 497,
   "id": "56036a79",
   "metadata": {},
   "outputs": [
    {
     "data": {
      "text/html": [
       "<div>\n",
       "<style scoped>\n",
       "    .dataframe tbody tr th:only-of-type {\n",
       "        vertical-align: middle;\n",
       "    }\n",
       "\n",
       "    .dataframe tbody tr th {\n",
       "        vertical-align: top;\n",
       "    }\n",
       "\n",
       "    .dataframe thead th {\n",
       "        text-align: right;\n",
       "    }\n",
       "</style>\n",
       "<table border=\"1\" class=\"dataframe\">\n",
       "  <thead>\n",
       "    <tr style=\"text-align: right;\">\n",
       "      <th></th>\n",
       "      <th>value</th>\n",
       "    </tr>\n",
       "  </thead>\n",
       "  <tbody>\n",
       "    <tr>\n",
       "      <th>count</th>\n",
       "      <td>13504.000000</td>\n",
       "    </tr>\n",
       "    <tr>\n",
       "      <th>mean</th>\n",
       "      <td>39.332235</td>\n",
       "    </tr>\n",
       "    <tr>\n",
       "      <th>std</th>\n",
       "      <td>50.999803</td>\n",
       "    </tr>\n",
       "    <tr>\n",
       "      <th>min</th>\n",
       "      <td>0.435152</td>\n",
       "    </tr>\n",
       "    <tr>\n",
       "      <th>25%</th>\n",
       "      <td>10.372853</td>\n",
       "    </tr>\n",
       "    <tr>\n",
       "      <th>50%</th>\n",
       "      <td>14.240134</td>\n",
       "    </tr>\n",
       "    <tr>\n",
       "      <th>75%</th>\n",
       "      <td>51.039168</td>\n",
       "    </tr>\n",
       "    <tr>\n",
       "      <th>max</th>\n",
       "      <td>472.922821</td>\n",
       "    </tr>\n",
       "  </tbody>\n",
       "</table>\n",
       "</div>"
      ],
      "text/plain": [
       "              value\n",
       "count  13504.000000\n",
       "mean      39.332235\n",
       "std       50.999803\n",
       "min        0.435152\n",
       "25%       10.372853\n",
       "50%       14.240134\n",
       "75%       51.039168\n",
       "max      472.922821"
      ]
     },
     "execution_count": 497,
     "metadata": {},
     "output_type": "execute_result"
    }
   ],
   "source": [
    "grdi.describe()"
   ]
  },
  {
   "cell_type": "code",
   "execution_count": 498,
   "id": "5f6bc9c0",
   "metadata": {},
   "outputs": [],
   "source": [
    "grdi.to_csv(\"hardwork3.csv\",index=False)"
   ]
  },
  {
   "cell_type": "code",
   "execution_count": null,
   "id": "7a104c6a",
   "metadata": {},
   "outputs": [],
   "source": []
  },
  {
   "cell_type": "code",
   "execution_count": null,
   "id": "516fc92a",
   "metadata": {},
   "outputs": [],
   "source": []
  },
  {
   "cell_type": "code",
   "execution_count": 462,
   "id": "83257b60",
   "metadata": {},
   "outputs": [],
   "source": [
    "df_f = df_f.groupby([\"datetime\",\"grid_id\"]).mean().reset_index()"
   ]
  },
  {
   "cell_type": "code",
   "execution_count": 463,
   "id": "0164b211",
   "metadata": {},
   "outputs": [],
   "source": [
    "# final = df_f[df_f[\"datetime\"].isin(dates)]"
   ]
  },
  {
   "cell_type": "code",
   "execution_count": 474,
   "id": "86fa2f14",
   "metadata": {},
   "outputs": [
    {
     "data": {
      "text/html": [
       "<div>\n",
       "<style scoped>\n",
       "    .dataframe tbody tr th:only-of-type {\n",
       "        vertical-align: middle;\n",
       "    }\n",
       "\n",
       "    .dataframe tbody tr th {\n",
       "        vertical-align: top;\n",
       "    }\n",
       "\n",
       "    .dataframe thead th {\n",
       "        text-align: right;\n",
       "    }\n",
       "</style>\n",
       "<table border=\"1\" class=\"dataframe\">\n",
       "  <thead>\n",
       "    <tr style=\"text-align: right;\">\n",
       "      <th></th>\n",
       "      <th>datetime</th>\n",
       "      <th>grid_id</th>\n",
       "      <th>value_x</th>\n",
       "      <th>value_y</th>\n",
       "    </tr>\n",
       "  </thead>\n",
       "  <tbody>\n",
       "    <tr>\n",
       "      <th>0</th>\n",
       "      <td>2017-01-07T16:00:00Z</td>\n",
       "      <td>1X116</td>\n",
       "      <td>0.0</td>\n",
       "      <td>15.883646</td>\n",
       "    </tr>\n",
       "    <tr>\n",
       "      <th>1</th>\n",
       "      <td>2017-01-07T16:00:00Z</td>\n",
       "      <td>9Q6TA</td>\n",
       "      <td>0.0</td>\n",
       "      <td>16.128211</td>\n",
       "    </tr>\n",
       "    <tr>\n",
       "      <th>2</th>\n",
       "      <td>2017-01-07T16:00:00Z</td>\n",
       "      <td>KW43U</td>\n",
       "      <td>0.0</td>\n",
       "      <td>16.841695</td>\n",
       "    </tr>\n",
       "    <tr>\n",
       "      <th>3</th>\n",
       "      <td>2017-01-07T16:00:00Z</td>\n",
       "      <td>VR4WG</td>\n",
       "      <td>0.0</td>\n",
       "      <td>18.448220</td>\n",
       "    </tr>\n",
       "    <tr>\n",
       "      <th>4</th>\n",
       "      <td>2017-01-07T16:00:00Z</td>\n",
       "      <td>XJF9O</td>\n",
       "      <td>0.0</td>\n",
       "      <td>15.212121</td>\n",
       "    </tr>\n",
       "    <tr>\n",
       "      <th>...</th>\n",
       "      <td>...</td>\n",
       "      <td>...</td>\n",
       "      <td>...</td>\n",
       "      <td>...</td>\n",
       "    </tr>\n",
       "    <tr>\n",
       "      <th>13499</th>\n",
       "      <td>2021-08-24T08:00:00Z</td>\n",
       "      <td>QJHW4</td>\n",
       "      <td>0.0</td>\n",
       "      <td>NaN</td>\n",
       "    </tr>\n",
       "    <tr>\n",
       "      <th>13500</th>\n",
       "      <td>2021-08-24T08:00:00Z</td>\n",
       "      <td>VBLD0</td>\n",
       "      <td>0.0</td>\n",
       "      <td>NaN</td>\n",
       "    </tr>\n",
       "    <tr>\n",
       "      <th>13501</th>\n",
       "      <td>2021-08-24T08:00:00Z</td>\n",
       "      <td>WT52R</td>\n",
       "      <td>0.0</td>\n",
       "      <td>NaN</td>\n",
       "    </tr>\n",
       "    <tr>\n",
       "      <th>13502</th>\n",
       "      <td>2021-08-24T08:00:00Z</td>\n",
       "      <td>ZP1FZ</td>\n",
       "      <td>0.0</td>\n",
       "      <td>NaN</td>\n",
       "    </tr>\n",
       "    <tr>\n",
       "      <th>13503</th>\n",
       "      <td>2021-08-24T08:00:00Z</td>\n",
       "      <td>ZZ8JF</td>\n",
       "      <td>0.0</td>\n",
       "      <td>NaN</td>\n",
       "    </tr>\n",
       "  </tbody>\n",
       "</table>\n",
       "<p>13504 rows × 4 columns</p>\n",
       "</div>"
      ],
      "text/plain": [
       "                   datetime grid_id  value_x    value_y\n",
       "0      2017-01-07T16:00:00Z   1X116      0.0  15.883646\n",
       "1      2017-01-07T16:00:00Z   9Q6TA      0.0  16.128211\n",
       "2      2017-01-07T16:00:00Z   KW43U      0.0  16.841695\n",
       "3      2017-01-07T16:00:00Z   VR4WG      0.0  18.448220\n",
       "4      2017-01-07T16:00:00Z   XJF9O      0.0  15.212121\n",
       "...                     ...     ...      ...        ...\n",
       "13499  2021-08-24T08:00:00Z   QJHW4      0.0        NaN\n",
       "13500  2021-08-24T08:00:00Z   VBLD0      0.0        NaN\n",
       "13501  2021-08-24T08:00:00Z   WT52R      0.0        NaN\n",
       "13502  2021-08-24T08:00:00Z   ZP1FZ      0.0        NaN\n",
       "13503  2021-08-24T08:00:00Z   ZZ8JF      0.0        NaN\n",
       "\n",
       "[13504 rows x 4 columns]"
      ]
     },
     "execution_count": 474,
     "metadata": {},
     "output_type": "execute_result"
    }
   ],
   "source": [
    "final.groupby([\"datetime\",\"grid_id\"]).mean().reset_index()"
   ]
  },
  {
   "cell_type": "code",
   "execution_count": 465,
   "id": "aa6c4966",
   "metadata": {},
   "outputs": [
    {
     "data": {
      "text/html": [
       "<div>\n",
       "<style scoped>\n",
       "    .dataframe tbody tr th:only-of-type {\n",
       "        vertical-align: middle;\n",
       "    }\n",
       "\n",
       "    .dataframe tbody tr th {\n",
       "        vertical-align: top;\n",
       "    }\n",
       "\n",
       "    .dataframe thead th {\n",
       "        text-align: right;\n",
       "    }\n",
       "</style>\n",
       "<table border=\"1\" class=\"dataframe\">\n",
       "  <thead>\n",
       "    <tr style=\"text-align: right;\">\n",
       "      <th></th>\n",
       "      <th>datetime</th>\n",
       "      <th>grid_id</th>\n",
       "      <th>value</th>\n",
       "    </tr>\n",
       "  </thead>\n",
       "  <tbody>\n",
       "    <tr>\n",
       "      <th>0</th>\n",
       "      <td>2017-01-07T16:00:00Z</td>\n",
       "      <td>1X116</td>\n",
       "      <td>0.0</td>\n",
       "    </tr>\n",
       "    <tr>\n",
       "      <th>1</th>\n",
       "      <td>2017-01-07T16:00:00Z</td>\n",
       "      <td>9Q6TA</td>\n",
       "      <td>0.0</td>\n",
       "    </tr>\n",
       "    <tr>\n",
       "      <th>2</th>\n",
       "      <td>2017-01-07T16:00:00Z</td>\n",
       "      <td>KW43U</td>\n",
       "      <td>0.0</td>\n",
       "    </tr>\n",
       "    <tr>\n",
       "      <th>3</th>\n",
       "      <td>2017-01-07T16:00:00Z</td>\n",
       "      <td>VR4WG</td>\n",
       "      <td>0.0</td>\n",
       "    </tr>\n",
       "    <tr>\n",
       "      <th>4</th>\n",
       "      <td>2017-01-07T16:00:00Z</td>\n",
       "      <td>XJF9O</td>\n",
       "      <td>0.0</td>\n",
       "    </tr>\n",
       "    <tr>\n",
       "      <th>...</th>\n",
       "      <td>...</td>\n",
       "      <td>...</td>\n",
       "      <td>...</td>\n",
       "    </tr>\n",
       "    <tr>\n",
       "      <th>13499</th>\n",
       "      <td>2021-08-24T08:00:00Z</td>\n",
       "      <td>QJHW4</td>\n",
       "      <td>0.0</td>\n",
       "    </tr>\n",
       "    <tr>\n",
       "      <th>13500</th>\n",
       "      <td>2021-08-24T08:00:00Z</td>\n",
       "      <td>VBLD0</td>\n",
       "      <td>0.0</td>\n",
       "    </tr>\n",
       "    <tr>\n",
       "      <th>13501</th>\n",
       "      <td>2021-08-24T08:00:00Z</td>\n",
       "      <td>WT52R</td>\n",
       "      <td>0.0</td>\n",
       "    </tr>\n",
       "    <tr>\n",
       "      <th>13502</th>\n",
       "      <td>2021-08-24T08:00:00Z</td>\n",
       "      <td>ZP1FZ</td>\n",
       "      <td>0.0</td>\n",
       "    </tr>\n",
       "    <tr>\n",
       "      <th>13503</th>\n",
       "      <td>2021-08-24T08:00:00Z</td>\n",
       "      <td>ZZ8JF</td>\n",
       "      <td>0.0</td>\n",
       "    </tr>\n",
       "  </tbody>\n",
       "</table>\n",
       "<p>13504 rows × 3 columns</p>\n",
       "</div>"
      ],
      "text/plain": [
       "                   datetime grid_id  value\n",
       "0      2017-01-07T16:00:00Z   1X116    0.0\n",
       "1      2017-01-07T16:00:00Z   9Q6TA    0.0\n",
       "2      2017-01-07T16:00:00Z   KW43U    0.0\n",
       "3      2017-01-07T16:00:00Z   VR4WG    0.0\n",
       "4      2017-01-07T16:00:00Z   XJF9O    0.0\n",
       "...                     ...     ...    ...\n",
       "13499  2021-08-24T08:00:00Z   QJHW4    0.0\n",
       "13500  2021-08-24T08:00:00Z   VBLD0    0.0\n",
       "13501  2021-08-24T08:00:00Z   WT52R    0.0\n",
       "13502  2021-08-24T08:00:00Z   ZP1FZ    0.0\n",
       "13503  2021-08-24T08:00:00Z   ZZ8JF    0.0\n",
       "\n",
       "[13504 rows x 3 columns]"
      ]
     },
     "execution_count": 465,
     "metadata": {},
     "output_type": "execute_result"
    }
   ],
   "source": [
    "test_labels.groupby([\"datetime\",\"grid_id\"]).mean().reset_index()"
   ]
  },
  {
   "cell_type": "code",
   "execution_count": 287,
   "id": "aaa0528a",
   "metadata": {},
   "outputs": [],
   "source": [
    "filtered[\"datetime_dt\"]= pd.to_datetime(filtered[\"datetime_dt\"])"
   ]
  },
  {
   "cell_type": "code",
   "execution_count": 289,
   "id": "85b829ea",
   "metadata": {},
   "outputs": [
    {
     "data": {
      "text/html": [
       "<div>\n",
       "<style scoped>\n",
       "    .dataframe tbody tr th:only-of-type {\n",
       "        vertical-align: middle;\n",
       "    }\n",
       "\n",
       "    .dataframe tbody tr th {\n",
       "        vertical-align: top;\n",
       "    }\n",
       "\n",
       "    .dataframe thead th {\n",
       "        text-align: right;\n",
       "    }\n",
       "</style>\n",
       "<table border=\"1\" class=\"dataframe\">\n",
       "  <thead>\n",
       "    <tr style=\"text-align: right;\">\n",
       "      <th></th>\n",
       "      <th>datetime_dt</th>\n",
       "      <th>value</th>\n",
       "    </tr>\n",
       "  </thead>\n",
       "  <tbody>\n",
       "    <tr>\n",
       "      <th>0</th>\n",
       "      <td>2017-09-11 18:30:00+00:00</td>\n",
       "      <td>27.127584</td>\n",
       "    </tr>\n",
       "    <tr>\n",
       "      <th>1</th>\n",
       "      <td>2017-09-11 18:30:00+00:00</td>\n",
       "      <td>30.793737</td>\n",
       "    </tr>\n",
       "    <tr>\n",
       "      <th>2</th>\n",
       "      <td>2017-09-11 18:30:00+00:00</td>\n",
       "      <td>31.781155</td>\n",
       "    </tr>\n",
       "    <tr>\n",
       "      <th>3</th>\n",
       "      <td>2017-09-12 18:30:00+00:00</td>\n",
       "      <td>47.110882</td>\n",
       "    </tr>\n",
       "    <tr>\n",
       "      <th>4</th>\n",
       "      <td>2017-09-13 18:30:00+00:00</td>\n",
       "      <td>27.875738</td>\n",
       "    </tr>\n",
       "    <tr>\n",
       "      <th>...</th>\n",
       "      <td>...</td>\n",
       "      <td>...</td>\n",
       "    </tr>\n",
       "    <tr>\n",
       "      <th>4639</th>\n",
       "      <td>2021-07-24 18:30:00+00:00</td>\n",
       "      <td>16.941996</td>\n",
       "    </tr>\n",
       "    <tr>\n",
       "      <th>4638</th>\n",
       "      <td>2021-07-24 18:30:00+00:00</td>\n",
       "      <td>14.971571</td>\n",
       "    </tr>\n",
       "    <tr>\n",
       "      <th>4662</th>\n",
       "      <td>2021-07-24 18:30:00+00:00</td>\n",
       "      <td>32.055069</td>\n",
       "    </tr>\n",
       "    <tr>\n",
       "      <th>4649</th>\n",
       "      <td>2021-07-24 18:30:00+00:00</td>\n",
       "      <td>23.991646</td>\n",
       "    </tr>\n",
       "    <tr>\n",
       "      <th>4663</th>\n",
       "      <td>2021-07-24 18:30:00+00:00</td>\n",
       "      <td>52.160786</td>\n",
       "    </tr>\n",
       "  </tbody>\n",
       "</table>\n",
       "<p>4664 rows × 2 columns</p>\n",
       "</div>"
      ],
      "text/plain": [
       "                   datetime_dt      value\n",
       "0    2017-09-11 18:30:00+00:00  27.127584\n",
       "1    2017-09-11 18:30:00+00:00  30.793737\n",
       "2    2017-09-11 18:30:00+00:00  31.781155\n",
       "3    2017-09-12 18:30:00+00:00  47.110882\n",
       "4    2017-09-13 18:30:00+00:00  27.875738\n",
       "...                        ...        ...\n",
       "4639 2021-07-24 18:30:00+00:00  16.941996\n",
       "4638 2021-07-24 18:30:00+00:00  14.971571\n",
       "4662 2021-07-24 18:30:00+00:00  32.055069\n",
       "4649 2021-07-24 18:30:00+00:00  23.991646\n",
       "4663 2021-07-24 18:30:00+00:00  52.160786\n",
       "\n",
       "[4664 rows x 2 columns]"
      ]
     },
     "execution_count": 289,
     "metadata": {},
     "output_type": "execute_result"
    }
   ],
   "source": [
    "filtered.sort_values(\"datetime_dt\")#.reset_index()[\"value\"].plot()"
   ]
  },
  {
   "cell_type": "code",
   "execution_count": 399,
   "id": "03290524",
   "metadata": {},
   "outputs": [],
   "source": [
    "# y_pred_list"
   ]
  },
  {
   "cell_type": "code",
   "execution_count": null,
   "id": "b2f2094f",
   "metadata": {},
   "outputs": [],
   "source": []
  },
  {
   "cell_type": "code",
   "execution_count": 56,
   "id": "f8d3d481",
   "metadata": {},
   "outputs": [],
   "source": [
    "class Regression(pl.LightningModule):\n",
    "    \n",
    "    def __init__(self,NUM_FEATURES):\n",
    "        super(Regression, self).__init__()\n",
    "        self.fc1 = nn.Linear(NUM_FEATURES, 1024)\n",
    "        self.fc2 = nn.Linear(1024, 512)\n",
    "        self.fc3 = nn.Linear(512, 256)\n",
    "        self.fc4 = nn.Linear(256, 128)\n",
    "        self.fc5 = nn.Linear(128, 64)\n",
    "        self.f = nn.Linear(64, 1)\n",
    "        self.activation = nn.LeakyReLU()\n",
    "    \n",
    "\n",
    "    def forward(self, x):\n",
    "        x = self.activation(self.fc1(x))\n",
    "        x = self.activation(self.fc2(x))\n",
    "        x = self.activation(self.fc3(x))\n",
    "        x = self.activation(self.fc4(x))\n",
    "        x = self.activation(self.fc5(x))\n",
    "        x = self.f(x)\n",
    "        return x"
   ]
  },
  {
   "cell_type": "code",
   "execution_count": null,
   "id": "a719f1e4",
   "metadata": {},
   "outputs": [],
   "source": []
  },
  {
   "cell_type": "code",
   "execution_count": null,
   "id": "3a1c2a8a",
   "metadata": {},
   "outputs": [],
   "source": []
  },
  {
   "cell_type": "code",
   "execution_count": null,
   "id": "294b8260",
   "metadata": {},
   "outputs": [],
   "source": []
  },
  {
   "cell_type": "code",
   "execution_count": null,
   "id": "cf36c06f",
   "metadata": {},
   "outputs": [],
   "source": []
  },
  {
   "cell_type": "code",
   "execution_count": null,
   "id": "c740da85",
   "metadata": {},
   "outputs": [],
   "source": []
  },
  {
   "cell_type": "code",
   "execution_count": 75,
   "id": "7de2d16a",
   "metadata": {},
   "outputs": [
    {
     "data": {
      "text/plain": [
       "torch.Size([2117])"
      ]
     },
     "execution_count": 75,
     "metadata": {},
     "output_type": "execute_result"
    }
   ],
   "source": [
    "torch.tensor(X[0]).shape"
   ]
  },
  {
   "cell_type": "code",
   "execution_count": 81,
   "id": "8eabc146",
   "metadata": {},
   "outputs": [],
   "source": [
    "n_samples = 5"
   ]
  },
  {
   "cell_type": "code",
   "execution_count": 514,
   "id": "6d45b060",
   "metadata": {},
   "outputs": [
    {
     "data": {
      "text/plain": [
       "(39450, 2117)"
      ]
     },
     "execution_count": 514,
     "metadata": {},
     "output_type": "execute_result"
    }
   ],
   "source": [
    "X.shape"
   ]
  },
  {
   "cell_type": "code",
   "execution_count": 517,
   "id": "245f578f",
   "metadata": {},
   "outputs": [],
   "source": [
    "class SentimentNet(nn.Module):\n",
    "    def __init__(self, output_size=1, embedding_dim=128, hidden_dim=8, n_layers=8, drop_prob=0.5):\n",
    "        super(SentimentNet, self).__init__()\n",
    "        self.output_size = output_size\n",
    "        self.n_layers = n_layers\n",
    "        self.hidden_dim = hidden_dim\n",
    "        \n",
    "       \n",
    "        self.lstm = nn.LSTM(39450, hidden_dim, n_layers, dropout=drop_prob, batch_first=True)\n",
    "        self.dropout = nn.Dropout(drop_prob)\n",
    "        self.fc = nn.Linear(hidden_dim, output_size)\n",
    "        self.sigmoid = nn.Sigmoid()\n",
    "        \n",
    "    def forward(self, x, hidden):\n",
    "        batch_size = x.size(0)\n",
    "        x = x.long()\n",
    "        embeds = x\n",
    "        lstm_out, hidden = self.lstm(embeds, hidden)\n",
    "        lstm_out = lstm_out.contiguous().view(-1, self.hidden_dim)\n",
    "        \n",
    "        out = self.dropout(lstm_out)\n",
    "        out = self.fc(out)\n",
    "        out = self.sigmoid(out)\n",
    "        \n",
    "        out = out.view(batch_size, -1)\n",
    "        out = out[:,-1]\n",
    "        return out, hidden\n",
    "    \n",
    "    def init_hidden(self, batch_size):\n",
    "        weight = next(self.parameters()).data\n",
    "        hidden = (weight.new(self.n_layers, batch_size, self.hidden_dim).zero_().to(device),\n",
    "                      weight.new(self.n_layers, batch_size, self.hidden_dim).zero_().to(device))\n",
    "        return hidden"
   ]
  },
  {
   "cell_type": "code",
   "execution_count": 518,
   "id": "853c2c72",
   "metadata": {},
   "outputs": [],
   "source": [
    "model = SentimentNet()"
   ]
  },
  {
   "cell_type": "code",
   "execution_count": 520,
   "id": "470fc614",
   "metadata": {},
   "outputs": [
    {
     "ename": "TypeError",
     "evalue": "init_hidden() missing 1 required positional argument: 'batch_size'",
     "output_type": "error",
     "traceback": [
      "\u001b[0;31m---------------------------------------------------------------------------\u001b[0m",
      "\u001b[0;31mTypeError\u001b[0m                                 Traceback (most recent call last)",
      "Input \u001b[0;32mIn [520]\u001b[0m, in \u001b[0;36m<cell line: 1>\u001b[0;34m()\u001b[0m\n\u001b[0;32m----> 1\u001b[0m \u001b[43mmodel\u001b[49m\u001b[38;5;241;43m.\u001b[39;49m\u001b[43minit_hidden\u001b[49m\u001b[43m(\u001b[49m\u001b[43m)\u001b[49m\n",
      "\u001b[0;31mTypeError\u001b[0m: init_hidden() missing 1 required positional argument: 'batch_size'"
     ]
    }
   ],
   "source": [
    "model.init_hidden()"
   ]
  },
  {
   "cell_type": "code",
   "execution_count": 519,
   "id": "58a7902c",
   "metadata": {},
   "outputs": [
    {
     "data": {
      "text/plain": [
       "array([[-0.56334394,  0.10990731, -0.10303362, ...,  0.        ,\n",
       "         0.        ,  0.        ],\n",
       "       [-0.56334394,  0.10990731, -0.10303362, ...,  0.        ,\n",
       "         0.        ,  0.        ],\n",
       "       [-0.56334394,  0.10990731, -0.10303362, ...,  0.        ,\n",
       "         0.        ,  0.        ],\n",
       "       ...,\n",
       "       [-0.5592876 ,  0.11481263, -0.1157174 , ...,  0.        ,\n",
       "         0.        ,  0.        ],\n",
       "       [-0.5591694 ,  0.11480556, -0.11572182, ...,  0.        ,\n",
       "         0.        ,  0.        ],\n",
       "       [-0.5556056 ,  0.11472411, -0.11612588, ...,  0.        ,\n",
       "         0.        ,  0.        ]])"
      ]
     },
     "execution_count": 519,
     "metadata": {},
     "output_type": "execute_result"
    }
   ],
   "source": [
    "X"
   ]
  },
  {
   "cell_type": "code",
   "execution_count": 83,
   "id": "5cd416b9",
   "metadata": {},
   "outputs": [],
   "source": [
    "import torch.optim as optim\n",
    "model = LSTM()\n",
    "criterion = nn.MSELoss()\n",
    "optimiser = optim.Adam(model.parameters(), lr=0.08)"
   ]
  },
  {
   "cell_type": "code",
   "execution_count": 84,
   "id": "75b03509",
   "metadata": {},
   "outputs": [
    {
     "data": {
      "text/plain": [
       "(torch.Size([5, 2117]), (39450,))"
      ]
     },
     "execution_count": 84,
     "metadata": {},
     "output_type": "execute_result"
    }
   ],
   "source": [
    "torch.tensor(X[:5]).shape,y.shape"
   ]
  },
  {
   "cell_type": "code",
   "execution_count": 85,
   "id": "3d164fb0",
   "metadata": {},
   "outputs": [
    {
     "ename": "NameError",
     "evalue": "name 'input_t' is not defined",
     "output_type": "error",
     "traceback": [
      "\u001b[0;31m---------------------------------------------------------------------------\u001b[0m",
      "\u001b[0;31mNameError\u001b[0m                                 Traceback (most recent call last)",
      "Input \u001b[0;32mIn [85]\u001b[0m, in \u001b[0;36m<cell line: 1>\u001b[0;34m()\u001b[0m\n\u001b[0;32m----> 1\u001b[0m \u001b[43mmodel\u001b[49m\u001b[43m(\u001b[49m\u001b[43mtorch\u001b[49m\u001b[38;5;241;43m.\u001b[39;49m\u001b[43mtensor\u001b[49m\u001b[43m(\u001b[49m\u001b[43mX\u001b[49m\u001b[43m[\u001b[49m\u001b[43m:\u001b[49m\u001b[38;5;241;43m5\u001b[39;49m\u001b[43m]\u001b[49m\u001b[43m)\u001b[49m\u001b[43m,\u001b[49m\u001b[43my\u001b[49m\u001b[43m[\u001b[49m\u001b[43m:\u001b[49m\u001b[38;5;241;43m5\u001b[39;49m\u001b[43m]\u001b[49m\u001b[43m)\u001b[49m\n",
      "File \u001b[0;32m/opt/conda/lib/python3.8/site-packages/torch/nn/modules/module.py:1110\u001b[0m, in \u001b[0;36mModule._call_impl\u001b[0;34m(self, *input, **kwargs)\u001b[0m\n\u001b[1;32m   1106\u001b[0m \u001b[38;5;66;03m# If we don't have any hooks, we want to skip the rest of the logic in\u001b[39;00m\n\u001b[1;32m   1107\u001b[0m \u001b[38;5;66;03m# this function, and just call forward.\u001b[39;00m\n\u001b[1;32m   1108\u001b[0m \u001b[38;5;28;01mif\u001b[39;00m \u001b[38;5;129;01mnot\u001b[39;00m (\u001b[38;5;28mself\u001b[39m\u001b[38;5;241m.\u001b[39m_backward_hooks \u001b[38;5;129;01mor\u001b[39;00m \u001b[38;5;28mself\u001b[39m\u001b[38;5;241m.\u001b[39m_forward_hooks \u001b[38;5;129;01mor\u001b[39;00m \u001b[38;5;28mself\u001b[39m\u001b[38;5;241m.\u001b[39m_forward_pre_hooks \u001b[38;5;129;01mor\u001b[39;00m _global_backward_hooks\n\u001b[1;32m   1109\u001b[0m         \u001b[38;5;129;01mor\u001b[39;00m _global_forward_hooks \u001b[38;5;129;01mor\u001b[39;00m _global_forward_pre_hooks):\n\u001b[0;32m-> 1110\u001b[0m     \u001b[38;5;28;01mreturn\u001b[39;00m \u001b[43mforward_call\u001b[49m\u001b[43m(\u001b[49m\u001b[38;5;241;43m*\u001b[39;49m\u001b[38;5;28;43minput\u001b[39;49m\u001b[43m,\u001b[49m\u001b[43m \u001b[49m\u001b[38;5;241;43m*\u001b[39;49m\u001b[38;5;241;43m*\u001b[39;49m\u001b[43mkwargs\u001b[49m\u001b[43m)\u001b[49m\n\u001b[1;32m   1111\u001b[0m \u001b[38;5;66;03m# Do not call functions when jit is used\u001b[39;00m\n\u001b[1;32m   1112\u001b[0m full_backward_hooks, non_full_backward_hooks \u001b[38;5;241m=\u001b[39m [], []\n",
      "Input \u001b[0;32mIn [82]\u001b[0m, in \u001b[0;36mLSTM.forward\u001b[0;34m(self, y, future_preds)\u001b[0m\n\u001b[1;32m     17\u001b[0m c_t2 \u001b[38;5;241m=\u001b[39m torch\u001b[38;5;241m.\u001b[39mzeros(n_samples, \u001b[38;5;28mself\u001b[39m\u001b[38;5;241m.\u001b[39mhidden_layers, dtype\u001b[38;5;241m=\u001b[39mtorch\u001b[38;5;241m.\u001b[39mfloat32)\n\u001b[1;32m     19\u001b[0m \u001b[38;5;28;01mfor\u001b[39;00m time_step \u001b[38;5;129;01min\u001b[39;00m y\u001b[38;5;241m.\u001b[39msplit(\u001b[38;5;241m1\u001b[39m, dim\u001b[38;5;241m=\u001b[39m\u001b[38;5;241m1\u001b[39m):\n\u001b[1;32m     20\u001b[0m     \u001b[38;5;66;03m# N, 1\u001b[39;00m\n\u001b[0;32m---> 21\u001b[0m     h_t, c_t \u001b[38;5;241m=\u001b[39m \u001b[38;5;28mself\u001b[39m\u001b[38;5;241m.\u001b[39mlstm1(\u001b[43minput_t\u001b[49m, (h_t, c_t)) \u001b[38;5;66;03m# initial hidden and cell states\u001b[39;00m\n\u001b[1;32m     22\u001b[0m     h_t2, c_t2 \u001b[38;5;241m=\u001b[39m \u001b[38;5;28mself\u001b[39m\u001b[38;5;241m.\u001b[39mlstm2(h_t, (h_t2, c_t2)) \u001b[38;5;66;03m# new hidden and cell states\u001b[39;00m\n\u001b[1;32m     23\u001b[0m     output \u001b[38;5;241m=\u001b[39m \u001b[38;5;28mself\u001b[39m\u001b[38;5;241m.\u001b[39mlinear(h_t2) \u001b[38;5;66;03m# output from the last FC layer\u001b[39;00m\n",
      "\u001b[0;31mNameError\u001b[0m: name 'input_t' is not defined"
     ]
    }
   ],
   "source": [
    "model(torch.tensor(X[:5]),y[:5])"
   ]
  },
  {
   "cell_type": "code",
   "execution_count": 48,
   "id": "b6588ed5",
   "metadata": {},
   "outputs": [],
   "source": [
    "def training_loop(n_epochs, model, optimiser, loss_fn, \n",
    "                  train_input, train_target, test_input, test_target):\n",
    "    for i in range(n_epochs):\n",
    "        def closure():\n",
    "            optimiser.zero_grad()\n",
    "            out = model(train_input)\n",
    "            loss = loss_fn(out, train_target)\n",
    "            loss.backward()\n",
    "            return loss\n",
    "        optimiser.step(closure)\n",
    "        with torch.no_grad():\n",
    "            future = 1000\n",
    "            pred = model(test_input, future=future)\n",
    "            # use all pred samples, but only go to 999\n",
    "            loss = loss_fn(pred[:, :-future], test_target)\n",
    "            y = pred.detach().numpy()\n",
    "        # print the loss\n",
    "        out = model(train_input)\n",
    "        loss_print = loss_fn(out, train_target)\n",
    "        print(\"Step: {}, Loss: {}\".format(i, loss_print))"
   ]
  },
  {
   "cell_type": "code",
   "execution_count": null,
   "id": "a73bd2a6",
   "metadata": {},
   "outputs": [],
   "source": []
  },
  {
   "cell_type": "code",
   "execution_count": 50,
   "id": "1430a45e",
   "metadata": {},
   "outputs": [],
   "source": [
    "train_prop = 0.95\n",
    "train_samples = round(N * train_prop) \n",
    "test_samples = N - train_samples"
   ]
  },
  {
   "cell_type": "code",
   "execution_count": 51,
   "id": "f486bc99",
   "metadata": {},
   "outputs": [],
   "source": [
    "train_input = torch.from_numpy(y[test_samples:, :-1]) # (train_samples, L-1)\n",
    "train_target = torch.from_numpy(y[test_samples:, 1:]) # (train_samples, L-1)\n",
    "test_input = torch.from_numpy(y[:test_samples, :-1]) # (train_samples, L-1)\n",
    "test_target = torch.from_numpy(y[:test_samples, 1:]) # (train_samples, L-1)"
   ]
  },
  {
   "cell_type": "code",
   "execution_count": 53,
   "id": "0d596b75",
   "metadata": {},
   "outputs": [],
   "source": [
    "N = 100 # number of theoretical series of games\n",
    "L = 11 # number of games in each series\n",
    "x = np.empty((N,L), np.float32) # instantiate empty array\n",
    "x[:] = np.arange(L)\n",
    "y = (1.6*x + 4).astype(np.float32)\n",
    "\n",
    "# add some noise\n",
    "for i in range(len(y)):\n",
    "    y[i] += np.random.normal(10, 1)"
   ]
  },
  {
   "cell_type": "code",
   "execution_count": 55,
   "id": "f9abbc80",
   "metadata": {},
   "outputs": [
    {
     "ename": "NameError",
     "evalue": "name 'n_samples' is not defined",
     "output_type": "error",
     "traceback": [
      "\u001b[0;31m---------------------------------------------------------------------------\u001b[0m",
      "\u001b[0;31mNameError\u001b[0m                                 Traceback (most recent call last)",
      "Input \u001b[0;32mIn [55]\u001b[0m, in \u001b[0;36m<cell line: 1>\u001b[0;34m()\u001b[0m\n\u001b[0;32m----> 1\u001b[0m \u001b[43mtraining_loop\u001b[49m\u001b[43m(\u001b[49m\u001b[43mn_epochs\u001b[49m\u001b[43m \u001b[49m\u001b[38;5;241;43m=\u001b[39;49m\u001b[43m \u001b[49m\u001b[38;5;241;43m10\u001b[39;49m\u001b[43m,\u001b[49m\n\u001b[1;32m      2\u001b[0m \u001b[43m              \u001b[49m\u001b[43mmodel\u001b[49m\u001b[43m \u001b[49m\u001b[38;5;241;43m=\u001b[39;49m\u001b[43m \u001b[49m\u001b[43mmodel\u001b[49m\u001b[43m,\u001b[49m\n\u001b[1;32m      3\u001b[0m \u001b[43m              \u001b[49m\u001b[43moptimiser\u001b[49m\u001b[43m \u001b[49m\u001b[38;5;241;43m=\u001b[39;49m\u001b[43m \u001b[49m\u001b[43moptimiser\u001b[49m\u001b[43m,\u001b[49m\n\u001b[1;32m      4\u001b[0m \u001b[43m              \u001b[49m\u001b[43mloss_fn\u001b[49m\u001b[43m \u001b[49m\u001b[38;5;241;43m=\u001b[39;49m\u001b[43m \u001b[49m\u001b[43mcriterion\u001b[49m\u001b[43m,\u001b[49m\n\u001b[1;32m      5\u001b[0m \u001b[43m              \u001b[49m\u001b[43mtrain_input\u001b[49m\u001b[43m \u001b[49m\u001b[38;5;241;43m=\u001b[39;49m\u001b[43m \u001b[49m\u001b[43mtrain_input\u001b[49m\u001b[43m,\u001b[49m\n\u001b[1;32m      6\u001b[0m \u001b[43m              \u001b[49m\u001b[43mtrain_target\u001b[49m\u001b[43m \u001b[49m\u001b[38;5;241;43m=\u001b[39;49m\u001b[43m \u001b[49m\u001b[43mtrain_target\u001b[49m\u001b[43m,\u001b[49m\n\u001b[1;32m      7\u001b[0m \u001b[43m              \u001b[49m\u001b[43mtest_input\u001b[49m\u001b[43m \u001b[49m\u001b[38;5;241;43m=\u001b[39;49m\u001b[43m \u001b[49m\u001b[43mtest_input\u001b[49m\u001b[43m,\u001b[49m\n\u001b[1;32m      8\u001b[0m \u001b[43m              \u001b[49m\u001b[43mtest_target\u001b[49m\u001b[43m \u001b[49m\u001b[38;5;241;43m=\u001b[39;49m\u001b[43m \u001b[49m\u001b[43mtest_target\u001b[49m\u001b[43m)\u001b[49m\n",
      "Input \u001b[0;32mIn [48]\u001b[0m, in \u001b[0;36mtraining_loop\u001b[0;34m(n_epochs, model, optimiser, loss_fn, train_input, train_target, test_input, test_target)\u001b[0m\n\u001b[1;32m      8\u001b[0m     loss\u001b[38;5;241m.\u001b[39mbackward()\n\u001b[1;32m      9\u001b[0m     \u001b[38;5;28;01mreturn\u001b[39;00m loss\n\u001b[0;32m---> 10\u001b[0m \u001b[43moptimiser\u001b[49m\u001b[38;5;241;43m.\u001b[39;49m\u001b[43mstep\u001b[49m\u001b[43m(\u001b[49m\u001b[43mclosure\u001b[49m\u001b[43m)\u001b[49m\n\u001b[1;32m     11\u001b[0m \u001b[38;5;28;01mwith\u001b[39;00m torch\u001b[38;5;241m.\u001b[39mno_grad():\n\u001b[1;32m     12\u001b[0m     future \u001b[38;5;241m=\u001b[39m \u001b[38;5;241m1000\u001b[39m\n",
      "File \u001b[0;32m/opt/conda/lib/python3.8/site-packages/torch/optim/optimizer.py:88\u001b[0m, in \u001b[0;36mOptimizer._hook_for_profile.<locals>.profile_hook_step.<locals>.wrapper\u001b[0;34m(*args, **kwargs)\u001b[0m\n\u001b[1;32m     86\u001b[0m profile_name \u001b[38;5;241m=\u001b[39m \u001b[38;5;124m\"\u001b[39m\u001b[38;5;124mOptimizer.step#\u001b[39m\u001b[38;5;132;01m{}\u001b[39;00m\u001b[38;5;124m.step\u001b[39m\u001b[38;5;124m\"\u001b[39m\u001b[38;5;241m.\u001b[39mformat(obj\u001b[38;5;241m.\u001b[39m\u001b[38;5;18m__class__\u001b[39m\u001b[38;5;241m.\u001b[39m\u001b[38;5;18m__name__\u001b[39m)\n\u001b[1;32m     87\u001b[0m \u001b[38;5;28;01mwith\u001b[39;00m torch\u001b[38;5;241m.\u001b[39mautograd\u001b[38;5;241m.\u001b[39mprofiler\u001b[38;5;241m.\u001b[39mrecord_function(profile_name):\n\u001b[0;32m---> 88\u001b[0m     \u001b[38;5;28;01mreturn\u001b[39;00m \u001b[43mfunc\u001b[49m\u001b[43m(\u001b[49m\u001b[38;5;241;43m*\u001b[39;49m\u001b[43margs\u001b[49m\u001b[43m,\u001b[49m\u001b[43m \u001b[49m\u001b[38;5;241;43m*\u001b[39;49m\u001b[38;5;241;43m*\u001b[39;49m\u001b[43mkwargs\u001b[49m\u001b[43m)\u001b[49m\n",
      "File \u001b[0;32m/opt/conda/lib/python3.8/site-packages/torch/autograd/grad_mode.py:27\u001b[0m, in \u001b[0;36m_DecoratorContextManager.__call__.<locals>.decorate_context\u001b[0;34m(*args, **kwargs)\u001b[0m\n\u001b[1;32m     24\u001b[0m \u001b[38;5;129m@functools\u001b[39m\u001b[38;5;241m.\u001b[39mwraps(func)\n\u001b[1;32m     25\u001b[0m \u001b[38;5;28;01mdef\u001b[39;00m \u001b[38;5;21mdecorate_context\u001b[39m(\u001b[38;5;241m*\u001b[39margs, \u001b[38;5;241m*\u001b[39m\u001b[38;5;241m*\u001b[39mkwargs):\n\u001b[1;32m     26\u001b[0m     \u001b[38;5;28;01mwith\u001b[39;00m \u001b[38;5;28mself\u001b[39m\u001b[38;5;241m.\u001b[39mclone():\n\u001b[0;32m---> 27\u001b[0m         \u001b[38;5;28;01mreturn\u001b[39;00m \u001b[43mfunc\u001b[49m\u001b[43m(\u001b[49m\u001b[38;5;241;43m*\u001b[39;49m\u001b[43margs\u001b[49m\u001b[43m,\u001b[49m\u001b[43m \u001b[49m\u001b[38;5;241;43m*\u001b[39;49m\u001b[38;5;241;43m*\u001b[39;49m\u001b[43mkwargs\u001b[49m\u001b[43m)\u001b[49m\n",
      "File \u001b[0;32m/opt/conda/lib/python3.8/site-packages/torch/optim/adam.py:100\u001b[0m, in \u001b[0;36mAdam.step\u001b[0;34m(self, closure)\u001b[0m\n\u001b[1;32m     98\u001b[0m \u001b[38;5;28;01mif\u001b[39;00m closure \u001b[38;5;129;01mis\u001b[39;00m \u001b[38;5;129;01mnot\u001b[39;00m \u001b[38;5;28;01mNone\u001b[39;00m:\n\u001b[1;32m     99\u001b[0m     \u001b[38;5;28;01mwith\u001b[39;00m torch\u001b[38;5;241m.\u001b[39menable_grad():\n\u001b[0;32m--> 100\u001b[0m         loss \u001b[38;5;241m=\u001b[39m \u001b[43mclosure\u001b[49m\u001b[43m(\u001b[49m\u001b[43m)\u001b[49m\n\u001b[1;32m    102\u001b[0m \u001b[38;5;28;01mfor\u001b[39;00m group \u001b[38;5;129;01min\u001b[39;00m \u001b[38;5;28mself\u001b[39m\u001b[38;5;241m.\u001b[39mparam_groups:\n\u001b[1;32m    103\u001b[0m     params_with_grad \u001b[38;5;241m=\u001b[39m []\n",
      "Input \u001b[0;32mIn [48]\u001b[0m, in \u001b[0;36mtraining_loop.<locals>.closure\u001b[0;34m()\u001b[0m\n\u001b[1;32m      4\u001b[0m \u001b[38;5;28;01mdef\u001b[39;00m \u001b[38;5;21mclosure\u001b[39m():\n\u001b[1;32m      5\u001b[0m     optimiser\u001b[38;5;241m.\u001b[39mzero_grad()\n\u001b[0;32m----> 6\u001b[0m     out \u001b[38;5;241m=\u001b[39m \u001b[43mmodel\u001b[49m\u001b[43m(\u001b[49m\u001b[43mtrain_input\u001b[49m\u001b[43m)\u001b[49m\n\u001b[1;32m      7\u001b[0m     loss \u001b[38;5;241m=\u001b[39m loss_fn(out, train_target)\n\u001b[1;32m      8\u001b[0m     loss\u001b[38;5;241m.\u001b[39mbackward()\n",
      "File \u001b[0;32m/opt/conda/lib/python3.8/site-packages/torch/nn/modules/module.py:1110\u001b[0m, in \u001b[0;36mModule._call_impl\u001b[0;34m(self, *input, **kwargs)\u001b[0m\n\u001b[1;32m   1106\u001b[0m \u001b[38;5;66;03m# If we don't have any hooks, we want to skip the rest of the logic in\u001b[39;00m\n\u001b[1;32m   1107\u001b[0m \u001b[38;5;66;03m# this function, and just call forward.\u001b[39;00m\n\u001b[1;32m   1108\u001b[0m \u001b[38;5;28;01mif\u001b[39;00m \u001b[38;5;129;01mnot\u001b[39;00m (\u001b[38;5;28mself\u001b[39m\u001b[38;5;241m.\u001b[39m_backward_hooks \u001b[38;5;129;01mor\u001b[39;00m \u001b[38;5;28mself\u001b[39m\u001b[38;5;241m.\u001b[39m_forward_hooks \u001b[38;5;129;01mor\u001b[39;00m \u001b[38;5;28mself\u001b[39m\u001b[38;5;241m.\u001b[39m_forward_pre_hooks \u001b[38;5;129;01mor\u001b[39;00m _global_backward_hooks\n\u001b[1;32m   1109\u001b[0m         \u001b[38;5;129;01mor\u001b[39;00m _global_forward_hooks \u001b[38;5;129;01mor\u001b[39;00m _global_forward_pre_hooks):\n\u001b[0;32m-> 1110\u001b[0m     \u001b[38;5;28;01mreturn\u001b[39;00m \u001b[43mforward_call\u001b[49m\u001b[43m(\u001b[49m\u001b[38;5;241;43m*\u001b[39;49m\u001b[38;5;28;43minput\u001b[39;49m\u001b[43m,\u001b[49m\u001b[43m \u001b[49m\u001b[38;5;241;43m*\u001b[39;49m\u001b[38;5;241;43m*\u001b[39;49m\u001b[43mkwargs\u001b[49m\u001b[43m)\u001b[49m\n\u001b[1;32m   1111\u001b[0m \u001b[38;5;66;03m# Do not call functions when jit is used\u001b[39;00m\n\u001b[1;32m   1112\u001b[0m full_backward_hooks, non_full_backward_hooks \u001b[38;5;241m=\u001b[39m [], []\n",
      "Input \u001b[0;32mIn [36]\u001b[0m, in \u001b[0;36mLSTM.forward\u001b[0;34m(self, y, future_preds)\u001b[0m\n\u001b[1;32m     12\u001b[0m \u001b[38;5;28;01mdef\u001b[39;00m \u001b[38;5;21mforward\u001b[39m(\u001b[38;5;28mself\u001b[39m, y, future_preds\u001b[38;5;241m=\u001b[39m\u001b[38;5;241m0\u001b[39m):\n\u001b[1;32m     13\u001b[0m     outputs, num_samples \u001b[38;5;241m=\u001b[39m [], y\u001b[38;5;241m.\u001b[39msize(\u001b[38;5;241m0\u001b[39m)\n\u001b[0;32m---> 14\u001b[0m     h_t \u001b[38;5;241m=\u001b[39m torch\u001b[38;5;241m.\u001b[39mzeros(\u001b[43mn_samples\u001b[49m, \u001b[38;5;28mself\u001b[39m\u001b[38;5;241m.\u001b[39mhidden_layers, dtype\u001b[38;5;241m=\u001b[39mtorch\u001b[38;5;241m.\u001b[39mfloat32)\n\u001b[1;32m     15\u001b[0m     c_t \u001b[38;5;241m=\u001b[39m torch\u001b[38;5;241m.\u001b[39mzeros(n_samples, \u001b[38;5;28mself\u001b[39m\u001b[38;5;241m.\u001b[39mhidden_layers, dtype\u001b[38;5;241m=\u001b[39mtorch\u001b[38;5;241m.\u001b[39mfloat32)\n\u001b[1;32m     16\u001b[0m     h_t2 \u001b[38;5;241m=\u001b[39m torch\u001b[38;5;241m.\u001b[39mzeros(n_samples, \u001b[38;5;28mself\u001b[39m\u001b[38;5;241m.\u001b[39mhidden_layers, dtype\u001b[38;5;241m=\u001b[39mtorch\u001b[38;5;241m.\u001b[39mfloat32)\n",
      "\u001b[0;31mNameError\u001b[0m: name 'n_samples' is not defined"
     ]
    }
   ],
   "source": [
    "training_loop(n_epochs = 10,\n",
    "              model = model,\n",
    "              optimiser = optimiser,\n",
    "              loss_fn = criterion,\n",
    "              L = L,\n",
    "              train_input = train_input,\n",
    "              train_target = train_target,\n",
    "              test_input = test_input,\n",
    "              test_target = test_target)"
   ]
  },
  {
   "cell_type": "code",
   "execution_count": null,
   "id": "f39f8097",
   "metadata": {},
   "outputs": [],
   "source": []
  },
  {
   "cell_type": "code",
   "execution_count": null,
   "id": "448a1c8f",
   "metadata": {},
   "outputs": [],
   "source": []
  },
  {
   "cell_type": "code",
   "execution_count": null,
   "id": "a5f22385",
   "metadata": {},
   "outputs": [],
   "source": []
  },
  {
   "cell_type": "code",
   "execution_count": 8,
   "id": "9ff50a5c",
   "metadata": {},
   "outputs": [],
   "source": [
    "df_values = df[df.columns[8:]].values"
   ]
  },
  {
   "cell_type": "code",
   "execution_count": 9,
   "id": "d5eb7f56",
   "metadata": {},
   "outputs": [
    {
     "data": {
      "text/plain": [
       "(39450, 2046)"
      ]
     },
     "execution_count": 9,
     "metadata": {},
     "output_type": "execute_result"
    }
   ],
   "source": [
    "df_values.shape"
   ]
  },
  {
   "cell_type": "code",
   "execution_count": 10,
   "id": "a424a524",
   "metadata": {},
   "outputs": [],
   "source": [
    "vectors=df_values\n",
    "target = df_values[0]"
   ]
  },
  {
   "cell_type": "code",
   "execution_count": 237,
   "id": "38faf136",
   "metadata": {},
   "outputs": [],
   "source": [
    "df_test = pd.read_csv(\"processed_data_test.csv\")"
   ]
  },
  {
   "cell_type": "code",
   "execution_count": 234,
   "id": "0fcbf80d",
   "metadata": {},
   "outputs": [],
   "source": [
    "df_test= df_test.drop(columns=[\"Unnamed: 0\",\"datetime\",\"granule_id\"])"
   ]
  },
  {
   "cell_type": "code",
   "execution_count": 235,
   "id": "04508c7f",
   "metadata": {},
   "outputs": [
    {
     "data": {
      "text/html": [
       "<div>\n",
       "<style scoped>\n",
       "    .dataframe tbody tr th:only-of-type {\n",
       "        vertical-align: middle;\n",
       "    }\n",
       "\n",
       "    .dataframe tbody tr th {\n",
       "        vertical-align: top;\n",
       "    }\n",
       "\n",
       "    .dataframe thead th {\n",
       "        text-align: right;\n",
       "    }\n",
       "</style>\n",
       "<table border=\"1\" class=\"dataframe\">\n",
       "  <thead>\n",
       "    <tr style=\"text-align: right;\">\n",
       "      <th></th>\n",
       "      <th>grid_id</th>\n",
       "      <th>value</th>\n",
       "      <th>datetime_dt</th>\n",
       "      <th>location</th>\n",
       "      <th>date</th>\n",
       "      <th>AOD at 0.47 micron_0</th>\n",
       "      <th>AOD at 0.47 micron_1</th>\n",
       "      <th>AOD at 0.47 micron_2</th>\n",
       "      <th>AOD at 0.47 micron_3</th>\n",
       "      <th>AOD at 0.47 micron_4</th>\n",
       "      <th>...</th>\n",
       "      <th>cosine of Solar Zenith Angle_246</th>\n",
       "      <th>cosine of Solar Zenith Angle_247</th>\n",
       "      <th>cosine of Solar Zenith Angle_248</th>\n",
       "      <th>cosine of Solar Zenith Angle_249</th>\n",
       "      <th>cosine of Solar Zenith Angle_250</th>\n",
       "      <th>cosine of Solar Zenith Angle_251</th>\n",
       "      <th>cosine of Solar Zenith Angle_252</th>\n",
       "      <th>cosine of Solar Zenith Angle_253</th>\n",
       "      <th>cosine of Solar Zenith Angle_254</th>\n",
       "      <th>cosine of Solar Zenith Angle_255</th>\n",
       "    </tr>\n",
       "  </thead>\n",
       "  <tbody>\n",
       "    <tr>\n",
       "      <th>0</th>\n",
       "      <td>1X116</td>\n",
       "      <td>0.0</td>\n",
       "      <td>2017-01-07 16:00:00+00:00</td>\n",
       "      <td>Taipei</td>\n",
       "      <td>2017-01-07</td>\n",
       "      <td>-0.552611</td>\n",
       "      <td>0.114593</td>\n",
       "      <td>-0.116292</td>\n",
       "      <td>0.256839</td>\n",
       "      <td>-0.049796</td>\n",
       "      <td>...</td>\n",
       "      <td>0.514868</td>\n",
       "      <td>0.139191</td>\n",
       "      <td>0.183938</td>\n",
       "      <td>-1.667788</td>\n",
       "      <td>-0.356834</td>\n",
       "      <td>2.620512</td>\n",
       "      <td>0.295454</td>\n",
       "      <td>-0.233992</td>\n",
       "      <td>0.197363</td>\n",
       "      <td>0.768304</td>\n",
       "    </tr>\n",
       "    <tr>\n",
       "      <th>1</th>\n",
       "      <td>9Q6TA</td>\n",
       "      <td>0.0</td>\n",
       "      <td>2017-01-07 16:00:00+00:00</td>\n",
       "      <td>Taipei</td>\n",
       "      <td>2017-01-07</td>\n",
       "      <td>-0.552611</td>\n",
       "      <td>0.114593</td>\n",
       "      <td>-0.116292</td>\n",
       "      <td>0.256839</td>\n",
       "      <td>-0.049796</td>\n",
       "      <td>...</td>\n",
       "      <td>0.514868</td>\n",
       "      <td>0.139191</td>\n",
       "      <td>0.183938</td>\n",
       "      <td>-1.667788</td>\n",
       "      <td>-0.356834</td>\n",
       "      <td>2.620512</td>\n",
       "      <td>0.295454</td>\n",
       "      <td>-0.233992</td>\n",
       "      <td>0.197363</td>\n",
       "      <td>0.768304</td>\n",
       "    </tr>\n",
       "    <tr>\n",
       "      <th>2</th>\n",
       "      <td>KW43U</td>\n",
       "      <td>0.0</td>\n",
       "      <td>2017-01-07 16:00:00+00:00</td>\n",
       "      <td>Taipei</td>\n",
       "      <td>2017-01-07</td>\n",
       "      <td>-0.552611</td>\n",
       "      <td>0.114593</td>\n",
       "      <td>-0.116292</td>\n",
       "      <td>0.256839</td>\n",
       "      <td>-0.049796</td>\n",
       "      <td>...</td>\n",
       "      <td>0.514868</td>\n",
       "      <td>0.139191</td>\n",
       "      <td>0.183938</td>\n",
       "      <td>-1.667788</td>\n",
       "      <td>-0.356834</td>\n",
       "      <td>2.620512</td>\n",
       "      <td>0.295454</td>\n",
       "      <td>-0.233992</td>\n",
       "      <td>0.197363</td>\n",
       "      <td>0.768304</td>\n",
       "    </tr>\n",
       "    <tr>\n",
       "      <th>3</th>\n",
       "      <td>VR4WG</td>\n",
       "      <td>0.0</td>\n",
       "      <td>2017-01-07 16:00:00+00:00</td>\n",
       "      <td>Taipei</td>\n",
       "      <td>2017-01-07</td>\n",
       "      <td>-0.552611</td>\n",
       "      <td>0.114593</td>\n",
       "      <td>-0.116292</td>\n",
       "      <td>0.256839</td>\n",
       "      <td>-0.049796</td>\n",
       "      <td>...</td>\n",
       "      <td>0.514868</td>\n",
       "      <td>0.139191</td>\n",
       "      <td>0.183938</td>\n",
       "      <td>-1.667788</td>\n",
       "      <td>-0.356834</td>\n",
       "      <td>2.620512</td>\n",
       "      <td>0.295454</td>\n",
       "      <td>-0.233992</td>\n",
       "      <td>0.197363</td>\n",
       "      <td>0.768304</td>\n",
       "    </tr>\n",
       "    <tr>\n",
       "      <th>4</th>\n",
       "      <td>XJF9O</td>\n",
       "      <td>0.0</td>\n",
       "      <td>2017-01-07 16:00:00+00:00</td>\n",
       "      <td>Taipei</td>\n",
       "      <td>2017-01-07</td>\n",
       "      <td>-0.552611</td>\n",
       "      <td>0.114593</td>\n",
       "      <td>-0.116292</td>\n",
       "      <td>0.256839</td>\n",
       "      <td>-0.049796</td>\n",
       "      <td>...</td>\n",
       "      <td>0.514868</td>\n",
       "      <td>0.139191</td>\n",
       "      <td>0.183938</td>\n",
       "      <td>-1.667788</td>\n",
       "      <td>-0.356834</td>\n",
       "      <td>2.620512</td>\n",
       "      <td>0.295454</td>\n",
       "      <td>-0.233992</td>\n",
       "      <td>0.197363</td>\n",
       "      <td>0.768304</td>\n",
       "    </tr>\n",
       "  </tbody>\n",
       "</table>\n",
       "<p>5 rows × 2053 columns</p>\n",
       "</div>"
      ],
      "text/plain": [
       "  grid_id  value                datetime_dt location        date  \\\n",
       "0   1X116    0.0  2017-01-07 16:00:00+00:00   Taipei  2017-01-07   \n",
       "1   9Q6TA    0.0  2017-01-07 16:00:00+00:00   Taipei  2017-01-07   \n",
       "2   KW43U    0.0  2017-01-07 16:00:00+00:00   Taipei  2017-01-07   \n",
       "3   VR4WG    0.0  2017-01-07 16:00:00+00:00   Taipei  2017-01-07   \n",
       "4   XJF9O    0.0  2017-01-07 16:00:00+00:00   Taipei  2017-01-07   \n",
       "\n",
       "   AOD at 0.47 micron_0  AOD at 0.47 micron_1  AOD at 0.47 micron_2  \\\n",
       "0             -0.552611              0.114593             -0.116292   \n",
       "1             -0.552611              0.114593             -0.116292   \n",
       "2             -0.552611              0.114593             -0.116292   \n",
       "3             -0.552611              0.114593             -0.116292   \n",
       "4             -0.552611              0.114593             -0.116292   \n",
       "\n",
       "   AOD at 0.47 micron_3  AOD at 0.47 micron_4  ...  \\\n",
       "0              0.256839             -0.049796  ...   \n",
       "1              0.256839             -0.049796  ...   \n",
       "2              0.256839             -0.049796  ...   \n",
       "3              0.256839             -0.049796  ...   \n",
       "4              0.256839             -0.049796  ...   \n",
       "\n",
       "   cosine of Solar Zenith Angle_246  cosine of Solar Zenith Angle_247  \\\n",
       "0                          0.514868                          0.139191   \n",
       "1                          0.514868                          0.139191   \n",
       "2                          0.514868                          0.139191   \n",
       "3                          0.514868                          0.139191   \n",
       "4                          0.514868                          0.139191   \n",
       "\n",
       "   cosine of Solar Zenith Angle_248  cosine of Solar Zenith Angle_249  \\\n",
       "0                          0.183938                         -1.667788   \n",
       "1                          0.183938                         -1.667788   \n",
       "2                          0.183938                         -1.667788   \n",
       "3                          0.183938                         -1.667788   \n",
       "4                          0.183938                         -1.667788   \n",
       "\n",
       "   cosine of Solar Zenith Angle_250  cosine of Solar Zenith Angle_251  \\\n",
       "0                         -0.356834                          2.620512   \n",
       "1                         -0.356834                          2.620512   \n",
       "2                         -0.356834                          2.620512   \n",
       "3                         -0.356834                          2.620512   \n",
       "4                         -0.356834                          2.620512   \n",
       "\n",
       "   cosine of Solar Zenith Angle_252  cosine of Solar Zenith Angle_253  \\\n",
       "0                          0.295454                         -0.233992   \n",
       "1                          0.295454                         -0.233992   \n",
       "2                          0.295454                         -0.233992   \n",
       "3                          0.295454                         -0.233992   \n",
       "4                          0.295454                         -0.233992   \n",
       "\n",
       "   cosine of Solar Zenith Angle_254  cosine of Solar Zenith Angle_255  \n",
       "0                          0.197363                          0.768304  \n",
       "1                          0.197363                          0.768304  \n",
       "2                          0.197363                          0.768304  \n",
       "3                          0.197363                          0.768304  \n",
       "4                          0.197363                          0.768304  \n",
       "\n",
       "[5 rows x 2053 columns]"
      ]
     },
     "execution_count": 235,
     "metadata": {},
     "output_type": "execute_result"
    }
   ],
   "source": [
    "df_test.head()"
   ]
  },
  {
   "cell_type": "code",
   "execution_count": null,
   "id": "dda656f0",
   "metadata": {},
   "outputs": [],
   "source": []
  },
  {
   "cell_type": "code",
   "execution_count": null,
   "id": "bc2bb0f7",
   "metadata": {},
   "outputs": [],
   "source": []
  },
  {
   "cell_type": "code",
   "execution_count": 15,
   "id": "5eebb61a",
   "metadata": {},
   "outputs": [],
   "source": [
    "# import torch\n",
    "# print(torch.rand(1, device=\"cuda\"))"
   ]
  },
  {
   "cell_type": "code",
   "execution_count": null,
   "id": "f224573d",
   "metadata": {},
   "outputs": [],
   "source": [
    "class LSTM(nn.Module):\n",
    "    def __init__(self, hidden_layers=64):\n",
    "        super(LSTM, self).__init__()\n",
    "        self.hidden_layers = hidden_layers\n",
    "        # lstm1, lstm2, linear are all layers in the network\n",
    "        self.lstm1 = nn.LSTMCell(1, self.hidden_layers)\n",
    "        self.lstm2 = nn.LSTMCell(self.hidden_layers, self.hidden_layers)\n",
    "        self.linear = nn.Linear(self.hidden_layers, 1)\n",
    "        \n",
    "    def forward(self, y, future_preds=0):\n",
    "        outputs, num_samples = [], y.size(0)\n",
    "        h_t = torch.zeros(n_samples, self.hidden_layers, dtype=torch.float32)\n",
    "        c_t = torch.zeros(n_samples, self.hidden_layers, dtype=torch.float32)\n",
    "        h_t2 = torch.zeros(n_samples, self.hidden_layers, dtype=torch.float32)\n",
    "        c_t2 = torch.zeros(n_samples, self.hidden_layers, dtype=torch.float32)\n",
    "        \n",
    "        for time_step in y.split(1, dim=1):\n",
    "            # N, 1\n",
    "            h_t, c_t = self.lstm1(input_t, (h_t, c_t)) # initial hidden and cell states\n",
    "            h_t2, c_t2 = self.lstm2(h_t, (h_t2, c_t2)) # new hidden and cell states\n",
    "            output = self.linear(h_t2) # output from the last FC layer\n",
    "            outputs.append(output)\n",
    "            \n",
    "        for i in range(future_preds):\n",
    "            # this only generates future predictions if we pass in future_preds>0\n",
    "            # mirrors the code above, using last output/prediction as input\n",
    "            h_t, c_t = self.lstm1(output, (h_t, c_t))\n",
    "            h_t2, c_t2 = self.lstm2(h_t, (h_t2, c_t2))\n",
    "            output = self.linear(h_t2)\n",
    "            outputs.append(output)\n",
    "        # transform list to tensor    \n",
    "        outputs = torch.cat(outputs, dim=1)\n",
    "        return outputs"
   ]
  }
 ],
 "metadata": {
  "kernelspec": {
   "display_name": "Python 3 (ipykernel)",
   "language": "python",
   "name": "python3"
  },
  "language_info": {
   "codemirror_mode": {
    "name": "ipython",
    "version": 3
   },
   "file_extension": ".py",
   "mimetype": "text/x-python",
   "name": "python",
   "nbconvert_exporter": "python",
   "pygments_lexer": "ipython3",
   "version": "3.8.12"
  }
 },
 "nbformat": 4,
 "nbformat_minor": 5
}
