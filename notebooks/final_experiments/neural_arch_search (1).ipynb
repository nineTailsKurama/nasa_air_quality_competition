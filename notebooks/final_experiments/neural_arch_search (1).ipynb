{
 "cells": [
  {
   "cell_type": "code",
   "execution_count": 1,
   "id": "8164f07b",
   "metadata": {},
   "outputs": [],
   "source": [
    "import os\n",
    "import tempfile as tmp\n",
    "import warnings\n",
    "\n",
    "import sklearn.datasets\n",
    "import sklearn.model_selection\n",
    "\n",
    "os.environ['JOBLIB_TEMP_FOLDER'] = tmp.gettempdir()\n",
    "os.environ['OMP_NUM_THREADS'] = '1'\n",
    "os.environ['OPENBLAS_NUM_THREADS'] = '1'\n",
    "os.environ['MKL_NUM_THREADS'] = '1'\n",
    "warnings.simplefilter(action='ignore', category=UserWarning)\n",
    "warnings.simplefilter(action='ignore', category=FutureWarning)"
   ]
  },
  {
   "cell_type": "code",
   "execution_count": null,
   "id": "5e9f829b",
   "metadata": {},
   "outputs": [],
   "source": []
  },
  {
   "cell_type": "code",
   "execution_count": 2,
   "id": "430f16e0",
   "metadata": {},
   "outputs": [],
   "source": [
    "from autoPyTorch.api.tabular_regression import TabularRegressionTask"
   ]
  },
  {
   "cell_type": "code",
   "execution_count": null,
   "id": "1ae12f0a",
   "metadata": {},
   "outputs": [],
   "source": []
  },
  {
   "cell_type": "code",
   "execution_count": null,
   "id": "69f4edfc",
   "metadata": {},
   "outputs": [],
   "source": []
  },
  {
   "cell_type": "code",
   "execution_count": null,
   "id": "8041ee3b",
   "metadata": {},
   "outputs": [],
   "source": []
  },
  {
   "cell_type": "code",
   "execution_count": 3,
   "id": "931da8ab",
   "metadata": {},
   "outputs": [],
   "source": [
    "import pandas as pd\n"
   ]
  },
  {
   "cell_type": "code",
   "execution_count": 4,
   "id": "d5a62a32",
   "metadata": {},
   "outputs": [],
   "source": [
    "df = pd.read_csv(\"processed_data_l.csv\")"
   ]
  },
  {
   "cell_type": "code",
   "execution_count": 5,
   "id": "e4352511",
   "metadata": {},
   "outputs": [],
   "source": [
    "df = df.drop(columns=[\"Unnamed: 0\",\"datetime\",\"granule_id\"])"
   ]
  },
  {
   "cell_type": "code",
   "execution_count": 6,
   "id": "6df1a08d",
   "metadata": {},
   "outputs": [
    {
     "data": {
      "text/plain": [
       "0        Los Angeles (SoCAB)\n",
       "1        Los Angeles (SoCAB)\n",
       "2        Los Angeles (SoCAB)\n",
       "3        Los Angeles (SoCAB)\n",
       "4        Los Angeles (SoCAB)\n",
       "                ...         \n",
       "39445                  Delhi\n",
       "39446                  Delhi\n",
       "39447                  Delhi\n",
       "39448                  Delhi\n",
       "39449                  Delhi\n",
       "Name: location, Length: 39450, dtype: object"
      ]
     },
     "execution_count": 6,
     "metadata": {},
     "output_type": "execute_result"
    }
   ],
   "source": [
    "df[\"location\"]"
   ]
  },
  {
   "cell_type": "code",
   "execution_count": 7,
   "id": "c0b81902",
   "metadata": {},
   "outputs": [],
   "source": [
    "df[\"datetime_dt\"] = pd.to_datetime(df[\"datetime_dt\"] )"
   ]
  },
  {
   "cell_type": "code",
   "execution_count": 8,
   "id": "a0e3d404",
   "metadata": {},
   "outputs": [],
   "source": [
    "def clean_df(df):\n",
    "    df = df.drop(columns=[\"Unnamed: 0\",\"datetime\",\"granule_id\"])\n",
    "    df[\"datetime_dt\"] = pd.to_datetime(df[\"datetime_dt\"] )\n",
    "    df[\"month\"] = [i.month for i in df[\"datetime_dt\"]]\n",
    "    df[\"month\"] = df[\"month\"].astype(str).astype(\"category\")\n",
    "    one_hot = pd.get_dummies(df[\"month\"])\n",
    "    df = df.join(one_hot)\n",
    "    df = df.drop('month',axis = 1)\n",
    "    df = df.drop('date',axis = 1)\n",
    "    one_hot = pd.get_dummies(df[\"location\"])\n",
    "    df = df.join(one_hot)\n",
    "    df = df.drop('location',axis = 1)\n",
    "    one_hot = pd.get_dummies(df[\"grid_id\"])\n",
    "    df = df.join(one_hot)\n",
    "    df = df.drop('grid_id',axis = 1)\n",
    "    return df"
   ]
  },
  {
   "cell_type": "code",
   "execution_count": 9,
   "id": "f338446b",
   "metadata": {},
   "outputs": [],
   "source": [
    "df[\"month\"] = [i.month for i in df[\"datetime_dt\"]]"
   ]
  },
  {
   "cell_type": "code",
   "execution_count": 10,
   "id": "83bef721",
   "metadata": {},
   "outputs": [],
   "source": [
    "df[\"month\"] = df[\"month\"].astype(str).astype(\"category\")"
   ]
  },
  {
   "cell_type": "code",
   "execution_count": 11,
   "id": "faf74454",
   "metadata": {},
   "outputs": [
    {
     "data": {
      "text/html": [
       "<div>\n",
       "<style scoped>\n",
       "    .dataframe tbody tr th:only-of-type {\n",
       "        vertical-align: middle;\n",
       "    }\n",
       "\n",
       "    .dataframe tbody tr th {\n",
       "        vertical-align: top;\n",
       "    }\n",
       "\n",
       "    .dataframe thead th {\n",
       "        text-align: right;\n",
       "    }\n",
       "</style>\n",
       "<table border=\"1\" class=\"dataframe\">\n",
       "  <thead>\n",
       "    <tr style=\"text-align: right;\">\n",
       "      <th></th>\n",
       "      <th>1</th>\n",
       "      <th>10</th>\n",
       "      <th>11</th>\n",
       "      <th>12</th>\n",
       "      <th>2</th>\n",
       "      <th>3</th>\n",
       "      <th>4</th>\n",
       "      <th>5</th>\n",
       "      <th>6</th>\n",
       "      <th>7</th>\n",
       "      <th>8</th>\n",
       "      <th>9</th>\n",
       "    </tr>\n",
       "  </thead>\n",
       "  <tbody>\n",
       "    <tr>\n",
       "      <th>0</th>\n",
       "      <td>0</td>\n",
       "      <td>0</td>\n",
       "      <td>0</td>\n",
       "      <td>0</td>\n",
       "      <td>1</td>\n",
       "      <td>0</td>\n",
       "      <td>0</td>\n",
       "      <td>0</td>\n",
       "      <td>0</td>\n",
       "      <td>0</td>\n",
       "      <td>0</td>\n",
       "      <td>0</td>\n",
       "    </tr>\n",
       "    <tr>\n",
       "      <th>1</th>\n",
       "      <td>0</td>\n",
       "      <td>0</td>\n",
       "      <td>0</td>\n",
       "      <td>0</td>\n",
       "      <td>1</td>\n",
       "      <td>0</td>\n",
       "      <td>0</td>\n",
       "      <td>0</td>\n",
       "      <td>0</td>\n",
       "      <td>0</td>\n",
       "      <td>0</td>\n",
       "      <td>0</td>\n",
       "    </tr>\n",
       "    <tr>\n",
       "      <th>2</th>\n",
       "      <td>0</td>\n",
       "      <td>0</td>\n",
       "      <td>0</td>\n",
       "      <td>0</td>\n",
       "      <td>1</td>\n",
       "      <td>0</td>\n",
       "      <td>0</td>\n",
       "      <td>0</td>\n",
       "      <td>0</td>\n",
       "      <td>0</td>\n",
       "      <td>0</td>\n",
       "      <td>0</td>\n",
       "    </tr>\n",
       "    <tr>\n",
       "      <th>3</th>\n",
       "      <td>0</td>\n",
       "      <td>0</td>\n",
       "      <td>0</td>\n",
       "      <td>0</td>\n",
       "      <td>1</td>\n",
       "      <td>0</td>\n",
       "      <td>0</td>\n",
       "      <td>0</td>\n",
       "      <td>0</td>\n",
       "      <td>0</td>\n",
       "      <td>0</td>\n",
       "      <td>0</td>\n",
       "    </tr>\n",
       "    <tr>\n",
       "      <th>4</th>\n",
       "      <td>0</td>\n",
       "      <td>0</td>\n",
       "      <td>0</td>\n",
       "      <td>0</td>\n",
       "      <td>1</td>\n",
       "      <td>0</td>\n",
       "      <td>0</td>\n",
       "      <td>0</td>\n",
       "      <td>0</td>\n",
       "      <td>0</td>\n",
       "      <td>0</td>\n",
       "      <td>0</td>\n",
       "    </tr>\n",
       "    <tr>\n",
       "      <th>...</th>\n",
       "      <td>...</td>\n",
       "      <td>...</td>\n",
       "      <td>...</td>\n",
       "      <td>...</td>\n",
       "      <td>...</td>\n",
       "      <td>...</td>\n",
       "      <td>...</td>\n",
       "      <td>...</td>\n",
       "      <td>...</td>\n",
       "      <td>...</td>\n",
       "      <td>...</td>\n",
       "      <td>...</td>\n",
       "    </tr>\n",
       "    <tr>\n",
       "      <th>39445</th>\n",
       "      <td>0</td>\n",
       "      <td>0</td>\n",
       "      <td>0</td>\n",
       "      <td>0</td>\n",
       "      <td>0</td>\n",
       "      <td>0</td>\n",
       "      <td>1</td>\n",
       "      <td>0</td>\n",
       "      <td>0</td>\n",
       "      <td>0</td>\n",
       "      <td>0</td>\n",
       "      <td>0</td>\n",
       "    </tr>\n",
       "    <tr>\n",
       "      <th>39446</th>\n",
       "      <td>0</td>\n",
       "      <td>0</td>\n",
       "      <td>0</td>\n",
       "      <td>0</td>\n",
       "      <td>0</td>\n",
       "      <td>0</td>\n",
       "      <td>1</td>\n",
       "      <td>0</td>\n",
       "      <td>0</td>\n",
       "      <td>0</td>\n",
       "      <td>0</td>\n",
       "      <td>0</td>\n",
       "    </tr>\n",
       "    <tr>\n",
       "      <th>39447</th>\n",
       "      <td>0</td>\n",
       "      <td>0</td>\n",
       "      <td>0</td>\n",
       "      <td>0</td>\n",
       "      <td>0</td>\n",
       "      <td>0</td>\n",
       "      <td>1</td>\n",
       "      <td>0</td>\n",
       "      <td>0</td>\n",
       "      <td>0</td>\n",
       "      <td>0</td>\n",
       "      <td>0</td>\n",
       "    </tr>\n",
       "    <tr>\n",
       "      <th>39448</th>\n",
       "      <td>0</td>\n",
       "      <td>0</td>\n",
       "      <td>0</td>\n",
       "      <td>0</td>\n",
       "      <td>0</td>\n",
       "      <td>0</td>\n",
       "      <td>1</td>\n",
       "      <td>0</td>\n",
       "      <td>0</td>\n",
       "      <td>0</td>\n",
       "      <td>0</td>\n",
       "      <td>0</td>\n",
       "    </tr>\n",
       "    <tr>\n",
       "      <th>39449</th>\n",
       "      <td>1</td>\n",
       "      <td>0</td>\n",
       "      <td>0</td>\n",
       "      <td>0</td>\n",
       "      <td>0</td>\n",
       "      <td>0</td>\n",
       "      <td>0</td>\n",
       "      <td>0</td>\n",
       "      <td>0</td>\n",
       "      <td>0</td>\n",
       "      <td>0</td>\n",
       "      <td>0</td>\n",
       "    </tr>\n",
       "  </tbody>\n",
       "</table>\n",
       "<p>39450 rows × 12 columns</p>\n",
       "</div>"
      ],
      "text/plain": [
       "       1  10  11  12  2  3  4  5  6  7  8  9\n",
       "0      0   0   0   0  1  0  0  0  0  0  0  0\n",
       "1      0   0   0   0  1  0  0  0  0  0  0  0\n",
       "2      0   0   0   0  1  0  0  0  0  0  0  0\n",
       "3      0   0   0   0  1  0  0  0  0  0  0  0\n",
       "4      0   0   0   0  1  0  0  0  0  0  0  0\n",
       "...   ..  ..  ..  .. .. .. .. .. .. .. .. ..\n",
       "39445  0   0   0   0  0  0  1  0  0  0  0  0\n",
       "39446  0   0   0   0  0  0  1  0  0  0  0  0\n",
       "39447  0   0   0   0  0  0  1  0  0  0  0  0\n",
       "39448  0   0   0   0  0  0  1  0  0  0  0  0\n",
       "39449  1   0   0   0  0  0  0  0  0  0  0  0\n",
       "\n",
       "[39450 rows x 12 columns]"
      ]
     },
     "execution_count": 11,
     "metadata": {},
     "output_type": "execute_result"
    }
   ],
   "source": [
    "one_hot = pd.get_dummies(df[\"month\"])\n",
    "one_hot"
   ]
  },
  {
   "cell_type": "code",
   "execution_count": 12,
   "id": "37fcb5b9",
   "metadata": {},
   "outputs": [],
   "source": [
    "df = df.join(one_hot)"
   ]
  },
  {
   "cell_type": "code",
   "execution_count": 13,
   "id": "2d85aab4",
   "metadata": {},
   "outputs": [],
   "source": [
    "df = df.drop('month',axis = 1)"
   ]
  },
  {
   "cell_type": "code",
   "execution_count": 14,
   "id": "955abb1f",
   "metadata": {},
   "outputs": [],
   "source": [
    "df = df.drop('date',axis = 1)"
   ]
  },
  {
   "cell_type": "code",
   "execution_count": 15,
   "id": "1811c4d5",
   "metadata": {},
   "outputs": [],
   "source": [
    "one_hot = pd.get_dummies(df[\"location\"])\n",
    "df = df.join(one_hot)"
   ]
  },
  {
   "cell_type": "code",
   "execution_count": 16,
   "id": "b0970eb1",
   "metadata": {},
   "outputs": [],
   "source": [
    "df = df.drop('location',axis = 1)"
   ]
  },
  {
   "cell_type": "code",
   "execution_count": 17,
   "id": "f141b2eb",
   "metadata": {},
   "outputs": [],
   "source": [
    "one_hot = pd.get_dummies(df[\"grid_id\"])\n",
    "df = df.join(one_hot)"
   ]
  },
  {
   "cell_type": "code",
   "execution_count": 18,
   "id": "aadf3eff",
   "metadata": {},
   "outputs": [],
   "source": [
    "df = df.drop('grid_id',axis = 1)"
   ]
  },
  {
   "cell_type": "code",
   "execution_count": 19,
   "id": "b364bae9",
   "metadata": {},
   "outputs": [
    {
     "data": {
      "text/html": [
       "<div>\n",
       "<style scoped>\n",
       "    .dataframe tbody tr th:only-of-type {\n",
       "        vertical-align: middle;\n",
       "    }\n",
       "\n",
       "    .dataframe tbody tr th {\n",
       "        vertical-align: top;\n",
       "    }\n",
       "\n",
       "    .dataframe thead th {\n",
       "        text-align: right;\n",
       "    }\n",
       "</style>\n",
       "<table border=\"1\" class=\"dataframe\">\n",
       "  <thead>\n",
       "    <tr style=\"text-align: right;\">\n",
       "      <th></th>\n",
       "      <th>value</th>\n",
       "      <th>datetime_dt</th>\n",
       "      <th>AOD at 0.47 micron_0</th>\n",
       "      <th>AOD at 0.47 micron_1</th>\n",
       "      <th>AOD at 0.47 micron_2</th>\n",
       "      <th>AOD at 0.47 micron_3</th>\n",
       "      <th>AOD at 0.47 micron_4</th>\n",
       "      <th>AOD at 0.47 micron_5</th>\n",
       "      <th>AOD at 0.47 micron_6</th>\n",
       "      <th>AOD at 0.47 micron_7</th>\n",
       "      <th>...</th>\n",
       "      <th>VYH7U</th>\n",
       "      <th>WT52R</th>\n",
       "      <th>WZNCR</th>\n",
       "      <th>X5DKW</th>\n",
       "      <th>XJF9O</th>\n",
       "      <th>XNLVD</th>\n",
       "      <th>YHOPV</th>\n",
       "      <th>ZF3ZW</th>\n",
       "      <th>ZP1FZ</th>\n",
       "      <th>ZZ8JF</th>\n",
       "    </tr>\n",
       "  </thead>\n",
       "  <tbody>\n",
       "    <tr>\n",
       "      <th>0</th>\n",
       "      <td>11.4</td>\n",
       "      <td>2018-02-01 08:00:00+00:00</td>\n",
       "      <td>-0.563344</td>\n",
       "      <td>0.109907</td>\n",
       "      <td>-0.103034</td>\n",
       "      <td>0.234161</td>\n",
       "      <td>-0.041027</td>\n",
       "      <td>0.229606</td>\n",
       "      <td>-0.581547</td>\n",
       "      <td>-0.097234</td>\n",
       "      <td>...</td>\n",
       "      <td>0</td>\n",
       "      <td>0</td>\n",
       "      <td>0</td>\n",
       "      <td>0</td>\n",
       "      <td>0</td>\n",
       "      <td>0</td>\n",
       "      <td>0</td>\n",
       "      <td>0</td>\n",
       "      <td>0</td>\n",
       "      <td>0</td>\n",
       "    </tr>\n",
       "    <tr>\n",
       "      <th>1</th>\n",
       "      <td>17.0</td>\n",
       "      <td>2018-02-01 08:00:00+00:00</td>\n",
       "      <td>-0.563344</td>\n",
       "      <td>0.109907</td>\n",
       "      <td>-0.103034</td>\n",
       "      <td>0.234161</td>\n",
       "      <td>-0.041027</td>\n",
       "      <td>0.229606</td>\n",
       "      <td>-0.581547</td>\n",
       "      <td>-0.097234</td>\n",
       "      <td>...</td>\n",
       "      <td>0</td>\n",
       "      <td>0</td>\n",
       "      <td>0</td>\n",
       "      <td>0</td>\n",
       "      <td>0</td>\n",
       "      <td>0</td>\n",
       "      <td>0</td>\n",
       "      <td>0</td>\n",
       "      <td>0</td>\n",
       "      <td>0</td>\n",
       "    </tr>\n",
       "    <tr>\n",
       "      <th>2</th>\n",
       "      <td>11.1</td>\n",
       "      <td>2018-02-01 08:00:00+00:00</td>\n",
       "      <td>-0.563344</td>\n",
       "      <td>0.109907</td>\n",
       "      <td>-0.103034</td>\n",
       "      <td>0.234161</td>\n",
       "      <td>-0.041027</td>\n",
       "      <td>0.229606</td>\n",
       "      <td>-0.581547</td>\n",
       "      <td>-0.097234</td>\n",
       "      <td>...</td>\n",
       "      <td>0</td>\n",
       "      <td>0</td>\n",
       "      <td>0</td>\n",
       "      <td>0</td>\n",
       "      <td>0</td>\n",
       "      <td>0</td>\n",
       "      <td>0</td>\n",
       "      <td>0</td>\n",
       "      <td>0</td>\n",
       "      <td>0</td>\n",
       "    </tr>\n",
       "    <tr>\n",
       "      <th>3</th>\n",
       "      <td>22.1</td>\n",
       "      <td>2018-02-01 08:00:00+00:00</td>\n",
       "      <td>-0.563344</td>\n",
       "      <td>0.109907</td>\n",
       "      <td>-0.103034</td>\n",
       "      <td>0.234161</td>\n",
       "      <td>-0.041027</td>\n",
       "      <td>0.229606</td>\n",
       "      <td>-0.581547</td>\n",
       "      <td>-0.097234</td>\n",
       "      <td>...</td>\n",
       "      <td>0</td>\n",
       "      <td>0</td>\n",
       "      <td>0</td>\n",
       "      <td>0</td>\n",
       "      <td>0</td>\n",
       "      <td>0</td>\n",
       "      <td>0</td>\n",
       "      <td>0</td>\n",
       "      <td>0</td>\n",
       "      <td>0</td>\n",
       "    </tr>\n",
       "    <tr>\n",
       "      <th>4</th>\n",
       "      <td>29.8</td>\n",
       "      <td>2018-02-01 08:00:00+00:00</td>\n",
       "      <td>-0.563344</td>\n",
       "      <td>0.109907</td>\n",
       "      <td>-0.103034</td>\n",
       "      <td>0.234161</td>\n",
       "      <td>-0.041027</td>\n",
       "      <td>0.229606</td>\n",
       "      <td>-0.581547</td>\n",
       "      <td>-0.097234</td>\n",
       "      <td>...</td>\n",
       "      <td>0</td>\n",
       "      <td>0</td>\n",
       "      <td>0</td>\n",
       "      <td>0</td>\n",
       "      <td>0</td>\n",
       "      <td>0</td>\n",
       "      <td>0</td>\n",
       "      <td>0</td>\n",
       "      <td>0</td>\n",
       "      <td>0</td>\n",
       "    </tr>\n",
       "  </tbody>\n",
       "</table>\n",
       "<p>5 rows × 2119 columns</p>\n",
       "</div>"
      ],
      "text/plain": [
       "   value               datetime_dt  AOD at 0.47 micron_0  \\\n",
       "0   11.4 2018-02-01 08:00:00+00:00             -0.563344   \n",
       "1   17.0 2018-02-01 08:00:00+00:00             -0.563344   \n",
       "2   11.1 2018-02-01 08:00:00+00:00             -0.563344   \n",
       "3   22.1 2018-02-01 08:00:00+00:00             -0.563344   \n",
       "4   29.8 2018-02-01 08:00:00+00:00             -0.563344   \n",
       "\n",
       "   AOD at 0.47 micron_1  AOD at 0.47 micron_2  AOD at 0.47 micron_3  \\\n",
       "0              0.109907             -0.103034              0.234161   \n",
       "1              0.109907             -0.103034              0.234161   \n",
       "2              0.109907             -0.103034              0.234161   \n",
       "3              0.109907             -0.103034              0.234161   \n",
       "4              0.109907             -0.103034              0.234161   \n",
       "\n",
       "   AOD at 0.47 micron_4  AOD at 0.47 micron_5  AOD at 0.47 micron_6  \\\n",
       "0             -0.041027              0.229606             -0.581547   \n",
       "1             -0.041027              0.229606             -0.581547   \n",
       "2             -0.041027              0.229606             -0.581547   \n",
       "3             -0.041027              0.229606             -0.581547   \n",
       "4             -0.041027              0.229606             -0.581547   \n",
       "\n",
       "   AOD at 0.47 micron_7  ...  VYH7U  WT52R  WZNCR  X5DKW  XJF9O  XNLVD  YHOPV  \\\n",
       "0             -0.097234  ...      0      0      0      0      0      0      0   \n",
       "1             -0.097234  ...      0      0      0      0      0      0      0   \n",
       "2             -0.097234  ...      0      0      0      0      0      0      0   \n",
       "3             -0.097234  ...      0      0      0      0      0      0      0   \n",
       "4             -0.097234  ...      0      0      0      0      0      0      0   \n",
       "\n",
       "   ZF3ZW  ZP1FZ  ZZ8JF  \n",
       "0      0      0      0  \n",
       "1      0      0      0  \n",
       "2      0      0      0  \n",
       "3      0      0      0  \n",
       "4      0      0      0  \n",
       "\n",
       "[5 rows x 2119 columns]"
      ]
     },
     "execution_count": 19,
     "metadata": {},
     "output_type": "execute_result"
    }
   ],
   "source": [
    "df.head()"
   ]
  },
  {
   "cell_type": "code",
   "execution_count": 20,
   "id": "1863bd6b",
   "metadata": {},
   "outputs": [],
   "source": [
    "X = df[df.columns[2:]].values"
   ]
  },
  {
   "cell_type": "code",
   "execution_count": 21,
   "id": "d1414e3f",
   "metadata": {},
   "outputs": [],
   "source": [
    "y = df[\"value\"].values"
   ]
  },
  {
   "cell_type": "code",
   "execution_count": 22,
   "id": "a53924c8",
   "metadata": {},
   "outputs": [
    {
     "data": {
      "text/plain": [
       "(39450, 2117)"
      ]
     },
     "execution_count": 22,
     "metadata": {},
     "output_type": "execute_result"
    }
   ],
   "source": [
    "X.shape"
   ]
  },
  {
   "cell_type": "code",
   "execution_count": null,
   "id": "f54704fc",
   "metadata": {},
   "outputs": [],
   "source": []
  },
  {
   "cell_type": "code",
   "execution_count": 24,
   "id": "95223ed4",
   "metadata": {},
   "outputs": [
    {
     "data": {
      "text/plain": [
       "(39450, 2117)"
      ]
     },
     "execution_count": 24,
     "metadata": {},
     "output_type": "execute_result"
    }
   ],
   "source": [
    "X.shape"
   ]
  },
  {
   "cell_type": "code",
   "execution_count": 27,
   "id": "8a351484",
   "metadata": {},
   "outputs": [],
   "source": [
    "X_f = X[:100]"
   ]
  },
  {
   "cell_type": "code",
   "execution_count": 28,
   "id": "4581612e",
   "metadata": {},
   "outputs": [],
   "source": [
    "y_f = y[:100]"
   ]
  },
  {
   "cell_type": "code",
   "execution_count": null,
   "id": "cf6aa9e2",
   "metadata": {},
   "outputs": [],
   "source": []
  },
  {
   "cell_type": "code",
   "execution_count": 29,
   "id": "a159f3da",
   "metadata": {},
   "outputs": [],
   "source": [
    "X_train, X_test, y_train, y_test = sklearn.model_selection.train_test_split(\n",
    "    X_f,\n",
    "    y_f,\n",
    "    random_state=1,\n",
    ")\n"
   ]
  },
  {
   "cell_type": "code",
   "execution_count": 30,
   "id": "75868d4e",
   "metadata": {},
   "outputs": [],
   "source": [
    "api = TabularRegressionTask()"
   ]
  },
  {
   "cell_type": "code",
   "execution_count": 31,
   "id": "dbc7d165",
   "metadata": {
    "scrolled": true
   },
   "outputs": [
    {
     "name": "stdout",
     "output_type": "stream",
     "text": [
      "[WARNING] [2022-03-21 08:52:20,390:Client-Validation] AutoPyTorch previously received features of type <class 'numpy.ndarray'> yet the current features have type <class 'pandas.core.frame.DataFrame'>. Changing the dtype of inputs to an estimator might cause problems\n",
      "[WARNING] [2022-03-21 08:52:21,309:Client-Validation] AutoPyTorch previously received features of type <class 'numpy.ndarray'> yet the current features have type <class 'pandas.core.frame.DataFrame'>. Changing the dtype of inputs to an estimator might cause problems\n",
      "[WARNING] [2022-03-21 08:52:22,354:Client-AutoPyTorch:31c32a50-a8f4-11ec-8847-0242ac110006:1] Time limit for a single run is higher than total time limit. Capping the limit for a single run to the total time given to SMAC (299.000000)\n",
      "[WARNING] [2022-03-21 08:52:22,354:Client-AutoPyTorch:31c32a50-a8f4-11ec-8847-0242ac110006:1] Capping the func_eval_time_limit_secs to 149 to have time for a least 2 models to ensemble.\n",
      "[WARNING] [2022-03-21 08:53:10,801:Client-AutoPyTorch:31c32a50-a8f4-11ec-8847-0242ac110006:1] Not enough time to fit all traditional machine learning models.Please consider increasing the run time to further improve performance.\n"
     ]
    },
    {
     "data": {
      "text/plain": [
       "<autoPyTorch.api.tabular_regression.TabularRegressionTask at 0x7fdd248e3fd0>"
      ]
     },
     "execution_count": 31,
     "metadata": {},
     "output_type": "execute_result"
    }
   ],
   "source": [
    "api.search(\n",
    "    X_train=X_train,\n",
    "    y_train=y_train,\n",
    "    X_test=X_test.copy(),\n",
    "    y_test=y_test.copy(),\n",
    "    optimize_metric='r2',\n",
    "    total_walltime_limit=300,\n",
    "    func_eval_time_limit_secs=500,\n",
    "    memory_limit=None\n",
    ")"
   ]
  },
  {
   "cell_type": "code",
   "execution_count": 36,
   "id": "78708b5f",
   "metadata": {},
   "outputs": [
    {
     "name": "stdout",
     "output_type": "stream",
     "text": [
      "|    | Preprocessing                                  | Estimator                                                    |   Weight |\n",
      "|---:|:-----------------------------------------------|:-------------------------------------------------------------|---------:|\n",
      "|  0 | None                                           | LGBMLearner                                                  |     0.72 |\n",
      "|  1 | SimpleImputer,NoEncoder,MinMaxScaler,KernelPCA | no embedding,ResNetBackbone,FullyConnectedHead,nn.Sequential |     0.28 |\n"
     ]
    }
   ],
   "source": [
    "for i in api.show_models().split(\"\\n\"):\n",
    "    print(i)"
   ]
  },
  {
   "cell_type": "code",
   "execution_count": 37,
   "id": "899f266c",
   "metadata": {},
   "outputs": [],
   "source": [
    "y_pred = api.predict(X_test)"
   ]
  },
  {
   "cell_type": "code",
   "execution_count": 39,
   "id": "4ee5de3c",
   "metadata": {},
   "outputs": [
    {
     "data": {
      "text/plain": [
       "(array([[10.37222445],\n",
       "        [20.38568234],\n",
       "        [24.19297266],\n",
       "        [12.93878651],\n",
       "        [26.87248802],\n",
       "        [25.39304876],\n",
       "        [ 9.42792082],\n",
       "        [17.13818407],\n",
       "        [ 6.68472338],\n",
       "        [24.69935274],\n",
       "        [25.1283946 ],\n",
       "        [11.35762119],\n",
       "        [19.74185371],\n",
       "        [23.82077503],\n",
       "        [19.81522942],\n",
       "        [10.70577145],\n",
       "        [23.39290857],\n",
       "        [ 3.32666504],\n",
       "        [ 9.80878496],\n",
       "        [13.93182325],\n",
       "        [18.57106876],\n",
       "        [13.71081209],\n",
       "        [15.27664089],\n",
       "        [19.91833067],\n",
       "        [26.74576855]]),\n",
       " array([11.4       , 16.        , 25.88888889, 22.3       , 10.15      ,\n",
       "        12.8       , 10.6       , 19.5       , 12.6       , 29.        ,\n",
       "        30.975     , 11.3       , 18.        , 10.4       , 17.9       ,\n",
       "         7.05      ,  7.97142857,  4.6       , 18.8       ,  6.2       ,\n",
       "        11.1       , 10.        , 15.85      ,  6.8       ,  0.4       ]))"
      ]
     },
     "execution_count": 39,
     "metadata": {},
     "output_type": "execute_result"
    }
   ],
   "source": [
    "y_pred,y_test"
   ]
  },
  {
   "cell_type": "code",
   "execution_count": null,
   "id": "de003ac8",
   "metadata": {},
   "outputs": [],
   "source": []
  },
  {
   "cell_type": "code",
   "execution_count": 216,
   "id": "be6c1fc5",
   "metadata": {},
   "outputs": [],
   "source": [
    "from sklearn.preprocessing import MinMaxScaler"
   ]
  },
  {
   "cell_type": "code",
   "execution_count": 217,
   "id": "3a8e3e25",
   "metadata": {},
   "outputs": [],
   "source": [
    "# scaler = MinMaxScaler()\n",
    "# X_train = scaler.fit_transform(X_train)\n",
    "# X_val = scaler.transform(X_val)\n",
    "# X_test = scaler.transform(X_test)\n",
    "# X_train, y_train = np.array(X_train), np.array(y_train)\n",
    "# X_val, y_val = np.array(X_val), np.array(y_val)\n",
    "# X_test, y_test = np.array(X_test), np.array(y_test)\n"
   ]
  },
  {
   "cell_type": "code",
   "execution_count": 402,
   "id": "e873f825",
   "metadata": {},
   "outputs": [],
   "source": [
    "train_dataset = RegressionDataset(torch.from_numpy(X_train).float(), torch.from_numpy(y_train).float())\n",
    "val_dataset = RegressionDataset(torch.from_numpy(X_val).float(), torch.from_numpy(y_val).float())\n",
    "test_dataset = RegressionDataset(torch.from_numpy(X_test).float(), torch.from_numpy(y_test).float())"
   ]
  },
  {
   "cell_type": "code",
   "execution_count": 403,
   "id": "971d9afe",
   "metadata": {},
   "outputs": [],
   "source": [
    "EPOCHS = 150\n",
    "BATCH_SIZE = 64\n",
    "LEARNING_RATE = 0.001\n",
    "NUM_FEATURES = X.shape[1]"
   ]
  },
  {
   "cell_type": "code",
   "execution_count": 404,
   "id": "04b79405",
   "metadata": {},
   "outputs": [],
   "source": [
    "train_loader = DataLoader(dataset=train_dataset, batch_size=BATCH_SIZE, shuffle=True)\n",
    "val_loader = DataLoader(dataset=val_dataset, batch_size=1)\n",
    "test_loader = DataLoader(dataset=test_dataset, batch_size=1)"
   ]
  },
  {
   "cell_type": "code",
   "execution_count": 405,
   "id": "25403888",
   "metadata": {},
   "outputs": [
    {
     "data": {
      "text/plain": [
       "2117"
      ]
     },
     "execution_count": 405,
     "metadata": {},
     "output_type": "execute_result"
    }
   ],
   "source": [
    "NUM_FEATURES"
   ]
  },
  {
   "cell_type": "code",
   "execution_count": 406,
   "id": "7b1d9ef4",
   "metadata": {},
   "outputs": [
    {
     "data": {
      "text/plain": [
       "device(type='cuda', index=0)"
      ]
     },
     "execution_count": 406,
     "metadata": {},
     "output_type": "execute_result"
    }
   ],
   "source": [
    "device = torch.device(\"cuda:0\" if torch.cuda.is_available() else \"cpu\")\n",
    "device"
   ]
  },
  {
   "cell_type": "code",
   "execution_count": 505,
   "id": "a98b0a40",
   "metadata": {},
   "outputs": [
    {
     "data": {
      "text/plain": [
       "Regression(\n",
       "  (fc1): Linear(in_features=2117, out_features=1024, bias=True)\n",
       "  (fc2): Linear(in_features=1024, out_features=512, bias=True)\n",
       "  (fc3): Linear(in_features=512, out_features=256, bias=True)\n",
       "  (fc4): Linear(in_features=256, out_features=128, bias=True)\n",
       "  (fc5): Linear(in_features=128, out_features=64, bias=True)\n",
       "  (fc6): Linear(in_features=64, out_features=64, bias=True)\n",
       "  (fc7): Linear(in_features=64, out_features=64, bias=True)\n",
       "  (fc8): Linear(in_features=64, out_features=64, bias=True)\n",
       "  (fc9): Linear(in_features=64, out_features=64, bias=True)\n",
       "  (fc10): Linear(in_features=64, out_features=32, bias=True)\n",
       "  (f): Linear(in_features=32, out_features=1, bias=True)\n",
       "  (activation): LeakyReLU(negative_slope=0.01)\n",
       ")"
      ]
     },
     "execution_count": 505,
     "metadata": {},
     "output_type": "execute_result"
    }
   ],
   "source": [
    "model = Regression(NUM_FEATURES)\n",
    "model.to(device)\n"
   ]
  },
  {
   "cell_type": "code",
   "execution_count": 506,
   "id": "b820827f",
   "metadata": {},
   "outputs": [],
   "source": [
    "criterion = nn.MSELoss()\n",
    "optimizer = optim.Adam(model.parameters(), lr=LEARNING_RATE)"
   ]
  },
  {
   "cell_type": "code",
   "execution_count": 507,
   "id": "710321a8",
   "metadata": {},
   "outputs": [],
   "source": [
    "loss_stats = {\n",
    "    'train': [],\n",
    "    \"val\": []\n",
    "}"
   ]
  },
  {
   "cell_type": "code",
   "execution_count": 508,
   "id": "39666856",
   "metadata": {},
   "outputs": [],
   "source": [
    "from tqdm import tqdm"
   ]
  },
  {
   "cell_type": "code",
   "execution_count": null,
   "id": "a8a950d4",
   "metadata": {
    "scrolled": true
   },
   "outputs": [
    {
     "name": "stdout",
     "output_type": "stream",
     "text": [
      "Begin training.\n"
     ]
    },
    {
     "name": "stderr",
     "output_type": "stream",
     "text": [
      "  1% 1/150 [00:06<16:46,  6.76s/it]"
     ]
    },
    {
     "name": "stdout",
     "output_type": "stream",
     "text": [
      "Epoch 001: | Train Loss: 3773.89483 | Val Loss: 2560.32142\n"
     ]
    },
    {
     "name": "stderr",
     "output_type": "stream",
     "text": [
      "  1% 2/150 [00:13<16:31,  6.70s/it]"
     ]
    },
    {
     "name": "stdout",
     "output_type": "stream",
     "text": [
      "Epoch 002: | Train Loss: 2238.93790 | Val Loss: 2094.86254\n"
     ]
    },
    {
     "name": "stderr",
     "output_type": "stream",
     "text": [
      "  2% 3/150 [00:20<16:18,  6.65s/it]"
     ]
    },
    {
     "name": "stdout",
     "output_type": "stream",
     "text": [
      "Epoch 003: | Train Loss: 1973.36540 | Val Loss: 1999.34675\n"
     ]
    },
    {
     "name": "stderr",
     "output_type": "stream",
     "text": [
      "  3% 4/150 [00:26<16:09,  6.64s/it]"
     ]
    },
    {
     "name": "stdout",
     "output_type": "stream",
     "text": [
      "Epoch 004: | Train Loss: 1968.28319 | Val Loss: 1626.02725\n"
     ]
    },
    {
     "name": "stderr",
     "output_type": "stream",
     "text": [
      "  3% 5/150 [00:33<15:58,  6.61s/it]"
     ]
    },
    {
     "name": "stdout",
     "output_type": "stream",
     "text": [
      "Epoch 005: | Train Loss: 1863.00830 | Val Loss: 1634.09209\n"
     ]
    },
    {
     "name": "stderr",
     "output_type": "stream",
     "text": [
      "  4% 6/150 [00:39<15:46,  6.57s/it]"
     ]
    },
    {
     "name": "stdout",
     "output_type": "stream",
     "text": [
      "Epoch 006: | Train Loss: 1788.52122 | Val Loss: 1551.14501\n"
     ]
    },
    {
     "name": "stderr",
     "output_type": "stream",
     "text": [
      "  5% 7/150 [00:46<15:41,  6.59s/it]"
     ]
    },
    {
     "name": "stdout",
     "output_type": "stream",
     "text": [
      "Epoch 007: | Train Loss: 1794.62616 | Val Loss: 1728.42119\n"
     ]
    },
    {
     "name": "stderr",
     "output_type": "stream",
     "text": [
      "  5% 8/150 [00:52<15:33,  6.57s/it]"
     ]
    },
    {
     "name": "stdout",
     "output_type": "stream",
     "text": [
      "Epoch 008: | Train Loss: 1748.11077 | Val Loss: 1595.73587\n"
     ]
    },
    {
     "name": "stderr",
     "output_type": "stream",
     "text": [
      "  6% 9/150 [00:59<15:27,  6.57s/it]"
     ]
    },
    {
     "name": "stdout",
     "output_type": "stream",
     "text": [
      "Epoch 009: | Train Loss: 1670.86183 | Val Loss: 1584.61437\n"
     ]
    },
    {
     "name": "stderr",
     "output_type": "stream",
     "text": [
      "  7% 10/150 [01:06<15:20,  6.58s/it]"
     ]
    },
    {
     "name": "stdout",
     "output_type": "stream",
     "text": [
      "Epoch 010: | Train Loss: 1652.21149 | Val Loss: 1743.92847\n"
     ]
    },
    {
     "name": "stderr",
     "output_type": "stream",
     "text": [
      "  7% 11/150 [01:12<15:13,  6.57s/it]"
     ]
    },
    {
     "name": "stdout",
     "output_type": "stream",
     "text": [
      "Epoch 011: | Train Loss: 1609.69633 | Val Loss: 1710.93439\n"
     ]
    },
    {
     "name": "stderr",
     "output_type": "stream",
     "text": [
      "  8% 12/150 [01:19<15:06,  6.57s/it]"
     ]
    },
    {
     "name": "stdout",
     "output_type": "stream",
     "text": [
      "Epoch 012: | Train Loss: 1672.89795 | Val Loss: 1524.94078\n"
     ]
    },
    {
     "name": "stderr",
     "output_type": "stream",
     "text": [
      "  9% 13/150 [01:25<14:57,  6.55s/it]"
     ]
    },
    {
     "name": "stdout",
     "output_type": "stream",
     "text": [
      "Epoch 013: | Train Loss: 1551.07877 | Val Loss: 1385.97346\n"
     ]
    },
    {
     "name": "stderr",
     "output_type": "stream",
     "text": [
      "  9% 14/150 [01:32<14:54,  6.57s/it]"
     ]
    },
    {
     "name": "stdout",
     "output_type": "stream",
     "text": [
      "Epoch 014: | Train Loss: 1518.68990 | Val Loss: 1288.28449\n"
     ]
    },
    {
     "name": "stderr",
     "output_type": "stream",
     "text": [
      " 10% 15/150 [01:38<14:46,  6.56s/it]"
     ]
    },
    {
     "name": "stdout",
     "output_type": "stream",
     "text": [
      "Epoch 015: | Train Loss: 1549.15791 | Val Loss: 1466.25181\n"
     ]
    },
    {
     "name": "stderr",
     "output_type": "stream",
     "text": [
      " 11% 16/150 [01:45<14:38,  6.56s/it]"
     ]
    },
    {
     "name": "stdout",
     "output_type": "stream",
     "text": [
      "Epoch 016: | Train Loss: 1446.07377 | Val Loss: 1305.80729\n"
     ]
    },
    {
     "name": "stderr",
     "output_type": "stream",
     "text": [
      " 11% 17/150 [01:51<14:31,  6.55s/it]"
     ]
    },
    {
     "name": "stdout",
     "output_type": "stream",
     "text": [
      "Epoch 017: | Train Loss: 1425.65946 | Val Loss: 1253.82654\n"
     ]
    },
    {
     "name": "stderr",
     "output_type": "stream",
     "text": [
      " 12% 18/150 [01:58<14:24,  6.55s/it]"
     ]
    },
    {
     "name": "stdout",
     "output_type": "stream",
     "text": [
      "Epoch 018: | Train Loss: 1445.07893 | Val Loss: 1675.29259\n"
     ]
    },
    {
     "name": "stderr",
     "output_type": "stream",
     "text": [
      " 13% 19/150 [02:04<14:16,  6.54s/it]"
     ]
    },
    {
     "name": "stdout",
     "output_type": "stream",
     "text": [
      "Epoch 019: | Train Loss: 1379.75004 | Val Loss: 1292.91257\n"
     ]
    },
    {
     "name": "stderr",
     "output_type": "stream",
     "text": [
      " 13% 20/150 [02:11<14:10,  6.54s/it]"
     ]
    },
    {
     "name": "stdout",
     "output_type": "stream",
     "text": [
      "Epoch 020: | Train Loss: 1311.39758 | Val Loss: 1271.01933\n"
     ]
    },
    {
     "name": "stderr",
     "output_type": "stream",
     "text": [
      " 14% 21/150 [02:17<14:01,  6.53s/it]"
     ]
    },
    {
     "name": "stdout",
     "output_type": "stream",
     "text": [
      "Epoch 021: | Train Loss: 1314.17546 | Val Loss: 1353.11926\n"
     ]
    },
    {
     "name": "stderr",
     "output_type": "stream",
     "text": [
      " 15% 22/150 [02:24<13:55,  6.53s/it]"
     ]
    },
    {
     "name": "stdout",
     "output_type": "stream",
     "text": [
      "Epoch 022: | Train Loss: 1332.36760 | Val Loss: 1411.56796\n"
     ]
    }
   ],
   "source": [
    "print(\"Begin training.\")\n",
    "for e in tqdm(range(1, EPOCHS+1)):\n",
    "    \n",
    "    # TRAINING\n",
    "    train_epoch_loss = 0\n",
    "    model.train()\n",
    "    for X_train_batch, y_train_batch in train_loader:\n",
    "        X_train_batch, y_train_batch = X_train_batch.to(device), y_train_batch.to(device)\n",
    "        optimizer.zero_grad()\n",
    "        \n",
    "        y_train_pred = model(X_train_batch)\n",
    "        \n",
    "        train_loss = criterion(y_train_pred, y_train_batch.unsqueeze(1))\n",
    "        \n",
    "        train_loss.backward()\n",
    "        optimizer.step()\n",
    "        \n",
    "        train_epoch_loss += train_loss.item()\n",
    "        \n",
    "        \n",
    "    # VALIDATION    \n",
    "    with torch.no_grad():\n",
    "        \n",
    "        val_epoch_loss = 0\n",
    "        \n",
    "        model.eval()\n",
    "        for X_val_batch, y_val_batch in val_loader:\n",
    "            X_val_batch, y_val_batch = X_val_batch.to(device), y_val_batch.to(device)\n",
    "            \n",
    "            y_val_pred = model(X_val_batch)\n",
    "                        \n",
    "            val_loss = criterion(y_val_pred, y_val_batch.unsqueeze(1))\n",
    "            \n",
    "            val_epoch_loss += val_loss.item()\n",
    "    loss_stats['train'].append(train_epoch_loss/len(train_loader))\n",
    "    loss_stats['val'].append(val_epoch_loss/len(val_loader))                              \n",
    "    \n",
    "    print(f'Epoch {e+0:03}: | Train Loss: {train_epoch_loss/len(train_loader):.5f} | Val Loss: {val_epoch_loss/len(val_loader):.5f}')"
   ]
  },
  {
   "cell_type": "code",
   "execution_count": null,
   "id": "f2204a9d",
   "metadata": {},
   "outputs": [],
   "source": []
  },
  {
   "cell_type": "code",
   "execution_count": 229,
   "id": "5935b7b2",
   "metadata": {},
   "outputs": [],
   "source": [
    "y_pred_list = []\n",
    "with torch.no_grad():\n",
    "    model.eval()\n",
    "    for X_batch, _ in test_loader:\n",
    "        X_batch = X_batch.to(device)\n",
    "        y_test_pred = model(X_batch)\n",
    "        y_pred_list.append(y_test_pred.cpu().numpy())\n",
    "y_pred_list = [a.squeeze().tolist() for a in y_pred_list]"
   ]
  },
  {
   "cell_type": "code",
   "execution_count": 41,
   "id": "a959e15d",
   "metadata": {},
   "outputs": [],
   "source": [
    "from sklearn.metrics import mean_squared_error\n",
    "from sklearn.metrics import r2_score"
   ]
  },
  {
   "cell_type": "code",
   "execution_count": 44,
   "id": "78dc2360",
   "metadata": {},
   "outputs": [
    {
     "ename": "NameError",
     "evalue": "name 'y_pred_list' is not defined",
     "output_type": "error",
     "traceback": [
      "\u001b[0;31m\u001b[0m",
      "\u001b[0;31mNameError\u001b[0mTraceback (most recent call last)",
      "\u001b[0;32m<ipython-input-44-7d803bfe5cdb>\u001b[0m in \u001b[0;36m<module>\u001b[0;34m\u001b[0m\n\u001b[0;32m----> 1\u001b[0;31m \u001b[0mmse\u001b[0m \u001b[0;34m=\u001b[0m \u001b[0mmean_squared_error\u001b[0m\u001b[0;34m(\u001b[0m\u001b[0my_test\u001b[0m\u001b[0;34m,\u001b[0m \u001b[0my_pred_list\u001b[0m\u001b[0;34m)\u001b[0m\u001b[0;34m\u001b[0m\u001b[0;34m\u001b[0m\u001b[0m\n\u001b[0m\u001b[1;32m      2\u001b[0m \u001b[0mr_square\u001b[0m \u001b[0;34m=\u001b[0m \u001b[0mr2_score\u001b[0m\u001b[0;34m(\u001b[0m\u001b[0my_test\u001b[0m\u001b[0;34m,\u001b[0m \u001b[0my_pred_list\u001b[0m\u001b[0;34m)\u001b[0m\u001b[0;34m\u001b[0m\u001b[0;34m\u001b[0m\u001b[0m\n\u001b[1;32m      3\u001b[0m \u001b[0mprint\u001b[0m\u001b[0;34m(\u001b[0m\u001b[0;34m\"Mean Squared Error :\"\u001b[0m\u001b[0;34m,\u001b[0m\u001b[0mmse\u001b[0m\u001b[0;34m)\u001b[0m\u001b[0;34m\u001b[0m\u001b[0;34m\u001b[0m\u001b[0m\n\u001b[1;32m      4\u001b[0m \u001b[0mprint\u001b[0m\u001b[0;34m(\u001b[0m\u001b[0;34m\"R^2 :\"\u001b[0m\u001b[0;34m,\u001b[0m\u001b[0mr_square\u001b[0m\u001b[0;34m)\u001b[0m\u001b[0;34m\u001b[0m\u001b[0;34m\u001b[0m\u001b[0m\n",
      "\u001b[0;31mNameError\u001b[0m: name 'y_pred_list' is not defined"
     ]
    }
   ],
   "source": [
    "mse = mean_squared_error(y_test, y_pred_list)\n",
    "r_square = r2_score(y_test, y_pred_list)\n",
    "print(\"Mean Squared Error :\",mse)\n",
    "print(\"R^2 :\",r_square)"
   ]
  },
  {
   "cell_type": "code",
   "execution_count": null,
   "id": "31712bf0",
   "metadata": {},
   "outputs": [],
   "source": []
  },
  {
   "cell_type": "code",
   "execution_count": null,
   "id": "b8f387fc",
   "metadata": {},
   "outputs": [],
   "source": [
    "# Mean Squared Error : 907.6883032426905\n",
    "# R^2 : 0.8434949212954438\n",
    "\n",
    "# Mean Squared Error : 604.0072439588212\n",
    "# R^2 : 0.8958560984908686"
   ]
  },
  {
   "cell_type": "code",
   "execution_count": null,
   "id": "218328cd",
   "metadata": {},
   "outputs": [],
   "source": []
  },
  {
   "cell_type": "code",
   "execution_count": null,
   "id": "c8655327",
   "metadata": {},
   "outputs": [],
   "source": [
    "train_dataset = RegressionDataset(torch.from_numpy(X_train).float(), torch.from_numpy(y_train).float())"
   ]
  },
  {
   "cell_type": "code",
   "execution_count": 248,
   "id": "dd0cac66",
   "metadata": {},
   "outputs": [],
   "source": [
    "df_testi['7F1D1'] = np.zeros(len(df_testi))\n",
    "df_testi['WZNCR'] = np.zeros(len(df_testi))"
   ]
  },
  {
   "cell_type": "code",
   "execution_count": 250,
   "id": "5676171a",
   "metadata": {},
   "outputs": [],
   "source": [
    "df_testi = df_testi[df.columns]"
   ]
  },
  {
   "cell_type": "code",
   "execution_count": 336,
   "id": "33385c52",
   "metadata": {},
   "outputs": [
    {
     "data": {
      "text/html": [
       "<div>\n",
       "<style scoped>\n",
       "    .dataframe tbody tr th:only-of-type {\n",
       "        vertical-align: middle;\n",
       "    }\n",
       "\n",
       "    .dataframe tbody tr th {\n",
       "        vertical-align: top;\n",
       "    }\n",
       "\n",
       "    .dataframe thead th {\n",
       "        text-align: right;\n",
       "    }\n",
       "</style>\n",
       "<table border=\"1\" class=\"dataframe\">\n",
       "  <thead>\n",
       "    <tr style=\"text-align: right;\">\n",
       "      <th></th>\n",
       "      <th>Unnamed: 0</th>\n",
       "      <th>datetime</th>\n",
       "      <th>grid_id</th>\n",
       "      <th>value</th>\n",
       "      <th>datetime_dt</th>\n",
       "      <th>location</th>\n",
       "      <th>date</th>\n",
       "      <th>granule_id</th>\n",
       "      <th>AOD at 0.47 micron_0</th>\n",
       "      <th>AOD at 0.47 micron_1</th>\n",
       "      <th>...</th>\n",
       "      <th>cosine of Solar Zenith Angle_246</th>\n",
       "      <th>cosine of Solar Zenith Angle_247</th>\n",
       "      <th>cosine of Solar Zenith Angle_248</th>\n",
       "      <th>cosine of Solar Zenith Angle_249</th>\n",
       "      <th>cosine of Solar Zenith Angle_250</th>\n",
       "      <th>cosine of Solar Zenith Angle_251</th>\n",
       "      <th>cosine of Solar Zenith Angle_252</th>\n",
       "      <th>cosine of Solar Zenith Angle_253</th>\n",
       "      <th>cosine of Solar Zenith Angle_254</th>\n",
       "      <th>cosine of Solar Zenith Angle_255</th>\n",
       "    </tr>\n",
       "  </thead>\n",
       "  <tbody>\n",
       "    <tr>\n",
       "      <th>0</th>\n",
       "      <td>0</td>\n",
       "      <td>2017-01-07T16:00:00Z</td>\n",
       "      <td>1X116</td>\n",
       "      <td>8.420161</td>\n",
       "      <td>2017-01-07 16:00:00+00:00</td>\n",
       "      <td>Taipei</td>\n",
       "      <td>2017-01-07</td>\n",
       "      <td>20170107T032000_maiac_tpe_0.hdf</td>\n",
       "      <td>-0.552611</td>\n",
       "      <td>0.114593</td>\n",
       "      <td>...</td>\n",
       "      <td>0.514868</td>\n",
       "      <td>0.139191</td>\n",
       "      <td>0.183938</td>\n",
       "      <td>-1.667788</td>\n",
       "      <td>-0.356834</td>\n",
       "      <td>2.620512</td>\n",
       "      <td>0.295454</td>\n",
       "      <td>-0.233992</td>\n",
       "      <td>0.197363</td>\n",
       "      <td>0.768304</td>\n",
       "    </tr>\n",
       "    <tr>\n",
       "      <th>1</th>\n",
       "      <td>1</td>\n",
       "      <td>2017-01-07T16:00:00Z</td>\n",
       "      <td>9Q6TA</td>\n",
       "      <td>9.205665</td>\n",
       "      <td>2017-01-07 16:00:00+00:00</td>\n",
       "      <td>Taipei</td>\n",
       "      <td>2017-01-07</td>\n",
       "      <td>20170107T032000_maiac_tpe_0.hdf</td>\n",
       "      <td>-0.552611</td>\n",
       "      <td>0.114593</td>\n",
       "      <td>...</td>\n",
       "      <td>0.514868</td>\n",
       "      <td>0.139191</td>\n",
       "      <td>0.183938</td>\n",
       "      <td>-1.667788</td>\n",
       "      <td>-0.356834</td>\n",
       "      <td>2.620512</td>\n",
       "      <td>0.295454</td>\n",
       "      <td>-0.233992</td>\n",
       "      <td>0.197363</td>\n",
       "      <td>0.768304</td>\n",
       "    </tr>\n",
       "    <tr>\n",
       "      <th>2</th>\n",
       "      <td>2</td>\n",
       "      <td>2017-01-07T16:00:00Z</td>\n",
       "      <td>KW43U</td>\n",
       "      <td>10.190537</td>\n",
       "      <td>2017-01-07 16:00:00+00:00</td>\n",
       "      <td>Taipei</td>\n",
       "      <td>2017-01-07</td>\n",
       "      <td>20170107T032000_maiac_tpe_0.hdf</td>\n",
       "      <td>-0.552611</td>\n",
       "      <td>0.114593</td>\n",
       "      <td>...</td>\n",
       "      <td>0.514868</td>\n",
       "      <td>0.139191</td>\n",
       "      <td>0.183938</td>\n",
       "      <td>-1.667788</td>\n",
       "      <td>-0.356834</td>\n",
       "      <td>2.620512</td>\n",
       "      <td>0.295454</td>\n",
       "      <td>-0.233992</td>\n",
       "      <td>0.197363</td>\n",
       "      <td>0.768304</td>\n",
       "    </tr>\n",
       "    <tr>\n",
       "      <th>3</th>\n",
       "      <td>3</td>\n",
       "      <td>2017-01-07T16:00:00Z</td>\n",
       "      <td>VR4WG</td>\n",
       "      <td>13.024861</td>\n",
       "      <td>2017-01-07 16:00:00+00:00</td>\n",
       "      <td>Taipei</td>\n",
       "      <td>2017-01-07</td>\n",
       "      <td>20170107T032000_maiac_tpe_0.hdf</td>\n",
       "      <td>-0.552611</td>\n",
       "      <td>0.114593</td>\n",
       "      <td>...</td>\n",
       "      <td>0.514868</td>\n",
       "      <td>0.139191</td>\n",
       "      <td>0.183938</td>\n",
       "      <td>-1.667788</td>\n",
       "      <td>-0.356834</td>\n",
       "      <td>2.620512</td>\n",
       "      <td>0.295454</td>\n",
       "      <td>-0.233992</td>\n",
       "      <td>0.197363</td>\n",
       "      <td>0.768304</td>\n",
       "    </tr>\n",
       "    <tr>\n",
       "      <th>4</th>\n",
       "      <td>4</td>\n",
       "      <td>2017-01-07T16:00:00Z</td>\n",
       "      <td>XJF9O</td>\n",
       "      <td>8.132245</td>\n",
       "      <td>2017-01-07 16:00:00+00:00</td>\n",
       "      <td>Taipei</td>\n",
       "      <td>2017-01-07</td>\n",
       "      <td>20170107T032000_maiac_tpe_0.hdf</td>\n",
       "      <td>-0.552611</td>\n",
       "      <td>0.114593</td>\n",
       "      <td>...</td>\n",
       "      <td>0.514868</td>\n",
       "      <td>0.139191</td>\n",
       "      <td>0.183938</td>\n",
       "      <td>-1.667788</td>\n",
       "      <td>-0.356834</td>\n",
       "      <td>2.620512</td>\n",
       "      <td>0.295454</td>\n",
       "      <td>-0.233992</td>\n",
       "      <td>0.197363</td>\n",
       "      <td>0.768304</td>\n",
       "    </tr>\n",
       "    <tr>\n",
       "      <th>...</th>\n",
       "      <td>...</td>\n",
       "      <td>...</td>\n",
       "      <td>...</td>\n",
       "      <td>...</td>\n",
       "      <td>...</td>\n",
       "      <td>...</td>\n",
       "      <td>...</td>\n",
       "      <td>...</td>\n",
       "      <td>...</td>\n",
       "      <td>...</td>\n",
       "      <td>...</td>\n",
       "      <td>...</td>\n",
       "      <td>...</td>\n",
       "      <td>...</td>\n",
       "      <td>...</td>\n",
       "      <td>...</td>\n",
       "      <td>...</td>\n",
       "      <td>...</td>\n",
       "      <td>...</td>\n",
       "      <td>...</td>\n",
       "      <td>...</td>\n",
       "    </tr>\n",
       "    <tr>\n",
       "      <th>15994</th>\n",
       "      <td>15994</td>\n",
       "      <td>2021-06-05T18:30:00Z</td>\n",
       "      <td>YHOPV</td>\n",
       "      <td>39.464722</td>\n",
       "      <td>2021-06-05 18:30:00+00:00</td>\n",
       "      <td>Delhi</td>\n",
       "      <td>2021-06-05</td>\n",
       "      <td>20210605T071000_maiac_dl_0.hdf</td>\n",
       "      <td>-0.561104</td>\n",
       "      <td>0.114857</td>\n",
       "      <td>...</td>\n",
       "      <td>0.282401</td>\n",
       "      <td>0.094115</td>\n",
       "      <td>0.101234</td>\n",
       "      <td>-0.598972</td>\n",
       "      <td>-0.056394</td>\n",
       "      <td>-0.085390</td>\n",
       "      <td>0.155456</td>\n",
       "      <td>0.061431</td>\n",
       "      <td>0.139627</td>\n",
       "      <td>0.156484</td>\n",
       "    </tr>\n",
       "    <tr>\n",
       "      <th>15995</th>\n",
       "      <td>15995</td>\n",
       "      <td>2021-06-05T18:30:00Z</td>\n",
       "      <td>ZF3ZW</td>\n",
       "      <td>53.499786</td>\n",
       "      <td>2021-06-05 18:30:00+00:00</td>\n",
       "      <td>Delhi</td>\n",
       "      <td>2021-06-05</td>\n",
       "      <td>20210605T071000_maiac_dl_0.hdf</td>\n",
       "      <td>-0.561104</td>\n",
       "      <td>0.114857</td>\n",
       "      <td>...</td>\n",
       "      <td>0.282401</td>\n",
       "      <td>0.094115</td>\n",
       "      <td>0.101234</td>\n",
       "      <td>-0.598972</td>\n",
       "      <td>-0.056394</td>\n",
       "      <td>-0.085390</td>\n",
       "      <td>0.155456</td>\n",
       "      <td>0.061431</td>\n",
       "      <td>0.139627</td>\n",
       "      <td>0.156484</td>\n",
       "    </tr>\n",
       "    <tr>\n",
       "      <th>15996</th>\n",
       "      <td>15996</td>\n",
       "      <td>2021-06-05T18:30:00Z</td>\n",
       "      <td>GVQXS</td>\n",
       "      <td>42.492672</td>\n",
       "      <td>2021-06-05 18:30:00+00:00</td>\n",
       "      <td>Delhi</td>\n",
       "      <td>2021-06-05</td>\n",
       "      <td>20210605T071000_maiac_dl_0.hdf</td>\n",
       "      <td>-0.561104</td>\n",
       "      <td>0.114857</td>\n",
       "      <td>...</td>\n",
       "      <td>0.282401</td>\n",
       "      <td>0.094115</td>\n",
       "      <td>0.101234</td>\n",
       "      <td>-0.598972</td>\n",
       "      <td>-0.056394</td>\n",
       "      <td>-0.085390</td>\n",
       "      <td>0.155456</td>\n",
       "      <td>0.061431</td>\n",
       "      <td>0.139627</td>\n",
       "      <td>0.156484</td>\n",
       "    </tr>\n",
       "    <tr>\n",
       "      <th>15997</th>\n",
       "      <td>15997</td>\n",
       "      <td>2021-06-17T18:30:00Z</td>\n",
       "      <td>A7UCQ</td>\n",
       "      <td>50.507221</td>\n",
       "      <td>2021-06-17 18:30:00+00:00</td>\n",
       "      <td>Delhi</td>\n",
       "      <td>2021-06-17</td>\n",
       "      <td>20210617T060000_maiac_dl_0.hdf</td>\n",
       "      <td>-0.556475</td>\n",
       "      <td>0.114697</td>\n",
       "      <td>...</td>\n",
       "      <td>0.364079</td>\n",
       "      <td>0.141253</td>\n",
       "      <td>0.068522</td>\n",
       "      <td>-1.220975</td>\n",
       "      <td>-0.168101</td>\n",
       "      <td>1.756613</td>\n",
       "      <td>0.158490</td>\n",
       "      <td>0.021657</td>\n",
       "      <td>0.110188</td>\n",
       "      <td>0.200711</td>\n",
       "    </tr>\n",
       "    <tr>\n",
       "      <th>15998</th>\n",
       "      <td>15998</td>\n",
       "      <td>2021-04-11T18:30:00Z</td>\n",
       "      <td>GJLB2</td>\n",
       "      <td>49.723572</td>\n",
       "      <td>2021-04-11 18:30:00+00:00</td>\n",
       "      <td>Delhi</td>\n",
       "      <td>2021-04-11</td>\n",
       "      <td>20210411T070500_maiac_dl_0.hdf</td>\n",
       "      <td>-0.556702</td>\n",
       "      <td>0.114758</td>\n",
       "      <td>...</td>\n",
       "      <td>0.559139</td>\n",
       "      <td>0.184912</td>\n",
       "      <td>0.162346</td>\n",
       "      <td>-2.739183</td>\n",
       "      <td>-0.605774</td>\n",
       "      <td>3.593384</td>\n",
       "      <td>0.308225</td>\n",
       "      <td>-0.423955</td>\n",
       "      <td>0.171615</td>\n",
       "      <td>1.109442</td>\n",
       "    </tr>\n",
       "  </tbody>\n",
       "</table>\n",
       "<p>15999 rows × 2056 columns</p>\n",
       "</div>"
      ],
      "text/plain": [
       "       Unnamed: 0              datetime grid_id      value  \\\n",
       "0               0  2017-01-07T16:00:00Z   1X116   8.420161   \n",
       "1               1  2017-01-07T16:00:00Z   9Q6TA   9.205665   \n",
       "2               2  2017-01-07T16:00:00Z   KW43U  10.190537   \n",
       "3               3  2017-01-07T16:00:00Z   VR4WG  13.024861   \n",
       "4               4  2017-01-07T16:00:00Z   XJF9O   8.132245   \n",
       "...           ...                   ...     ...        ...   \n",
       "15994       15994  2021-06-05T18:30:00Z   YHOPV  39.464722   \n",
       "15995       15995  2021-06-05T18:30:00Z   ZF3ZW  53.499786   \n",
       "15996       15996  2021-06-05T18:30:00Z   GVQXS  42.492672   \n",
       "15997       15997  2021-06-17T18:30:00Z   A7UCQ  50.507221   \n",
       "15998       15998  2021-04-11T18:30:00Z   GJLB2  49.723572   \n",
       "\n",
       "                     datetime_dt location        date  \\\n",
       "0      2017-01-07 16:00:00+00:00   Taipei  2017-01-07   \n",
       "1      2017-01-07 16:00:00+00:00   Taipei  2017-01-07   \n",
       "2      2017-01-07 16:00:00+00:00   Taipei  2017-01-07   \n",
       "3      2017-01-07 16:00:00+00:00   Taipei  2017-01-07   \n",
       "4      2017-01-07 16:00:00+00:00   Taipei  2017-01-07   \n",
       "...                          ...      ...         ...   \n",
       "15994  2021-06-05 18:30:00+00:00    Delhi  2021-06-05   \n",
       "15995  2021-06-05 18:30:00+00:00    Delhi  2021-06-05   \n",
       "15996  2021-06-05 18:30:00+00:00    Delhi  2021-06-05   \n",
       "15997  2021-06-17 18:30:00+00:00    Delhi  2021-06-17   \n",
       "15998  2021-04-11 18:30:00+00:00    Delhi  2021-04-11   \n",
       "\n",
       "                            granule_id  AOD at 0.47 micron_0  \\\n",
       "0      20170107T032000_maiac_tpe_0.hdf             -0.552611   \n",
       "1      20170107T032000_maiac_tpe_0.hdf             -0.552611   \n",
       "2      20170107T032000_maiac_tpe_0.hdf             -0.552611   \n",
       "3      20170107T032000_maiac_tpe_0.hdf             -0.552611   \n",
       "4      20170107T032000_maiac_tpe_0.hdf             -0.552611   \n",
       "...                                ...                   ...   \n",
       "15994   20210605T071000_maiac_dl_0.hdf             -0.561104   \n",
       "15995   20210605T071000_maiac_dl_0.hdf             -0.561104   \n",
       "15996   20210605T071000_maiac_dl_0.hdf             -0.561104   \n",
       "15997   20210617T060000_maiac_dl_0.hdf             -0.556475   \n",
       "15998   20210411T070500_maiac_dl_0.hdf             -0.556702   \n",
       "\n",
       "       AOD at 0.47 micron_1  ...  cosine of Solar Zenith Angle_246  \\\n",
       "0                  0.114593  ...                          0.514868   \n",
       "1                  0.114593  ...                          0.514868   \n",
       "2                  0.114593  ...                          0.514868   \n",
       "3                  0.114593  ...                          0.514868   \n",
       "4                  0.114593  ...                          0.514868   \n",
       "...                     ...  ...                               ...   \n",
       "15994              0.114857  ...                          0.282401   \n",
       "15995              0.114857  ...                          0.282401   \n",
       "15996              0.114857  ...                          0.282401   \n",
       "15997              0.114697  ...                          0.364079   \n",
       "15998              0.114758  ...                          0.559139   \n",
       "\n",
       "       cosine of Solar Zenith Angle_247  cosine of Solar Zenith Angle_248  \\\n",
       "0                              0.139191                          0.183938   \n",
       "1                              0.139191                          0.183938   \n",
       "2                              0.139191                          0.183938   \n",
       "3                              0.139191                          0.183938   \n",
       "4                              0.139191                          0.183938   \n",
       "...                                 ...                               ...   \n",
       "15994                          0.094115                          0.101234   \n",
       "15995                          0.094115                          0.101234   \n",
       "15996                          0.094115                          0.101234   \n",
       "15997                          0.141253                          0.068522   \n",
       "15998                          0.184912                          0.162346   \n",
       "\n",
       "       cosine of Solar Zenith Angle_249  cosine of Solar Zenith Angle_250  \\\n",
       "0                             -1.667788                         -0.356834   \n",
       "1                             -1.667788                         -0.356834   \n",
       "2                             -1.667788                         -0.356834   \n",
       "3                             -1.667788                         -0.356834   \n",
       "4                             -1.667788                         -0.356834   \n",
       "...                                 ...                               ...   \n",
       "15994                         -0.598972                         -0.056394   \n",
       "15995                         -0.598972                         -0.056394   \n",
       "15996                         -0.598972                         -0.056394   \n",
       "15997                         -1.220975                         -0.168101   \n",
       "15998                         -2.739183                         -0.605774   \n",
       "\n",
       "       cosine of Solar Zenith Angle_251  cosine of Solar Zenith Angle_252  \\\n",
       "0                              2.620512                          0.295454   \n",
       "1                              2.620512                          0.295454   \n",
       "2                              2.620512                          0.295454   \n",
       "3                              2.620512                          0.295454   \n",
       "4                              2.620512                          0.295454   \n",
       "...                                 ...                               ...   \n",
       "15994                         -0.085390                          0.155456   \n",
       "15995                         -0.085390                          0.155456   \n",
       "15996                         -0.085390                          0.155456   \n",
       "15997                          1.756613                          0.158490   \n",
       "15998                          3.593384                          0.308225   \n",
       "\n",
       "       cosine of Solar Zenith Angle_253  cosine of Solar Zenith Angle_254  \\\n",
       "0                             -0.233992                          0.197363   \n",
       "1                             -0.233992                          0.197363   \n",
       "2                             -0.233992                          0.197363   \n",
       "3                             -0.233992                          0.197363   \n",
       "4                             -0.233992                          0.197363   \n",
       "...                                 ...                               ...   \n",
       "15994                          0.061431                          0.139627   \n",
       "15995                          0.061431                          0.139627   \n",
       "15996                          0.061431                          0.139627   \n",
       "15997                          0.021657                          0.110188   \n",
       "15998                         -0.423955                          0.171615   \n",
       "\n",
       "       cosine of Solar Zenith Angle_255  \n",
       "0                              0.768304  \n",
       "1                              0.768304  \n",
       "2                              0.768304  \n",
       "3                              0.768304  \n",
       "4                              0.768304  \n",
       "...                                 ...  \n",
       "15994                          0.156484  \n",
       "15995                          0.156484  \n",
       "15996                          0.156484  \n",
       "15997                          0.200711  \n",
       "15998                          1.109442  \n",
       "\n",
       "[15999 rows x 2056 columns]"
      ]
     },
     "execution_count": 336,
     "metadata": {},
     "output_type": "execute_result"
    }
   ],
   "source": [
    "df_test.drop_duplicates()"
   ]
  },
  {
   "cell_type": "code",
   "execution_count": 241,
   "id": "420b217d",
   "metadata": {},
   "outputs": [],
   "source": [
    "df_testi = clean_df(df_test)"
   ]
  },
  {
   "cell_type": "code",
   "execution_count": 255,
   "id": "b3e7ab93",
   "metadata": {},
   "outputs": [
    {
     "data": {
      "text/plain": [
       "(15999, 2117)"
      ]
     },
     "execution_count": 255,
     "metadata": {},
     "output_type": "execute_result"
    }
   ],
   "source": [
    "X_t.shape"
   ]
  },
  {
   "cell_type": "code",
   "execution_count": 254,
   "id": "5f8ec8c9",
   "metadata": {},
   "outputs": [],
   "source": [
    "X_t = df_testi[df_testi.columns[2:]].values"
   ]
  },
  {
   "cell_type": "code",
   "execution_count": 256,
   "id": "2e8f43dc",
   "metadata": {},
   "outputs": [
    {
     "data": {
      "text/html": [
       "<div>\n",
       "<style scoped>\n",
       "    .dataframe tbody tr th:only-of-type {\n",
       "        vertical-align: middle;\n",
       "    }\n",
       "\n",
       "    .dataframe tbody tr th {\n",
       "        vertical-align: top;\n",
       "    }\n",
       "\n",
       "    .dataframe thead th {\n",
       "        text-align: right;\n",
       "    }\n",
       "</style>\n",
       "<table border=\"1\" class=\"dataframe\">\n",
       "  <thead>\n",
       "    <tr style=\"text-align: right;\">\n",
       "      <th></th>\n",
       "      <th>value</th>\n",
       "      <th>datetime_dt</th>\n",
       "      <th>AOD at 0.47 micron_0</th>\n",
       "      <th>AOD at 0.47 micron_1</th>\n",
       "      <th>AOD at 0.47 micron_2</th>\n",
       "      <th>AOD at 0.47 micron_3</th>\n",
       "      <th>AOD at 0.47 micron_4</th>\n",
       "      <th>AOD at 0.47 micron_5</th>\n",
       "      <th>AOD at 0.47 micron_6</th>\n",
       "      <th>AOD at 0.47 micron_7</th>\n",
       "      <th>...</th>\n",
       "      <th>VYH7U</th>\n",
       "      <th>WT52R</th>\n",
       "      <th>WZNCR</th>\n",
       "      <th>X5DKW</th>\n",
       "      <th>XJF9O</th>\n",
       "      <th>XNLVD</th>\n",
       "      <th>YHOPV</th>\n",
       "      <th>ZF3ZW</th>\n",
       "      <th>ZP1FZ</th>\n",
       "      <th>ZZ8JF</th>\n",
       "    </tr>\n",
       "  </thead>\n",
       "  <tbody>\n",
       "    <tr>\n",
       "      <th>0</th>\n",
       "      <td>0.0</td>\n",
       "      <td>2017-01-07 16:00:00+00:00</td>\n",
       "      <td>-0.552611</td>\n",
       "      <td>0.114593</td>\n",
       "      <td>-0.116292</td>\n",
       "      <td>0.256839</td>\n",
       "      <td>-0.049796</td>\n",
       "      <td>0.242716</td>\n",
       "      <td>-0.585104</td>\n",
       "      <td>-0.107607</td>\n",
       "      <td>...</td>\n",
       "      <td>0</td>\n",
       "      <td>0</td>\n",
       "      <td>0.0</td>\n",
       "      <td>0</td>\n",
       "      <td>0</td>\n",
       "      <td>0</td>\n",
       "      <td>0</td>\n",
       "      <td>0</td>\n",
       "      <td>0</td>\n",
       "      <td>0</td>\n",
       "    </tr>\n",
       "    <tr>\n",
       "      <th>1</th>\n",
       "      <td>0.0</td>\n",
       "      <td>2017-01-07 16:00:00+00:00</td>\n",
       "      <td>-0.552611</td>\n",
       "      <td>0.114593</td>\n",
       "      <td>-0.116292</td>\n",
       "      <td>0.256839</td>\n",
       "      <td>-0.049796</td>\n",
       "      <td>0.242716</td>\n",
       "      <td>-0.585104</td>\n",
       "      <td>-0.107607</td>\n",
       "      <td>...</td>\n",
       "      <td>0</td>\n",
       "      <td>0</td>\n",
       "      <td>0.0</td>\n",
       "      <td>0</td>\n",
       "      <td>0</td>\n",
       "      <td>0</td>\n",
       "      <td>0</td>\n",
       "      <td>0</td>\n",
       "      <td>0</td>\n",
       "      <td>0</td>\n",
       "    </tr>\n",
       "    <tr>\n",
       "      <th>2</th>\n",
       "      <td>0.0</td>\n",
       "      <td>2017-01-07 16:00:00+00:00</td>\n",
       "      <td>-0.552611</td>\n",
       "      <td>0.114593</td>\n",
       "      <td>-0.116292</td>\n",
       "      <td>0.256839</td>\n",
       "      <td>-0.049796</td>\n",
       "      <td>0.242716</td>\n",
       "      <td>-0.585104</td>\n",
       "      <td>-0.107607</td>\n",
       "      <td>...</td>\n",
       "      <td>0</td>\n",
       "      <td>0</td>\n",
       "      <td>0.0</td>\n",
       "      <td>0</td>\n",
       "      <td>0</td>\n",
       "      <td>0</td>\n",
       "      <td>0</td>\n",
       "      <td>0</td>\n",
       "      <td>0</td>\n",
       "      <td>0</td>\n",
       "    </tr>\n",
       "    <tr>\n",
       "      <th>3</th>\n",
       "      <td>0.0</td>\n",
       "      <td>2017-01-07 16:00:00+00:00</td>\n",
       "      <td>-0.552611</td>\n",
       "      <td>0.114593</td>\n",
       "      <td>-0.116292</td>\n",
       "      <td>0.256839</td>\n",
       "      <td>-0.049796</td>\n",
       "      <td>0.242716</td>\n",
       "      <td>-0.585104</td>\n",
       "      <td>-0.107607</td>\n",
       "      <td>...</td>\n",
       "      <td>0</td>\n",
       "      <td>0</td>\n",
       "      <td>0.0</td>\n",
       "      <td>0</td>\n",
       "      <td>0</td>\n",
       "      <td>0</td>\n",
       "      <td>0</td>\n",
       "      <td>0</td>\n",
       "      <td>0</td>\n",
       "      <td>0</td>\n",
       "    </tr>\n",
       "    <tr>\n",
       "      <th>4</th>\n",
       "      <td>0.0</td>\n",
       "      <td>2017-01-07 16:00:00+00:00</td>\n",
       "      <td>-0.552611</td>\n",
       "      <td>0.114593</td>\n",
       "      <td>-0.116292</td>\n",
       "      <td>0.256839</td>\n",
       "      <td>-0.049796</td>\n",
       "      <td>0.242716</td>\n",
       "      <td>-0.585104</td>\n",
       "      <td>-0.107607</td>\n",
       "      <td>...</td>\n",
       "      <td>0</td>\n",
       "      <td>0</td>\n",
       "      <td>0.0</td>\n",
       "      <td>0</td>\n",
       "      <td>1</td>\n",
       "      <td>0</td>\n",
       "      <td>0</td>\n",
       "      <td>0</td>\n",
       "      <td>0</td>\n",
       "      <td>0</td>\n",
       "    </tr>\n",
       "    <tr>\n",
       "      <th>...</th>\n",
       "      <td>...</td>\n",
       "      <td>...</td>\n",
       "      <td>...</td>\n",
       "      <td>...</td>\n",
       "      <td>...</td>\n",
       "      <td>...</td>\n",
       "      <td>...</td>\n",
       "      <td>...</td>\n",
       "      <td>...</td>\n",
       "      <td>...</td>\n",
       "      <td>...</td>\n",
       "      <td>...</td>\n",
       "      <td>...</td>\n",
       "      <td>...</td>\n",
       "      <td>...</td>\n",
       "      <td>...</td>\n",
       "      <td>...</td>\n",
       "      <td>...</td>\n",
       "      <td>...</td>\n",
       "      <td>...</td>\n",
       "      <td>...</td>\n",
       "    </tr>\n",
       "    <tr>\n",
       "      <th>15994</th>\n",
       "      <td>0.0</td>\n",
       "      <td>2021-06-05 18:30:00+00:00</td>\n",
       "      <td>-0.561104</td>\n",
       "      <td>0.114857</td>\n",
       "      <td>-0.115555</td>\n",
       "      <td>0.257440</td>\n",
       "      <td>-0.049277</td>\n",
       "      <td>0.244174</td>\n",
       "      <td>-0.593226</td>\n",
       "      <td>-0.107686</td>\n",
       "      <td>...</td>\n",
       "      <td>0</td>\n",
       "      <td>0</td>\n",
       "      <td>0.0</td>\n",
       "      <td>0</td>\n",
       "      <td>0</td>\n",
       "      <td>0</td>\n",
       "      <td>1</td>\n",
       "      <td>0</td>\n",
       "      <td>0</td>\n",
       "      <td>0</td>\n",
       "    </tr>\n",
       "    <tr>\n",
       "      <th>15995</th>\n",
       "      <td>0.0</td>\n",
       "      <td>2021-06-05 18:30:00+00:00</td>\n",
       "      <td>-0.561104</td>\n",
       "      <td>0.114857</td>\n",
       "      <td>-0.115555</td>\n",
       "      <td>0.257440</td>\n",
       "      <td>-0.049277</td>\n",
       "      <td>0.244174</td>\n",
       "      <td>-0.593226</td>\n",
       "      <td>-0.107686</td>\n",
       "      <td>...</td>\n",
       "      <td>0</td>\n",
       "      <td>0</td>\n",
       "      <td>0.0</td>\n",
       "      <td>0</td>\n",
       "      <td>0</td>\n",
       "      <td>0</td>\n",
       "      <td>0</td>\n",
       "      <td>1</td>\n",
       "      <td>0</td>\n",
       "      <td>0</td>\n",
       "    </tr>\n",
       "    <tr>\n",
       "      <th>15996</th>\n",
       "      <td>0.0</td>\n",
       "      <td>2021-06-05 18:30:00+00:00</td>\n",
       "      <td>-0.561104</td>\n",
       "      <td>0.114857</td>\n",
       "      <td>-0.115555</td>\n",
       "      <td>0.257440</td>\n",
       "      <td>-0.049277</td>\n",
       "      <td>0.244174</td>\n",
       "      <td>-0.593226</td>\n",
       "      <td>-0.107686</td>\n",
       "      <td>...</td>\n",
       "      <td>0</td>\n",
       "      <td>0</td>\n",
       "      <td>0.0</td>\n",
       "      <td>0</td>\n",
       "      <td>0</td>\n",
       "      <td>0</td>\n",
       "      <td>0</td>\n",
       "      <td>0</td>\n",
       "      <td>0</td>\n",
       "      <td>0</td>\n",
       "    </tr>\n",
       "    <tr>\n",
       "      <th>15997</th>\n",
       "      <td>0.0</td>\n",
       "      <td>2021-06-17 18:30:00+00:00</td>\n",
       "      <td>-0.556475</td>\n",
       "      <td>0.114697</td>\n",
       "      <td>-0.116058</td>\n",
       "      <td>0.256996</td>\n",
       "      <td>-0.049477</td>\n",
       "      <td>0.243355</td>\n",
       "      <td>-0.588765</td>\n",
       "      <td>-0.107504</td>\n",
       "      <td>...</td>\n",
       "      <td>0</td>\n",
       "      <td>0</td>\n",
       "      <td>0.0</td>\n",
       "      <td>0</td>\n",
       "      <td>0</td>\n",
       "      <td>0</td>\n",
       "      <td>0</td>\n",
       "      <td>0</td>\n",
       "      <td>0</td>\n",
       "      <td>0</td>\n",
       "    </tr>\n",
       "    <tr>\n",
       "      <th>15998</th>\n",
       "      <td>0.0</td>\n",
       "      <td>2021-04-11 18:30:00+00:00</td>\n",
       "      <td>-0.556702</td>\n",
       "      <td>0.114758</td>\n",
       "      <td>-0.116034</td>\n",
       "      <td>0.257136</td>\n",
       "      <td>-0.049515</td>\n",
       "      <td>0.243378</td>\n",
       "      <td>-0.589021</td>\n",
       "      <td>-0.107595</td>\n",
       "      <td>...</td>\n",
       "      <td>0</td>\n",
       "      <td>0</td>\n",
       "      <td>0.0</td>\n",
       "      <td>0</td>\n",
       "      <td>0</td>\n",
       "      <td>0</td>\n",
       "      <td>0</td>\n",
       "      <td>0</td>\n",
       "      <td>0</td>\n",
       "      <td>0</td>\n",
       "    </tr>\n",
       "  </tbody>\n",
       "</table>\n",
       "<p>15999 rows × 2119 columns</p>\n",
       "</div>"
      ],
      "text/plain": [
       "       value               datetime_dt  AOD at 0.47 micron_0  \\\n",
       "0        0.0 2017-01-07 16:00:00+00:00             -0.552611   \n",
       "1        0.0 2017-01-07 16:00:00+00:00             -0.552611   \n",
       "2        0.0 2017-01-07 16:00:00+00:00             -0.552611   \n",
       "3        0.0 2017-01-07 16:00:00+00:00             -0.552611   \n",
       "4        0.0 2017-01-07 16:00:00+00:00             -0.552611   \n",
       "...      ...                       ...                   ...   \n",
       "15994    0.0 2021-06-05 18:30:00+00:00             -0.561104   \n",
       "15995    0.0 2021-06-05 18:30:00+00:00             -0.561104   \n",
       "15996    0.0 2021-06-05 18:30:00+00:00             -0.561104   \n",
       "15997    0.0 2021-06-17 18:30:00+00:00             -0.556475   \n",
       "15998    0.0 2021-04-11 18:30:00+00:00             -0.556702   \n",
       "\n",
       "       AOD at 0.47 micron_1  AOD at 0.47 micron_2  AOD at 0.47 micron_3  \\\n",
       "0                  0.114593             -0.116292              0.256839   \n",
       "1                  0.114593             -0.116292              0.256839   \n",
       "2                  0.114593             -0.116292              0.256839   \n",
       "3                  0.114593             -0.116292              0.256839   \n",
       "4                  0.114593             -0.116292              0.256839   \n",
       "...                     ...                   ...                   ...   \n",
       "15994              0.114857             -0.115555              0.257440   \n",
       "15995              0.114857             -0.115555              0.257440   \n",
       "15996              0.114857             -0.115555              0.257440   \n",
       "15997              0.114697             -0.116058              0.256996   \n",
       "15998              0.114758             -0.116034              0.257136   \n",
       "\n",
       "       AOD at 0.47 micron_4  AOD at 0.47 micron_5  AOD at 0.47 micron_6  \\\n",
       "0                 -0.049796              0.242716             -0.585104   \n",
       "1                 -0.049796              0.242716             -0.585104   \n",
       "2                 -0.049796              0.242716             -0.585104   \n",
       "3                 -0.049796              0.242716             -0.585104   \n",
       "4                 -0.049796              0.242716             -0.585104   \n",
       "...                     ...                   ...                   ...   \n",
       "15994             -0.049277              0.244174             -0.593226   \n",
       "15995             -0.049277              0.244174             -0.593226   \n",
       "15996             -0.049277              0.244174             -0.593226   \n",
       "15997             -0.049477              0.243355             -0.588765   \n",
       "15998             -0.049515              0.243378             -0.589021   \n",
       "\n",
       "       AOD at 0.47 micron_7  ...  VYH7U  WT52R  WZNCR  X5DKW  XJF9O  XNLVD  \\\n",
       "0                 -0.107607  ...      0      0    0.0      0      0      0   \n",
       "1                 -0.107607  ...      0      0    0.0      0      0      0   \n",
       "2                 -0.107607  ...      0      0    0.0      0      0      0   \n",
       "3                 -0.107607  ...      0      0    0.0      0      0      0   \n",
       "4                 -0.107607  ...      0      0    0.0      0      1      0   \n",
       "...                     ...  ...    ...    ...    ...    ...    ...    ...   \n",
       "15994             -0.107686  ...      0      0    0.0      0      0      0   \n",
       "15995             -0.107686  ...      0      0    0.0      0      0      0   \n",
       "15996             -0.107686  ...      0      0    0.0      0      0      0   \n",
       "15997             -0.107504  ...      0      0    0.0      0      0      0   \n",
       "15998             -0.107595  ...      0      0    0.0      0      0      0   \n",
       "\n",
       "       YHOPV  ZF3ZW  ZP1FZ  ZZ8JF  \n",
       "0          0      0      0      0  \n",
       "1          0      0      0      0  \n",
       "2          0      0      0      0  \n",
       "3          0      0      0      0  \n",
       "4          0      0      0      0  \n",
       "...      ...    ...    ...    ...  \n",
       "15994      1      0      0      0  \n",
       "15995      0      1      0      0  \n",
       "15996      0      0      0      0  \n",
       "15997      0      0      0      0  \n",
       "15998      0      0      0      0  \n",
       "\n",
       "[15999 rows x 2119 columns]"
      ]
     },
     "execution_count": 256,
     "metadata": {},
     "output_type": "execute_result"
    }
   ],
   "source": [
    "y_t = df_testi[\"value\"].values\n",
    "df_testi"
   ]
  },
  {
   "cell_type": "code",
   "execution_count": 257,
   "id": "e7be5b20",
   "metadata": {},
   "outputs": [],
   "source": [
    "test_inderence_dataset = RegressionDataset(torch.from_numpy(X_t).float(), torch.from_numpy(y_t).float())"
   ]
  },
  {
   "cell_type": "code",
   "execution_count": 263,
   "id": "b10b4725",
   "metadata": {},
   "outputs": [],
   "source": [
    "test_inference_loader = DataLoader(dataset=test_inderence_dataset, batch_size=1,shuffle=False)"
   ]
  },
  {
   "cell_type": "code",
   "execution_count": 264,
   "id": "01f73f00",
   "metadata": {},
   "outputs": [],
   "source": [
    "y_pred_list = []\n",
    "with torch.no_grad():\n",
    "    model.eval()\n",
    "    for X_batch, _ in test_inderence_dataset:\n",
    "        X_batch = X_batch.to(device)\n",
    "        y_test_pred = model(X_batch)\n",
    "        y_pred_list.append(y_test_pred.cpu().numpy())\n",
    "y_pred_list = [a.squeeze().tolist() for a in y_pred_list]"
   ]
  },
  {
   "cell_type": "code",
   "execution_count": null,
   "id": "fb9679be",
   "metadata": {},
   "outputs": [],
   "source": []
  },
  {
   "cell_type": "code",
   "execution_count": 267,
   "id": "a4856852",
   "metadata": {},
   "outputs": [
    {
     "data": {
      "text/plain": [
       "15999"
      ]
     },
     "execution_count": 267,
     "metadata": {},
     "output_type": "execute_result"
    }
   ],
   "source": [
    "len(y_pred_list)"
   ]
  },
  {
   "cell_type": "code",
   "execution_count": 419,
   "id": "dd829dac",
   "metadata": {},
   "outputs": [],
   "source": [
    "df_test[\"value\"]=y_pred_list"
   ]
  },
  {
   "cell_type": "code",
   "execution_count": 420,
   "id": "4e6cb39a",
   "metadata": {},
   "outputs": [
    {
     "data": {
      "text/html": [
       "<div>\n",
       "<style scoped>\n",
       "    .dataframe tbody tr th:only-of-type {\n",
       "        vertical-align: middle;\n",
       "    }\n",
       "\n",
       "    .dataframe tbody tr th {\n",
       "        vertical-align: top;\n",
       "    }\n",
       "\n",
       "    .dataframe thead th {\n",
       "        text-align: right;\n",
       "    }\n",
       "</style>\n",
       "<table border=\"1\" class=\"dataframe\">\n",
       "  <thead>\n",
       "    <tr style=\"text-align: right;\">\n",
       "      <th></th>\n",
       "      <th>datetime</th>\n",
       "      <th>grid_id</th>\n",
       "      <th>value</th>\n",
       "    </tr>\n",
       "  </thead>\n",
       "  <tbody>\n",
       "    <tr>\n",
       "      <th>0</th>\n",
       "      <td>2017-01-07T16:00:00Z</td>\n",
       "      <td>1X116</td>\n",
       "      <td>0.0</td>\n",
       "    </tr>\n",
       "    <tr>\n",
       "      <th>1</th>\n",
       "      <td>2017-01-07T16:00:00Z</td>\n",
       "      <td>9Q6TA</td>\n",
       "      <td>0.0</td>\n",
       "    </tr>\n",
       "    <tr>\n",
       "      <th>2</th>\n",
       "      <td>2017-01-07T16:00:00Z</td>\n",
       "      <td>KW43U</td>\n",
       "      <td>0.0</td>\n",
       "    </tr>\n",
       "    <tr>\n",
       "      <th>3</th>\n",
       "      <td>2017-01-07T16:00:00Z</td>\n",
       "      <td>VR4WG</td>\n",
       "      <td>0.0</td>\n",
       "    </tr>\n",
       "    <tr>\n",
       "      <th>4</th>\n",
       "      <td>2017-01-07T16:00:00Z</td>\n",
       "      <td>XJF9O</td>\n",
       "      <td>0.0</td>\n",
       "    </tr>\n",
       "    <tr>\n",
       "      <th>...</th>\n",
       "      <td>...</td>\n",
       "      <td>...</td>\n",
       "      <td>...</td>\n",
       "    </tr>\n",
       "    <tr>\n",
       "      <th>13499</th>\n",
       "      <td>2021-08-24T08:00:00Z</td>\n",
       "      <td>QJHW4</td>\n",
       "      <td>0.0</td>\n",
       "    </tr>\n",
       "    <tr>\n",
       "      <th>13500</th>\n",
       "      <td>2021-08-24T08:00:00Z</td>\n",
       "      <td>VBLD0</td>\n",
       "      <td>0.0</td>\n",
       "    </tr>\n",
       "    <tr>\n",
       "      <th>13501</th>\n",
       "      <td>2021-08-24T08:00:00Z</td>\n",
       "      <td>WT52R</td>\n",
       "      <td>0.0</td>\n",
       "    </tr>\n",
       "    <tr>\n",
       "      <th>13502</th>\n",
       "      <td>2021-08-24T08:00:00Z</td>\n",
       "      <td>ZP1FZ</td>\n",
       "      <td>0.0</td>\n",
       "    </tr>\n",
       "    <tr>\n",
       "      <th>13503</th>\n",
       "      <td>2021-08-24T08:00:00Z</td>\n",
       "      <td>ZZ8JF</td>\n",
       "      <td>0.0</td>\n",
       "    </tr>\n",
       "  </tbody>\n",
       "</table>\n",
       "<p>13504 rows × 3 columns</p>\n",
       "</div>"
      ],
      "text/plain": [
       "                   datetime grid_id  value\n",
       "0      2017-01-07T16:00:00Z   1X116    0.0\n",
       "1      2017-01-07T16:00:00Z   9Q6TA    0.0\n",
       "2      2017-01-07T16:00:00Z   KW43U    0.0\n",
       "3      2017-01-07T16:00:00Z   VR4WG    0.0\n",
       "4      2017-01-07T16:00:00Z   XJF9O    0.0\n",
       "...                     ...     ...    ...\n",
       "13499  2021-08-24T08:00:00Z   QJHW4    0.0\n",
       "13500  2021-08-24T08:00:00Z   VBLD0    0.0\n",
       "13501  2021-08-24T08:00:00Z   WT52R    0.0\n",
       "13502  2021-08-24T08:00:00Z   ZP1FZ    0.0\n",
       "13503  2021-08-24T08:00:00Z   ZZ8JF    0.0\n",
       "\n",
       "[13504 rows x 3 columns]"
      ]
     },
     "execution_count": 420,
     "metadata": {},
     "output_type": "execute_result"
    }
   ],
   "source": [
    "test_labels = pd.read_csv(\"submission_format.csv\")\n",
    "# test_labels[\"datetime\"] = pd.to_datetime(test_labels[\"datetime\"])\n",
    "test_labels"
   ]
  },
  {
   "cell_type": "code",
   "execution_count": 470,
   "id": "c10ccddc",
   "metadata": {},
   "outputs": [
    {
     "data": {
      "text/plain": [
       "'2017-01-07T16:00:00Z'"
      ]
     },
     "execution_count": 470,
     "metadata": {},
     "output_type": "execute_result"
    }
   ],
   "source": [
    "test_labels[\"datetime\"][0]"
   ]
  },
  {
   "cell_type": "code",
   "execution_count": 471,
   "id": "098989b6",
   "metadata": {},
   "outputs": [],
   "source": [
    "df_final = df_test#[df_test[\"location\"]==\"Delhi\"]"
   ]
  },
  {
   "cell_type": "code",
   "execution_count": 472,
   "id": "cf60b36b",
   "metadata": {},
   "outputs": [],
   "source": [
    "filtered =df_final[['grid_id','value','datetime']]"
   ]
  },
  {
   "cell_type": "code",
   "execution_count": 473,
   "id": "b575a0ea",
   "metadata": {},
   "outputs": [],
   "source": [
    "# filtered.columns = ['grid_id','value','datetime']"
   ]
  },
  {
   "cell_type": "code",
   "execution_count": 468,
   "id": "ac7ab13b",
   "metadata": {},
   "outputs": [
    {
     "ename": "KeyError",
     "evalue": "'grid_id'",
     "output_type": "error",
     "traceback": [
      "\u001b[0;31m---------------------------------------------------------------------------\u001b[0m",
      "\u001b[0;31mKeyError\u001b[0m                                  Traceback (most recent call last)",
      "Input \u001b[0;32mIn [468]\u001b[0m, in \u001b[0;36m<cell line: 1>\u001b[0;34m()\u001b[0m\n\u001b[0;32m----> 1\u001b[0m df_f \u001b[38;5;241m=\u001b[39m \u001b[43mtest_labels\u001b[49m\u001b[38;5;241;43m.\u001b[39;49m\u001b[43mmerge\u001b[49m\u001b[43m(\u001b[49m\u001b[43mfiltered\u001b[49m\u001b[43m,\u001b[49m\u001b[43mon\u001b[49m\u001b[38;5;241;43m=\u001b[39;49m\u001b[43m[\u001b[49m\u001b[38;5;124;43m'\u001b[39;49m\u001b[38;5;124;43mgrid_id\u001b[39;49m\u001b[38;5;124;43m'\u001b[39;49m\u001b[43m,\u001b[49m\u001b[38;5;124;43m'\u001b[39;49m\u001b[38;5;124;43mdatetime\u001b[39;49m\u001b[38;5;124;43m'\u001b[39;49m\u001b[43m]\u001b[49m\u001b[43m,\u001b[49m\u001b[43mhow\u001b[49m\u001b[38;5;241;43m=\u001b[39;49m\u001b[38;5;124;43m\"\u001b[39;49m\u001b[38;5;124;43mleft\u001b[39;49m\u001b[38;5;124;43m\"\u001b[39;49m\u001b[43m)\u001b[49m\n",
      "File \u001b[0;32m/opt/conda/lib/python3.8/site-packages/pandas/core/frame.py:9339\u001b[0m, in \u001b[0;36mDataFrame.merge\u001b[0;34m(self, right, how, on, left_on, right_on, left_index, right_index, sort, suffixes, copy, indicator, validate)\u001b[0m\n\u001b[1;32m   9320\u001b[0m \u001b[38;5;129m@Substitution\u001b[39m(\u001b[38;5;124m\"\u001b[39m\u001b[38;5;124m\"\u001b[39m)\n\u001b[1;32m   9321\u001b[0m \u001b[38;5;129m@Appender\u001b[39m(_merge_doc, indents\u001b[38;5;241m=\u001b[39m\u001b[38;5;241m2\u001b[39m)\n\u001b[1;32m   9322\u001b[0m \u001b[38;5;28;01mdef\u001b[39;00m \u001b[38;5;21mmerge\u001b[39m(\n\u001b[0;32m   (...)\u001b[0m\n\u001b[1;32m   9335\u001b[0m     validate: \u001b[38;5;28mstr\u001b[39m \u001b[38;5;241m|\u001b[39m \u001b[38;5;28;01mNone\u001b[39;00m \u001b[38;5;241m=\u001b[39m \u001b[38;5;28;01mNone\u001b[39;00m,\n\u001b[1;32m   9336\u001b[0m ) \u001b[38;5;241m-\u001b[39m\u001b[38;5;241m>\u001b[39m DataFrame:\n\u001b[1;32m   9337\u001b[0m     \u001b[38;5;28;01mfrom\u001b[39;00m \u001b[38;5;21;01mpandas\u001b[39;00m\u001b[38;5;21;01m.\u001b[39;00m\u001b[38;5;21;01mcore\u001b[39;00m\u001b[38;5;21;01m.\u001b[39;00m\u001b[38;5;21;01mreshape\u001b[39;00m\u001b[38;5;21;01m.\u001b[39;00m\u001b[38;5;21;01mmerge\u001b[39;00m \u001b[38;5;28;01mimport\u001b[39;00m merge\n\u001b[0;32m-> 9339\u001b[0m     \u001b[38;5;28;01mreturn\u001b[39;00m \u001b[43mmerge\u001b[49m\u001b[43m(\u001b[49m\n\u001b[1;32m   9340\u001b[0m \u001b[43m        \u001b[49m\u001b[38;5;28;43mself\u001b[39;49m\u001b[43m,\u001b[49m\n\u001b[1;32m   9341\u001b[0m \u001b[43m        \u001b[49m\u001b[43mright\u001b[49m\u001b[43m,\u001b[49m\n\u001b[1;32m   9342\u001b[0m \u001b[43m        \u001b[49m\u001b[43mhow\u001b[49m\u001b[38;5;241;43m=\u001b[39;49m\u001b[43mhow\u001b[49m\u001b[43m,\u001b[49m\n\u001b[1;32m   9343\u001b[0m \u001b[43m        \u001b[49m\u001b[43mon\u001b[49m\u001b[38;5;241;43m=\u001b[39;49m\u001b[43mon\u001b[49m\u001b[43m,\u001b[49m\n\u001b[1;32m   9344\u001b[0m \u001b[43m        \u001b[49m\u001b[43mleft_on\u001b[49m\u001b[38;5;241;43m=\u001b[39;49m\u001b[43mleft_on\u001b[49m\u001b[43m,\u001b[49m\n\u001b[1;32m   9345\u001b[0m \u001b[43m        \u001b[49m\u001b[43mright_on\u001b[49m\u001b[38;5;241;43m=\u001b[39;49m\u001b[43mright_on\u001b[49m\u001b[43m,\u001b[49m\n\u001b[1;32m   9346\u001b[0m \u001b[43m        \u001b[49m\u001b[43mleft_index\u001b[49m\u001b[38;5;241;43m=\u001b[39;49m\u001b[43mleft_index\u001b[49m\u001b[43m,\u001b[49m\n\u001b[1;32m   9347\u001b[0m \u001b[43m        \u001b[49m\u001b[43mright_index\u001b[49m\u001b[38;5;241;43m=\u001b[39;49m\u001b[43mright_index\u001b[49m\u001b[43m,\u001b[49m\n\u001b[1;32m   9348\u001b[0m \u001b[43m        \u001b[49m\u001b[43msort\u001b[49m\u001b[38;5;241;43m=\u001b[39;49m\u001b[43msort\u001b[49m\u001b[43m,\u001b[49m\n\u001b[1;32m   9349\u001b[0m \u001b[43m        \u001b[49m\u001b[43msuffixes\u001b[49m\u001b[38;5;241;43m=\u001b[39;49m\u001b[43msuffixes\u001b[49m\u001b[43m,\u001b[49m\n\u001b[1;32m   9350\u001b[0m \u001b[43m        \u001b[49m\u001b[43mcopy\u001b[49m\u001b[38;5;241;43m=\u001b[39;49m\u001b[43mcopy\u001b[49m\u001b[43m,\u001b[49m\n\u001b[1;32m   9351\u001b[0m \u001b[43m        \u001b[49m\u001b[43mindicator\u001b[49m\u001b[38;5;241;43m=\u001b[39;49m\u001b[43mindicator\u001b[49m\u001b[43m,\u001b[49m\n\u001b[1;32m   9352\u001b[0m \u001b[43m        \u001b[49m\u001b[43mvalidate\u001b[49m\u001b[38;5;241;43m=\u001b[39;49m\u001b[43mvalidate\u001b[49m\u001b[43m,\u001b[49m\n\u001b[1;32m   9353\u001b[0m \u001b[43m    \u001b[49m\u001b[43m)\u001b[49m\n",
      "File \u001b[0;32m/opt/conda/lib/python3.8/site-packages/pandas/core/reshape/merge.py:107\u001b[0m, in \u001b[0;36mmerge\u001b[0;34m(left, right, how, on, left_on, right_on, left_index, right_index, sort, suffixes, copy, indicator, validate)\u001b[0m\n\u001b[1;32m     90\u001b[0m \u001b[38;5;129m@Substitution\u001b[39m(\u001b[38;5;124m\"\u001b[39m\u001b[38;5;130;01m\\n\u001b[39;00m\u001b[38;5;124mleft : DataFrame or named Series\u001b[39m\u001b[38;5;124m\"\u001b[39m)\n\u001b[1;32m     91\u001b[0m \u001b[38;5;129m@Appender\u001b[39m(_merge_doc, indents\u001b[38;5;241m=\u001b[39m\u001b[38;5;241m0\u001b[39m)\n\u001b[1;32m     92\u001b[0m \u001b[38;5;28;01mdef\u001b[39;00m \u001b[38;5;21mmerge\u001b[39m(\n\u001b[0;32m   (...)\u001b[0m\n\u001b[1;32m    105\u001b[0m     validate: \u001b[38;5;28mstr\u001b[39m \u001b[38;5;241m|\u001b[39m \u001b[38;5;28;01mNone\u001b[39;00m \u001b[38;5;241m=\u001b[39m \u001b[38;5;28;01mNone\u001b[39;00m,\n\u001b[1;32m    106\u001b[0m ) \u001b[38;5;241m-\u001b[39m\u001b[38;5;241m>\u001b[39m DataFrame:\n\u001b[0;32m--> 107\u001b[0m     op \u001b[38;5;241m=\u001b[39m \u001b[43m_MergeOperation\u001b[49m\u001b[43m(\u001b[49m\n\u001b[1;32m    108\u001b[0m \u001b[43m        \u001b[49m\u001b[43mleft\u001b[49m\u001b[43m,\u001b[49m\n\u001b[1;32m    109\u001b[0m \u001b[43m        \u001b[49m\u001b[43mright\u001b[49m\u001b[43m,\u001b[49m\n\u001b[1;32m    110\u001b[0m \u001b[43m        \u001b[49m\u001b[43mhow\u001b[49m\u001b[38;5;241;43m=\u001b[39;49m\u001b[43mhow\u001b[49m\u001b[43m,\u001b[49m\n\u001b[1;32m    111\u001b[0m \u001b[43m        \u001b[49m\u001b[43mon\u001b[49m\u001b[38;5;241;43m=\u001b[39;49m\u001b[43mon\u001b[49m\u001b[43m,\u001b[49m\n\u001b[1;32m    112\u001b[0m \u001b[43m        \u001b[49m\u001b[43mleft_on\u001b[49m\u001b[38;5;241;43m=\u001b[39;49m\u001b[43mleft_on\u001b[49m\u001b[43m,\u001b[49m\n\u001b[1;32m    113\u001b[0m \u001b[43m        \u001b[49m\u001b[43mright_on\u001b[49m\u001b[38;5;241;43m=\u001b[39;49m\u001b[43mright_on\u001b[49m\u001b[43m,\u001b[49m\n\u001b[1;32m    114\u001b[0m \u001b[43m        \u001b[49m\u001b[43mleft_index\u001b[49m\u001b[38;5;241;43m=\u001b[39;49m\u001b[43mleft_index\u001b[49m\u001b[43m,\u001b[49m\n\u001b[1;32m    115\u001b[0m \u001b[43m        \u001b[49m\u001b[43mright_index\u001b[49m\u001b[38;5;241;43m=\u001b[39;49m\u001b[43mright_index\u001b[49m\u001b[43m,\u001b[49m\n\u001b[1;32m    116\u001b[0m \u001b[43m        \u001b[49m\u001b[43msort\u001b[49m\u001b[38;5;241;43m=\u001b[39;49m\u001b[43msort\u001b[49m\u001b[43m,\u001b[49m\n\u001b[1;32m    117\u001b[0m \u001b[43m        \u001b[49m\u001b[43msuffixes\u001b[49m\u001b[38;5;241;43m=\u001b[39;49m\u001b[43msuffixes\u001b[49m\u001b[43m,\u001b[49m\n\u001b[1;32m    118\u001b[0m \u001b[43m        \u001b[49m\u001b[43mcopy\u001b[49m\u001b[38;5;241;43m=\u001b[39;49m\u001b[43mcopy\u001b[49m\u001b[43m,\u001b[49m\n\u001b[1;32m    119\u001b[0m \u001b[43m        \u001b[49m\u001b[43mindicator\u001b[49m\u001b[38;5;241;43m=\u001b[39;49m\u001b[43mindicator\u001b[49m\u001b[43m,\u001b[49m\n\u001b[1;32m    120\u001b[0m \u001b[43m        \u001b[49m\u001b[43mvalidate\u001b[49m\u001b[38;5;241;43m=\u001b[39;49m\u001b[43mvalidate\u001b[49m\u001b[43m,\u001b[49m\n\u001b[1;32m    121\u001b[0m \u001b[43m    \u001b[49m\u001b[43m)\u001b[49m\n\u001b[1;32m    122\u001b[0m     \u001b[38;5;28;01mreturn\u001b[39;00m op\u001b[38;5;241m.\u001b[39mget_result()\n",
      "File \u001b[0;32m/opt/conda/lib/python3.8/site-packages/pandas/core/reshape/merge.py:700\u001b[0m, in \u001b[0;36m_MergeOperation.__init__\u001b[0;34m(self, left, right, how, on, left_on, right_on, axis, left_index, right_index, sort, suffixes, copy, indicator, validate)\u001b[0m\n\u001b[1;32m    693\u001b[0m \u001b[38;5;28mself\u001b[39m\u001b[38;5;241m.\u001b[39m_cross \u001b[38;5;241m=\u001b[39m cross_col\n\u001b[1;32m    695\u001b[0m \u001b[38;5;66;03m# note this function has side effects\u001b[39;00m\n\u001b[1;32m    696\u001b[0m (\n\u001b[1;32m    697\u001b[0m     \u001b[38;5;28mself\u001b[39m\u001b[38;5;241m.\u001b[39mleft_join_keys,\n\u001b[1;32m    698\u001b[0m     \u001b[38;5;28mself\u001b[39m\u001b[38;5;241m.\u001b[39mright_join_keys,\n\u001b[1;32m    699\u001b[0m     \u001b[38;5;28mself\u001b[39m\u001b[38;5;241m.\u001b[39mjoin_names,\n\u001b[0;32m--> 700\u001b[0m ) \u001b[38;5;241m=\u001b[39m \u001b[38;5;28;43mself\u001b[39;49m\u001b[38;5;241;43m.\u001b[39;49m\u001b[43m_get_merge_keys\u001b[49m\u001b[43m(\u001b[49m\u001b[43m)\u001b[49m\n\u001b[1;32m    702\u001b[0m \u001b[38;5;66;03m# validate the merge keys dtypes. We may need to coerce\u001b[39;00m\n\u001b[1;32m    703\u001b[0m \u001b[38;5;66;03m# to avoid incompatible dtypes\u001b[39;00m\n\u001b[1;32m    704\u001b[0m \u001b[38;5;28mself\u001b[39m\u001b[38;5;241m.\u001b[39m_maybe_coerce_merge_keys()\n",
      "File \u001b[0;32m/opt/conda/lib/python3.8/site-packages/pandas/core/reshape/merge.py:1097\u001b[0m, in \u001b[0;36m_MergeOperation._get_merge_keys\u001b[0;34m(self)\u001b[0m\n\u001b[1;32m   1095\u001b[0m \u001b[38;5;28;01mif\u001b[39;00m \u001b[38;5;129;01mnot\u001b[39;00m is_rkey(rk):\n\u001b[1;32m   1096\u001b[0m     \u001b[38;5;28;01mif\u001b[39;00m rk \u001b[38;5;129;01mis\u001b[39;00m \u001b[38;5;129;01mnot\u001b[39;00m \u001b[38;5;28;01mNone\u001b[39;00m:\n\u001b[0;32m-> 1097\u001b[0m         right_keys\u001b[38;5;241m.\u001b[39mappend(\u001b[43mright\u001b[49m\u001b[38;5;241;43m.\u001b[39;49m\u001b[43m_get_label_or_level_values\u001b[49m\u001b[43m(\u001b[49m\u001b[43mrk\u001b[49m\u001b[43m)\u001b[49m)\n\u001b[1;32m   1098\u001b[0m     \u001b[38;5;28;01melse\u001b[39;00m:\n\u001b[1;32m   1099\u001b[0m         \u001b[38;5;66;03m# work-around for merge_asof(right_index=True)\u001b[39;00m\n\u001b[1;32m   1100\u001b[0m         right_keys\u001b[38;5;241m.\u001b[39mappend(right\u001b[38;5;241m.\u001b[39mindex)\n",
      "File \u001b[0;32m/opt/conda/lib/python3.8/site-packages/pandas/core/generic.py:1848\u001b[0m, in \u001b[0;36mNDFrame._get_label_or_level_values\u001b[0;34m(self, key, axis)\u001b[0m\n\u001b[1;32m   1846\u001b[0m     values \u001b[38;5;241m=\u001b[39m \u001b[38;5;28mself\u001b[39m\u001b[38;5;241m.\u001b[39maxes[axis]\u001b[38;5;241m.\u001b[39mget_level_values(key)\u001b[38;5;241m.\u001b[39m_values\n\u001b[1;32m   1847\u001b[0m \u001b[38;5;28;01melse\u001b[39;00m:\n\u001b[0;32m-> 1848\u001b[0m     \u001b[38;5;28;01mraise\u001b[39;00m \u001b[38;5;167;01mKeyError\u001b[39;00m(key)\n\u001b[1;32m   1850\u001b[0m \u001b[38;5;66;03m# Check for duplicates\u001b[39;00m\n\u001b[1;32m   1851\u001b[0m \u001b[38;5;28;01mif\u001b[39;00m values\u001b[38;5;241m.\u001b[39mndim \u001b[38;5;241m>\u001b[39m \u001b[38;5;241m1\u001b[39m:\n",
      "\u001b[0;31mKeyError\u001b[0m: 'grid_id'"
     ]
    }
   ],
   "source": [
    "df_f = test_labels.merge(filtered,on=['grid_id','datetime'],how=\"left\")"
   ]
  },
  {
   "cell_type": "code",
   "execution_count": 469,
   "id": "a85ca6cf",
   "metadata": {},
   "outputs": [
    {
     "data": {
      "text/html": [
       "<div>\n",
       "<style scoped>\n",
       "    .dataframe tbody tr th:only-of-type {\n",
       "        vertical-align: middle;\n",
       "    }\n",
       "\n",
       "    .dataframe tbody tr th {\n",
       "        vertical-align: top;\n",
       "    }\n",
       "\n",
       "    .dataframe thead th {\n",
       "        text-align: right;\n",
       "    }\n",
       "</style>\n",
       "<table border=\"1\" class=\"dataframe\">\n",
       "  <thead>\n",
       "    <tr style=\"text-align: right;\">\n",
       "      <th></th>\n",
       "      <th>datetime</th>\n",
       "      <th>grid_id</th>\n",
       "      <th>value_x</th>\n",
       "      <th>value_y</th>\n",
       "    </tr>\n",
       "  </thead>\n",
       "  <tbody>\n",
       "    <tr>\n",
       "      <th>0</th>\n",
       "      <td>2017-01-07T16:00:00Z</td>\n",
       "      <td>1X116</td>\n",
       "      <td>0.0</td>\n",
       "      <td>15.883646</td>\n",
       "    </tr>\n",
       "    <tr>\n",
       "      <th>1</th>\n",
       "      <td>2017-01-07T16:00:00Z</td>\n",
       "      <td>9Q6TA</td>\n",
       "      <td>0.0</td>\n",
       "      <td>16.128211</td>\n",
       "    </tr>\n",
       "    <tr>\n",
       "      <th>2</th>\n",
       "      <td>2017-01-07T16:00:00Z</td>\n",
       "      <td>KW43U</td>\n",
       "      <td>0.0</td>\n",
       "      <td>16.841695</td>\n",
       "    </tr>\n",
       "    <tr>\n",
       "      <th>3</th>\n",
       "      <td>2017-01-07T16:00:00Z</td>\n",
       "      <td>VR4WG</td>\n",
       "      <td>0.0</td>\n",
       "      <td>18.448220</td>\n",
       "    </tr>\n",
       "    <tr>\n",
       "      <th>4</th>\n",
       "      <td>2017-01-07T16:00:00Z</td>\n",
       "      <td>XJF9O</td>\n",
       "      <td>0.0</td>\n",
       "      <td>15.212121</td>\n",
       "    </tr>\n",
       "    <tr>\n",
       "      <th>...</th>\n",
       "      <td>...</td>\n",
       "      <td>...</td>\n",
       "      <td>...</td>\n",
       "      <td>...</td>\n",
       "    </tr>\n",
       "    <tr>\n",
       "      <th>13499</th>\n",
       "      <td>2021-08-24T08:00:00Z</td>\n",
       "      <td>QJHW4</td>\n",
       "      <td>0.0</td>\n",
       "      <td>NaN</td>\n",
       "    </tr>\n",
       "    <tr>\n",
       "      <th>13500</th>\n",
       "      <td>2021-08-24T08:00:00Z</td>\n",
       "      <td>VBLD0</td>\n",
       "      <td>0.0</td>\n",
       "      <td>NaN</td>\n",
       "    </tr>\n",
       "    <tr>\n",
       "      <th>13501</th>\n",
       "      <td>2021-08-24T08:00:00Z</td>\n",
       "      <td>WT52R</td>\n",
       "      <td>0.0</td>\n",
       "      <td>NaN</td>\n",
       "    </tr>\n",
       "    <tr>\n",
       "      <th>13502</th>\n",
       "      <td>2021-08-24T08:00:00Z</td>\n",
       "      <td>ZP1FZ</td>\n",
       "      <td>0.0</td>\n",
       "      <td>NaN</td>\n",
       "    </tr>\n",
       "    <tr>\n",
       "      <th>13503</th>\n",
       "      <td>2021-08-24T08:00:00Z</td>\n",
       "      <td>ZZ8JF</td>\n",
       "      <td>0.0</td>\n",
       "      <td>NaN</td>\n",
       "    </tr>\n",
       "  </tbody>\n",
       "</table>\n",
       "<p>13504 rows × 4 columns</p>\n",
       "</div>"
      ],
      "text/plain": [
       "                   datetime grid_id  value_x    value_y\n",
       "0      2017-01-07T16:00:00Z   1X116      0.0  15.883646\n",
       "1      2017-01-07T16:00:00Z   9Q6TA      0.0  16.128211\n",
       "2      2017-01-07T16:00:00Z   KW43U      0.0  16.841695\n",
       "3      2017-01-07T16:00:00Z   VR4WG      0.0  18.448220\n",
       "4      2017-01-07T16:00:00Z   XJF9O      0.0  15.212121\n",
       "...                     ...     ...      ...        ...\n",
       "13499  2021-08-24T08:00:00Z   QJHW4      0.0        NaN\n",
       "13500  2021-08-24T08:00:00Z   VBLD0      0.0        NaN\n",
       "13501  2021-08-24T08:00:00Z   WT52R      0.0        NaN\n",
       "13502  2021-08-24T08:00:00Z   ZP1FZ      0.0        NaN\n",
       "13503  2021-08-24T08:00:00Z   ZZ8JF      0.0        NaN\n",
       "\n",
       "[13504 rows x 4 columns]"
      ]
     },
     "execution_count": 469,
     "metadata": {},
     "output_type": "execute_result"
    }
   ],
   "source": [
    "df_f"
   ]
  },
  {
   "cell_type": "code",
   "execution_count": 427,
   "id": "c8f555fb",
   "metadata": {},
   "outputs": [],
   "source": [
    "dates = list(test_labels[\"datetime\"])"
   ]
  },
  {
   "cell_type": "code",
   "execution_count": 428,
   "id": "44a4917f",
   "metadata": {},
   "outputs": [],
   "source": [
    "vals = pd.read_csv(\"dumbSameMonthAverage.csv\")"
   ]
  },
  {
   "cell_type": "code",
   "execution_count": 480,
   "id": "8a6a6d81",
   "metadata": {},
   "outputs": [],
   "source": [
    "filtered = filtered.groupby([\"datetime\",\"value\"]).mean().reset_index()"
   ]
  },
  {
   "cell_type": "code",
   "execution_count": 481,
   "id": "31a8cb39",
   "metadata": {},
   "outputs": [],
   "source": [
    "finals = vals.merge(df_f,on=['grid_id','datetime'],how=\"left\")"
   ]
  },
  {
   "cell_type": "code",
   "execution_count": 482,
   "id": "67e80051",
   "metadata": {},
   "outputs": [
    {
     "data": {
      "text/html": [
       "<div>\n",
       "<style scoped>\n",
       "    .dataframe tbody tr th:only-of-type {\n",
       "        vertical-align: middle;\n",
       "    }\n",
       "\n",
       "    .dataframe tbody tr th {\n",
       "        vertical-align: top;\n",
       "    }\n",
       "\n",
       "    .dataframe thead th {\n",
       "        text-align: right;\n",
       "    }\n",
       "</style>\n",
       "<table border=\"1\" class=\"dataframe\">\n",
       "  <thead>\n",
       "    <tr style=\"text-align: right;\">\n",
       "      <th></th>\n",
       "      <th>datetime</th>\n",
       "      <th>grid_id</th>\n",
       "      <th>value</th>\n",
       "      <th>value_x</th>\n",
       "      <th>value_y</th>\n",
       "    </tr>\n",
       "  </thead>\n",
       "  <tbody>\n",
       "    <tr>\n",
       "      <th>0</th>\n",
       "      <td>2017-01-07T16:00:00Z</td>\n",
       "      <td>1X116</td>\n",
       "      <td>12.719368</td>\n",
       "      <td>0.0</td>\n",
       "      <td>15.883646</td>\n",
       "    </tr>\n",
       "    <tr>\n",
       "      <th>1</th>\n",
       "      <td>2017-01-07T16:00:00Z</td>\n",
       "      <td>9Q6TA</td>\n",
       "      <td>14.291667</td>\n",
       "      <td>0.0</td>\n",
       "      <td>16.128211</td>\n",
       "    </tr>\n",
       "    <tr>\n",
       "      <th>2</th>\n",
       "      <td>2017-01-07T16:00:00Z</td>\n",
       "      <td>KW43U</td>\n",
       "      <td>12.565217</td>\n",
       "      <td>0.0</td>\n",
       "      <td>16.841695</td>\n",
       "    </tr>\n",
       "    <tr>\n",
       "      <th>3</th>\n",
       "      <td>2017-01-07T16:00:00Z</td>\n",
       "      <td>VR4WG</td>\n",
       "      <td>15.853261</td>\n",
       "      <td>0.0</td>\n",
       "      <td>18.448220</td>\n",
       "    </tr>\n",
       "    <tr>\n",
       "      <th>4</th>\n",
       "      <td>2017-01-07T16:00:00Z</td>\n",
       "      <td>XJF9O</td>\n",
       "      <td>14.264302</td>\n",
       "      <td>0.0</td>\n",
       "      <td>15.212121</td>\n",
       "    </tr>\n",
       "    <tr>\n",
       "      <th>...</th>\n",
       "      <td>...</td>\n",
       "      <td>...</td>\n",
       "      <td>...</td>\n",
       "      <td>...</td>\n",
       "      <td>...</td>\n",
       "    </tr>\n",
       "    <tr>\n",
       "      <th>13499</th>\n",
       "      <td>2021-08-24T08:00:00Z</td>\n",
       "      <td>QJHW4</td>\n",
       "      <td>15.800317</td>\n",
       "      <td>0.0</td>\n",
       "      <td>NaN</td>\n",
       "    </tr>\n",
       "    <tr>\n",
       "      <th>13500</th>\n",
       "      <td>2021-08-24T08:00:00Z</td>\n",
       "      <td>VBLD0</td>\n",
       "      <td>10.834375</td>\n",
       "      <td>0.0</td>\n",
       "      <td>NaN</td>\n",
       "    </tr>\n",
       "    <tr>\n",
       "      <th>13501</th>\n",
       "      <td>2021-08-24T08:00:00Z</td>\n",
       "      <td>WT52R</td>\n",
       "      <td>15.986975</td>\n",
       "      <td>0.0</td>\n",
       "      <td>NaN</td>\n",
       "    </tr>\n",
       "    <tr>\n",
       "      <th>13502</th>\n",
       "      <td>2021-08-24T08:00:00Z</td>\n",
       "      <td>ZP1FZ</td>\n",
       "      <td>19.875870</td>\n",
       "      <td>0.0</td>\n",
       "      <td>NaN</td>\n",
       "    </tr>\n",
       "    <tr>\n",
       "      <th>13503</th>\n",
       "      <td>2021-08-24T08:00:00Z</td>\n",
       "      <td>ZZ8JF</td>\n",
       "      <td>12.873864</td>\n",
       "      <td>0.0</td>\n",
       "      <td>NaN</td>\n",
       "    </tr>\n",
       "  </tbody>\n",
       "</table>\n",
       "<p>13504 rows × 5 columns</p>\n",
       "</div>"
      ],
      "text/plain": [
       "                   datetime grid_id      value  value_x    value_y\n",
       "0      2017-01-07T16:00:00Z   1X116  12.719368      0.0  15.883646\n",
       "1      2017-01-07T16:00:00Z   9Q6TA  14.291667      0.0  16.128211\n",
       "2      2017-01-07T16:00:00Z   KW43U  12.565217      0.0  16.841695\n",
       "3      2017-01-07T16:00:00Z   VR4WG  15.853261      0.0  18.448220\n",
       "4      2017-01-07T16:00:00Z   XJF9O  14.264302      0.0  15.212121\n",
       "...                     ...     ...        ...      ...        ...\n",
       "13499  2021-08-24T08:00:00Z   QJHW4  15.800317      0.0        NaN\n",
       "13500  2021-08-24T08:00:00Z   VBLD0  10.834375      0.0        NaN\n",
       "13501  2021-08-24T08:00:00Z   WT52R  15.986975      0.0        NaN\n",
       "13502  2021-08-24T08:00:00Z   ZP1FZ  19.875870      0.0        NaN\n",
       "13503  2021-08-24T08:00:00Z   ZZ8JF  12.873864      0.0        NaN\n",
       "\n",
       "[13504 rows x 5 columns]"
      ]
     },
     "execution_count": 482,
     "metadata": {},
     "output_type": "execute_result"
    }
   ],
   "source": [
    "finals"
   ]
  },
  {
   "cell_type": "code",
   "execution_count": 500,
   "id": "8eb1836a",
   "metadata": {},
   "outputs": [],
   "source": [
    "resi = []\n",
    "for i in finals[[\"value\",\"value_y\"]].values:\n",
    "    if(i[1]!=i[1]):\n",
    "        resi.append(i[0])\n",
    "    else:\n",
    "        resi.append(8/12 *i[0] + 5/12*i[1]  )"
   ]
  },
  {
   "cell_type": "code",
   "execution_count": 501,
   "id": "9353ad3a",
   "metadata": {},
   "outputs": [
    {
     "data": {
      "text/plain": [
       "(999.99, 728.5081307164241)"
      ]
     },
     "execution_count": 501,
     "metadata": {},
     "output_type": "execute_result"
    }
   ],
   "source": [
    "max(finals[\"value\"]),max(resi)"
   ]
  },
  {
   "cell_type": "code",
   "execution_count": 494,
   "id": "bb1148e0",
   "metadata": {},
   "outputs": [
    {
     "data": {
      "text/plain": [
       "13504"
      ]
     },
     "execution_count": 494,
     "metadata": {},
     "output_type": "execute_result"
    }
   ],
   "source": [
    "len(resi)"
   ]
  },
  {
   "cell_type": "code",
   "execution_count": 495,
   "id": "8e544fcb",
   "metadata": {},
   "outputs": [],
   "source": [
    "finals[\"value3\"] = resi"
   ]
  },
  {
   "cell_type": "code",
   "execution_count": 496,
   "id": "06029787",
   "metadata": {},
   "outputs": [],
   "source": [
    "grdi =finals[[\"datetime\",\"grid_id\",\"value3\"]]\n",
    "grdi.columns = vals.columns"
   ]
  },
  {
   "cell_type": "code",
   "execution_count": 497,
   "id": "285502a6",
   "metadata": {},
   "outputs": [
    {
     "data": {
      "text/html": [
       "<div>\n",
       "<style scoped>\n",
       "    .dataframe tbody tr th:only-of-type {\n",
       "        vertical-align: middle;\n",
       "    }\n",
       "\n",
       "    .dataframe tbody tr th {\n",
       "        vertical-align: top;\n",
       "    }\n",
       "\n",
       "    .dataframe thead th {\n",
       "        text-align: right;\n",
       "    }\n",
       "</style>\n",
       "<table border=\"1\" class=\"dataframe\">\n",
       "  <thead>\n",
       "    <tr style=\"text-align: right;\">\n",
       "      <th></th>\n",
       "      <th>value</th>\n",
       "    </tr>\n",
       "  </thead>\n",
       "  <tbody>\n",
       "    <tr>\n",
       "      <th>count</th>\n",
       "      <td>13504.000000</td>\n",
       "    </tr>\n",
       "    <tr>\n",
       "      <th>mean</th>\n",
       "      <td>39.332235</td>\n",
       "    </tr>\n",
       "    <tr>\n",
       "      <th>std</th>\n",
       "      <td>50.999803</td>\n",
       "    </tr>\n",
       "    <tr>\n",
       "      <th>min</th>\n",
       "      <td>0.435152</td>\n",
       "    </tr>\n",
       "    <tr>\n",
       "      <th>25%</th>\n",
       "      <td>10.372853</td>\n",
       "    </tr>\n",
       "    <tr>\n",
       "      <th>50%</th>\n",
       "      <td>14.240134</td>\n",
       "    </tr>\n",
       "    <tr>\n",
       "      <th>75%</th>\n",
       "      <td>51.039168</td>\n",
       "    </tr>\n",
       "    <tr>\n",
       "      <th>max</th>\n",
       "      <td>472.922821</td>\n",
       "    </tr>\n",
       "  </tbody>\n",
       "</table>\n",
       "</div>"
      ],
      "text/plain": [
       "              value\n",
       "count  13504.000000\n",
       "mean      39.332235\n",
       "std       50.999803\n",
       "min        0.435152\n",
       "25%       10.372853\n",
       "50%       14.240134\n",
       "75%       51.039168\n",
       "max      472.922821"
      ]
     },
     "execution_count": 497,
     "metadata": {},
     "output_type": "execute_result"
    }
   ],
   "source": [
    "grdi.describe()"
   ]
  },
  {
   "cell_type": "code",
   "execution_count": 498,
   "id": "d5792a9a",
   "metadata": {},
   "outputs": [],
   "source": [
    "grdi.to_csv(\"hardwork3.csv\",index=False)"
   ]
  },
  {
   "cell_type": "code",
   "execution_count": null,
   "id": "93932ebc",
   "metadata": {},
   "outputs": [],
   "source": []
  },
  {
   "cell_type": "code",
   "execution_count": null,
   "id": "e7698c0b",
   "metadata": {},
   "outputs": [],
   "source": []
  },
  {
   "cell_type": "code",
   "execution_count": 462,
   "id": "d2e35e56",
   "metadata": {},
   "outputs": [],
   "source": [
    "df_f = df_f.groupby([\"datetime\",\"grid_id\"]).mean().reset_index()"
   ]
  },
  {
   "cell_type": "code",
   "execution_count": 463,
   "id": "b82aaaa6",
   "metadata": {},
   "outputs": [],
   "source": [
    "# final = df_f[df_f[\"datetime\"].isin(dates)]"
   ]
  },
  {
   "cell_type": "code",
   "execution_count": 474,
   "id": "d06d9828",
   "metadata": {},
   "outputs": [
    {
     "data": {
      "text/html": [
       "<div>\n",
       "<style scoped>\n",
       "    .dataframe tbody tr th:only-of-type {\n",
       "        vertical-align: middle;\n",
       "    }\n",
       "\n",
       "    .dataframe tbody tr th {\n",
       "        vertical-align: top;\n",
       "    }\n",
       "\n",
       "    .dataframe thead th {\n",
       "        text-align: right;\n",
       "    }\n",
       "</style>\n",
       "<table border=\"1\" class=\"dataframe\">\n",
       "  <thead>\n",
       "    <tr style=\"text-align: right;\">\n",
       "      <th></th>\n",
       "      <th>datetime</th>\n",
       "      <th>grid_id</th>\n",
       "      <th>value_x</th>\n",
       "      <th>value_y</th>\n",
       "    </tr>\n",
       "  </thead>\n",
       "  <tbody>\n",
       "    <tr>\n",
       "      <th>0</th>\n",
       "      <td>2017-01-07T16:00:00Z</td>\n",
       "      <td>1X116</td>\n",
       "      <td>0.0</td>\n",
       "      <td>15.883646</td>\n",
       "    </tr>\n",
       "    <tr>\n",
       "      <th>1</th>\n",
       "      <td>2017-01-07T16:00:00Z</td>\n",
       "      <td>9Q6TA</td>\n",
       "      <td>0.0</td>\n",
       "      <td>16.128211</td>\n",
       "    </tr>\n",
       "    <tr>\n",
       "      <th>2</th>\n",
       "      <td>2017-01-07T16:00:00Z</td>\n",
       "      <td>KW43U</td>\n",
       "      <td>0.0</td>\n",
       "      <td>16.841695</td>\n",
       "    </tr>\n",
       "    <tr>\n",
       "      <th>3</th>\n",
       "      <td>2017-01-07T16:00:00Z</td>\n",
       "      <td>VR4WG</td>\n",
       "      <td>0.0</td>\n",
       "      <td>18.448220</td>\n",
       "    </tr>\n",
       "    <tr>\n",
       "      <th>4</th>\n",
       "      <td>2017-01-07T16:00:00Z</td>\n",
       "      <td>XJF9O</td>\n",
       "      <td>0.0</td>\n",
       "      <td>15.212121</td>\n",
       "    </tr>\n",
       "    <tr>\n",
       "      <th>...</th>\n",
       "      <td>...</td>\n",
       "      <td>...</td>\n",
       "      <td>...</td>\n",
       "      <td>...</td>\n",
       "    </tr>\n",
       "    <tr>\n",
       "      <th>13499</th>\n",
       "      <td>2021-08-24T08:00:00Z</td>\n",
       "      <td>QJHW4</td>\n",
       "      <td>0.0</td>\n",
       "      <td>NaN</td>\n",
       "    </tr>\n",
       "    <tr>\n",
       "      <th>13500</th>\n",
       "      <td>2021-08-24T08:00:00Z</td>\n",
       "      <td>VBLD0</td>\n",
       "      <td>0.0</td>\n",
       "      <td>NaN</td>\n",
       "    </tr>\n",
       "    <tr>\n",
       "      <th>13501</th>\n",
       "      <td>2021-08-24T08:00:00Z</td>\n",
       "      <td>WT52R</td>\n",
       "      <td>0.0</td>\n",
       "      <td>NaN</td>\n",
       "    </tr>\n",
       "    <tr>\n",
       "      <th>13502</th>\n",
       "      <td>2021-08-24T08:00:00Z</td>\n",
       "      <td>ZP1FZ</td>\n",
       "      <td>0.0</td>\n",
       "      <td>NaN</td>\n",
       "    </tr>\n",
       "    <tr>\n",
       "      <th>13503</th>\n",
       "      <td>2021-08-24T08:00:00Z</td>\n",
       "      <td>ZZ8JF</td>\n",
       "      <td>0.0</td>\n",
       "      <td>NaN</td>\n",
       "    </tr>\n",
       "  </tbody>\n",
       "</table>\n",
       "<p>13504 rows × 4 columns</p>\n",
       "</div>"
      ],
      "text/plain": [
       "                   datetime grid_id  value_x    value_y\n",
       "0      2017-01-07T16:00:00Z   1X116      0.0  15.883646\n",
       "1      2017-01-07T16:00:00Z   9Q6TA      0.0  16.128211\n",
       "2      2017-01-07T16:00:00Z   KW43U      0.0  16.841695\n",
       "3      2017-01-07T16:00:00Z   VR4WG      0.0  18.448220\n",
       "4      2017-01-07T16:00:00Z   XJF9O      0.0  15.212121\n",
       "...                     ...     ...      ...        ...\n",
       "13499  2021-08-24T08:00:00Z   QJHW4      0.0        NaN\n",
       "13500  2021-08-24T08:00:00Z   VBLD0      0.0        NaN\n",
       "13501  2021-08-24T08:00:00Z   WT52R      0.0        NaN\n",
       "13502  2021-08-24T08:00:00Z   ZP1FZ      0.0        NaN\n",
       "13503  2021-08-24T08:00:00Z   ZZ8JF      0.0        NaN\n",
       "\n",
       "[13504 rows x 4 columns]"
      ]
     },
     "execution_count": 474,
     "metadata": {},
     "output_type": "execute_result"
    }
   ],
   "source": [
    "final.groupby([\"datetime\",\"grid_id\"]).mean().reset_index()"
   ]
  },
  {
   "cell_type": "code",
   "execution_count": 465,
   "id": "f29f1397",
   "metadata": {},
   "outputs": [
    {
     "data": {
      "text/html": [
       "<div>\n",
       "<style scoped>\n",
       "    .dataframe tbody tr th:only-of-type {\n",
       "        vertical-align: middle;\n",
       "    }\n",
       "\n",
       "    .dataframe tbody tr th {\n",
       "        vertical-align: top;\n",
       "    }\n",
       "\n",
       "    .dataframe thead th {\n",
       "        text-align: right;\n",
       "    }\n",
       "</style>\n",
       "<table border=\"1\" class=\"dataframe\">\n",
       "  <thead>\n",
       "    <tr style=\"text-align: right;\">\n",
       "      <th></th>\n",
       "      <th>datetime</th>\n",
       "      <th>grid_id</th>\n",
       "      <th>value</th>\n",
       "    </tr>\n",
       "  </thead>\n",
       "  <tbody>\n",
       "    <tr>\n",
       "      <th>0</th>\n",
       "      <td>2017-01-07T16:00:00Z</td>\n",
       "      <td>1X116</td>\n",
       "      <td>0.0</td>\n",
       "    </tr>\n",
       "    <tr>\n",
       "      <th>1</th>\n",
       "      <td>2017-01-07T16:00:00Z</td>\n",
       "      <td>9Q6TA</td>\n",
       "      <td>0.0</td>\n",
       "    </tr>\n",
       "    <tr>\n",
       "      <th>2</th>\n",
       "      <td>2017-01-07T16:00:00Z</td>\n",
       "      <td>KW43U</td>\n",
       "      <td>0.0</td>\n",
       "    </tr>\n",
       "    <tr>\n",
       "      <th>3</th>\n",
       "      <td>2017-01-07T16:00:00Z</td>\n",
       "      <td>VR4WG</td>\n",
       "      <td>0.0</td>\n",
       "    </tr>\n",
       "    <tr>\n",
       "      <th>4</th>\n",
       "      <td>2017-01-07T16:00:00Z</td>\n",
       "      <td>XJF9O</td>\n",
       "      <td>0.0</td>\n",
       "    </tr>\n",
       "    <tr>\n",
       "      <th>...</th>\n",
       "      <td>...</td>\n",
       "      <td>...</td>\n",
       "      <td>...</td>\n",
       "    </tr>\n",
       "    <tr>\n",
       "      <th>13499</th>\n",
       "      <td>2021-08-24T08:00:00Z</td>\n",
       "      <td>QJHW4</td>\n",
       "      <td>0.0</td>\n",
       "    </tr>\n",
       "    <tr>\n",
       "      <th>13500</th>\n",
       "      <td>2021-08-24T08:00:00Z</td>\n",
       "      <td>VBLD0</td>\n",
       "      <td>0.0</td>\n",
       "    </tr>\n",
       "    <tr>\n",
       "      <th>13501</th>\n",
       "      <td>2021-08-24T08:00:00Z</td>\n",
       "      <td>WT52R</td>\n",
       "      <td>0.0</td>\n",
       "    </tr>\n",
       "    <tr>\n",
       "      <th>13502</th>\n",
       "      <td>2021-08-24T08:00:00Z</td>\n",
       "      <td>ZP1FZ</td>\n",
       "      <td>0.0</td>\n",
       "    </tr>\n",
       "    <tr>\n",
       "      <th>13503</th>\n",
       "      <td>2021-08-24T08:00:00Z</td>\n",
       "      <td>ZZ8JF</td>\n",
       "      <td>0.0</td>\n",
       "    </tr>\n",
       "  </tbody>\n",
       "</table>\n",
       "<p>13504 rows × 3 columns</p>\n",
       "</div>"
      ],
      "text/plain": [
       "                   datetime grid_id  value\n",
       "0      2017-01-07T16:00:00Z   1X116    0.0\n",
       "1      2017-01-07T16:00:00Z   9Q6TA    0.0\n",
       "2      2017-01-07T16:00:00Z   KW43U    0.0\n",
       "3      2017-01-07T16:00:00Z   VR4WG    0.0\n",
       "4      2017-01-07T16:00:00Z   XJF9O    0.0\n",
       "...                     ...     ...    ...\n",
       "13499  2021-08-24T08:00:00Z   QJHW4    0.0\n",
       "13500  2021-08-24T08:00:00Z   VBLD0    0.0\n",
       "13501  2021-08-24T08:00:00Z   WT52R    0.0\n",
       "13502  2021-08-24T08:00:00Z   ZP1FZ    0.0\n",
       "13503  2021-08-24T08:00:00Z   ZZ8JF    0.0\n",
       "\n",
       "[13504 rows x 3 columns]"
      ]
     },
     "execution_count": 465,
     "metadata": {},
     "output_type": "execute_result"
    }
   ],
   "source": [
    "test_labels.groupby([\"datetime\",\"grid_id\"]).mean().reset_index()"
   ]
  },
  {
   "cell_type": "code",
   "execution_count": 287,
   "id": "31b08050",
   "metadata": {},
   "outputs": [],
   "source": [
    "filtered[\"datetime_dt\"]= pd.to_datetime(filtered[\"datetime_dt\"])"
   ]
  },
  {
   "cell_type": "code",
   "execution_count": 289,
   "id": "8da42dab",
   "metadata": {},
   "outputs": [
    {
     "data": {
      "text/html": [
       "<div>\n",
       "<style scoped>\n",
       "    .dataframe tbody tr th:only-of-type {\n",
       "        vertical-align: middle;\n",
       "    }\n",
       "\n",
       "    .dataframe tbody tr th {\n",
       "        vertical-align: top;\n",
       "    }\n",
       "\n",
       "    .dataframe thead th {\n",
       "        text-align: right;\n",
       "    }\n",
       "</style>\n",
       "<table border=\"1\" class=\"dataframe\">\n",
       "  <thead>\n",
       "    <tr style=\"text-align: right;\">\n",
       "      <th></th>\n",
       "      <th>datetime_dt</th>\n",
       "      <th>value</th>\n",
       "    </tr>\n",
       "  </thead>\n",
       "  <tbody>\n",
       "    <tr>\n",
       "      <th>0</th>\n",
       "      <td>2017-09-11 18:30:00+00:00</td>\n",
       "      <td>27.127584</td>\n",
       "    </tr>\n",
       "    <tr>\n",
       "      <th>1</th>\n",
       "      <td>2017-09-11 18:30:00+00:00</td>\n",
       "      <td>30.793737</td>\n",
       "    </tr>\n",
       "    <tr>\n",
       "      <th>2</th>\n",
       "      <td>2017-09-11 18:30:00+00:00</td>\n",
       "      <td>31.781155</td>\n",
       "    </tr>\n",
       "    <tr>\n",
       "      <th>3</th>\n",
       "      <td>2017-09-12 18:30:00+00:00</td>\n",
       "      <td>47.110882</td>\n",
       "    </tr>\n",
       "    <tr>\n",
       "      <th>4</th>\n",
       "      <td>2017-09-13 18:30:00+00:00</td>\n",
       "      <td>27.875738</td>\n",
       "    </tr>\n",
       "    <tr>\n",
       "      <th>...</th>\n",
       "      <td>...</td>\n",
       "      <td>...</td>\n",
       "    </tr>\n",
       "    <tr>\n",
       "      <th>4639</th>\n",
       "      <td>2021-07-24 18:30:00+00:00</td>\n",
       "      <td>16.941996</td>\n",
       "    </tr>\n",
       "    <tr>\n",
       "      <th>4638</th>\n",
       "      <td>2021-07-24 18:30:00+00:00</td>\n",
       "      <td>14.971571</td>\n",
       "    </tr>\n",
       "    <tr>\n",
       "      <th>4662</th>\n",
       "      <td>2021-07-24 18:30:00+00:00</td>\n",
       "      <td>32.055069</td>\n",
       "    </tr>\n",
       "    <tr>\n",
       "      <th>4649</th>\n",
       "      <td>2021-07-24 18:30:00+00:00</td>\n",
       "      <td>23.991646</td>\n",
       "    </tr>\n",
       "    <tr>\n",
       "      <th>4663</th>\n",
       "      <td>2021-07-24 18:30:00+00:00</td>\n",
       "      <td>52.160786</td>\n",
       "    </tr>\n",
       "  </tbody>\n",
       "</table>\n",
       "<p>4664 rows × 2 columns</p>\n",
       "</div>"
      ],
      "text/plain": [
       "                   datetime_dt      value\n",
       "0    2017-09-11 18:30:00+00:00  27.127584\n",
       "1    2017-09-11 18:30:00+00:00  30.793737\n",
       "2    2017-09-11 18:30:00+00:00  31.781155\n",
       "3    2017-09-12 18:30:00+00:00  47.110882\n",
       "4    2017-09-13 18:30:00+00:00  27.875738\n",
       "...                        ...        ...\n",
       "4639 2021-07-24 18:30:00+00:00  16.941996\n",
       "4638 2021-07-24 18:30:00+00:00  14.971571\n",
       "4662 2021-07-24 18:30:00+00:00  32.055069\n",
       "4649 2021-07-24 18:30:00+00:00  23.991646\n",
       "4663 2021-07-24 18:30:00+00:00  52.160786\n",
       "\n",
       "[4664 rows x 2 columns]"
      ]
     },
     "execution_count": 289,
     "metadata": {},
     "output_type": "execute_result"
    }
   ],
   "source": [
    "filtered.sort_values(\"datetime_dt\")#.reset_index()[\"value\"].plot()"
   ]
  },
  {
   "cell_type": "code",
   "execution_count": 399,
   "id": "d0f6509b",
   "metadata": {},
   "outputs": [],
   "source": [
    "# y_pred_list"
   ]
  },
  {
   "cell_type": "code",
   "execution_count": null,
   "id": "af5d2fd4",
   "metadata": {},
   "outputs": [],
   "source": []
  },
  {
   "cell_type": "code",
   "execution_count": 502,
   "id": "433eedac",
   "metadata": {},
   "outputs": [],
   "source": [
    "class Regression(pl.LightningModule):\n",
    "    \n",
    "    def __init__(self,NUM_FEATURES):\n",
    "        super(Regression, self).__init__()\n",
    "        self.fc1 = nn.Linear(NUM_FEATURES, 1024)\n",
    "        self.fc2 = nn.Linear(1024, 512)\n",
    "        self.fc3 = nn.Linear(512, 256)\n",
    "        self.fc4 = nn.Linear(256, 128)\n",
    "        self.fc5 = nn.Linear(128, 64)\n",
    "        self.fc6 = nn.Linear(64, 64)\n",
    "        self.fc7 = nn.Linear(64, 64)\n",
    "        self.fc8 = nn.Linear(64, 64)\n",
    "        self.fc9 = nn.Linear(64, 64)\n",
    "        self.fc10 = nn.Linear(64, 32)\n",
    "        self.f = nn.Linear(32, 1)\n",
    "        self.activation = nn.LeakyReLU()\n",
    "    \n",
    "\n",
    "    def forward(self, x):\n",
    "        x = self.activation(self.fc1(x))\n",
    "        x = self.activation(self.fc2(x))\n",
    "        x = self.activation(self.fc3(x))\n",
    "        x = self.activation(self.fc4(x))\n",
    "        x = self.activation(self.fc5(x))\n",
    "        x = self.activation(self.fc6(x))\n",
    "        x = self.activation(self.fc7(x))\n",
    "        x = self.activation(self.fc8(x))\n",
    "        x = self.activation(self.fc9(x))\n",
    "        x = self.activation(self.fc10(x))\n",
    "        x = self.f(x)\n",
    "        return x"
   ]
  },
  {
   "cell_type": "code",
   "execution_count": null,
   "id": "3ffe3cc5",
   "metadata": {},
   "outputs": [],
   "source": []
  },
  {
   "cell_type": "code",
   "execution_count": null,
   "id": "7ecc37e8",
   "metadata": {},
   "outputs": [],
   "source": []
  },
  {
   "cell_type": "code",
   "execution_count": null,
   "id": "6bcf4239",
   "metadata": {},
   "outputs": [],
   "source": []
  },
  {
   "cell_type": "code",
   "execution_count": null,
   "id": "09235e7f",
   "metadata": {},
   "outputs": [],
   "source": []
  },
  {
   "cell_type": "code",
   "execution_count": null,
   "id": "7db0f0d4",
   "metadata": {},
   "outputs": [],
   "source": []
  },
  {
   "cell_type": "code",
   "execution_count": 75,
   "id": "face2b39",
   "metadata": {},
   "outputs": [
    {
     "data": {
      "text/plain": [
       "torch.Size([2117])"
      ]
     },
     "execution_count": 75,
     "metadata": {},
     "output_type": "execute_result"
    }
   ],
   "source": [
    "torch.tensor(X[0]).shape"
   ]
  },
  {
   "cell_type": "code",
   "execution_count": 81,
   "id": "b1d09845",
   "metadata": {},
   "outputs": [],
   "source": [
    "n_samples = 5"
   ]
  },
  {
   "cell_type": "code",
   "execution_count": 82,
   "id": "c0983515",
   "metadata": {},
   "outputs": [],
   "source": [
    "class SentimentNet(nn.Module):\n",
    "    def __init__(self, vocab_size, output_size=1, embedding_dim=128, hidden_dim=8, n_layers=8, drop_prob=0.5):\n",
    "        super(SentimentNet, self).__init__()\n",
    "        self.output_size = output_size\n",
    "        self.n_layers = n_layers\n",
    "        self.hidden_dim = hidden_dim\n",
    "        \n",
    "       \n",
    "        self.lstm = nn.LSTM(embedding_dim, hidden_dim, n_layers, dropout=drop_prob, batch_first=True)\n",
    "        self.dropout = nn.Dropout(drop_prob)\n",
    "        self.fc = nn.Linear(hidden_dim, output_size)\n",
    "        self.sigmoid = nn.Sigmoid()\n",
    "        \n",
    "    def forward(self, x, hidden):\n",
    "        batch_size = x.size(0)\n",
    "        x = x.long()\n",
    "        embeds = self.embedding(x)\n",
    "        lstm_out, hidden = self.lstm(embeds, hidden)\n",
    "        lstm_out = lstm_out.contiguous().view(-1, self.hidden_dim)\n",
    "        \n",
    "        out = self.dropout(lstm_out)\n",
    "        out = self.fc(out)\n",
    "        out = self.sigmoid(out)\n",
    "        \n",
    "        out = out.view(batch_size, -1)\n",
    "        out = out[:,-1]\n",
    "        return out, hidden\n",
    "    \n",
    "    def init_hidden(self, batch_size):\n",
    "        weight = next(self.parameters()).data\n",
    "        hidden = (weight.new(self.n_layers, batch_size, self.hidden_dim).zero_().to(device),\n",
    "                      weight.new(self.n_layers, batch_size, self.hidden_dim).zero_().to(device))\n",
    "        return hidden"
   ]
  },
  {
   "cell_type": "code",
   "execution_count": 83,
   "id": "7f436652",
   "metadata": {},
   "outputs": [],
   "source": [
    "import torch.optim as optim\n",
    "model = LSTM()\n",
    "criterion = nn.MSELoss()\n",
    "optimiser = optim.Adam(model.parameters(), lr=0.08)"
   ]
  },
  {
   "cell_type": "code",
   "execution_count": 84,
   "id": "87c77f4a",
   "metadata": {},
   "outputs": [
    {
     "data": {
      "text/plain": [
       "(torch.Size([5, 2117]), (39450,))"
      ]
     },
     "execution_count": 84,
     "metadata": {},
     "output_type": "execute_result"
    }
   ],
   "source": [
    "torch.tensor(X[:5]).shape,y.shape"
   ]
  },
  {
   "cell_type": "code",
   "execution_count": 85,
   "id": "6b3c3efe",
   "metadata": {},
   "outputs": [
    {
     "ename": "NameError",
     "evalue": "name 'input_t' is not defined",
     "output_type": "error",
     "traceback": [
      "\u001b[0;31m---------------------------------------------------------------------------\u001b[0m",
      "\u001b[0;31mNameError\u001b[0m                                 Traceback (most recent call last)",
      "Input \u001b[0;32mIn [85]\u001b[0m, in \u001b[0;36m<cell line: 1>\u001b[0;34m()\u001b[0m\n\u001b[0;32m----> 1\u001b[0m \u001b[43mmodel\u001b[49m\u001b[43m(\u001b[49m\u001b[43mtorch\u001b[49m\u001b[38;5;241;43m.\u001b[39;49m\u001b[43mtensor\u001b[49m\u001b[43m(\u001b[49m\u001b[43mX\u001b[49m\u001b[43m[\u001b[49m\u001b[43m:\u001b[49m\u001b[38;5;241;43m5\u001b[39;49m\u001b[43m]\u001b[49m\u001b[43m)\u001b[49m\u001b[43m,\u001b[49m\u001b[43my\u001b[49m\u001b[43m[\u001b[49m\u001b[43m:\u001b[49m\u001b[38;5;241;43m5\u001b[39;49m\u001b[43m]\u001b[49m\u001b[43m)\u001b[49m\n",
      "File \u001b[0;32m/opt/conda/lib/python3.8/site-packages/torch/nn/modules/module.py:1110\u001b[0m, in \u001b[0;36mModule._call_impl\u001b[0;34m(self, *input, **kwargs)\u001b[0m\n\u001b[1;32m   1106\u001b[0m \u001b[38;5;66;03m# If we don't have any hooks, we want to skip the rest of the logic in\u001b[39;00m\n\u001b[1;32m   1107\u001b[0m \u001b[38;5;66;03m# this function, and just call forward.\u001b[39;00m\n\u001b[1;32m   1108\u001b[0m \u001b[38;5;28;01mif\u001b[39;00m \u001b[38;5;129;01mnot\u001b[39;00m (\u001b[38;5;28mself\u001b[39m\u001b[38;5;241m.\u001b[39m_backward_hooks \u001b[38;5;129;01mor\u001b[39;00m \u001b[38;5;28mself\u001b[39m\u001b[38;5;241m.\u001b[39m_forward_hooks \u001b[38;5;129;01mor\u001b[39;00m \u001b[38;5;28mself\u001b[39m\u001b[38;5;241m.\u001b[39m_forward_pre_hooks \u001b[38;5;129;01mor\u001b[39;00m _global_backward_hooks\n\u001b[1;32m   1109\u001b[0m         \u001b[38;5;129;01mor\u001b[39;00m _global_forward_hooks \u001b[38;5;129;01mor\u001b[39;00m _global_forward_pre_hooks):\n\u001b[0;32m-> 1110\u001b[0m     \u001b[38;5;28;01mreturn\u001b[39;00m \u001b[43mforward_call\u001b[49m\u001b[43m(\u001b[49m\u001b[38;5;241;43m*\u001b[39;49m\u001b[38;5;28;43minput\u001b[39;49m\u001b[43m,\u001b[49m\u001b[43m \u001b[49m\u001b[38;5;241;43m*\u001b[39;49m\u001b[38;5;241;43m*\u001b[39;49m\u001b[43mkwargs\u001b[49m\u001b[43m)\u001b[49m\n\u001b[1;32m   1111\u001b[0m \u001b[38;5;66;03m# Do not call functions when jit is used\u001b[39;00m\n\u001b[1;32m   1112\u001b[0m full_backward_hooks, non_full_backward_hooks \u001b[38;5;241m=\u001b[39m [], []\n",
      "Input \u001b[0;32mIn [82]\u001b[0m, in \u001b[0;36mLSTM.forward\u001b[0;34m(self, y, future_preds)\u001b[0m\n\u001b[1;32m     17\u001b[0m c_t2 \u001b[38;5;241m=\u001b[39m torch\u001b[38;5;241m.\u001b[39mzeros(n_samples, \u001b[38;5;28mself\u001b[39m\u001b[38;5;241m.\u001b[39mhidden_layers, dtype\u001b[38;5;241m=\u001b[39mtorch\u001b[38;5;241m.\u001b[39mfloat32)\n\u001b[1;32m     19\u001b[0m \u001b[38;5;28;01mfor\u001b[39;00m time_step \u001b[38;5;129;01min\u001b[39;00m y\u001b[38;5;241m.\u001b[39msplit(\u001b[38;5;241m1\u001b[39m, dim\u001b[38;5;241m=\u001b[39m\u001b[38;5;241m1\u001b[39m):\n\u001b[1;32m     20\u001b[0m     \u001b[38;5;66;03m# N, 1\u001b[39;00m\n\u001b[0;32m---> 21\u001b[0m     h_t, c_t \u001b[38;5;241m=\u001b[39m \u001b[38;5;28mself\u001b[39m\u001b[38;5;241m.\u001b[39mlstm1(\u001b[43minput_t\u001b[49m, (h_t, c_t)) \u001b[38;5;66;03m# initial hidden and cell states\u001b[39;00m\n\u001b[1;32m     22\u001b[0m     h_t2, c_t2 \u001b[38;5;241m=\u001b[39m \u001b[38;5;28mself\u001b[39m\u001b[38;5;241m.\u001b[39mlstm2(h_t, (h_t2, c_t2)) \u001b[38;5;66;03m# new hidden and cell states\u001b[39;00m\n\u001b[1;32m     23\u001b[0m     output \u001b[38;5;241m=\u001b[39m \u001b[38;5;28mself\u001b[39m\u001b[38;5;241m.\u001b[39mlinear(h_t2) \u001b[38;5;66;03m# output from the last FC layer\u001b[39;00m\n",
      "\u001b[0;31mNameError\u001b[0m: name 'input_t' is not defined"
     ]
    }
   ],
   "source": [
    "model(torch.tensor(X[:5]),y[:5])"
   ]
  },
  {
   "cell_type": "code",
   "execution_count": 48,
   "id": "3a9506f9",
   "metadata": {},
   "outputs": [],
   "source": [
    "def training_loop(n_epochs, model, optimiser, loss_fn, \n",
    "                  train_input, train_target, test_input, test_target):\n",
    "    for i in range(n_epochs):\n",
    "        def closure():\n",
    "            optimiser.zero_grad()\n",
    "            out = model(train_input)\n",
    "            loss = loss_fn(out, train_target)\n",
    "            loss.backward()\n",
    "            return loss\n",
    "        optimiser.step(closure)\n",
    "        with torch.no_grad():\n",
    "            future = 1000\n",
    "            pred = model(test_input, future=future)\n",
    "            # use all pred samples, but only go to 999\n",
    "            loss = loss_fn(pred[:, :-future], test_target)\n",
    "            y = pred.detach().numpy()\n",
    "        # print the loss\n",
    "        out = model(train_input)\n",
    "        loss_print = loss_fn(out, train_target)\n",
    "        print(\"Step: {}, Loss: {}\".format(i, loss_print))"
   ]
  },
  {
   "cell_type": "code",
   "execution_count": null,
   "id": "e1fc78b5",
   "metadata": {},
   "outputs": [],
   "source": []
  },
  {
   "cell_type": "code",
   "execution_count": 50,
   "id": "c6f8b2bc",
   "metadata": {},
   "outputs": [],
   "source": [
    "train_prop = 0.95\n",
    "train_samples = round(N * train_prop) \n",
    "test_samples = N - train_samples"
   ]
  },
  {
   "cell_type": "code",
   "execution_count": 51,
   "id": "ee1e5230",
   "metadata": {},
   "outputs": [],
   "source": [
    "train_input = torch.from_numpy(y[test_samples:, :-1]) # (train_samples, L-1)\n",
    "train_target = torch.from_numpy(y[test_samples:, 1:]) # (train_samples, L-1)\n",
    "test_input = torch.from_numpy(y[:test_samples, :-1]) # (train_samples, L-1)\n",
    "test_target = torch.from_numpy(y[:test_samples, 1:]) # (train_samples, L-1)"
   ]
  },
  {
   "cell_type": "code",
   "execution_count": 53,
   "id": "647b9e9d",
   "metadata": {},
   "outputs": [],
   "source": [
    "N = 100 # number of theoretical series of games\n",
    "L = 11 # number of games in each series\n",
    "x = np.empty((N,L), np.float32) # instantiate empty array\n",
    "x[:] = np.arange(L)\n",
    "y = (1.6*x + 4).astype(np.float32)\n",
    "\n",
    "# add some noise\n",
    "for i in range(len(y)):\n",
    "    y[i] += np.random.normal(10, 1)"
   ]
  },
  {
   "cell_type": "code",
   "execution_count": 55,
   "id": "71c4e90e",
   "metadata": {},
   "outputs": [
    {
     "ename": "NameError",
     "evalue": "name 'n_samples' is not defined",
     "output_type": "error",
     "traceback": [
      "\u001b[0;31m---------------------------------------------------------------------------\u001b[0m",
      "\u001b[0;31mNameError\u001b[0m                                 Traceback (most recent call last)",
      "Input \u001b[0;32mIn [55]\u001b[0m, in \u001b[0;36m<cell line: 1>\u001b[0;34m()\u001b[0m\n\u001b[0;32m----> 1\u001b[0m \u001b[43mtraining_loop\u001b[49m\u001b[43m(\u001b[49m\u001b[43mn_epochs\u001b[49m\u001b[43m \u001b[49m\u001b[38;5;241;43m=\u001b[39;49m\u001b[43m \u001b[49m\u001b[38;5;241;43m10\u001b[39;49m\u001b[43m,\u001b[49m\n\u001b[1;32m      2\u001b[0m \u001b[43m              \u001b[49m\u001b[43mmodel\u001b[49m\u001b[43m \u001b[49m\u001b[38;5;241;43m=\u001b[39;49m\u001b[43m \u001b[49m\u001b[43mmodel\u001b[49m\u001b[43m,\u001b[49m\n\u001b[1;32m      3\u001b[0m \u001b[43m              \u001b[49m\u001b[43moptimiser\u001b[49m\u001b[43m \u001b[49m\u001b[38;5;241;43m=\u001b[39;49m\u001b[43m \u001b[49m\u001b[43moptimiser\u001b[49m\u001b[43m,\u001b[49m\n\u001b[1;32m      4\u001b[0m \u001b[43m              \u001b[49m\u001b[43mloss_fn\u001b[49m\u001b[43m \u001b[49m\u001b[38;5;241;43m=\u001b[39;49m\u001b[43m \u001b[49m\u001b[43mcriterion\u001b[49m\u001b[43m,\u001b[49m\n\u001b[1;32m      5\u001b[0m \u001b[43m              \u001b[49m\u001b[43mtrain_input\u001b[49m\u001b[43m \u001b[49m\u001b[38;5;241;43m=\u001b[39;49m\u001b[43m \u001b[49m\u001b[43mtrain_input\u001b[49m\u001b[43m,\u001b[49m\n\u001b[1;32m      6\u001b[0m \u001b[43m              \u001b[49m\u001b[43mtrain_target\u001b[49m\u001b[43m \u001b[49m\u001b[38;5;241;43m=\u001b[39;49m\u001b[43m \u001b[49m\u001b[43mtrain_target\u001b[49m\u001b[43m,\u001b[49m\n\u001b[1;32m      7\u001b[0m \u001b[43m              \u001b[49m\u001b[43mtest_input\u001b[49m\u001b[43m \u001b[49m\u001b[38;5;241;43m=\u001b[39;49m\u001b[43m \u001b[49m\u001b[43mtest_input\u001b[49m\u001b[43m,\u001b[49m\n\u001b[1;32m      8\u001b[0m \u001b[43m              \u001b[49m\u001b[43mtest_target\u001b[49m\u001b[43m \u001b[49m\u001b[38;5;241;43m=\u001b[39;49m\u001b[43m \u001b[49m\u001b[43mtest_target\u001b[49m\u001b[43m)\u001b[49m\n",
      "Input \u001b[0;32mIn [48]\u001b[0m, in \u001b[0;36mtraining_loop\u001b[0;34m(n_epochs, model, optimiser, loss_fn, train_input, train_target, test_input, test_target)\u001b[0m\n\u001b[1;32m      8\u001b[0m     loss\u001b[38;5;241m.\u001b[39mbackward()\n\u001b[1;32m      9\u001b[0m     \u001b[38;5;28;01mreturn\u001b[39;00m loss\n\u001b[0;32m---> 10\u001b[0m \u001b[43moptimiser\u001b[49m\u001b[38;5;241;43m.\u001b[39;49m\u001b[43mstep\u001b[49m\u001b[43m(\u001b[49m\u001b[43mclosure\u001b[49m\u001b[43m)\u001b[49m\n\u001b[1;32m     11\u001b[0m \u001b[38;5;28;01mwith\u001b[39;00m torch\u001b[38;5;241m.\u001b[39mno_grad():\n\u001b[1;32m     12\u001b[0m     future \u001b[38;5;241m=\u001b[39m \u001b[38;5;241m1000\u001b[39m\n",
      "File \u001b[0;32m/opt/conda/lib/python3.8/site-packages/torch/optim/optimizer.py:88\u001b[0m, in \u001b[0;36mOptimizer._hook_for_profile.<locals>.profile_hook_step.<locals>.wrapper\u001b[0;34m(*args, **kwargs)\u001b[0m\n\u001b[1;32m     86\u001b[0m profile_name \u001b[38;5;241m=\u001b[39m \u001b[38;5;124m\"\u001b[39m\u001b[38;5;124mOptimizer.step#\u001b[39m\u001b[38;5;132;01m{}\u001b[39;00m\u001b[38;5;124m.step\u001b[39m\u001b[38;5;124m\"\u001b[39m\u001b[38;5;241m.\u001b[39mformat(obj\u001b[38;5;241m.\u001b[39m\u001b[38;5;18m__class__\u001b[39m\u001b[38;5;241m.\u001b[39m\u001b[38;5;18m__name__\u001b[39m)\n\u001b[1;32m     87\u001b[0m \u001b[38;5;28;01mwith\u001b[39;00m torch\u001b[38;5;241m.\u001b[39mautograd\u001b[38;5;241m.\u001b[39mprofiler\u001b[38;5;241m.\u001b[39mrecord_function(profile_name):\n\u001b[0;32m---> 88\u001b[0m     \u001b[38;5;28;01mreturn\u001b[39;00m \u001b[43mfunc\u001b[49m\u001b[43m(\u001b[49m\u001b[38;5;241;43m*\u001b[39;49m\u001b[43margs\u001b[49m\u001b[43m,\u001b[49m\u001b[43m \u001b[49m\u001b[38;5;241;43m*\u001b[39;49m\u001b[38;5;241;43m*\u001b[39;49m\u001b[43mkwargs\u001b[49m\u001b[43m)\u001b[49m\n",
      "File \u001b[0;32m/opt/conda/lib/python3.8/site-packages/torch/autograd/grad_mode.py:27\u001b[0m, in \u001b[0;36m_DecoratorContextManager.__call__.<locals>.decorate_context\u001b[0;34m(*args, **kwargs)\u001b[0m\n\u001b[1;32m     24\u001b[0m \u001b[38;5;129m@functools\u001b[39m\u001b[38;5;241m.\u001b[39mwraps(func)\n\u001b[1;32m     25\u001b[0m \u001b[38;5;28;01mdef\u001b[39;00m \u001b[38;5;21mdecorate_context\u001b[39m(\u001b[38;5;241m*\u001b[39margs, \u001b[38;5;241m*\u001b[39m\u001b[38;5;241m*\u001b[39mkwargs):\n\u001b[1;32m     26\u001b[0m     \u001b[38;5;28;01mwith\u001b[39;00m \u001b[38;5;28mself\u001b[39m\u001b[38;5;241m.\u001b[39mclone():\n\u001b[0;32m---> 27\u001b[0m         \u001b[38;5;28;01mreturn\u001b[39;00m \u001b[43mfunc\u001b[49m\u001b[43m(\u001b[49m\u001b[38;5;241;43m*\u001b[39;49m\u001b[43margs\u001b[49m\u001b[43m,\u001b[49m\u001b[43m \u001b[49m\u001b[38;5;241;43m*\u001b[39;49m\u001b[38;5;241;43m*\u001b[39;49m\u001b[43mkwargs\u001b[49m\u001b[43m)\u001b[49m\n",
      "File \u001b[0;32m/opt/conda/lib/python3.8/site-packages/torch/optim/adam.py:100\u001b[0m, in \u001b[0;36mAdam.step\u001b[0;34m(self, closure)\u001b[0m\n\u001b[1;32m     98\u001b[0m \u001b[38;5;28;01mif\u001b[39;00m closure \u001b[38;5;129;01mis\u001b[39;00m \u001b[38;5;129;01mnot\u001b[39;00m \u001b[38;5;28;01mNone\u001b[39;00m:\n\u001b[1;32m     99\u001b[0m     \u001b[38;5;28;01mwith\u001b[39;00m torch\u001b[38;5;241m.\u001b[39menable_grad():\n\u001b[0;32m--> 100\u001b[0m         loss \u001b[38;5;241m=\u001b[39m \u001b[43mclosure\u001b[49m\u001b[43m(\u001b[49m\u001b[43m)\u001b[49m\n\u001b[1;32m    102\u001b[0m \u001b[38;5;28;01mfor\u001b[39;00m group \u001b[38;5;129;01min\u001b[39;00m \u001b[38;5;28mself\u001b[39m\u001b[38;5;241m.\u001b[39mparam_groups:\n\u001b[1;32m    103\u001b[0m     params_with_grad \u001b[38;5;241m=\u001b[39m []\n",
      "Input \u001b[0;32mIn [48]\u001b[0m, in \u001b[0;36mtraining_loop.<locals>.closure\u001b[0;34m()\u001b[0m\n\u001b[1;32m      4\u001b[0m \u001b[38;5;28;01mdef\u001b[39;00m \u001b[38;5;21mclosure\u001b[39m():\n\u001b[1;32m      5\u001b[0m     optimiser\u001b[38;5;241m.\u001b[39mzero_grad()\n\u001b[0;32m----> 6\u001b[0m     out \u001b[38;5;241m=\u001b[39m \u001b[43mmodel\u001b[49m\u001b[43m(\u001b[49m\u001b[43mtrain_input\u001b[49m\u001b[43m)\u001b[49m\n\u001b[1;32m      7\u001b[0m     loss \u001b[38;5;241m=\u001b[39m loss_fn(out, train_target)\n\u001b[1;32m      8\u001b[0m     loss\u001b[38;5;241m.\u001b[39mbackward()\n",
      "File \u001b[0;32m/opt/conda/lib/python3.8/site-packages/torch/nn/modules/module.py:1110\u001b[0m, in \u001b[0;36mModule._call_impl\u001b[0;34m(self, *input, **kwargs)\u001b[0m\n\u001b[1;32m   1106\u001b[0m \u001b[38;5;66;03m# If we don't have any hooks, we want to skip the rest of the logic in\u001b[39;00m\n\u001b[1;32m   1107\u001b[0m \u001b[38;5;66;03m# this function, and just call forward.\u001b[39;00m\n\u001b[1;32m   1108\u001b[0m \u001b[38;5;28;01mif\u001b[39;00m \u001b[38;5;129;01mnot\u001b[39;00m (\u001b[38;5;28mself\u001b[39m\u001b[38;5;241m.\u001b[39m_backward_hooks \u001b[38;5;129;01mor\u001b[39;00m \u001b[38;5;28mself\u001b[39m\u001b[38;5;241m.\u001b[39m_forward_hooks \u001b[38;5;129;01mor\u001b[39;00m \u001b[38;5;28mself\u001b[39m\u001b[38;5;241m.\u001b[39m_forward_pre_hooks \u001b[38;5;129;01mor\u001b[39;00m _global_backward_hooks\n\u001b[1;32m   1109\u001b[0m         \u001b[38;5;129;01mor\u001b[39;00m _global_forward_hooks \u001b[38;5;129;01mor\u001b[39;00m _global_forward_pre_hooks):\n\u001b[0;32m-> 1110\u001b[0m     \u001b[38;5;28;01mreturn\u001b[39;00m \u001b[43mforward_call\u001b[49m\u001b[43m(\u001b[49m\u001b[38;5;241;43m*\u001b[39;49m\u001b[38;5;28;43minput\u001b[39;49m\u001b[43m,\u001b[49m\u001b[43m \u001b[49m\u001b[38;5;241;43m*\u001b[39;49m\u001b[38;5;241;43m*\u001b[39;49m\u001b[43mkwargs\u001b[49m\u001b[43m)\u001b[49m\n\u001b[1;32m   1111\u001b[0m \u001b[38;5;66;03m# Do not call functions when jit is used\u001b[39;00m\n\u001b[1;32m   1112\u001b[0m full_backward_hooks, non_full_backward_hooks \u001b[38;5;241m=\u001b[39m [], []\n",
      "Input \u001b[0;32mIn [36]\u001b[0m, in \u001b[0;36mLSTM.forward\u001b[0;34m(self, y, future_preds)\u001b[0m\n\u001b[1;32m     12\u001b[0m \u001b[38;5;28;01mdef\u001b[39;00m \u001b[38;5;21mforward\u001b[39m(\u001b[38;5;28mself\u001b[39m, y, future_preds\u001b[38;5;241m=\u001b[39m\u001b[38;5;241m0\u001b[39m):\n\u001b[1;32m     13\u001b[0m     outputs, num_samples \u001b[38;5;241m=\u001b[39m [], y\u001b[38;5;241m.\u001b[39msize(\u001b[38;5;241m0\u001b[39m)\n\u001b[0;32m---> 14\u001b[0m     h_t \u001b[38;5;241m=\u001b[39m torch\u001b[38;5;241m.\u001b[39mzeros(\u001b[43mn_samples\u001b[49m, \u001b[38;5;28mself\u001b[39m\u001b[38;5;241m.\u001b[39mhidden_layers, dtype\u001b[38;5;241m=\u001b[39mtorch\u001b[38;5;241m.\u001b[39mfloat32)\n\u001b[1;32m     15\u001b[0m     c_t \u001b[38;5;241m=\u001b[39m torch\u001b[38;5;241m.\u001b[39mzeros(n_samples, \u001b[38;5;28mself\u001b[39m\u001b[38;5;241m.\u001b[39mhidden_layers, dtype\u001b[38;5;241m=\u001b[39mtorch\u001b[38;5;241m.\u001b[39mfloat32)\n\u001b[1;32m     16\u001b[0m     h_t2 \u001b[38;5;241m=\u001b[39m torch\u001b[38;5;241m.\u001b[39mzeros(n_samples, \u001b[38;5;28mself\u001b[39m\u001b[38;5;241m.\u001b[39mhidden_layers, dtype\u001b[38;5;241m=\u001b[39mtorch\u001b[38;5;241m.\u001b[39mfloat32)\n",
      "\u001b[0;31mNameError\u001b[0m: name 'n_samples' is not defined"
     ]
    }
   ],
   "source": [
    "training_loop(n_epochs = 10,\n",
    "              model = model,\n",
    "              optimiser = optimiser,\n",
    "              loss_fn = criterion,\n",
    "              L = L,\n",
    "              train_input = train_input,\n",
    "              train_target = train_target,\n",
    "              test_input = test_input,\n",
    "              test_target = test_target)"
   ]
  },
  {
   "cell_type": "code",
   "execution_count": null,
   "id": "bc01cb9e",
   "metadata": {},
   "outputs": [],
   "source": []
  },
  {
   "cell_type": "code",
   "execution_count": null,
   "id": "b29c9a70",
   "metadata": {},
   "outputs": [],
   "source": []
  },
  {
   "cell_type": "code",
   "execution_count": null,
   "id": "26fe4255",
   "metadata": {},
   "outputs": [],
   "source": []
  },
  {
   "cell_type": "code",
   "execution_count": 8,
   "id": "d8ef20b8",
   "metadata": {},
   "outputs": [],
   "source": [
    "df_values = df[df.columns[8:]].values"
   ]
  },
  {
   "cell_type": "code",
   "execution_count": 9,
   "id": "66e764d3",
   "metadata": {},
   "outputs": [
    {
     "data": {
      "text/plain": [
       "(39450, 2046)"
      ]
     },
     "execution_count": 9,
     "metadata": {},
     "output_type": "execute_result"
    }
   ],
   "source": [
    "df_values.shape"
   ]
  },
  {
   "cell_type": "code",
   "execution_count": 10,
   "id": "bae0cf6e",
   "metadata": {},
   "outputs": [],
   "source": [
    "vectors=df_values\n",
    "target = df_values[0]"
   ]
  },
  {
   "cell_type": "code",
   "execution_count": 237,
   "id": "c56167a0",
   "metadata": {},
   "outputs": [],
   "source": [
    "df_test = pd.read_csv(\"processed_data_test.csv\")"
   ]
  },
  {
   "cell_type": "code",
   "execution_count": 234,
   "id": "7dcdab79",
   "metadata": {},
   "outputs": [],
   "source": [
    "df_test= df_test.drop(columns=[\"Unnamed: 0\",\"datetime\",\"granule_id\"])"
   ]
  },
  {
   "cell_type": "code",
   "execution_count": 235,
   "id": "daeb9fed",
   "metadata": {},
   "outputs": [
    {
     "data": {
      "text/html": [
       "<div>\n",
       "<style scoped>\n",
       "    .dataframe tbody tr th:only-of-type {\n",
       "        vertical-align: middle;\n",
       "    }\n",
       "\n",
       "    .dataframe tbody tr th {\n",
       "        vertical-align: top;\n",
       "    }\n",
       "\n",
       "    .dataframe thead th {\n",
       "        text-align: right;\n",
       "    }\n",
       "</style>\n",
       "<table border=\"1\" class=\"dataframe\">\n",
       "  <thead>\n",
       "    <tr style=\"text-align: right;\">\n",
       "      <th></th>\n",
       "      <th>grid_id</th>\n",
       "      <th>value</th>\n",
       "      <th>datetime_dt</th>\n",
       "      <th>location</th>\n",
       "      <th>date</th>\n",
       "      <th>AOD at 0.47 micron_0</th>\n",
       "      <th>AOD at 0.47 micron_1</th>\n",
       "      <th>AOD at 0.47 micron_2</th>\n",
       "      <th>AOD at 0.47 micron_3</th>\n",
       "      <th>AOD at 0.47 micron_4</th>\n",
       "      <th>...</th>\n",
       "      <th>cosine of Solar Zenith Angle_246</th>\n",
       "      <th>cosine of Solar Zenith Angle_247</th>\n",
       "      <th>cosine of Solar Zenith Angle_248</th>\n",
       "      <th>cosine of Solar Zenith Angle_249</th>\n",
       "      <th>cosine of Solar Zenith Angle_250</th>\n",
       "      <th>cosine of Solar Zenith Angle_251</th>\n",
       "      <th>cosine of Solar Zenith Angle_252</th>\n",
       "      <th>cosine of Solar Zenith Angle_253</th>\n",
       "      <th>cosine of Solar Zenith Angle_254</th>\n",
       "      <th>cosine of Solar Zenith Angle_255</th>\n",
       "    </tr>\n",
       "  </thead>\n",
       "  <tbody>\n",
       "    <tr>\n",
       "      <th>0</th>\n",
       "      <td>1X116</td>\n",
       "      <td>0.0</td>\n",
       "      <td>2017-01-07 16:00:00+00:00</td>\n",
       "      <td>Taipei</td>\n",
       "      <td>2017-01-07</td>\n",
       "      <td>-0.552611</td>\n",
       "      <td>0.114593</td>\n",
       "      <td>-0.116292</td>\n",
       "      <td>0.256839</td>\n",
       "      <td>-0.049796</td>\n",
       "      <td>...</td>\n",
       "      <td>0.514868</td>\n",
       "      <td>0.139191</td>\n",
       "      <td>0.183938</td>\n",
       "      <td>-1.667788</td>\n",
       "      <td>-0.356834</td>\n",
       "      <td>2.620512</td>\n",
       "      <td>0.295454</td>\n",
       "      <td>-0.233992</td>\n",
       "      <td>0.197363</td>\n",
       "      <td>0.768304</td>\n",
       "    </tr>\n",
       "    <tr>\n",
       "      <th>1</th>\n",
       "      <td>9Q6TA</td>\n",
       "      <td>0.0</td>\n",
       "      <td>2017-01-07 16:00:00+00:00</td>\n",
       "      <td>Taipei</td>\n",
       "      <td>2017-01-07</td>\n",
       "      <td>-0.552611</td>\n",
       "      <td>0.114593</td>\n",
       "      <td>-0.116292</td>\n",
       "      <td>0.256839</td>\n",
       "      <td>-0.049796</td>\n",
       "      <td>...</td>\n",
       "      <td>0.514868</td>\n",
       "      <td>0.139191</td>\n",
       "      <td>0.183938</td>\n",
       "      <td>-1.667788</td>\n",
       "      <td>-0.356834</td>\n",
       "      <td>2.620512</td>\n",
       "      <td>0.295454</td>\n",
       "      <td>-0.233992</td>\n",
       "      <td>0.197363</td>\n",
       "      <td>0.768304</td>\n",
       "    </tr>\n",
       "    <tr>\n",
       "      <th>2</th>\n",
       "      <td>KW43U</td>\n",
       "      <td>0.0</td>\n",
       "      <td>2017-01-07 16:00:00+00:00</td>\n",
       "      <td>Taipei</td>\n",
       "      <td>2017-01-07</td>\n",
       "      <td>-0.552611</td>\n",
       "      <td>0.114593</td>\n",
       "      <td>-0.116292</td>\n",
       "      <td>0.256839</td>\n",
       "      <td>-0.049796</td>\n",
       "      <td>...</td>\n",
       "      <td>0.514868</td>\n",
       "      <td>0.139191</td>\n",
       "      <td>0.183938</td>\n",
       "      <td>-1.667788</td>\n",
       "      <td>-0.356834</td>\n",
       "      <td>2.620512</td>\n",
       "      <td>0.295454</td>\n",
       "      <td>-0.233992</td>\n",
       "      <td>0.197363</td>\n",
       "      <td>0.768304</td>\n",
       "    </tr>\n",
       "    <tr>\n",
       "      <th>3</th>\n",
       "      <td>VR4WG</td>\n",
       "      <td>0.0</td>\n",
       "      <td>2017-01-07 16:00:00+00:00</td>\n",
       "      <td>Taipei</td>\n",
       "      <td>2017-01-07</td>\n",
       "      <td>-0.552611</td>\n",
       "      <td>0.114593</td>\n",
       "      <td>-0.116292</td>\n",
       "      <td>0.256839</td>\n",
       "      <td>-0.049796</td>\n",
       "      <td>...</td>\n",
       "      <td>0.514868</td>\n",
       "      <td>0.139191</td>\n",
       "      <td>0.183938</td>\n",
       "      <td>-1.667788</td>\n",
       "      <td>-0.356834</td>\n",
       "      <td>2.620512</td>\n",
       "      <td>0.295454</td>\n",
       "      <td>-0.233992</td>\n",
       "      <td>0.197363</td>\n",
       "      <td>0.768304</td>\n",
       "    </tr>\n",
       "    <tr>\n",
       "      <th>4</th>\n",
       "      <td>XJF9O</td>\n",
       "      <td>0.0</td>\n",
       "      <td>2017-01-07 16:00:00+00:00</td>\n",
       "      <td>Taipei</td>\n",
       "      <td>2017-01-07</td>\n",
       "      <td>-0.552611</td>\n",
       "      <td>0.114593</td>\n",
       "      <td>-0.116292</td>\n",
       "      <td>0.256839</td>\n",
       "      <td>-0.049796</td>\n",
       "      <td>...</td>\n",
       "      <td>0.514868</td>\n",
       "      <td>0.139191</td>\n",
       "      <td>0.183938</td>\n",
       "      <td>-1.667788</td>\n",
       "      <td>-0.356834</td>\n",
       "      <td>2.620512</td>\n",
       "      <td>0.295454</td>\n",
       "      <td>-0.233992</td>\n",
       "      <td>0.197363</td>\n",
       "      <td>0.768304</td>\n",
       "    </tr>\n",
       "  </tbody>\n",
       "</table>\n",
       "<p>5 rows × 2053 columns</p>\n",
       "</div>"
      ],
      "text/plain": [
       "  grid_id  value                datetime_dt location        date  \\\n",
       "0   1X116    0.0  2017-01-07 16:00:00+00:00   Taipei  2017-01-07   \n",
       "1   9Q6TA    0.0  2017-01-07 16:00:00+00:00   Taipei  2017-01-07   \n",
       "2   KW43U    0.0  2017-01-07 16:00:00+00:00   Taipei  2017-01-07   \n",
       "3   VR4WG    0.0  2017-01-07 16:00:00+00:00   Taipei  2017-01-07   \n",
       "4   XJF9O    0.0  2017-01-07 16:00:00+00:00   Taipei  2017-01-07   \n",
       "\n",
       "   AOD at 0.47 micron_0  AOD at 0.47 micron_1  AOD at 0.47 micron_2  \\\n",
       "0             -0.552611              0.114593             -0.116292   \n",
       "1             -0.552611              0.114593             -0.116292   \n",
       "2             -0.552611              0.114593             -0.116292   \n",
       "3             -0.552611              0.114593             -0.116292   \n",
       "4             -0.552611              0.114593             -0.116292   \n",
       "\n",
       "   AOD at 0.47 micron_3  AOD at 0.47 micron_4  ...  \\\n",
       "0              0.256839             -0.049796  ...   \n",
       "1              0.256839             -0.049796  ...   \n",
       "2              0.256839             -0.049796  ...   \n",
       "3              0.256839             -0.049796  ...   \n",
       "4              0.256839             -0.049796  ...   \n",
       "\n",
       "   cosine of Solar Zenith Angle_246  cosine of Solar Zenith Angle_247  \\\n",
       "0                          0.514868                          0.139191   \n",
       "1                          0.514868                          0.139191   \n",
       "2                          0.514868                          0.139191   \n",
       "3                          0.514868                          0.139191   \n",
       "4                          0.514868                          0.139191   \n",
       "\n",
       "   cosine of Solar Zenith Angle_248  cosine of Solar Zenith Angle_249  \\\n",
       "0                          0.183938                         -1.667788   \n",
       "1                          0.183938                         -1.667788   \n",
       "2                          0.183938                         -1.667788   \n",
       "3                          0.183938                         -1.667788   \n",
       "4                          0.183938                         -1.667788   \n",
       "\n",
       "   cosine of Solar Zenith Angle_250  cosine of Solar Zenith Angle_251  \\\n",
       "0                         -0.356834                          2.620512   \n",
       "1                         -0.356834                          2.620512   \n",
       "2                         -0.356834                          2.620512   \n",
       "3                         -0.356834                          2.620512   \n",
       "4                         -0.356834                          2.620512   \n",
       "\n",
       "   cosine of Solar Zenith Angle_252  cosine of Solar Zenith Angle_253  \\\n",
       "0                          0.295454                         -0.233992   \n",
       "1                          0.295454                         -0.233992   \n",
       "2                          0.295454                         -0.233992   \n",
       "3                          0.295454                         -0.233992   \n",
       "4                          0.295454                         -0.233992   \n",
       "\n",
       "   cosine of Solar Zenith Angle_254  cosine of Solar Zenith Angle_255  \n",
       "0                          0.197363                          0.768304  \n",
       "1                          0.197363                          0.768304  \n",
       "2                          0.197363                          0.768304  \n",
       "3                          0.197363                          0.768304  \n",
       "4                          0.197363                          0.768304  \n",
       "\n",
       "[5 rows x 2053 columns]"
      ]
     },
     "execution_count": 235,
     "metadata": {},
     "output_type": "execute_result"
    }
   ],
   "source": [
    "df_test.head()"
   ]
  },
  {
   "cell_type": "code",
   "execution_count": null,
   "id": "0f79cb30",
   "metadata": {},
   "outputs": [],
   "source": []
  },
  {
   "cell_type": "code",
   "execution_count": null,
   "id": "78b258b6",
   "metadata": {},
   "outputs": [],
   "source": []
  },
  {
   "cell_type": "code",
   "execution_count": 15,
   "id": "16372f2c",
   "metadata": {},
   "outputs": [],
   "source": [
    "# import torch\n",
    "# print(torch.rand(1, device=\"cuda\"))"
   ]
  },
  {
   "cell_type": "code",
   "execution_count": null,
   "id": "649abb38",
   "metadata": {},
   "outputs": [],
   "source": [
    "class LSTM(nn.Module):\n",
    "    def __init__(self, hidden_layers=64):\n",
    "        super(LSTM, self).__init__()\n",
    "        self.hidden_layers = hidden_layers\n",
    "        # lstm1, lstm2, linear are all layers in the network\n",
    "        self.lstm1 = nn.LSTMCell(1, self.hidden_layers)\n",
    "        self.lstm2 = nn.LSTMCell(self.hidden_layers, self.hidden_layers)\n",
    "        self.linear = nn.Linear(self.hidden_layers, 1)\n",
    "        \n",
    "    def forward(self, y, future_preds=0):\n",
    "        outputs, num_samples = [], y.size(0)\n",
    "        h_t = torch.zeros(n_samples, self.hidden_layers, dtype=torch.float32)\n",
    "        c_t = torch.zeros(n_samples, self.hidden_layers, dtype=torch.float32)\n",
    "        h_t2 = torch.zeros(n_samples, self.hidden_layers, dtype=torch.float32)\n",
    "        c_t2 = torch.zeros(n_samples, self.hidden_layers, dtype=torch.float32)\n",
    "        \n",
    "        for time_step in y.split(1, dim=1):\n",
    "            # N, 1\n",
    "            h_t, c_t = self.lstm1(input_t, (h_t, c_t)) # initial hidden and cell states\n",
    "            h_t2, c_t2 = self.lstm2(h_t, (h_t2, c_t2)) # new hidden and cell states\n",
    "            output = self.linear(h_t2) # output from the last FC layer\n",
    "            outputs.append(output)\n",
    "            \n",
    "        for i in range(future_preds):\n",
    "            # this only generates future predictions if we pass in future_preds>0\n",
    "            # mirrors the code above, using last output/prediction as input\n",
    "            h_t, c_t = self.lstm1(output, (h_t, c_t))\n",
    "            h_t2, c_t2 = self.lstm2(h_t, (h_t2, c_t2))\n",
    "            output = self.linear(h_t2)\n",
    "            outputs.append(output)\n",
    "        # transform list to tensor    \n",
    "        outputs = torch.cat(outputs, dim=1)\n",
    "        return outputs"
   ]
  }
 ],
 "metadata": {
  "kernelspec": {
   "display_name": "Python (ex)",
   "language": "python",
   "name": "ex"
  },
  "language_info": {
   "codemirror_mode": {
    "name": "ipython",
    "version": 3
   },
   "file_extension": ".py",
   "mimetype": "text/x-python",
   "name": "python",
   "nbconvert_exporter": "python",
   "pygments_lexer": "ipython3",
   "version": "3.8.5"
  }
 },
 "nbformat": 4,
 "nbformat_minor": 5
}
