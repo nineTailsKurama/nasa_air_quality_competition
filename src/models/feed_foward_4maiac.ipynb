{
  "nbformat": 4,
  "nbformat_minor": 0,
  "metadata": {
    "colab": {
      "name": "feed_foward_0.4573.ipynb",
      "provenance": [],
      "machine_shape": "hm",
      "collapsed_sections": []
    },
    "kernelspec": {
      "name": "python3",
      "display_name": "Python 3"
    },
    "language_info": {
      "name": "python"
    },
    "accelerator": "GPU"
  },
  "cells": [
    {
      "cell_type": "code",
      "source": [
        "# !pip uninstall xgboost --y\n",
        "# !pip install xgboost\n",
        "\n",
        "# !pip install pytorch_lightning "
      ],
      "metadata": {
        "id": "HneQKZezgpuy"
      },
      "execution_count": null,
      "outputs": []
    },
    {
      "cell_type": "code",
      "execution_count": null,
      "metadata": {
        "id": "Lc2M0a6zefDC"
      },
      "outputs": [],
      "source": [
        "import os\n",
        "import re\n",
        "import random\n",
        "from datetime import datetime\n",
        "\n",
        "from pathlib import Path\n",
        "os.chdir('/content/drive/MyDrive/datadriven/airathon')\n",
        "DATA_PATH = Path.cwd() / 'data'\n",
        "RAW = DATA_PATH / 'raw'\n",
        "PROCESSED = DATA_PATH / 'processed3'\n",
        "\n",
        "import numpy as np\n",
        "import pandas as pd\n",
        "import matplotlib as mpl\n",
        "import matplotlib.pyplot as plt\n",
        "import seaborn as sns\n",
        "\n",
        "plt.style.use('seaborn')\n",
        "plt.rcParams[\"figure.figsize\"] = (16, 8)\n",
        "\n",
        "from sklearn.preprocessing import OneHotEncoder, OrdinalEncoder, StandardScaler, FunctionTransformer, MinMaxScaler\n",
        "from sklearn.impute import SimpleImputer\n",
        "from sklearn.compose import ColumnTransformer\n",
        "from sklearn.pipeline import Pipeline\n",
        "\n",
        "import tensorflow as tf\n",
        "from tensorflow import keras\n",
        "from keras import layers\n",
        "import tensorflow_datasets as tfds"
      ]
    },
    {
      "cell_type": "code",
      "source": [
        "data = pd.read_csv(PROCESSED / 'train_data.csv', parse_dates=['datetime'], index_col=[0]).sort_values('datetime')[0:100]\n",
        "data.drop_duplicates(subset=['grid_id', 'datetime'], inplace=True)\n",
        "\n",
        "target = data.value\n",
        "data.drop(columns=['datetime', 'datetime_dt', 'location', 'date', 'value', 'granule_id'], inplace=True)"
      ],
      "metadata": {
        "id": "lGrre_glnXIt"
      },
      "execution_count": null,
      "outputs": []
    },
    {
      "cell_type": "code",
      "source": [
        "train, test = {}, {}\n",
        "locations = ['la', 'dl', 'tpe']\n",
        "\n",
        "for loc in locations:\n",
        "    train[loc] = pd.read_csv(str(PROCESSED / f'train_{loc}.csv'), parse_dates=['datetime', 'day']).sort_values(by=['datetime'])\n",
        "    test[loc] = pd.read_csv(str(PROCESSED / f'test_{loc}.csv'), parse_dates=['datetime', 'day']).sort_values(by=['datetime'])\n",
        "    \n",
        "data = pd.concat([train['la'], train['dl'], train['tpe']])\n",
        "test_data = pd.concat([test['la'], test['dl'], test['tpe']])\n",
        "\n",
        "\n",
        "target = np.array(data.pm25).reshape(-1,1)\n",
        "target_scaler = MinMaxScaler()\n",
        "target = target_scaler.fit_transform(target)\n",
        "\n",
        "\n",
        "data.drop(columns=['datetime', 'pm25', 'day'], axis=1, inplace=True)\n",
        "test_data.drop(columns=['datetime', 'value', 'day'], axis=1, inplace=True)\n",
        "\n",
        "ohe_features = ['grid_id']\n",
        "ohe_transformer = OneHotEncoder(handle_unknown='ignore')\n",
        "\n",
        "num_features = ['Optical_Depth_047_mean', 'Optical_Depth_047_min', 'Optical_Depth_047_max', \n",
        "                'Optical_Depth_055_mean', 'Optical_Depth_055_min', 'Optical_Depth_055_max',\n",
        "                'AOD_Uncertainty_mean', 'AOD_Uncertainty_min', 'AOD_Uncertainty_max', \n",
        "                'Column_WV_mean', 'Column_WV_min', 'Column_WV_max']\n",
        "\n",
        "num_transformer = Pipeline(steps=[\n",
        "    ('scaler', MinMaxScaler()),\n",
        "    ('imputer', SimpleImputer(strategy='median'))])\n",
        "\n",
        "preprocessor = ColumnTransformer(\n",
        "    transformers=[\n",
        "        ('num', num_transformer, num_features),\n",
        "        ('cat', ohe_transformer, ohe_features)])\n",
        "\n",
        "\n",
        "data = preprocessor.fit_transform(data).toarray()\n",
        "test_data = preprocessor.transform(test_data).toarray()\n",
        "\n",
        "n_features = data.shape[1]\n"
      ],
      "metadata": {
        "id": "EAyz-ZJ7pIMv"
      },
      "execution_count": null,
      "outputs": []
    },
    {
      "cell_type": "code",
      "source": [
        "model = keras.Sequential([\n",
        "    layers.Dense(64, activation=tf.nn.relu, input_shape=[n_features]),\n",
        "    layers.Dense(64, activation=tf.nn.relu),\n",
        "    layers.Dense(32, activation=tf.nn.relu),\n",
        "    layers.Dense(32, activation=tf.nn.relu),\n",
        "    layers.Dense(16, activation=tf.nn.relu),\n",
        "    layers.Dense(8, activation=tf.nn.relu),\n",
        "    layers.Dense(1)\n",
        "    ])\n",
        "\n",
        "optimizer = keras.optimizers.Adam(learning_rate=0.001)\n",
        "\n",
        "model.compile(loss='mse', optimizer=optimizer, metrics=['mse'])"
      ],
      "metadata": {
        "id": "bPeX2YH7uHyP"
      },
      "execution_count": null,
      "outputs": []
    },
    {
      "cell_type": "code",
      "source": [
        "model.summary()"
      ],
      "metadata": {
        "colab": {
          "base_uri": "https://localhost:8080/"
        },
        "id": "jzwjUI_uWsWH",
        "outputId": "e7f0e97c-5ea5-4d3a-c5bd-5d31c09028c0"
      },
      "execution_count": null,
      "outputs": [
        {
          "output_type": "stream",
          "name": "stdout",
          "text": [
            "Model: \"sequential_6\"\n",
            "_________________________________________________________________\n",
            " Layer (type)                Output Shape              Param #   \n",
            "=================================================================\n",
            " dense_24 (Dense)            (None, 64)                4288      \n",
            "                                                                 \n",
            " dense_25 (Dense)            (None, 64)                4160      \n",
            "                                                                 \n",
            " dense_26 (Dense)            (None, 32)                2080      \n",
            "                                                                 \n",
            " dense_27 (Dense)            (None, 32)                1056      \n",
            "                                                                 \n",
            " dense_28 (Dense)            (None, 16)                528       \n",
            "                                                                 \n",
            " dense_29 (Dense)            (None, 8)                 136       \n",
            "                                                                 \n",
            " dense_30 (Dense)            (None, 1)                 9         \n",
            "                                                                 \n",
            "=================================================================\n",
            "Total params: 12,257\n",
            "Trainable params: 12,257\n",
            "Non-trainable params: 0\n",
            "_________________________________________________________________\n"
          ]
        }
      ]
    },
    {
      "cell_type": "code",
      "source": [
        "model.predict(data[0:10])"
      ],
      "metadata": {
        "colab": {
          "base_uri": "https://localhost:8080/"
        },
        "id": "S7760LlWwa3n",
        "outputId": "5898f76c-e60b-43dd-a52c-6d1e44d22f54"
      },
      "execution_count": null,
      "outputs": [
        {
          "output_type": "execute_result",
          "data": {
            "text/plain": [
              "array([[ 0.00466616],\n",
              "       [ 0.00855162],\n",
              "       [ 0.0442536 ],\n",
              "       [ 0.0128111 ],\n",
              "       [ 0.00021362],\n",
              "       [-0.018453  ],\n",
              "       [ 0.01883634],\n",
              "       [ 0.01785382],\n",
              "       [ 0.01125825],\n",
              "       [-0.00392692]], dtype=float32)"
            ]
          },
          "metadata": {},
          "execution_count": 169
        }
      ]
    },
    {
      "cell_type": "code",
      "source": [
        "class PrintDot(keras.callbacks.Callback):\n",
        "    def on_epoch_end(self, epoch, logs):\n",
        "        if epoch % 100 == 0:\n",
        "            print('')\n",
        "        print('.', end='')"
      ],
      "metadata": {
        "id": "88qAWuDrxFaV"
      },
      "execution_count": null,
      "outputs": []
    },
    {
      "cell_type": "code",
      "source": [
        "EPOCHS = 100\n",
        "batch_size = 64 \n",
        "\n",
        "history = model.fit(data, target.reshape(-1,), epochs=EPOCHS, validation_split=0.2, batch_size=batch_size)"
      ],
      "metadata": {
        "id": "wMotFNfljOYP",
        "colab": {
          "base_uri": "https://localhost:8080/"
        },
        "outputId": "721e7d7c-31dc-4984-910b-3adfe8dafc9f"
      },
      "execution_count": null,
      "outputs": [
        {
          "output_type": "stream",
          "name": "stdout",
          "text": [
            "Epoch 1/100\n",
            "257/257 [==============================] - 1s 3ms/step - loss: 0.0025 - mse: 0.0025 - val_loss: 0.0042 - val_mse: 0.0042\n",
            "Epoch 2/100\n",
            "257/257 [==============================] - 1s 3ms/step - loss: 0.0019 - mse: 0.0019 - val_loss: 0.0043 - val_mse: 0.0043\n",
            "Epoch 3/100\n",
            "257/257 [==============================] - 1s 3ms/step - loss: 0.0018 - mse: 0.0018 - val_loss: 0.0043 - val_mse: 0.0043\n",
            "Epoch 4/100\n",
            "257/257 [==============================] - 1s 3ms/step - loss: 0.0018 - mse: 0.0018 - val_loss: 0.0042 - val_mse: 0.0042\n",
            "Epoch 5/100\n",
            "257/257 [==============================] - 1s 3ms/step - loss: 0.0018 - mse: 0.0018 - val_loss: 0.0042 - val_mse: 0.0042\n",
            "Epoch 6/100\n",
            "257/257 [==============================] - 1s 3ms/step - loss: 0.0018 - mse: 0.0018 - val_loss: 0.0045 - val_mse: 0.0045\n",
            "Epoch 7/100\n",
            "257/257 [==============================] - 1s 3ms/step - loss: 0.0018 - mse: 0.0018 - val_loss: 0.0044 - val_mse: 0.0044\n",
            "Epoch 8/100\n",
            "257/257 [==============================] - 1s 3ms/step - loss: 0.0018 - mse: 0.0018 - val_loss: 0.0043 - val_mse: 0.0043\n",
            "Epoch 9/100\n",
            "257/257 [==============================] - 1s 3ms/step - loss: 0.0018 - mse: 0.0018 - val_loss: 0.0045 - val_mse: 0.0045\n",
            "Epoch 10/100\n",
            "257/257 [==============================] - 1s 3ms/step - loss: 0.0017 - mse: 0.0017 - val_loss: 0.0046 - val_mse: 0.0046\n",
            "Epoch 11/100\n",
            "257/257 [==============================] - 1s 3ms/step - loss: 0.0017 - mse: 0.0017 - val_loss: 0.0042 - val_mse: 0.0042\n",
            "Epoch 12/100\n",
            "257/257 [==============================] - 1s 3ms/step - loss: 0.0017 - mse: 0.0017 - val_loss: 0.0044 - val_mse: 0.0044\n",
            "Epoch 13/100\n",
            "257/257 [==============================] - 1s 3ms/step - loss: 0.0017 - mse: 0.0017 - val_loss: 0.0050 - val_mse: 0.0050\n",
            "Epoch 14/100\n",
            "257/257 [==============================] - 1s 3ms/step - loss: 0.0017 - mse: 0.0017 - val_loss: 0.0045 - val_mse: 0.0045\n",
            "Epoch 15/100\n",
            "257/257 [==============================] - 1s 3ms/step - loss: 0.0017 - mse: 0.0017 - val_loss: 0.0044 - val_mse: 0.0044\n",
            "Epoch 16/100\n",
            "257/257 [==============================] - 1s 3ms/step - loss: 0.0017 - mse: 0.0017 - val_loss: 0.0046 - val_mse: 0.0046\n",
            "Epoch 17/100\n",
            "257/257 [==============================] - 1s 3ms/step - loss: 0.0017 - mse: 0.0017 - val_loss: 0.0044 - val_mse: 0.0044\n",
            "Epoch 18/100\n",
            "257/257 [==============================] - 1s 3ms/step - loss: 0.0017 - mse: 0.0017 - val_loss: 0.0045 - val_mse: 0.0045\n",
            "Epoch 19/100\n",
            "257/257 [==============================] - 1s 3ms/step - loss: 0.0017 - mse: 0.0017 - val_loss: 0.0045 - val_mse: 0.0045\n",
            "Epoch 20/100\n",
            "257/257 [==============================] - 1s 3ms/step - loss: 0.0016 - mse: 0.0016 - val_loss: 0.0049 - val_mse: 0.0049\n",
            "Epoch 21/100\n",
            "257/257 [==============================] - 1s 3ms/step - loss: 0.0016 - mse: 0.0016 - val_loss: 0.0043 - val_mse: 0.0043\n",
            "Epoch 22/100\n",
            "257/257 [==============================] - 1s 3ms/step - loss: 0.0016 - mse: 0.0016 - val_loss: 0.0048 - val_mse: 0.0048\n",
            "Epoch 23/100\n",
            "257/257 [==============================] - 1s 3ms/step - loss: 0.0016 - mse: 0.0016 - val_loss: 0.0048 - val_mse: 0.0048\n",
            "Epoch 24/100\n",
            "257/257 [==============================] - 1s 3ms/step - loss: 0.0016 - mse: 0.0016 - val_loss: 0.0046 - val_mse: 0.0046\n",
            "Epoch 25/100\n",
            "257/257 [==============================] - 1s 3ms/step - loss: 0.0016 - mse: 0.0016 - val_loss: 0.0044 - val_mse: 0.0044\n",
            "Epoch 26/100\n",
            "257/257 [==============================] - 1s 3ms/step - loss: 0.0016 - mse: 0.0016 - val_loss: 0.0046 - val_mse: 0.0046\n",
            "Epoch 27/100\n",
            "257/257 [==============================] - 1s 3ms/step - loss: 0.0016 - mse: 0.0016 - val_loss: 0.0047 - val_mse: 0.0047\n",
            "Epoch 28/100\n",
            "257/257 [==============================] - 1s 3ms/step - loss: 0.0016 - mse: 0.0016 - val_loss: 0.0045 - val_mse: 0.0045\n",
            "Epoch 29/100\n",
            "257/257 [==============================] - 1s 3ms/step - loss: 0.0016 - mse: 0.0016 - val_loss: 0.0047 - val_mse: 0.0047\n",
            "Epoch 30/100\n",
            "257/257 [==============================] - 1s 2ms/step - loss: 0.0016 - mse: 0.0016 - val_loss: 0.0046 - val_mse: 0.0046\n",
            "Epoch 31/100\n",
            "257/257 [==============================] - 1s 3ms/step - loss: 0.0016 - mse: 0.0016 - val_loss: 0.0047 - val_mse: 0.0047\n",
            "Epoch 32/100\n",
            "257/257 [==============================] - 1s 3ms/step - loss: 0.0016 - mse: 0.0016 - val_loss: 0.0045 - val_mse: 0.0045\n",
            "Epoch 33/100\n",
            "257/257 [==============================] - 1s 3ms/step - loss: 0.0016 - mse: 0.0016 - val_loss: 0.0048 - val_mse: 0.0048\n",
            "Epoch 34/100\n",
            "257/257 [==============================] - 1s 3ms/step - loss: 0.0015 - mse: 0.0015 - val_loss: 0.0046 - val_mse: 0.0046\n",
            "Epoch 35/100\n",
            "257/257 [==============================] - 1s 3ms/step - loss: 0.0015 - mse: 0.0015 - val_loss: 0.0047 - val_mse: 0.0047\n",
            "Epoch 36/100\n",
            "257/257 [==============================] - 1s 3ms/step - loss: 0.0016 - mse: 0.0016 - val_loss: 0.0047 - val_mse: 0.0047\n",
            "Epoch 37/100\n",
            "257/257 [==============================] - 1s 3ms/step - loss: 0.0015 - mse: 0.0015 - val_loss: 0.0045 - val_mse: 0.0045\n",
            "Epoch 38/100\n",
            "257/257 [==============================] - 1s 2ms/step - loss: 0.0015 - mse: 0.0015 - val_loss: 0.0047 - val_mse: 0.0047\n",
            "Epoch 39/100\n",
            "257/257 [==============================] - 1s 3ms/step - loss: 0.0015 - mse: 0.0015 - val_loss: 0.0049 - val_mse: 0.0049\n",
            "Epoch 40/100\n",
            "257/257 [==============================] - 1s 3ms/step - loss: 0.0015 - mse: 0.0015 - val_loss: 0.0047 - val_mse: 0.0047\n",
            "Epoch 41/100\n",
            "257/257 [==============================] - 1s 3ms/step - loss: 0.0015 - mse: 0.0015 - val_loss: 0.0048 - val_mse: 0.0048\n",
            "Epoch 42/100\n",
            "257/257 [==============================] - 1s 3ms/step - loss: 0.0015 - mse: 0.0015 - val_loss: 0.0046 - val_mse: 0.0046\n",
            "Epoch 43/100\n",
            "257/257 [==============================] - 1s 2ms/step - loss: 0.0015 - mse: 0.0015 - val_loss: 0.0048 - val_mse: 0.0048\n",
            "Epoch 44/100\n",
            "257/257 [==============================] - 1s 3ms/step - loss: 0.0015 - mse: 0.0015 - val_loss: 0.0045 - val_mse: 0.0045\n",
            "Epoch 45/100\n",
            "257/257 [==============================] - 1s 3ms/step - loss: 0.0015 - mse: 0.0015 - val_loss: 0.0049 - val_mse: 0.0049\n",
            "Epoch 46/100\n",
            "257/257 [==============================] - 1s 3ms/step - loss: 0.0015 - mse: 0.0015 - val_loss: 0.0048 - val_mse: 0.0048\n",
            "Epoch 47/100\n",
            "257/257 [==============================] - 1s 3ms/step - loss: 0.0015 - mse: 0.0015 - val_loss: 0.0051 - val_mse: 0.0051\n",
            "Epoch 48/100\n",
            "257/257 [==============================] - 1s 3ms/step - loss: 0.0015 - mse: 0.0015 - val_loss: 0.0050 - val_mse: 0.0050\n",
            "Epoch 49/100\n",
            "257/257 [==============================] - 1s 3ms/step - loss: 0.0014 - mse: 0.0014 - val_loss: 0.0047 - val_mse: 0.0047\n",
            "Epoch 50/100\n",
            "257/257 [==============================] - 1s 3ms/step - loss: 0.0014 - mse: 0.0014 - val_loss: 0.0047 - val_mse: 0.0047\n",
            "Epoch 51/100\n",
            "257/257 [==============================] - 1s 3ms/step - loss: 0.0014 - mse: 0.0014 - val_loss: 0.0048 - val_mse: 0.0048\n",
            "Epoch 52/100\n",
            "257/257 [==============================] - 1s 3ms/step - loss: 0.0015 - mse: 0.0015 - val_loss: 0.0048 - val_mse: 0.0048\n",
            "Epoch 53/100\n",
            "257/257 [==============================] - 1s 3ms/step - loss: 0.0014 - mse: 0.0014 - val_loss: 0.0048 - val_mse: 0.0048\n",
            "Epoch 54/100\n",
            "257/257 [==============================] - 1s 3ms/step - loss: 0.0014 - mse: 0.0014 - val_loss: 0.0049 - val_mse: 0.0049\n",
            "Epoch 55/100\n",
            "257/257 [==============================] - 1s 3ms/step - loss: 0.0014 - mse: 0.0014 - val_loss: 0.0048 - val_mse: 0.0048\n",
            "Epoch 56/100\n",
            "257/257 [==============================] - 1s 3ms/step - loss: 0.0014 - mse: 0.0014 - val_loss: 0.0049 - val_mse: 0.0049\n",
            "Epoch 57/100\n",
            "257/257 [==============================] - 1s 3ms/step - loss: 0.0014 - mse: 0.0014 - val_loss: 0.0051 - val_mse: 0.0051\n",
            "Epoch 58/100\n",
            "257/257 [==============================] - 1s 3ms/step - loss: 0.0014 - mse: 0.0014 - val_loss: 0.0048 - val_mse: 0.0048\n",
            "Epoch 59/100\n",
            "257/257 [==============================] - 1s 3ms/step - loss: 0.0014 - mse: 0.0014 - val_loss: 0.0048 - val_mse: 0.0048\n",
            "Epoch 60/100\n",
            "257/257 [==============================] - 1s 3ms/step - loss: 0.0014 - mse: 0.0014 - val_loss: 0.0049 - val_mse: 0.0049\n",
            "Epoch 61/100\n",
            "257/257 [==============================] - 1s 3ms/step - loss: 0.0014 - mse: 0.0014 - val_loss: 0.0048 - val_mse: 0.0048\n",
            "Epoch 62/100\n",
            "257/257 [==============================] - 1s 3ms/step - loss: 0.0014 - mse: 0.0014 - val_loss: 0.0048 - val_mse: 0.0048\n",
            "Epoch 63/100\n",
            "257/257 [==============================] - 1s 3ms/step - loss: 0.0014 - mse: 0.0014 - val_loss: 0.0049 - val_mse: 0.0049\n",
            "Epoch 64/100\n",
            "257/257 [==============================] - 1s 3ms/step - loss: 0.0013 - mse: 0.0013 - val_loss: 0.0051 - val_mse: 0.0051\n",
            "Epoch 65/100\n",
            "257/257 [==============================] - 1s 3ms/step - loss: 0.0013 - mse: 0.0013 - val_loss: 0.0048 - val_mse: 0.0048\n",
            "Epoch 66/100\n",
            "257/257 [==============================] - 1s 3ms/step - loss: 0.0013 - mse: 0.0013 - val_loss: 0.0050 - val_mse: 0.0050\n",
            "Epoch 67/100\n",
            "257/257 [==============================] - 1s 3ms/step - loss: 0.0013 - mse: 0.0013 - val_loss: 0.0051 - val_mse: 0.0051\n",
            "Epoch 68/100\n",
            "257/257 [==============================] - 1s 3ms/step - loss: 0.0013 - mse: 0.0013 - val_loss: 0.0051 - val_mse: 0.0051\n",
            "Epoch 69/100\n",
            "257/257 [==============================] - 1s 3ms/step - loss: 0.0013 - mse: 0.0013 - val_loss: 0.0049 - val_mse: 0.0049\n",
            "Epoch 70/100\n",
            "257/257 [==============================] - 1s 3ms/step - loss: 0.0013 - mse: 0.0013 - val_loss: 0.0050 - val_mse: 0.0050\n",
            "Epoch 71/100\n",
            "257/257 [==============================] - 1s 3ms/step - loss: 0.0013 - mse: 0.0013 - val_loss: 0.0049 - val_mse: 0.0049\n",
            "Epoch 72/100\n",
            "257/257 [==============================] - 1s 3ms/step - loss: 0.0013 - mse: 0.0013 - val_loss: 0.0049 - val_mse: 0.0049\n",
            "Epoch 73/100\n",
            "257/257 [==============================] - 1s 2ms/step - loss: 0.0013 - mse: 0.0013 - val_loss: 0.0051 - val_mse: 0.0051\n",
            "Epoch 74/100\n",
            "257/257 [==============================] - 1s 3ms/step - loss: 0.0013 - mse: 0.0013 - val_loss: 0.0049 - val_mse: 0.0049\n",
            "Epoch 75/100\n",
            "257/257 [==============================] - 1s 3ms/step - loss: 0.0013 - mse: 0.0013 - val_loss: 0.0049 - val_mse: 0.0049\n",
            "Epoch 76/100\n",
            "257/257 [==============================] - 1s 3ms/step - loss: 0.0013 - mse: 0.0013 - val_loss: 0.0049 - val_mse: 0.0049\n",
            "Epoch 77/100\n",
            "257/257 [==============================] - 1s 3ms/step - loss: 0.0012 - mse: 0.0012 - val_loss: 0.0050 - val_mse: 0.0050\n",
            "Epoch 78/100\n",
            "257/257 [==============================] - 1s 3ms/step - loss: 0.0013 - mse: 0.0013 - val_loss: 0.0049 - val_mse: 0.0049\n",
            "Epoch 79/100\n",
            "257/257 [==============================] - 1s 3ms/step - loss: 0.0012 - mse: 0.0012 - val_loss: 0.0051 - val_mse: 0.0051\n",
            "Epoch 80/100\n",
            "257/257 [==============================] - 1s 3ms/step - loss: 0.0012 - mse: 0.0012 - val_loss: 0.0051 - val_mse: 0.0051\n",
            "Epoch 81/100\n",
            "257/257 [==============================] - 1s 3ms/step - loss: 0.0012 - mse: 0.0012 - val_loss: 0.0052 - val_mse: 0.0052\n",
            "Epoch 82/100\n",
            "257/257 [==============================] - 1s 3ms/step - loss: 0.0012 - mse: 0.0012 - val_loss: 0.0052 - val_mse: 0.0052\n",
            "Epoch 83/100\n",
            "257/257 [==============================] - 1s 3ms/step - loss: 0.0012 - mse: 0.0012 - val_loss: 0.0052 - val_mse: 0.0052\n",
            "Epoch 84/100\n",
            "257/257 [==============================] - 1s 3ms/step - loss: 0.0012 - mse: 0.0012 - val_loss: 0.0050 - val_mse: 0.0050\n",
            "Epoch 85/100\n",
            "257/257 [==============================] - 1s 3ms/step - loss: 0.0012 - mse: 0.0012 - val_loss: 0.0053 - val_mse: 0.0053\n",
            "Epoch 86/100\n",
            "257/257 [==============================] - 1s 3ms/step - loss: 0.0012 - mse: 0.0012 - val_loss: 0.0053 - val_mse: 0.0053\n",
            "Epoch 87/100\n",
            "257/257 [==============================] - 1s 3ms/step - loss: 0.0012 - mse: 0.0012 - val_loss: 0.0050 - val_mse: 0.0050\n",
            "Epoch 88/100\n",
            "257/257 [==============================] - 1s 3ms/step - loss: 0.0012 - mse: 0.0012 - val_loss: 0.0050 - val_mse: 0.0050\n",
            "Epoch 89/100\n",
            "257/257 [==============================] - 1s 3ms/step - loss: 0.0012 - mse: 0.0012 - val_loss: 0.0052 - val_mse: 0.0052\n",
            "Epoch 90/100\n",
            "257/257 [==============================] - 1s 3ms/step - loss: 0.0012 - mse: 0.0012 - val_loss: 0.0052 - val_mse: 0.0052\n",
            "Epoch 91/100\n",
            "257/257 [==============================] - 1s 3ms/step - loss: 0.0012 - mse: 0.0012 - val_loss: 0.0051 - val_mse: 0.0051\n",
            "Epoch 92/100\n",
            "257/257 [==============================] - 1s 3ms/step - loss: 0.0012 - mse: 0.0012 - val_loss: 0.0052 - val_mse: 0.0052\n",
            "Epoch 93/100\n",
            "257/257 [==============================] - 1s 3ms/step - loss: 0.0011 - mse: 0.0011 - val_loss: 0.0052 - val_mse: 0.0052\n",
            "Epoch 94/100\n",
            "257/257 [==============================] - 1s 3ms/step - loss: 0.0011 - mse: 0.0011 - val_loss: 0.0052 - val_mse: 0.0052\n",
            "Epoch 95/100\n",
            "257/257 [==============================] - 1s 3ms/step - loss: 0.0011 - mse: 0.0011 - val_loss: 0.0050 - val_mse: 0.0050\n",
            "Epoch 96/100\n",
            "257/257 [==============================] - 1s 3ms/step - loss: 0.0011 - mse: 0.0011 - val_loss: 0.0053 - val_mse: 0.0053\n",
            "Epoch 97/100\n",
            "257/257 [==============================] - 1s 3ms/step - loss: 0.0011 - mse: 0.0011 - val_loss: 0.0054 - val_mse: 0.0054\n",
            "Epoch 98/100\n",
            "257/257 [==============================] - 1s 3ms/step - loss: 0.0011 - mse: 0.0011 - val_loss: 0.0052 - val_mse: 0.0052\n",
            "Epoch 99/100\n",
            "257/257 [==============================] - 1s 3ms/step - loss: 0.0011 - mse: 0.0011 - val_loss: 0.0056 - val_mse: 0.0056\n",
            "Epoch 100/100\n",
            "257/257 [==============================] - 1s 3ms/step - loss: 0.0011 - mse: 0.0011 - val_loss: 0.0052 - val_mse: 0.0052\n"
          ]
        }
      ]
    },
    {
      "cell_type": "code",
      "source": [
        "pred = model.predict(test_data)\n",
        "pred = target_scaler.inverse_transform(pred)"
      ],
      "metadata": {
        "id": "-MULzYrby_nE"
      },
      "execution_count": null,
      "outputs": []
    },
    {
      "cell_type": "code",
      "source": [
        "test_df = pd.concat([test['la'], test['dl'], test['tpe']])\n",
        "test_df.value = pred"
      ],
      "metadata": {
        "id": "sLnfppLg0MZ-"
      },
      "execution_count": null,
      "outputs": []
    },
    {
      "cell_type": "code",
      "source": [
        "submission = pd.read_csv(RAW / 'submission_format.csv', parse_dates=['datetime'])"
      ],
      "metadata": {
        "id": "Ex1fLSlj0lmS"
      },
      "execution_count": null,
      "outputs": []
    },
    {
      "cell_type": "code",
      "source": [
        "for i in tqdm(range(len(submission))):\n",
        "    sample = submission.iloc[i]\n",
        "    if len(test_df[(test_df.datetime == sample.datetime) & (test_df.grid_id == sample.grid_id)]) != 1:\n",
        "        print(len(test_df[(test_df.datetime == sample.datetime) & (test_df.grid_id == sample.grid_id)]))\n",
        "        break \n",
        "        \n",
        "    submission.loc[i, 'value'] = test_df[(test_df.datetime == sample.datetime) & (test_df.grid_id == sample.grid_id)].value.values[0]"
      ],
      "metadata": {
        "colab": {
          "base_uri": "https://localhost:8080/"
        },
        "id": "k7zp0p030rz1",
        "outputId": "635d8c95-547c-40f8-a949-c9b877f7565c"
      },
      "execution_count": null,
      "outputs": [
        {
          "output_type": "stream",
          "name": "stderr",
          "text": [
            "100%|██████████| 13504/13504 [00:46<00:00, 290.55it/s]\n"
          ]
        }
      ]
    },
    {
      "cell_type": "code",
      "source": [
        "submission_format = pd.read_csv(RAW / 'submission_format.csv')\n",
        "submission_format.value = submission.value\n",
        "submission_format.to_csv(DATA_PATH / 'submission/feed_forward.csv', index=False)"
      ],
      "metadata": {
        "id": "Cv8iZNwh05zZ"
      },
      "execution_count": null,
      "outputs": []
    },
    {
      "cell_type": "code",
      "source": [
        ""
      ],
      "metadata": {
        "id": "k1uKQmnh7xKX"
      },
      "execution_count": null,
      "outputs": []
    }
  ]
}